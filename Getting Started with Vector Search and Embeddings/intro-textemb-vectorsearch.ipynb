{
 "cells": [
  {
   "cell_type": "code",
   "execution_count": null,
   "metadata": {
    "id": "c3_K0GGSTrhd"
   },
   "outputs": [],
   "source": [
    "# Copyright 2023 Google LLC\n",
    "#\n",
    "# Licensed under the Apache License, Version 2.0 (the \"License\");\n",
    "# you may not use this file except in compliance with the License.\n",
    "# You may obtain a copy of the License at\n",
    "#\n",
    "#     https://www.apache.org/licenses/LICENSE-2.0\n",
    "#\n",
    "# Unless required by applicable law or agreed to in writing, software\n",
    "# distributed under the License is distributed on an \"AS IS\" BASIS,\n",
    "# WITHOUT WARRANTIES OR CONDITIONS OF ANY KIND, either express or implied.\n",
    "# See the License for the specific language governing permissions and\n",
    "# limitations under the License."
   ]
  },
  {
   "cell_type": "markdown",
   "metadata": {
    "id": "7VQkf8sFTeDo"
   },
   "source": [
    "# Getting Started with Text Embeddings + Vertex AI Vector Search\n",
    "\n",
    "\n",
    "<table align=\"left\">\n",
    "  <td style=\"text-align: center\">\n",
    "    <a href=\"https://colab.research.google.com/github/GoogleCloudPlatform/generative-ai/blob/main/embeddings/intro-textemb-vectorsearch.ipynb\">\n",
    "      <img src=\"https://cloud.google.com/ml-engine/images/colab-logo-32px.png\" alt=\"Google Colaboratory logo\"><br> Run in Colab\n",
    "    </a>\n",
    "  </td>\n",
    "  <td style=\"text-align: center\">\n",
    "    <a href=\"https://github.com/GoogleCloudPlatform/generative-ai/blob/main/embeddings/intro-textemb-vectorsearch.ipynb\">\n",
    "      <img src=\"https://cloud.google.com/ml-engine/images/github-logo-32px.png\" alt=\"GitHub logo\"><br> View on GitHub\n",
    "    </a>\n",
    "  </td>\n",
    "  <td style=\"text-align: center\">\n",
    "    <a href=\"https://console.cloud.google.com/vertex-ai/workbench/deploy-notebook?download_url=https://raw.githubusercontent.com/GoogleCloudPlatform/generative-ai/main/embeddings/intro-textemb-vectorsearch.ipynb\">\n",
    "      <img src=\"https://lh3.googleusercontent.com/UiNooY4LUgW_oTvpsNhPpQzsstV5W8F7rYgxgGBD85cWJoLmrOzhVs_ksK_vgx40SHs7jCqkTkCk=e14-rj-sc0xffffff-h130-w32\" alt=\"Vertex AI logo\"><br> Open in Vertex AI Workbench\n",
    "    </a>\n",
    "  </td>\n",
    "</table>"
   ]
  },
  {
   "cell_type": "markdown",
   "metadata": {
    "id": "4d742715e6de"
   },
   "source": [
    "| | |\n",
    "|-|-|\n",
    "|Author(s) | [Smitha Venkat](https://github.com/smitha-google), [Kaz Sato](https://github.com/kazunori279)|"
   ]
  },
  {
   "cell_type": "markdown",
   "metadata": {
    "id": "25a71983a324"
   },
   "source": [
    "## Introduction\n",
    "\n",
    "In this tutorial, you learn how to use Google Cloud AI tools to quickly bring the power of Large Language Models to enterprise systems.  \n",
    "\n",
    "This tutorial covers the following -\n",
    "\n",
    "*   What are embeddings - what business challenges do they help solve ?\n",
    "*   Understanding Text with Vertex AI Text Embeddings\n",
    "*   Find Embeddings fast with Vertex AI Vector Search\n",
    "*   Grounding LLM outputs with Vector Search\n",
    "\n",
    "This tutorial is based on [the blog post](https://cloud.google.com/blog/products/ai-machine-learning/how-to-use-grounding-for-your-llms-with-text-embeddings), combined with sample code.\n",
    "\n",
    "\n",
    "### Prerequisites\n",
    "\n",
    "This tutorial is designed for developers who has basic knowledge and experience with Python programming and machine learning.\n",
    "\n",
    "If you are not reading this tutorial in Qwiklab, then you need to have a Google Cloud project that is linked to a billing account to run this. Please go through [this document](https://cloud.google.com/vertex-ai/docs/start/cloud-environment) to create a project and setup a billing account for it.\n",
    "\n",
    "### Choose the runtime environment\n",
    "\n",
    "The notebook can be run on either Google Colab or [Vertex AI Workbench](https://cloud.google.com/vertex-ai-workbench).\n",
    "\n",
    "- To use Colab: Click [this link](https://colab.research.google.com/github/GoogleCloudPlatform/generative-ai/blob/main/embeddings/intro-textemb-vectorsearch.ipynb) to open the tutorial in Colab.\n",
    "\n",
    "- To use Workbench: If it is the first time to use Workbench in your Google Cloud project, open [the Workbench console](https://console.cloud.google.com/vertex-ai/workbench) and click ENABLE button to enable Notebooks API. Then click [this link](https://console.cloud.google.com/vertex-ai/workbench/deploy-notebook?download_url=https://raw.githubusercontent.com/GoogleCloudPlatform/generative-ai/main/embeddings/intro-textemb-vectorsearch.ipynb),  and select an existing notebook or create a new notebook.\n"
   ]
  },
  {
   "cell_type": "markdown",
   "metadata": {
    "id": "2pImjuenUIQz"
   },
   "source": [
    "### How much will this cost?\n",
    "\n",
    "In case you are using your own Cloud project, not a temporary project on Qwiklab, you need to spend roughly a few US dollars to finish this tutorial.\n",
    "\n",
    "The pricing of the Cloud services we will use in this tutorial are available in the following pages:\n",
    "\n",
    "- [Vertex AI Embeddings for Text](https://cloud.google.com/vertex-ai/pricing#generative_ai_models)\n",
    "- [Vertex AI Vector Search](https://cloud.google.com/vertex-ai/pricing#matchingengine)\n",
    "- [BigQuery](https://cloud.google.com/bigquery/pricing)\n",
    "- [Cloud Storage](https://cloud.google.com/storage/pricing)\n",
    "- [Vertex AI Workbench](https://cloud.google.com/vertex-ai/pricing#notebooks) if you use one\n",
    "\n",
    "You can use the [Pricing Calculator](https://cloud.google.com/products/calculator) to generate a cost estimate based on your projected usage. The following is an example of rough cost estimation with the calculator, assuming you will go through this tutorial a couple of time.\n",
    "\n",
    "<img src=\"https://storage.googleapis.com/github-repo/img/embeddings/vs-quickstart/pricing.png\" width=\"50%\"/>\n",
    "\n",
    "### **Warning: delete your objects after the tutorial**\n",
    "\n",
    "In case you are using your own Cloud project, please make sure to delete all the Indexes, Index Endpoints and Cloud Storage buckets (and the Workbench instance if you use one) after finishing this tutorial. Otherwise the remaining assets would incur unexpected costs.\n"
   ]
  },
  {
   "cell_type": "markdown",
   "metadata": {
    "id": "6Fu2OoUDTQ6w"
   },
   "source": [
    "# Bringing Gen AI and LLMs to production services\n",
    "\n",
    "Many people are now starting to think about how to bring Gen AI and LLMs to production services, and facing with several challenges.\n",
    "\n",
    "- \"How to integrate LLMs or AI chatbots with existing IT systems, databases and business data?\"\n",
    "- \"We have thousands of products. How can I let LLM memorize them all precisely?\"\n",
    "- \"How to handle the hallucination issues in AI chatbots to build a reliable service?\"\n",
    "\n",
    "Here is a quick solution: **grounding** with **embeddings** and **vector search**.\n",
    "\n",
    "What is grounding? What are embedding and vector search? In this tutorial, we will learn these crucial concepts to build reliable Gen AI services for enterprise use. But before we dive deeper, let's try the demo below."
   ]
  },
  {
   "cell_type": "markdown",
   "metadata": {
    "id": "ORqZYLgTm9pJ"
   },
   "source": [
    "![](https://storage.googleapis.com/gweb-cloudblog-publish/original_images/1._demo_animation.gif)\n",
    "\n",
    "**Exercise: Try the Stack Overflow semantic search demo:**\n",
    "\n",
    "This demo is available as a [public live demo](https://ai-demos.dev/). Select \"STACKOVERFLOW\" and enter any coding question as a query, so it runs a text search on **8 million** questions posted on [Stack Overflow](https://stackoverflow.com/). Try the text semantic search with some queries like 'How to shuffle rows in SQL?' or arbitrary programming questions.\n",
    "\n",
    "In this tutorial, we are going to see how to build a similar search experience - what is involved in building solutions like this using Vertex AI Embeddings API and Vector Search."
   ]
  },
  {
   "cell_type": "markdown",
   "metadata": {
    "id": "H1MAIOkCw35V"
   },
   "source": [
    "# What is Embeddings?\n",
    "\n",
    "With the rise of LLMs, why is it becoming important for IT engineers and ITDMs to understand how they work?\n",
    "\n",
    "In traditional IT systems, most data is organized as structured or tabular data, using simple keywords, labels, and categories in databases and search engines.\n",
    "\n",
    "![](https://storage.googleapis.com/github-repo/img/embeddings/textemb-vs-notebook/1.png)\n",
    "\n",
    "In contrast, AI-powered services arrange data into a simple data structure known as \"embeddings.\"\n",
    "\n",
    "![](https://storage.googleapis.com/github-repo/img/embeddings/textemb-vs-notebook/2.png)"
   ]
  },
  {
   "cell_type": "markdown",
   "metadata": {
    "id": "hJqjBmQsxz2Z"
   },
   "source": [
    "Once trained with specific content like text, images, or any content, AI creates a space called \"embedding space\", which is essentially a map of the content's meaning.\n",
    "\n",
    "![](https://storage.googleapis.com/github-repo/img/embeddings/textemb-vs-notebook/3.png)\n",
    "\n",
    "AI can identify the location of each content on the map, that's what embedding is.\n",
    "\n",
    "![](https://storage.googleapis.com/github-repo/img/embeddings/textemb-vs-notebook/4.png)\n",
    "\n",
    "Let's take an example where a text discusses movies, music, and actors, with a distribution of 10%, 2%, and 30%, respectively. In this case, the AI can create an embedding with three values: 0.1, 0.02, and 0.3, in 3 dimensional space.\n",
    "\n",
    "![](https://storage.googleapis.com/github-repo/img/embeddings/textemb-vs-notebook/5.png)\n",
    "\n",
    "AI can put content with similar meanings closely together in the space."
   ]
  },
  {
   "cell_type": "markdown",
   "metadata": {
    "id": "A5z7vyTyzk_4"
   },
   "source": [
    "This is how Google organizes data across various services like Google Search, YouTube, Play, and many others, to provide search results and recommendations with relevant content.\n",
    "\n",
    "Embeddings can also be used to represent different types of things in businesses, such as products, users, user activities, conversations, music & videos, signals from IoT sensors, and so on."
   ]
  },
  {
   "cell_type": "markdown",
   "metadata": {
    "id": "tpKVmyEe0ab9"
   },
   "source": [
    "AI and Embeddings are now playing a crucial role in creating a new way of human-computer interaction.\n",
    "\n",
    "![](https://storage.googleapis.com/github-repo/img/embeddings/textemb-vs-notebook/6.png)\n",
    "\n",
    "AI organizes data into embeddings, which represent what the user is looking for, the meaning of contents, or many other things you have in your business. This creates a new level of user experience that is becoming the new standard.\n",
    "\n",
    "To learn more about embeddings, [Foundational courses: Embeddings on Google Machine Learning Crush Course](https://developers.google.com/machine-learning/crash-course/embeddings/video-lecture) and [Meet AI's multitool: Vector embeddings by Dale Markowitz](https://cloud.google.com/blog/topics/developers-practitioners/meet-ais-multitool-vector-embeddings) are great materials.\n"
   ]
  },
  {
   "cell_type": "markdown",
   "metadata": {
    "id": "ovQpiL2GUEXa"
   },
   "source": [
    "# Vertex AI Embeddings for Text\n",
    "\n",
    "With the [Vertex AI Embeddings for Text](https://cloud.google.com/vertex-ai/docs/generative-ai/embeddings/get-text-embeddings), you can easily create a text embedding with LLM. The product is also available on [Vertex AI Model Garden](https://cloud.google.com/model-garden)\n",
    "\n",
    "![](https://storage.googleapis.com/github-repo/img/embeddings/textemb-vs-notebook/7.png)\n",
    "\n",
    "This API is designed to extract embeddings from texts. It can take text input up to 2048 input tokens, and outputs 768 dimensional text embeddings."
   ]
  },
  {
   "cell_type": "markdown",
   "metadata": {
    "id": "nwJHDPG7lU52"
   },
   "source": [
    "## LLM text embedding business use cases\n",
    "\n",
    "With the embedding API, you can apply the innovation of embeddings, combined with the LLM capability, to various text processing tasks, such as:\n",
    "\n",
    "**LLM-enabled Semantic Search**: text embeddings can be used to represent both the meaning and intent of a user's query and documents in the embedding space. Documents that have similar meaning to the user's query intent will be found fast with vector search technology. The model is capable of generating text embeddings that capture the subtle nuances of each sentence and paragraphs in the document.\n",
    "\n",
    "**LLM-enabled Text Classification**: LLM text embeddings can be used for text classification with a deep understanding of different contexts without any training or fine-tuning (so-called zero-shot learning). This wasn't possible with the past language models without task-specific training.\n",
    "\n",
    "**LLM-enabled Recommendation**: The text embedding can be used for recommendation systems as a strong feature for training recommendation models such as Two-Tower model. The model learns the relationship between the query and candidate embeddings, resulting in next-gen user experience with semantic product recommendation.\n",
    "\n",
    "LLM-enabled Clustering, Anomaly Detection, Sentiment Analysis, and more, can be also handled with the LLM-level deep semantics understanding.\n"
   ]
  },
  {
   "cell_type": "markdown",
   "metadata": {
    "id": "ga5A7koYlvlZ"
   },
   "source": [
    "## Sorting 8 million texts at \"librarian-level\" precision\n",
    "\n",
    "Vertex AI Embeddings for Text has an embedding space with 768 dimensions. As explained earlier, the space represents a huge map of a wide variety of texts in the world, organized by their meanings. With each input text, the model can find a location (embedding) in the map.\n",
    "\n",
    "By visualizing the embedding space, you can actually observe how the model sorts the texts at the \"librarian-level\" precision.\n",
    "\n",
    "**Exercise: Try the Nomic AI Atlas**\n",
    "\n",
    "[Nomic AI](http://nomic.ai/) provides a platform called Atlas for storing, visualizing and interacting with embedding spaces with high scalability and in a smooth UI, and they worked with Google for visualizing the embedding space of the 8 million Stack Overflow questions. You can try exploring around the space, zooming in and out to each data point on your browser on this page, courtesy of Nomic AI.\n",
    "\n",
    "The embedding space represents a huge map of texts, organized by their meanings\n",
    "With each input text, the model can find a location (embedding) in the map\n",
    "Like a librarian reading through millions of texts, sorting them with millions of nano-categories\n",
    "\n",
    "Try exploring it [here](https://atlas.nomic.ai/map/edaff028-12b5-42a0-8e8b-6430c9b8222b/bcb42818-3581-4fb5-ac30-9883d01f98ec). Zoom into a few categories, point each dots, and see how the LLM is sorting similar questions close together in the space.\n",
    "\n",
    "![](https://storage.googleapis.com/gweb-cloudblog-publish/images/4._Nomic_AI_Atlas.max-2200x2200.png)\n",
    "\n",
    "### The librarian-level semantic understanding\n",
    "\n",
    "Here are the examples of the librarian-level semantic understanding by Embeddings API with Stack Overflow questions.\n",
    "\n",
    "![](https://storage.googleapis.com/gweb-cloudblog-publish/images/5._semantic_understanding.max-2200x2200.png)\n",
    "\n",
    "For example, the model thinks the question \"Does moving the request line to a header frame require an app change?\" is similar to the question \"Does an application developed on HTTP1x require modifications to run on HTTP2?\". That is because The model knows both questions talk about what's the change required to support the HTTP2 header frame.\n",
    "\n",
    "Note that this demo didn't require any training or fine-tuning with computer programming specific datasets. This is the innovative part of the zero-shot learning capability of the LLM. It can be applied to a wide variety of industries, including finance, healthcare, retail, manufacturing, construction, media, and more, for deep semantic search on the industry-focused business documents without spending time and cost for collecting industry specific datasets and training models."
   ]
  },
  {
   "cell_type": "markdown",
   "metadata": {
    "id": "-iOWOKnIvYxf"
   },
   "source": [
    "# Text Embeddings in Action\n",
    "\n",
    "Lets try using Text Embeddings in action with actual sample code."
   ]
  },
  {
   "cell_type": "markdown",
   "metadata": {
    "id": "AtXnXhF8U-8R"
   },
   "source": [
    "## Setup\n",
    "\n",
    "Before get started with the Vertex AI services, we need to setup the following.\n",
    "\n",
    "* Install Python SDK\n",
    "* Environment variables\n",
    "* Authentication (Colab only)\n",
    "* Enable APIs\n",
    "* Set IAM permissions"
   ]
  },
  {
   "cell_type": "markdown",
   "metadata": {
    "id": "UjnvWl6FLUlF"
   },
   "source": [
    "### Install Python SDK\n",
    "\n",
    "Vertex AI, Cloud Storage and BigQuery APIs can be accessed with multiple ways including REST API and Python SDK. In this tutorial we will use the SDK."
   ]
  },
  {
   "cell_type": "code",
   "execution_count": 1,
   "metadata": {
    "id": "FZgLGALt_al7",
    "tags": []
   },
   "outputs": [
    {
     "name": "stdout",
     "output_type": "stream",
     "text": [
      "Requirement already satisfied: google-cloud-aiplatform in /opt/conda/lib/python3.10/site-packages (1.67.1)\n",
      "Collecting google-cloud-aiplatform\n",
      "  Downloading google_cloud_aiplatform-1.68.0-py2.py3-none-any.whl.metadata (32 kB)\n",
      "Requirement already satisfied: google-cloud-storage in /opt/conda/lib/python3.10/site-packages (2.14.0)\n",
      "Collecting google-cloud-storage\n",
      "  Downloading google_cloud_storage-2.18.2-py2.py3-none-any.whl.metadata (9.1 kB)\n",
      "Requirement already satisfied: google-cloud-bigquery[pandas] in /opt/conda/lib/python3.10/site-packages (3.25.0)\n",
      "Requirement already satisfied: google-api-core!=2.0.*,!=2.1.*,!=2.2.*,!=2.3.*,!=2.4.*,!=2.5.*,!=2.6.*,!=2.7.*,<3.0.0dev,>=1.34.1 in /opt/conda/lib/python3.10/site-packages (from google-api-core[grpc]!=2.0.*,!=2.1.*,!=2.2.*,!=2.3.*,!=2.4.*,!=2.5.*,!=2.6.*,!=2.7.*,<3.0.0dev,>=1.34.1->google-cloud-aiplatform) (1.34.1)\n",
      "Requirement already satisfied: google-auth<3.0.0dev,>=2.14.1 in /opt/conda/lib/python3.10/site-packages (from google-cloud-aiplatform) (2.35.0)\n",
      "Requirement already satisfied: proto-plus<2.0.0dev,>=1.22.3 in /opt/conda/lib/python3.10/site-packages (from google-cloud-aiplatform) (1.24.0)\n",
      "Requirement already satisfied: protobuf!=4.21.0,!=4.21.1,!=4.21.2,!=4.21.3,!=4.21.4,!=4.21.5,<6.0.0dev,>=3.20.2 in /opt/conda/lib/python3.10/site-packages (from google-cloud-aiplatform) (3.20.3)\n",
      "Requirement already satisfied: packaging>=14.3 in /opt/conda/lib/python3.10/site-packages (from google-cloud-aiplatform) (24.1)\n",
      "Requirement already satisfied: google-cloud-resource-manager<3.0.0dev,>=1.3.3 in /opt/conda/lib/python3.10/site-packages (from google-cloud-aiplatform) (1.12.5)\n",
      "Requirement already satisfied: shapely<3.0.0dev in /opt/conda/lib/python3.10/site-packages (from google-cloud-aiplatform) (2.0.6)\n",
      "Requirement already satisfied: pydantic<3 in /opt/conda/lib/python3.10/site-packages (from google-cloud-aiplatform) (2.9.2)\n",
      "Requirement already satisfied: docstring-parser<1 in /opt/conda/lib/python3.10/site-packages (from google-cloud-aiplatform) (0.16)\n",
      "Collecting google-api-core!=2.0.*,!=2.1.*,!=2.2.*,!=2.3.*,!=2.4.*,!=2.5.*,!=2.6.*,!=2.7.*,<3.0.0dev,>=1.34.1 (from google-api-core[grpc]!=2.0.*,!=2.1.*,!=2.2.*,!=2.3.*,!=2.4.*,!=2.5.*,!=2.6.*,!=2.7.*,<3.0.0dev,>=1.34.1->google-cloud-aiplatform)\n",
      "  Downloading google_api_core-2.20.0-py3-none-any.whl.metadata (2.7 kB)\n",
      "Requirement already satisfied: google-cloud-core<3.0dev,>=2.3.0 in /opt/conda/lib/python3.10/site-packages (from google-cloud-storage) (2.4.1)\n",
      "Requirement already satisfied: google-resumable-media>=2.7.2 in /opt/conda/lib/python3.10/site-packages (from google-cloud-storage) (2.7.2)\n",
      "Requirement already satisfied: requests<3.0.0dev,>=2.18.0 in /opt/conda/lib/python3.10/site-packages (from google-cloud-storage) (2.32.3)\n",
      "Requirement already satisfied: google-crc32c<2.0dev,>=1.0 in /opt/conda/lib/python3.10/site-packages (from google-cloud-storage) (1.6.0)\n",
      "Requirement already satisfied: python-dateutil<3.0dev,>=2.7.2 in /opt/conda/lib/python3.10/site-packages (from google-cloud-bigquery[pandas]) (2.9.0.post0)\n",
      "Requirement already satisfied: pandas>=1.1.0 in /opt/conda/lib/python3.10/site-packages (from google-cloud-bigquery[pandas]) (2.2.3)\n",
      "Requirement already satisfied: pyarrow>=3.0.0 in /opt/conda/lib/python3.10/site-packages (from google-cloud-bigquery[pandas]) (15.0.2)\n",
      "Requirement already satisfied: db-dtypes<2.0.0dev,>=0.3.0 in /opt/conda/lib/python3.10/site-packages (from google-cloud-bigquery[pandas]) (1.3.0)\n",
      "Requirement already satisfied: numpy>=1.16.6 in /opt/conda/lib/python3.10/site-packages (from db-dtypes<2.0.0dev,>=0.3.0->google-cloud-bigquery[pandas]) (1.26.4)\n",
      "Requirement already satisfied: googleapis-common-protos<2.0.dev0,>=1.56.2 in /opt/conda/lib/python3.10/site-packages (from google-api-core!=2.0.*,!=2.1.*,!=2.2.*,!=2.3.*,!=2.4.*,!=2.5.*,!=2.6.*,!=2.7.*,<3.0.0dev,>=1.34.1->google-api-core[grpc]!=2.0.*,!=2.1.*,!=2.2.*,!=2.3.*,!=2.4.*,!=2.5.*,!=2.6.*,!=2.7.*,<3.0.0dev,>=1.34.1->google-cloud-aiplatform) (1.65.0)\n",
      "Requirement already satisfied: grpcio<2.0dev,>=1.33.2 in /opt/conda/lib/python3.10/site-packages (from google-api-core[grpc]!=2.0.*,!=2.1.*,!=2.2.*,!=2.3.*,!=2.4.*,!=2.5.*,!=2.6.*,!=2.7.*,<3.0.0dev,>=1.34.1->google-cloud-aiplatform) (1.66.1)\n",
      "Requirement already satisfied: grpcio-status<2.0.dev0,>=1.33.2 in /opt/conda/lib/python3.10/site-packages (from google-api-core[grpc]!=2.0.*,!=2.1.*,!=2.2.*,!=2.3.*,!=2.4.*,!=2.5.*,!=2.6.*,!=2.7.*,<3.0.0dev,>=1.34.1->google-cloud-aiplatform) (1.48.2)\n",
      "Requirement already satisfied: cachetools<6.0,>=2.0.0 in /opt/conda/lib/python3.10/site-packages (from google-auth<3.0.0dev,>=2.14.1->google-cloud-aiplatform) (5.5.0)\n",
      "Requirement already satisfied: pyasn1-modules>=0.2.1 in /opt/conda/lib/python3.10/site-packages (from google-auth<3.0.0dev,>=2.14.1->google-cloud-aiplatform) (0.4.1)\n",
      "Requirement already satisfied: rsa<5,>=3.1.4 in /opt/conda/lib/python3.10/site-packages (from google-auth<3.0.0dev,>=2.14.1->google-cloud-aiplatform) (4.9)\n",
      "Requirement already satisfied: grpc-google-iam-v1<1.0.0dev,>=0.12.4 in /opt/conda/lib/python3.10/site-packages (from google-cloud-resource-manager<3.0.0dev,>=1.3.3->google-cloud-aiplatform) (0.13.1)\n",
      "Requirement already satisfied: pytz>=2020.1 in /opt/conda/lib/python3.10/site-packages (from pandas>=1.1.0->google-cloud-bigquery[pandas]) (2024.2)\n",
      "Requirement already satisfied: tzdata>=2022.7 in /opt/conda/lib/python3.10/site-packages (from pandas>=1.1.0->google-cloud-bigquery[pandas]) (2024.1)\n",
      "Requirement already satisfied: annotated-types>=0.6.0 in /opt/conda/lib/python3.10/site-packages (from pydantic<3->google-cloud-aiplatform) (0.7.0)\n",
      "Requirement already satisfied: pydantic-core==2.23.4 in /opt/conda/lib/python3.10/site-packages (from pydantic<3->google-cloud-aiplatform) (2.23.4)\n",
      "Requirement already satisfied: typing-extensions>=4.6.1 in /opt/conda/lib/python3.10/site-packages (from pydantic<3->google-cloud-aiplatform) (4.12.2)\n",
      "Requirement already satisfied: six>=1.5 in /opt/conda/lib/python3.10/site-packages (from python-dateutil<3.0dev,>=2.7.2->google-cloud-bigquery[pandas]) (1.16.0)\n",
      "Requirement already satisfied: charset-normalizer<4,>=2 in /opt/conda/lib/python3.10/site-packages (from requests<3.0.0dev,>=2.18.0->google-cloud-storage) (3.3.2)\n",
      "Requirement already satisfied: idna<4,>=2.5 in /opt/conda/lib/python3.10/site-packages (from requests<3.0.0dev,>=2.18.0->google-cloud-storage) (3.8)\n",
      "Requirement already satisfied: urllib3<3,>=1.21.1 in /opt/conda/lib/python3.10/site-packages (from requests<3.0.0dev,>=2.18.0->google-cloud-storage) (1.26.20)\n",
      "Requirement already satisfied: certifi>=2017.4.17 in /opt/conda/lib/python3.10/site-packages (from requests<3.0.0dev,>=2.18.0->google-cloud-storage) (2024.8.30)\n",
      "Requirement already satisfied: pyasn1<0.7.0,>=0.4.6 in /opt/conda/lib/python3.10/site-packages (from pyasn1-modules>=0.2.1->google-auth<3.0.0dev,>=2.14.1->google-cloud-aiplatform) (0.6.1)\n",
      "Downloading google_cloud_aiplatform-1.68.0-py2.py3-none-any.whl (5.3 MB)\n",
      "\u001b[2K   \u001b[90m━━━━━━━━━━━━━━━━━━━━━━━━━━━━━━━━━━━━━━━━\u001b[0m \u001b[32m5.3/5.3 MB\u001b[0m \u001b[31m76.2 MB/s\u001b[0m eta \u001b[36m0:00:00\u001b[0m\n",
      "\u001b[?25hDownloading google_cloud_storage-2.18.2-py2.py3-none-any.whl (130 kB)\n",
      "Downloading google_api_core-2.20.0-py3-none-any.whl (142 kB)\n",
      "Installing collected packages: google-api-core, google-cloud-storage, google-cloud-aiplatform\n",
      "\u001b[33m  WARNING: The script tb-gcp-uploader is installed in '/home/jupyter/.local/bin' which is not on PATH.\n",
      "  Consider adding this directory to PATH or, if you prefer to suppress this warning, use --no-warn-script-location.\u001b[0m\u001b[33m\n",
      "\u001b[0m\u001b[31mERROR: pip's dependency resolver does not currently take into account all the packages that are installed. This behaviour is the source of the following dependency conflicts.\n",
      "google-api-python-client 1.8.0 requires google-api-core<2dev,>=1.13.0, but you have google-api-core 2.20.0 which is incompatible.\u001b[0m\u001b[31m\n",
      "\u001b[0mSuccessfully installed google-api-core-2.20.0 google-cloud-aiplatform-1.68.0 google-cloud-storage-2.18.2\n",
      "Note: you may need to restart the kernel to use updated packages.\n"
     ]
    }
   ],
   "source": [
    "%pip install --upgrade --user google-cloud-aiplatform google-cloud-storage 'google-cloud-bigquery[pandas]'"
   ]
  },
  {
   "cell_type": "markdown",
   "metadata": {
    "id": "R5Xep4W9lq-Z"
   },
   "source": [
    "### Restart current runtime\n",
    "\n",
    "To use the newly installed packages in this Jupyter runtime, you must restart the runtime. You can do this by running the cell below, which will restart the current kernel."
   ]
  },
  {
   "cell_type": "code",
   "execution_count": 2,
   "metadata": {
    "id": "XRvKdaPDTznN",
    "tags": []
   },
   "outputs": [
    {
     "data": {
      "text/plain": [
       "{'status': 'ok', 'restart': True}"
      ]
     },
     "execution_count": 2,
     "metadata": {},
     "output_type": "execute_result"
    }
   ],
   "source": [
    "# Restart kernel after installs so that your environment can access the new packages\n",
    "import IPython\n",
    "\n",
    "app = IPython.Application.instance()\n",
    "app.kernel.do_shutdown(True)"
   ]
  },
  {
   "cell_type": "markdown",
   "metadata": {
    "id": "SbmM4z7FOBpM"
   },
   "source": [
    "<div class=\"alert alert-block alert-warning\">\n",
    "<b>⚠️ The kernel is going to restart. Please wait until it is finished before continuing to the next step. ⚠️</b>\n",
    "</div>\n"
   ]
  },
  {
   "cell_type": "markdown",
   "metadata": {
    "id": "nCoTvkOJoh76"
   },
   "source": [
    "### Environment variables\n",
    "\n",
    "Sets environment variables. If asked, please replace the following `[your-project-id]` with your project ID and run it."
   ]
  },
  {
   "cell_type": "code",
   "execution_count": 1,
   "metadata": {
    "id": "fkmvFRrj3nQI",
    "tags": []
   },
   "outputs": [],
   "source": [
    "# get project ID\n",
    "PROJECT_ID = ! gcloud config get project\n",
    "PROJECT_ID = PROJECT_ID[0]\n",
    "LOCATION = \"us-central1\"\n",
    "if PROJECT_ID == \"(unset)\":\n",
    "    print(f\"Please set the project ID manually below\")"
   ]
  },
  {
   "cell_type": "code",
   "execution_count": 2,
   "metadata": {
    "id": "69XJ95rNoYG9",
    "tags": []
   },
   "outputs": [],
   "source": [
    "# define project information\n",
    "if PROJECT_ID == \"(unset)\":\n",
    "    PROJECT_ID = \"[your-project-id]\"  # @param {type:\"string\"}\n",
    "\n",
    "# generate an unique id for this session\n",
    "from datetime import datetime\n",
    "\n",
    "UID = datetime.now().strftime(\"%m%d%H%M\")"
   ]
  },
  {
   "cell_type": "markdown",
   "metadata": {
    "id": "ph7mDSMRVTIZ"
   },
   "source": [
    "### Authentication (Colab only)\n",
    "\n",
    "If you are running this notebook on Colab, you will need to run the following cell authentication. This step is not required if you are using Vertex AI Workbench as it is pre-authenticated."
   ]
  },
  {
   "cell_type": "code",
   "execution_count": 3,
   "metadata": {
    "id": "5jQkFtlimNXR",
    "tags": []
   },
   "outputs": [],
   "source": [
    "import sys\n",
    "\n",
    "# if it's Colab runtime, authenticate the user with Google Cloud\n",
    "if \"google.colab\" in sys.modules:\n",
    "    from google.colab import auth\n",
    "\n",
    "    auth.authenticate_user()"
   ]
  },
  {
   "cell_type": "markdown",
   "metadata": {
    "id": "jUPbl4IFLmC2"
   },
   "source": [
    "### Enable APIs\n",
    "\n",
    "Run the following to enable APIs for Compute Engine, Vertex AI, Cloud Storage and BigQuery with this Google Cloud project."
   ]
  },
  {
   "cell_type": "code",
   "execution_count": 4,
   "metadata": {
    "id": "qGf0qMMQNond",
    "tags": []
   },
   "outputs": [
    {
     "name": "stdout",
     "output_type": "stream",
     "text": [
      "Operation \"operations/acat.p2-630020070196-9e403c02-ac5f-4198-976a-1766acce6f30\" finished successfully.\n"
     ]
    }
   ],
   "source": [
    "! gcloud services enable compute.googleapis.com aiplatform.googleapis.com storage.googleapis.com bigquery.googleapis.com --project {PROJECT_ID}"
   ]
  },
  {
   "cell_type": "markdown",
   "metadata": {
    "id": "8cF8rkN3Lnhq"
   },
   "source": [
    "### Set IAM permissions\n",
    "\n",
    "Also, we need to add access permissions to the default service account for using those services.\n",
    "\n",
    "- Go to [the IAM page](https://console.cloud.google.com/iam-admin/) in the Console\n",
    "- Look for the principal for default compute service account. It should look like: `<project-number>-compute@developer.gserviceaccount.com`\n",
    "- Click the edit button at right and click `ADD ANOTHER ROLE` to add `Vertex AI User`, `BigQuery User` and `Storage Admin` to the account.\n",
    "\n",
    "This will look like this:\n",
    "\n",
    "![](https://storage.googleapis.com/github-repo/img/embeddings/vs-quickstart/iam-setting.png)"
   ]
  },
  {
   "cell_type": "markdown",
   "metadata": {
    "id": "mahCxLXHMIls"
   },
   "source": [
    "## Getting Started with Vertex AI Embeddings for Text\n",
    "\n",
    "Now it's ready to get started with embeddings!"
   ]
  },
  {
   "cell_type": "markdown",
   "metadata": {
    "id": "rq07_-o0VoZD"
   },
   "source": [
    "### Data Preparation\n",
    "\n",
    "We will be using [the Stack Overflow public dataset](https://console.cloud.google.com/marketplace/product/stack-exchange/stack-overflow) hosted on BigQuery table `bigquery-public-data.stackoverflow.posts_questions`. This is a very big dataset with 23 million rows that doesn't fit into the memory. We are going to limit it to 1000 rows for this tutorial."
   ]
  },
  {
   "cell_type": "code",
   "execution_count": 5,
   "metadata": {
    "id": "snrzPsEQDH4S",
    "tags": []
   },
   "outputs": [
    {
     "data": {
      "text/html": [
       "<div>\n",
       "<style scoped>\n",
       "    .dataframe tbody tr th:only-of-type {\n",
       "        vertical-align: middle;\n",
       "    }\n",
       "\n",
       "    .dataframe tbody tr th {\n",
       "        vertical-align: top;\n",
       "    }\n",
       "\n",
       "    .dataframe thead th {\n",
       "        text-align: right;\n",
       "    }\n",
       "</style>\n",
       "<table border=\"1\" class=\"dataframe\">\n",
       "  <thead>\n",
       "    <tr style=\"text-align: right;\">\n",
       "      <th></th>\n",
       "      <th>id</th>\n",
       "      <th>title</th>\n",
       "    </tr>\n",
       "  </thead>\n",
       "  <tbody>\n",
       "    <tr>\n",
       "      <th>0</th>\n",
       "      <td>64507047</td>\n",
       "      <td>How to use Leaflet's FeatureGroup with Overlap...</td>\n",
       "    </tr>\n",
       "    <tr>\n",
       "      <th>1</th>\n",
       "      <td>64440528</td>\n",
       "      <td>Log to AWS CloudWatch Logs in Nodejs log middl...</td>\n",
       "    </tr>\n",
       "    <tr>\n",
       "      <th>2</th>\n",
       "      <td>64391754</td>\n",
       "      <td>Perl DBI / FreeTDS / SQL-Server: How to insert...</td>\n",
       "    </tr>\n",
       "    <tr>\n",
       "      <th>3</th>\n",
       "      <td>64527587</td>\n",
       "      <td>Django 404 error GET Request URL: http://local...</td>\n",
       "    </tr>\n",
       "    <tr>\n",
       "      <th>4</th>\n",
       "      <td>64597955</td>\n",
       "      <td>Laravel Mail not rendering properly</td>\n",
       "    </tr>\n",
       "  </tbody>\n",
       "</table>\n",
       "</div>"
      ],
      "text/plain": [
       "         id                                              title\n",
       "0  64507047  How to use Leaflet's FeatureGroup with Overlap...\n",
       "1  64440528  Log to AWS CloudWatch Logs in Nodejs log middl...\n",
       "2  64391754  Perl DBI / FreeTDS / SQL-Server: How to insert...\n",
       "3  64527587  Django 404 error GET Request URL: http://local...\n",
       "4  64597955                Laravel Mail not rendering properly"
      ]
     },
     "execution_count": 5,
     "metadata": {},
     "output_type": "execute_result"
    }
   ],
   "source": [
    "# load the BQ Table into a Pandas DataFrame\n",
    "from google.cloud import bigquery\n",
    "\n",
    "QUESTIONS_SIZE = 1000\n",
    "\n",
    "bq_client = bigquery.Client(project=PROJECT_ID)\n",
    "QUERY_TEMPLATE = \"\"\"\n",
    "        SELECT distinct q.id, q.title\n",
    "        FROM (SELECT * FROM `bigquery-public-data.stackoverflow.posts_questions`\n",
    "        where Score > 0 ORDER BY View_Count desc) AS q\n",
    "        LIMIT {limit} ;\n",
    "        \"\"\"\n",
    "query = QUERY_TEMPLATE.format(limit=QUESTIONS_SIZE)\n",
    "query_job = bq_client.query(query)\n",
    "rows = query_job.result()\n",
    "df = rows.to_dataframe()\n",
    "\n",
    "# examine the data\n",
    "df.head()"
   ]
  },
  {
   "cell_type": "markdown",
   "metadata": {
    "id": "j6022U1FWzpb"
   },
   "source": [
    "### Call the API to generate embeddings\n",
    "\n",
    "With the Stack Overflow dataset, we will use the `title` column (the question title) and generate embedding for it with Embeddings for Text API. The API is available under the [vertexai](https://cloud.google.com/python/docs/reference/aiplatform/latest/vertexai) package of the SDK.\n",
    "\n",
    "You may see some warning messages from the TensorFlow library but you can ignore them."
   ]
  },
  {
   "cell_type": "code",
   "execution_count": 6,
   "metadata": {
    "id": "pY8M4DqO8wGx",
    "tags": []
   },
   "outputs": [],
   "source": [
    "# init the vertexai package\n",
    "import vertexai\n",
    "\n",
    "vertexai.init(project=PROJECT_ID, location=LOCATION)"
   ]
  },
  {
   "cell_type": "markdown",
   "metadata": {
    "id": "jrG82n-y-EC5"
   },
   "source": [
    "From the package, import [TextEmbeddingModel](https://cloud.google.com/python/docs/reference/aiplatform/latest/vertexai.language_models.TextEmbeddingModel) and get a model."
   ]
  },
  {
   "cell_type": "code",
   "execution_count": 7,
   "metadata": {
    "id": "YVLHjSeOGoTu",
    "tags": []
   },
   "outputs": [],
   "source": [
    "# Load the text embeddings model\n",
    "from vertexai.language_models import TextEmbeddingModel\n",
    "\n",
    "model = TextEmbeddingModel.from_pretrained(\"textembedding-gecko@001\")"
   ]
  },
  {
   "cell_type": "markdown",
   "metadata": {
    "id": "FqdVsgZDb_hc"
   },
   "source": [
    "In this tutorial we will use `textembedding-gecko@001` model for getting text embeddings. Please take a look at [Supported models](https://cloud.google.com/vertex-ai/docs/generative-ai/embeddings/get-text-embeddings#supported_models) on the doc to see the list of supported models.\n",
    "\n",
    "Once you get the model, you can call its [get_embeddings](https://cloud.google.com/python/docs/reference/aiplatform/latest/vertexai.language_models.TextEmbeddingModel#vertexai_language_models_TextEmbeddingModel_get_embeddings) function to get embeddings. You can pass up to 5 texts at once in a call. But there is a caveat. By default, the text embeddings API has a \"request per minute\" quota set to 60 for new Cloud projects and 600 for projects with usage history (see [Quotas and limits](https://cloud.google.com/vertex-ai/docs/quotas#request_quotas) to check the latest quota value for `base_model:textembedding-gecko`). So, rather than using the function directly, you may want to define a wrapper like below to limit under 10 calls per second, and pass 5 texts each time."
   ]
  },
  {
   "cell_type": "code",
   "execution_count": 8,
   "metadata": {
    "id": "8HUb9u_P2VWW",
    "tags": []
   },
   "outputs": [],
   "source": [
    "import time\n",
    "\n",
    "import tqdm  # to show a progress bar\n",
    "\n",
    "# get embeddings for a list of texts\n",
    "BATCH_SIZE = 5\n",
    "\n",
    "\n",
    "def get_embeddings_wrapper(texts):\n",
    "    embs = []\n",
    "    for i in tqdm.tqdm(range(0, len(texts), BATCH_SIZE)):\n",
    "        time.sleep(1)  # to avoid the quota error\n",
    "        result = model.get_embeddings(texts[i : i + BATCH_SIZE])\n",
    "        embs = embs + [e.values for e in result]\n",
    "    return embs"
   ]
  },
  {
   "cell_type": "markdown",
   "metadata": {
    "id": "aK4eTSPfcEuh"
   },
   "source": [
    "The following code will get embedding for the question titles and add them as a new column `embedding` to the DataFrame. This will take a few minutes."
   ]
  },
  {
   "cell_type": "code",
   "execution_count": 9,
   "metadata": {
    "id": "FcqPvu4PluN1",
    "tags": []
   },
   "outputs": [
    {
     "name": "stderr",
     "output_type": "stream",
     "text": [
      "100%|██████████| 200/200 [03:38<00:00,  1.09s/it]\n"
     ]
    },
    {
     "data": {
      "text/html": [
       "<div>\n",
       "<style scoped>\n",
       "    .dataframe tbody tr th:only-of-type {\n",
       "        vertical-align: middle;\n",
       "    }\n",
       "\n",
       "    .dataframe tbody tr th {\n",
       "        vertical-align: top;\n",
       "    }\n",
       "\n",
       "    .dataframe thead th {\n",
       "        text-align: right;\n",
       "    }\n",
       "</style>\n",
       "<table border=\"1\" class=\"dataframe\">\n",
       "  <thead>\n",
       "    <tr style=\"text-align: right;\">\n",
       "      <th></th>\n",
       "      <th>id</th>\n",
       "      <th>title</th>\n",
       "      <th>embedding</th>\n",
       "    </tr>\n",
       "  </thead>\n",
       "  <tbody>\n",
       "    <tr>\n",
       "      <th>0</th>\n",
       "      <td>64507047</td>\n",
       "      <td>How to use Leaflet's FeatureGroup with Overlap...</td>\n",
       "      <td>[-0.010113071650266647, 0.023674251511693, 0.0...</td>\n",
       "    </tr>\n",
       "    <tr>\n",
       "      <th>1</th>\n",
       "      <td>64440528</td>\n",
       "      <td>Log to AWS CloudWatch Logs in Nodejs log middl...</td>\n",
       "      <td>[-0.0010798049625009298, 0.023662788793444633,...</td>\n",
       "    </tr>\n",
       "    <tr>\n",
       "      <th>2</th>\n",
       "      <td>64391754</td>\n",
       "      <td>Perl DBI / FreeTDS / SQL-Server: How to insert...</td>\n",
       "      <td>[-0.013649697415530682, -0.0016968081472441554...</td>\n",
       "    </tr>\n",
       "    <tr>\n",
       "      <th>3</th>\n",
       "      <td>64527587</td>\n",
       "      <td>Django 404 error GET Request URL: http://local...</td>\n",
       "      <td>[-0.05698604881763458, 0.027140676975250244, 0...</td>\n",
       "    </tr>\n",
       "    <tr>\n",
       "      <th>4</th>\n",
       "      <td>64597955</td>\n",
       "      <td>Laravel Mail not rendering properly</td>\n",
       "      <td>[-0.014554446563124657, 0.010065341368317604, ...</td>\n",
       "    </tr>\n",
       "  </tbody>\n",
       "</table>\n",
       "</div>"
      ],
      "text/plain": [
       "         id                                              title  \\\n",
       "0  64507047  How to use Leaflet's FeatureGroup with Overlap...   \n",
       "1  64440528  Log to AWS CloudWatch Logs in Nodejs log middl...   \n",
       "2  64391754  Perl DBI / FreeTDS / SQL-Server: How to insert...   \n",
       "3  64527587  Django 404 error GET Request URL: http://local...   \n",
       "4  64597955                Laravel Mail not rendering properly   \n",
       "\n",
       "                                           embedding  \n",
       "0  [-0.010113071650266647, 0.023674251511693, 0.0...  \n",
       "1  [-0.0010798049625009298, 0.023662788793444633,...  \n",
       "2  [-0.013649697415530682, -0.0016968081472441554...  \n",
       "3  [-0.05698604881763458, 0.027140676975250244, 0...  \n",
       "4  [-0.014554446563124657, 0.010065341368317604, ...  "
      ]
     },
     "execution_count": 9,
     "metadata": {},
     "output_type": "execute_result"
    }
   ],
   "source": [
    "# get embeddings for the question titles and add them as \"embedding\" column\n",
    "df = df.assign(embedding=get_embeddings_wrapper(list(df.title)))\n",
    "df.head()"
   ]
  },
  {
   "cell_type": "markdown",
   "metadata": {
    "id": "nB53SiJjVN6e"
   },
   "source": [
    "## Look at the embedding similarities\n",
    "\n",
    "Let's see how these embeddings are organized in the embedding space with their meanings by quickly calculating the similarities between them and sorting them.\n",
    "\n",
    "As embeddings are vectors, you can calculate similarity between two embeddings by using one of the popular metrics like the followings:\n",
    "\n",
    "![](https://storage.googleapis.com/github-repo/img/embeddings/textemb-vs-notebook/8.png)\n",
    "\n",
    "Which metric should we use? Usually it depends on how each model is trained. In case of the model `textembedding-gecko@001`, we need to use inner product (dot product).\n",
    "\n",
    "In the following code, it picks up one question randomly and uses the numpy `np.dot` function to calculate the similarities between the question and other questions."
   ]
  },
  {
   "cell_type": "code",
   "execution_count": 10,
   "metadata": {
    "id": "lKs6jSu7NiM6",
    "tags": []
   },
   "outputs": [
    {
     "data": {
      "text/plain": [
       "array([0.54154941, 0.48782242, 0.4713251 , 0.48263415, 0.40609015])"
      ]
     },
     "execution_count": 10,
     "metadata": {},
     "output_type": "execute_result"
    }
   ],
   "source": [
    "import random\n",
    "\n",
    "import numpy as np\n",
    "\n",
    "# pick one of them as a key question\n",
    "key = random.randint(0, len(df))\n",
    "\n",
    "# calc dot product between the key and other questions\n",
    "embs = np.array(df.embedding.to_list())\n",
    "similarities = np.dot(embs[key], embs.T)\n",
    "\n",
    "# print similarities for the first 5 questions\n",
    "similarities[:5]"
   ]
  },
  {
   "cell_type": "markdown",
   "metadata": {
    "id": "srM04lJBQp4w"
   },
   "source": [
    "Finally, sort the questions with the similarities and print the list."
   ]
  },
  {
   "cell_type": "code",
   "execution_count": 11,
   "metadata": {
    "id": "lTUVvj9FQlab",
    "tags": []
   },
   "outputs": [
    {
     "name": "stdout",
     "output_type": "stream",
     "text": [
      "Key question: Create triangular mesh from vertex coordinates\n",
      "\n",
      "1.0000 Create triangular mesh from vertex coordinates\n",
      "0.6952 Unity's Mesh.CombineMeshes() seems to delete vertex information\n",
      "0.6749 Connecting the points of a dodged geom_point by group\n",
      "0.6725 Producing Buffer Radius Polygons - Possible Projection Issue\n",
      "0.6539 THREE.ParametricGeometry(func ,slices,stacks) the func execute times\n",
      "0.6438 cv2.moments for two contours\n",
      "0.6423 Transpose an already flattened square matrix\n",
      "0.6418 Save NetCDF through Xarray with dimensions given by two coordinates\n",
      "0.6307 How to make animated 3D scatter plot in plotly\n",
      "0.6300 How to identify standalone spheres in Julia?\n",
      "0.6294 Writing a graph with custom node objects to gml file in Networkx\n",
      "0.6286 How to change the spatial complexity of DP of binomial coefficient to O(n)?\n",
      "0.6256 Find nearest point on each line for all linestring intersections in geopandas df\n",
      "0.6256 conditional vectors, read ing the output\n",
      "0.6173 Encode an One-Hot Encoded Matrix to Single Array Integer Encoded\n",
      "0.6145 Filling a region in the complex plane in Matlab\n",
      "0.6139 select and count devices at a location based on coordinates of both\n",
      "0.6103 Compile SVG to embed glyphs\n",
      "0.6090 Julia - Frequency Tables to DataFrame\n",
      "0.6078 How to draw Pivot points using plotly?\n"
     ]
    }
   ],
   "source": [
    "# print the question\n",
    "print(f\"Key question: {df.title[key]}\\n\")\n",
    "\n",
    "# sort and print the questions by similarities\n",
    "sorted_questions = sorted(\n",
    "    zip(df.title, similarities), key=lambda x: x[1], reverse=True\n",
    ")[:20]\n",
    "for i, (question, similarity) in enumerate(sorted_questions):\n",
    "    print(f\"{similarity:.4f} {question}\")"
   ]
  },
  {
   "cell_type": "markdown",
   "metadata": {
    "id": "S75SQzAg1wHV"
   },
   "source": [
    "# Find embeddings fast with Vertex AI Vector Search\n",
    "\n",
    "As we have explained above, you can find similar embeddings by calculating the distance or similarity between the embeddings.\n",
    "\n",
    "But this isn't easy when you have millions or billions of embeddings. For example, if you have 1 million embeddings with 768 dimensions, you need to repeat the distance calculations for 1 million x 768 times. This would take some seconds - too slow."
   ]
  },
  {
   "cell_type": "markdown",
   "metadata": {
    "id": "0sjhTy-a47YH"
   },
   "source": [
    "So the researchers have been studying a technique called [Approximate Nearest Neighbor (ANN)](https://en.wikipedia.org/wiki/Nearest_neighbor_search) for faster search. ANN uses \"vector quantization\" for separating the space into multiple spaces with a tree structure. This is similar to the index in relational databases for improving the query performance, enabling very fast and scalable search with billions of embeddings.\n",
    "\n",
    "With the rise of LLMs, the ANN is getting popular quite rapidly, known as the Vector Search technology.\n",
    "\n",
    "![](https://storage.googleapis.com/gweb-cloudblog-publish/images/7._ANN.1143068821171228.max-2200x2200.png)\n",
    "\n",
    "In 2020, Google Research published a new ANN algorithm called [ScaNN](https://ai.googleblog.com/2020/07/announcing-scann-efficient-vector.html). It is considered one of the best ANN algorithms in the industry, also the most important foundation for search and recommendation in major Google services such as Google Search, YouTube and many others.\n"
   ]
  },
  {
   "cell_type": "markdown",
   "metadata": {
    "id": "xVOL8BgM2isz"
   },
   "source": [
    "## What is Vertex AI Vector Search?\n",
    "\n",
    "Google Cloud developers can take the full advantage of Google's vector search technology with [Vertex AI Vector Search](https://cloud.google.com/vertex-ai/docs/vector-search/overview) (previously called Matching Engine). With this fully managed service, developers can just add the embeddings to its index and issue a search query with a key embedding for the blazingly fast vector search. In the case of the Stack Overflow demo, Vector Search can find relevant questions from 8 million embeddings in tens of milliseconds.\n",
    "\n",
    "![](https://storage.googleapis.com/github-repo/img/embeddings/textemb-vs-notebook/9.png)\n",
    "\n",
    "With Vector Search, you don't need to spend much time and money building your own vector search service from scratch or using open source tools if your goal is high scalability, availability and maintainability for production systems."
   ]
  },
  {
   "cell_type": "markdown",
   "metadata": {
    "id": "uBt8tjidSzyU"
   },
   "source": [
    "## Get Started with Vector Search\n",
    "\n",
    "When you already have the embeddings, then getting started with Vector Search is pretty easy. In this section, we will follow the steps below.\n",
    "\n",
    "### Setting up Vector Search\n",
    "- Save the embeddings in JSON files on Cloud Storage\n",
    "- Build an Index\n",
    "- Create an Index Endpoint\n",
    "- Deploy the Index to the endpoint\n",
    "\n",
    "### Use Vector Search\n",
    "\n",
    "- Query with the endpoint\n",
    "\n",
    "### **Tip for Colab users**\n",
    "\n",
    "If you use Colab for this tutorial, you may lose your runtime while you are waiting for the Index building and deployment in the later sections as it takes tens of minutes. In that case, run the following sections again with the new instance to recover the runtime: [Install Python SDK, Environment variables and Authentication](https://colab.research.google.com/drive/1xJhLFEyPqW0qvKiERD6aYgeTHa6_U50N?resourcekey=0-2qUkxckCjt6W03AsqvZHhw#scrollTo=AtXnXhF8U-8R&line=9&uniqifier=1).\n",
    "\n",
    "Then, use the [Utilities](https://colab.research.google.com/drive/1xJhLFEyPqW0qvKiERD6aYgeTHa6_U50N?resourcekey=0-2qUkxckCjt6W03AsqvZHhw#scrollTo=BE1tELsH-u8N&line=1&uniqifier=1) to recover the Index and Index Endpoint and continute with the rest."
   ]
  },
  {
   "cell_type": "markdown",
   "metadata": {
    "id": "6pu1a3zjfQ0D"
   },
   "source": [
    "### Save the embeddings in a JSON file\n",
    "To load the embeddings to Vector Search, we need to save them in JSON files with JSONL format. See more information in the docs at [Input data format and structure](https://cloud.google.com/vertex-ai/docs/matching-engine/match-eng-setup/format-structure#data-file-formats).\n",
    "\n",
    "First, export the `id` and `embedding` columns from the DataFrame in JSONL format, and save it."
   ]
  },
  {
   "cell_type": "code",
   "execution_count": 12,
   "metadata": {
    "id": "GzZ30d4j_uLU",
    "tags": []
   },
   "outputs": [
    {
     "name": "stdout",
     "output_type": "stream",
     "text": [
      "{\"id\":64507047,\"embedding\":[-0.0101130717,0.0236742515,0.02879286,0.0349056683,0.0123870317,-0.0761611983,-0.0097250082,-0.0170432758,-0.0030033749,-0.026573943,0.0458492339,-0.0036000405,0.0388805345,-0.0012227335,0.0194367599,-0.0030224521,-0.0061622639,-0.0120868739,0.0265864115,-0.0129830437,-0.0488744043,-0.016528504,0.020560313,-0.0065267724,-0.0474305525,-0.0708371326,0.0181038007,-0.0131453853,-0.027182797,-0.0155544961,-0.0153629649,0.0239933133,-0.0401466526,0.013566941,0.0166167114,0.0365559496,-0.0293250401,0.0521186367,0.0129413288,0.0122514004,0.0325531363,0.0032551556,-0.0340813249,-0.0154070351,-0.0462055728,0.0053523211,-0.0123319877,-0.0704197958,-0.0235532597,-0.0547101796,-0.0383175649,-0.0397537947,0.0110247312,-0.0163081009,0.0132946428,0.0382994749,-0.0350204967,0.0615766458,-0.0095409136,-0.0384634919,0.0237084627,-0.0093982257,-0.0421021357,0.0336788334,0.0123287775,0.0351586305,0.0085061807,-0.0011217225,-0.0580387972,-0.0399273597,0.0253301095,0.0098288674,-0.0136003196,-0.0470962413,0.0329833962,0.0082009574,-0.0209299438,-0.0021013997,0.0267609227,-0.0576803759,0.0088656647,-0.0492406152,-0.0333613865,-0.0945486873,-0.0253215302,0.094563134,-0.0031897977,-0.0385609604,-0.0154587431,0.0287219826,0.0071043312,0.0178871769,-0.0037753028,0.0695982128,-0.0063714972,-0.0288580284,-0.0134541979,0.0033157738,-0.0258018002,0.0303237904,0.0106891198,-0.0205743033,0.0810755417,0.0321137272,0.0718489662,-0.0286969896,-0.05192779,0.0341937095,-0.0440942869,-0.0486901253,-0.0117597021,0.002978185,-0.0164052285,0.0339575447,-0.0179070327,-0.0191429462,0.0250750985,0.0332969688,0.0249496233,-0.040020749,0.014462932,-0.0127996858,0.0144267147,0.010212536,0.0204800796,0.0069395965,-0.0304651987,0.0169287436,0.0343386754,-0.0363435373,0.0655083433,0.0316554271,0.0182227399,-0.0148454821,0.0899741724,0.0277477,-0.0431296267,-0.0083564045,0.0671754628,-0.0068035638,0.0189656969,0.0041118721,-0.0107873008,0.0331892557,-0.0401102751,-0.0586510897,-0.009542197,-0.0267806556,-0.0573072992,0.0062081171,0.0099497037,-0.0396973565,0.0176031571,-0.0001950217,0.0581370033,0.0406552292,0.0217369422,0.0606068224,-0.0029627767,-0.0354824774,0.0153058004,-0.0717589557,-0.0121357692,0.0278153457,-0.0022665376,0.0020254573,0.0286395196,0.0262455009,0.0066683926,-0.0182863362,-0.0102157332,-0.1571012437,-0.0177691244,-0.0637739152,-0.0089202207,0.0058562891,0.0002795398,-0.0108024562,0.0081093637,-0.0212242939,0.0159441829,-0.0530454405,0.0395908803,-0.0658438876,-0.064814344,0.0074220342,0.0076316525,-0.0242471807,-0.0497080795,0.0334361531,-0.0180551689,0.0352291837,0.0230860412,-0.0914871469,-0.0509892553,0.0125009399,0.0010839608,-0.0768564567,-0.0176035035,0.0048831161,-0.0296416748,0.0181991085,0.0350598432,0.0453845635,-0.0176215656,-0.0154117271,-0.0388819426,0.0214979108,-0.0084245726,0.0357287526,-0.0293077249,-0.0309182368,0.0302178264,-0.0537280552,0.0282141417,-0.0013006023,-0.029411383,-0.0712337941,-0.0495138057,0.0787804276,-0.0266838372,0.0021640719,0.0236677565,-0.0216816328,0.0153163783,0.0465493128,0.0139875039,-0.0019791492,0.026721593,-0.0145755522,-0.0397075526,0.0143050021,0.0112557793,-0.0090125008,-0.0413087271,0.0475498103,0.0047805267,-0.0337189436,-0.0652041286,0.011207711,-0.0287522078,0.0707159638,-0.0212606974,0.005372094,-0.0145921698,0.0167201068,0.0077943201,-0.0004001732,0.0139194457,-0.0516506508,0.0153497141,-0.0485452041,-0.0408054963,0.0557423905,0.0178545881,-0.0141633321,-0.0021332104,0.0980214477,-0.0289936233,0.0316243432,-0.0245845132,-0.0105922604,0.0148412259,0.0707870945,-0.0397784822,-0.0755321905,0.0044908882,-0.0016847689,0.0491608679,-0.0142424032,-0.0425229706,-0.0389040522,0.0154969571,0.0365413241,-0.0375407934,-0.0138034625,0.0173654426,0.0511965603,0.0375914238,0.0319154635,-0.0062409183,0.0288900845,-0.013582347,-0.0029673656,0.0262874756,0.019209994,0.0311458725,0.0020860562,-0.0447292328,-0.0231988616,0.0234404206,0.0201298203,-0.0145424344,0.0652158037,0.0277169328,-0.0292050149,0.0238780547,0.0548654906,-0.0171991959,0.0108405324,-0.0290972684,0.0105173914,0.0421290509,-0.0535760708,-0.007135015,-0.029066626,0.0690328777,0.0231068339,0.0760122389,0.0247119609,0.0193627346,-0.0925299823,-0.000681269,0.0116015933,-0.0524749979,-0.0227479041,-0.0276191588,0.0200043898,-0.0551031977,0.035509143,-0.0075447136,-0.0170554463,0.0494433343,-0.0172869973,-0.005621294,-0.0099092098,0.0136233857,0.016420912,0.0531820133,-0.0313807242,-0.0037006566,-0.0087063974,-0.0067151752,-0.0273009967,-0.0336601846,0.0054354849,0.0389594734,0.0421879515,-0.0159539636,-0.0486637279,0.0374679565,-0.0105941687,-0.0137963872,-0.0078815762,0.0358650796,-0.0178139992,-0.0255464129,-0.0166320894,-0.0095718587,-0.047873687,-0.0262056645,0.0251535196,-0.0439191051,-0.0016833894,0.0092616798,-0.0094288308,-0.0249819905,0.0403808169,0.0379201174,0.0096197175,-0.0443745553,-0.0355936326,-0.026630355,0.0261164047,0.0119069526,-0.0110342344,0.0177333541,0.0062897289,0.0567758717,-0.0263701174,-0.0200552549,0.014369145,-0.0289075859,-0.0388968587,-0.0361098126,0.0259687826,-0.0097891726,-0.0176830757,-0.0293386299,0.0837158039,-0.0252514128,-0.0424136035,0.0215949547,0.0141705303,0.0196245816,0.0012725012,0.0219349172,0.044614505,-0.0111450469,-0.0544813536,0.053406354,0.0048426366,0.0445538461,-0.0045408355,0.0437387675,0.0423288047,-0.0274223685,0.0005058129,-0.0106217954,-0.0138671091,0.0599214211,0.01273493,-0.0947172418,-0.1032140553,0.0257852096,0.0662346408,0.0102378242,-0.0335087329,-0.0720442459,-0.0882254913,0.0025587822,0.0384881757,0.003255364,0.0245088115,0.0464024954,-0.0454052761,-0.0215488616,-0.0565323569,-0.004268812,0.040874321,0.0454974994,-0.018597031,-0.0542091988,0.0260864422,0.0097910995,-0.0435093902,-0.0187395494,0.0669386759,-0.0172903948,-0.0408777148,-0.0057416512,0.0652272552,0.0358441174,-0.0482650101,-0.0119545739,-0.0618630908,0.1073888242,0.0960279927,0.0352584235,0.0097712837,-0.0230635125,0.0433263518,-0.0116060982,0.0486940369,-0.017288994,-0.0531587526,-0.0230790768,-0.0787331611,-0.0078610554,-0.0407177992,-0.0856212378,0.0018352056,0.0393632911,0.1040499359,-0.0086055696,-0.016027933,-0.0187502392,-0.0091009839,-0.0303994324,0.0073331492,0.0031038853,-0.0354840904,-0.0283038281,0.0600962266,-0.0002665432,-0.0045115831,0.0052272561,0.0426890887,0.0135037601,-0.0159950927,-0.0332240388,0.0308426376,-0.016277343,0.0109259719,0.0539961942,0.0109649943,0.0947869271,0.014311526,-0.0195435807,0.0258037075,-0.0088862237,-0.0059195496,-0.0475703068,-0.0252722278,0.0286726337,-0.0041791,0.0523906946,0.0388071053,-0.0106413597,-0.0069957059,0.0262827855,0.0030619968,0.04641423,-0.0462890081,0.0000023634,-0.0252575092,-0.0062399874,-0.0002095125,0.0574437976,-0.0023729089,-0.0038303332,0.0073037902,-0.0164992008,-0.0245115925,-0.0420464277,-0.0406437665,-0.0311785266,-0.012775477,-0.0666658357,0.0116488338,0.0231154636,0.0285800733,-0.013396644,-0.0174174868,-0.0246497169,0.0270370152,-0.0512028523,0.0013959906,-0.0071388502,-0.0193360932,0.0291814171,0.008091677,0.0032740289,0.008868631,0.0241476558,0.0536307506,0.0141681256,0.009006544,-0.0176674668,-0.0432094149,0.0114727896,0.0507757217,-0.0043307161,0.0333880149,-0.0339650102,-0.0212975219,0.0487429462,0.0046892688,0.0206485223,0.0956927091,-0.046157524,-0.0440936498,-0.0003317742,0.0358600281,-0.0211444031,-0.0280819181,0.0094533758,0.0117970062,-0.0342812538,0.0250569899,0.0188252069,-0.0034710595,-0.0649517924,0.0596304685,-0.011183857,-0.036442142,0.0527596883,-0.0351723395,-0.0479707681,-0.0039822781,-0.0316871554,0.0198229179,0.0153183751,-0.0375581868,0.0201068521,0.0340723358,0.0230480731,0.0321293883,-0.0057663037,0.047316879,-0.022720959,-0.0423306338,-0.0227363743,-0.0470536202,-0.013171589,0.0008487225,-0.0340031162,0.0439317711,0.0060691303,0.0217650104,-0.0215973984,0.0360289142,0.0278991591,-0.008906357,-0.0510503836,0.0196609721,0.0023649863,-0.007489427,0.0448228866,-0.0093250945,0.0105193062,-0.0539985038,0.024873618,-0.0433147959,-0.0842332244,-0.0251141973,-0.0462188683,-0.0380089283,0.0122369174,0.0051727691,0.0093056597,-0.0002381446,-0.0193488821,0.005184371,-0.0067623476,-0.0197111741,0.0172126144,0.026977513,0.0203276593,0.0197747052,0.0320621431,0.0337922722,-0.020626884,-0.0632948801,-0.0347235389,0.0103880083,-0.0078889783,-0.0148177231,-0.0287395958,-0.0114557575,0.0455061793,-0.0173809323,-0.0283793807,-0.048961103,0.0208521504,-0.0024815199,0.0538770482,-0.0290683713,-0.055868376,-0.0335227996,0.0303787198,-0.0671030581,-0.0437713042,-0.0218073651,0.0357288532,-0.0710133091,-0.0209823623,0.042147439,0.0329579562,0.0282509848,0.0232639126,0.0141726537,0.0127917808,-0.0011029479,-0.0111044655,-0.009371154,0.0231148079,-0.0214863401,-0.0312229563,0.0507222451,0.0426200218,-0.0255594496,-0.0631778017,0.0055790166,0.028474953,-0.0491510145,-0.0131061999,0.0426145643,-0.0267117266,-0.006171322,0.0342434384,0.0323076881,0.0349204466,0.0193436202,-0.079416573,0.0770177394,0.0101642516,-0.0132128578,0.0165745299,-0.0107846912,-0.0162735358,-0.0077424296,0.0131240841,-0.0086492617,0.0492025651,0.0030451256,0.0206681043,0.0168740042,0.0413593464,-0.001258143,-0.0505000427,-0.0268372428,-0.0172076207,-0.0131991813,-0.0229254402,-0.0470883995,-0.0029398021,-0.0574039295,0.013431605,-0.0085551757,-0.0447547436,0.0187578611,-0.0911927372,-0.0108826989,0.0718570799,-0.0439701863,-0.0193709172,0.0220853053,0.0459590219,0.0459718183,-0.0192132834,0.0319984183,-0.0093407724,0.0624037124,0.0130761955,-0.0963843018,0.0249457974,-0.010348524,-0.0141383084,-0.0259179045,0.0093262037,-0.0511455461,-0.0008535083,-0.0005529317,-0.0321504921,-0.0047384752,-0.1023065001,-0.0101249544,0.0751997828,0.0222742818,0.0466927402,0.0186136998,0.0501330271,-0.0346666649,0.0275271367,-0.0412585735,0.0225191228,0.0127665158,0.0007427923,-0.0032284518,0.0235611461,-0.0275726728,0.0251589566,-0.0022430511,0.0474022627,-0.0470967963,0.0285086706,-0.0579555407,0.0548312068,0.017203534,-0.0199654885,0.0568004996,-0.0054710582,0.0185704529,-0.0170517676,0.0500510149,-0.0252632219,-0.046999149,0.0706094503,0.0094327359,-0.0552950539,0.0109392572,0.0245840438,0.0209044237,0.0162554923,0.0654500499,0.0184187423,0.096852541,-0.0238102973,-0.0086915744,-0.0425619222,-0.0102392631,-0.0412206985,0.043625813,0.0339101367,-0.0331737138,-0.0288538933,-0.0264871921]}\n",
      "{\"id\":64440528,\"embedding\":[-0.001079805,0.0236627888,-0.0246732607,0.0225448441,0.0283721369,-0.0660289377,-0.0263314229,-0.0068453001,-0.0186061077,0.0236616004,-0.0156426914,0.0633368865,0.031629622,-0.055572629,0.0286000092,-0.0153255714,0.0042918492,-0.0072673894,0.0096350247,0.0384467244,-0.0806451365,-0.0083329706,0.0412120037,-0.0097118188,-0.0073717637,-0.0446880907,0.0268985443,0.0143908747,-0.0345507078,-0.0129204104,-0.0296877492,0.0416797474,-0.0485153459,-0.0015919008,-0.0084248008,0.0411561579,0.0088675274,0.0579543747,-0.0082727792,0.0071755024,-0.0016510561,-0.0158208013,0.0219230447,-0.0366339386,-0.0234201476,0.0187008232,-0.0455258526,0.0204804651,-0.0023742886,-0.068178162,-0.0300077237,-0.009237593,-0.0411947146,0.0635068193,0.0035615992,0.0557058118,-0.095776625,0.0029863014,-0.0136350878,-0.0207803715,-0.0212813932,-0.0028806969,-0.0143334102,-0.0131316269,0.0197724476,0.0502081998,0.0437350459,-0.0131333433,-0.0132832984,-0.0838147253,-0.0167993866,0.0099181961,-0.0064109801,-0.0273729805,0.0412674211,0.0061227707,0.029738903,0.0311458502,0.0104828905,0.0044673439,0.0181298777,-0.0925994217,-0.0555437766,-0.1442514658,-0.0294194203,0.0313788801,0.0251792129,0.0461558066,-0.0267773438,0.0675679445,-0.0272275507,0.0220303088,0.0060476125,0.0204940066,-0.0109798014,0.0308020152,-0.05704014,-0.0070253867,-0.0218316242,0.0176951233,-0.0202936437,0.0243887752,0.0275509041,-0.0053462097,-0.0006758912,-0.0229042452,-0.0152080478,0.0481080748,-0.0119114248,-0.0788745135,-0.0791433752,-0.0092987055,-0.0425857939,0.0243851207,-0.00382121,-0.0321184807,0.0306981858,0.0127077028,0.0161314234,0.0093115373,-0.0442785472,0.0158521198,0.0206144098,0.0303416513,0.0577837676,-0.010070106,0.0278934073,-0.046498429,-0.0509787463,-0.0206104647,0.0104150772,0.0315806344,0.0242921133,0.0522076786,0.0353653878,0.0723684877,-0.0089106336,0.0312574133,-0.0103188148,0.0234281626,-0.0152651519,-0.0195341483,-0.0168250892,0.0358671248,-0.0132666016,-0.0151835233,0.0224978663,-0.0366835669,-0.0489355698,0.008426086,-0.0033695411,-0.0243045334,-0.0181296002,0.0325679518,0.0705018789,0.0390941463,0.0747795179,-0.0162294768,0.0203332081,-0.065483205,-0.0300329514,-0.0191236809,-0.0109146135,0.0304989871,0.0153657272,0.0457049385,0.005459839,-0.0431430228,0.0286646783,0.0130882394,0.0271595139,-0.1055935547,0.028882036,-0.0888304636,0.060182631,0.0195391234,0.030640794,-0.0025785211,-0.0051359963,-0.0428997949,-0.025443539,-0.1105865464,-0.0034401738,0.0054273815,-0.0290214866,0.0325532109,0.0265999734,-0.0056280778,-0.0353842117,0.0381801836,-0.0012772391,0.0264836326,0.0062163933,-0.0519253574,-0.0431009568,-0.060087014,0.0881593004,-0.1569533944,-0.0035702803,0.0063484791,0.0081793303,-0.0315062143,-0.0088399043,0.0400169343,-0.0302405618,0.0279445574,-0.0563721173,0.0239927899,-0.0141915297,0.0797351971,-0.0009270796,-0.0207763501,0.0441922955,-0.0017863188,0.0262334719,-0.0521958619,-0.0197345242,-0.107411027,0.0016907692,0.0257862378,-0.0310924184,-0.0279273372,0.0260251816,-0.0094073098,-0.0010045323,0.0382347815,0.0310958643,0.0559491701,0.0463557914,0.0077105598,-0.0178216528,0.0397397131,-0.0200064909,0.0124316234,-0.0085879061,0.0010645632,0.0415510796,-0.0309624914,-0.0779975131,0.081305325,0.048054684,0.1214783564,-0.046014227,0.0263977032,-0.0357724987,-0.0190578438,-0.0528512411,0.0506642796,-0.019829629,-0.030963948,0.0569906235,-0.0578471236,-0.0299021434,-0.0039715143,0.0123814531,0.0218524821,-0.0078662429,0.0342868492,-0.0048441971,0.009269055,0.0379083976,0.0094323531,0.0740645602,0.1087006181,0.0250070523,-0.0290272161,-0.0378503315,0.0045742472,0.038160231,-0.0723140463,-0.0336149707,-0.021744851,0.0129960719,-0.0041116895,0.0098876068,0.0193318762,-0.0412360467,0.0072904509,0.0161237083,0.028719604,0.0049808482,-0.0059670401,0.0049059335,0.0388241149,0.0053472202,0.0216554981,-0.0191361457,0.0465454534,-0.0673757046,0.0030027041,0.0488376915,-0.0064765671,-0.0150276525,0.0723872036,0.0285730045,0.0229552388,0.0326250009,-0.0328503959,-0.0389782488,0.0276155062,-0.0339568108,0.0151279438,0.0180077441,-0.0316649638,-0.0148198009,-0.0321391001,0.014898208,-0.0200994723,0.0520075783,-0.0136663811,-0.0065279636,-0.0451224148,-0.0176825207,0.0104710925,-0.0293719638,-0.031198198,-0.0205855574,-0.0597080514,-0.0423218459,0.0281905122,0.0004649476,-0.0175674874,0.0271039326,-0.0100444676,0.000898394,0.0137462942,-0.0574259199,-0.0319318511,0.0733537674,-0.0218962505,-0.0128438827,-0.0345903002,-0.0073344787,-0.0232784897,-0.0239845347,-0.0407799818,0.0421611369,0.0503990427,0.0058891666,-0.0501593798,-0.0091247046,-0.0476362072,-0.0505363122,-0.0038435617,-0.0338042378,0.011688808,-0.0355790593,-0.0317618512,0.007876317,-0.0633967295,-0.0058703967,0.009342243,-0.0347717404,0.0387439281,0.0007691915,0.0344434939,-0.054013785,0.0027041479,0.0250797439,-0.0015290314,-0.002999132,-0.0117392661,-0.0123885814,0.0313259959,-0.0031179106,-0.0120860981,-0.0593936816,0.0574583523,0.0395064391,0.0164045654,-0.0255629625,-0.0163086057,-0.0435074121,-0.0496795401,-0.0554547347,0.0010363662,-0.0009533974,0.0008338123,-0.0172465779,0.0013038234,0.0200512391,0.042567417,0.0324940346,0.001281297,-0.0551202111,-0.0398318395,-0.0186154786,0.0516311936,0.0011426503,-0.0734168887,0.0535837151,0.0642278045,0.007375157,-0.0054935073,-0.024049785,0.0086269006,-0.0386098959,0.0065775085,0.0035712104,0.0021630372,0.0473978445,-0.0002757666,-0.0725041628,-0.0511378311,0.0539449528,0.0491081737,0.0025158876,0.0376026332,-0.0112366574,-0.0502772294,0.0068839481,0.0331283063,-0.0049625086,-0.0155110219,-0.0013951013,-0.0159238055,0.0169590451,0.034694992,-0.0548028611,-0.0157297347,0.0121074663,-0.0237697382,-0.1046157926,0.0415372252,0.0063070683,0.0315539464,-0.0409570113,-0.0196225308,-0.028424304,0.0140603026,0.0391897596,0.0245052129,0.0352926962,-0.0049208617,-0.047046192,-0.0126181832,0.0683090538,0.0831902996,0.0049796752,-0.0048794118,0.0067019374,-0.0449596345,-0.0350553393,-0.0003627136,-0.0429663993,-0.0225082487,0.0023473392,0.0118081374,-0.0571566001,-0.0320054702,-0.0070857783,-0.0190050062,0.025759181,0.0397478975,-0.0361418501,0.0268337652,0.057483092,-0.0457210094,-0.0192386229,0.0134252952,-0.0213732217,-0.0024976833,-0.0557571128,0.0466050655,-0.0461790711,-0.0063425861,0.0525470786,0.0333750434,-0.0124102887,0.026335746,-0.0092000132,0.0311203059,-0.0796298608,0.0177885983,0.0293665044,0.0008777626,0.013434412,0.043831218,-0.0078749098,-0.0414544605,0.0040488569,-0.060411945,-0.0222169701,-0.0103292558,0.028303396,0.0303039365,0.023071358,-0.0640473291,-0.0223351046,-0.0385633707,0.0524867922,-0.0243027303,0.0301675946,-0.0258397479,0.0315670632,-0.0271985885,0.0090448447,0.0318948291,-0.0084663276,-0.0059545003,-0.005670771,0.0444381088,-0.0082022306,-0.0228166468,-0.0546421893,-0.0368711129,0.000399312,-0.0415382236,-0.0418467075,-0.0119186724,0.0161015578,0.013598036,-0.0281765237,-0.0563681722,-0.0277077686,-0.0460965186,0.0413664915,0.0180840548,-0.0078222575,0.0539209321,0.0293601491,0.0158280022,-0.0145293111,0.031592831,0.046538312,0.0509052314,-0.0159599222,-0.016508365,-0.0399513878,0.0008595616,0.0082394881,0.049975276,-0.0535301119,0.0601185672,0.0184681062,0.0047241207,0.0487932004,0.0024819395,0.0131493304,0.0528459735,-0.0017687002,-0.0334940106,0.0529851653,0.0505915396,-0.0055742129,-0.0207918696,-0.0172385015,0.0129655516,0.0037845029,0.0223545432,0.0482198261,-0.0449553654,-0.0080020921,0.0541063286,0.0009386824,-0.0497116372,0.0412740894,-0.0033829731,-0.0215342529,-0.0285170134,0.002869752,-0.0062796799,-0.0153454663,-0.0132002467,0.0414781608,-0.001559934,0.0290376879,0.0211754143,0.0681993142,0.0387477726,-0.0107015613,-0.0162901543,-0.0195091944,-0.0018943858,0.0062177568,0.0395475999,-0.002236947,0.0581225306,0.0345132016,0.0426378064,-0.013271343,0.074122943,0.0182766858,0.0162016563,-0.0564626455,0.0275121257,0.0333977453,-0.0691745803,0.0357943103,-0.0242330227,0.0314113013,-0.0806426778,-0.011453243,0.001145532,0.0043661906,-0.0221133977,-0.0040378654,0.0147714578,-0.0204850789,0.0239082314,0.0143614458,-0.035760656,-0.0164096057,-0.0157506317,-0.0056243907,-0.0261852872,0.0459369384,0.0118000824,0.0259446688,0.0208056197,0.0518984795,0.0221094787,0.0010061769,-0.046899423,-0.0093785822,0.0170181841,-0.0518640801,0.0399250127,0.0067672906,-0.0271012243,0.0439801104,-0.0125158094,-0.0200225767,-0.0579592846,0.0468882397,0.0083645573,0.0293190852,-0.0012773367,-0.0459054597,-0.006346269,-0.0086960737,-0.031778641,-0.0262238737,-0.0192459635,0.0553840287,-0.0591335818,0.0119425654,0.032853622,0.0628680214,-0.0113745295,0.0531450063,0.0040156362,0.0479073934,-0.048448272,-0.0378449,0.0001716267,0.0252776369,-0.0122655649,-0.0011005627,0.0555706061,-0.0314176269,-0.055260431,0.0115692727,-0.0832276717,-0.0251373854,0.0025339352,0.0128751583,0.0351128988,-0.0042244066,0.016724728,0.0405334719,0.0032420019,-0.0056019765,0.0327892639,-0.0066401609,0.0521681756,-0.0160357337,-0.0001637082,-0.0134271532,-0.0092009688,-0.0150091816,-0.0067143929,0.0041542202,-0.0342633985,0.0178607181,-0.0304666907,0.0711791366,0.0678507164,0.0502761267,-0.0027226582,-0.0302735493,-0.0320233218,0.0370332412,-0.0291418899,0.0096321013,-0.051087331,0.0444173254,0.0269948728,-0.0003113485,-0.0201114174,-0.02624592,0.0123272948,-0.0200222787,-0.0105663501,0.0491138808,-0.0518874452,-0.041695267,-0.0164421313,-0.0314968452,0.0422009379,-0.0068649296,0.0496936925,0.0232088473,0.0423138402,0.0212396216,-0.0413565561,-0.0420682989,-0.0259029642,0.0135024507,-0.0246430319,0.0391846038,-0.0378539637,0.0671759695,0.030185679,0.0194938462,0.0743686333,-0.0540823787,-0.021284394,0.0021033508,0.0582236238,0.0044584377,-0.0107708769,0.0276119821,-0.0098250937,0.0398621149,0.0031345787,-0.0153256617,-0.0012821394,-0.0065699914,-0.0020834636,-0.0107700247,0.0118161626,0.0255982541,0.0282455441,-0.025307158,-0.01657461,0.0820815787,0.006642024,0.0507619306,-0.0096636405,0.0198572241,0.0278683919,0.010137205,-0.0025958284,-0.0049564438,-0.0281020068,-0.0007477869,-0.0040497365,-0.0131057426,-0.0385156386,-0.0516564064,0.0158514474,-0.0414867848,0.0323329829,0.0104173943,0.0727111548,0.0162705332,0.0089997035,0.0264335442,0.0201596878,-0.0307931434,-0.0312038157,-0.0905817747,0.054534927,0.0261581987,-0.0576120466,-0.0088645704,-0.0140417283]}\n",
      "{\"id\":64391754,\"embedding\":[-0.0136496974,-0.0016968081,-0.0578944348,0.0389710292,0.0271652453,0.0176726934,0.0387138501,0.0160107259,0.0353444554,0.0112391803,-0.0445477664,-0.0079107322,0.0347189009,-0.0050040847,0.0137131866,-0.0119680725,-0.0181741342,0.0268871281,-0.031347502,0.0237573292,-0.1081551909,-0.031435851,-0.0213902406,0.0106313284,0.0021175668,-0.0631212294,0.0250061341,0.044229202,-0.0440950468,0.0345717967,-0.034736231,0.0423051491,-0.0734808445,-0.009212208,0.0034972939,0.0209675506,0.0266293027,0.0560394749,-0.0521584302,0.0225056875,-0.0261969157,0.0141030168,0.0571463555,0.0345442183,-0.0018405231,-0.0142984577,-0.0300658513,0.0182274804,-0.0294532068,-0.0641956031,-0.01787371,-0.0475739762,0.0056296932,0.0219224691,0.0094656218,0.01305658,-0.0425451994,0.0197947323,0.0117754983,0.0089054033,0.0538076498,0.007450812,-0.0164985619,-0.0543641075,-0.0138331633,0.0471019447,0.0438994728,0.013065706,-0.0314730965,-0.0233693924,0.0392190516,-0.0174037702,0.000129188,-0.0564346723,0.0549519099,-0.0065500578,0.0207018442,0.0763525367,0.0767130032,-0.0424658433,-0.0063690306,-0.0268912185,-0.0030379733,-0.106197089,-0.0182216018,0.0694241002,-0.0223997198,0.0046983189,-0.0142763704,0.0294920318,-0.0220862255,-0.0231805425,-0.0219960492,0.0309350844,0.0207602251,0.0198230017,-0.0112141166,-0.045230072,0.0461379588,0.0092121931,0.0320322402,-0.0393272191,0.041962333,-0.0107880821,-0.0002437954,-0.0022539916,-0.0063784965,0.0122501347,-0.0301259924,-0.0714969262,-0.0317389406,0.0175016541,-0.0210623667,0.0378579572,-0.0394126922,-0.0302017462,0.0244003572,0.0040011955,0.0612914003,-0.0108904596,-0.0100371623,-0.0157183949,0.0467195734,-0.0242179632,0.0463066995,0.0250221286,0.0536842048,-0.0592365079,0.0051318174,-0.0408549123,0.0485348105,0.008208408,0.031494759,-0.0530274063,-0.0346648917,0.049361486,0.0357262306,-0.0450352281,0.0380594432,-0.009097714,-0.0260739252,0.0004662766,0.0201791581,-0.0068348371,0.0501166508,-0.0412817113,0.0786661431,-0.035337247,-0.0581170022,0.023033388,-0.0167770386,-0.0363510437,0.0015305635,-0.0012818502,0.0496306904,0.0705172941,0.0269841868,0.0447425582,-0.0129449517,0.008183294,0.0266143493,-0.0395500027,0.0539850034,0.0309203286,0.0714802295,-0.015739901,0.0204587225,-0.0417077169,0.0318631604,0.0079675037,0.0029287199,-0.0951955542,-0.0711749867,-0.037043184,0.0221508853,-0.0404163972,-0.0209863819,-0.034848474,-0.0056415796,-0.019471122,-0.0129383812,-0.0360574201,0.0577208512,-0.0006035232,-0.0381356627,0.0149771208,0.0308736302,-0.0275665354,-0.0184829477,0.0161800794,-0.0642138496,-0.0323326811,0.0236341842,-0.0325020887,-0.0011665596,0.00752674,0.0303371977,-0.1142875329,-0.0132777803,0.0470049866,0.007199381,-0.0685509741,-0.0154460259,-0.0268562492,-0.0190313701,0.0373681895,-0.1035000831,0.0436726883,-0.0515282862,0.0212524589,0.03894962,0.019074928,0.1298866421,0.0528028309,-0.0126223005,-0.0230612084,0.0245120805,-0.0268097017,-0.0562083013,-0.0304034408,-0.0505559333,-0.0431472398,0.0396387056,0.0374763496,0.0439930409,0.0409982242,-0.0349104963,0.0599042773,0.0516884401,-0.0116267502,0.0067501911,0.0062991851,-0.0105464002,-0.0334980823,0.0096715,0.0144648943,-0.0328512453,0.0203447863,-0.0512200706,0.0337812528,-0.0266965255,0.0495914444,0.0042266231,0.039442949,-0.0060775867,-0.0111855213,-0.013416538,0.0414312743,-0.0132192224,0.0163238328,0.0336944461,-0.0652297363,-0.0292590503,0.0318415053,-0.0152715901,0.025240764,-0.0296243336,0.0452513918,0.0115895336,0.01284038,0.0156146875,0.0091748582,0.0492350757,0.1319435388,-0.0279493015,-0.0095525058,-0.0120075997,-0.0456240326,0.0079570655,-0.0277451128,-0.0291074701,-0.0160604492,0.0221538227,-0.0190556739,-0.0115583027,0.0145790856,0.0196626782,0.0297540687,-0.0199206229,0.0342899524,0.004894326,-0.0214053802,0.038316559,0.005440583,-0.0465299413,0.0117738415,-0.0272906236,0.0208962373,-0.0496928766,0.0064149993,-0.0214718245,-0.0075835111,-0.0034461333,0.0530946851,-0.0353354923,-0.0181902479,0.0820718631,-0.0320817493,-0.0700764656,0.0682898313,-0.0607126988,0.0190192182,0.0798459128,0.0022734259,-0.0190840922,-0.0556623749,0.0107713761,0.0320069604,0.002430045,-0.0131764663,0.0120723471,0.0301358737,0.0482521877,0.014993378,0.0100221867,-0.006910115,-0.0162302721,-0.0135837924,-0.0872550681,0.0793487728,-0.0181734338,0.0022095104,0.1053432599,0.0578245297,0.0183446724,-0.030532971,-0.028171856,-0.0815361589,0.0941845402,-0.0371809192,-0.0351689607,0.0210780259,-0.0129274623,-0.0086406898,-0.0316421725,-0.036416363,0.0208549872,0.0513299741,-0.0001225266,-0.0205136724,0.000141146,-0.0018272691,-0.0315462239,-0.0012777168,-0.0322708674,0.0208939184,-0.0290128198,0.0083985943,0.0157549474,-0.0678941384,0.0132491169,0.0306935031,0.0473231785,0.0289704371,0.0376052856,0.0080185644,-0.0256440528,-0.0177935343,0.063096635,-0.0242201388,-0.0320760086,0.0399505869,-0.0403952822,0.0190172438,0.0464154556,0.0123482617,-0.0487812012,-0.019317599,0.0484802648,0.0245283041,-0.003808537,0.0086525055,-0.0013396755,-0.0345468558,-0.0410524905,0.0358602256,-0.0559507757,0.0422065556,-0.0313640013,0.061861597,0.0006994181,0.0350324996,-0.0038436297,-0.0418347418,-0.0327012725,-0.0069925501,0.0181363784,-0.0088405088,-0.0092405993,-0.001343864,0.0195270777,0.0589147098,0.0226202924,-0.0346612036,0.0033874088,0.023304034,-0.0116158621,-0.0129339797,-0.0555718206,-0.0045434837,0.0230615195,0.0289741177,-0.098880209,-0.0283745658,0.0059206053,0.0122203138,0.0001685491,-0.0131131159,0.0218149237,-0.0379426293,0.0561830252,-0.0193163101,0.002182126,0.0336930566,0.0105300834,-0.045554053,0.010904476,-0.0362306237,-0.0040483987,-0.0348393954,0.0813310072,-0.0018754697,-0.02088359,0.0320174731,-0.0461716652,0.0312237572,-0.0855169594,-0.0072740503,-0.0566577874,0.0272402707,-0.0104197245,-0.0026992462,0.0492219739,-0.0596409738,-0.0201864075,-0.021663107,0.0368685238,0.0412439592,0.0264947955,-0.011465882,-0.0467442609,-0.0005572852,-0.0194383245,0.0164365508,0.0020415527,-0.0239909664,-0.0254619829,-0.0451876633,-0.0150494101,-0.0283885244,-0.0465733148,-0.0080546299,0.0225470029,0.0768965483,-0.0269292798,0.0138150062,0.0181294512,-0.0464785099,-0.0048557469,0.0550378822,-0.0174130555,-0.0216144267,-0.0423403159,0.0856363699,0.0197297465,-0.0573529229,-0.0101158125,0.0471611582,-0.0221003052,0.0336771198,-0.0210546162,0.0467394888,-0.0312105138,-0.0173634682,0.0753525719,0.0266660303,0.0456792191,0.1014599577,-0.0213204976,-0.0116661023,-0.0681515038,-0.0143291876,-0.030116383,-0.006548516,-0.0107623497,0.002980232,0.0414258018,-0.0356165655,0.0035777211,0.0401930735,0.0255516227,0.0095296875,0.0088418592,-0.001136422,0.0197061673,0.0269560106,-0.0174154751,0.039623566,0.0000829417,0.0478652753,0.0274879392,0.0647652745,-0.0157957934,-0.0282500666,-0.010233934,-0.0322932377,0.0219721943,-0.010566147,-0.0140403826,0.0276309978,0.0273662154,0.0830841288,-0.0073948125,-0.0210730489,-0.0487401187,-0.0598425493,-0.0107429894,0.052820541,0.0105992574,0.0017947605,-0.0319847241,0.0262391698,-0.0004441664,-0.0292389356,0.0458779521,0.0074675418,0.0130925225,-0.0379962921,-0.0227638017,0.010580509,-0.00386794,-0.0022372971,-0.0332291573,-0.0028035708,-0.0150195546,0.0083054993,0.0276484825,0.018845588,0.0490999259,0.0964672938,-0.0154129704,-0.0366230085,0.0308815446,0.0292511266,0.0283074062,0.0041056732,0.0130466055,-0.0204492304,-0.0111720013,0.0489935055,-0.0071418583,-0.0085778739,0.0095420266,0.0379951447,0.0467369966,0.0098115355,0.0553635247,-0.011087127,-0.0217687432,-0.0321005806,-0.0265297275,0.0117723094,0.0110285217,-0.0526657104,0.0527220145,-0.0593795851,0.0038564419,0.0543104336,-0.0033437975,0.0441045463,-0.0213900525,-0.0086156297,0.0129245594,0.0091816448,-0.0372782275,0.0274003465,-0.0154071972,0.0255388916,-0.0092195505,-0.0140008768,0.0557252653,0.0288455635,0.0187015273,0.0618196763,-0.0376148894,0.0011723117,0.0078563057,-0.0261422284,-0.036545366,-0.0048795356,-0.0296512824,-0.0681509301,0.0036437025,0.0414400212,-0.0256205257,-0.0311452523,0.0074651744,0.0535361692,0.0203394759,0.0253778044,-0.0051108729,-0.0437910706,0.0340534672,-0.0549098663,-0.006867928,0.0173827484,0.0526962876,0.0363622345,0.0192563757,0.0245668367,0.0338528007,0.0418476686,0.0322388783,0.0062064747,-0.0326126665,-0.0080273738,-0.0126463501,0.0263715796,-0.0254819449,0.0040500979,0.0395944454,0.0058015771,-0.0229944661,-0.0429400094,-0.039353732,-0.0029662575,-0.018367894,0.0070540807,-0.0230409484,-0.0130813243,0.0325946547,-0.0085233338,-0.0740452185,-0.0102286376,-0.0007515923,-0.0672281832,0.0120134475,0.029980801,0.0412875712,0.0243204813,0.0802526474,0.0284792744,0.0380048938,-0.0429239683,0.0113307619,-0.0036359404,-0.0292664785,-0.0288164634,0.0003336807,0.0279628523,-0.0388036184,-0.0301959626,-0.0263969786,-0.0700471774,0.0559322871,0.0079816403,0.0460404605,-0.0188252479,0.0023925134,0.0121856555,0.0315232202,0.0544072948,0.0250804387,0.0684637427,-0.0497470051,0.0427863523,0.0053607672,0.0028113415,0.0133985262,0.011532166,-0.087279126,-0.080991894,0.0000133759,-0.0120510943,-0.0114455912,-0.0049601365,0.0441959128,0.0305037145,-0.0318276249,0.0037357302,-0.077931039,-0.0264127161,0.0067584286,-0.0097922552,0.0444001108,-0.0343230441,-0.0060017235,-0.0249518268,-0.0016339073,-0.0051021348,-0.0233662296,-0.0399621427,-0.0030525723,0.0060734493,0.004388493,-0.0039379983,0.0361241624,0.0219805595,-0.0262737107,0.0261344872,0.0089398213,0.0220255982,0.0480042957,0.0656354874,0.0894459262,-0.0309708267,-0.0479722768,-0.0472977087,0.0094431108,0.0141118439,0.003947481,-0.0022581376,-0.0294556916,-0.0239708535,-0.0383810177,0.0265095867,-0.0810471103,0.017370576,0.0128577612,0.0004697721,0.0260416549,0.0514121577,0.0369301327,-0.0155231366,-0.0073339515,0.0053472049,-0.0309085883,-0.0615492314,-0.0514396094,-0.0316063352,-0.0026860882,0.0182133615,0.0540990084,0.0169066302,-0.0052993516,-0.0040600789,-0.0009180295,0.0345055684,0.0092969062,0.0059346519,-0.0033806912,0.0324311815,0.0329232216,0.0083912741,0.0294291545,-0.0159620177,0.0183605291,-0.0312889963,0.0356426612,-0.0486832,-0.0318489596,0.0320731327,0.0169327687,0.0226196609,0.0188214369,-0.0143949315,0.0024822787,0.0298389215,0.0338372216,0.0405031703,-0.0245802999,-0.002677032,-0.0407869257,0.0336271152,0.0440521538,0.0262575299,-0.0544004031,-0.0273753218]}\n"
     ]
    }
   ],
   "source": [
    "# save id and embedding as a json file\n",
    "jsonl_string = df[[\"id\", \"embedding\"]].to_json(orient=\"records\", lines=True)\n",
    "with open(\"questions.json\", \"w\") as f:\n",
    "    f.write(jsonl_string)\n",
    "\n",
    "# show the first few lines of the json file\n",
    "! head -n 3 questions.json"
   ]
  },
  {
   "cell_type": "markdown",
   "metadata": {
    "id": "-WTNJ3FAQl_W"
   },
   "source": [
    "Then, create a new Cloud Storage bucket and copy the file to it."
   ]
  },
  {
   "cell_type": "code",
   "execution_count": 13,
   "metadata": {
    "id": "CzwDWJfzAk3n",
    "tags": []
   },
   "outputs": [
    {
     "name": "stdout",
     "output_type": "stream",
     "text": [
      "Creating gs://qwiklabs-gcp-02-436b3dc446a8-embvs-tutorial-09261315/...\n",
      "Copying file://questions.json [Content-Type=application/json]...\n",
      "/ [1 files][  9.8 MiB/  9.8 MiB]                                                \n",
      "Operation completed over 1 objects/9.8 MiB.                                      \n"
     ]
    }
   ],
   "source": [
    "BUCKET_URI = f\"gs://{PROJECT_ID}-embvs-tutorial-{UID}\"\n",
    "! gsutil mb -l $LOCATION -p {PROJECT_ID} {BUCKET_URI}\n",
    "! gsutil cp questions.json {BUCKET_URI}"
   ]
  },
  {
   "cell_type": "markdown",
   "metadata": {
    "id": "xxdbjKw1XDxl"
   },
   "source": [
    "### Create an Index\n",
    "\n",
    "Now it's ready to load the embeddings to Vector Search. Its APIs are available under the [aiplatform](https://cloud.google.com/python/docs/reference/aiplatform/latest/google.cloud.aiplatform) package of the SDK."
   ]
  },
  {
   "cell_type": "code",
   "execution_count": 14,
   "metadata": {
    "id": "8unyr9KagAoI",
    "tags": []
   },
   "outputs": [],
   "source": [
    "# init the aiplatform package\n",
    "from google.cloud import aiplatform\n",
    "\n",
    "aiplatform.init(project=PROJECT_ID, location=LOCATION)"
   ]
  },
  {
   "cell_type": "markdown",
   "metadata": {
    "id": "xpMUXqWQ75uu"
   },
   "source": [
    "Create an [MatchingEngineIndex](https://cloud.google.com/python/docs/reference/aiplatform/latest/google.cloud.aiplatform.MatchingEngineIndex) with its `create_tree_ah_index` function (Matching Engine is the previous name of Vector Search)."
   ]
  },
  {
   "cell_type": "code",
   "execution_count": 15,
   "metadata": {
    "id": "kKDw5VXMkXb3",
    "tags": []
   },
   "outputs": [
    {
     "name": "stdout",
     "output_type": "stream",
     "text": [
      "Creating MatchingEngineIndex\n",
      "Create MatchingEngineIndex backing LRO: projects/630020070196/locations/us-central1/indexes/6623013843025002496/operations/6050708316961636352\n",
      "MatchingEngineIndex created. Resource name: projects/630020070196/locations/us-central1/indexes/6623013843025002496\n",
      "To use this MatchingEngineIndex in another session:\n",
      "index = aiplatform.MatchingEngineIndex('projects/630020070196/locations/us-central1/indexes/6623013843025002496')\n"
     ]
    }
   ],
   "source": [
    "# create index\n",
    "my_index = aiplatform.MatchingEngineIndex.create_tree_ah_index(\n",
    "    display_name=f\"embvs-tutorial-index-{UID}\",\n",
    "    contents_delta_uri=BUCKET_URI,\n",
    "    dimensions=768,\n",
    "    approximate_neighbors_count=20,\n",
    "    distance_measure_type=\"DOT_PRODUCT_DISTANCE\",\n",
    ")"
   ]
  },
  {
   "cell_type": "markdown",
   "metadata": {
    "id": "2rFam_w9U0dI"
   },
   "source": [
    "By calling the `create_tree_ah_index` function, it starts building an Index. This will take under a few minutes if the dataset is small, otherwise about 50 minutes or more depending on the size of the dataset. You can check status of the index creation on [the Vector Search Console > INDEXES tab](https://console.cloud.google.com/vertex-ai/matching-engine/indexes).\n",
    "\n",
    "![](https://storage.googleapis.com/github-repo/img/embeddings/vs-quickstart/creating-index.png)\n",
    "\n",
    "#### The parameters for creating index\n",
    "\n",
    "- `contents_delta_uri`: The URI of Cloud Storage directory where you stored the embedding JSON files\n",
    "- `dimensions`: Dimension size of each embedding. In this case, it is 768 as we are using the embeddings from the Text Embeddings API.\n",
    "- `approximate_neighbors_count`: how many similar items we want to retrieve in typical cases\n",
    "- `distance_measure_type`: what metrics to measure distance/similarity between embeddings. In this case it's `DOT_PRODUCT_DISTANCE`\n",
    "\n",
    "See [the document](https://cloud.google.com/vertex-ai/docs/vector-search/create-manage-index) for more details on creating Index and the parameters.\n",
    "\n",
    "#### Batch Update or Streaming Update?\n",
    "There are two types of index: Index for *Batch Update* (used in this tutorial) and Index for *Streaming Updates*. The Batch Update index can be updated with a batch process whereas the Streaming Update index can be updated in real-time. The latter one is more suited for use cases where you want to add or update each embeddings in the index more often, and crucial to serve with the latest embeddings, such as e-commerce product search.\n"
   ]
  },
  {
   "cell_type": "markdown",
   "metadata": {
    "id": "VLOAMF50XMI8"
   },
   "source": [
    "### Create Index Endpoint and deploy the Index\n",
    "\n",
    "To use the Index, you need to create an [Index Endpoint](https://cloud.google.com/vertex-ai/docs/vector-search/deploy-index-public). It works as a server instance accepting query requests for your Index."
   ]
  },
  {
   "cell_type": "code",
   "execution_count": 16,
   "metadata": {
    "id": "h6IzyufWCjU1",
    "tags": []
   },
   "outputs": [
    {
     "name": "stdout",
     "output_type": "stream",
     "text": [
      "Creating MatchingEngineIndexEndpoint\n",
      "Create MatchingEngineIndexEndpoint backing LRO: projects/630020070196/locations/us-central1/indexEndpoints/995625371137212416/operations/2292454427920957440\n",
      "MatchingEngineIndexEndpoint created. Resource name: projects/630020070196/locations/us-central1/indexEndpoints/995625371137212416\n",
      "To use this MatchingEngineIndexEndpoint in another session:\n",
      "index_endpoint = aiplatform.MatchingEngineIndexEndpoint('projects/630020070196/locations/us-central1/indexEndpoints/995625371137212416')\n"
     ]
    }
   ],
   "source": [
    "# create IndexEndpoint\n",
    "my_index_endpoint = aiplatform.MatchingEngineIndexEndpoint.create(\n",
    "    display_name=f\"embvs-tutorial-index-endpoint-{UID}\",\n",
    "    public_endpoint_enabled=True,\n",
    ")"
   ]
  },
  {
   "cell_type": "markdown",
   "metadata": {
    "id": "11e3e1a3a9e9"
   },
   "source": [
    "This tutorial utilizes a [Public Endpoint](https://cloud.google.com/vertex-ai/docs/vector-search/setup/setup#choose-endpoint) and does not support [Virtual Private Cloud (VPC)](https://cloud.google.com/vpc/docs/private-services-access). Unless you have a specific requirement for VPC, we recommend using a Public Endpoint. Despite the term \"public\" in its name, it does not imply open access to the public internet. Rather, it functions like other endpoints in Vertex AI services, which are secured by default through IAM. Without explicit IAM permissions, as we have previously established, no one can access the endpoint."
   ]
  },
  {
   "cell_type": "markdown",
   "metadata": {
    "id": "8n33iO1T5hFO"
   },
   "source": [
    "With the Index Endpoint, deploy the Index by specifying an unique deployed index ID."
   ]
  },
  {
   "cell_type": "code",
   "execution_count": 17,
   "metadata": {
    "id": "FcBHLifGwAWq",
    "tags": []
   },
   "outputs": [],
   "source": [
    "DEPLOYED_INDEX_ID = f\"embvs_tutorial_deployed_{UID}\""
   ]
  },
  {
   "cell_type": "code",
   "execution_count": 18,
   "metadata": {
    "id": "1jUoGhY5TPFP",
    "tags": []
   },
   "outputs": [
    {
     "name": "stdout",
     "output_type": "stream",
     "text": [
      "Deploying index MatchingEngineIndexEndpoint index_endpoint: projects/630020070196/locations/us-central1/indexEndpoints/995625371137212416\n",
      "Deploy index MatchingEngineIndexEndpoint index_endpoint backing LRO: projects/630020070196/locations/us-central1/indexEndpoints/995625371137212416/operations/1410874800863182848\n",
      "MatchingEngineIndexEndpoint index_endpoint Deployed index. Resource name: projects/630020070196/locations/us-central1/indexEndpoints/995625371137212416\n"
     ]
    },
    {
     "data": {
      "text/plain": [
       "<google.cloud.aiplatform.matching_engine.matching_engine_index_endpoint.MatchingEngineIndexEndpoint object at 0x7f0f7c844220> \n",
       "resource name: projects/630020070196/locations/us-central1/indexEndpoints/995625371137212416"
      ]
     },
     "execution_count": 18,
     "metadata": {},
     "output_type": "execute_result"
    }
   ],
   "source": [
    "# deploy the Index to the Index Endpoint\n",
    "my_index_endpoint.deploy_index(index=my_index, deployed_index_id=DEPLOYED_INDEX_ID)"
   ]
  },
  {
   "cell_type": "markdown",
   "metadata": {
    "id": "xu9ZmWcpXQ55"
   },
   "source": [
    "If it is the first time to deploy an Index to an Index Endpoint, it will take around 25 minutes to automatically build and initiate the backend for it. After the first deployment, it will finish in seconds. To see the status of the index deployment, open [the Vector Search Console > INDEX ENDPOINTS tab](https://console.cloud.google.com/vertex-ai/matching-engine/index-endpoints) and click the Index Endpoint.\n",
    "\n",
    "<img src=\"https://storage.googleapis.com/github-repo/img/embeddings/vs-quickstart/deploying-index.png\" width=\"70%\">"
   ]
  },
  {
   "cell_type": "markdown",
   "metadata": {
    "id": "oTi4PjjbXV-O"
   },
   "source": [
    "### Run Query\n",
    "\n",
    "Finally it's ready to use Vector Search. In the following code, it creates an embedding for a test question, and find similar question with the Vector Search."
   ]
  },
  {
   "cell_type": "code",
   "execution_count": 19,
   "metadata": {
    "id": "FhNuRQqUWdfe",
    "tags": []
   },
   "outputs": [
    {
     "name": "stderr",
     "output_type": "stream",
     "text": [
      "100%|██████████| 1/1 [00:01<00:00,  1.13s/it]\n"
     ]
    }
   ],
   "source": [
    "test_embeddings = get_embeddings_wrapper([\"How to read JSON with Python?\"])"
   ]
  },
  {
   "cell_type": "code",
   "execution_count": 20,
   "metadata": {
    "id": "Q01DGMBPXAg-",
    "tags": []
   },
   "outputs": [
    {
     "name": "stdout",
     "output_type": "stream",
     "text": [
      "0.7736 How to list json field names and values?\n",
      "0.7203 Karate how to parse this json string response\n",
      "0.6960 How to add value in a column in pandas?\n",
      "0.6915 How to split string in correct way?\n",
      "0.6913 Why is JSON_UNESCAPED_LINE_TERMINATORS not unescaping my newlines?\n",
      "0.6885 Parse very large JSON files with dynamic data\n",
      "0.6870 Validate Request against OpenAPI YAML in Python\n",
      "0.6809 Java Stream: How to find id from json?\n",
      "0.6805 How to select multiple lines that contain a specific word with regex?\n",
      "0.6780 How to save pandas dataframe into partitioned JSON\n",
      "0.6727 OAuth 2.0/OIDC with MFA in Powershell => How to convert to Python\n",
      "0.6674 Parsing nested and complex XML in Python\n",
      "0.6645 How to append list with a for loop?\n",
      "0.6632 Ajax post call seems to work, still throws error?\n",
      "0.6613 How to retrieve data from dictionaries contained in a pandas dataframe column from each row\n",
      "0.6606 Why won't my get route run my mongoose query?\n",
      "0.6589 nested value from nested index python\n",
      "0.6578 Applescript unable to grab return of Python call\n",
      "0.6572 How to integrate Google One Tap login with django-allauth?\n",
      "0.6559 How to provide an argument when importing a Python module containing class definitions?\n"
     ]
    }
   ],
   "source": [
    "# Test query\n",
    "response = my_index_endpoint.find_neighbors(\n",
    "    deployed_index_id=DEPLOYED_INDEX_ID,\n",
    "    queries=test_embeddings,\n",
    "    num_neighbors=20,\n",
    ")\n",
    "\n",
    "# show the result\n",
    "import numpy as np\n",
    "\n",
    "for idx, neighbor in enumerate(response[0]):\n",
    "    id = np.int64(neighbor.id)\n",
    "    similar = df.query(\"id == @id\", engine=\"python\")\n",
    "    print(f\"{neighbor.distance:.4f} {similar.title.values[0]}\")"
   ]
  },
  {
   "cell_type": "markdown",
   "metadata": {
    "id": "tPDOL9caoYZ9"
   },
   "source": [
    "The `find_neighbors` function only takes milliseconds to fetch the similar items even when you have billions of items on the Index, thanks to the ScaNN algorithm. Vector Search also supports [autoscaling](https://cloud.google.com/vertex-ai/docs/vector-search/deploy-index-public#autoscaling) which can automatically resize the number of nodes based on the demands of your workloads."
   ]
  },
  {
   "cell_type": "markdown",
   "metadata": {
    "id": "DDt4D6FDyc66"
   },
   "source": [
    "# IMPORTANT: Cleaning Up\n",
    "\n",
    "In case you are using your own Cloud project, not a temporary project on Qwiklab, please make sure to delete all the Indexes, Index Endpoints and Cloud Storage buckets after finishing this tutorial. Otherwise the remaining objects would **incur unexpected costs**.\n",
    "\n",
    "If you used Workbench, you may also need to delete the Notebooks from [the console](https://console.cloud.google.com/vertex-ai/workbench)."
   ]
  },
  {
   "cell_type": "code",
   "execution_count": null,
   "metadata": {
    "id": "MEsKVzguyxNx",
    "tags": []
   },
   "outputs": [],
   "source": [
    "# wait for a confirmation\n",
    "input(\"Press Enter to delete Index Endpoint, Index and Cloud Storage bucket:\")\n",
    "\n",
    "# delete Index Endpoint\n",
    "my_index_endpoint.undeploy_all()\n",
    "my_index_endpoint.delete(force=True)\n",
    "\n",
    "# delete Index\n",
    "my_index.delete()\n",
    "\n",
    "# delete Cloud Storage bucket\n",
    "! gsutil rm -r {BUCKET_URI}"
   ]
  },
  {
   "cell_type": "markdown",
   "metadata": {
    "id": "b8k26QOF3Ys7"
   },
   "source": [
    "# Summary\n",
    "\n",
    "## Grounding LLM outputs with Vertex AI Vector Search\n",
    "\n",
    "As we have seen, by combining the Embeddings API and Vector Search, you can use the embeddings to \"ground\" LLM outputs to real business data with low latency.\n",
    "\n",
    "For example, if an user asks a question, Embeddings API can convert it to an embedding, and issue a query on Vector Search to find similar embeddings in its index. Those embeddings represent the actual business data in the databases. As we are just retrieving the business data and not generating any artificial texts, there is no risk of having hallucinations in the result.\n",
    "\n",
    "![](https://storage.googleapis.com/gweb-cloudblog-publish/original_images/10._grounding.png)\n",
    "\n",
    "### The difference between the questions and answers\n",
    "\n",
    "In this tutorial, we have used the Stack Overflow dataset. There is a reason why we had to use it; As the dataset has many pairs of **questions and answers**, so you can just find questions similar to your question to find answers to it.\n",
    "\n",
    "In many business use cases, the semantics (meaning) of questions and answers are different. Also, there could be cases where you would want to add variety of recommended or personalized items to the results, like product search on e-commerce sites.\n",
    "\n",
    "In these cases, the simple semantics search don't work well. It's more like a recommendation system problem where you may want to train a model (e.g. Two-Tower model) to learn the relationship between the question embedding space and answer embedding space. Also, many production systems adds reranking phase after the semantic search to achieve higher search quality. Please see [Scaling deep retrieval with TensorFlow Recommenders and Vertex AI Matching Engine](https://cloud.google.com/blog/products/ai-machine-learning/scaling-deep-retrieval-tensorflow-two-towers-architecture) to learn more.\n",
    "\n",
    "### Hybrid of semantic + keyword search\n",
    "\n",
    "Another typical challenge you will face in production system is to support keyword search combined with the semantic search. For example, for e-commerce product search, you may want to let users find product by entering its product name or model number. As LLM doesn't memorize those product names or model numbers, semantic search can't handle those \"usual\" search functionalities.\n",
    "\n",
    "[Vertex AI Search](https://cloud.google.com/blog/products/ai-machine-learning/vertex-ai-search-and-conversation-is-now-generally-available) is another product you may consider for those requirements. While Vector Search provides a simple semantic search capability only, Search provides a integrated search solution that combines semantic search, keyword search, reranking and filtering, available as an out-of-the-box tool.\n",
    "\n",
    "### What about Retrieval Augmented Generation (RAG)?\n",
    "\n",
    "In this tutorial, we have looked at the simple combination of LLM embeddings and vector search. From this starting point, you may also extend the design to [Retrieval Augmented Generation (RAG)](https://www.google.com/search?q=Retrieval+Augmented+Generation+(RAG)&oq=Retrieval+Augmented+Generation+(RAG)).\n",
    "\n",
    "RAG is a popular architecture pattern of implementing grounding with LLM with text chat UI. The idea is to have the LLM text chat UI as a frontend for the document retrieval with vector search and summarization of the result.\n",
    "\n",
    "![](https://storage.googleapis.com/gweb-cloudblog-publish/images/Figure-7-Ask_Your_Documents_Flow.max-529x434.png)\n",
    "\n",
    "There are some pros and cons between the two solutions.\n",
    "\n",
    "| | Embeddings + vector search | RAG |\n",
    "|---|---|---|\n",
    "| Design | simple | complex |\n",
    "| UI | Text search UI | Text chat UI |\n",
    "| Summarization of result | No | Yes |\n",
    "| Multi-turn (Context aware) | No | Yes |\n",
    "| Latency | millisecs | seconds |\n",
    "| Cost | lower | higher |\n",
    "| Hallucinations | No risk | Some risk |\n",
    "\n",
    "The Embedding + vector search pattern we have looked at with this tutorial provides simple, fast and low cost semantic search functionality with the LLM intelligence. RAG adds context-aware text chat experience and result summarization to it. While RAG provides the more \"Gen AI-ish\" experience, it also adds a risk of hallucination and higher cost and time for the text generation.\n",
    "\n",
    "To learn more about how to build a RAG solution, you may look at [Building Generative AI applications made easy with Vertex AI PaLM API and LangChain](https://cloud.google.com/blog/products/ai-machine-learning/generative-ai-applications-with-vertex-ai-palm-2-models-and-langchain).\n",
    "\n",
    "## Resources\n",
    "\n",
    "To learn more, please check out the following resources:\n",
    "\n",
    "### Documentations\n",
    "\n",
    "[Vertex AI Embeddings for Text API documentation\n",
    "](https://cloud.google.com/vertex-ai/docs/generative-ai/embeddings/get-text-embeddings)\n",
    "\n",
    "[Vector Search documentation](https://cloud.google.com/vertex-ai/docs/matching-engine/overview)\n",
    "\n",
    "### Vector Search blog posts\n",
    "\n",
    "[Vertex Matching Engine: Blazing fast and massively scalable nearest neighbor search](https://cloud.google.com/blog/products/ai-machine-learning/vertex-matching-engine-blazing-fast-and-massively-scalable-nearest-neighbor-search)\n",
    "\n",
    "[Find anything blazingly fast with Google's vector search technology](https://cloud.google.com/blog/topics/developers-practitioners/find-anything-blazingly-fast-googles-vector-search-technology)\n",
    "\n",
    "[Enabling real-time AI with Streaming Ingestion in Vertex AI](https://cloud.google.com/blog/products/ai-machine-learning/real-time-ai-with-google-cloud-vertex-ai)\n",
    "\n",
    "[Mercari leverages Google's vector search technology to create a new marketplace](https://cloud.google.com/blog/topics/developers-practitioners/mercari-leverages-googles-vector-search-technology-create-new-marketplace)\n",
    "\n",
    "[Recommending news articles using Vertex AI Matching Engine](https://cloud.google.com/blog/products/ai-machine-learning/recommending-articles-using-vertex-ai-matching-engine)\n",
    "\n",
    "[What is Multimodal Search: \"LLMs with vision\" change businesses](https://cloud.google.com/blog/products/ai-machine-learning/multimodal-generative-ai-search)"
   ]
  },
  {
   "cell_type": "markdown",
   "metadata": {
    "id": "BE1tELsH-u8N"
   },
   "source": [
    "# Utilities\n",
    "\n",
    "Sometimes it takes tens of minutes to create or deploy Indexes and you would lose connection with the Colab runtime. In that case, instead of creating or deploying new Index again, you can check [the Vector Search Console](https://console.cloud.google.com/vertex-ai/matching-engine/index-endpoints) and get the existing ones to continue."
   ]
  },
  {
   "cell_type": "markdown",
   "metadata": {
    "id": "wF_pkdpJ-yaq"
   },
   "source": [
    "## Get an existing Index\n",
    "\n",
    "To get an Index object that already exists, replace the following `[your-index-id]` with the index ID and run the cell. You can check the ID on [the Vector Search Console > INDEXES tab](https://console.cloud.google.com/vertex-ai/matching-engine/indexes)."
   ]
  },
  {
   "cell_type": "code",
   "execution_count": null,
   "metadata": {
    "id": "mEBkZZt_-0jG",
    "tags": []
   },
   "outputs": [],
   "source": [
    "my_index_id = \"[your-index-id]\"  # @param {type:\"string\"}\n",
    "my_index = aiplatform.MatchingEngineIndex(my_index_id)"
   ]
  },
  {
   "cell_type": "markdown",
   "metadata": {
    "id": "_vlgzkyw-3CI"
   },
   "source": [
    "## Get an existing Index Endpoint\n",
    "\n",
    "To get an Index Endpoint object that already exists, replace the following `[your-index-endpoint-id]` with the Index Endpoint ID and run the cell. You can check the ID on [the Vector Search Console > INDEX ENDPOINTS tab](https://console.cloud.google.com/vertex-ai/matching-engine/index-endpoints)."
   ]
  },
  {
   "cell_type": "code",
   "execution_count": null,
   "metadata": {
    "id": "E0OFnirF-6Rk",
    "tags": []
   },
   "outputs": [],
   "source": [
    "my_index_endpoint_id = \"[your-index-endpoint-id]\"  # @param {type:\"string\"}\n",
    "my_index_endpoint = aiplatform.MatchingEngineIndexEndpoint(my_index_endpoint_id)"
   ]
  },
  {
   "cell_type": "code",
   "execution_count": null,
   "metadata": {},
   "outputs": [],
   "source": []
  },
  {
   "cell_type": "code",
   "execution_count": null,
   "metadata": {},
   "outputs": [],
   "source": []
  },
  {
   "cell_type": "code",
   "execution_count": null,
   "metadata": {},
   "outputs": [],
   "source": []
  }
 ],
 "metadata": {
  "colab": {
   "name": "intro-textemb-vectorsearch.ipynb",
   "toc_visible": true
  },
  "environment": {
   "kernel": "conda-base-py",
   "name": "workbench-notebooks.m125",
   "type": "gcloud",
   "uri": "us-docker.pkg.dev/deeplearning-platform-release/gcr.io/workbench-notebooks:m125"
  },
  "kernelspec": {
   "display_name": "Python 3 (ipykernel) (Local)",
   "language": "python",
   "name": "conda-base-py"
  },
  "language_info": {
   "codemirror_mode": {
    "name": "ipython",
    "version": 3
   },
   "file_extension": ".py",
   "mimetype": "text/x-python",
   "name": "python",
   "nbconvert_exporter": "python",
   "pygments_lexer": "ipython3",
   "version": "3.10.15"
  }
 },
 "nbformat": 4,
 "nbformat_minor": 4
}
