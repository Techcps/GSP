{
 "cells": [
  {
   "cell_type": "code",
   "execution_count": 1,
   "metadata": {
    "id": "ur8xi4C7S06n",
    "tags": []
   },
   "outputs": [],
   "source": [
    "# Copyright 2024 Google LLC\n",
    "#\n",
    "# Licensed under the Apache License, Version 2.0 (the \"License\");\n",
    "# you may not use this file except in compliance with the License.\n",
    "# You may obtain a copy of the License at\n",
    "#\n",
    "#     https://www.apache.org/licenses/LICENSE-2.0\n",
    "#\n",
    "# Unless required by applicable law or agreed to in writing, software\n",
    "# distributed under the License is distributed on an \"AS IS\" BASIS,\n",
    "# WITHOUT WARRANTIES OR CONDITIONS OF ANY KIND, either express or implied.\n",
    "# See the License for the specific language governing permissions and\n",
    "# limitations under the License."
   ]
  },
  {
   "cell_type": "markdown",
   "metadata": {
    "id": "JAPoU8Sm5E6e"
   },
   "source": [
    "# Prompt Design - Best Practices\n",
    "\n",
    "<table align=\"left\">\n",
    "  <td style=\"text-align: center\">\n",
    "    <a href=\"https://colab.research.google.com/github/GoogleCloudPlatform/generative-ai/blob/main/gemini/prompts/intro_prompt_design.ipynb\">\n",
    "      <img src=\"https://cloud.google.com/ml-engine/images/colab-logo-32px.png\" alt=\"Google Colaboratory logo\"><br> Open in Colab\n",
    "    </a>\n",
    "  </td>\n",
    "  <td style=\"text-align: center\">\n",
    "    <a href=\"https://console.cloud.google.com/vertex-ai/colab/import/https:%2F%2Fraw.githubusercontent.com%2FGoogleCloudPlatform%2Fgenerative-ai%2Fmain%2Fgemini%2Fprompts%2Fintro_prompt_design.ipynb\">\n",
    "      <img width=\"32px\" src=\"https://lh3.googleusercontent.com/JmcxdQi-qOpctIvWKgPtrzZdJJK-J3sWE1RsfjZNwshCFgE_9fULcNpuXYTilIR2hjwN\" alt=\"Google Cloud Colab Enterprise logo\"><br> Open in Colab Enterprise\n",
    "    </a>\n",
    "  </td>    \n",
    "  <td style=\"text-align: center\">\n",
    "    <a href=\"https://console.cloud.google.com/vertex-ai/workbench/deploy-notebook?download_url=https://raw.githubusercontent.com/GoogleCloudPlatform/generative-ai/main/gemini/prompts/intro_prompt_design.ipynb\">\n",
    "      <img src=\"https://lh3.googleusercontent.com/UiNooY4LUgW_oTvpsNhPpQzsstV5W8F7rYgxgGBD85cWJoLmrOzhVs_ksK_vgx40SHs7jCqkTkCk=e14-rj-sc0xffffff-h130-w32\" alt=\"Vertex AI logo\"><br> Open in Workbench\n",
    "    </a>\n",
    "  </td>\n",
    "  <td style=\"text-align: center\">\n",
    "    <a href=\"https://github.com/GoogleCloudPlatform/generative-ai/blob/main/gemini/prompts/intro_prompt_design.ipynb\">\n",
    "      <img src=\"https://cloud.google.com/ml-engine/images/github-logo-32px.png\" alt=\"GitHub logo\"><br> View on GitHub\n",
    "    </a>\n",
    "  </td>\n",
    "  <td style=\"text-align: center\">\n",
    "    <a href=\"https://goo.gle/4fWHlze\">\n",
    "      <img width=\"32px\" src=\"https://cdn.qwiklabs.com/assets/gcp_cloud-e3a77215f0b8bfa9b3f611c0d2208c7e8708ed31.svg\" alt=\"Google Cloud logo\"><br> Open in  Cloud Skills Boost\n",
    "    </a>\n",
    "  </td>\n",
    "</table>\n",
    "\n",
    "<div style=\"clear: both;\"></div>\n",
    "\n",
    "<b>Share to:</b>\n",
    "\n",
    "<a href=\"https://www.linkedin.com/sharing/share-offsite/?url=https%3A//github.com/GoogleCloudPlatform/generative-ai/blob/main/gemini/prompts/intro_prompt_design.ipynb\" target=\"_blank\">\n",
    "  <img width=\"20px\" src=\"https://upload.wikimedia.org/wikipedia/commons/8/81/LinkedIn_icon.svg\" alt=\"LinkedIn logo\">\n",
    "</a>\n",
    "\n",
    "<a href=\"https://bsky.app/intent/compose?text=https%3A//github.com/GoogleCloudPlatform/generative-ai/blob/main/gemini/prompts/intro_prompt_design.ipynb\" target=\"_blank\">\n",
    "  <img width=\"20px\" src=\"https://upload.wikimedia.org/wikipedia/commons/7/7a/Bluesky_Logo.svg\" alt=\"Bluesky logo\">\n",
    "</a>\n",
    "\n",
    "<a href=\"https://twitter.com/intent/tweet?url=https%3A//github.com/GoogleCloudPlatform/generative-ai/blob/main/gemini/prompts/intro_prompt_design.ipynb\" target=\"_blank\">\n",
    "  <img width=\"20px\" src=\"https://upload.wikimedia.org/wikipedia/commons/5/53/X_logo_2023_original.svg\" alt=\"X logo\">\n",
    "</a>\n",
    "\n",
    "<a href=\"https://reddit.com/submit?url=https%3A//github.com/GoogleCloudPlatform/generative-ai/blob/main/gemini/prompts/intro_prompt_design.ipynb\" target=\"_blank\">\n",
    "  <img width=\"20px\" src=\"https://redditinc.com/hubfs/Reddit%20Inc/Brand/Reddit_Logo.png\" alt=\"Reddit logo\">\n",
    "</a>\n",
    "\n",
    "<a href=\"https://www.facebook.com/sharer/sharer.php?u=https%3A//github.com/GoogleCloudPlatform/generative-ai/blob/main/gemini/prompts/intro_prompt_design.ipynb\" target=\"_blank\">\n",
    "  <img width=\"20px\" src=\"https://upload.wikimedia.org/wikipedia/commons/5/51/Facebook_f_logo_%282019%29.svg\" alt=\"Facebook logo\">\n",
    "</a>            "
   ]
  },
  {
   "cell_type": "markdown",
   "metadata": {
    "id": "84f0f73a0f76"
   },
   "source": [
    "| | |\n",
    "|-|-|\n",
    "|Author(s) | [Polong Lin](https://github.com/polong-lin), [Karl Weinmeister](https://github.com/kweinmeister) |"
   ]
  },
  {
   "cell_type": "markdown",
   "metadata": {
    "id": "tvgnzT1CKxrO"
   },
   "source": [
    "## Overview\n",
    "\n",
    "This notebook covers the essentials of prompt engineering, including some best practices.\n",
    "\n",
    "Learn more about prompt design in the [official documentation](https://cloud.google.com/vertex-ai/docs/generative-ai/text/text-overview).\n",
    "\n",
    "In this notebook, you learn best practices around prompt engineering -- how to design prompts to improve the quality of your responses.\n",
    "\n",
    "This notebook covers the following best practices for prompt engineering:\n",
    "\n",
    "- Be concise\n",
    "- Be specific and well-defined\n",
    "- Ask one task at a time\n",
    "- Turn generative tasks into classification tasks\n",
    "- Improve response quality by including examples"
   ]
  },
  {
   "cell_type": "markdown",
   "metadata": {
    "id": "61RBz8LLbxCR"
   },
   "source": [
    "## Getting Started"
   ]
  },
  {
   "cell_type": "markdown",
   "metadata": {
    "id": "No17Cw5hgx12"
   },
   "source": [
    "### Install Google Gen AI SDK\n"
   ]
  },
  {
   "cell_type": "code",
   "execution_count": 2,
   "metadata": {
    "id": "tFy3H3aPgx12",
    "tags": []
   },
   "outputs": [
    {
     "name": "stdout",
     "output_type": "stream",
     "text": [
      "Note: you may need to restart the kernel to use updated packages.\n"
     ]
    }
   ],
   "source": [
    "%pip install --upgrade --quiet google-genai"
   ]
  },
  {
   "cell_type": "markdown",
   "metadata": {
    "id": "R5Xep4W9lq-Z"
   },
   "source": [
    "### Restart runtime\n",
    "\n",
    "To use the newly installed packages in this Jupyter runtime, you must restart the runtime. You can do this by running the cell below, which will restart the current kernel."
   ]
  },
  {
   "cell_type": "code",
   "execution_count": 3,
   "metadata": {
    "id": "XRvKdaPDTznN",
    "tags": []
   },
   "outputs": [
    {
     "data": {
      "text/plain": [
       "{'status': 'ok', 'restart': True}"
      ]
     },
     "execution_count": 3,
     "metadata": {},
     "output_type": "execute_result"
    }
   ],
   "source": [
    "import IPython\n",
    "\n",
    "app = IPython.Application.instance()\n",
    "app.kernel.do_shutdown(True)"
   ]
  },
  {
   "cell_type": "markdown",
   "metadata": {
    "id": "SbmM4z7FOBpM"
   },
   "source": [
    "<div class=\"alert alert-block alert-warning\">\n",
    "<b>⚠️ The kernel is going to restart. Please wait until it is finished before continuing to the next step. ⚠️</b>\n",
    "</div>\n"
   ]
  },
  {
   "cell_type": "markdown",
   "metadata": {
    "id": "dmWOrTJ3gx13"
   },
   "source": [
    "### Authenticate your notebook environment (Colab only)\n",
    "\n",
    "Authenticate your environment on Google Colab.\n"
   ]
  },
  {
   "cell_type": "code",
   "execution_count": 1,
   "metadata": {
    "id": "NyKGtVQjgx13",
    "tags": []
   },
   "outputs": [],
   "source": [
    "import sys\n",
    "\n",
    "if \"google.colab\" in sys.modules:\n",
    "    from google.colab import auth\n",
    "\n",
    "    auth.authenticate_user()"
   ]
  },
  {
   "cell_type": "markdown",
   "metadata": {
    "id": "06489bd14f16"
   },
   "source": [
    "### Import libraries\n"
   ]
  },
  {
   "cell_type": "code",
   "execution_count": 2,
   "metadata": {
    "id": "154137022fb6",
    "tags": []
   },
   "outputs": [],
   "source": [
    "from IPython.display import Markdown, display\n",
    "from google import genai\n",
    "from google.genai.types import GenerateContentConfig"
   ]
  },
  {
   "cell_type": "markdown",
   "metadata": {
    "id": "DF4l8DTdWgPY"
   },
   "source": [
    "### Set Google Cloud project information and create client\n",
    "\n",
    "To get started using Vertex AI, you must have an existing Google Cloud project and [enable the Vertex AI API](https://console.cloud.google.com/flows/enableapi?apiid=aiplatform.googleapis.com).\n",
    "\n",
    "Learn more about [setting up a project and a development environment](https://cloud.google.com/vertex-ai/docs/start/cloud-environment)."
   ]
  },
  {
   "cell_type": "code",
   "execution_count": 3,
   "metadata": {
    "id": "Nqwi-5ufWp_B",
    "tags": []
   },
   "outputs": [],
   "source": [
    "import os\n",
    "\n",
    "PROJECT_ID = \"qwiklabs-gcp-04-28dc4a1f3426\"  # @param {type: \"string\", placeholder: \"[your-project-id]\", isTemplate: true}\n",
    "if not PROJECT_ID or PROJECT_ID == \"qwiklabs-gcp-04-28dc4a1f3426\":\n",
    "    PROJECT_ID = str(os.environ.get(\"GOOGLE_CLOUD_PROJECT\"))\n",
    "\n",
    "LOCATION = os.environ.get(\"GOOGLE_CLOUD_REGION\", \"us-east1\")"
   ]
  },
  {
   "cell_type": "code",
   "execution_count": 4,
   "metadata": {
    "id": "QqRWdPGmW3NJ",
    "tags": []
   },
   "outputs": [],
   "source": [
    "client = genai.Client(vertexai=True, project=PROJECT_ID, location=LOCATION)"
   ]
  },
  {
   "cell_type": "markdown",
   "metadata": {
    "id": "OnFPpCRtXRl4"
   },
   "source": [
    "### Load model\n",
    "\n",
    "Learn more about all [Gemini models on Vertex AI](https://cloud.google.com/vertex-ai/generative-ai/docs/learn/models#gemini-models)."
   ]
  },
  {
   "cell_type": "code",
   "execution_count": 5,
   "metadata": {
    "id": "IQYu_9SvXQah",
    "tags": []
   },
   "outputs": [],
   "source": [
    "MODEL_ID = \"gemini-2.0-flash-001\"  # @param {type: \"string\"}"
   ]
  },
  {
   "cell_type": "markdown",
   "metadata": {
    "id": "cVOtUNJ5X0PY"
   },
   "source": [
    "## Prompt engineering best practices"
   ]
  },
  {
   "cell_type": "markdown",
   "metadata": {
    "id": "uv_e0fEPX60q"
   },
   "source": [
    "Prompt engineering is all about how to design your prompts so that the response is what you were indeed hoping to see.\n",
    "\n",
    "The idea of using \"unfancy\" prompts is to minimize the noise in your prompt to reduce the possibility of the LLM misinterpreting the intent of the prompt. Below are a few guidelines on how to engineer \"unfancy\" prompts.\n",
    "\n",
    "In this section, you'll cover the following best practices when engineering prompts:\n",
    "\n",
    "* Be concise\n",
    "* Be specific, and well-defined\n",
    "* Ask one task at a time\n",
    "* Improve response quality by including examples\n",
    "* Turn generative tasks to classification tasks to improve safety"
   ]
  },
  {
   "cell_type": "markdown",
   "metadata": {
    "id": "0pY4XX0OX9_Y"
   },
   "source": [
    "### Be concise"
   ]
  },
  {
   "cell_type": "markdown",
   "metadata": {
    "id": "xlRpxyxGYA1K"
   },
   "source": [
    "🛑 Not recommended. The prompt below is unnecessarily verbose."
   ]
  },
  {
   "cell_type": "code",
   "execution_count": 6,
   "metadata": {
    "id": "YKV4G-CfXdbi",
    "tags": []
   },
   "outputs": [
    {
     "data": {
      "text/markdown": [
       "Okay, here are some name ideas for a dried flower shop, playing on different angles:\n",
       "\n",
       "**Emphasizing Preservation & Longevity:**\n",
       "\n",
       "*   **Eternal Blooms:** Simple, elegant, and gets right to the point.\n",
       "*   **Lasting Petals:** Evokes the lasting quality of dried flowers.\n",
       "*   **Timeless Flora:** Highlights the enduring beauty of the flowers.\n",
       "*   **The Preserved Petal:** Focuses on the preservation process.\n",
       "*   **Everlasting Arrangements:** A classic and clear description.\n",
       "*   **Amber & Bloom:** Uses amber, a symbol of preservation, and combines it with \"bloom\"\n",
       "*   **The Still Life Florist:** Evokes the artful nature of dried arrangements.\n",
       "\n",
       "**Highlighting Artistry & Design:**\n",
       "\n",
       "*   **The Dried Stem:** Simple, modern, and a bit edgy.\n",
       "*   **Dust & Bloom:** A slightly moodier, evocative name.\n",
       "*   **Terra Flora:** \"Earth Flowers,\" hinting at the natural and earthy tones of dried arrangements.\n",
       "*   **Fleur Sec Studio:** (French for \"dry flower\") - Sophisticated and artistic.\n",
       "*   **The Botanical Atelier:** \"Atelier\" suggests a workshop or studio, emphasizing the craft.\n",
       "*   **Gathered & Dried:** Highlights the process of collecting and preserving.\n",
       "\n",
       "**Emphasizing Natural & Rustic Elements:**\n",
       "\n",
       "*   **The Wildflower Stems:** Evokes a natural, untamed feel.\n",
       "*   **Prairie Blooms:** Connects to a natural, open landscape.\n",
       "*   **The Rustic Wreath:** Emphasizes a specific type of dried flower arrangement.\n",
       "*   **Dried Goods & Blooms:** Combines the floral element with a \"general store\" feel.\n",
       "*   **The Lavender Lane:** If you specialize in lavender, this could be perfect.\n",
       "\n",
       "**Modern & Playful:**\n",
       "\n",
       "*   **The Dry Spell:** A punny and memorable name.\n",
       "*   **Petrified Petals:** A bit quirky and attention-grabbing.\n",
       "*   **Bloom Room Dry:** A spin on the more common \"Bloom Room\" name.\n",
       "*   **Unwilted:** Short, catchy, and implies the lasting quality.\n",
       "*   **The Dusty Daisy:** Playful and hints at vintage charm.\n",
       "\n",
       "**Tips for Choosing the Best Name:**\n",
       "\n",
       "*   **Check Availability:** Make sure the name isn't already in use by another business, especially in your area. Also, check if the domain name and social media handles are available.\n",
       "*   **Consider Your Target Audience:** Who are you trying to attract? A more sophisticated name might appeal to a different clientele than a playful one.\n",
       "*   **Keep it Short and Memorable:** Easy to say, easy to remember.\n",
       "*   **Get Feedback:** Ask friends, family, or potential customers what they think of your favorite names.\n",
       "\n",
       "Ultimately, the best name will reflect your shop's unique style and the specific type of dried flower arrangements you offer. Good luck!\n"
      ],
      "text/plain": [
       "<IPython.core.display.Markdown object>"
      ]
     },
     "metadata": {},
     "output_type": "display_data"
    }
   ],
   "source": [
    "prompt = \"What do you think could be a good name for a flower shop that specializes in selling bouquets of dried flowers more than fresh flowers?\"\n",
    "\n",
    "response = client.models.generate_content(model=MODEL_ID, contents=prompt)\n",
    "display(Markdown(response.text))"
   ]
  },
  {
   "cell_type": "markdown",
   "metadata": {
    "id": "YrJexRHJYnmC"
   },
   "source": [
    "✅ Recommended. The prompt below is to the point and concise."
   ]
  },
  {
   "cell_type": "code",
   "execution_count": 7,
   "metadata": {
    "id": "VHetn9lCYrXB",
    "tags": []
   },
   "outputs": [
    {
     "data": {
      "text/markdown": [
       "Okay, here are some name suggestions for a dried flower shop, broken down by style:\n",
       "\n",
       "**Elegant & Sophisticated:**\n",
       "\n",
       "*   The Everlasting Bloom\n",
       "*   Preserved Petals\n",
       "*   The Dried Bouquet Co.\n",
       "*   Botanical Still Life\n",
       "*   The Golden Stem\n",
       "*   Whispers of Bloom\n",
       "*   Timeless Flora\n",
       "*   The Dried Flower Atelier\n",
       "*   Bloom & Bone\n",
       "*   Dryad's Delight\n",
       "*  Sepia Stems\n",
       "\n",
       "**Rustic & Earthy:**\n",
       "\n",
       "*   The Wildflower Preserve\n",
       "*   Sunbaked Blooms\n",
       "*   Prairie Petals\n",
       "*   The Dried Meadow\n",
       "*   Roots & Remains\n",
       "*   Harvest Blooms\n",
       "*   The Burlap Bouquet\n",
       "*   Ember & Bloom\n",
       "*   Rustic Stems\n",
       "*   Earth & Everlast\n",
       "\n",
       "**Modern & Minimalist:**\n",
       "\n",
       "*   Dried.\n",
       "*   The Still Life Studio\n",
       "*   Unfading\n",
       "*   The Dried Flower Project\n",
       "*   Modern Blooms\n",
       "*   The Everlasting Edit\n",
       "*   Dried & Co.\n",
       "*   Static Blooms\n",
       "\n",
       "**Playful & Whimsical:**\n",
       "\n",
       "*   The Flower Alchemist\n",
       "*   The Petal Pusher (with a twist, since they're dried)\n",
       "*   Bloom Boom Dried\n",
       "*   The Dried Flower Fairy\n",
       "*   Forever Flowers\n",
       "*   Dried & Dusted\n",
       "*   The Keep Sake Bloom\n",
       "\n",
       "**Location Specific (if applicable):**\n",
       "\n",
       "*   [Town/Region Name] Dried Flowers\n",
       "*   The [Street Name] Bloom\n",
       "\n",
       "**Tips for Choosing:**\n",
       "\n",
       "*   **Target Audience:** Who are you trying to attract? (e.g., sophisticated brides, rustic home decorators, modern art lovers)\n",
       "*   **Brand Personality:**  What feeling do you want your shop to evoke?\n",
       "*   **Availability:** Check if the name and a related domain name are available.\n",
       "*   **Memorability:** Is it easy to remember and pronounce?\n",
       "*   **Originality:** Does it stand out from other flower shops in your area?\n",
       "\n",
       "To help me narrow down the best suggestion for *you*, consider:\n",
       "\n",
       "*   **What is the overall style/aesthetic of your shop?** (Modern, vintage, bohemian, etc.)\n",
       "*   **Do you have a specific flower type that you specialize in?** (e.g., lavender, roses, pampas grass)\n",
       "*   **What feeling do you want customers to have when they hear your shop's name?**\n",
       "\n",
       "Good luck! I hope this helps you find the perfect name!\n"
      ],
      "text/plain": [
       "<IPython.core.display.Markdown object>"
      ]
     },
     "metadata": {},
     "output_type": "display_data"
    }
   ],
   "source": [
    "prompt = \"Suggest a name for a flower shop that sells bouquets of dried flowers\"\n",
    "\n",
    "response = client.models.generate_content(model=MODEL_ID, contents=prompt)\n",
    "display(Markdown(response.text))"
   ]
  },
  {
   "cell_type": "markdown",
   "metadata": {
    "id": "eXTAvdOHY0OC"
   },
   "source": [
    "### Be specific, and well-defined"
   ]
  },
  {
   "cell_type": "markdown",
   "metadata": {
    "id": "FTH4GEIgY1dp"
   },
   "source": [
    "Suppose that you want to brainstorm creative ways to describe Earth."
   ]
  },
  {
   "cell_type": "markdown",
   "metadata": {
    "id": "o5BmXBiGY4KC"
   },
   "source": [
    "🛑 The prompt below might be a bit too generic (which is certainly OK if you'd like to ask a generic question!)"
   ]
  },
  {
   "cell_type": "code",
   "execution_count": 8,
   "metadata": {
    "id": "eHBaMvv7Y6mR",
    "tags": []
   },
   "outputs": [
    {
     "data": {
      "text/markdown": [
       "Okay, let's dive into some fascinating facts about our home, Earth!\n",
       "\n",
       "**General Overview:**\n",
       "\n",
       "*   **Name:** Earth (The only planet not named after a Greek or Roman deity.)\n",
       "*   **Planet Type:** Terrestrial (rocky)\n",
       "*   **Location:** Third planet from the Sun in our Solar System.\n",
       "*   **Age:** Approximately 4.54 billion years old.\n",
       "*   **Diameter:** About 12,742 kilometers (7,918 miles).\n",
       "*   **Circumference:** Roughly 40,075 kilometers (24,901 miles) at the equator.\n",
       "*   **Mass:** About 5.97 x 10^24 kilograms\n",
       "*   **Orbit:** Nearly circular orbit around the Sun.\n",
       "*   **Rotation:** Rotates on its axis approximately every 24 hours (day/night).\n",
       "*   **Revolution:** Orbits the Sun approximately every 365.25 days (year). This extra 0.25 days is why we have leap years.\n",
       "*   **Satellite:** One natural satellite, the Moon.\n",
       "\n",
       "**Key Features and Characteristics:**\n",
       "\n",
       "*   **Habitable Zone:** Earth resides within the \"Goldilocks zone\" around the Sun – not too hot, not too cold, allowing liquid water to exist on the surface.\n",
       "*   **Water:** Abundant liquid water covers about 71% of the Earth's surface. This is crucial for life as we know it. The presence of liquid water is unique in our solar system.\n",
       "*   **Atmosphere:** A relatively dense atmosphere composed mainly of nitrogen (about 78%) and oxygen (about 21%), with trace amounts of other gases like argon, carbon dioxide, and water vapor.\n",
       "    *   **Purpose:** Protects us from harmful radiation from the sun, regulates temperature, and enables weather.\n",
       "*   **Magnetic Field:** Generated by the Earth's molten iron core, the magnetic field deflects most of the solar wind, protecting the atmosphere and life from harmful radiation.\n",
       "*   **Geology:** A dynamic planet with a constantly changing surface. Key features:\n",
       "    *   **Crust:** The Earth's outer solid layer, divided into tectonic plates.\n",
       "    *   **Mantle:** A thick, mostly solid layer beneath the crust.\n",
       "    *   **Outer Core:** A liquid layer composed mainly of iron and nickel.\n",
       "    *   **Inner Core:** A solid sphere composed primarily of iron.\n",
       "*   **Plate Tectonics:** The Earth's crust is divided into several large and small plates that slowly move and interact. This process causes earthquakes, volcanic activity, and the formation of mountains.\n",
       "*   **Life:** As far as we know, Earth is the only place in the universe where life exists. It supports an incredible diversity of plants, animals, fungi, protists, and bacteria.\n",
       "*   **Climate:** Complex and influenced by factors like solar radiation, atmospheric composition, ocean currents, and land features. Earth's climate is currently undergoing rapid changes due to human activities.\n",
       "*   **Seasons:** Caused by the Earth's axial tilt (23.5 degrees) relative to its orbit around the Sun. This tilt causes different hemispheres to receive more direct sunlight at different times of the year.\n",
       "\n",
       "**Interesting Facts:**\n",
       "\n",
       "*   Earth is not perfectly round. It bulges at the equator due to its rotation, forming an oblate spheroid.\n",
       "*   The highest point on Earth is Mount Everest, located in the Himalayas.\n",
       "*   The lowest point on land is the Dead Sea, located between Israel and Jordan.\n",
       "*   The deepest point in the ocean is the Challenger Deep in the Mariana Trench.\n",
       "*   Earth's atmosphere scatters sunlight, making the sky appear blue.\n",
       "*   Earth is the densest planet in the Solar System.\n",
       "*   The Earth's rotation is gradually slowing down due to tidal forces exerted by the Moon.\n",
       "\n",
       "**Why is Earth Special?**\n",
       "\n",
       "*   **Liquid Water:** The presence of liquid water in abundance is critical for life as we know it.\n",
       "*   **Protective Atmosphere:** Our atmosphere shields us from harmful radiation and regulates temperature.\n",
       "*   **Stable Climate:** While changing, Earth's climate has historically been stable enough to support the evolution and diversification of life.\n",
       "*   **Magnetic Field:** Protects us from the solar wind.\n",
       "*   **Geological Activity:** Plate tectonics helps to recycle elements and regulate the Earth's temperature over long timescales.\n",
       "\n",
       "**Current Challenges:**\n",
       "\n",
       "*   **Climate Change:** Primarily caused by human emissions of greenhouse gases, leading to rising temperatures, sea level rise, extreme weather events, and other environmental changes.\n",
       "*   **Pollution:** Air, water, and soil pollution threaten human health and ecosystems.\n",
       "*   **Deforestation:** Loss of forests contributes to climate change, biodiversity loss, and soil erosion.\n",
       "*   **Biodiversity Loss:** The rate of species extinction is currently much higher than the natural background rate, largely due to human activities.\n",
       "*   **Resource Depletion:** Overconsumption of natural resources like water, minerals, and fossil fuels.\n",
       "\n",
       "I can delve into any of these aspects in more detail if you'd like.  Just let me know what you're most interested in learning more about! For instance, we could talk about:\n",
       "\n",
       "*   The history of life on Earth\n",
       "*   The structure of the Earth's interior\n",
       "*   How plate tectonics work\n",
       "*   The causes and effects of climate change\n",
       "*   The Earth's relationship with the Moon\n",
       "*   Future exploration of Earth\n",
       "\n",
       "What sparks your curiosity?\n"
      ],
      "text/plain": [
       "<IPython.core.display.Markdown object>"
      ]
     },
     "metadata": {},
     "output_type": "display_data"
    }
   ],
   "source": [
    "prompt = \"Tell me about Earth\"\n",
    "\n",
    "response = client.models.generate_content(model=MODEL_ID, contents=prompt)\n",
    "display(Markdown(response.text))"
   ]
  },
  {
   "cell_type": "markdown",
   "metadata": {
    "id": "4iyvEbteZnFL"
   },
   "source": [
    "✅ Recommended. The prompt below is specific and well-defined."
   ]
  },
  {
   "cell_type": "code",
   "execution_count": 9,
   "metadata": {
    "id": "JQ80z8urZnne",
    "tags": []
   },
   "outputs": [
    {
     "data": {
      "text/markdown": [
       "Okay, here's a list of characteristics that make Earth unique compared to other planets we currently know of:\n",
       "\n",
       "**Key Factors Enabling Life:**\n",
       "\n",
       "*   **Liquid Water on the Surface:** This is arguably the most crucial factor. Earth is the only known planet in our solar system with stable bodies of liquid water on its surface (oceans, lakes, rivers). Water is essential for all known life.\n",
       "*   **Oxygen-Rich Atmosphere:** Earth's atmosphere is approximately 21% oxygen, a byproduct of photosynthesis by plants and algae. This oxygen is crucial for complex life forms (animals) that rely on aerobic respiration.\n",
       "*   **Stable Temperature Range:** Earth's distance from the sun, combined with its atmosphere, allows for a relatively stable temperature range that supports liquid water and complex biochemical processes.\n",
       "*   **Ozone Layer:** This layer in the stratosphere absorbs most of the sun's harmful ultraviolet (UV) radiation, protecting life on Earth's surface.\n",
       "*   **Plate Tectonics:** The Earth's crust is divided into plates that are constantly moving. This process recycles nutrients, regulates the carbon cycle, and creates diverse geological features.\n",
       "*   **Strong Magnetic Field:** Generated by the Earth's iron core, the magnetic field deflects harmful solar wind and cosmic radiation, protecting the atmosphere and life on the surface.\n",
       "\n",
       "**Geological and Physical Characteristics:**\n",
       "\n",
       "*   **Active Geology:** Earth is geologically active, with volcanoes, earthquakes, and mountain building. This activity releases gases from the interior, influencing the atmosphere and climate.\n",
       "*   **A Large Natural Satellite (The Moon):** The Moon stabilizes Earth's axial tilt, preventing extreme climate variations over long periods. It also influences tides, which may have played a role in the development of life.\n",
       "*   **Diverse Ecosystems:** Earth is home to a vast array of ecosystems, from rainforests to deserts to coral reefs, each supporting unique communities of organisms.\n",
       "*   **Abundance of Life (Biosphere):** Earth is the only known planet to harbor life. The presence of a complex and diverse biosphere is a defining characteristic.\n",
       "*   **Hydrological Cycle:** The continuous circulation of water between the oceans, atmosphere, and land is unique in its scale and importance to Earth's climate and ecosystems.\n",
       "\n",
       "**Other Considerations:**\n",
       "\n",
       "*   **Atmospheric Pressure:** Earth has an atmospheric pressure at sea level that is conducive to liquid water and the survival of many life forms.\n",
       "*   **Composition:** While other planets share some elements with Earth, the specific ratios and distribution of elements and compounds on Earth are unique and contribute to its habitability.\n",
       "*   **Location in the Solar System:** Earth's position in the \"Goldilocks zone\" (the region around a star where liquid water can exist) is a key factor in its habitability.\n",
       "*   **Seasons:** Earth has predictable seasons due to its axial tilt, which influences temperature and daylight hours throughout the year.\n",
       "\n",
       "**Important Note:**\n",
       "\n",
       "Our understanding of planets is constantly evolving as we discover more exoplanets (planets outside our solar system). Some exoplanets may possess some of these characteristics, but as of now, Earth is the only known planet with the unique combination of factors that supports life as we know it.\n"
      ],
      "text/plain": [
       "<IPython.core.display.Markdown object>"
      ]
     },
     "metadata": {},
     "output_type": "display_data"
    }
   ],
   "source": [
    "prompt = \"Generate a list of ways that makes Earth unique compared to other planets\"\n",
    "\n",
    "response = client.models.generate_content(model=MODEL_ID, contents=prompt)\n",
    "display(Markdown(response.text))"
   ]
  },
  {
   "cell_type": "markdown",
   "metadata": {
    "id": "R5kmfZYHZsJ7"
   },
   "source": [
    "### Ask one task at a time"
   ]
  },
  {
   "cell_type": "markdown",
   "metadata": {
    "id": "rsAezxeYZuUN"
   },
   "source": [
    "🛑 Not recommended. The prompt below has two parts to the question that could be asked separately."
   ]
  },
  {
   "cell_type": "code",
   "execution_count": 10,
   "metadata": {
    "id": "ElywPXpuZtWf",
    "tags": []
   },
   "outputs": [
    {
     "data": {
      "text/markdown": [
       "Okay, let's break down these two distinct questions:\n",
       "\n",
       "**1. Best Method of Boiling Water**\n",
       "\n",
       "There isn't one single \"best\" method, as it depends on your priorities and available resources. Here's a breakdown of common methods, ranked by various factors:\n",
       "\n",
       "*   **Fastest:**\n",
       "\n",
       "    *   **Electric Kettle:**  Electric kettles are generally the fastest way to boil water for small to medium quantities (up to a couple of liters). They're designed for efficiency and often shut off automatically.\n",
       "    *   **Induction Cooktop:** Induction cooktops are very efficient at heating water and can be even faster than electric kettles for larger quantities, especially if you have a high-powered one.\n",
       "\n",
       "*   **Most Energy-Efficient:**\n",
       "\n",
       "    *   **Induction Cooktop:** Induction cooktops directly heat the pot, minimizing energy loss to the surrounding air.\n",
       "    *   **Electric Kettle:** Still very efficient as all the heat is transferred to the water.\n",
       "    *   **Microwave:** Can be efficient for very small quantities of water (e.g., a single mug), but less so for larger amounts.\n",
       "\n",
       "*   **Most Convenient (If you have them):**\n",
       "\n",
       "    *   **Electric Kettle:** Plug and play! Very easy to use.\n",
       "    *   **Stovetop (Electric or Gas):**  If you have a stove readily available, it's convenient, especially if you need to boil a large volume of water.\n",
       "\n",
       "*   **Most Versatile (If you have them):**\n",
       "\n",
       "    *   **Stovetop (Gas or Electric):** Works with any type of pot/kettle that is made from induction compatible materials, and can be used for other cooking tasks.\n",
       "\n",
       "*   **In a Pinch (Outdoor/Emergency Situations):**\n",
       "\n",
       "    *   **Campfire:**  If you are camping and have no electricity and safe building materials.\n",
       "    *   **Propane Stove:** Portable and reliable if you have a propane source.\n",
       "\n",
       "**Here's a quick summary table:**\n",
       "\n",
       "| Method           | Speed       | Efficiency | Convenience | Versatility | Notes                                                             |\n",
       "| ---------------- | ----------- | ---------- | ----------- | ----------- | ----------------------------------------------------------------- |\n",
       "| Electric Kettle  | Fastest     | High       | High        | Low         | Ideal for small to medium amounts; auto shutoff.                   |\n",
       "| Induction Cooktop| Fast        | Highest      | Medium      | High        | Great for larger quantities; efficient.                           |\n",
       "| Stovetop (Gas)   | Medium      | Lower      | Medium        | High        | Common, but less efficient; requires ventilation.                  |\n",
       "| Stovetop (Electric)| Medium      | Medium      | Medium        | High        | Common; may be slower than gas.                                  |\n",
       "| Microwave        | Variable    | Low-Medium | High        | Low         | Only for small quantities; can lead to superheating; not ideal. |\n",
       "| Campfire         | Slow        | Very Low   | Low         | High        | Only in safe outdoor conditions with suitable fire-safe pot.      |\n",
       "\n",
       "**Key Considerations:**\n",
       "\n",
       "*   **Quantity of Water:**  A kettle is ideal for a few cups, while a stove is better for boiling a large pot of pasta water.\n",
       "*   **Energy Source:** Availability of electricity, gas, or other fuel.\n",
       "*   **Safety:**  Using proper cookware and taking precautions to avoid burns.\n",
       "\n",
       "**In short:  For most people, an electric kettle is the best combination of speed, efficiency, and convenience for boiling water.**  However, an induction cooktop with a suitable pot is excellent too, especially for larger amounts.\n",
       "\n",
       "**2. Why the Sky is Blue**\n",
       "\n",
       "The sky is blue because of a phenomenon called **Rayleigh scattering**. Here's the simplified explanation:\n",
       "\n",
       "*   **Sunlight and Colors:** Sunlight is actually made up of all the colors of the rainbow.\n",
       "*   **Earth's Atmosphere:** The Earth's atmosphere is filled with tiny particles of gas molecules (mostly nitrogen and oxygen).\n",
       "*   **Scattering of Light:** When sunlight enters the atmosphere, it collides with these particles. This causes the light to scatter in different directions.\n",
       "*   **Rayleigh Scattering Explained:** Rayleigh scattering is more effective at scattering shorter wavelengths of light (blue and violet) than longer wavelengths (red and orange).  The amount of scattering is inversely proportional to the fourth power of the wavelength.  This means blue and violet light are scattered *much* more than red and orange light.\n",
       "*   **Why Blue, Not Violet?** Violet light is scattered even more than blue light, but the sun emits less violet light than blue light. Additionally, our eyes are more sensitive to blue than violet. As a result, we perceive the sky as blue.\n",
       "*   **Sunsets and Sunrises:** At sunrise and sunset, the sunlight travels through more of the atmosphere to reach our eyes. This longer path causes most of the blue light to be scattered away before it reaches us. The remaining light is predominantly red and orange, which is why we see those colors during those times.\n",
       "\n",
       "**In simpler terms:** Think of throwing a bunch of tiny blue balls and a bunch of larger red balls at a field of small posts. The tiny blue balls are much more likely to bounce off the posts in all directions, while the larger red balls are more likely to pass straight through.  The blue light scatters all over the sky, while the red light travels more directly to your eyes, which explains the blue color.\n",
       "\n",
       "I hope this is a clear and helpful explanation!\n"
      ],
      "text/plain": [
       "<IPython.core.display.Markdown object>"
      ]
     },
     "metadata": {},
     "output_type": "display_data"
    }
   ],
   "source": [
    "prompt = \"What's the best method of boiling water and why is the sky blue?\"\n",
    "\n",
    "response = client.models.generate_content(model=MODEL_ID, contents=prompt)\n",
    "display(Markdown(response.text))"
   ]
  },
  {
   "cell_type": "markdown",
   "metadata": {
    "id": "ejzahazBZ8vk"
   },
   "source": [
    "✅ Recommended. The prompts below asks one task a time."
   ]
  },
  {
   "cell_type": "code",
   "execution_count": 11,
   "metadata": {
    "id": "C5ckp2F0Z_Ba",
    "tags": []
   },
   "outputs": [
    {
     "data": {
      "text/markdown": [
       "The \"best\" method of boiling water depends on what you prioritize: speed, energy efficiency, convenience, or cost. Here's a breakdown of the common methods and their pros and cons:\n",
       "\n",
       "**1. Electric Kettle:**\n",
       "\n",
       "*   **Pros:**\n",
       "    *   **Fastest:** Generally the fastest way to boil a small to medium amount of water.\n",
       "    *   **Energy Efficient (for small amounts):** Kettles are designed to efficiently heat the water directly with minimal heat loss.\n",
       "    *   **Convenient:** Simple to use, often with auto-shutoff features.\n",
       "    *   **Precise (some models):** Some kettles allow you to set specific temperatures for different teas or coffees.\n",
       "*   **Cons:**\n",
       "    *   **Capacity Limited:**  Typically holds only a liter or two of water.\n",
       "    *   **Electricity Dependent:** Requires a power outlet.\n",
       "    *   **Can be noiser than stove-top methods**\n",
       "\n",
       "**2. Stovetop Kettle (Whistling Kettle):**\n",
       "\n",
       "*   **Pros:**\n",
       "    *   **Relatively Fast:** Faster than a stovetop pot.\n",
       "    *   **Simple:**  No electronics to worry about.\n",
       "    *   **Whistle Alert:**  The whistling sound alerts you when the water is boiling.\n",
       "    *   **Durable:**  A good quality stovetop kettle can last for years.\n",
       "*   **Cons:**\n",
       "    *   **Requires monitoring:** You need to be around to hear the whistle and turn off the heat.\n",
       "    *   **Energy Efficiency Varies:** Depends on the stove type and kettle material.\n",
       "    *   **Can be noisy**\n",
       "\n",
       "**3. Stovetop Pot (Saucepan/Stockpot):**\n",
       "\n",
       "*   **Pros:**\n",
       "    *   **Can Boil Large Amounts:**  Suitable for boiling water for pasta, canning, or large batches of tea.\n",
       "    *   **Versatile:**  The pot can be used for other cooking tasks.\n",
       "    *   **No Special Equipment Needed:** You probably already have a suitable pot.\n",
       "*   **Cons:**\n",
       "    *   **Slowest:** Takes longer to boil compared to kettles.\n",
       "    *   **Least Energy Efficient:**  More heat is lost to the surrounding air.\n",
       "    *   **Requires Monitoring:** You need to watch for bubbles and steam to know when it's boiling.\n",
       "    *   **More likely to boil dry if unattended**\n",
       "\n",
       "**4. Microwave:**\n",
       "\n",
       "*   **Pros:**\n",
       "    *   **Fast (for very small amounts):** Can be quick for a single cup of water.\n",
       "    *   **Convenient:**  Easy to use.\n",
       "*   **Cons:**\n",
       "    *   **Uneven Heating:** Can create \"superheated\" water that suddenly erupts when disturbed, posing a burn risk.\n",
       "    *   **Not Energy Efficient:** Microwaves are generally less energy-efficient than kettles.\n",
       "    *   **Not Ideal for Large Quantities:**  Not suitable for boiling large amounts of water.\n",
       "\n",
       "**5. Induction Cooktop:**\n",
       "\n",
       "*   **Pros:**\n",
       "    *   **Fast:**  Induction heats the pot directly, making it very fast, almost as fast as electric kettle\n",
       "    *   **Energy Efficient:**  Minimal heat loss.\n",
       "    *   **Precise Temperature Control:** Offers fine temperature control for different uses.\n",
       "*   **Cons:**\n",
       "    *   **Requires Induction-Compatible Cookware:**  Not all pots and pans work on induction cooktops.\n",
       "    *   **Requires Induction Cooktop:** obviously.\n",
       "\n",
       "**Summary Table:**\n",
       "\n",
       "| Method          | Speed      | Energy Efficiency | Convenience | Cost           | Best For                                  |\n",
       "|-----------------|------------|--------------------|-------------|----------------|-------------------------------------------|\n",
       "| Electric Kettle | Fastest    | High (for small)   | High        | Moderate       | Small to medium amounts, quick boiling     |\n",
       "| Stovetop Kettle | Fast       | Moderate           | Moderate    | Low to Moderate | Medium amounts, classic kettle sound     |\n",
       "| Stovetop Pot    | Slowest    | Low               | Low         | Low            | Large amounts, versatility               |\n",
       "| Microwave       | Fast (small)| Low               | High        | Low to Moderate | Single cups, quick heating (with caution) |\n",
       "| Induction        | Very Fast  | High              | Moderate    | Moderate to High | Fast and Efficient boiling                |\n",
       "\n",
       "**Recommendation:**\n",
       "\n",
       "*   **For most situations, an electric kettle is the best choice** due to its speed, efficiency, and convenience.\n",
       "*   **If you need to boil large amounts of water, use a stovetop pot.**\n",
       "*   **If you only need a small amount of water and have no other options, a microwave can work, but be very cautious about superheating.**\n",
       "*   **If you have an induction cooktop, use it with induction-compatible cookware for a very fast and efficient experience.**\n",
       "*   **If you like the classic sound and look, a stovetop whistling kettle is a fine choice.**\n",
       "\n",
       "Ultimately, the best method depends on your individual needs and priorities.\n"
      ],
      "text/plain": [
       "<IPython.core.display.Markdown object>"
      ]
     },
     "metadata": {},
     "output_type": "display_data"
    }
   ],
   "source": [
    "prompt = \"What's the best method of boiling water?\"\n",
    "\n",
    "response = client.models.generate_content(model=MODEL_ID, contents=prompt)\n",
    "display(Markdown(response.text))"
   ]
  },
  {
   "cell_type": "code",
   "execution_count": 12,
   "metadata": {
    "id": "KwUzhud4aA89",
    "tags": []
   },
   "outputs": [
    {
     "data": {
      "text/markdown": [
       "The sky is blue because of a phenomenon called **Rayleigh scattering**. Here's the breakdown:\n",
       "\n",
       "*   **Sunlight is made of all colors:** White sunlight is actually a mixture of all the colors of the rainbow (red, orange, yellow, green, blue, indigo, violet).\n",
       "\n",
       "*   **Air is made of tiny particles:** The Earth's atmosphere is composed of gases like nitrogen and oxygen, which exist as tiny molecules.\n",
       "\n",
       "*   **Scattering happens:** When sunlight enters the atmosphere, it collides with these tiny air molecules. This collision causes the light to scatter in different directions.\n",
       "\n",
       "*   **Blue light scatters more:** Shorter wavelengths of light, like blue and violet, are scattered much more effectively than longer wavelengths like red and orange. This is because of the relationship between the size of the air molecules and the wavelength of the light. Rayleigh scattering is more intense for shorter wavelengths.\n",
       "\n",
       "*   **Why not violet?** Violet light is scattered even more than blue light. However, there are a couple of reasons why we primarily see blue:\n",
       "    *   **Sunlight contains less violet light:** The sun emits less violet light than blue light to begin with.\n",
       "    *   **Our eyes are more sensitive to blue:** Our eyes are more sensitive to the blue wavelengths of light than the violet wavelengths. Also, the upper atmosphere absorbs a portion of violet light.\n",
       "\n",
       "Therefore, when we look up at the sky, we're seeing the scattered blue light, which is more prevalent and visible to our eyes.\n",
       "\n",
       "**In summary:** Blue light scatters more than other colors due to its shorter wavelength interacting with the tiny particles in the air. That's why the sky appears blue to us.\n"
      ],
      "text/plain": [
       "<IPython.core.display.Markdown object>"
      ]
     },
     "metadata": {},
     "output_type": "display_data"
    }
   ],
   "source": [
    "prompt = \"Why is the sky blue?\"\n",
    "\n",
    "response = client.models.generate_content(model=MODEL_ID, contents=prompt)\n",
    "display(Markdown(response.text))"
   ]
  },
  {
   "cell_type": "markdown",
   "metadata": {
    "id": "PJIL2RTQaGcT"
   },
   "source": [
    "### Watch out for hallucinations"
   ]
  },
  {
   "cell_type": "markdown",
   "metadata": {
    "id": "8Y8kYxrSaHE9"
   },
   "source": [
    "Although LLMs have been trained on a large amount of data, they can generate text containing statements not grounded in truth or reality; these responses from the LLM are often referred to as \"hallucinations\" due to their limited memorization capabilities. Note that simply prompting the LLM to provide a citation isn't a fix to this problem, as there are instances of LLMs providing false or inaccurate citations. Dealing with hallucinations is a fundamental challenge of LLMs and an ongoing research area, so it is important to be cognizant that LLMs may seem to give you confident, correct-sounding statements that are in fact incorrect.\n",
    "\n",
    "Note that if you intend to use LLMs for the creative use cases, hallucinating could actually be quite useful."
   ]
  },
  {
   "cell_type": "markdown",
   "metadata": {
    "id": "8NY5nAGeaJYS"
   },
   "source": [
    "Try the prompt like the one below repeatedly. We set the temperature to `1.0` so that it takes more risks in its choices. It's possible that it may provide an inaccurate, but confident answer."
   ]
  },
  {
   "cell_type": "code",
   "execution_count": 13,
   "metadata": {
    "id": "QALPjEILaM62",
    "tags": []
   },
   "outputs": [
    {
     "data": {
      "text/markdown": [
       "Today is Sunday, October 29th, 2023.\n"
      ],
      "text/plain": [
       "<IPython.core.display.Markdown object>"
      ]
     },
     "metadata": {},
     "output_type": "display_data"
    }
   ],
   "source": [
    "generation_config = GenerateContentConfig(temperature=1.0)\n",
    "\n",
    "prompt = \"What day is it today?\"\n",
    "\n",
    "response = client.models.generate_content(model=MODEL_ID, contents=prompt)\n",
    "display(Markdown(response.text))"
   ]
  },
  {
   "cell_type": "markdown",
   "metadata": {
    "id": "BRkwzbgRbhKt"
   },
   "source": [
    "Since LLMs do not have access to real-time information without further integrations, you may have noticed it hallucinates what day it is today in some of the outputs."
   ]
  },
  {
   "cell_type": "markdown",
   "metadata": {},
   "source": [
    "## Reduce Output Variability"
   ]
  },
  {
   "cell_type": "markdown",
   "metadata": {
    "id": "3c811e310d02"
   },
   "source": [
    "### Using system instructions to guardrail the model from irrelevant responses\n",
    "\n",
    "How can we attempt to reduce the chances of irrelevant responses and hallucinations?\n",
    "\n",
    "One way is to provide the LLM with [system instructions](https://cloud.google.com/vertex-ai/generative-ai/docs/multimodal/send-chat-prompts-gemini#system-instructions).\n",
    "\n",
    "Let's see how system instructions works and how you can use them to reduce hallucinations or irrelevant questions for a travel chatbot.\n",
    "\n",
    "Suppose we ask a simple question about one of Italy's most famous tourist spots."
   ]
  },
  {
   "cell_type": "code",
   "execution_count": 14,
   "metadata": {
    "id": "rB6zJU76biFK",
    "tags": []
   },
   "outputs": [
    {
     "data": {
      "text/markdown": [
       "Milan offers a wealth of attractions for sightseeing! Here are some of the most popular and highly-rated places to visit:\n",
       "\n",
       "*   **Duomo di Milano:** The iconic Milan Cathedral, a masterpiece of Gothic architecture. You can go to the rooftop for stunning city views.\n",
       "*   **Galleria Vittorio Emanuele II:** A beautiful 19th-century shopping arcade, great for a stroll and admiring the architecture.\n",
       "*   **Teatro alla Scala:** One of the most famous opera houses in the world.\n",
       "*   **Sforza Castle (Castello Sforzesco):** A historic castle housing several museums and art collections.\n",
       "*   **Pinacoteca di Brera:** An important art gallery with a focus on Italian paintings.\n",
       "*   **Navigli District:** A charming area with canals, perfect for an evening stroll and aperitivo.\n",
       "*   **Santa Maria delle Grazie:** Home to Leonardo da Vinci's \"The Last Supper\" (book tickets well in advance!).\n",
       "*   **Parco Sempione:** A large park behind Sforza Castle, great for relaxing.\n",
       "\n",
       "To help me narrow down the best recommendation for you, could you tell me what your interests are (e.g., art, history, architecture, fashion, food)? Also, how much time do you have in Milan?"
      ],
      "text/plain": [
       "<IPython.core.display.Markdown object>"
      ]
     },
     "metadata": {},
     "output_type": "display_data"
    }
   ],
   "source": [
    "generation_config = GenerateContentConfig(temperature=1.0)\n",
    "\n",
    "chat = client.chats.create(\n",
    "    model=MODEL_ID,\n",
    "    config=GenerateContentConfig(\n",
    "        system_instruction=[\n",
    "            \"Hello! You are an AI chatbot for a travel web site.\",\n",
    "            \"Your mission is to provide helpful queries for travelers.\",\n",
    "            \"Remember that before you answer a question, you must check to see if it complies with your mission.\",\n",
    "            \"If not, you can say, Sorry I can't answer that question.\",\n",
    "        ]\n",
    "    ),\n",
    ")\n",
    "\n",
    "prompt = \"What is the best place for sightseeing in Milan, Italy?\"\n",
    "\n",
    "response = chat.send_message(prompt)\n",
    "display(Markdown(response.text))"
   ]
  },
  {
   "cell_type": "markdown",
   "metadata": {
    "id": "WZa-Qcf9cF4A"
   },
   "source": [
    "Now let us pretend to be a user asks the chatbot a question that is unrelated to travel."
   ]
  },
  {
   "cell_type": "code",
   "execution_count": 15,
   "metadata": {
    "id": "AZKBIDr2cGnu",
    "tags": []
   },
   "outputs": [
    {
     "data": {
      "text/markdown": [
       "Milan offers a wealth of attractions for sightseeing! Here are some of the most popular and highly-rated places to visit:\n",
       "\n",
       "*   **Duomo di Milano:** The iconic Milan Cathedral, a masterpiece of Gothic architecture. You can go to the rooftop for stunning city views.\n",
       "*   **Galleria Vittorio Emanuele II:** A beautiful 19th-century shopping arcade, great for a stroll and admiring the architecture.\n",
       "*   **Teatro alla Scala:** One of the most famous opera houses in the world.\n",
       "*   **Sforza Castle (Castello Sforzesco):** A historic castle housing several museums and art collections.\n",
       "*   **Pinacoteca di Brera:** An important art gallery with a focus on Italian paintings.\n",
       "*   **Navigli District:** A charming area with canals, perfect for an evening stroll and aperitivo.\n",
       "*   **Santa Maria delle Grazie:** Home to Leonardo da Vinci's \"The Last Supper\" (book tickets well in advance!).\n",
       "*   **Parco Sempione:** A large park behind Sforza Castle, great for relaxing.\n",
       "\n",
       "To help me narrow down the best recommendation for you, could you tell me what your interests are (e.g., art, history, architecture, fashion, food)? Also, how much time do you have in Milan?\n"
      ],
      "text/plain": [
       "<IPython.core.display.Markdown object>"
      ]
     },
     "metadata": {},
     "output_type": "display_data"
    }
   ],
   "source": [
    "prompt = \"What is the best place for sightseeing in Milan, Italy?\"\n",
    "\n",
    "response = chat.send_message(prompt)\n",
    "display(Markdown(response.text))"
   ]
  },
  {
   "cell_type": "markdown",
   "metadata": {
    "id": "JiUYIhwpctCy"
   },
   "source": [
    "You can see that this way, a guardrail in the prompt prevented the chatbot from veering off course."
   ]
  },
  {
   "cell_type": "markdown",
   "metadata": {
    "id": "ZuuDhA37cvmP"
   },
   "source": [
    "### Turn generative tasks into classification tasks to reduce output variability"
   ]
  },
  {
   "cell_type": "markdown",
   "metadata": {
    "id": "kUCUrsUzczmb"
   },
   "source": [
    "#### Generative tasks lead to higher output variability"
   ]
  },
  {
   "cell_type": "markdown",
   "metadata": {
    "id": "a1xASHAkc46n"
   },
   "source": [
    "The prompt below results in an open-ended response, useful for brainstorming, but response is highly variable."
   ]
  },
  {
   "cell_type": "code",
   "execution_count": 16,
   "metadata": {
    "id": "nPfXQWIacwRf",
    "tags": []
   },
   "outputs": [
    {
     "data": {
      "text/markdown": [
       "Okay, here's a recommendation for a programming activity designed to help you improve your skills, along with reasons why it's a good choice for a high school student and variations to make it more challenging:\n",
       "\n",
       "**Project:  A Text-Based Adventure Game (or a Simple Graphical Version)**\n",
       "\n",
       "**Why this is a good project:**\n",
       "\n",
       "*   **Versatile and Scalable:** You can start with a very simple version and gradually add complexity as your skills improve.\n",
       "*   **Engaging and Fun:**  Creating a game is inherently more motivating than just solving abstract problems.  You get to see your code come to life and build something interactive.\n",
       "*   **Applies Multiple Concepts:** This project touches on many core programming concepts:\n",
       "    *   **Variables:**  Storing player stats (health, inventory, location).\n",
       "    *   **Conditional Statements (if/else):**  Handling player choices and game logic.\n",
       "    *   **Loops (while/for):**  Repeating game actions, processing lists of items, etc.\n",
       "    *   **Functions:**  Breaking down the game into manageable, reusable blocks of code.\n",
       "    *   **Data Structures (Lists, Dictionaries):**  Storing room information, items, or monster stats.\n",
       "    *   **Input/Output:**  Getting player commands and displaying game information.\n",
       "    *   **Object-Oriented Programming (OOP) - optional, but beneficial:** Designing characters, items, and locations as objects.\n",
       "\n",
       "**Getting Started (Simple Text-Based Version):**\n",
       "\n",
       "1.  **Choose a Language:**  Python is an excellent choice for beginners due to its readability and extensive libraries.  However, if you're already comfortable with another language like Java or C++, feel free to use it.\n",
       "\n",
       "2.  **Plan Your World:**  Design a simple map.  Start with 3-5 interconnected \"rooms\" or locations.  Sketch it out on paper.  Think about a simple story or goal for the player.\n",
       "\n",
       "3.  **Basic Room Structure:**  Represent each room as a dictionary (in Python) or a similar data structure (like a `struct` or `class` in other languages).  Each room should have:\n",
       "    *   `description`:  A text description of the room.\n",
       "    *   `exits`:  A dictionary mapping directions (e.g., \"north\", \"south\") to the room they lead to.\n",
       "    *   `items` (optional):  A list of items found in the room.\n",
       "\n",
       "4.  **Game Loop:**  Create a `while` loop that runs as long as the player is alive and hasn't won the game.  Inside the loop:\n",
       "    *   Display the current room's description and any items present.\n",
       "    *   Prompt the player for a command (e.g., \"go north\", \"take sword\", \"look\").\n",
       "    *   Parse the command.\n",
       "    *   Update the game state based on the command.\n",
       "\n",
       "5.  **Basic Commands:** Implement a few basic commands:\n",
       "    *   `go [direction]`:  Move the player to a new room if the exit exists.\n",
       "    *   `look`:  Re-display the room description.\n",
       "    *   `take [item]`:  Add an item from the room to the player's inventory.\n",
       "    *   `inventory`:  Display the player's current inventory.\n",
       "\n",
       "**Example Python Code Snippet (Room Representation):**\n",
       "\n",
       "```python\n",
       "rooms = {\n",
       "    \"start\": {\n",
       "        \"description\": \"You are standing in a dimly lit forest clearing.  A path leads north.\",\n",
       "        \"exits\": {\"north\": \"forest\"},\n",
       "        \"items\": [\"rusty sword\"]\n",
       "    },\n",
       "    \"forest\": {\n",
       "        \"description\": \"You are in a dense forest. Sunlight barely reaches the ground.  There is a small cottage to the east.\",\n",
       "        \"exits\": {\"south\": \"start\", \"east\": \"cottage\"},\n",
       "        \"items\": []\n",
       "    },\n",
       "    \"cottage\": {\n",
       "        \"description\": \"A cozy cottage.  A friendly old woman is sitting by the fireplace.\",\n",
       "        \"exits\": {\"west\": \"forest\"},\n",
       "        \"items\": [\"apple\", \"healing potion\"]\n",
       "    }\n",
       "}\n",
       "\n",
       "current_room = \"start\"\n",
       "player_inventory = []\n",
       "\n",
       "# Example Game Loop (very simplified)\n",
       "while True:\n",
       "    print(rooms[current_room][\"description\"])\n",
       "    print(\"Items here:\", rooms[current_room][\"items\"])\n",
       "    command = input(\"> \").lower()  # Get player input\n",
       "\n",
       "    if command == \"go north\":\n",
       "        if \"north\" in rooms[current_room][\"exits\"]:\n",
       "            current_room = rooms[current_room][\"exits\"][\"north\"]\n",
       "        else:\n",
       "            print(\"You can't go that way.\")\n",
       "    elif command == \"take sword\":\n",
       "        if \"sword\" in rooms[current_room][\"items\"]:\n",
       "            player_inventory.append(\"sword\")\n",
       "            rooms[current_room][\"items\"].remove(\"sword\")\n",
       "            print(\"You took the sword.\")\n",
       "        else:\n",
       "            print(\"There is no sword here.\")\n",
       "    # Add more commands and logic here\n",
       "    else:\n",
       "        print(\"Invalid command.\")\n",
       "```\n",
       "\n",
       "**Adding Complexity:**\n",
       "\n",
       "*   **More Rooms and Story:**  Expand the world.  Add a more compelling story with a clear objective (e.g., find a treasure, defeat a monster, rescue someone).\n",
       "*   **Combat:** Implement a combat system.  Add monsters with stats (attack, defense, health).  Let the player use weapons and spells.\n",
       "*   **Puzzles:**  Include puzzles that the player needs to solve to progress.\n",
       "*   **Inventory Management:**  Implement weight limits, item combinations, or crafting.\n",
       "*   **NPCs (Non-Player Characters):** Add characters the player can interact with, gaining information, quests, or trading items.\n",
       "*   **Saving and Loading:** Allow the player to save their progress and resume the game later.\n",
       "*   **Graphical Interface (GUI):**  If you want to move beyond text, use a library like Pygame (for Python), or similar libraries in other languages, to create a simple graphical version of the game with images and a basic user interface.  This is significantly more complex, but a great learning experience.\n",
       "\n",
       "**Even More Challenging Variations:**\n",
       "\n",
       "*   **Object-Oriented Design:**  Refactor your code to use classes for Rooms, Characters, Items, etc.  This will make your code more organized and easier to maintain.\n",
       "*   **AI Opponents:**  Implement AI for monsters or other characters to make the game more challenging.  Look into simple AI techniques like state machines.\n",
       "*   **Procedural Generation:**  Instead of creating a fixed map, use algorithms to randomly generate parts of the world when the game starts.\n",
       "*   **Multiplayer:**  Explore the possibilities of a networked multiplayer version. (This is a very advanced project).\n",
       "\n",
       "**Tips for Success:**\n",
       "\n",
       "*   **Start Small and Iterate:**  Don't try to build the entire game at once.  Focus on getting the basic game loop and a few commands working first.  Then, gradually add more features.\n",
       "*   **Break Down the Problem:**  Divide the project into smaller, manageable tasks.\n",
       "*   **Test Frequently:**  Test your code after each change to make sure it's working correctly.\n",
       "*   **Use Version Control (Git):**  Learn to use Git to track your changes and collaborate with others (if you choose to work on the project with a friend).\n",
       "*   **Don't Be Afraid to Ask for Help:**  If you get stuck, search online for solutions, ask questions on programming forums (Stack Overflow), or ask a teacher or mentor for help.\n",
       "*   **Document Your Code:**  Add comments to your code to explain what it does.  This will make it easier to understand later, and it will help you learn.\n",
       "\n",
       "This adventure game project offers a good balance of fun and challenge, allowing you to apply and reinforce your programming skills in a practical and engaging way. Good luck!\n"
      ],
      "text/plain": [
       "<IPython.core.display.Markdown object>"
      ]
     },
     "metadata": {},
     "output_type": "display_data"
    }
   ],
   "source": [
    "prompt = \"I'm a high school student. Recommend me a programming activity to improve my skills.\"\n",
    "\n",
    "response = client.models.generate_content(model=MODEL_ID, contents=prompt)\n",
    "display(Markdown(response.text))"
   ]
  },
  {
   "cell_type": "markdown",
   "metadata": {
    "id": "iAmm9wPYc_1o"
   },
   "source": [
    "#### Classification tasks reduces output variability"
   ]
  },
  {
   "cell_type": "markdown",
   "metadata": {
    "id": "VvRpK_0GdCpf"
   },
   "source": [
    "The prompt below results in a choice and may be useful if you want the output to be easier to control."
   ]
  },
  {
   "cell_type": "code",
   "execution_count": 17,
   "metadata": {
    "id": "kYDKh0r2dAqo",
    "tags": []
   },
   "outputs": [
    {
     "data": {
      "text/markdown": [
       "Okay, for a high school student looking to learn a programming language, here's my recommendation, broken down with reasoning:\n",
       "\n",
       "**I highly recommend learning Python (a).**\n",
       "\n",
       "Here's why, along with why I'm less enthusiastic about JavaScript and Fortran:\n",
       "\n",
       "*   **Python: The Clear Winner for Beginners**\n",
       "\n",
       "    *   **Easy to Learn:** Python's syntax is designed to be readable and beginner-friendly. It resembles plain English in many ways, making it easier to grasp the core concepts of programming without getting bogged down in complicated syntax.\n",
       "    *   **Versatile:** Python is used in a massive range of fields:\n",
       "        *   **Web Development:** While not its primary strength on the front-end, it's excellent for back-end development (building the server-side logic of websites).  Frameworks like Django and Flask make web development relatively straightforward.\n",
       "        *   **Data Science and Machine Learning:** Python is *the* dominant language in these fields. Libraries like NumPy, Pandas, Scikit-learn, and TensorFlow make it easy to analyze data, build machine learning models, and perform statistical analysis.  This is a rapidly growing area with excellent career opportunities.\n",
       "        *   **Scripting and Automation:**  Python is great for automating repetitive tasks, writing system scripts, and even controlling hardware (like Raspberry Pi).\n",
       "        *   **Game Development:**  While not the primary choice for AAA game development, libraries like Pygame make it possible to create simple 2D games.\n",
       "    *   **Large and Supportive Community:** Python has a huge and active online community. This means you'll find plenty of tutorials, documentation, and help forums if you get stuck.  Stack Overflow is your friend!\n",
       "    *   **Great for High School Projects:** You can use Python for science projects, math simulations, automating tasks related to schoolwork, or even building simple games.\n",
       "    *   **Good Career Prospects:** Python skills are in high demand in many industries. Learning Python now can give you a head start for future job opportunities.\n",
       "\n",
       "*   **JavaScript: Good, But Maybe Later**\n",
       "\n",
       "    *   **Essential for Web Development:** JavaScript is *the* language of the web browser. It's used to make websites interactive, create animations, handle user input, and more.\n",
       "    *   **Front-End and Back-End (with Node.js):** JavaScript isn't just for the front-end anymore.  Node.js allows you to use JavaScript for server-side development as well.\n",
       "    *   **More Complex for Beginners:** While JavaScript is powerful, it can be more challenging for beginners than Python. The asynchronous nature of JavaScript (dealing with events and callbacks) can be confusing at first. The \"JavaScript fatigue\" from the constant churn of frameworks is also a consideration.\n",
       "    *   **Good to Learn Eventually:**  I highly recommend learning JavaScript *after* you have a good foundation in Python or another language.  It's a very valuable skill.\n",
       "    *   **Focus:** If you are 100% certain your sole interest is *only* front end web development, it might be a good choice.\n",
       "\n",
       "*   **Fortran: Niche and Less Relevant for Most**\n",
       "\n",
       "    *   **Historically Important:** Fortran was one of the first high-level programming languages. It's been used for decades in scientific and engineering applications.\n",
       "    *   **Still Used in Scientific Computing:** Fortran is still used in some areas of scientific computing, particularly for computationally intensive tasks like weather forecasting, fluid dynamics, and astrophysics.\n",
       "    *   **Very Limited Applications for a Beginner:**  Unless you *know* you want to work in a specific scientific field that uses Fortran, it's not a good choice for a high school student. Its applications are very niche, and the skills you learn in Fortran won't be as transferable to other areas as Python or JavaScript.\n",
       "    *   **Smaller Community:** The Fortran community is smaller than Python or JavaScript, so it may be harder to find help and resources.\n",
       "    *   **Outdated Syntax:** Fortran's syntax can feel quite dated compared to modern languages.\n",
       "\n",
       "**In summary:**\n",
       "\n",
       "*   **Start with Python.** It's the easiest to learn, the most versatile, and has a huge community.\n",
       "*   **Learn JavaScript later.**  It's essential for web development and becomes much easier to learn after you understand programming fundamentals.\n",
       "*   **Avoid Fortran** unless you have a specific reason to learn it for a particular scientific application.\n",
       "\n",
       "**Next Steps:**\n",
       "\n",
       "1.  **Install Python:** Download the latest version of Python from python.org.\n",
       "2.  **Choose a Code Editor:**  A code editor is a text editor designed for writing code.  Popular choices include:\n",
       "    *   VS Code (free, very popular)\n",
       "    *   Sublime Text (free to try, then paid)\n",
       "    *   Atom (free, GitHub's editor - now archived but still usable)\n",
       "    *   Thonny (very beginner-friendly, comes pre-installed with some Python distributions)\n",
       "3.  **Find a Good Tutorial:** There are tons of great online resources for learning Python:\n",
       "    *   **Codecademy:**  Interactive tutorials that guide you through the basics.\n",
       "    *   **Khan Academy:** Offers free programming courses.\n",
       "    *   **FreeCodeCamp:** Excellent for web development and Python.\n",
       "    *   **\"Automate the Boring Stuff with Python\" by Al Sweigart:** A great book for learning practical Python skills.\n",
       "    *   **YouTube:** Search for \"Python tutorial for beginners.\"\n",
       "4.  **Practice, Practice, Practice!** The best way to learn programming is by writing code.  Start with small projects and gradually increase the complexity.  Don't be afraid to experiment and make mistakes!\n",
       "5.  **Join a Community:** Find online forums or groups where you can ask questions and get help from other Python learners.\n",
       "\n",
       "Good luck! Let me know if you have any other questions.\n"
      ],
      "text/plain": [
       "<IPython.core.display.Markdown object>"
      ]
     },
     "metadata": {},
     "output_type": "display_data"
    }
   ],
   "source": [
    "prompt = \"\"\"I'm a high school student. Which of these activities do you suggest and why:\n",
    "a) learn Python\n",
    "b) learn JavaScript\n",
    "c) learn Fortran\n",
    "\"\"\"\n",
    "\n",
    "response = client.models.generate_content(model=MODEL_ID, contents=prompt)\n",
    "display(Markdown(response.text))"
   ]
  },
  {
   "cell_type": "markdown",
   "metadata": {
    "id": "iTd60b1GdIsx"
   },
   "source": [
    "### Improve response quality by including examples"
   ]
  },
  {
   "cell_type": "markdown",
   "metadata": {
    "id": "yJi44NejdJYE"
   },
   "source": [
    "Another way to improve response quality is to add examples in your prompt. The LLM learns in-context from the examples on how to respond. Typically, one to five examples (shots) are enough to improve the quality of responses. Including too many examples can cause the model to over-fit the data and reduce the quality of responses.\n",
    "\n",
    "Similar to classical model training, the quality and distribution of the examples is very important. Pick examples that are representative of the scenarios that you need the model to learn, and keep the distribution of the examples (e.g. number of examples per class in the case of classification) aligned with your actual distribution."
   ]
  },
  {
   "cell_type": "markdown",
   "metadata": {
    "id": "sMbLginWdOKs"
   },
   "source": [
    "#### Zero-shot prompt"
   ]
  },
  {
   "cell_type": "markdown",
   "metadata": {
    "id": "Crh2Loi2dQ0v"
   },
   "source": [
    "Below is an example of zero-shot prompting, where you don't provide any examples to the LLM within the prompt itself."
   ]
  },
  {
   "cell_type": "code",
   "execution_count": 18,
   "metadata": {
    "id": "-7myRc-SdTQ4",
    "tags": []
   },
   "outputs": [
    {
     "data": {
      "text/markdown": [
       "Sentiment: Positive\n"
      ],
      "text/plain": [
       "<IPython.core.display.Markdown object>"
      ]
     },
     "metadata": {},
     "output_type": "display_data"
    }
   ],
   "source": [
    "prompt = \"\"\"Decide whether a Tweet's sentiment is positive, neutral, or negative.\n",
    "\n",
    "Tweet: I loved the new YouTube video you made!\n",
    "Sentiment:\n",
    "\"\"\"\n",
    "\n",
    "response = client.models.generate_content(model=MODEL_ID, contents=prompt)\n",
    "display(Markdown(response.text))"
   ]
  },
  {
   "cell_type": "markdown",
   "metadata": {
    "id": "ucRtPn9SdL64"
   },
   "source": [
    "#### One-shot prompt"
   ]
  },
  {
   "cell_type": "markdown",
   "metadata": {
    "id": "rs0gQH2vdYBi"
   },
   "source": [
    "Below is an example of one-shot prompting, where you provide one example to the LLM within the prompt to give some guidance on what type of response you want."
   ]
  },
  {
   "cell_type": "code",
   "execution_count": 19,
   "metadata": {
    "id": "iEq-KxGYdaT5",
    "tags": []
   },
   "outputs": [
    {
     "data": {
      "text/markdown": [
       "Sentiment: negative\n"
      ],
      "text/plain": [
       "<IPython.core.display.Markdown object>"
      ]
     },
     "metadata": {},
     "output_type": "display_data"
    }
   ],
   "source": [
    "prompt = \"\"\"Decide whether a Tweet's sentiment is positive, neutral, or negative.\n",
    "\n",
    "Tweet: I loved the new YouTube video you made!\n",
    "Sentiment: positive\n",
    "\n",
    "Tweet: That was awful. Super boring 😠\n",
    "Sentiment:\n",
    "\"\"\"\n",
    "\n",
    "response = client.models.generate_content(model=MODEL_ID, contents=prompt)\n",
    "display(Markdown(response.text))"
   ]
  },
  {
   "cell_type": "markdown",
   "metadata": {
    "id": "JnKLjJzmdfL_"
   },
   "source": [
    "#### Few-shot prompt"
   ]
  },
  {
   "cell_type": "markdown",
   "metadata": {
    "id": "6Zv-9F5OdgI_"
   },
   "source": [
    "Below is an example of few-shot prompting, where you provide a few examples to the LLM within the prompt to give some guidance on what type of response you want."
   ]
  },
  {
   "cell_type": "code",
   "execution_count": 20,
   "metadata": {
    "id": "u37P9tG4dk9S",
    "tags": []
   },
   "outputs": [
    {
     "data": {
      "text/markdown": [
       "Sentiment: positive\n"
      ],
      "text/plain": [
       "<IPython.core.display.Markdown object>"
      ]
     },
     "metadata": {},
     "output_type": "display_data"
    }
   ],
   "source": [
    "prompt = \"\"\"Decide whether a Tweet's sentiment is positive, neutral, or negative.\n",
    "\n",
    "Tweet: I loved the new YouTube video you made!\n",
    "Sentiment: positive\n",
    "\n",
    "Tweet: That was awful. Super boring 😠\n",
    "Sentiment: negative\n",
    "\n",
    "Tweet: Something surprised me about this video - it was actually original. It was not the same old recycled stuff that I always see. Watch it - you will not regret it.\n",
    "Sentiment:\n",
    "\"\"\"\n",
    "\n",
    "response = client.models.generate_content(model=MODEL_ID, contents=prompt)\n",
    "display(Markdown(response.text))"
   ]
  },
  {
   "cell_type": "markdown",
   "metadata": {
    "id": "wDMD3xb2dvX6"
   },
   "source": [
    "#### Choosing between zero-shot, one-shot, few-shot prompting methods"
   ]
  },
  {
   "cell_type": "markdown",
   "metadata": {
    "id": "s92W0YpNdxJp"
   },
   "source": [
    "Which prompt technique to use will solely depends on your goal. The zero-shot prompts are more open-ended and can give you creative answers, while one-shot and few-shot prompts teach the model how to behave so you can get more predictable answers that are consistent with the examples provided."
   ]
  }
 ],
 "metadata": {
  "colab": {
   "name": "intro_prompt_design.ipynb",
   "toc_visible": true
  },
  "environment": {
   "kernel": "conda-base-py",
   "name": "workbench-notebooks.m129",
   "type": "gcloud",
   "uri": "us-docker.pkg.dev/deeplearning-platform-release/gcr.io/workbench-notebooks:m129"
  },
  "kernelspec": {
   "display_name": "Python 3 (ipykernel) (Local)",
   "language": "python",
   "name": "conda-base-py"
  },
  "language_info": {
   "codemirror_mode": {
    "name": "ipython",
    "version": 3
   },
   "file_extension": ".py",
   "mimetype": "text/x-python",
   "name": "python",
   "nbconvert_exporter": "python",
   "pygments_lexer": "ipython3",
   "version": "3.10.16"
  }
 },
 "nbformat": 4,
 "nbformat_minor": 4
}
