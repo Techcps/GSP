{
 "cells": [
  {
   "cell_type": "code",
   "execution_count": 1,
   "metadata": {
    "id": "ur8xi4C7S06n",
    "tags": []
   },
   "outputs": [],
   "source": [
    "# Copyright 2024 Google LLC\n",
    "#\n",
    "# Licensed under the Apache License, Version 2.0 (the \"License\");\n",
    "# you may not use this file except in compliance with the License.\n",
    "# You may obtain a copy of the License at\n",
    "#\n",
    "#     https://www.apache.org/licenses/LICENSE-2.0\n",
    "#\n",
    "# Unless required by applicable law or agreed to in writing, software\n",
    "# distributed under the License is distributed on an \"AS IS\" BASIS,\n",
    "# WITHOUT WARRANTIES OR CONDITIONS OF ANY KIND, either express or implied.\n",
    "# See the License for the specific language governing permissions and\n",
    "# limitations under the License."
   ]
  },
  {
   "cell_type": "markdown",
   "metadata": {
    "id": "JAPoU8Sm5E6e"
   },
   "source": [
    "# Prompt Design - Best Practices\n",
    "\n",
    "<table align=\"left\">\n",
    "  <td style=\"text-align: center\">\n",
    "    <a href=\"https://colab.research.google.com/github/GoogleCloudPlatform/generative-ai/blob/main/gemini/prompts/intro_prompt_design.ipynb\">\n",
    "      <img src=\"https://cloud.google.com/ml-engine/images/colab-logo-32px.png\" alt=\"Google Colaboratory logo\"><br> Open in Colab\n",
    "    </a>\n",
    "  </td>\n",
    "  <td style=\"text-align: center\">\n",
    "    <a href=\"https://console.cloud.google.com/vertex-ai/colab/import/https:%2F%2Fraw.githubusercontent.com%2FGoogleCloudPlatform%2Fgenerative-ai%2Fmain%2Fgemini%2Fprompts%2Fintro_prompt_design.ipynb\">\n",
    "      <img width=\"32px\" src=\"https://lh3.googleusercontent.com/JmcxdQi-qOpctIvWKgPtrzZdJJK-J3sWE1RsfjZNwshCFgE_9fULcNpuXYTilIR2hjwN\" alt=\"Google Cloud Colab Enterprise logo\"><br> Open in Colab Enterprise\n",
    "    </a>\n",
    "  </td>    \n",
    "  <td style=\"text-align: center\">\n",
    "    <a href=\"https://console.cloud.google.com/vertex-ai/workbench/deploy-notebook?download_url=https://raw.githubusercontent.com/GoogleCloudPlatform/generative-ai/main/gemini/prompts/intro_prompt_design.ipynb\">\n",
    "      <img src=\"https://lh3.googleusercontent.com/UiNooY4LUgW_oTvpsNhPpQzsstV5W8F7rYgxgGBD85cWJoLmrOzhVs_ksK_vgx40SHs7jCqkTkCk=e14-rj-sc0xffffff-h130-w32\" alt=\"Vertex AI logo\"><br> Open in Workbench\n",
    "    </a>\n",
    "  </td>\n",
    "  <td style=\"text-align: center\">\n",
    "    <a href=\"https://github.com/GoogleCloudPlatform/generative-ai/blob/main/gemini/prompts/intro_prompt_design.ipynb\">\n",
    "      <img src=\"https://cloud.google.com/ml-engine/images/github-logo-32px.png\" alt=\"GitHub logo\"><br> View on GitHub\n",
    "    </a>\n",
    "  </td>\n",
    "  <td style=\"text-align: center\">\n",
    "    <a href=\"https://goo.gle/4fWHlze\">\n",
    "      <img width=\"32px\" src=\"https://cdn.qwiklabs.com/assets/gcp_cloud-e3a77215f0b8bfa9b3f611c0d2208c7e8708ed31.svg\" alt=\"Google Cloud logo\"><br> Open in  Cloud Skills Boost\n",
    "    </a>\n",
    "  </td>\n",
    "</table>\n",
    "\n",
    "<div style=\"clear: both;\"></div>\n",
    "\n",
    "<b>Share to:</b>\n",
    "\n",
    "<a href=\"https://www.linkedin.com/sharing/share-offsite/?url=https%3A//github.com/GoogleCloudPlatform/generative-ai/blob/main/gemini/prompts/intro_prompt_design.ipynb\" target=\"_blank\">\n",
    "  <img width=\"20px\" src=\"https://upload.wikimedia.org/wikipedia/commons/8/81/LinkedIn_icon.svg\" alt=\"LinkedIn logo\">\n",
    "</a>\n",
    "\n",
    "<a href=\"https://bsky.app/intent/compose?text=https%3A//github.com/GoogleCloudPlatform/generative-ai/blob/main/gemini/prompts/intro_prompt_design.ipynb\" target=\"_blank\">\n",
    "  <img width=\"20px\" src=\"https://upload.wikimedia.org/wikipedia/commons/7/7a/Bluesky_Logo.svg\" alt=\"Bluesky logo\">\n",
    "</a>\n",
    "\n",
    "<a href=\"https://twitter.com/intent/tweet?url=https%3A//github.com/GoogleCloudPlatform/generative-ai/blob/main/gemini/prompts/intro_prompt_design.ipynb\" target=\"_blank\">\n",
    "  <img width=\"20px\" src=\"https://upload.wikimedia.org/wikipedia/commons/5/5a/X_icon_2.svg\" alt=\"X logo\">\n",
    "</a>\n",
    "\n",
    "<a href=\"https://reddit.com/submit?url=https%3A//github.com/GoogleCloudPlatform/generative-ai/blob/main/gemini/prompts/intro_prompt_design.ipynb\" target=\"_blank\">\n",
    "  <img width=\"20px\" src=\"https://redditinc.com/hubfs/Reddit%20Inc/Brand/Reddit_Logo.png\" alt=\"Reddit logo\">\n",
    "</a>\n",
    "\n",
    "<a href=\"https://www.facebook.com/sharer/sharer.php?u=https%3A//github.com/GoogleCloudPlatform/generative-ai/blob/main/gemini/prompts/intro_prompt_design.ipynb\" target=\"_blank\">\n",
    "  <img width=\"20px\" src=\"https://upload.wikimedia.org/wikipedia/commons/5/51/Facebook_f_logo_%282019%29.svg\" alt=\"Facebook logo\">\n",
    "</a>            "
   ]
  },
  {
   "cell_type": "markdown",
   "metadata": {
    "id": "84f0f73a0f76"
   },
   "source": [
    "| Authors |\n",
    "| --- |\n",
    "| [Polong Lin](https://github.com/polong-lin) |\n",
    "| [Karl Weinmeister](https://github.com/kweinmeister) |"
   ]
  },
  {
   "cell_type": "markdown",
   "metadata": {
    "id": "tvgnzT1CKxrO"
   },
   "source": [
    "## Overview\n",
    "\n",
    "This notebook covers the essentials of prompt engineering, including some best practices.\n",
    "\n",
    "Learn more about prompt design in the [official documentation](https://cloud.google.com/vertex-ai/docs/generative-ai/text/text-overview).\n",
    "\n",
    "In this notebook, you learn best practices around prompt engineering -- how to design prompts to improve the quality of your responses.\n",
    "\n",
    "This notebook covers the following best practices for prompt engineering:\n",
    "\n",
    "- Be concise\n",
    "- Be specific and well-defined\n",
    "- Ask one task at a time\n",
    "- Turn generative tasks into classification tasks\n",
    "- Improve response quality by including examples"
   ]
  },
  {
   "cell_type": "markdown",
   "metadata": {
    "id": "61RBz8LLbxCR"
   },
   "source": [
    "## Getting Started"
   ]
  },
  {
   "cell_type": "markdown",
   "metadata": {
    "id": "No17Cw5hgx12"
   },
   "source": [
    "### Install Google Gen AI SDK\n"
   ]
  },
  {
   "cell_type": "code",
   "execution_count": 2,
   "metadata": {
    "id": "tFy3H3aPgx12",
    "tags": []
   },
   "outputs": [
    {
     "name": "stdout",
     "output_type": "stream",
     "text": [
      "Note: you may need to restart the kernel to use updated packages.\n"
     ]
    }
   ],
   "source": [
    "%pip install --upgrade --quiet google-genai"
   ]
  },
  {
   "cell_type": "markdown",
   "metadata": {},
   "source": [
    "### Restart runtime\n",
    "\n",
    "To use the newly installed packages in this Jupyter runtime, you must restart the runtime. You can do this by running the cell below, which will restart the current kernel."
   ]
  },
  {
   "cell_type": "code",
   "execution_count": 3,
   "metadata": {
    "tags": []
   },
   "outputs": [
    {
     "data": {
      "text/plain": [
       "{'status': 'ok', 'restart': True}"
      ]
     },
     "execution_count": 3,
     "metadata": {},
     "output_type": "execute_result"
    }
   ],
   "source": [
    "import IPython\n",
    "\n",
    "app = IPython.Application.instance()\n",
    "app.kernel.do_shutdown(True)"
   ]
  },
  {
   "cell_type": "markdown",
   "metadata": {},
   "source": [
    "<div class=\"alert alert-block alert-warning\">\n",
    "<b>⚠️ The kernel is going to restart. Please wait until it is finished before continuing to the next step. ⚠️</b>\n",
    "</div>\n"
   ]
  },
  {
   "cell_type": "markdown",
   "metadata": {
    "id": "dmWOrTJ3gx13"
   },
   "source": [
    "### Authenticate your notebook environment (Colab only)\n",
    "\n",
    "Authenticate your environment on Google Colab.\n"
   ]
  },
  {
   "cell_type": "code",
   "execution_count": 1,
   "metadata": {
    "id": "NyKGtVQjgx13",
    "tags": []
   },
   "outputs": [],
   "source": [
    "import sys\n",
    "\n",
    "if \"google.colab\" in sys.modules:\n",
    "    from google.colab import auth\n",
    "\n",
    "    auth.authenticate_user()"
   ]
  },
  {
   "cell_type": "markdown",
   "metadata": {
    "id": "06489bd14f16"
   },
   "source": [
    "### Import libraries\n"
   ]
  },
  {
   "cell_type": "code",
   "execution_count": 2,
   "metadata": {
    "id": "154137022fb6",
    "tags": []
   },
   "outputs": [],
   "source": [
    "from IPython.display import Markdown, display\n",
    "from google import genai\n",
    "from google.genai.types import GenerateContentConfig"
   ]
  },
  {
   "cell_type": "markdown",
   "metadata": {
    "id": "DF4l8DTdWgPY"
   },
   "source": [
    "### Set Google Cloud project information and create client\n",
    "\n",
    "To get started using Vertex AI, you must have an existing Google Cloud project and [enable the Vertex AI API](https://console.cloud.google.com/flows/enableapi?apiid=aiplatform.googleapis.com).\n",
    "\n",
    "Learn more about [setting up a project and a development environment](https://cloud.google.com/vertex-ai/docs/start/cloud-environment).\n",
    "\n",
    "Initialize the Gen AI SDK for Python for your project."
   ]
  },
  {
   "cell_type": "code",
   "execution_count": 3,
   "metadata": {
    "id": "Nqwi-5ufWp_B",
    "tags": []
   },
   "outputs": [],
   "source": [
    "# Define project information\n",
    "PROJECT_ID = \"qwiklabs-gcp-03-dd404437a1e9\"  # @param {type:\"string\"}\n",
    "LOCATION = \"us-west4\"  # @param {type:\"string\"}\n",
    "\n",
    "# Create the API client\n",
    "from google import genai\n",
    "client = genai.Client(vertexai=True, project=PROJECT_ID, location=LOCATION)"
   ]
  },
  {
   "cell_type": "code",
   "execution_count": 20,
   "metadata": {
    "id": "Nqwi-5ufWp_B",
    "tags": []
   },
   "outputs": [
    {
     "name": "stdout",
     "output_type": "stream",
     "text": [
      "Please like share & subscribe to Techcps https://www.youtube.com/@techcps\n"
     ]
    }
   ],
   "source": [
    "# Please like share & subscribe to Techcps\n",
    "# YouTube https://www.youtube.com/@techcps\n",
    "\n",
    "print(\"Please like share & subscribe to Techcps https://www.youtube.com/@techcps\")"
   ]
  },
  {
   "cell_type": "markdown",
   "metadata": {
    "id": "OnFPpCRtXRl4"
   },
   "source": [
    "### Load model\n",
    "\n",
    "Learn more about all [Gemini models on Vertex AI](https://cloud.google.com/vertex-ai/generative-ai/docs/learn/models#gemini-models)."
   ]
  },
  {
   "cell_type": "code",
   "execution_count": 4,
   "metadata": {
    "id": "IQYu_9SvXQah",
    "tags": []
   },
   "outputs": [],
   "source": [
    "MODEL_ID = \"gemini-2.0-flash-001\"  # @param {type: \"string\"}"
   ]
  },
  {
   "cell_type": "markdown",
   "metadata": {
    "id": "cVOtUNJ5X0PY"
   },
   "source": [
    "## Prompt engineering best practices"
   ]
  },
  {
   "cell_type": "markdown",
   "metadata": {
    "id": "uv_e0fEPX60q"
   },
   "source": [
    "Prompt engineering is all about how to design your prompts so that the response is what you were indeed hoping to see.\n",
    "\n",
    "The idea of using \"unfancy\" prompts is to minimize the noise in your prompt to reduce the possibility of the LLM misinterpreting the intent of the prompt. Below are a few guidelines on how to engineer \"unfancy\" prompts.\n",
    "\n",
    "In this section, you'll cover the following best practices when engineering prompts:\n",
    "\n",
    "* Be concise\n",
    "* Be specific, and well-defined\n",
    "* Ask one task at a time\n",
    "* Improve response quality by including examples\n",
    "* Turn generative tasks to classification tasks to improve safety"
   ]
  },
  {
   "cell_type": "markdown",
   "metadata": {
    "id": "0pY4XX0OX9_Y"
   },
   "source": [
    "### Be concise"
   ]
  },
  {
   "cell_type": "markdown",
   "metadata": {
    "id": "xlRpxyxGYA1K"
   },
   "source": [
    "🛑 Not recommended. The prompt below is unnecessarily verbose."
   ]
  },
  {
   "cell_type": "code",
   "execution_count": 5,
   "metadata": {
    "id": "YKV4G-CfXdbi",
    "tags": []
   },
   "outputs": [
    {
     "data": {
      "text/markdown": [
       "Okay, here are some name ideas for a dried flower shop, playing on different aspects of dried flowers:\n",
       "\n",
       "**Emphasizing Longevity & Timelessness:**\n",
       "\n",
       "*   **The Everbloom:** Simple, elegant, and highlights the lasting nature.\n",
       "*   **Lasting Petals:** Straightforward and descriptive.\n",
       "*   **Timeless Blooms:** Similar to Everbloom, but with a slightly more sophisticated feel.\n",
       "*   **The Preserved Petal:** Suggests care and artistry.\n",
       "*   **Eternal Flora:** A bit more dramatic and poetic.\n",
       "*   **Forever Flowers:** Easy to understand and remember.\n",
       "\n",
       "**Highlighting the Natural & Rustic Aspects:**\n",
       "\n",
       "*   **Prairie Dried:** Evokes a natural, wildflower feel.\n",
       "*   **The Dried Meadow:** Creates a sense of a natural landscape.\n",
       "*   **Sun & Stem:** Simple and earthy.\n",
       "*   **Wild Remains:** A bit more edgy and unique.\n",
       "*   **The Rustic Bouquet:** Clearly communicates the shop's style.\n",
       "*   **Dried & True:** Simple and Honest\n",
       "\n",
       "**Focusing on the Art & Craft:**\n",
       "\n",
       "*   **The Dried Canvas:** Suggests the bouquets are artistic creations.\n",
       "*   **Petal & Palette:** Connects flowers with artistic expression.\n",
       "*   **Dried Designs:** Simple, descriptive, and modern.\n",
       "*   **The Artful Arrangement:** Emphasizes the skill involved.\n",
       "*   **Hand-Dried Blooms:** Highlights the craftsmanship.\n",
       "\n",
       "**Unique & Creative Options:**\n",
       "\n",
       "*   **Xeranthemum:** A genus of dried flowers; unique and botanically-inspired.\n",
       "*   **The Still Life Studio:** Evokes a sense of art and preserved beauty.\n",
       "*   **Faded Flora:** A more melancholic and intriguing name.\n",
       "*   **Dust & Bloom:** A contrasting and memorable name.\n",
       "*   **Golden Stems:** Evokes a warm, natural color palette.\n",
       "*   **The Herbarium:** A place that has dried botanical specimens.\n",
       "\n",
       "**Tips for Choosing:**\n",
       "\n",
       "*   **Consider your target audience:** Are you aiming for a modern, minimalist aesthetic, or a more rustic, bohemian vibe?\n",
       "*   **Check for availability:** Make sure the name isn't already in use in your area (or online).\n",
       "*   **Say it out loud:** Make sure the name is easy to pronounce and remember.\n",
       "*   **Get feedback:** Ask friends, family, or potential customers for their opinions.\n",
       "\n",
       "I hope this helps! Good luck with your flower shop.\n"
      ],
      "text/plain": [
       "<IPython.core.display.Markdown object>"
      ]
     },
     "metadata": {},
     "output_type": "display_data"
    }
   ],
   "source": [
    "prompt = \"What do you think could be a good name for a flower shop that specializes in selling bouquets of dried flowers more than fresh flowers?\"\n",
    "\n",
    "response = client.models.generate_content(model=MODEL_ID, contents=prompt)\n",
    "display(Markdown(response.text))"
   ]
  },
  {
   "cell_type": "markdown",
   "metadata": {
    "id": "YrJexRHJYnmC"
   },
   "source": [
    "✅ Recommended. The prompt below is to the point and concise."
   ]
  },
  {
   "cell_type": "code",
   "execution_count": 6,
   "metadata": {
    "id": "VHetn9lCYrXB",
    "tags": []
   },
   "outputs": [
    {
     "data": {
      "text/markdown": [
       "Okay, here are some name suggestions for a dried flower shop, playing on different aspects like preservation, nature, artistry, and a modern feel:\n",
       "\n",
       "**Playing on Preservation & Longevity:**\n",
       "\n",
       "*   The Everbloom\n",
       "*   Lasting Petals\n",
       "*   Timeless Blooms\n",
       "*   Preserved Petals\n",
       "*   Eternal Eden\n",
       "*   The Dried Stamen\n",
       "*   The Memory Bloom\n",
       "*   Never Fade Flowers\n",
       "\n",
       "**Highlighting the Natural Element:**\n",
       "\n",
       "*   Sunbaked Blooms\n",
       "*   Harvested Hues\n",
       "*   Field & Flora (Dried)\n",
       "*   Earthen Blossoms\n",
       "*   Whispers of the Wild\n",
       "*   Golden Grass & Bloom\n",
       "*   Dry Creek Flowers\n",
       "*   Prairie Petals\n",
       "\n",
       "**Emphasizing Artistry & Design:**\n",
       "\n",
       "*   The Dried Palette\n",
       "*   Botanical Artistry\n",
       "*   Pressed & Preserved\n",
       "*   Floral Still Life\n",
       "*   The Gathered Stem\n",
       "*   Dried & Designed\n",
       "*   Bloom & Brush\n",
       "\n",
       "**Modern & Chic:**\n",
       "\n",
       "*   Dry Bloom Co.\n",
       "*   The Dried Flower Studio\n",
       "*   Petal & Stem (Dried)\n",
       "*   Bloom Haus (Dried)\n",
       "*   The Dry Garden\n",
       "*   The Modern Bloomist (Dried)\n",
       "\n",
       "**Unique & Evocative:**\n",
       "\n",
       "*   The Scent of Yesterday\n",
       "*   Amber Blooms\n",
       "*   Whispering Meadows\n",
       "*   The Stillroom\n",
       "*   Sunstone Florals\n",
       "*   Dried & True\n",
       "\n",
       "**Tips for Choosing:**\n",
       "\n",
       "*   **Availability:** Check if the name is available as a website domain and social media handle.\n",
       "*   **Target Audience:**  Consider who you are trying to attract. A younger audience might prefer a more modern name.\n",
       "*   **Memorability:**  Is it easy to remember and pronounce?\n",
       "*   **Your Brand:** Does it align with the overall aesthetic and style of your shop?\n",
       "*   **Say it Out Loud:**  How does the name sound when you say it?\n",
       "\n",
       "I hope this gives you a great starting point! Good luck!\n"
      ],
      "text/plain": [
       "<IPython.core.display.Markdown object>"
      ]
     },
     "metadata": {},
     "output_type": "display_data"
    }
   ],
   "source": [
    "prompt = \"Suggest a name for a flower shop that sells bouquets of dried flowers\"\n",
    "\n",
    "response = client.models.generate_content(model=MODEL_ID, contents=prompt)\n",
    "display(Markdown(response.text))"
   ]
  },
  {
   "cell_type": "markdown",
   "metadata": {
    "id": "eXTAvdOHY0OC"
   },
   "source": [
    "### Be specific, and well-defined"
   ]
  },
  {
   "cell_type": "markdown",
   "metadata": {
    "id": "FTH4GEIgY1dp"
   },
   "source": [
    "Suppose that you want to brainstorm creative ways to describe Earth."
   ]
  },
  {
   "cell_type": "markdown",
   "metadata": {
    "id": "o5BmXBiGY4KC"
   },
   "source": [
    "🛑 The prompt below might be a bit too generic (which is certainly OK if you'd like to ask a generic question!)"
   ]
  },
  {
   "cell_type": "code",
   "execution_count": 7,
   "metadata": {
    "id": "eHBaMvv7Y6mR",
    "tags": []
   },
   "outputs": [
    {
     "data": {
      "text/markdown": [
       "Okay, let's delve into the fascinating world of Earth! Here's a comprehensive overview of our home planet:\n",
       "\n",
       "**Basic Facts:**\n",
       "\n",
       "*   **Name:** Earth (the only planet not named after a Greek or Roman deity)\n",
       "*   **Planet Type:** Terrestrial (rocky)\n",
       "*   **Position in the Solar System:** Third planet from the Sun\n",
       "*   **Diameter:** Approximately 12,742 kilometers (7,918 miles)\n",
       "*   **Circumference:** Approximately 40,075 kilometers (24,901 miles) at the equator\n",
       "*   **Mass:** 5.97 x 10^24 kg\n",
       "*   **Density:** 5.514 g/cm³ (the densest planet in our solar system)\n",
       "*   **Rotation Period (Length of Day):** Approximately 24 hours (23 hours, 56 minutes, 4 seconds)\n",
       "*   **Orbital Period (Length of Year):** Approximately 365.25 days\n",
       "*   **Distance from the Sun:** Approximately 149.6 million kilometers (93 million miles) - This is defined as 1 Astronomical Unit (AU)\n",
       "*   **Axial Tilt:** 23.5 degrees (This is what causes our seasons)\n",
       "*   **Atmosphere:** Primarily composed of nitrogen (about 78%) and oxygen (about 21%), with smaller amounts of argon, carbon dioxide, and other gases.\n",
       "*   **Surface Temperature:** Varies widely, but the average is around 15°C (59°F).\n",
       "*   **Moons:** One natural satellite, the Moon.\n",
       "*   **Rings:** None\n",
       "\n",
       "**Internal Structure:**\n",
       "\n",
       "Earth has a layered structure:\n",
       "\n",
       "1.  **Inner Core:** A solid sphere of iron and nickel under immense pressure and heat (estimated at 5,200°C / 9,392°F).\n",
       "\n",
       "2.  **Outer Core:** A liquid layer of iron and nickel. The movement of this liquid generates Earth's magnetic field.\n",
       "\n",
       "3.  **Mantle:** A thick layer (about 2,900 km) of mostly solid rock, but with some plasticity. Convection currents in the mantle drive plate tectonics.\n",
       "\n",
       "4.  **Crust:** The outermost layer, a thin and brittle shell. There are two types of crust:\n",
       "    *   **Oceanic Crust:** Thinner (5-10 km) and denser, composed primarily of basalt.\n",
       "    *   **Continental Crust:** Thicker (30-70 km) and less dense, composed primarily of granite.\n",
       "\n",
       "**Surface Features:**\n",
       "\n",
       "Earth's surface is incredibly diverse and dynamic:\n",
       "\n",
       "*   **Continents:** Large landmasses (e.g., Africa, Asia, Europe, North America, South America, Australia, Antarctica).\n",
       "*   **Oceans:** Vast bodies of saltwater covering about 71% of the planet's surface (Pacific, Atlantic, Indian, Arctic, Southern).\n",
       "*   **Mountains:** Elevated landforms created by tectonic forces, volcanic activity, or erosion (e.g., Himalayas, Andes, Rockies).\n",
       "*   **Valleys:** Depressed areas of land, often formed by rivers or glaciers (e.g., Grand Canyon, Rift Valley).\n",
       "*   **Plains:** Flat, expansive areas of land.\n",
       "*   **Deserts:** Arid regions with little precipitation (e.g., Sahara, Arabian, Gobi).\n",
       "*   **Polar Ice Caps:** Frozen regions at the North and South Poles, composed of ice sheets and glaciers.\n",
       "*   **Volcanoes:** Openings in the Earth's crust through which molten rock (magma), ash, and gases erupt.\n",
       "\n",
       "**Atmosphere:**\n",
       "\n",
       "Earth's atmosphere is crucial for life. It:\n",
       "\n",
       "*   **Protects from harmful radiation:** The ozone layer in the stratosphere absorbs most of the Sun's ultraviolet (UV) radiation.\n",
       "*   **Moderates temperature:** The greenhouse effect traps some of the Sun's heat, keeping the planet warm enough for liquid water to exist.\n",
       "*   **Provides breathable air:** The atmosphere contains the oxygen that most living organisms need to survive.\n",
       "*   **Plays a role in the water cycle:** The atmosphere transports water vapor, which forms clouds and precipitation.\n",
       "*   **Layers:**\n",
       "    *   Troposphere (0-12km)\n",
       "    *   Stratosphere (12-50km)\n",
       "    *   Mesosphere (50-80km)\n",
       "    *   Thermosphere (80-700km)\n",
       "    *   Exosphere (700-10,000km)\n",
       "\n",
       "**Magnetic Field:**\n",
       "\n",
       "Earth has a strong magnetic field generated by the movement of molten iron in its outer core. This field:\n",
       "\n",
       "*   **Shields the planet from solar wind:** A stream of charged particles emitted by the Sun.\n",
       "*   **Deflects cosmic rays:** High-energy particles from outside the solar system.\n",
       "*   **Creates auroras:** The interaction of solar wind particles with the atmosphere near the poles produces the Northern and Southern Lights (Aurora Borealis and Aurora Australis).\n",
       "\n",
       "**Plate Tectonics:**\n",
       "\n",
       "Earth's lithosphere (crust and upper mantle) is divided into several large plates that float on the semi-molten asthenosphere. These plates are constantly moving, driven by convection currents in the mantle.  Plate tectonics is responsible for:\n",
       "\n",
       "*   **Continental drift:** The slow movement of continents over millions of years.\n",
       "*   **Earthquakes:** Sudden releases of energy along fault lines where plates collide, slide past each other, or separate.\n",
       "*   **Volcanoes:** Formed at plate boundaries where magma rises to the surface.\n",
       "*   **Mountain building:** Created by the collision of plates.\n",
       "*   **Ocean trenches:** Deep depressions in the ocean floor formed at subduction zones where one plate slides beneath another.\n",
       "\n",
       "**Life:**\n",
       "\n",
       "Earth is the only known planet to harbor life. The presence of liquid water, a stable atmosphere, and a magnetic field are all thought to be crucial for the development and survival of life. Earth's biodiversity is astonishing, ranging from microscopic bacteria to giant whales.\n",
       "\n",
       "**The Moon:**\n",
       "\n",
       "Earth's only natural satellite, the Moon, plays a significant role:\n",
       "\n",
       "*   **Stabilizes Earth's axial tilt:** This helps to keep our seasons relatively stable.\n",
       "*   **Causes tides:** The Moon's gravity pulls on Earth's oceans, creating tides.\n",
       "*   **Provides a source of light at night.**\n",
       "\n",
       "**Unique Features:**\n",
       "\n",
       "*   **Liquid Water:** Earth is unique in our solar system for having a significant amount of liquid water on its surface.\n",
       "*   **Oxygen-Rich Atmosphere:** The high concentration of oxygen in Earth's atmosphere is primarily due to photosynthesis by plants and algae.\n",
       "*   **Plate Tectonics:** Earth is the only planet in our solar system with active plate tectonics.\n",
       "*   **Life:**  As far as we know, Earth is the only planet that supports life.\n",
       "\n",
       "**Human Impact:**\n",
       "\n",
       "Human activities are having a significant impact on Earth's environment:\n",
       "\n",
       "*   **Climate change:** The burning of fossil fuels is releasing greenhouse gases into the atmosphere, causing global warming and other climate changes.\n",
       "*   **Pollution:** Air and water pollution are harming ecosystems and human health.\n",
       "*   **Deforestation:** The clearing of forests is reducing biodiversity and contributing to climate change.\n",
       "*   **Resource depletion:** We are using up natural resources at an unsustainable rate.\n",
       "\n",
       "**Future:**\n",
       "\n",
       "Earth is constantly changing, and its future is uncertain. The actions we take today will have a profound impact on the planet's future. Addressing climate change, protecting biodiversity, and using resources sustainably are critical to ensuring a healthy planet for future generations.\n",
       "\n",
       "**In summary, Earth is a dynamic, complex, and unique planet with a rich history and a uncertain future. Its diverse surface, life-supporting atmosphere, and active geological processes make it a truly remarkable place in the cosmos.**\n",
       "\n",
       "Do you have any specific questions about Earth that you'd like me to answer in more detail?  For example, are you interested in climate change, the history of life on Earth, or something else?\n"
      ],
      "text/plain": [
       "<IPython.core.display.Markdown object>"
      ]
     },
     "metadata": {},
     "output_type": "display_data"
    }
   ],
   "source": [
    "prompt = \"Tell me about Earth\"\n",
    "\n",
    "response = client.models.generate_content(model=MODEL_ID, contents=prompt)\n",
    "display(Markdown(response.text))"
   ]
  },
  {
   "cell_type": "markdown",
   "metadata": {
    "id": "4iyvEbteZnFL"
   },
   "source": [
    "✅ Recommended. The prompt below is specific and well-defined."
   ]
  },
  {
   "cell_type": "code",
   "execution_count": 8,
   "metadata": {
    "id": "JQ80z8urZnne",
    "tags": []
   },
   "outputs": [
    {
     "data": {
      "text/markdown": [
       "Okay, here's a list of things that make Earth unique compared to other planets in our solar system and, as far as we know, the exoplanets we've discovered so far:\n",
       "\n",
       "**The Big Ones (Life-Sustaining):**\n",
       "\n",
       "*   **Liquid Water on the Surface:** This is arguably *the* defining characteristic.  Earth's temperature and pressure allow water to exist in a liquid state across a significant portion of its surface. Liquid water is essential for life as we know it, acting as a solvent and a medium for biochemical reactions.\n",
       "*   **Oxygen-Rich Atmosphere:**  Earth's atmosphere is unique in its high concentration of free oxygen (around 21%). This is largely due to photosynthesis performed by plants and algae. This oxygen is crucial for aerobic respiration, which powers complex life forms.\n",
       "*   **Life:**  The only planet we know for sure harbors life. From microscopic organisms to complex ecosystems, the sheer diversity and complexity of life on Earth is unmatched.\n",
       "\n",
       "**Geological and Geophysical Factors:**\n",
       "\n",
       "*   **Plate Tectonics:**  Earth's lithosphere is divided into plates that move and interact, resulting in continental drift, mountain building, earthquakes, and volcanoes. Plate tectonics plays a crucial role in the carbon cycle, regulating Earth's temperature, and creating diverse habitats.\n",
       "*   **Active Geology:**  Earth is geologically active, with ongoing volcanism, erosion, and other processes that shape its surface. This activity replenishes nutrients, regulates the atmosphere, and prevents the planet from becoming stagnant.\n",
       "*   **Strong Magnetic Field:** Generated by the movement of molten iron in Earth's outer core, the magnetic field deflects harmful solar wind and cosmic radiation, protecting the atmosphere and life on the surface.\n",
       "*   **Moderately Rapid Rotation:**  Earth's 24-hour rotation creates daily cycles, influences weather patterns, and distributes heat more evenly around the planet.\n",
       "*   **The Right Distance from the Sun:** Earth resides within the \"habitable zone\" or \"Goldilocks zone,\" where temperatures are suitable for liquid water to exist on the surface.\n",
       "*   **Presence of a Large Moon:** The Moon stabilizes Earth's axial tilt, preventing extreme climate variations over long periods. It also influences tides, which may have played a role in the evolution of life.\n",
       "\n",
       "**Atmospheric Qualities:**\n",
       "\n",
       "*   **Atmospheric Pressure:**  Earth's atmospheric pressure is just right for liquid water to exist and for life to thrive. It's not too high (like Venus) or too low (like Mars).\n",
       "*   **Ozone Layer:**  A layer of ozone in the stratosphere absorbs most of the Sun's harmful ultraviolet (UV) radiation, protecting life from its damaging effects.\n",
       "*   **Atmospheric Composition:** A unique blend of nitrogen, oxygen, argon, and trace gases allows for a stable climate and a protective environment.\n",
       "\n",
       "**Other Unique Features:**\n",
       "\n",
       "*   **Complex Ecosystems:**  Interconnected webs of life, with diverse species interacting in intricate ways, create resilient and dynamic ecosystems.\n",
       "*   **Presence of Humans & Complex Civilizations:**  Earth is home to a highly intelligent and technologically advanced species that has significantly altered the planet's surface and atmosphere. This is a relatively recent development in Earth's history but a profoundly impactful one.\n",
       "*   **Ice Ages:** The Earth has gone through multiple ice age cycles in it's history, shaping the geological landscape, and impacting the evolution of life.\n",
       "\n",
       "**Important Considerations:**\n",
       "\n",
       "*   **We only know one example:** Our understanding of what makes a planet habitable is largely based on Earth. There may be other types of planets with entirely different conditions that could support life as we don't know it.\n",
       "*   **\"Unique\" is relative:** Some of these features might exist on other planets, but the combination of all these factors in the right proportions is what makes Earth truly special.\n",
       "\n",
       "This list isn't exhaustive, but it covers the major factors that contribute to Earth's unique status as the only known planet to harbor life. As we continue to explore our solar system and discover exoplanets, we may find that some of these characteristics are more common than we currently think, or we may discover entirely new factors that contribute to habitability.\n"
      ],
      "text/plain": [
       "<IPython.core.display.Markdown object>"
      ]
     },
     "metadata": {},
     "output_type": "display_data"
    }
   ],
   "source": [
    "prompt = \"Generate a list of ways that makes Earth unique compared to other planets\"\n",
    "\n",
    "response = client.models.generate_content(model=MODEL_ID, contents=prompt)\n",
    "display(Markdown(response.text))"
   ]
  },
  {
   "cell_type": "markdown",
   "metadata": {
    "id": "R5kmfZYHZsJ7"
   },
   "source": [
    "### Ask one task at a time"
   ]
  },
  {
   "cell_type": "markdown",
   "metadata": {
    "id": "rsAezxeYZuUN"
   },
   "source": [
    "🛑 Not recommended. The prompt below has two parts to the question that could be asked separately."
   ]
  },
  {
   "cell_type": "code",
   "execution_count": 9,
   "metadata": {
    "id": "ElywPXpuZtWf",
    "tags": []
   },
   "outputs": [
    {
     "data": {
      "text/markdown": [
       "Let's tackle both questions:\n",
       "\n",
       "**Best Method of Boiling Water**\n",
       "\n",
       "The \"best\" method depends on your priorities: speed, energy efficiency, convenience, and safety. Here's a breakdown:\n",
       "\n",
       "*   **Electric Kettle (Fastest, Most Efficient for Small Amounts):**\n",
       "    *   **Pros:** Extremely fast for boiling small amounts (1-2 cups). Very energy-efficient because they heat only the water you need. Safe, with automatic shut-off features. Convenient and easy to use.  Modern kettles can even have temperature controls.\n",
       "    *   **Cons:** Limited capacity. Can be expensive upfront.\n",
       "*   **Induction Cooktop (Fast, Efficient, Precise):**\n",
       "    *   **Pros:** Very fast heating (comparable to or faster than an electric kettle). Energy efficient because it directly heats the pot. Precise temperature control.\n",
       "    *   **Cons:** Requires induction-compatible cookware. Cooktop itself can be expensive.\n",
       "*   **Gas Stove (Fast, but Less Efficient):**\n",
       "    *   **Pros:** Fast heating. Relatively inexpensive to operate in many areas (depending on gas prices).\n",
       "    *   **Cons:** Less energy-efficient than electric kettles or induction, as heat is lost to the surrounding air. Can be less precise in temperature control. Can be a fire hazard if not used carefully.\n",
       "*   **Electric Stove (Slowest, Least Efficient):**\n",
       "    *   **Pros:** Inexpensive upfront cost. Works with most cookware.\n",
       "    *   **Cons:** Slowest heating method. Least energy-efficient because a lot of heat is lost to the surrounding air. Not as precise as other methods.\n",
       "*   **Microwave (Convenient, But Uneven Heating and Can be Dangerous):**\n",
       "    *   **Pros:** Convenient. Can be relatively quick for small amounts of water.\n",
       "    *   **Cons:** Water can superheat (become hotter than its boiling point without boiling), which can cause it to erupt violently when disturbed (e.g., when you add a tea bag or stir it). Uneven heating is common. Not ideal for large amounts of water.  Should *only* be done with microwave-safe containers.\n",
       "*   **Over a Campfire/Open Flame (For Outdoors/Emergencies):**\n",
       "    *   **Pros:** Can be used when other options aren't available.\n",
       "    *   **Cons:** Slow, inefficient, and requires careful attention to avoid accidents. Requires a suitable pot and fire-resistant gloves.\n",
       "\n",
       "**Conclusion (For Typical Home Use):**\n",
       "\n",
       "For most people, an **electric kettle** is the best option for boiling water due to its speed, efficiency, safety, and convenience. Induction cooktops are excellent if you have one and need to boil water frequently.  Avoid microwaving water unless absolutely necessary and do so with great care.\n",
       "\n",
       "**Why is the Sky Blue?**\n",
       "\n",
       "The sky is blue due to a phenomenon called **Rayleigh scattering**. Here's the simple explanation:\n",
       "\n",
       "1.  **Sunlight Enters the Atmosphere:** Sunlight is actually made up of all the colors of the rainbow.\n",
       "\n",
       "2.  **Scattering by Air Molecules:** As sunlight enters the Earth's atmosphere, it collides with tiny air molecules (mostly nitrogen and oxygen). This collision causes the light to scatter in different directions.\n",
       "\n",
       "3.  **Blue Light Scatters More:** Blue and violet light have shorter wavelengths than other colors in the spectrum (red, orange, yellow, green). Shorter wavelengths are scattered much more efficiently by these small air molecules than longer wavelengths. This is Rayleigh scattering.\n",
       "\n",
       "4.  **Why Not Violet?** Violet light is scattered even *more* than blue light. However, there are a few reasons we see blue instead of violet:\n",
       "    *   The sun emits slightly less violet light than blue.\n",
       "    *   Our eyes are more sensitive to blue light than violet.\n",
       "    *   The atmosphere absorbs some of the violet light.\n",
       "\n",
       "5.  **The Result: Blue Sky:** Because blue light is scattered more effectively, it's scattered all over the sky, making it appear blue to our eyes, no matter where we look.\n",
       "\n",
       "**In summary: Rayleigh scattering is the scattering of electromagnetic radiation (including visible light) by particles of a much smaller wavelength. Blue light is scattered more than other colors, making the sky appear blue.**\n",
       "\n",
       "**Why Sunsets are Red/Orange:**\n",
       "\n",
       "At sunset (or sunrise), the sunlight has to travel through much more of the atmosphere to reach our eyes. This means that most of the blue light has already been scattered away by the time the sunlight reaches us. The longer wavelengths (red and orange) are scattered less and can travel through the atmosphere more easily, so they are the colors we see.\n"
      ],
      "text/plain": [
       "<IPython.core.display.Markdown object>"
      ]
     },
     "metadata": {},
     "output_type": "display_data"
    }
   ],
   "source": [
    "prompt = \"What's the best method of boiling water and why is the sky blue?\"\n",
    "\n",
    "response = client.models.generate_content(model=MODEL_ID, contents=prompt)\n",
    "display(Markdown(response.text))"
   ]
  },
  {
   "cell_type": "markdown",
   "metadata": {
    "id": "ejzahazBZ8vk"
   },
   "source": [
    "✅ Recommended. The prompts below asks one task a time."
   ]
  },
  {
   "cell_type": "code",
   "execution_count": 10,
   "metadata": {
    "id": "C5ckp2F0Z_Ba",
    "tags": []
   },
   "outputs": [
    {
     "data": {
      "text/markdown": [
       "There's no single \"best\" method of boiling water, as it depends on your priorities: speed, energy efficiency, convenience, and availability of resources. Here's a breakdown of common methods and their pros and cons:\n",
       "\n",
       "**1. Electric Kettle:**\n",
       "\n",
       "*   **Pros:**\n",
       "    *   **Fast:** Generally the quickest way to boil small to medium amounts of water.\n",
       "    *   **Convenient:** Just fill, switch on, and it shuts off automatically.\n",
       "    *   **Energy Efficient (for small amounts):** Heats only the water directly, minimizing wasted energy.\n",
       "    *   **Relatively safe:** Auto shut-off features prevent boiling dry.\n",
       "*   **Cons:**\n",
       "    *   **Requires Electricity:** Not usable during power outages.\n",
       "    *   **Limited Capacity:** Typically holds a smaller amount of water than a stovetop kettle.\n",
       "    *   **Can be bulky:** Takes up counter space.\n",
       "    *   **Material Concerns:** Some people are concerned about plastics in some kettles (glass or stainless steel options are available).\n",
       "\n",
       "**2. Stovetop Kettle:**\n",
       "\n",
       "*   **Pros:**\n",
       "    *   **Larger Capacity:** Can boil more water than an electric kettle.\n",
       "    *   **Doesn't Require Electricity:** Can be used on gas, electric, or induction stoves.\n",
       "    *   **Durable:** Often made of stainless steel or cast iron, making them very long-lasting.\n",
       "    *   **Visual Appeal:** Can be aesthetically pleasing on the stovetop.\n",
       "*   **Cons:**\n",
       "    *   **Slower than Electric Kettle (for small amounts):** Especially on electric stovetops.\n",
       "    *   **Less Energy Efficient (for small amounts):** Stovetop heats the entire kettle, wasting energy if you only need a small amount of water.\n",
       "    *   **Requires Supervision:** You need to monitor it to prevent boiling dry.\n",
       "    *   **Can get very hot:** Be careful handling hot metal.\n",
       "\n",
       "**3. Microwave:**\n",
       "\n",
       "*   **Pros:**\n",
       "    *   **Fast:** Can be quick for small amounts of water (e.g., for a single cup of tea).\n",
       "    *   **Convenient:** Readily available in most homes.\n",
       "*   **Cons:**\n",
       "    *   **Uneven Heating:** Water can become superheated (above boiling point without visible bubbles) and erupt violently when disturbed. This is a safety hazard. **Never microwave water for a long period of time in a sealed container. Always use a microwave-safe container. Place a stir stick in the water to avoid superheating.**\n",
       "    *   **Doesn't Taste as Good (Subjective):** Some people believe microwaved water tastes different.\n",
       "    *   **Not Energy Efficient:** Uses a lot of energy to heat a small amount of water.\n",
       "    *   **Not suitable for large volumes.**\n",
       "    *   **Requires Electricity.**\n",
       "\n",
       "**4. Campfire/Open Fire:**\n",
       "\n",
       "*   **Pros:**\n",
       "    *   **Doesn't Require Electricity:** Essential for camping or situations where power is unavailable.\n",
       "    *   **Can use available fuel:** Wood, twigs, etc.\n",
       "*   **Cons:**\n",
       "    *   **Slow:** Takes a significant amount of time to heat water.\n",
       "    *   **Inconvenient:** Requires building and tending a fire.\n",
       "    *   **Can be dangerous:** Risk of burns and uncontrolled fire.\n",
       "    *   **Requires appropriate cookware:** Need a fire-safe pot or kettle.\n",
       "    *   **Can impart a smoky flavor to the water.**\n",
       "    *   **Adds particulate matter to air.**\n",
       "\n",
       "**5. Solar Cooker:**\n",
       "\n",
       "*   **Pros:**\n",
       "    *   **Environmentally Friendly:** Uses free solar energy.\n",
       "    *   **Doesn't Require Electricity or Fuel.**\n",
       "*   **Cons:**\n",
       "    *   **Very Slow:** Takes a long time to heat water, especially on cloudy days.\n",
       "    *   **Weather Dependent:** Only works in sunny conditions.\n",
       "    *   **Requires a solar cooker:** Can be bulky.\n",
       "    *   **Limited to daytime use.**\n",
       "\n",
       "**Here's a quick summary table:**\n",
       "\n",
       "| Method        | Speed       | Energy Efficiency (Small Amounts) | Convenience | Safety    | Notes                                                                                                                                                                                                                                  |\n",
       "|---------------|-------------|-----------------------------------|-------------|-----------|-----------------------------------------------------------------------------------------------------------------------------------------------------------------------------------------------------------------------------------------|\n",
       "| Electric Kettle | Very Fast   | High                              | Very High    | High      | Best for quick, small amounts of water.                                                                                                                                                                                            |\n",
       "| Stovetop Kettle | Moderate    | Low                               | Moderate    | Moderate  | Good for larger amounts of water. Requires supervision.                                                                                                                                                                                |\n",
       "| Microwave     | Fast        | Low                               | High        | Low       | Prone to superheating.  Use caution. Not recommended for large amounts.                                                                                                                                                                    |\n",
       "| Campfire/Fire  | Slow        | N/A                               | Low         | Very Low  | For emergency or outdoor use only. Requires skill and caution.                                                                                                                                                                        |\n",
       "| Solar Cooker   | Very Slow   | Very High                         | Low         | High      | Requires sunny conditions.                                                                                                                                                                                                           |\n",
       "\n",
       "**In conclusion:**\n",
       "\n",
       "*   **For everyday use (especially small amounts) and speed, an electric kettle is usually the best option.**\n",
       "*   **For boiling larger amounts of water or when electricity is unavailable, a stovetop kettle is a good choice.**\n",
       "*   **Use a microwave for small amounts in a pinch, but be extremely careful about superheating.**\n",
       "*   **Campfires and solar cookers are for specific situations where other options are not available.**\n",
       "\n",
       "Consider your needs and priorities when choosing the method that's best for you.\n"
      ],
      "text/plain": [
       "<IPython.core.display.Markdown object>"
      ]
     },
     "metadata": {},
     "output_type": "display_data"
    }
   ],
   "source": [
    "prompt = \"What's the best method of boiling water?\"\n",
    "\n",
    "response = client.models.generate_content(model=MODEL_ID, contents=prompt)\n",
    "display(Markdown(response.text))"
   ]
  },
  {
   "cell_type": "code",
   "execution_count": 11,
   "metadata": {
    "id": "KwUzhud4aA89",
    "tags": []
   },
   "outputs": [
    {
     "data": {
      "text/markdown": [
       "The sky is blue because of a phenomenon called **Rayleigh scattering**. Here's a breakdown:\n",
       "\n",
       "*   **Sunlight Composition:** Sunlight appears white, but it's actually made up of all the colors of the rainbow.\n",
       "\n",
       "*   **Entering the Atmosphere:** When sunlight enters the Earth's atmosphere, it collides with tiny air molecules (mostly nitrogen and oxygen).\n",
       "\n",
       "*   **Scattering of Light:** This collision causes the light to scatter in different directions.\n",
       "\n",
       "*   **Rayleigh Scattering:** Rayleigh scattering is more effective at scattering shorter wavelengths of light. Blue and violet light have shorter wavelengths than other colors like red, orange, and yellow.\n",
       "\n",
       "*   **Why Blue, Not Violet?** Violet light is scattered even more than blue light. However, the Sun emits less violet light than blue light, and our eyes are also more sensitive to blue light. This combination makes the sky appear predominantly blue.\n",
       "\n",
       "In simpler terms:\n",
       "\n",
       "Imagine throwing a handful of small balls (blue light) and a handful of larger balls (red light) at a bunch of obstacles. The small balls are more likely to bounce off in all directions, while the larger balls are more likely to continue straight. The air molecules act like the obstacles, scattering the blue light more than the red light.\n",
       "\n",
       "Therefore, when we look at the sky, we see the scattered blue light coming from all directions.\n",
       "\n",
       "**Exceptions:**\n",
       "\n",
       "*   **Sunrise and Sunset:** At sunrise and sunset, the sunlight has to travel through a much greater distance of the atmosphere. This means that most of the blue light has already been scattered away by the time it reaches our eyes. The longer wavelengths of light, like red and orange, are able to penetrate the atmosphere more effectively, which is why we see those colors during those times.\n",
       "\n",
       "*   **Clouds:** Clouds are white because they are made up of water droplets or ice crystals that are much larger than air molecules. These larger particles scatter all colors of light equally, which results in the white appearance of clouds."
      ],
      "text/plain": [
       "<IPython.core.display.Markdown object>"
      ]
     },
     "metadata": {},
     "output_type": "display_data"
    }
   ],
   "source": [
    "prompt = \"Why is the sky blue?\"\n",
    "\n",
    "response = client.models.generate_content(model=MODEL_ID, contents=prompt)\n",
    "display(Markdown(response.text))"
   ]
  },
  {
   "cell_type": "markdown",
   "metadata": {
    "id": "PJIL2RTQaGcT"
   },
   "source": [
    "### Watch out for hallucinations"
   ]
  },
  {
   "cell_type": "markdown",
   "metadata": {
    "id": "8Y8kYxrSaHE9"
   },
   "source": [
    "Although LLMs have been trained on a large amount of data, they can generate text containing statements not grounded in truth or reality; these responses from the LLM are often referred to as \"hallucinations\" due to their limited memorization capabilities. Note that simply prompting the LLM to provide a citation isn't a fix to this problem, as there are instances of LLMs providing false or inaccurate citations. Dealing with hallucinations is a fundamental challenge of LLMs and an ongoing research area, so it is important to be cognizant that LLMs may seem to give you confident, correct-sounding statements that are in fact incorrect.\n",
    "\n",
    "Note that if you intend to use LLMs for the creative use cases, hallucinating could actually be quite useful."
   ]
  },
  {
   "cell_type": "markdown",
   "metadata": {
    "id": "8NY5nAGeaJYS"
   },
   "source": [
    "Try the prompt like the one below repeatedly. We set the temperature to `1.0` so that it takes more risks in its choices. It's possible that it may provide an inaccurate, but confident answer."
   ]
  },
  {
   "cell_type": "code",
   "execution_count": 12,
   "metadata": {
    "id": "QALPjEILaM62",
    "tags": []
   },
   "outputs": [
    {
     "data": {
      "text/markdown": [
       "Today is Saturday, November 9th, 2024.\n"
      ],
      "text/plain": [
       "<IPython.core.display.Markdown object>"
      ]
     },
     "metadata": {},
     "output_type": "display_data"
    }
   ],
   "source": [
    "generation_config = GenerateContentConfig(temperature=1.0)\n",
    "\n",
    "prompt = \"What day is it today?\"\n",
    "\n",
    "response = client.models.generate_content(model=MODEL_ID, contents=prompt)\n",
    "display(Markdown(response.text))"
   ]
  },
  {
   "cell_type": "markdown",
   "metadata": {
    "id": "BRkwzbgRbhKt"
   },
   "source": [
    "Since LLMs do not have access to real-time information without further integrations, you may have noticed it hallucinates what day it is today in some of the outputs."
   ]
  },
  {
   "cell_type": "markdown",
   "metadata": {
    "id": "3c811e310d02"
   },
   "source": [
    "### Using system instructions to guardrail the model from irrelevant responses\n",
    "\n",
    "How can we attempt to reduce the chances of irrelevant responses and hallucinations?\n",
    "\n",
    "One way is to provide the LLM with [system instructions](https://cloud.google.com/vertex-ai/generative-ai/docs/multimodal/send-chat-prompts-gemini#system-instructions).\n",
    "\n",
    "Let's see how system instructions works and how you can use them to reduce hallucinations or irrelevant questions for a travel chatbot.\n",
    "\n",
    "Suppose we ask a simple question about one of Italy's most famous tourist spots."
   ]
  },
  {
   "cell_type": "code",
   "execution_count": 13,
   "metadata": {
    "id": "rB6zJU76biFK",
    "tags": []
   },
   "outputs": [
    {
     "data": {
      "text/markdown": [
       "The Duomo di Milano is a must-see for sightseeing in Milan, Italy. It is one of the largest cathedrals in the world and is known for its stunning architecture."
      ],
      "text/plain": [
       "<IPython.core.display.Markdown object>"
      ]
     },
     "metadata": {},
     "output_type": "display_data"
    }
   ],
   "source": [
    "generation_config = GenerateContentConfig(temperature=1.0)\n",
    "\n",
    "chat = client.chats.create(\n",
    "    model=MODEL_ID,\n",
    "    config=GenerateContentConfig(\n",
    "        system_instruction=[\n",
    "            \"Hello! You are an AI chatbot for a travel web site.\",\n",
    "            \"Your mission is to provide helpful queries for travelers.\",\n",
    "            \"Remember that before you answer a question, you must check to see if it complies with your mission.\",\n",
    "            \"If not, you can say, Sorry I can't answer that question.\",\n",
    "        ]\n",
    "    ),\n",
    ")\n",
    "\n",
    "prompt = \"What is the best place for sightseeing in Milan, Italy?\"\n",
    "\n",
    "response = chat.send_message(prompt)\n",
    "display(Markdown(response.text))"
   ]
  },
  {
   "cell_type": "markdown",
   "metadata": {
    "id": "WZa-Qcf9cF4A"
   },
   "source": [
    "Now let us pretend to be a user asks the chatbot a question that is unrelated to travel."
   ]
  },
  {
   "cell_type": "code",
   "execution_count": 14,
   "metadata": {
    "id": "AZKBIDr2cGnu",
    "tags": []
   },
   "outputs": [
    {
     "data": {
      "text/markdown": [
       "The Duomo di Milano is a must-see for sightseeing in Milan, Italy. It is one of the largest cathedrals in the world and is known for its stunning architecture."
      ],
      "text/plain": [
       "<IPython.core.display.Markdown object>"
      ]
     },
     "metadata": {},
     "output_type": "display_data"
    }
   ],
   "source": [
    "prompt = \"What is the best place for sightseeing in Milan, Italy?\"\n",
    "\n",
    "response = chat.send_message(prompt)\n",
    "display(Markdown(response.text))"
   ]
  },
  {
   "cell_type": "markdown",
   "metadata": {
    "id": "JiUYIhwpctCy"
   },
   "source": [
    "You can see that this way, a guardrail in the prompt prevented the chatbot from veering off course."
   ]
  },
  {
   "cell_type": "markdown",
   "metadata": {
    "id": "ZuuDhA37cvmP"
   },
   "source": [
    "### Turn generative tasks into classification tasks to reduce output variability"
   ]
  },
  {
   "cell_type": "markdown",
   "metadata": {
    "id": "kUCUrsUzczmb"
   },
   "source": [
    "#### Generative tasks lead to higher output variability"
   ]
  },
  {
   "cell_type": "markdown",
   "metadata": {
    "id": "a1xASHAkc46n"
   },
   "source": [
    "The prompt below results in an open-ended response, useful for brainstorming, but response is highly variable."
   ]
  },
  {
   "cell_type": "code",
   "execution_count": 15,
   "metadata": {
    "id": "nPfXQWIacwRf",
    "tags": []
   },
   "outputs": [
    {
     "data": {
      "text/markdown": [
       "Okay, let's brainstorm some programming activities that would be great for a high school student looking to improve their skills. To give you the *best* recommendation, I need a little more information about you, but I'll offer a range of options with different focuses.\n",
       "\n",
       "**Consider these factors about yourself when choosing:**\n",
       "\n",
       "*   **Your Current Skill Level:** Are you a complete beginner, or do you have some experience with a specific language(s)?\n",
       "*   **Your Interests:** What topics do you enjoy? (e.g., games, web development, data analysis, art, robotics)\n",
       "*   **Time Commitment:** How much time are you willing to dedicate to this activity per week?\n",
       "*   **Learning Style:** Do you prefer structured tutorials, self-directed projects, or collaborative work?\n",
       "\n",
       "**Here are some project ideas, categorized by skill focus, with increasing complexity:**\n",
       "\n",
       "**1. Beginner-Friendly Projects (Focus: Fundamentals, Basic Syntax, Logic)**\n",
       "\n",
       "*   **Text-Based Adventure Game:**\n",
       "    *   **Language:** Python (easiest to start with), or Java/C++ if you want a challenge.\n",
       "    *   **Description:**  Create a simple game where the user makes choices that affect the story's outcome. Think \"Choose Your Own Adventure\" in code.\n",
       "    *   **Skills Reinforced:** Input/Output, `if/else` statements, loops, basic string manipulation.\n",
       "    *   **Example:**  The game asks the user if they want to go left or right. Based on the input, the program prints a different scenario.\n",
       "    *   **Resources:** Numerous tutorials available online.  Search for \"Python text adventure tutorial.\"\n",
       "\n",
       "*   **Simple Calculator:**\n",
       "    *   **Language:** Any language.\n",
       "    *   **Description:**  A program that takes two numbers as input and performs basic arithmetic operations (addition, subtraction, multiplication, division).\n",
       "    *   **Skills Reinforced:** Input/Output, data types (integers, floats), operators.\n",
       "\n",
       "*   **Number Guessing Game:**\n",
       "    *   **Language:** Any language.\n",
       "    *   **Description:** The computer generates a random number, and the user has to guess it within a certain number of tries.\n",
       "    *   **Skills Reinforced:** Random number generation, `while` loops, `if/else` statements, user input.\n",
       "\n",
       "*   **Temperature Converter:**\n",
       "    *   **Language:** Any language\n",
       "    *   **Description:** Converts temperatures between Celsius, Fahrenheit, and Kelvin.\n",
       "    *   **Skills Reinforced:** Input/Output, arithmetic operations, functions.\n",
       "\n",
       "**2. Intermediate Projects (Focus: Data Structures, Algorithms, Object-Oriented Programming)**\n",
       "\n",
       "*   **To-Do List Application:**\n",
       "    *   **Language:** Python, Java, JavaScript (with HTML/CSS for a web-based version)\n",
       "    *   **Description:** A program that allows users to add, delete, and view tasks in a list.  You can add features like priority levels or due dates.\n",
       "    *   **Skills Reinforced:** Lists/Arrays, file input/output (to save the list), functions, basic user interface design (if you choose the web version).\n",
       "\n",
       "*   **Simple Blog or Portfolio Website:**\n",
       "    *   **Language:** HTML, CSS, JavaScript (front-end).  You can add a back-end with Python (Flask or Django), Node.js, or PHP if you want to learn server-side programming.\n",
       "    *   **Description:** Create a personal website to showcase your projects or write about your interests.\n",
       "    *   **Skills Reinforced:** HTML structure, CSS styling, JavaScript interactivity, (optional) back-end database interaction.\n",
       "\n",
       "*   **Basic Game (e.g., Snake, Pong, Tetris):**\n",
       "    *   **Language:** Python (with Pygame), Java (with Swing or JavaFX), JavaScript (with HTML Canvas)\n",
       "    *   **Description:** Implement a classic arcade game. This will require handling user input, updating the game state, and drawing graphics.\n",
       "    *   **Skills Reinforced:** Game loops, event handling, basic collision detection, object-oriented programming (if you design your game with classes).\n",
       "\n",
       "*   **Data Analysis Script:**\n",
       "    *   **Language:** Python (with Pandas and Matplotlib)\n",
       "    *   **Description:**  Find a publicly available dataset (e.g., from Kaggle or a government website) and write a script to analyze the data and generate visualizations.\n",
       "    *   **Skills Reinforced:** Data manipulation, data cleaning, data visualization, statistical analysis.\n",
       "\n",
       "**3. Advanced Projects (Focus: Complex Algorithms, Software Design Patterns, Real-World Applications)**\n",
       "\n",
       "*   **Chat Application:**\n",
       "    *   **Language:** Python (with Flask or Django and WebSockets), Node.js (with Socket.IO)\n",
       "    *   **Description:**  Build a real-time chat application where users can send and receive messages.  This involves handling multiple clients, managing connections, and storing messages.\n",
       "    *   **Skills Reinforced:** Network programming, server-side development, database interaction, concurrency.\n",
       "\n",
       "*   **Machine Learning Project:**\n",
       "    *   **Language:** Python (with Scikit-learn, TensorFlow, or PyTorch)\n",
       "    *   **Description:**  Implement a machine learning model to solve a specific problem (e.g., image classification, sentiment analysis, spam detection).\n",
       "    *   **Skills Reinforced:** Machine learning algorithms, data preprocessing, model training, model evaluation.\n",
       "\n",
       "*   **Mobile App Development:**\n",
       "    *   **Language:** Java/Kotlin (for Android), Swift (for iOS), React Native (cross-platform)\n",
       "    *   **Description:**  Build a mobile app that solves a problem or provides a useful service.\n",
       "    *   **Skills Reinforced:** Mobile UI design, API integration, data storage, platform-specific features.\n",
       "\n",
       "**Other Tips to Enhance Your Learning:**\n",
       "\n",
       "*   **Use Version Control (Git):** Learn to use Git for tracking your code changes and collaborating with others.  GitHub is a popular platform for hosting Git repositories.\n",
       "*   **Write Clean Code:**  Follow coding style guides (e.g., PEP 8 for Python) to make your code more readable and maintainable.\n",
       "*   **Comment Your Code:**  Explain what your code does with clear and concise comments.\n",
       "*   **Test Your Code:**  Write unit tests to ensure that your code works correctly.\n",
       "*   **Read Other People's Code:**  Study well-written code to learn new techniques and improve your understanding.\n",
       "*   **Participate in Online Communities:**  Join forums, Stack Overflow, and other online communities to ask questions, share your knowledge, and learn from others.\n",
       "*   **Pair Programming:** Work on projects with a friend or classmate.  This can help you learn from each other and catch errors more easily.\n",
       "*   **Contribute to Open Source Projects:**  Contributing to open source projects is a great way to gain experience working on real-world codebases and collaborating with other developers.\n",
       "*   **Set Realistic Goals:**  Don't try to learn everything at once.  Focus on one topic at a time and gradually increase your knowledge.\n",
       "*   **Be Patient and Persistent:**  Learning to program takes time and effort.  Don't get discouraged if you encounter challenges.  Keep practicing and you will eventually improve.\n",
       "*   **Find a Mentor:**  If possible, find a mentor who can provide guidance and support.\n",
       "\n",
       "**To give you a *more specific* recommendation, please tell me:**\n",
       "\n",
       "*   **What programming languages do you already know, even just a little?**\n",
       "*   **What kind of things are you interested in (games, web dev, data, etc.)?**\n",
       "\n",
       "Once I have that info, I can suggest a project that's a perfect fit for you! Good luck!\n"
      ],
      "text/plain": [
       "<IPython.core.display.Markdown object>"
      ]
     },
     "metadata": {},
     "output_type": "display_data"
    }
   ],
   "source": [
    "prompt = \"I'm a high school student. Recommend me a programming activity to improve my skills.\"\n",
    "\n",
    "response = client.models.generate_content(model=MODEL_ID, contents=prompt)\n",
    "display(Markdown(response.text))"
   ]
  },
  {
   "cell_type": "markdown",
   "metadata": {
    "id": "iAmm9wPYc_1o"
   },
   "source": [
    "#### Classification tasks reduces output variability"
   ]
  },
  {
   "cell_type": "markdown",
   "metadata": {
    "id": "VvRpK_0GdCpf"
   },
   "source": [
    "The prompt below results in a choice and may be useful if you want the output to be easier to control."
   ]
  },
  {
   "cell_type": "code",
   "execution_count": 16,
   "metadata": {
    "id": "kYDKh0r2dAqo",
    "tags": []
   },
   "outputs": [
    {
     "data": {
      "text/markdown": [
       "Okay, for a high school student looking to learn a programming language, I strongly recommend **either Python (a) or JavaScript (b), but I would lean slightly towards Python to start.** Here's a breakdown:\n",
       "\n",
       "**Why Python is a Great Starting Point (and my recommendation):**\n",
       "\n",
       "*   **Beginner-Friendly Syntax:** Python is known for its clean, readable syntax. It's designed to be close to plain English, which makes it easier to grasp the fundamental concepts of programming without getting bogged down in complex syntax rules. Think of it as learning to speak a language with fewer grammatical exceptions.\n",
       "\n",
       "*   **Versatility:** Python is used in a HUGE variety of fields:\n",
       "    *   **Data Science:** Analyzing data, machine learning, AI. This is a booming field.\n",
       "    *   **Web Development:** Building the back-end (server-side) of websites.\n",
       "    *   **Scripting and Automation:** Automating tasks on your computer or network.\n",
       "    *   **Game Development:**  While not its strongest point, libraries like Pygame allow you to create simple games.\n",
       "    *   **Scientific Computing:** Used in research and simulations.\n",
       "\n",
       "*   **Large and Supportive Community:**  If you get stuck, there are tons of online resources, tutorials, forums, and libraries available to help you.  A strong community is invaluable when learning.\n",
       "\n",
       "*   **Great Educational Resources:**  There are countless free and paid online courses, tutorials, and books specifically designed for beginners learning Python.\n",
       "\n",
       "*   **Real-World Relevance:**  Knowing Python gives you a marketable skill. Many internships and entry-level jobs in tech require or prefer Python knowledge.\n",
       "\n",
       "**Why JavaScript is Also a Good Choice (and possibly next):**\n",
       "\n",
       "*   **Web Development Focus:** JavaScript is *the* language of the web browser. It's essential for making websites interactive and dynamic. If you're interested in front-end (what the user sees) web development, JavaScript is a must.\n",
       "\n",
       "*   **Immediate Visual Results:**  You can see the results of your code quickly in a web browser.  This can be very motivating when you're starting out.\n",
       "\n",
       "*   **Front-End and Back-End (with Node.js):**  JavaScript can also be used on the back-end with Node.js, making it a full-stack language.\n",
       "\n",
       "*   **Large Ecosystem:** Like Python, JavaScript has a massive ecosystem of libraries and frameworks (React, Angular, Vue.js) that extend its capabilities.\n",
       "\n",
       "*   **Ubiquitous:**  JavaScript is everywhere on the web, so understanding it is valuable even if you don't become a professional developer.\n",
       "\n",
       "**Why Fortran is NOT Recommended (at least not now):**\n",
       "\n",
       "*   **Specialized Use Case:** Fortran is primarily used in scientific and engineering computing, particularly in areas like weather forecasting, fluid dynamics, and computational physics.\n",
       "\n",
       "*   **Steeper Learning Curve (Initially):** While not inherently *harder* than other languages, Fortran's syntax and concepts can be less intuitive for a beginner without a strong mathematical or scientific background.\n",
       "\n",
       "*   **Limited Applicability Outside of Specific Fields:**  Fortran skills are less transferable to other areas of programming than Python or JavaScript.\n",
       "\n",
       "*   **Smaller Community:** Compared to Python and JavaScript, the Fortran community is smaller, making it potentially harder to find help and resources.\n",
       "\n",
       "**In Summary:**\n",
       "\n",
       "1.  **Start with Python:**  It's the most beginner-friendly, versatile, and has excellent resources.  You'll build a solid foundation in programming concepts.\n",
       "\n",
       "2.  **Consider JavaScript Next:** If you're interested in web development, JavaScript is essential.  Learning Python first will make learning JavaScript easier.\n",
       "\n",
       "3.  **Defer Fortran:** Unless you have a specific and compelling reason to learn Fortran (e.g., you're already working on a project that uses it), it's best to focus on Python and/or JavaScript first.  You can always learn Fortran later if your interests lead you that way.\n",
       "\n",
       "**How to Get Started:**\n",
       "\n",
       "*   **Python:**\n",
       "    *   Codecademy's Python course is a good starting point.\n",
       "    *   \"Automate the Boring Stuff with Python\" (free online) is excellent for learning practical applications.\n",
       "    *   Many YouTube tutorials are available.\n",
       "*   **JavaScript:**\n",
       "    *   Codecademy's JavaScript course.\n",
       "    *   freeCodeCamp's JavaScript algorithms and data structures certification.\n",
       "    *   Mozilla Developer Network (MDN) is an excellent resource for JavaScript documentation.\n",
       "\n",
       "Good luck with your programming journey!  Let me know if you have any other questions.\n"
      ],
      "text/plain": [
       "<IPython.core.display.Markdown object>"
      ]
     },
     "metadata": {},
     "output_type": "display_data"
    }
   ],
   "source": [
    "prompt = \"\"\"I'm a high school student. Which of these activities do you suggest and why:\n",
    "a) learn Python\n",
    "b) learn JavaScript\n",
    "c) learn Fortran\n",
    "\"\"\"\n",
    "\n",
    "response = client.models.generate_content(model=MODEL_ID, contents=prompt)\n",
    "display(Markdown(response.text))"
   ]
  },
  {
   "cell_type": "markdown",
   "metadata": {
    "id": "iTd60b1GdIsx"
   },
   "source": [
    "\n",
    "### Improve response quality by including examples"
   ]
  },
  {
   "cell_type": "markdown",
   "metadata": {
    "id": "yJi44NejdJYE"
   },
   "source": [
    "Another way to improve response quality is to add examples in your prompt. The LLM learns in-context from the examples on how to respond. Typically, one to five examples (shots) are enough to improve the quality of responses. Including too many examples can cause the model to over-fit the data and reduce the quality of responses.\n",
    "\n",
    "Similar to classical model training, the quality and distribution of the examples is very important. Pick examples that are representative of the scenarios that you need the model to learn, and keep the distribution of the examples (e.g. number of examples per class in the case of classification) aligned with your actual distribution."
   ]
  },
  {
   "cell_type": "markdown",
   "metadata": {
    "id": "sMbLginWdOKs"
   },
   "source": [
    "#### Zero-shot prompt"
   ]
  },
  {
   "cell_type": "markdown",
   "metadata": {
    "id": "Crh2Loi2dQ0v"
   },
   "source": [
    "Below is an example of zero-shot prompting, where you don't provide any examples to the LLM within the prompt itself."
   ]
  },
  {
   "cell_type": "code",
   "execution_count": 17,
   "metadata": {
    "id": "-7myRc-SdTQ4",
    "tags": []
   },
   "outputs": [
    {
     "data": {
      "text/markdown": [
       "Sentiment: Positive\n"
      ],
      "text/plain": [
       "<IPython.core.display.Markdown object>"
      ]
     },
     "metadata": {},
     "output_type": "display_data"
    }
   ],
   "source": [
    "prompt = \"\"\"Decide whether a Tweet's sentiment is positive, neutral, or negative.\n",
    "\n",
    "Tweet: I loved the new YouTube video you made!\n",
    "Sentiment:\n",
    "\"\"\"\n",
    "\n",
    "response = client.models.generate_content(model=MODEL_ID, contents=prompt)\n",
    "display(Markdown(response.text))"
   ]
  },
  {
   "cell_type": "markdown",
   "metadata": {
    "id": "ucRtPn9SdL64"
   },
   "source": [
    "#### One-shot prompt"
   ]
  },
  {
   "cell_type": "markdown",
   "metadata": {
    "id": "rs0gQH2vdYBi"
   },
   "source": [
    "Below is an example of one-shot prompting, where you provide one example to the LLM within the prompt to give some guidance on what type of response you want."
   ]
  },
  {
   "cell_type": "code",
   "execution_count": 18,
   "metadata": {
    "id": "iEq-KxGYdaT5",
    "tags": []
   },
   "outputs": [
    {
     "data": {
      "text/markdown": [
       "Sentiment: negative\n"
      ],
      "text/plain": [
       "<IPython.core.display.Markdown object>"
      ]
     },
     "metadata": {},
     "output_type": "display_data"
    }
   ],
   "source": [
    "prompt = \"\"\"Decide whether a Tweet's sentiment is positive, neutral, or negative.\n",
    "\n",
    "Tweet: I loved the new YouTube video you made!\n",
    "Sentiment: positive\n",
    "\n",
    "Tweet: That was awful. Super boring 😠\n",
    "Sentiment:\n",
    "\"\"\"\n",
    "\n",
    "response = client.models.generate_content(model=MODEL_ID, contents=prompt)\n",
    "display(Markdown(response.text))"
   ]
  },
  {
   "cell_type": "markdown",
   "metadata": {
    "id": "JnKLjJzmdfL_"
   },
   "source": [
    "#### Few-shot prompt"
   ]
  },
  {
   "cell_type": "markdown",
   "metadata": {
    "id": "6Zv-9F5OdgI_"
   },
   "source": [
    "Below is an example of few-shot prompting, where you provide a few examples to the LLM within the prompt to give some guidance on what type of response you want."
   ]
  },
  {
   "cell_type": "code",
   "execution_count": 19,
   "metadata": {
    "id": "u37P9tG4dk9S",
    "tags": []
   },
   "outputs": [
    {
     "data": {
      "text/markdown": [
       "Sentiment: positive\n"
      ],
      "text/plain": [
       "<IPython.core.display.Markdown object>"
      ]
     },
     "metadata": {},
     "output_type": "display_data"
    }
   ],
   "source": [
    "prompt = \"\"\"Decide whether a Tweet's sentiment is positive, neutral, or negative.\n",
    "\n",
    "Tweet: I loved the new YouTube video you made!\n",
    "Sentiment: positive\n",
    "\n",
    "Tweet: That was awful. Super boring 😠\n",
    "Sentiment: negative\n",
    "\n",
    "Tweet: Something surprised me about this video - it was actually original. It was not the same old recycled stuff that I always see. Watch it - you will not regret it.\n",
    "Sentiment:\n",
    "\"\"\"\n",
    "\n",
    "response = client.models.generate_content(model=MODEL_ID, contents=prompt)\n",
    "display(Markdown(response.text))"
   ]
  },
  {
   "cell_type": "markdown",
   "metadata": {
    "id": "wDMD3xb2dvX6"
   },
   "source": [
    "#### Choosing between zero-shot, one-shot, few-shot prompting methods"
   ]
  },
  {
   "cell_type": "markdown",
   "metadata": {
    "id": "s92W0YpNdxJp"
   },
   "source": [
    "Which prompt technique to use will solely depends on your goal. The zero-shot prompts are more open-ended and can give you creative answers, while one-shot and few-shot prompts teach the model how to behave so you can get more predictable answers that are consistent with the examples provided."
   ]
  }
 ],
 "metadata": {
  "colab": {
   "name": "intro_prompt_design.ipynb",
   "toc_visible": true
  },
  "environment": {
   "kernel": "conda-base-py",
   "name": "workbench-notebooks.m129",
   "type": "gcloud",
   "uri": "us-docker.pkg.dev/deeplearning-platform-release/gcr.io/workbench-notebooks:m129"
  },
  "kernelspec": {
   "display_name": "Python 3 (ipykernel) (Local)",
   "language": "python",
   "name": "conda-base-py"
  },
  "language_info": {
   "codemirror_mode": {
    "name": "ipython",
    "version": 3
   },
   "file_extension": ".py",
   "mimetype": "text/x-python",
   "name": "python",
   "nbconvert_exporter": "python",
   "pygments_lexer": "ipython3",
   "version": "3.10.16"
  }
 },
 "nbformat": 4,
 "nbformat_minor": 4
}
