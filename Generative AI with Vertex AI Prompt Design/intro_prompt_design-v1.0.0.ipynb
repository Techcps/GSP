{
 "cells": [
  {
   "cell_type": "code",
   "execution_count": 1,
   "metadata": {
    "id": "ur8xi4C7S06n",
    "tags": []
   },
   "outputs": [],
   "source": [
    "# Copyright 2024 Google LLC\n",
    "#\n",
    "# Licensed under the Apache License, Version 2.0 (the \"License\");\n",
    "# you may not use this file except in compliance with the License.\n",
    "# You may obtain a copy of the License at\n",
    "#\n",
    "#     https://www.apache.org/licenses/LICENSE-2.0\n",
    "#\n",
    "# Unless required by applicable law or agreed to in writing, software\n",
    "# distributed under the License is distributed on an \"AS IS\" BASIS,\n",
    "# WITHOUT WARRANTIES OR CONDITIONS OF ANY KIND, either express or implied.\n",
    "# See the License for the specific language governing permissions and\n",
    "# limitations under the License."
   ]
  },
  {
   "cell_type": "markdown",
   "metadata": {
    "id": "JAPoU8Sm5E6e"
   },
   "source": [
    "# Prompt Design - Best Practices\n",
    "\n",
    "<table align=\"left\">\n",
    "  <td style=\"text-align: center\">\n",
    "    <a href=\"https://colab.research.google.com/github/GoogleCloudPlatform/generative-ai/blob/main/gemini/prompts/intro_prompt_design.ipynb\">\n",
    "      <img src=\"https://cloud.google.com/ml-engine/images/colab-logo-32px.png\" alt=\"Google Colaboratory logo\"><br> Open in Colab\n",
    "    </a>\n",
    "  </td>\n",
    "  <td style=\"text-align: center\">\n",
    "    <a href=\"https://console.cloud.google.com/vertex-ai/colab/import/https:%2F%2Fraw.githubusercontent.com%2FGoogleCloudPlatform%2Fgenerative-ai%2Fmain%2Fgemini%2Fprompts%2Fintro_prompt_design.ipynb\">\n",
    "      <img width=\"32px\" src=\"https://lh3.googleusercontent.com/JmcxdQi-qOpctIvWKgPtrzZdJJK-J3sWE1RsfjZNwshCFgE_9fULcNpuXYTilIR2hjwN\" alt=\"Google Cloud Colab Enterprise logo\"><br> Open in Colab Enterprise\n",
    "    </a>\n",
    "  </td>    \n",
    "  <td style=\"text-align: center\">\n",
    "    <a href=\"https://console.cloud.google.com/vertex-ai/workbench/deploy-notebook?download_url=https://raw.githubusercontent.com/GoogleCloudPlatform/generative-ai/main/gemini/prompts/intro_prompt_design.ipynb\">\n",
    "      <img src=\"https://lh3.googleusercontent.com/UiNooY4LUgW_oTvpsNhPpQzsstV5W8F7rYgxgGBD85cWJoLmrOzhVs_ksK_vgx40SHs7jCqkTkCk=e14-rj-sc0xffffff-h130-w32\" alt=\"Vertex AI logo\"><br> Open in Workbench\n",
    "    </a>\n",
    "  </td>\n",
    "  <td style=\"text-align: center\">\n",
    "    <a href=\"https://github.com/GoogleCloudPlatform/generative-ai/blob/main/gemini/prompts/intro_prompt_design.ipynb\">\n",
    "      <img src=\"https://cloud.google.com/ml-engine/images/github-logo-32px.png\" alt=\"GitHub logo\"><br> View on GitHub\n",
    "    </a>\n",
    "  </td>\n",
    "</table>"
   ]
  },
  {
   "cell_type": "markdown",
   "metadata": {
    "id": "84f0f73a0f76"
   },
   "source": [
    "| | | |\n",
    "|-|-|-|\n",
    "|Author(s) | [Polong Lin](https://github.com/polong-lin) | [Karl Weinmeister](https://github.com/kweinmeister)|"
   ]
  },
  {
   "cell_type": "markdown",
   "metadata": {
    "id": "tvgnzT1CKxrO"
   },
   "source": [
    "## Overview\n",
    "\n",
    "This notebook covers the essentials of prompt engineering, including some best practices.\n",
    "\n",
    "Learn more about prompt design in the [official documentation](https://cloud.google.com/vertex-ai/docs/generative-ai/text/text-overview).\n",
    "\n",
    "In this notebook, you learn best practices around prompt engineering -- how to design prompts to improve the quality of your responses.\n",
    "\n",
    "This notebook covers the following best practices for prompt engineering:\n",
    "\n",
    "- Be concise\n",
    "- Be specific and well-defined\n",
    "- Ask one task at a time\n",
    "- Turn generative tasks into classification tasks\n",
    "- Improve response quality by including examples"
   ]
  },
  {
   "cell_type": "markdown",
   "metadata": {
    "id": "61RBz8LLbxCR"
   },
   "source": [
    "## Getting Started"
   ]
  },
  {
   "cell_type": "markdown",
   "metadata": {
    "id": "No17Cw5hgx12"
   },
   "source": [
    "### Install Vertex AI SDK and other required packages\n"
   ]
  },
  {
   "cell_type": "code",
   "execution_count": 2,
   "metadata": {
    "id": "tFy3H3aPgx12",
    "tags": []
   },
   "outputs": [
    {
     "name": "stdout",
     "output_type": "stream",
     "text": [
      "Note: you may need to restart the kernel to use updated packages.\n"
     ]
    }
   ],
   "source": [
    "%pip install --upgrade --user --quiet google-cloud-aiplatform"
   ]
  },
  {
   "cell_type": "markdown",
   "metadata": {
    "id": "R5Xep4W9lq-Z"
   },
   "source": [
    "### Restart runtime\n",
    "\n",
    "To use the newly installed packages in this Jupyter runtime, you must restart the runtime. You can do this by running the cell below, which will restart the current kernel."
   ]
  },
  {
   "cell_type": "code",
   "execution_count": 3,
   "metadata": {
    "id": "XRvKdaPDTznN",
    "tags": []
   },
   "outputs": [
    {
     "data": {
      "text/plain": [
       "{'status': 'ok', 'restart': True}"
      ]
     },
     "execution_count": 3,
     "metadata": {},
     "output_type": "execute_result"
    }
   ],
   "source": [
    "import IPython\n",
    "\n",
    "app = IPython.Application.instance()\n",
    "app.kernel.do_shutdown(True)"
   ]
  },
  {
   "cell_type": "markdown",
   "metadata": {
    "id": "SbmM4z7FOBpM"
   },
   "source": [
    "<div class=\"alert alert-block alert-warning\">\n",
    "<b>⚠️ The kernel is going to restart. Please wait until it is finished before continuing to the next step. ⚠️</b>\n",
    "</div>\n"
   ]
  },
  {
   "cell_type": "markdown",
   "metadata": {
    "id": "dmWOrTJ3gx13"
   },
   "source": [
    "### Authenticate your notebook environment (Colab only)\n",
    "\n",
    "Authenticate your environment on Google Colab.\n"
   ]
  },
  {
   "cell_type": "code",
   "execution_count": 1,
   "metadata": {
    "id": "NyKGtVQjgx13",
    "tags": []
   },
   "outputs": [],
   "source": [
    "import sys\n",
    "\n",
    "if \"google.colab\" in sys.modules:\n",
    "    from google.colab import auth\n",
    "\n",
    "    auth.authenticate_user()"
   ]
  },
  {
   "cell_type": "markdown",
   "metadata": {
    "id": "DF4l8DTdWgPY"
   },
   "source": [
    "### Set Google Cloud project information and initialize Vertex AI SDK\n",
    "\n",
    "To get started using Vertex AI, you must have an existing Google Cloud project and [enable the Vertex AI API](https://console.cloud.google.com/flows/enableapi?apiid=aiplatform.googleapis.com).\n",
    "\n",
    "Learn more about [setting up a project and a development environment](https://cloud.google.com/vertex-ai/docs/start/cloud-environment)."
   ]
  },
  {
   "cell_type": "code",
   "execution_count": 2,
   "metadata": {
    "id": "Nqwi-5ufWp_B",
    "tags": []
   },
   "outputs": [],
   "source": [
    "PROJECT_ID = \"qwiklabs-gcp-00-b6c3ba072459\"  # @param {type:\"string\"}\n",
    "LOCATION = \"us-west1\"  # @param {type:\"string\"}\n",
    "\n",
    "import vertexai\n",
    "\n",
    "vertexai.init(project=PROJECT_ID, location=LOCATION)"
   ]
  },
  {
   "cell_type": "code",
   "execution_count": 21,
   "metadata": {
    "id": "QqRWdPGmW3NJ",
    "tags": []
   },
   "outputs": [
    {
     "name": "stdout",
     "output_type": "stream",
     "text": [
      "Please like share & subscribe to Techcps https://www.youtube.com/@techcps\n"
     ]
    }
   ],
   "source": [
    "# Please like share & subscribe to Techcps\n",
    "# YouTube https://www.youtube.com/@techcps\n",
    "\n",
    "print(\"Please like share & subscribe to Techcps https://www.youtube.com/@techcps\")"
   ]
  },
  {
   "cell_type": "code",
   "execution_count": 22,
   "metadata": {
    "id": "QqRWdPGmW3NJ",
    "tags": []
   },
   "outputs": [],
   "source": [
    "from vertexai.generative_models import GenerationConfig, GenerativeModel\n",
    "import time"
   ]
  },
  {
   "cell_type": "markdown",
   "metadata": {
    "id": "OnFPpCRtXRl4"
   },
   "source": [
    "### Load model"
   ]
  },
  {
   "cell_type": "code",
   "execution_count": 4,
   "metadata": {
    "id": "IQYu_9SvXQah",
    "tags": []
   },
   "outputs": [],
   "source": [
    "model = GenerativeModel(\"gemini-1.5-flash\")"
   ]
  },
  {
   "cell_type": "code",
   "execution_count": 5,
   "metadata": {
    "tags": []
   },
   "outputs": [],
   "source": [
    "import time\n",
    "\n",
    "def call_gemini(prompt, generation_config=GenerationConfig(temperature=1.0)):\n",
    "    wait_time = 1\n",
    "    while True:\n",
    "        try:\n",
    "            response = model.generate_content(prompt, generation_config=generation_config).text\n",
    "            return response\n",
    "            break  # Exit the loop if successful\n",
    "        except Exception as e:  # Replace with the actual exception type\n",
    "            time.sleep(wait_time)\n",
    "            wait_time *= 2  # Double the wait time\n",
    "\n",
    "def send_message_gemini(model, prompt):    \n",
    "    wait_time = 1\n",
    "    while True:\n",
    "        try:\n",
    "            response = model.send_message(prompt).text\n",
    "            return response\n",
    "            break  # Exit the loop if successful\n",
    "        except Exception as e:  # Replace with the actual exception type\n",
    "            time.sleep(wait_time)\n",
    "            wait_time *= 2  # Double the wait time"
   ]
  },
  {
   "cell_type": "markdown",
   "metadata": {
    "id": "cVOtUNJ5X0PY"
   },
   "source": [
    "## Prompt engineering best practices"
   ]
  },
  {
   "cell_type": "markdown",
   "metadata": {
    "id": "uv_e0fEPX60q"
   },
   "source": [
    "Prompt engineering is all about how to design your prompts so that the response is what you were indeed hoping to see.\n",
    "\n",
    "The idea of using \"unfancy\" prompts is to minimize the noise in your prompt to reduce the possibility of the LLM misinterpreting the intent of the prompt. Below are a few guidelines on how to engineer \"unfancy\" prompts.\n",
    "\n",
    "In this section, you'll cover the following best practices when engineering prompts:\n",
    "\n",
    "* Be concise\n",
    "* Be specific, and well-defined\n",
    "* Ask one task at a time\n",
    "* Improve response quality by including examples\n",
    "* Turn generative tasks to classification tasks to improve safety"
   ]
  },
  {
   "cell_type": "markdown",
   "metadata": {
    "id": "0pY4XX0OX9_Y"
   },
   "source": [
    "### Be concise"
   ]
  },
  {
   "cell_type": "markdown",
   "metadata": {
    "id": "xlRpxyxGYA1K"
   },
   "source": [
    "🛑 Not recommended. The prompt below is unnecessarily verbose."
   ]
  },
  {
   "cell_type": "code",
   "execution_count": 6,
   "metadata": {
    "id": "YKV4G-CfXdbi",
    "tags": []
   },
   "outputs": [
    {
     "name": "stdout",
     "output_type": "stream",
     "text": [
      "Here are some names for a flower shop specializing in dried flowers:\n",
      "\n",
      "**Evoking Timeless Beauty & Nostalgia:**\n",
      "\n",
      "* **The Dried Bloom**\n",
      "* **Everlasting Blooms**\n",
      "* **The Petal Archive**\n",
      "* **Whispers of Time Flowers**\n",
      "* **Forever in Bloom**\n",
      "* **The Dried Garden**\n",
      "\n",
      "**Highlighting the Uniqueness & Craft:**\n",
      "\n",
      "* **The Botanical Atelier**\n",
      "* **Pressed & Preserved**\n",
      "* **Dried & Delicate**\n",
      "* **The Bloomsmith**\n",
      "* **The Paper Petal**\n",
      "* **The Dried Flower Guild**\n",
      "\n",
      "**Playful & Modern:**\n",
      "\n",
      "* **Bloom & Branch**\n",
      "* **The Flower Bar**\n",
      "* **The Dusty Rose**\n",
      "* **Dried & Wild**\n",
      "* **Sun Kissed Flowers**\n",
      "* **Forever Floral**\n",
      "\n",
      "**Tips for Choosing a Name:**\n",
      "\n",
      "* **Keep it short and memorable.**\n",
      "* **Consider your target audience.**\n",
      "* **Make sure the name is easy to pronounce and spell.**\n",
      "* **Check to see if the name is available as a domain name and social media handle.**\n",
      "\n",
      "Ultimately, the best name for your flower shop will depend on your unique brand and style. Good luck! \n",
      "\n"
     ]
    }
   ],
   "source": [
    "prompt = \"What do you think could be a good name for a flower shop that specializes in selling bouquets of dried flowers more than fresh flowers?\"\n",
    "\n",
    "print(call_gemini(prompt))"
   ]
  },
  {
   "cell_type": "markdown",
   "metadata": {
    "id": "YrJexRHJYnmC"
   },
   "source": [
    "✅ Recommended. The prompt below is to the point and concise."
   ]
  },
  {
   "cell_type": "code",
   "execution_count": 7,
   "metadata": {
    "id": "VHetn9lCYrXB",
    "tags": []
   },
   "outputs": [
    {
     "name": "stdout",
     "output_type": "stream",
     "text": [
      "##  Dried Flower Shop Names:\n",
      "\n",
      "**Evoking Timelessness and Nostalgia:**\n",
      "\n",
      "*  Everlasting Blooms\n",
      "*  Whispers of Time\n",
      "*  The Dried Garden\n",
      "*  Bloom & Beyond\n",
      "*  Sun Kissed Petals\n",
      "*  The Paper Flower\n",
      "*  Vintage Vases\n",
      "*  Memories in Bloom\n",
      "*  The Timeless Bouquet\n",
      "\n",
      "**Modern and Minimalist:**\n",
      "\n",
      "*  Dried & Co.\n",
      "*  Bloom Lab\n",
      "*  The Botanical Bar\n",
      "*  Wild & Dried\n",
      "*  Stardust Blooms\n",
      "*  Bloom & Dust\n",
      "*  Dried Flower Studio\n",
      "*  The Bloomery\n",
      "\n",
      "**Playful and Whimsical:**\n",
      "\n",
      "*  The Flower Whisperer\n",
      "*  Poppy & Sage\n",
      "*  The Petal Post\n",
      "*  Blooming Memories\n",
      "*  The Flower Alchemist\n",
      "*  Dried & Delightful\n",
      "*  Petal & Twig\n",
      "*  The Boho Bouquet\n",
      "\n",
      "**Location Specific:**\n",
      "\n",
      "*  [Your City] Dried Flowers\n",
      "*  The [Your Neighborhood] Bloom\n",
      "*  [Your Street Name] Floral\n",
      "\n",
      "**Tips for Choosing a Name:**\n",
      "\n",
      "* Consider your target audience.\n",
      "* Make it memorable and easy to pronounce.\n",
      "* Check for availability on social media and domain names.\n",
      "* Consider the overall aesthetic of your shop.\n",
      "\n",
      "**Bonus:**\n",
      "\n",
      "* **Use alliteration:**  \"Bloom & Bloom\" or \"Petal & Petal\"\n",
      "* **Incorporate a unique feature:**  \"The Dried Flower Bar\" or \"The Vintage Bouquet\"\n",
      "* **Use a play on words:**  \"Forever Bloom\" or \"Dried & Thriving\"\n",
      "\n"
     ]
    }
   ],
   "source": [
    "prompt = \"Suggest a name for a flower shop that sells bouquets of dried flowers\"\n",
    "\n",
    "print(call_gemini(prompt))"
   ]
  },
  {
   "cell_type": "markdown",
   "metadata": {
    "id": "eXTAvdOHY0OC"
   },
   "source": [
    "### Be specific, and well-defined"
   ]
  },
  {
   "cell_type": "markdown",
   "metadata": {
    "id": "FTH4GEIgY1dp"
   },
   "source": [
    "Suppose that you want to brainstorm creative ways to describe Earth."
   ]
  },
  {
   "cell_type": "markdown",
   "metadata": {
    "id": "o5BmXBiGY4KC"
   },
   "source": [
    "🛑 The prompt below might be a bit too generic (which is certainly OK if you'd like to ask a generic question!)"
   ]
  },
  {
   "cell_type": "code",
   "execution_count": 8,
   "metadata": {
    "id": "eHBaMvv7Y6mR",
    "tags": []
   },
   "outputs": [
    {
     "name": "stdout",
     "output_type": "stream",
     "text": [
      "## Earth: Our Home Planet\n",
      "\n",
      "Earth is the third planet from the Sun, a vibrant and complex world teeming with life. Here's a glimpse of what makes it special:\n",
      "\n",
      "**Key Facts:**\n",
      "\n",
      "* **Diameter:** 12,742 km (7,926 mi)\n",
      "* **Distance from Sun:** 149.6 million km (93 million mi)\n",
      "* **Orbital Period:** 365.25 days\n",
      "* **Rotation Period:** 23.93 hours\n",
      "* **Moons:** 1 (Luna)\n",
      "* **Surface Composition:** 71% water, 29% land\n",
      "* **Atmosphere:** Primarily nitrogen and oxygen\n",
      "\n",
      "**What Makes Earth Unique:**\n",
      "\n",
      "* **Liquid Water:**  The presence of vast amounts of liquid water is crucial for life as we know it. It acts as a solvent, transports nutrients, and helps regulate temperature.\n",
      "* **Plate Tectonics:** Earth's constantly shifting tectonic plates shape its surface, creating mountains, volcanoes, and earthquakes. This dynamic process also plays a role in the carbon cycle.\n",
      "* **Magnetic Field:** Earth's magnetic field acts like a shield, protecting us from harmful solar radiation.\n",
      "* **A Diverse Ecosystem:** Earth supports a wide variety of life, from microscopic bacteria to giant whales, with intricate ecological relationships.\n",
      "* **Atmospheric Conditions:** The right balance of gases in our atmosphere allows for the greenhouse effect, which keeps Earth warm enough to sustain life.\n",
      "\n",
      "**Challenges and Threats:**\n",
      "\n",
      "* **Climate Change:** Human activities are altering Earth's climate, leading to rising temperatures, extreme weather events, and sea-level rise.\n",
      "* **Pollution:** Air, water, and land pollution threaten human health and biodiversity.\n",
      "* **Resource Depletion:** Overconsumption of natural resources like water, minerals, and fossil fuels puts pressure on the planet's carrying capacity.\n",
      "\n",
      "**Our Responsibility:**\n",
      "\n",
      "Understanding Earth's unique characteristics and facing its challenges requires a sense of responsibility towards our planet. By reducing our environmental impact, promoting sustainable practices, and working together, we can ensure a healthy and habitable Earth for future generations.\n",
      "\n",
      "**Beyond the Basics:**\n",
      "\n",
      "* Earth's history spans billions of years, with a rich and diverse geological past.\n",
      "* Our planet's complex climate system is constantly changing, influenced by natural and human factors.\n",
      "* Exploring space allows us to understand Earth better, providing insights into its formation, evolution, and potential future. \n",
      "\n",
      "This is just a brief overview of Earth. The more you learn about our home planet, the more you'll appreciate its beauty, complexity, and fragility. \n",
      "\n"
     ]
    }
   ],
   "source": [
    "prompt = \"Tell me about Earth\"\n",
    "\n",
    "print(call_gemini(prompt))"
   ]
  },
  {
   "cell_type": "markdown",
   "metadata": {
    "id": "4iyvEbteZnFL"
   },
   "source": [
    "✅ Recommended. The prompt below is specific and well-defined."
   ]
  },
  {
   "cell_type": "code",
   "execution_count": 9,
   "metadata": {
    "id": "JQ80z8urZnne",
    "tags": []
   },
   "outputs": [
    {
     "name": "stdout",
     "output_type": "stream",
     "text": [
      "## What Makes Earth Unique:\n",
      "\n",
      "**1. Abundant Liquid Water:** Earth is the only known planet with vast oceans of liquid water on its surface. This liquid water is essential for life as we know it.\n",
      "\n",
      "**2. Plate Tectonics:** Earth's surface is divided into tectonic plates that constantly move and interact, leading to volcanic activity, mountain formation, and the recycling of Earth's crust. This dynamic process is crucial for maintaining a habitable environment.\n",
      "\n",
      "**3. Strong Magnetic Field:** Earth's magnetic field protects the planet from harmful solar radiation, creating a safe haven for life.\n",
      "\n",
      "**4. Stable Climate:** Despite natural fluctuations, Earth has experienced a relatively stable climate over long periods, allowing for the evolution of complex life forms.\n",
      "\n",
      "**5. Diverse Atmosphere:** Earth's atmosphere, composed mainly of nitrogen and oxygen, is unique in its composition and plays a crucial role in regulating temperature, weather, and climate.\n",
      "\n",
      "**6. Life:** Earth is the only known planet in the universe that harbors life, with an incredible diversity of species ranging from microscopic organisms to large mammals.\n",
      "\n",
      "**7. Moderate Distance from the Sun:** Earth's orbit is within the habitable zone, where temperatures are suitable for liquid water to exist on the surface.\n",
      "\n",
      "**8. Moons and Rings:** While other planets have moons, Earth has a single large moon that stabilizes its rotation and provides a source of tidal forces, influencing its environment.\n",
      "\n",
      "**9. Seasonal Cycles:** Earth's tilted axis and orbit around the Sun create distinct seasons, influencing weather patterns and life cycles.\n",
      "\n",
      "**10. Geological Diversity:** Earth boasts a wide range of geological features, including mountains, valleys, deserts, and forests, providing a rich and varied habitat for life.\n",
      "\n",
      "**11. Active Geological Processes:** Earth's interior remains geologically active, with volcanoes, earthquakes, and plate movement shaping the planet's landscape.\n",
      "\n",
      "**12. Biosphere:** Earth's interconnected network of living organisms, including plants, animals, and microorganisms, forms a complex and dynamic biosphere that influences and is influenced by the environment.\n",
      "\n",
      "**13. Atmosphere Chemistry:** The composition of Earth's atmosphere, including the presence of ozone layer, is unique and critical for protecting life from harmful radiation.\n",
      "\n",
      "**14. Presence of Biomolecules:** Earth is the only known planet where complex organic molecules essential for life are found in abundance.\n",
      "\n",
      "These features collectively contribute to Earth's unique status as a habitable planet teeming with life. While scientists continue to explore other planets, Earth remains a remarkable testament to the complexity and wonder of the universe. \n",
      "\n"
     ]
    }
   ],
   "source": [
    "prompt = \"Generate a list of ways that makes Earth unique compared to other planets\"\n",
    "\n",
    "print(call_gemini(prompt))"
   ]
  },
  {
   "cell_type": "markdown",
   "metadata": {
    "id": "R5kmfZYHZsJ7"
   },
   "source": [
    "### Ask one task at a time"
   ]
  },
  {
   "cell_type": "markdown",
   "metadata": {
    "id": "rsAezxeYZuUN"
   },
   "source": [
    "🛑 Not recommended. The prompt below has two parts to the question that could be asked separately."
   ]
  },
  {
   "cell_type": "code",
   "execution_count": 10,
   "metadata": {
    "id": "ElywPXpuZtWf",
    "tags": []
   },
   "outputs": [
    {
     "name": "stdout",
     "output_type": "stream",
     "text": [
      "Here's a breakdown of boiling water and the blue sky:\n",
      "\n",
      "**Boiling Water**\n",
      "\n",
      "* **The Best Method:** The most efficient and common method for boiling water is using a **stovetop kettle or pot**. Here's why:\n",
      "    * **Speed:** Kettles are designed for rapid heating, with a wide base and a narrow opening to minimize heat loss.\n",
      "    * **Safety:** Kettles have automatic shut-off mechanisms and a handle that stays cool, preventing burns.\n",
      "    * **Efficiency:** You use less energy compared to boiling water in a large pot.\n",
      "\n",
      "**Why the Sky is Blue**\n",
      "\n",
      "* **Rayleigh Scattering:**  The blue color of the sky is due to a phenomenon called Rayleigh scattering. This occurs when sunlight enters the Earth's atmosphere and interacts with the tiny particles of air (nitrogen and oxygen molecules).\n",
      "* **Wavelengths:**  Sunlight is made up of all the colors of the rainbow.  Blue light has a shorter wavelength than other colors (like red).  Shorter wavelengths are scattered more effectively by the small air molecules.\n",
      "* **Scattered Everywhere:** The blue light gets scattered in all directions, causing the sky to appear blue. \n",
      "* **Sunset and Sunrise:**  When the sun is low on the horizon, sunlight travels through more of the atmosphere. The blue light has already been scattered away, leaving the longer wavelengths (red and orange) to reach our eyes, resulting in red and orange sunsets and sunrises.\n",
      "\n",
      "Let me know if you have any other questions! \n",
      "\n"
     ]
    }
   ],
   "source": [
    "prompt = \"What's the best method of boiling water and why is the sky blue?\"\n",
    "\n",
    "print(call_gemini(prompt))"
   ]
  },
  {
   "cell_type": "markdown",
   "metadata": {
    "id": "ejzahazBZ8vk"
   },
   "source": [
    "✅ Recommended. The prompts below asks one task a time."
   ]
  },
  {
   "cell_type": "code",
   "execution_count": 11,
   "metadata": {
    "id": "C5ckp2F0Z_Ba",
    "tags": []
   },
   "outputs": [
    {
     "name": "stdout",
     "output_type": "stream",
     "text": [
      "There's no single \"best\" method for boiling water, as it depends on your needs and what you're using it for. Here's a breakdown to help you choose:\n",
      "\n",
      "**For speed and efficiency:**\n",
      "\n",
      "* **Electric kettle:**  The fastest and most efficient way to boil water. They're designed specifically for this purpose and heat water quickly. \n",
      "* **Microwave (in a microwave-safe container):**  Fast, but can be uneven heating, and not ideal for large quantities.\n",
      "\n",
      "**For flexibility and control:**\n",
      "\n",
      "* **Stovetop (in a saucepan):**  Allows you to control the heat and see the water boiling. Good for larger quantities and multiple uses.\n",
      "\n",
      "**Other considerations:**\n",
      "\n",
      "* **Quantity:** For small amounts, a kettle or microwave is ideal. For larger quantities, a stovetop is better.\n",
      "* **Type of water:** Hard water (high mineral content) may take longer to boil.\n",
      "* **Energy efficiency:** Electric kettles are generally the most energy efficient. \n",
      "\n",
      "**Here's a summary table:**\n",
      "\n",
      "| Method | Pros | Cons | Best for |\n",
      "|---|---|---|---|\n",
      "| Electric Kettle | Fast, efficient, easy to use | Limited capacity, can be noisy | Small quantities, quick boiling |\n",
      "| Microwave | Fast, convenient | Uneven heating, limited quantity | Small quantities, quick heating |\n",
      "| Stovetop | Control over heat, can boil large quantities | Slower, requires attention | Large quantities, controlled boiling |\n",
      "\n",
      "Ultimately, the \"best\" method is the one that meets your specific needs and preferences. \n",
      "\n"
     ]
    }
   ],
   "source": [
    "prompt = \"What's the best method of boiling water?\"\n",
    "\n",
    "print(call_gemini(prompt))"
   ]
  },
  {
   "cell_type": "code",
   "execution_count": 12,
   "metadata": {
    "id": "KwUzhud4aA89",
    "tags": []
   },
   "outputs": [
    {
     "name": "stdout",
     "output_type": "stream",
     "text": [
      "The sky appears blue due to a phenomenon called **Rayleigh scattering**. Here's how it works:\n",
      "\n",
      "1. **Sunlight:** Sunlight is made up of all the colors of the rainbow, but our eyes perceive it as white.\n",
      "2. **Atmosphere:** The Earth's atmosphere is composed of tiny particles, mostly nitrogen and oxygen molecules.\n",
      "3. **Scattering:** When sunlight enters the atmosphere, these tiny particles scatter the light in all directions.\n",
      "4. **Wavelengths:** Shorter wavelengths of light, like blue and violet, are scattered more effectively than longer wavelengths, like red and orange.\n",
      "5. **Blue Dominates:**  Since blue and violet are scattered more, we see a blue sky because the blue light reaches our eyes from all directions. \n",
      "\n",
      "**A few other things to note:**\n",
      "\n",
      "* **Violet is scattered even more than blue,** but our eyes are less sensitive to violet.\n",
      "* **At sunrise and sunset,** the sunlight travels through a longer path in the atmosphere, and more blue light is scattered away. This is why the sky appears red or orange at these times.\n",
      "* **Clouds appear white** because they are made up of larger water droplets that scatter all wavelengths of light equally.\n",
      "\n",
      "So, the next time you look up at a clear blue sky, remember that you're seeing the result of sunlight scattering off the tiny particles in our atmosphere! \n",
      "\n"
     ]
    }
   ],
   "source": [
    "prompt = \"Why is the sky blue?\"\n",
    "\n",
    "print(call_gemini(prompt))"
   ]
  },
  {
   "cell_type": "markdown",
   "metadata": {
    "id": "PJIL2RTQaGcT"
   },
   "source": [
    "### Watch out for hallucinations"
   ]
  },
  {
   "cell_type": "markdown",
   "metadata": {
    "id": "8Y8kYxrSaHE9"
   },
   "source": [
    "Although LLMs have been trained on a large amount of data, they can generate text containing statements not grounded in truth or reality; these responses from the LLM are often referred to as \"hallucinations\" due to their limited memorization capabilities. Note that simply prompting the LLM to provide a citation isn't a fix to this problem, as there are instances of LLMs providing false or inaccurate citations. Dealing with hallucinations is a fundamental challenge of LLMs and an ongoing research area, so it is important to be cognizant that LLMs may seem to give you confident, correct-sounding statements that are in fact incorrect.\n",
    "\n",
    "Note that if you intend to use LLMs for the creative use cases, hallucinating could actually be quite useful."
   ]
  },
  {
   "cell_type": "markdown",
   "metadata": {
    "id": "8NY5nAGeaJYS"
   },
   "source": [
    "Try the prompt like the one below repeatedly. We set the temperature to 1.0 so that it takes more risks in its choices. It's possible that it may provide an inaccurate, but confident answer."
   ]
  },
  {
   "cell_type": "code",
   "execution_count": 13,
   "metadata": {
    "id": "QALPjEILaM62",
    "tags": []
   },
   "outputs": [
    {
     "name": "stdout",
     "output_type": "stream",
     "text": [
      "I do not have access to real-time information, including the current date. To find out what day it is, you can check a calendar or ask a voice assistant like Siri or Alexa. \n",
      "\n"
     ]
    }
   ],
   "source": [
    "generation_config = GenerationConfig(temperature=1.0)\n",
    "\n",
    "prompt = \"What day is it today?\"\n",
    "\n",
    "print(call_gemini(prompt, generation_config))"
   ]
  },
  {
   "cell_type": "markdown",
   "metadata": {
    "id": "BRkwzbgRbhKt"
   },
   "source": [
    "Since LLMs do not have access to real-time information without further integrations, you may have noticed it hallucinates what day it is today in some of the outputs."
   ]
  },
  {
   "cell_type": "markdown",
   "metadata": {
    "id": "3c811e310d02"
   },
   "source": [
    "### Using system instructions to guardrail the model from irrelevant responses\n",
    "\n",
    "How can we attempt to reduce the chances of irrelevant responses and hallucinations?\n",
    "\n",
    "One way is to provide the LLM with [system instructions](https://cloud.google.com/vertex-ai/generative-ai/docs/multimodal/send-chat-prompts-gemini#system-instructions).\n",
    "\n",
    "Let's see how system instructions works and how you can use them to reduce hallucinations or irrelevant questions for a travel chatbot.\n",
    "\n",
    "Suppose we ask a simple question about one of Italy's most famous tourist spots."
   ]
  },
  {
   "cell_type": "code",
   "execution_count": 14,
   "metadata": {
    "id": "rB6zJU76biFK",
    "tags": []
   },
   "outputs": [
    {
     "name": "stdout",
     "output_type": "stream",
     "text": [
      "Milan is a city with a rich history and culture, offering a wide range of sightseeing options. Some of the most popular attractions include:\n",
      "\n",
      "* **Duomo di Milano:** The iconic cathedral is a must-see for any visitor to Milan. Its intricate facade and soaring spires are truly awe-inspiring.\n",
      "* **Sforza Castle:** This 14th-century castle houses several museums, including the Pinacoteca, which displays works by Leonardo da Vinci.\n",
      "* **Galleria Vittorio Emanuele II:** This elegant shopping arcade is a masterpiece of architecture and a great place to admire the city's luxury boutiques.\n",
      "* **Teatro alla Scala:** One of the most famous opera houses in the world, Teatro alla Scala hosts world-class performances throughout the year.\n",
      "* **Leonardo da Vinci's Last Supper:** This iconic masterpiece can be seen at the Santa Maria delle Grazie church. Be sure to book your tickets in advance, as they sell out quickly.\n",
      "\n",
      "These are just a few of the many sightseeing attractions that Milan has to offer. Depending on your interests, you can find countless other museums, churches, and gardens to explore. \n",
      "\n"
     ]
    }
   ],
   "source": [
    "model_travel = GenerativeModel(\n",
    "    model_name=\"gemini-1.5-flash\",\n",
    "    system_instruction=[\n",
    "        \"Hello! You are an AI chatbot for a travel web site.\",\n",
    "        \"Your mission is to provide helpful queries for travelers.\",\n",
    "        \"Remember that before you answer a question, you must check to see if it complies with your mission.\",\n",
    "        \"If not, you can say, Sorry I can't answer that question.\",\n",
    "    ],\n",
    ")\n",
    "\n",
    "chat = model_travel.start_chat()\n",
    "\n",
    "prompt = \"What is the best place for sightseeing in Milan, Italy?\"\n",
    "\n",
    "print(send_message_gemini(chat, prompt))"
   ]
  },
  {
   "cell_type": "markdown",
   "metadata": {
    "id": "WZa-Qcf9cF4A"
   },
   "source": [
    "Now let us pretend to be a user asks the chatbot a question that is unrelated to travel."
   ]
  },
  {
   "cell_type": "code",
   "execution_count": 15,
   "metadata": {
    "id": "AZKBIDr2cGnu",
    "tags": []
   },
   "outputs": [
    {
     "name": "stdout",
     "output_type": "stream",
     "text": [
      "Sorry, I can't answer that question. I am designed to provide travel information, not personal recommendations. \n",
      "\n"
     ]
    }
   ],
   "source": [
    "prompt = \"What's for dinner?\"\n",
    "\n",
    "print(send_message_gemini(chat, prompt))"
   ]
  },
  {
   "cell_type": "markdown",
   "metadata": {
    "id": "JiUYIhwpctCy"
   },
   "source": [
    "You can see that this way, a guardrail in the prompt prevented the chatbot from veering off course."
   ]
  },
  {
   "cell_type": "markdown",
   "metadata": {
    "id": "ZuuDhA37cvmP"
   },
   "source": [
    "### Turn generative tasks into classification tasks to reduce output variability"
   ]
  },
  {
   "cell_type": "markdown",
   "metadata": {
    "id": "kUCUrsUzczmb"
   },
   "source": [
    "#### Generative tasks lead to higher output variability"
   ]
  },
  {
   "cell_type": "markdown",
   "metadata": {
    "id": "a1xASHAkc46n"
   },
   "source": [
    "The prompt below results in an open-ended response, useful for brainstorming, but response is highly variable."
   ]
  },
  {
   "cell_type": "code",
   "execution_count": 16,
   "metadata": {
    "id": "nPfXQWIacwRf",
    "tags": []
   },
   "outputs": [
    {
     "name": "stdout",
     "output_type": "stream",
     "text": [
      "It's great that you're looking to improve your programming skills! Here are some programming activities tailored for high school students, catering to different interests and skill levels:\n",
      "\n",
      "**Beginner Activities (Getting Started)**\n",
      "\n",
      "* **Learn a New Language:** Choose a language like Python, JavaScript, or Scratch. There are tons of free resources like Codecademy, Khan Academy, and W3Schools.\n",
      "* **Build a Simple Game:**  Try creating a text-based adventure game, a simple number guessing game, or a basic arcade game. This will help you grasp fundamental concepts like variables, loops, and conditional statements.\n",
      "* **Solve Coding Challenges:** Platforms like Codewars, HackerRank, and LeetCode offer bite-sized coding challenges perfect for beginners.\n",
      "\n",
      "**Intermediate Activities (Stepping Up)**\n",
      "\n",
      "* **Contribute to Open Source:** Find a project on GitHub that interests you and contribute by fixing bugs, adding features, or writing documentation. This gives you practical experience working with others.\n",
      "* **Create a Personal Project:**  Think about a real-world problem you want to solve or a tool you'd find useful. Building a website, a mobile app, or a data analysis tool can be rewarding and teaches you valuable skills.\n",
      "* **Develop a Website:** Learn about HTML, CSS, and JavaScript to build a website for your personal blog, portfolio, or even a small online store.\n",
      "* **Explore Data Science:** Use Python libraries like Pandas and NumPy to analyze datasets, visualize information, and potentially build predictive models. \n",
      "\n",
      "**Advanced Activities (Expanding Horizons)**\n",
      "\n",
      "* **Build a Bot:** Learn about APIs and create a bot that interacts with a platform like Slack, Discord, or Twitter. This will teach you about networking and communication protocols.\n",
      "* **Develop a Machine Learning Model:** Learn about machine learning algorithms and use libraries like TensorFlow or PyTorch to build models for image recognition, sentiment analysis, or prediction tasks.\n",
      "* **Participate in Hackathons:** Join coding competitions where you work with others to build innovative projects in a limited time. This is a great way to learn teamwork and problem-solving skills.\n",
      "\n",
      "**Tips for Success**\n",
      "\n",
      "* **Start with a Project You're Passionate About:** Choose something that excites you, as this will make learning more enjoyable and motivating.\n",
      "* **Don't Be Afraid to Ask for Help:** Seek guidance from teachers, mentors, or online communities. There are tons of resources available to support you.\n",
      "* **Practice Regularly:**  Consistency is key! Try to code for at least 30 minutes each day to solidify your understanding.\n",
      "* **Experiment and Explore:**  Don't be afraid to try new things, experiment with different tools, and explore diverse programming areas.\n",
      "\n",
      "Remember, the best programming activity for you depends on your individual interests and goals. Choose something that challenges you and motivates you to learn and grow! Good luck! \n",
      "\n"
     ]
    }
   ],
   "source": [
    "prompt = \"I'm a high school student. Recommend me a programming activity to improve my skills.\"\n",
    "\n",
    "print(call_gemini(prompt))"
   ]
  },
  {
   "cell_type": "markdown",
   "metadata": {
    "id": "iAmm9wPYc_1o"
   },
   "source": [
    "#### Classification tasks reduces output variability"
   ]
  },
  {
   "cell_type": "markdown",
   "metadata": {
    "id": "VvRpK_0GdCpf"
   },
   "source": [
    "The prompt below results in a choice and may be useful if you want the output to be easier to control."
   ]
  },
  {
   "cell_type": "code",
   "execution_count": 17,
   "metadata": {
    "id": "kYDKh0r2dAqo",
    "tags": []
   },
   "outputs": [
    {
     "name": "stdout",
     "output_type": "stream",
     "text": [
      "As a high school student, learning a programming language can be a great way to develop valuable skills. It's hard to say definitively which language is \"best\" for you without knowing your specific interests and goals. However, here's a breakdown to help you decide:\n",
      "\n",
      "**a) Learn Python:**\n",
      "\n",
      "* **Pros:** \n",
      "    * **Beginner-friendly:** Python is known for its readable syntax, making it easy to learn, even for beginners.\n",
      "    * **Widely applicable:** Python is used in various fields, including data science, web development, machine learning, and scripting. \n",
      "    * **Large community:**  Python has a large and active community, meaning plenty of resources, libraries, and support are available.\n",
      "* **Cons:**\n",
      "    * **Performance:** Python can be slower than some other languages for computationally intensive tasks.\n",
      "    * **Not ideal for web front-end:** While Python is used for backend web development, it's not primarily used for front-end development (the part users interact with).\n",
      "\n",
      "**b) Learn JavaScript:**\n",
      "\n",
      "* **Pros:**\n",
      "    * **Web development:** JavaScript is essential for web development, particularly for creating interactive and dynamic elements.\n",
      "    * **Growing demand:** JavaScript is a highly sought-after skill in the job market.\n",
      "    * **Versatile:** JavaScript is used not only for web development but also for mobile apps and server-side development.\n",
      "* **Cons:**\n",
      "    * **Can be complex:** JavaScript can be challenging to learn, especially for beginners. \n",
      "    * **Not as versatile as Python:** While JavaScript is used in various areas, it's not as broadly applicable as Python.\n",
      "\n",
      "**c) Learn Fortran:**\n",
      "\n",
      "* **Pros:**\n",
      "    * **Scientific computing:** Fortran is widely used in scientific computing, especially for high-performance computing and numerical simulations.\n",
      "    * **Legacy code:** Many scientific and engineering applications are written in Fortran.\n",
      "* **Cons:**\n",
      "    * **Limited applications:** Fortran's use is primarily limited to scientific computing and engineering fields.\n",
      "    * **Not widely used:** Fortran is not as popular or in-demand as Python or JavaScript.\n",
      "    * **Old syntax:** Fortran has an older syntax that can be harder to learn than newer languages.\n",
      "\n",
      "**Recommendations:**\n",
      "\n",
      "* **If you're interested in web development, data science, or machine learning:** Python is a great choice for its ease of learning and wide applications.\n",
      "* **If you're interested in front-end web development:** JavaScript is the go-to language.\n",
      "* **If you're interested in scientific computing and engineering:** Fortran is a good option if you plan to work in those fields.\n",
      "\n",
      "**Consider your interests and goals:** If you're unsure, you can also explore other popular programming languages like C++, Java, or Swift. Remember, learning any programming language will teach you valuable problem-solving skills and logical thinking.\n"
     ]
    }
   ],
   "source": [
    "prompt = \"\"\"I'm a high school student. Which of these activities do you suggest and why:\n",
    "a) learn Python\n",
    "b) learn JavaScript\n",
    "c) learn Fortran\n",
    "\"\"\"\n",
    "\n",
    "print(call_gemini(prompt))"
   ]
  },
  {
   "cell_type": "markdown",
   "metadata": {
    "id": "iTd60b1GdIsx"
   },
   "source": [
    "### Improve response quality by including examples"
   ]
  },
  {
   "cell_type": "markdown",
   "metadata": {
    "id": "yJi44NejdJYE"
   },
   "source": [
    "Another way to improve response quality is to add examples in your prompt. The LLM learns in-context from the examples on how to respond. Typically, one to five examples (shots) are enough to improve the quality of responses. Including too many examples can cause the model to over-fit the data and reduce the quality of responses.\n",
    "\n",
    "Similar to classical model training, the quality and distribution of the examples is very important. Pick examples that are representative of the scenarios that you need the model to learn, and keep the distribution of the examples (e.g. number of examples per class in the case of classification) aligned with your actual distribution."
   ]
  },
  {
   "cell_type": "markdown",
   "metadata": {
    "id": "sMbLginWdOKs"
   },
   "source": [
    "#### Zero-shot prompt"
   ]
  },
  {
   "cell_type": "markdown",
   "metadata": {
    "id": "Crh2Loi2dQ0v"
   },
   "source": [
    "Below is an example of zero-shot prompting, where you don't provide any examples to the LLM within the prompt itself."
   ]
  },
  {
   "cell_type": "code",
   "execution_count": 18,
   "metadata": {
    "id": "-7myRc-SdTQ4",
    "tags": []
   },
   "outputs": [
    {
     "name": "stdout",
     "output_type": "stream",
     "text": [
      "Sentiment: **Positive** \n",
      "\n"
     ]
    }
   ],
   "source": [
    "prompt = \"\"\"Decide whether a Tweet's sentiment is positive, neutral, or negative.\n",
    "\n",
    "Tweet: I loved the new YouTube video you made!\n",
    "Sentiment:\n",
    "\"\"\"\n",
    "\n",
    "print(call_gemini(prompt))"
   ]
  },
  {
   "cell_type": "markdown",
   "metadata": {
    "id": "ucRtPn9SdL64"
   },
   "source": [
    "#### One-shot prompt"
   ]
  },
  {
   "cell_type": "markdown",
   "metadata": {
    "id": "rs0gQH2vdYBi"
   },
   "source": [
    "Below is an example of one-shot prompting, where you provide one example to the LLM within the prompt to give some guidance on what type of response you want."
   ]
  },
  {
   "cell_type": "code",
   "execution_count": 19,
   "metadata": {
    "id": "iEq-KxGYdaT5",
    "tags": []
   },
   "outputs": [
    {
     "name": "stdout",
     "output_type": "stream",
     "text": [
      "Sentiment: **negative** \n",
      "\n"
     ]
    }
   ],
   "source": [
    "prompt = \"\"\"Decide whether a Tweet's sentiment is positive, neutral, or negative.\n",
    "\n",
    "Tweet: I loved the new YouTube video you made!\n",
    "Sentiment: positive\n",
    "\n",
    "Tweet: That was awful. Super boring 😠\n",
    "Sentiment:\n",
    "\"\"\"\n",
    "\n",
    "print(call_gemini(prompt))"
   ]
  },
  {
   "cell_type": "markdown",
   "metadata": {
    "id": "JnKLjJzmdfL_"
   },
   "source": [
    "#### Few-shot prompt"
   ]
  },
  {
   "cell_type": "markdown",
   "metadata": {
    "id": "6Zv-9F5OdgI_"
   },
   "source": [
    "Below is an example of few-shot prompting, where you provide a few examples to the LLM within the prompt to give some guidance on what type of response you want."
   ]
  },
  {
   "cell_type": "code",
   "execution_count": 20,
   "metadata": {
    "id": "u37P9tG4dk9S",
    "tags": []
   },
   "outputs": [
    {
     "name": "stdout",
     "output_type": "stream",
     "text": [
      "Sentiment: **positive** \n",
      "\n",
      "Here's why:\n",
      "\n",
      "* **\"Something surprised me\"** implies a positive experience.\n",
      "* **\"It was actually original\"**  is a clear compliment.\n",
      "* **\"It was not the same old recycled stuff\"** further highlights the positive aspect of originality.\n",
      "* **\"Watch it - you will not regret it\"** strongly encourages others to enjoy the video, indicating a positive overall sentiment. \n",
      "\n"
     ]
    }
   ],
   "source": [
    "prompt = \"\"\"Decide whether a Tweet's sentiment is positive, neutral, or negative.\n",
    "\n",
    "Tweet: I loved the new YouTube video you made!\n",
    "Sentiment: positive\n",
    "\n",
    "Tweet: That was awful. Super boring 😠\n",
    "Sentiment: negative\n",
    "\n",
    "Tweet: Something surprised me about this video - it was actually original. It was not the same old recycled stuff that I always see. Watch it - you will not regret it.\n",
    "Sentiment:\n",
    "\"\"\"\n",
    "\n",
    "print(call_gemini(prompt))"
   ]
  },
  {
   "cell_type": "markdown",
   "metadata": {
    "id": "wDMD3xb2dvX6"
   },
   "source": [
    "#### Choosing between zero-shot, one-shot, few-shot prompting methods"
   ]
  },
  {
   "cell_type": "markdown",
   "metadata": {
    "id": "s92W0YpNdxJp"
   },
   "source": [
    "Which prompt technique to use will solely depends on your goal. The zero-shot prompts are more open-ended and can give you creative answers, while one-shot and few-shot prompts teach the model how to behave so you can get more predictable answers that are consistent with the examples provided."
   ]
  },
  {
   "cell_type": "code",
   "execution_count": null,
   "metadata": {},
   "outputs": [],
   "source": []
  }
 ],
 "metadata": {
  "colab": {
   "name": "intro_prompt_design.ipynb",
   "toc_visible": true
  },
  "environment": {
   "kernel": "conda-base-py",
   "name": "workbench-notebooks.m125",
   "type": "gcloud",
   "uri": "us-docker.pkg.dev/deeplearning-platform-release/gcr.io/workbench-notebooks:m125"
  },
  "kernelspec": {
   "display_name": "Python 3 (ipykernel) (Local)",
   "language": "python",
   "name": "conda-base-py"
  },
  "language_info": {
   "codemirror_mode": {
    "name": "ipython",
    "version": 3
   },
   "file_extension": ".py",
   "mimetype": "text/x-python",
   "name": "python",
   "nbconvert_exporter": "python",
   "pygments_lexer": "ipython3",
   "version": "3.10.15"
  }
 },
 "nbformat": 4,
 "nbformat_minor": 4
}
