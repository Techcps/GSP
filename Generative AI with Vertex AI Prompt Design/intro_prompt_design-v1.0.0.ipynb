{
 "cells": [
  {
   "cell_type": "code",
   "execution_count": 1,
   "metadata": {
    "id": "ur8xi4C7S06n",
    "tags": []
   },
   "outputs": [],
   "source": [
    "# Copyright 2024 Google LLC\n",
    "#\n",
    "# Licensed under the Apache License, Version 2.0 (the \"License\");\n",
    "# you may not use this file except in compliance with the License.\n",
    "# You may obtain a copy of the License at\n",
    "#\n",
    "#     https://www.apache.org/licenses/LICENSE-2.0\n",
    "#\n",
    "# Unless required by applicable law or agreed to in writing, software\n",
    "# distributed under the License is distributed on an \"AS IS\" BASIS,\n",
    "# WITHOUT WARRANTIES OR CONDITIONS OF ANY KIND, either express or implied.\n",
    "# See the License for the specific language governing permissions and\n",
    "# limitations under the License."
   ]
  },
  {
   "cell_type": "markdown",
   "metadata": {
    "id": "JAPoU8Sm5E6e"
   },
   "source": [
    "# Prompt Design - Best Practices\n",
    "\n",
    "<table align=\"left\">\n",
    "  <td style=\"text-align: center\">\n",
    "    <a href=\"https://colab.research.google.com/github/GoogleCloudPlatform/generative-ai/blob/main/gemini/prompts/intro_prompt_design.ipynb\">\n",
    "      <img src=\"https://cloud.google.com/ml-engine/images/colab-logo-32px.png\" alt=\"Google Colaboratory logo\"><br> Open in Colab\n",
    "    </a>\n",
    "  </td>\n",
    "  <td style=\"text-align: center\">\n",
    "    <a href=\"https://console.cloud.google.com/vertex-ai/colab/import/https:%2F%2Fraw.githubusercontent.com%2FGoogleCloudPlatform%2Fgenerative-ai%2Fmain%2Fgemini%2Fprompts%2Fintro_prompt_design.ipynb\">\n",
    "      <img width=\"32px\" src=\"https://lh3.googleusercontent.com/JmcxdQi-qOpctIvWKgPtrzZdJJK-J3sWE1RsfjZNwshCFgE_9fULcNpuXYTilIR2hjwN\" alt=\"Google Cloud Colab Enterprise logo\"><br> Open in Colab Enterprise\n",
    "    </a>\n",
    "  </td>    \n",
    "  <td style=\"text-align: center\">\n",
    "    <a href=\"https://console.cloud.google.com/vertex-ai/workbench/deploy-notebook?download_url=https://raw.githubusercontent.com/GoogleCloudPlatform/generative-ai/main/gemini/prompts/intro_prompt_design.ipynb\">\n",
    "      <img src=\"https://lh3.googleusercontent.com/UiNooY4LUgW_oTvpsNhPpQzsstV5W8F7rYgxgGBD85cWJoLmrOzhVs_ksK_vgx40SHs7jCqkTkCk=e14-rj-sc0xffffff-h130-w32\" alt=\"Vertex AI logo\"><br> Open in Workbench\n",
    "    </a>\n",
    "  </td>\n",
    "  <td style=\"text-align: center\">\n",
    "    <a href=\"https://github.com/GoogleCloudPlatform/generative-ai/blob/main/gemini/prompts/intro_prompt_design.ipynb\">\n",
    "      <img src=\"https://cloud.google.com/ml-engine/images/github-logo-32px.png\" alt=\"GitHub logo\"><br> View on GitHub\n",
    "    </a>\n",
    "  </td>\n",
    "</table>"
   ]
  },
  {
   "cell_type": "markdown",
   "metadata": {
    "id": "84f0f73a0f76"
   },
   "source": [
    "| | | |\n",
    "|-|-|-|\n",
    "|Author(s) | [Polong Lin](https://github.com/polong-lin) | [Karl Weinmeister](https://github.com/kweinmeister)|"
   ]
  },
  {
   "cell_type": "markdown",
   "metadata": {
    "id": "tvgnzT1CKxrO"
   },
   "source": [
    "## Overview\n",
    "\n",
    "This notebook covers the essentials of prompt engineering, including some best practices.\n",
    "\n",
    "Learn more about prompt design in the [official documentation](https://cloud.google.com/vertex-ai/docs/generative-ai/text/text-overview).\n",
    "\n",
    "In this notebook, you learn best practices around prompt engineering -- how to design prompts to improve the quality of your responses. \n",
    "\n",
    "This notebook covers the following best practices for prompt engineering:\n",
    "\n",
    "- Be concise\n",
    "- Be specific and well-defined\n",
    "- Ask one task at a time\n",
    "- Turn generative tasks into classification tasks\n",
    "- Improve response quality by including examples"
   ]
  },
  {
   "cell_type": "markdown",
   "metadata": {
    "id": "61RBz8LLbxCR"
   },
   "source": [
    "## Getting Started"
   ]
  },
  {
   "cell_type": "markdown",
   "metadata": {
    "id": "No17Cw5hgx12"
   },
   "source": [
    "### Install Vertex AI SDK and other required packages\n"
   ]
  },
  {
   "cell_type": "code",
   "execution_count": 2,
   "metadata": {
    "id": "tFy3H3aPgx12",
    "tags": []
   },
   "outputs": [
    {
     "name": "stdout",
     "output_type": "stream",
     "text": [
      "\u001b[33m  WARNING: The script tb-gcp-uploader is installed in '/home/jupyter/.local/bin' which is not on PATH.\n",
      "  Consider adding this directory to PATH or, if you prefer to suppress this warning, use --no-warn-script-location.\u001b[0m\u001b[33m\n",
      "\u001b[0mNote: you may need to restart the kernel to use updated packages.\n"
     ]
    }
   ],
   "source": [
    "%pip install --upgrade --user --quiet google-cloud-aiplatform"
   ]
  },
  {
   "cell_type": "markdown",
   "metadata": {
    "id": "R5Xep4W9lq-Z"
   },
   "source": [
    "### Restart runtime\n",
    "\n",
    "To use the newly installed packages in this Jupyter runtime, you must restart the runtime. You can do this by running the cell below, which will restart the current kernel."
   ]
  },
  {
   "cell_type": "code",
   "execution_count": 3,
   "metadata": {
    "id": "XRvKdaPDTznN",
    "tags": []
   },
   "outputs": [
    {
     "data": {
      "text/plain": [
       "{'status': 'ok', 'restart': True}"
      ]
     },
     "execution_count": 3,
     "metadata": {},
     "output_type": "execute_result"
    }
   ],
   "source": [
    "import IPython\n",
    "\n",
    "app = IPython.Application.instance()\n",
    "app.kernel.do_shutdown(True)"
   ]
  },
  {
   "cell_type": "markdown",
   "metadata": {
    "id": "SbmM4z7FOBpM"
   },
   "source": [
    "<div class=\"alert alert-block alert-warning\">\n",
    "<b>⚠️ The kernel is going to restart. Please wait until it is finished before continuing to the next step. ⚠️</b>\n",
    "</div>\n"
   ]
  },
  {
   "cell_type": "markdown",
   "metadata": {
    "id": "dmWOrTJ3gx13"
   },
   "source": [
    "### Authenticate your notebook environment (Colab only)\n",
    "\n",
    "Authenticate your environment on Google Colab.\n"
   ]
  },
  {
   "cell_type": "code",
   "execution_count": 1,
   "metadata": {
    "id": "NyKGtVQjgx13",
    "tags": []
   },
   "outputs": [],
   "source": [
    "import sys\n",
    "\n",
    "if \"google.colab\" in sys.modules:\n",
    "    from google.colab import auth\n",
    "\n",
    "    auth.authenticate_user()"
   ]
  },
  {
   "cell_type": "markdown",
   "metadata": {
    "id": "DF4l8DTdWgPY"
   },
   "source": [
    "### Set Google Cloud project information and initialize Vertex AI SDK\n",
    "\n",
    "To get started using Vertex AI, you must have an existing Google Cloud project and [enable the Vertex AI API](https://console.cloud.google.com/flows/enableapi?apiid=aiplatform.googleapis.com).\n",
    "\n",
    "Learn more about [setting up a project and a development environment](https://cloud.google.com/vertex-ai/docs/start/cloud-environment)."
   ]
  },
  {
   "cell_type": "code",
   "execution_count": 2,
   "metadata": {
    "id": "Nqwi-5ufWp_B",
    "tags": []
   },
   "outputs": [],
   "source": [
    "PROJECT_ID = \"qwiklabs-gcp-04-b04d34f76f30\"  # @param {type:\"string\"}\n",
    "LOCATION = \"us-east4\"  # @param {type:\"string\"}\n",
    "\n",
    "import vertexai\n",
    "\n",
    "vertexai.init(project=PROJECT_ID, location=LOCATION)"
   ]
  },
  {
   "cell_type": "code",
   "execution_count": null,
   "metadata": {},
   "outputs": [],
   "source": [
    "# Please like share & subscribe to Techcps\n",
    "# YouTube https://www.youtube.com/@techcps\n",
    "\n",
    "print(\"Please like share & subscribe to Techcps https://www.youtube.com/@techcps\")"
   ]
  },
  {
   "cell_type": "code",
   "execution_count": 3,
   "metadata": {
    "id": "QqRWdPGmW3NJ",
    "tags": []
   },
   "outputs": [],
   "source": [
    "from vertexai.generative_models import GenerationConfig, GenerativeModel\n",
    "import time"
   ]
  },
  {
   "cell_type": "markdown",
   "metadata": {
    "id": "OnFPpCRtXRl4"
   },
   "source": [
    "### Load model"
   ]
  },
  {
   "cell_type": "code",
   "execution_count": 4,
   "metadata": {
    "id": "IQYu_9SvXQah",
    "tags": []
   },
   "outputs": [],
   "source": [
    "model = GenerativeModel(\"gemini-1.5-flash\")"
   ]
  },
  {
   "cell_type": "code",
   "execution_count": 5,
   "metadata": {
    "tags": []
   },
   "outputs": [],
   "source": [
    "import time\n",
    "\n",
    "def call_gemini(prompt, generation_config=GenerationConfig(temperature=1.0)):\n",
    "    wait_time = 1\n",
    "    while True:\n",
    "        try:\n",
    "            response = model.generate_content(prompt, generation_config=generation_config).text\n",
    "            return response\n",
    "            break  # Exit the loop if successful\n",
    "        except Exception as e:  # Replace with the actual exception type\n",
    "            time.sleep(wait_time)\n",
    "            wait_time *= 2  # Double the wait time\n",
    "\n",
    "def send_message_gemini(model, prompt):    \n",
    "    wait_time = 1\n",
    "    while True:\n",
    "        try:\n",
    "            response = model.send_message(prompt).text\n",
    "            return response\n",
    "            break  # Exit the loop if successful\n",
    "        except Exception as e:  # Replace with the actual exception type\n",
    "            time.sleep(wait_time)\n",
    "            wait_time *= 2  # Double the wait time"
   ]
  },
  {
   "cell_type": "markdown",
   "metadata": {
    "id": "cVOtUNJ5X0PY"
   },
   "source": [
    "## Prompt engineering best practices"
   ]
  },
  {
   "cell_type": "markdown",
   "metadata": {
    "id": "uv_e0fEPX60q"
   },
   "source": [
    "Prompt engineering is all about how to design your prompts so that the response is what you were indeed hoping to see.\n",
    "\n",
    "The idea of using \"unfancy\" prompts is to minimize the noise in your prompt to reduce the possibility of the LLM misinterpreting the intent of the prompt. Below are a few guidelines on how to engineer \"unfancy\" prompts.\n",
    "\n",
    "In this section, you'll cover the following best practices when engineering prompts:\n",
    "\n",
    "* Be concise\n",
    "* Be specific, and well-defined\n",
    "* Ask one task at a time\n",
    "* Improve response quality by including examples\n",
    "* Turn generative tasks to classification tasks to improve safety"
   ]
  },
  {
   "cell_type": "markdown",
   "metadata": {
    "id": "0pY4XX0OX9_Y"
   },
   "source": [
    "### Be concise"
   ]
  },
  {
   "cell_type": "markdown",
   "metadata": {
    "id": "xlRpxyxGYA1K"
   },
   "source": [
    "🛑 Not recommended. The prompt below is unnecessarily verbose."
   ]
  },
  {
   "cell_type": "code",
   "execution_count": 6,
   "metadata": {
    "id": "YKV4G-CfXdbi",
    "tags": []
   },
   "outputs": [
    {
     "name": "stdout",
     "output_type": "stream",
     "text": [
      "Here are some names for a flower shop specializing in dried flowers, categorized by style:\n",
      "\n",
      "**Whimsical and Charming:**\n",
      "\n",
      "* The Dried Bloom\n",
      "* Poppy & Petal\n",
      "* Bloom & Branch\n",
      "* Whispering Willow\n",
      "* Everlasting Bouquet\n",
      "* The Dusty Rose\n",
      "* Sun-Kissed Blooms\n",
      "* Bloom & Botanical\n",
      "* The Dried Garden\n",
      "\n",
      "**Modern and Minimalist:**\n",
      "\n",
      "* Bloom & Co.\n",
      "* The Dried Flower Studio\n",
      "* Wild + Dried\n",
      "* Paper & Petals\n",
      "* The Preserve\n",
      "* Botanicals & Bloom\n",
      "* Forever Blooms\n",
      "* The Dried Bouquet\n",
      "* Bloom & Stone\n",
      "\n",
      "**Vintage and Romantic:**\n",
      "\n",
      "* The Lace & Lily\n",
      "* The Dried Florist\n",
      "* Vintage Blooms\n",
      "* The Flower Room\n",
      "* The Heirloom Bloom\n",
      "* The Antique Bloom\n",
      "* The Dried Flower Co.\n",
      "* The Botanical Garden\n",
      "* The Flower Cottage\n",
      "\n",
      "**Unique and Playful:**\n",
      "\n",
      "* The Petal Pusher\n",
      "* The Flower Alchemist\n",
      "* The Dried Flower Bar\n",
      "* The Flower Whisperer\n",
      "* The Bloom Box\n",
      "* The Petal Project\n",
      "* The Dried Flower Collective\n",
      "* The Bloom Apothecary\n",
      "* The Flower Muse\n",
      "\n",
      "**Tips for Choosing a Name:**\n",
      "\n",
      "* **Consider your target audience:** Who are you trying to attract? \n",
      "* **Keep it memorable and easy to pronounce:** A catchy name will stick in people's minds.\n",
      "* **Reflect your brand personality:** Does your shop have a vintage feel, a modern aesthetic, or a whimsical vibe?\n",
      "* **Check for availability:** Make sure the name is available as a domain name and on social media.\n",
      "\n",
      "Ultimately, the best name for your flower shop is one that you love and that reflects your unique brand. Good luck! \n",
      "\n"
     ]
    }
   ],
   "source": [
    "prompt = \"What do you think could be a good name for a flower shop that specializes in selling bouquets of dried flowers more than fresh flowers?\"\n",
    "\n",
    "print(call_gemini(prompt))"
   ]
  },
  {
   "cell_type": "markdown",
   "metadata": {
    "id": "YrJexRHJYnmC"
   },
   "source": [
    "✅ Recommended. The prompt below is to the point and concise."
   ]
  },
  {
   "cell_type": "code",
   "execution_count": 7,
   "metadata": {
    "id": "VHetn9lCYrXB",
    "tags": []
   },
   "outputs": [
    {
     "name": "stdout",
     "output_type": "stream",
     "text": [
      "##  Dried Flower Shop Names:\n",
      "\n",
      "**Romantic & Elegant:**\n",
      "\n",
      "* Everlasting Blooms\n",
      "* The Dried Petal\n",
      "* Bloom & Wither\n",
      "* Timeless Flowers\n",
      "* Whispers of Bloom\n",
      "* Botanical Reverie\n",
      "* The Bloom Archive\n",
      "* The Dried Garden\n",
      "* The Paper Petal\n",
      "* Bloom & Co.\n",
      "\n",
      "**Whimsical & Unique:**\n",
      "\n",
      "* The Dried Flower Alchemist\n",
      "* The Paper Petal Shop\n",
      "* The Flower Whisperer\n",
      "* The Botanical Muse\n",
      "* The Wildflower Whisperer\n",
      "* Sun-Kissed Blooms\n",
      "* Dust & Bloom\n",
      "* The Herbarium\n",
      "* The Dried Petal Project\n",
      "* The Flower Apothecary\n",
      "\n",
      "**Modern & Minimalist:**\n",
      "\n",
      "* The Dried Bouquet\n",
      "* Bloom & Dust\n",
      "* The Dried Bloom Co.\n",
      "* Petal & Stem\n",
      "* The Flower Preserve\n",
      "* Bloom & Fade\n",
      "* The Flower Library\n",
      "* The Botanical Studio\n",
      "* The Floral Archive\n",
      "* Dried Bloom Collective\n",
      "\n",
      "**Location-Based:**\n",
      "\n",
      "* [Your Town/City] Dried Flowers\n",
      "* The [Street Name] Flower Shop\n",
      "* [Neighborhood Name] Blooms\n",
      "* [Your Name]'s Dried Flowers\n",
      "\n",
      "**Consider adding a tagline:**\n",
      "\n",
      "* \"Preserving beauty, one bloom at a time.\"\n",
      "* \"Dried flowers with lasting charm.\"\n",
      "* \"Forever blooms, for every occasion.\"\n",
      "* \"The art of dried flower arrangements.\"\n",
      "* \"Blooms that last a lifetime.\" \n",
      "\n",
      "**Tips for choosing a name:**\n",
      "\n",
      "* **Keep it short & memorable.**\n",
      "* **Make it relevant to your brand.**\n",
      "* **Check if the name is available.**\n",
      "* **Get feedback from friends and family.**\n"
     ]
    }
   ],
   "source": [
    "prompt = \"Suggest a name for a flower shop that sells bouquets of dried flowers\"\n",
    "\n",
    "print(call_gemini(prompt))"
   ]
  },
  {
   "cell_type": "markdown",
   "metadata": {
    "id": "eXTAvdOHY0OC"
   },
   "source": [
    "### Be specific, and well-defined"
   ]
  },
  {
   "cell_type": "markdown",
   "metadata": {
    "id": "FTH4GEIgY1dp"
   },
   "source": [
    "Suppose that you want to brainstorm creative ways to describe Earth."
   ]
  },
  {
   "cell_type": "markdown",
   "metadata": {
    "id": "o5BmXBiGY4KC"
   },
   "source": [
    "🛑 The prompt below might be a bit too generic (which is certainly OK if you'd like to ask a generic question!)"
   ]
  },
  {
   "cell_type": "code",
   "execution_count": 8,
   "metadata": {
    "id": "eHBaMvv7Y6mR",
    "tags": []
   },
   "outputs": [
    {
     "name": "stdout",
     "output_type": "stream",
     "text": [
      "## Earth: Our Home Planet\n",
      "\n",
      "Earth is a vibrant, dynamic planet, the only known place in the universe to harbor life. Here's a glimpse into its fascinating features:\n",
      "\n",
      "**Basic Information:**\n",
      "\n",
      "* **Third planet from the Sun:**  Located at a perfect distance for liquid water to exist, crucial for life.\n",
      "* **Age:** Approximately 4.54 billion years old.\n",
      "* **Size:**  Diameter of roughly 12,742 kilometers.\n",
      "* **Composition:**  Primarily iron, oxygen, silicon, magnesium, sulfur, nickel, calcium, and aluminum.\n",
      "* **Atmosphere:** Composed of nitrogen (78%), oxygen (21%), and trace amounts of other gases like argon, carbon dioxide, and neon.\n",
      "* **Gravity:**  9.81 m/s², pulling everything towards its center.\n",
      "\n",
      "**Key Features:**\n",
      "\n",
      "* **Hydrosphere:**  Covers 71% of Earth's surface,  consisting of oceans, lakes, rivers, ice, and groundwater.  \n",
      "* **Biosphere:**  The zone where life exists, encompassing all living organisms and their habitats.  This includes everything from microscopic bacteria to giant whales.\n",
      "* **Geosphere:** The solid, rocky part of Earth, consisting of the crust, mantle, and core.  Earth's tectonic plates are constantly shifting, causing earthquakes and volcanic eruptions.\n",
      "* **Atmosphere:**  Provides oxygen for breathing, protects us from harmful solar radiation, and regulates temperature.\n",
      "\n",
      "**Life on Earth:**\n",
      "\n",
      "* **Biodiversity:**  Earth is home to an astonishing variety of life forms, from single-celled organisms to complex animals.  \n",
      "* **Evolution:**  Life on Earth has evolved over billions of years, adapting to different environments and creating the incredible diversity we see today. \n",
      "* **Human impact:**  Humans have significantly impacted Earth's environment, causing climate change, deforestation, and pollution. However, we also have the power to make positive changes.\n",
      "\n",
      "**Unique Qualities:**\n",
      "\n",
      "* **Magnetic field:**  Protects us from the Sun's harmful radiation.\n",
      "* **Plate tectonics:**  Causes earthquakes, volcanic eruptions, and mountain formation, shaping Earth's landscape.\n",
      "* **Water cycle:**  A continuous movement of water between the atmosphere, oceans, and land, essential for life.\n",
      "* **Climate:**  Varies greatly from the equator to the poles, creating diverse ecosystems.\n",
      "\n",
      "**Earth is a remarkable planet, full of wonder and mystery.  Understanding its features and challenges helps us appreciate its beauty and work towards its sustainable future.** \n",
      "\n"
     ]
    }
   ],
   "source": [
    "prompt = \"Tell me about Earth\"\n",
    "\n",
    "print(call_gemini(prompt))"
   ]
  },
  {
   "cell_type": "markdown",
   "metadata": {
    "id": "4iyvEbteZnFL"
   },
   "source": [
    "✅ Recommended. The prompt below is specific and well-defined."
   ]
  },
  {
   "cell_type": "code",
   "execution_count": 9,
   "metadata": {
    "id": "JQ80z8urZnne",
    "tags": []
   },
   "outputs": [
    {
     "name": "stdout",
     "output_type": "stream",
     "text": [
      "## What Makes Earth Unique:\n",
      "\n",
      "**1.  Abundant Liquid Water:** \n",
      "- Earth is the only planet known to have **liquid water** on its surface in significant quantities. This is crucial for life as we know it.\n",
      "\n",
      "**2.  Plate Tectonics:**\n",
      "- Earth's unique **plate tectonics** system constantly reshapes its surface, creating mountains, volcanoes, and ocean trenches. This dynamic process plays a vital role in regulating Earth's climate and providing essential nutrients for life.\n",
      "\n",
      "**3.  A Strong Magnetic Field:**\n",
      "- Earth's **magnetic field** shields us from harmful solar radiation and cosmic rays, protecting life from the harshness of space.\n",
      "\n",
      "**4.  A Breathable Atmosphere:**\n",
      "- Earth's **atmosphere**, composed primarily of nitrogen and oxygen, is ideal for breathing and sustains a wide range of life forms.\n",
      "\n",
      "**5.  Moderate Temperatures:**\n",
      "- Earth's **temperature range** is conducive to liquid water, providing a habitable environment for various life forms.\n",
      "\n",
      "**6.  Presence of Life:**\n",
      "- Earth is the only known planet to host **life**, ranging from microscopic organisms to complex multicellular beings.\n",
      "\n",
      "**7.  Moon's Influence:**\n",
      "- Earth's **moon** stabilizes our planet's axis of rotation, leading to predictable seasons and a relatively stable climate.\n",
      "\n",
      "**8.  Diversity of Ecosystems:**\n",
      "- Earth boasts an incredible **diversity of ecosystems**, from lush rainforests to scorching deserts, supporting a wide variety of life.\n",
      "\n",
      "**9.  Geochemical Cycles:**\n",
      "- Earth possesses complex **geochemical cycles**, such as the carbon cycle and the water cycle, that regulate its environment and contribute to its habitability.\n",
      "\n",
      "**10.  Dynamic Climate System:**\n",
      "- Earth's **climate** is constantly changing, driven by natural factors like solar radiation and volcanic activity. This dynamic system allows for adaptation and evolution of life forms.\n",
      "\n",
      "**In Conclusion:**\n",
      "\n",
      "These are just some of the key factors that make Earth unique and exceptionally well-suited for life. While we continue to explore the cosmos, Earth remains a remarkable planet, and understanding its unique characteristics is crucial for appreciating its value and the fragility of life on it. \n",
      "\n"
     ]
    }
   ],
   "source": [
    "prompt = \"Generate a list of ways that makes Earth unique compared to other planets\"\n",
    "\n",
    "print(call_gemini(prompt))"
   ]
  },
  {
   "cell_type": "markdown",
   "metadata": {
    "id": "R5kmfZYHZsJ7"
   },
   "source": [
    "### Ask one task at a time"
   ]
  },
  {
   "cell_type": "markdown",
   "metadata": {
    "id": "rsAezxeYZuUN"
   },
   "source": [
    "🛑 Not recommended. The prompt below has two parts to the question that could be asked separately."
   ]
  },
  {
   "cell_type": "code",
   "execution_count": 10,
   "metadata": {
    "id": "ElywPXpuZtWf",
    "tags": []
   },
   "outputs": [
    {
     "name": "stdout",
     "output_type": "stream",
     "text": [
      "Let's tackle these two questions separately!\n",
      "\n",
      "**Boiling Water:**\n",
      "\n",
      "* **Best Method:** While there are various methods, the most efficient and straightforward is using a stovetop kettle or pot. Here's why:\n",
      "\n",
      "    * **Speed:** Kettles are designed for rapid heating due to their shape and material. \n",
      "    * **Safety:** They have a built-in whistle to alert you when the water boils, preventing overboiling.\n",
      "    * **Convenience:** Easy to fill and clean, with a spout for pouring.\n",
      "\n",
      "* **Other Methods:** \n",
      "\n",
      "    * **Microwave:** Quick but not always suitable for large volumes or for recipes that require controlled heating.\n",
      "    * **Electric Kettle:** Similar to stovetop kettles, but have a heating element built-in.\n",
      "    * **Campfire:**  A rustic method, great for outdoor situations but requires time and skill.\n",
      "\n",
      "**The Sky's Blue:**\n",
      "\n",
      "* **Rayleigh Scattering:**  This is the main reason for the sky's blue color. Here's how it works:\n",
      "\n",
      "    1. **Sunlight:**  The sun emits white light, which is a mixture of all colors of the rainbow.\n",
      "    2. **Atmosphere:**  As sunlight enters the Earth's atmosphere, it encounters tiny molecules of air (mostly nitrogen and oxygen).\n",
      "    3. **Scattering:**  These molecules scatter the sunlight in all directions. Blue light, with its shorter wavelengths, is scattered more efficiently than other colors.\n",
      "    4. **Blue Sky:**  This scattered blue light reaches our eyes from all directions, making the sky appear blue.\n",
      "\n",
      "* **Sunrises and Sunsets:**  During these times, sunlight travels through more of the atmosphere. This causes longer wavelengths (red, orange, yellow) to scatter less and reach our eyes, giving the sky its reddish hues. \n",
      "\n"
     ]
    }
   ],
   "source": [
    "prompt = \"What's the best method of boiling water and why is the sky blue?\"\n",
    "\n",
    "print(call_gemini(prompt))"
   ]
  },
  {
   "cell_type": "markdown",
   "metadata": {
    "id": "ejzahazBZ8vk"
   },
   "source": [
    "✅ Recommended. The prompts below asks one task a time."
   ]
  },
  {
   "cell_type": "code",
   "execution_count": 11,
   "metadata": {
    "id": "C5ckp2F0Z_Ba",
    "tags": []
   },
   "outputs": [
    {
     "name": "stdout",
     "output_type": "stream",
     "text": [
      "The \"best\" method of boiling water depends on your priorities:\n",
      "\n",
      "**For Speed:**\n",
      "\n",
      "* **Electric Kettle:** This is hands-down the fastest method.  Electric kettles are designed specifically for boiling water and can heat it much quicker than a stovetop. \n",
      "* **Microwave (in a microwave-safe container):**  While not the most efficient, microwaving water can be very fast, especially for small amounts.\n",
      "\n",
      "**For Energy Efficiency:**\n",
      "\n",
      "* **Electric Kettle:** Electric kettles are generally more energy-efficient than stovetops, as they heat only the water, not the surrounding air.\n",
      "* **Stovetop with a Covered Pot:** Covering the pot helps to trap heat and speed up the boiling process, which reduces the time spent heating the water.\n",
      "\n",
      "**For Control:**\n",
      "\n",
      "* **Stovetop:** Stovetops give you the most control over the heat level, allowing you to bring the water to a gentle simmer or a rolling boil.\n",
      "\n",
      "**Other Considerations:**\n",
      "\n",
      "* **Safety:**  Always be careful when boiling water, and never leave it unattended.  Ensure you use a pot that's appropriate for the stovetop. \n",
      "* **Amount of Water:** For small amounts, a microwave or a small electric kettle is ideal. For larger quantities, a stovetop is better.\n",
      "* **Quality of Water:** If you're concerned about the quality of your tap water, using a water filter or a bottled water is recommended.\n",
      "\n",
      "**Ultimately, the best method for you will depend on your individual needs and preferences.** \n",
      "\n"
     ]
    }
   ],
   "source": [
    "prompt = \"What's the best method of boiling water?\"\n",
    "\n",
    "print(call_gemini(prompt))"
   ]
  },
  {
   "cell_type": "code",
   "execution_count": 12,
   "metadata": {
    "id": "KwUzhud4aA89",
    "tags": []
   },
   "outputs": [
    {
     "name": "stdout",
     "output_type": "stream",
     "text": [
      "The sky appears blue due to a phenomenon called **Rayleigh scattering**. \n",
      "\n",
      "Here's how it works:\n",
      "\n",
      "* **Sunlight is made up of all colors of the rainbow.**  This is what we call the visible spectrum of light.\n",
      "* **When sunlight enters the Earth's atmosphere, it interacts with the tiny molecules of air (mainly nitrogen and oxygen).** These molecules are much smaller than the wavelengths of visible light.\n",
      "* **These tiny molecules scatter the shorter wavelengths of light (blue and violet) more effectively than the longer wavelengths (red and orange).** This is because the shorter wavelengths are more easily deflected by the smaller particles.\n",
      "* **The scattered blue light is then seen coming from all directions, making the sky appear blue.**\n",
      "\n",
      "**Why not violet?**\n",
      "\n",
      "Although violet light is scattered even more than blue, our eyes are more sensitive to blue light. This is why we perceive the sky as blue rather than violet.\n",
      "\n",
      "**Other factors:**\n",
      "\n",
      "* **The angle of the sun:** The sky appears bluer when the sun is higher in the sky, as the light has to travel through less atmosphere.\n",
      "* **Clouds and dust:** Clouds and dust particles can scatter all wavelengths of light equally, making the sky appear white or gray.\n",
      "* **Pollution:** Pollution can also scatter light, making the sky appear hazy or even brown.\n",
      "\n",
      "**In summary, the blue color of the sky is a result of sunlight being scattered by the molecules in the Earth's atmosphere, with blue light being scattered more effectively than other colors.** \n",
      "\n"
     ]
    }
   ],
   "source": [
    "prompt = \"Why is the sky blue?\"\n",
    "\n",
    "print(call_gemini(prompt))"
   ]
  },
  {
   "cell_type": "markdown",
   "metadata": {
    "id": "PJIL2RTQaGcT"
   },
   "source": [
    "### Watch out for hallucinations"
   ]
  },
  {
   "cell_type": "markdown",
   "metadata": {
    "id": "8Y8kYxrSaHE9"
   },
   "source": [
    "Although LLMs have been trained on a large amount of data, they can generate text containing statements not grounded in truth or reality; these responses from the LLM are often referred to as \"hallucinations\" due to their limited memorization capabilities. Note that simply prompting the LLM to provide a citation isn't a fix to this problem, as there are instances of LLMs providing false or inaccurate citations. Dealing with hallucinations is a fundamental challenge of LLMs and an ongoing research area, so it is important to be cognizant that LLMs may seem to give you confident, correct-sounding statements that are in fact incorrect.\n",
    "\n",
    "Note that if you intend to use LLMs for the creative use cases, hallucinating could actually be quite useful."
   ]
  },
  {
   "cell_type": "markdown",
   "metadata": {
    "id": "8NY5nAGeaJYS"
   },
   "source": [
    "Try the prompt like the one below repeatedly. We set the temperature to 1.0 so that it takes more risks in its choices. It's possible that it may provide an inaccurate, but confident answer."
   ]
  },
  {
   "cell_type": "code",
   "execution_count": 13,
   "metadata": {
    "id": "QALPjEILaM62",
    "tags": []
   },
   "outputs": [
    {
     "name": "stdout",
     "output_type": "stream",
     "text": [
      "I do not have access to real-time information, including the current date. To find out what day it is today, I recommend checking a calendar or your device's clock. \n",
      "\n"
     ]
    }
   ],
   "source": [
    "generation_config = GenerationConfig(temperature=1.0)\n",
    "\n",
    "prompt = \"What day is it today?\"\n",
    "\n",
    "print(call_gemini(prompt, generation_config))"
   ]
  },
  {
   "cell_type": "markdown",
   "metadata": {
    "id": "BRkwzbgRbhKt"
   },
   "source": [
    "Since LLMs do not have access to real-time information without further integrations, you may have noticed it hallucinates what day it is today in some of the outputs."
   ]
  },
  {
   "cell_type": "markdown",
   "metadata": {
    "id": "3c811e310d02"
   },
   "source": [
    "### Using system instructions to guardrail the model from irrelevant responses\n",
    "\n",
    "How can we attempt to reduce the chances of irrelevant responses and hallucinations?\n",
    "\n",
    "One way is to provide the LLM with [system instructions](https://cloud.google.com/vertex-ai/generative-ai/docs/multimodal/send-chat-prompts-gemini#system-instructions).\n",
    "\n",
    "Let's see how system instructions works and how you can use them to reduce hallucinations or irrelevant questions for a travel chatbot.\n",
    "\n",
    "Suppose we ask a simple question about one of Italy's most famous tourist spots."
   ]
  },
  {
   "cell_type": "code",
   "execution_count": 14,
   "metadata": {
    "id": "rB6zJU76biFK",
    "tags": []
   },
   "outputs": [
    {
     "name": "stdout",
     "output_type": "stream",
     "text": [
      "Milan is a city with a rich history and culture, offering numerous sights to explore. To recommend the best place for sightseeing, I need more information about your interests. \n",
      "\n",
      "Could you tell me:\n",
      "\n",
      "* **What kind of sights are you interested in?** (e.g., historical landmarks, art museums, architecture, shopping, food)\n",
      "* **How much time do you have for sightseeing?**\n",
      "* **What is your budget for activities and attractions?**\n",
      "\n",
      "Once I have this information, I can give you a more personalized recommendation for the best place to start your Milan adventure! \n",
      "\n"
     ]
    }
   ],
   "source": [
    "model_travel = GenerativeModel(\n",
    "    model_name=\"gemini-1.5-flash\",\n",
    "    system_instruction=[\n",
    "        \"Hello! You are an AI chatbot for a travel web site.\",\n",
    "        \"Your mission is to provide helpful queries for travelers.\",\n",
    "        \"Remember that before you answer a question, you must check to see if it complies with your mission.\",\n",
    "        \"If not, you can say, Sorry I can't answer that question.\",\n",
    "    ],\n",
    ")\n",
    "\n",
    "chat = model_travel.start_chat()\n",
    "\n",
    "prompt = \"What is the best place for sightseeing in Milan, Italy?\"\n",
    "\n",
    "print(send_message_gemini(chat, prompt))"
   ]
  },
  {
   "cell_type": "markdown",
   "metadata": {
    "id": "WZa-Qcf9cF4A"
   },
   "source": [
    "Now let us pretend to be a user asks the chatbot a question that is unrelated to travel."
   ]
  },
  {
   "cell_type": "code",
   "execution_count": 15,
   "metadata": {
    "id": "AZKBIDr2cGnu",
    "tags": []
   },
   "outputs": [
    {
     "name": "stdout",
     "output_type": "stream",
     "text": [
      "Sorry, I can't answer that question. I am designed to help travelers with their trip planning needs.  Perhaps you could ask a food-related website or app for dinner recommendations. \n",
      "\n"
     ]
    }
   ],
   "source": [
    "prompt = \"What's for dinner?\"\n",
    "\n",
    "print(send_message_gemini(chat, prompt))"
   ]
  },
  {
   "cell_type": "markdown",
   "metadata": {
    "id": "JiUYIhwpctCy"
   },
   "source": [
    "You can see that this way, a guardrail in the prompt prevented the chatbot from veering off course."
   ]
  },
  {
   "cell_type": "markdown",
   "metadata": {
    "id": "ZuuDhA37cvmP"
   },
   "source": [
    "### Turn generative tasks into classification tasks to reduce output variability"
   ]
  },
  {
   "cell_type": "markdown",
   "metadata": {
    "id": "kUCUrsUzczmb"
   },
   "source": [
    "#### Generative tasks lead to higher output variability"
   ]
  },
  {
   "cell_type": "markdown",
   "metadata": {
    "id": "a1xASHAkc46n"
   },
   "source": [
    "The prompt below results in an open-ended response, useful for brainstorming, but response is highly variable."
   ]
  },
  {
   "cell_type": "code",
   "execution_count": 16,
   "metadata": {
    "id": "nPfXQWIacwRf",
    "tags": []
   },
   "outputs": [
    {
     "name": "stdout",
     "output_type": "stream",
     "text": [
      "Here are some programming activities suitable for high school students, categorized by their focus and difficulty:\n",
      "\n",
      "**Beginner-Friendly:**\n",
      "\n",
      "* **Build a Simple Game:** \n",
      "    * **Idea:**  A text-based adventure game, a simple number guessing game, or a basic \"Pong\" clone.\n",
      "    * **Skills:**  Basic input/output, conditional statements, loops.\n",
      "    * **Language:**  Python, Scratch, JavaScript (for web-based games).\n",
      "\n",
      "* **Create a Website:**\n",
      "    * **Idea:**  A portfolio showcasing your work, a blog about your hobbies, or a simple informational website.\n",
      "    * **Skills:**  HTML, CSS, JavaScript (for dynamic elements).\n",
      "    * **Resources:**  W3Schools, Codecademy, FreeCodeCamp.\n",
      "\n",
      "* **Solve Coding Challenges:**\n",
      "    * **Platforms:**  Codewars, HackerRank, LeetCode.\n",
      "    * **Benefits:**  Practice problem-solving, learn new algorithms and data structures.\n",
      "    * **Start with:**  Easy to Medium difficulty problems.\n",
      "\n",
      "**Intermediate Level:**\n",
      "\n",
      "* **Automate a Task:**\n",
      "    * **Idea:**  Automating simple tasks like renaming files, sending emails, or scraping data from websites.\n",
      "    * **Skills:**  Scripting languages like Python or Bash.\n",
      "    * **Resources:**  Automate the Boring Stuff with Python, Learn Python the Hard Way.\n",
      "\n",
      "* **Develop a Mobile App (Simple):**\n",
      "    * **Idea:**  A basic to-do list app, a calculator, or a quiz game.\n",
      "    * **Skills:**  Android Studio (Java/Kotlin) or Xcode (Swift).\n",
      "    * **Resources:**  Android Developer Documentation, Apple Developer Documentation.\n",
      "\n",
      "* **Contribute to Open Source Projects:**\n",
      "    * **Platforms:**  GitHub, GitLab.\n",
      "    * **Benefits:**  Learn from experienced developers, collaborate with others, contribute to real-world applications.\n",
      "    * **Start with:**  Find beginner-friendly projects that need help with documentation or bug fixes.\n",
      "\n",
      "**Advanced Level:**\n",
      "\n",
      "* **Build a Larger Project:**\n",
      "    * **Idea:**  A more complex game with graphics and sound, a web application with database integration, or a machine learning model.\n",
      "    * **Skills:**  Object-oriented programming, database management, machine learning frameworks.\n",
      "    * **Resources:**  Unity, Unreal Engine, TensorFlow, PyTorch.\n",
      "\n",
      "* **Learn a New Programming Language:**\n",
      "    * **Ideas:**  C++, C#, Java, Go, Rust.\n",
      "    * **Benefits:**  Expand your skillset, explore different programming paradigms, broaden your career options.\n",
      "\n",
      "**General Tips:**\n",
      "\n",
      "* **Start small:** Don't try to tackle a huge project right away. Break down your goals into smaller, achievable steps.\n",
      "* **Practice regularly:** Even short sessions of coding can make a big difference.\n",
      "* **Don't be afraid to ask for help:** There are tons of resources available online and in your community.\n",
      "* **Have fun!** Coding can be a rewarding and enjoyable activity. \n",
      "\n",
      "Remember, the best programming activity for you depends on your interests and learning style.  Explore different options and find what you enjoy the most! \n",
      "\n"
     ]
    }
   ],
   "source": [
    "prompt = \"I'm a high school student. Recommend me a programming activity to improve my skills.\"\n",
    "\n",
    "print(call_gemini(prompt))"
   ]
  },
  {
   "cell_type": "markdown",
   "metadata": {
    "id": "iAmm9wPYc_1o"
   },
   "source": [
    "#### Classification tasks reduces output variability"
   ]
  },
  {
   "cell_type": "markdown",
   "metadata": {
    "id": "VvRpK_0GdCpf"
   },
   "source": [
    "The prompt below results in a choice and may be useful if you want the output to be easier to control."
   ]
  },
  {
   "cell_type": "code",
   "execution_count": 17,
   "metadata": {
    "id": "kYDKh0r2dAqo",
    "tags": []
   },
   "outputs": [
    {
     "name": "stdout",
     "output_type": "stream",
     "text": [
      "As a high school student, learning a programming language can be a great investment in your future. Here's a breakdown of the three options and why one might be better for you:\n",
      "\n",
      "**a) Learn Python:**\n",
      "\n",
      "* **Pros:** \n",
      "    * **Beginner-friendly:** Python's syntax is simple and readable, making it easy to learn, even for someone with no prior programming experience.\n",
      "    * **Versatile:**  Python is widely used for various purposes, including web development, data science, machine learning, game development, and scientific computing. \n",
      "    * **Large community & resources:** Python has a massive and active community, making it easy to find resources, tutorials, and help online.\n",
      "* **Cons:** \n",
      "    * **Not as commonly used for front-end web development:** While Python can be used for backend web development, it's less popular for front-end work compared to JavaScript.\n",
      "\n",
      "**b) Learn JavaScript:**\n",
      "\n",
      "* **Pros:**\n",
      "    * **Essential for web development:** JavaScript is the primary language for interactive web pages, making it a highly sought-after skill for web developers.\n",
      "    * **Popular for mobile app development:** JavaScript frameworks like React Native are used to build cross-platform mobile apps.\n",
      "    * **Good for understanding how web pages work:** Learning JavaScript can give you a deeper understanding of how websites function.\n",
      "* **Cons:**\n",
      "    * **Can be more complex:** JavaScript's syntax can be a bit trickier for beginners compared to Python.\n",
      "    * **Requires learning additional concepts:** To create fully functional web pages, you'll also need to learn HTML and CSS alongside JavaScript.\n",
      "\n",
      "**c) Learn Fortran:**\n",
      "\n",
      "* **Pros:**\n",
      "    * **Excellent for scientific computing:** Fortran is still widely used for high-performance computing, scientific simulations, and numerical analysis. \n",
      "* **Cons:**\n",
      "    * **Less versatile:** Fortran's applications are mainly limited to scientific computing and engineering.\n",
      "    * **Older language:** Fortran's syntax can be outdated and more challenging for beginners.\n",
      "    * **Smaller community:** Compared to Python and JavaScript, Fortran has a smaller community and fewer resources.\n",
      "\n",
      "**Recommendation:**\n",
      "\n",
      "**For most high school students, I recommend starting with **Python**. It's easy to learn, versatile, and will open doors to many career paths.**\n",
      "\n",
      "**Here's why it might be the best fit:**\n",
      "\n",
      "* **You can start building projects quickly:** Python's simple syntax allows you to write working code early on, making it a rewarding experience.\n",
      "* **It can lead to interesting projects:** You can experiment with data analysis, machine learning, or even game development using Python.\n",
      "* **It's a good stepping stone to other languages:** Once you're comfortable with Python, you can easily pick up other languages like JavaScript.\n",
      "\n",
      "**If your primary interest is web development:**\n",
      "\n",
      "* **Then learning JavaScript would be the best choice.** However, I recommend learning Python first as it will make understanding JavaScript concepts easier.\n",
      "\n",
      "**If you're passionate about scientific computing or engineering:**\n",
      "\n",
      "* **Fortran might be a suitable choice.** However, it's important to note that you might need to learn additional programming concepts to work with it effectively.\n",
      "\n",
      "**Ultimately, the best choice depends on your interests and goals. Talk to your teachers, counselors, or online communities to get more specific guidance.**\n",
      "\n"
     ]
    }
   ],
   "source": [
    "prompt = \"\"\"I'm a high school student. Which of these activities do you suggest and why:\n",
    "a) learn Python\n",
    "b) learn JavaScript\n",
    "c) learn Fortran\n",
    "\"\"\"\n",
    "\n",
    "print(call_gemini(prompt))"
   ]
  },
  {
   "cell_type": "markdown",
   "metadata": {
    "id": "iTd60b1GdIsx"
   },
   "source": [
    "### Improve response quality by including examples"
   ]
  },
  {
   "cell_type": "markdown",
   "metadata": {
    "id": "yJi44NejdJYE"
   },
   "source": [
    "Another way to improve response quality is to add examples in your prompt. The LLM learns in-context from the examples on how to respond. Typically, one to five examples (shots) are enough to improve the quality of responses. Including too many examples can cause the model to over-fit the data and reduce the quality of responses.\n",
    "\n",
    "Similar to classical model training, the quality and distribution of the examples is very important. Pick examples that are representative of the scenarios that you need the model to learn, and keep the distribution of the examples (e.g. number of examples per class in the case of classification) aligned with your actual distribution."
   ]
  },
  {
   "cell_type": "markdown",
   "metadata": {
    "id": "sMbLginWdOKs"
   },
   "source": [
    "#### Zero-shot prompt"
   ]
  },
  {
   "cell_type": "markdown",
   "metadata": {
    "id": "Crh2Loi2dQ0v"
   },
   "source": [
    "Below is an example of zero-shot prompting, where you don't provide any examples to the LLM within the prompt itself."
   ]
  },
  {
   "cell_type": "code",
   "execution_count": 18,
   "metadata": {
    "id": "-7myRc-SdTQ4",
    "tags": []
   },
   "outputs": [
    {
     "name": "stdout",
     "output_type": "stream",
     "text": [
      "Sentiment: **Positive** \n",
      "\n"
     ]
    }
   ],
   "source": [
    "prompt = \"\"\"Decide whether a Tweet's sentiment is positive, neutral, or negative.\n",
    "\n",
    "Tweet: I loved the new YouTube video you made!\n",
    "Sentiment:\n",
    "\"\"\"\n",
    "\n",
    "print(call_gemini(prompt))"
   ]
  },
  {
   "cell_type": "markdown",
   "metadata": {
    "id": "ucRtPn9SdL64"
   },
   "source": [
    "#### One-shot prompt"
   ]
  },
  {
   "cell_type": "markdown",
   "metadata": {
    "id": "rs0gQH2vdYBi"
   },
   "source": [
    "Below is an example of one-shot prompting, where you provide one example to the LLM within the prompt to give some guidance on what type of response you want."
   ]
  },
  {
   "cell_type": "code",
   "execution_count": 19,
   "metadata": {
    "id": "iEq-KxGYdaT5",
    "tags": []
   },
   "outputs": [
    {
     "name": "stdout",
     "output_type": "stream",
     "text": [
      "Sentiment: **negative** \n",
      "\n"
     ]
    }
   ],
   "source": [
    "prompt = \"\"\"Decide whether a Tweet's sentiment is positive, neutral, or negative.\n",
    "\n",
    "Tweet: I loved the new YouTube video you made!\n",
    "Sentiment: positive\n",
    "\n",
    "Tweet: That was awful. Super boring 😠\n",
    "Sentiment:\n",
    "\"\"\"\n",
    "\n",
    "print(call_gemini(prompt))"
   ]
  },
  {
   "cell_type": "markdown",
   "metadata": {
    "id": "JnKLjJzmdfL_"
   },
   "source": [
    "#### Few-shot prompt"
   ]
  },
  {
   "cell_type": "markdown",
   "metadata": {
    "id": "6Zv-9F5OdgI_"
   },
   "source": [
    "Below is an example of few-shot prompting, where you provide a few examples to the LLM within the prompt to give some guidance on what type of response you want."
   ]
  },
  {
   "cell_type": "code",
   "execution_count": 20,
   "metadata": {
    "id": "u37P9tG4dk9S",
    "tags": []
   },
   "outputs": [
    {
     "name": "stdout",
     "output_type": "stream",
     "text": [
      "Sentiment: **positive** \n",
      "\n",
      "Here's why:\n",
      "\n",
      "* **\"Something surprised me about this video - it was actually original\"**: This implies a positive surprise, suggesting the video was good in a way the user didn't expect.\n",
      "* **\"It was not the same old recycled stuff that I always see\"**:  This reinforces the positive sentiment by highlighting a difference from the usual, implying the video is fresh and engaging.\n",
      "* **\"Watch it - you will not regret it\"**: This is a strong recommendation and a clear indication of positivity. \n",
      "\n"
     ]
    }
   ],
   "source": [
    "prompt = \"\"\"Decide whether a Tweet's sentiment is positive, neutral, or negative.\n",
    "\n",
    "Tweet: I loved the new YouTube video you made!\n",
    "Sentiment: positive\n",
    "\n",
    "Tweet: That was awful. Super boring 😠\n",
    "Sentiment: negative\n",
    "\n",
    "Tweet: Something surprised me about this video - it was actually original. It was not the same old recycled stuff that I always see. Watch it - you will not regret it.\n",
    "Sentiment:\n",
    "\"\"\"\n",
    "\n",
    "print(call_gemini(prompt))"
   ]
  },
  {
   "cell_type": "markdown",
   "metadata": {
    "id": "wDMD3xb2dvX6"
   },
   "source": [
    "#### Choosing between zero-shot, one-shot, few-shot prompting methods"
   ]
  },
  {
   "cell_type": "markdown",
   "metadata": {
    "id": "s92W0YpNdxJp"
   },
   "source": [
    "Which prompt technique to use will solely depends on your goal. The zero-shot prompts are more open-ended and can give you creative answers, while one-shot and few-shot prompts teach the model how to behave so you can get more predictable answers that are consistent with the examples provided."
   ]
  }
 ],
 "metadata": {
  "colab": {
   "name": "intro_prompt_design.ipynb",
   "toc_visible": true
  },
  "environment": {
   "kernel": "conda-base-py",
   "name": "workbench-notebooks.m127",
   "type": "gcloud",
   "uri": "us-docker.pkg.dev/deeplearning-platform-release/gcr.io/workbench-notebooks:m127"
  },
  "kernelspec": {
   "display_name": "Python 3 (ipykernel) (Local)",
   "language": "python",
   "name": "conda-base-py"
  },
  "language_info": {
   "codemirror_mode": {
    "name": "ipython",
    "version": 3
   },
   "file_extension": ".py",
   "mimetype": "text/x-python",
   "name": "python",
   "nbconvert_exporter": "python",
   "pygments_lexer": "ipython3",
   "version": "3.10.16"
  }
 },
 "nbformat": 4,
 "nbformat_minor": 4
}
