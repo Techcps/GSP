{
 "cells": [
  {
   "cell_type": "code",
   "execution_count": 1,
   "metadata": {
    "id": "ijGzTHJJUCPY",
    "tags": []
   },
   "outputs": [],
   "source": [
    "# Copyright 2024 Google LLC\n",
    "#\n",
    "# Licensed under the Apache License, Version 2.0 (the \"License\");\n",
    "# you may not use this file except in compliance with the License.\n",
    "# You may obtain a copy of the License at\n",
    "#\n",
    "#     https://www.apache.org/licenses/LICENSE-2.0\n",
    "#\n",
    "# Unless required by applicable law or agreed to in writing, software\n",
    "# distributed under the License is distributed on an \"AS IS\" BASIS,\n",
    "# WITHOUT WARRANTIES OR CONDITIONS OF ANY KIND, either express or implied.\n",
    "# See the License for the specific language governing permissions and\n",
    "# limitations under the License."
   ]
  },
  {
   "cell_type": "markdown",
   "metadata": {
    "id": "VEqbX8OhE8y9"
   },
   "source": [
    "# Document Processing with Gemini\n",
    "\n",
    "<table align=\"left\">\n",
    "  <td style=\"text-align: center\">\n",
    "    <a href=\"https://colab.research.google.com/github/GoogleCloudPlatform/generative-ai/blob/main/gemini/use-cases/document-processing/document_processing.ipynb\">\n",
    "      <img src=\"https://cloud.google.com/ml-engine/images/colab-logo-32px.png\" alt=\"Google Colaboratory logo\"><br> Run in Colab\n",
    "    </a>\n",
    "  </td>\n",
    "  <td style=\"text-align: center\">\n",
    "    <a href=\"https://console.cloud.google.com/vertex-ai/colab/import/https:%2F%2Fraw.githubusercontent.com%2FGoogleCloudPlatform%2Fgenerative-ai%2Fmain%2Fgemini%2Fuse-cases%2Fdocument-processing%2Fdocument_processing.ipynb\">\n",
    "      <img width=\"32px\" src=\"https://lh3.googleusercontent.com/JmcxdQi-qOpctIvWKgPtrzZdJJK-J3sWE1RsfjZNwshCFgE_9fULcNpuXYTilIR2hjwN\" alt=\"Google Cloud Colab Enterprise logo\"><br> Run in Colab Enterprise\n",
    "    </a>\n",
    "  </td>       \n",
    "  <td style=\"text-align: center\">\n",
    "    <a href=\"https://github.com/GoogleCloudPlatform/generative-ai/blob/main/gemini/use-cases/document-processing/document_processing.ipynb\">\n",
    "      <img src=\"https://cloud.google.com/ml-engine/images/github-logo-32px.png\" alt=\"GitHub logo\"><br> View on GitHub\n",
    "    </a>\n",
    "  </td>\n",
    "  <td style=\"text-align: center\">\n",
    "    <a href=\"https://console.cloud.google.com/vertex-ai/workbench/deploy-notebook?download_url=https://raw.githubusercontent.com/GoogleCloudPlatform/generative-ai/main/gemini/use-cases/document-processing/document_processing.ipynb\">\n",
    "      <img src=\"https://lh3.googleusercontent.com/UiNooY4LUgW_oTvpsNhPpQzsstV5W8F7rYgxgGBD85cWJoLmrOzhVs_ksK_vgx40SHs7jCqkTkCk=e14-rj-sc0xffffff-h130-w32\" alt=\"Vertex AI logo\"><br> Open in Vertex AI Workbench\n",
    "    </a>\n",
    "  </td>\n",
    "</table>\n"
   ]
  },
  {
   "cell_type": "markdown",
   "metadata": {
    "id": "fb49ff2efb96"
   },
   "source": [
    "| | |\n",
    "|-|-|\n",
    "|Author(s) | [Holt Skinner](https://github.com/holtskinner), [Drew Gillson](https://github.com/drewgillson) |"
   ]
  },
  {
   "cell_type": "markdown",
   "metadata": {
    "id": "CkHPv2myT2cx"
   },
   "source": [
    "## Overview\n",
    "\n",
    "In today's information-driven world, the volume of digital documents generated daily is staggering. From emails and reports to legal contracts and scientific papers, businesses and individuals alike are inundated with vast amounts of textual data. Extracting meaningful insights from these documents efficiently and accurately has become a paramount challenge.\n",
    "\n",
    "Document processing involves a range of tasks, including text extraction, classification, summarization, and translation, among others. Traditional methods often rely on rule-based algorithms or statistical models, which may struggle with the nuances and complexities of natural language.\n",
    "\n",
    "Generative AI offers a promising alternative to understand, generate, and manipulate text using natural language prompting. Gemini on Vertex AI allows these models to be used in a scalable manner through:\n",
    "\n",
    "- [Vertex AI Studio](https://cloud.google.com/generative-ai-studio) in the Cloud Console\n",
    "- [Vertex AI REST API](https://cloud.google.com/vertex-ai/docs/reference/rest)\n",
    "- [Vertex AI SDK for Python](https://cloud.google.com/vertex-ai/docs/python-sdk/use-vertex-ai-python-sdk-ref)\n",
    "- [Other client libraries](https://cloud.google.com/vertex-ai/docs/start/client-libraries)\n",
    "\n",
    "This notebook focuses on using the **Vertex AI SDK for Python** to call the Gemini API in Vertex AI with the Gemini 1.5 Flash model.\n",
    "\n",
    "For more information, see the [Generative AI on Vertex AI](https://cloud.google.com/vertex-ai/docs/generative-ai/learn/overview) documentation.\n"
   ]
  },
  {
   "cell_type": "markdown",
   "metadata": {
    "id": "DrkcqHrrwMAo"
   },
   "source": [
    "### Objectives\n",
    "\n",
    "In this tutorial, you will learn how to use the Gemini API in Vertex AI with the Vertex AI SDK for Python to process PDF documents.\n",
    "\n",
    "You will complete the following tasks:\n",
    "\n",
    "- Install the Vertex AI SDK for Python\n",
    "- Use the Gemini API in Vertex AI to interact with Gemini 1.5 Flash (`gemini-1.5-flash`) model:\n",
    "  - Extract structured entities from an unstructured document\n",
    "  - Classify document types\n",
    "  - Combine classification and entity extraction into a single workflow\n",
    "  - Summarize documents\n"
   ]
  },
  {
   "cell_type": "markdown",
   "metadata": {
    "id": "C9nEPojogw-g"
   },
   "source": [
    "### Costs\n",
    "\n",
    "This tutorial uses billable components of Google Cloud:\n",
    "\n",
    "- Vertex AI\n",
    "\n",
    "Learn about [Vertex AI pricing](https://cloud.google.com/vertex-ai/pricing) and use the [Pricing Calculator](https://cloud.google.com/products/calculator/) to generate a cost estimate based on your projected usage.\n"
   ]
  },
  {
   "cell_type": "markdown",
   "metadata": {
    "id": "r11Gu7qNgx1p"
   },
   "source": [
    "## Getting Started\n"
   ]
  },
  {
   "cell_type": "markdown",
   "metadata": {
    "id": "No17Cw5hgx12"
   },
   "source": [
    "### Install Vertex AI SDK for Python\n"
   ]
  },
  {
   "cell_type": "code",
   "execution_count": 2,
   "metadata": {
    "id": "tFy3H3aPgx12",
    "tags": []
   },
   "outputs": [
    {
     "name": "stdout",
     "output_type": "stream",
     "text": [
      "\u001b[33m  WARNING: The script tb-gcp-uploader is installed in '/home/jupyter/.local/bin' which is not on PATH.\n",
      "  Consider adding this directory to PATH or, if you prefer to suppress this warning, use --no-warn-script-location.\u001b[0m\u001b[33m\n",
      "\u001b[0mNote: you may need to restart the kernel to use updated packages.\n"
     ]
    }
   ],
   "source": [
    "%pip install --upgrade --user --quiet google-cloud-aiplatform"
   ]
  },
  {
   "cell_type": "markdown",
   "metadata": {
    "id": "R5Xep4W9lq-Z"
   },
   "source": [
    "### Restart current runtime\n",
    "\n",
    "To use the newly installed packages in this Jupyter runtime, you must restart the runtime. You can do this by running the cell below, which will restart the current kernel."
   ]
  },
  {
   "cell_type": "code",
   "execution_count": 3,
   "metadata": {
    "id": "XRvKdaPDTznN",
    "tags": []
   },
   "outputs": [
    {
     "data": {
      "text/plain": [
       "{'status': 'ok', 'restart': True}"
      ]
     },
     "execution_count": 3,
     "metadata": {},
     "output_type": "execute_result"
    }
   ],
   "source": [
    "# Restart kernel after installs so that your environment can access the new packages\n",
    "import IPython\n",
    "\n",
    "app = IPython.Application.instance()\n",
    "app.kernel.do_shutdown(True)"
   ]
  },
  {
   "cell_type": "markdown",
   "metadata": {
    "id": "SbmM4z7FOBpM"
   },
   "source": [
    "<div class=\"alert alert-block alert-warning\">\n",
    "<b>⚠️ The kernel is going to restart. Please wait until it is finished before continuing to the next step. ⚠️</b>\n",
    "</div>\n"
   ]
  },
  {
   "cell_type": "markdown",
   "metadata": {
    "id": "dmWOrTJ3gx13"
   },
   "source": [
    "### Authenticate your notebook environment (Colab only)\n",
    "\n",
    "If you are running this notebook on Google Colab, run the following cell to authenticate your environment. This step is not required if you are using [Vertex AI Workbench](https://cloud.google.com/vertex-ai-workbench).\n"
   ]
  },
  {
   "cell_type": "code",
   "execution_count": 1,
   "metadata": {
    "id": "NyKGtVQjgx13",
    "tags": []
   },
   "outputs": [],
   "source": [
    "import sys\n",
    "\n",
    "# Additional authentication is required for Google Colab\n",
    "if \"google.colab\" in sys.modules:\n",
    "    # Authenticate user to Google Cloud\n",
    "    from google.colab import auth\n",
    "\n",
    "    auth.authenticate_user()"
   ]
  },
  {
   "cell_type": "markdown",
   "metadata": {
    "id": "DF4l8DTdWgPY"
   },
   "source": [
    "### Set Google Cloud project information and initialize Vertex AI SDK\n",
    "\n",
    "To get started using Vertex AI, you must have an existing Google Cloud project and [enable the Vertex AI API](https://console.cloud.google.com/flows/enableapi?apiid=aiplatform.googleapis.com).\n",
    "\n",
    "Learn more about [setting up a project and a development environment](https://cloud.google.com/vertex-ai/docs/start/cloud-environment)."
   ]
  },
  {
   "cell_type": "code",
   "execution_count": 2,
   "metadata": {
    "id": "Nqwi-5ufWp_B",
    "tags": []
   },
   "outputs": [],
   "source": [
    "# Define project information\n",
    "PROJECT_ID = \"qwiklabs-gcp-00-8f9bc8d932c0\"  # @param {type:\"string\"}\n",
    "LOCATION = \"europe-west1\"  # @param {type:\"string\"}\n",
    "\n",
    "# Initialize Vertex AI\n",
    "import vertexai\n",
    "\n",
    "vertexai.init(project=PROJECT_ID, location=LOCATION)"
   ]
  },
  {
   "cell_type": "code",
   "execution_count": 21,
   "metadata": {
    "id": "Nqwi-5ufWp_B",
    "tags": []
   },
   "outputs": [
    {
     "name": "stdout",
     "output_type": "stream",
     "text": [
      "Please like share & subscribe to Techcps https://www.youtube.com/@techcps\n"
     ]
    }
   ],
   "source": [
    "# Please like share & subscribe to Techcps\n",
    "# YouTube https://www.youtube.com/@techcps\n",
    "\n",
    "print(\"Please like share & subscribe to Techcps https://www.youtube.com/@techcps\")"
   ]
  },
  {
   "cell_type": "markdown",
   "metadata": {
    "id": "jXHfaVS66_01"
   },
   "source": [
    "### Import libraries\n"
   ]
  },
  {
   "cell_type": "code",
   "execution_count": 3,
   "metadata": {
    "id": "lslYAvw37JGQ",
    "tags": []
   },
   "outputs": [],
   "source": [
    "import json\n",
    "\n",
    "from IPython.display import Markdown, display_pdf\n",
    "from vertexai.generative_models import (\n",
    "    GenerationConfig,\n",
    "    GenerativeModel,\n",
    "    HarmBlockThreshold,\n",
    "    HarmCategory,\n",
    "    Part,\n",
    ")"
   ]
  },
  {
   "cell_type": "markdown",
   "metadata": {
    "id": "FTMywdzUORIA"
   },
   "source": [
    "### Load the Gemini 1.5 Flash model\n",
    "\n",
    "Gemini 1.5 Flash (`gemini-1.5-flash`) is a multimodal model that supports multimodal prompts. You can include text, image(s), and video in your prompt requests and get text or code responses."
   ]
  },
  {
   "cell_type": "code",
   "execution_count": 4,
   "metadata": {
    "id": "lRyTw2iPhEXG",
    "tags": []
   },
   "outputs": [],
   "source": [
    "model = GenerativeModel(\n",
    "    \"gemini-1.5-flash\",\n",
    "    safety_settings={\n",
    "        HarmCategory.HARM_CATEGORY_DANGEROUS_CONTENT: HarmBlockThreshold.BLOCK_ONLY_HIGH\n",
    "    },\n",
    ")\n",
    "# This Generation Config sets the model to respond in JSON format.\n",
    "generation_config = GenerationConfig(\n",
    "    temperature=0.0, response_mime_type=\"application/json\"\n",
    ")"
   ]
  },
  {
   "cell_type": "markdown",
   "metadata": {
    "id": "lwvfMDEDVyKI"
   },
   "source": [
    "### Define helper function\n",
    "\n",
    "Define helper function to print the multimodal prompt"
   ]
  },
  {
   "cell_type": "code",
   "execution_count": 5,
   "metadata": {
    "id": "NQS13DI6Pjp6",
    "tags": []
   },
   "outputs": [],
   "source": [
    "PDF_MIME_TYPE = \"application/pdf\"\n",
    "\n",
    "\n",
    "def print_multimodal_prompt(contents: list) -> None:\n",
    "    \"\"\"\n",
    "    Given contents that would be sent to Gemini,\n",
    "    output the full multimodal prompt for ease of readability.\n",
    "    \"\"\"\n",
    "    for content in contents:\n",
    "        if not isinstance(content, Part):\n",
    "            print(content)\n",
    "        elif content.inline_data:\n",
    "            display_pdf(content.inline_data.data)\n",
    "        elif content.file_data:\n",
    "            gcs_url = (\n",
    "                \"https://storage.googleapis.com/\"\n",
    "                + content.file_data.file_uri.replace(\"gs://\", \"\").replace(\" \", \"%20\")\n",
    "            )\n",
    "            print(f\"PDF URL: {gcs_url}\")\n",
    "\n",
    "\n",
    "# Send Google Cloud Storage Document to Vertex AI\n",
    "def process_document(\n",
    "    prompt: str,\n",
    "    file_uri: str,\n",
    "    mime_type: str = PDF_MIME_TYPE,\n",
    "    generation_config: GenerationConfig | None = None,\n",
    "    print_prompt: bool = False,\n",
    "    print_raw_response: bool = False,\n",
    ") -> str:\n",
    "    # Load file directly from Google Cloud Storage\n",
    "    file_part = Part.from_uri(\n",
    "        uri=file_uri,\n",
    "        mime_type=mime_type,\n",
    "    )\n",
    "\n",
    "    # Load contents\n",
    "    contents = [file_part, prompt]\n",
    "\n",
    "    # Send to Gemini\n",
    "    response = model.generate_content(contents, generation_config=generation_config)\n",
    "\n",
    "    if print_prompt:\n",
    "        print(\"-------Prompt--------\")\n",
    "        print_multimodal_prompt(contents)\n",
    "\n",
    "    if print_raw_response:\n",
    "        print(\"\\n-------Raw Response--------\")\n",
    "        print(response)\n",
    "\n",
    "    return response.text"
   ]
  },
  {
   "cell_type": "markdown",
   "metadata": {
    "id": "Wy75sLb-yjNn"
   },
   "source": [
    "## Entity Extraction\n",
    "\n",
    "[Named Entity Extraction](https://en.wikipedia.org/wiki/Named-entity_recognition) is a technique of Natural Language Processing to identify specific fields and values from unstructured text. For example, you can find key-value pairs from a filled out form, or get all of the important data from an invoice categorized by the type."
   ]
  },
  {
   "cell_type": "markdown",
   "metadata": {
    "id": "7a75f6e4bd54"
   },
   "source": [
    "### Extract entities from an invoice\n",
    "\n",
    "In this example, you will use a sample invoice and get all of the information in JSON format.\n",
    "\n",
    "This is the prompt to be sent to Gemini along with the PDF document. Feel free to edit this for your specific use case."
   ]
  },
  {
   "cell_type": "code",
   "execution_count": 6,
   "metadata": {
    "id": "0841cb312d46",
    "tags": []
   },
   "outputs": [],
   "source": [
    "invoice_extraction_prompt = \"\"\"You are a document entity extraction specialist. Given a document, your task is to extract the text value of the following entities:\n",
    "{\n",
    "\t\"amount_paid_since_last_invoice\": \"\",\n",
    "\t\"carrier\": \"\",\n",
    "\t\"currency\": \"\",\n",
    "\t\"currency_exchange_rate\": \"\",\n",
    "\t\"delivery_date\": \"\",\n",
    "\t\"due_date\": \"\",\n",
    "\t\"freight_amount\": \"\",\n",
    "\t\"invoice_date\": \"\",\n",
    "\t\"invoice_id\": \"\",\n",
    "\t\"line_items\": [\n",
    "\t\t{\n",
    "\t\t\t\"amount\": \"\",\n",
    "\t\t\t\"description\": \"\",\n",
    "\t\t\t\"product_code\": \"\",\n",
    "\t\t\t\"purchase_order\": \"\",\n",
    "\t\t\t\"quantity\": \"\",\n",
    "\t\t\t\"unit\": \"\",\n",
    "\t\t\t\"unit_price\": \"\"\n",
    "\t\t}\n",
    "\t],\n",
    "\t\"net_amount\": \"\",\n",
    "\t\"payment_terms\": \"\",\n",
    "\t\"purchase_order\": \"\",\n",
    "\t\"receiver_address\": \"\",\n",
    "\t\"receiver_email\": \"\",\n",
    "\t\"receiver_name\": \"\",\n",
    "\t\"receiver_phone\": \"\",\n",
    "\t\"receiver_tax_id\": \"\",\n",
    "\t\"receiver_website\": \"\",\n",
    "\t\"remit_to_address\": \"\",\n",
    "\t\"remit_to_name\": \"\",\n",
    "\t\"ship_from_address\": \"\",\n",
    "\t\"ship_from_name\": \"\",\n",
    "\t\"ship_to_address\": \"\",\n",
    "\t\"ship_to_name\": \"\",\n",
    "\t\"supplier_address\": \"\",\n",
    "\t\"supplier_email\": \"\",\n",
    "\t\"supplier_iban\": \"\",\n",
    "\t\"supplier_name\": \"\",\n",
    "\t\"supplier_payment_ref\": \"\",\n",
    "\t\"supplier_phone\": \"\",\n",
    "\t\"supplier_registration\": \"\",\n",
    "\t\"supplier_tax_id\": \"\",\n",
    "\t\"supplier_website\": \"\",\n",
    "\t\"total_amount\": \"\",\n",
    "\t\"total_tax_amount\": \"\",\n",
    "\t\"vat\": [\n",
    "\t\t{\n",
    "\t\t\t\"amount\": \"\",\n",
    "\t\t\t\"category_code\": \"\",\n",
    "\t\t\t\"tax_amount\": \"\",\n",
    "\t\t\t\"tax_rate\": \"\",\n",
    "\t\t\t\"total_amount\": \"\"\n",
    "\t\t}\n",
    "\t]\n",
    "}\n",
    "\n",
    "- The JSON schema must be followed during the extraction.\n",
    "- The values must only include text found in the document\n",
    "- Do not normalize any entity value.\n",
    "- If an entity is not found in the document, set the entity value to null.\n",
    "\"\"\""
   ]
  },
  {
   "cell_type": "code",
   "execution_count": 7,
   "metadata": {
    "id": "42b044f767e3",
    "tags": []
   },
   "outputs": [
    {
     "name": "stdout",
     "output_type": "stream",
     "text": [
      "Copying gs://cloud-samples-data/generative-ai/pdf/invoice.pdf...\n",
      "/ [1 files][340.0 KiB/340.0 KiB]                                                \n",
      "Operation completed over 1 objects/340.0 KiB.                                    \n"
     ]
    }
   ],
   "source": [
    "# Download a PDF from Google Cloud Storage\n",
    "! gsutil cp \"gs://cloud-samples-data/generative-ai/pdf/invoice.pdf\" ./invoice.pdf"
   ]
  },
  {
   "cell_type": "code",
   "execution_count": 8,
   "metadata": {
    "id": "KzqjpEiryjNo",
    "tags": []
   },
   "outputs": [],
   "source": [
    "# Load file bytes\n",
    "with open(\"invoice.pdf\", \"rb\") as f:\n",
    "    file_part = Part.from_data(data=f.read(), mime_type=\"application/pdf\")\n",
    "\n",
    "# Load contents\n",
    "contents = [file_part, invoice_extraction_prompt]\n",
    "\n",
    "# Send to Gemini with GenerationConfig\n",
    "response = model.generate_content(contents, generation_config=generation_config)"
   ]
  },
  {
   "cell_type": "code",
   "execution_count": 9,
   "metadata": {
    "id": "63f7f16fabc7",
    "tags": []
   },
   "outputs": [
    {
     "name": "stdout",
     "output_type": "stream",
     "text": [
      "-------Prompt--------\n",
      "You are a document entity extraction specialist. Given a document, your task is to extract the text value of the following entities:\n",
      "{\n",
      "\t\"amount_paid_since_last_invoice\": \"\",\n",
      "\t\"carrier\": \"\",\n",
      "\t\"currency\": \"\",\n",
      "\t\"currency_exchange_rate\": \"\",\n",
      "\t\"delivery_date\": \"\",\n",
      "\t\"due_date\": \"\",\n",
      "\t\"freight_amount\": \"\",\n",
      "\t\"invoice_date\": \"\",\n",
      "\t\"invoice_id\": \"\",\n",
      "\t\"line_items\": [\n",
      "\t\t{\n",
      "\t\t\t\"amount\": \"\",\n",
      "\t\t\t\"description\": \"\",\n",
      "\t\t\t\"product_code\": \"\",\n",
      "\t\t\t\"purchase_order\": \"\",\n",
      "\t\t\t\"quantity\": \"\",\n",
      "\t\t\t\"unit\": \"\",\n",
      "\t\t\t\"unit_price\": \"\"\n",
      "\t\t}\n",
      "\t],\n",
      "\t\"net_amount\": \"\",\n",
      "\t\"payment_terms\": \"\",\n",
      "\t\"purchase_order\": \"\",\n",
      "\t\"receiver_address\": \"\",\n",
      "\t\"receiver_email\": \"\",\n",
      "\t\"receiver_name\": \"\",\n",
      "\t\"receiver_phone\": \"\",\n",
      "\t\"receiver_tax_id\": \"\",\n",
      "\t\"receiver_website\": \"\",\n",
      "\t\"remit_to_address\": \"\",\n",
      "\t\"remit_to_name\": \"\",\n",
      "\t\"ship_from_address\": \"\",\n",
      "\t\"ship_from_name\": \"\",\n",
      "\t\"ship_to_address\": \"\",\n",
      "\t\"ship_to_name\": \"\",\n",
      "\t\"supplier_address\": \"\",\n",
      "\t\"supplier_email\": \"\",\n",
      "\t\"supplier_iban\": \"\",\n",
      "\t\"supplier_name\": \"\",\n",
      "\t\"supplier_payment_ref\": \"\",\n",
      "\t\"supplier_phone\": \"\",\n",
      "\t\"supplier_registration\": \"\",\n",
      "\t\"supplier_tax_id\": \"\",\n",
      "\t\"supplier_website\": \"\",\n",
      "\t\"total_amount\": \"\",\n",
      "\t\"total_tax_amount\": \"\",\n",
      "\t\"vat\": [\n",
      "\t\t{\n",
      "\t\t\t\"amount\": \"\",\n",
      "\t\t\t\"category_code\": \"\",\n",
      "\t\t\t\"tax_amount\": \"\",\n",
      "\t\t\t\"tax_rate\": \"\",\n",
      "\t\t\t\"total_amount\": \"\"\n",
      "\t\t}\n",
      "\t]\n",
      "}\n",
      "\n",
      "- The JSON schema must be followed during the extraction.\n",
      "- The values must only include text found in the document\n",
      "- Do not normalize any entity value.\n",
      "- If an entity is not found in the document, set the entity value to null.\n",
      "\n",
      "\n",
      "-------Raw Response--------\n",
      "{\"amount_paid_since_last_invoice\": null, \"carrier\": null, \"currency\": \"$\", \"currency_exchange_rate\": null, \"delivery_date\": null, \"due_date\": null, \"freight_amount\": null, \"invoice_date\": \"02/23/2021\", \"invoice_id\": \"3222\", \"line_items\": [{\"amount\": \"490.12\", \"description\": \"Drag Series Transmission Build - A WD DSM\", \"product_code\": null, \"purchase_order\": null, \"quantity\": \"1\", \"unit\": null, \"unit_price\": \"490.12\"}, {\"amount\": \"220.15\", \"description\": \"Drive Shaft Automatic Right\", \"product_code\": null, \"purchase_order\": null, \"quantity\": \"7\", \"unit\": null, \"unit_price\": \"31.45\"}, {\"amount\": \"549.10\", \"description\": \"Multigrade Synthetic Technology Bench\", \"product_code\": null, \"purchase_order\": null, \"quantity\": \"1\", \"unit\": null, \"unit_price\": \"549.10\"}, {\"amount\": \"1,187.79\", \"description\": \"6689 Transit Stan\", \"product_code\": null, \"purchase_order\": null, \"quantity\": \"1\", \"unit\": null, \"unit_price\": \"1,187.79\"}, {\"amount\": \"883.12\", \"description\": \"HMT Vertical Milling Machine\", \"product_code\": null, \"purchase_order\": null, \"quantity\": \"1\", \"unit\": null, \"unit_price\": \"883.12\"}, {\"amount\": \"87.54\", \"description\": \"Optional:\\nHMT Machine\", \"product_code\": null, \"purchase_order\": null, \"quantity\": \"1\", \"unit\": null, \"unit_price\": \"87.54\"}], \"net_amount\": \"3,417.82\", \"payment_terms\": null, \"purchase_order\": null, \"receiver_address\": \"45 Lightning Road,\\nArizona, AZ 88776\", \"receiver_email\": \"proprietor@abcxyz.com\", \"receiver_name\": \"Martin Colby\", \"receiver_phone\": null, \"receiver_tax_id\": null, \"receiver_website\": null, \"remit_to_address\": null, \"remit_to_name\": null, \"ship_from_address\": null, \"ship_from_name\": null, \"ship_to_address\": \"45 Lightning Road,\\nArizona, AZ 88776\", \"ship_to_name\": \"Johnny Patel\", \"supplier_address\": \"9291 Proin Road\\nLake Charles, ME-11292\", \"supplier_email\": \"sales@amnoshsuppliers.com\", \"supplier_iban\": null, \"supplier_name\": \"AMNOSH\\nSUPPLIERS\", \"supplier_payment_ref\": null, \"supplier_phone\": \"123-456-7890\", \"supplier_registration\": null, \"supplier_tax_id\": null, \"supplier_website\": \"www.amnoshsuppliers.com\", \"total_amount\": \"3,759.60\", \"total_tax_amount\": \"341.78\", \"vat\": []}\n"
     ]
    }
   ],
   "source": [
    "print(\"-------Prompt--------\")\n",
    "print_multimodal_prompt(contents)\n",
    "\n",
    "print(\"\\n-------Raw Response--------\")\n",
    "print(response.text)"
   ]
  },
  {
   "cell_type": "markdown",
   "metadata": {
    "id": "c82b9d10e9d1"
   },
   "source": [
    "This response can then be parsed as JSON into a Python dictionary for use in other applications."
   ]
  },
  {
   "cell_type": "code",
   "execution_count": 10,
   "metadata": {
    "id": "ce9731cb0a84",
    "tags": []
   },
   "outputs": [
    {
     "name": "stdout",
     "output_type": "stream",
     "text": [
      "\n",
      "-------Parsed Entities--------\n",
      "{'amount_paid_since_last_invoice': None, 'carrier': None, 'currency': '$', 'currency_exchange_rate': None, 'delivery_date': None, 'due_date': None, 'freight_amount': None, 'invoice_date': '02/23/2021', 'invoice_id': '3222', 'line_items': [{'amount': '490.12', 'description': 'Drag Series Transmission Build - A WD DSM', 'product_code': None, 'purchase_order': None, 'quantity': '1', 'unit': None, 'unit_price': '490.12'}, {'amount': '220.15', 'description': 'Drive Shaft Automatic Right', 'product_code': None, 'purchase_order': None, 'quantity': '7', 'unit': None, 'unit_price': '31.45'}, {'amount': '549.10', 'description': 'Multigrade Synthetic Technology Bench', 'product_code': None, 'purchase_order': None, 'quantity': '1', 'unit': None, 'unit_price': '549.10'}, {'amount': '1,187.79', 'description': '6689 Transit Stan', 'product_code': None, 'purchase_order': None, 'quantity': '1', 'unit': None, 'unit_price': '1,187.79'}, {'amount': '883.12', 'description': 'HMT Vertical Milling Machine', 'product_code': None, 'purchase_order': None, 'quantity': '1', 'unit': None, 'unit_price': '883.12'}, {'amount': '87.54', 'description': 'Optional:\\nHMT Machine', 'product_code': None, 'purchase_order': None, 'quantity': '1', 'unit': None, 'unit_price': '87.54'}], 'net_amount': '3,417.82', 'payment_terms': None, 'purchase_order': None, 'receiver_address': '45 Lightning Road,\\nArizona, AZ 88776', 'receiver_email': 'proprietor@abcxyz.com', 'receiver_name': 'Martin Colby', 'receiver_phone': None, 'receiver_tax_id': None, 'receiver_website': None, 'remit_to_address': None, 'remit_to_name': None, 'ship_from_address': None, 'ship_from_name': None, 'ship_to_address': '45 Lightning Road,\\nArizona, AZ 88776', 'ship_to_name': 'Johnny Patel', 'supplier_address': '9291 Proin Road\\nLake Charles, ME-11292', 'supplier_email': 'sales@amnoshsuppliers.com', 'supplier_iban': None, 'supplier_name': 'AMNOSH\\nSUPPLIERS', 'supplier_payment_ref': None, 'supplier_phone': '123-456-7890', 'supplier_registration': None, 'supplier_tax_id': None, 'supplier_website': 'www.amnoshsuppliers.com', 'total_amount': '3,759.60', 'total_tax_amount': '341.78', 'vat': []}\n"
     ]
    }
   ],
   "source": [
    "print(\"\\n-------Parsed Entities--------\")\n",
    "json_object = json.loads(response.text)\n",
    "print(json_object)"
   ]
  },
  {
   "cell_type": "markdown",
   "metadata": {
    "id": "c7cdda6aa720"
   },
   "source": [
    "You can see that Gemini extracted all of the relevant fields from the document."
   ]
  },
  {
   "cell_type": "markdown",
   "metadata": {
    "id": "4dca9fa02c05"
   },
   "source": [
    "### Extract entities from a payslip\n",
    "\n",
    "Let's try with another type of document, a payslip or paystub."
   ]
  },
  {
   "cell_type": "code",
   "execution_count": 11,
   "metadata": {
    "id": "3ca20cd3f738",
    "tags": []
   },
   "outputs": [],
   "source": [
    "payslip_extraction_prompt = \"\"\"You are a document entity extraction specialist. Given a document, your task is to extract the text value of the following entities:\n",
    "{\n",
    "\"earning_item\": [\n",
    "{\n",
    "\"earning_rate\": \"\",\n",
    "\"earning_hours\": \"\",\n",
    "\"earning_type\": \"\",\n",
    "\"earning_this_period\": \"\"\n",
    "}\n",
    "],\n",
    "\"direct_deposit_item\": [\n",
    "{\n",
    "\"direct_deposit\": \"\",\n",
    "\"employee_account_number\": \"\"\n",
    "}\n",
    "],\n",
    "\"current_deduction\": \"\",\n",
    "\"ytd_deduction\": \"\",\n",
    "\"employee_id\": \"\",\n",
    "\"employee_name\": \"\",\n",
    "\"employer_name\": \"\",\n",
    "\"employer_address\": \"\",\n",
    "\"federal_additional_tax\": \"\",\n",
    "\"federal_allowance\": \"\",\n",
    "\"federal_marital_status\": \"\",\n",
    "\"gross_earnings\": \"\",\n",
    "\"gross_earnings_ytd\": \"\",\n",
    "\"net_pay\": \"\",\n",
    "\"net_pay_ytd\": \"\",\n",
    "\"ssn\": \"\",\n",
    "\"pay_date\": \"\",\n",
    "\"pay_period_end\": \"\",\n",
    "\"pay_period_start\": \"\",\n",
    "\"state_additional_tax\": \"\",\n",
    "\"state_allowance\": \"\",\n",
    "\"state_marital_status\": \"\",\n",
    "\"tax_item\": [\n",
    "{\n",
    "\"tax_this_period\": \"\",\n",
    "\"tax_type\": \"\",\n",
    "\"tax_ytd\": \"\"\n",
    "}\n",
    "]\n",
    "}\n",
    "\n",
    "- The JSON schema must be followed during the extraction.\n",
    "- The values must only include text strings found in the document.\n",
    "- Generate null for missing entities.\n",
    "\"\"\""
   ]
  },
  {
   "cell_type": "code",
   "execution_count": 12,
   "metadata": {
    "id": "06d34a6f08d9",
    "tags": []
   },
   "outputs": [
    {
     "name": "stdout",
     "output_type": "stream",
     "text": [
      "-------Prompt--------\n",
      "PDF URL: https://storage.googleapis.com/cloud-samples-data/generative-ai/pdf/earnings_statement.pdf\n",
      "You are a document entity extraction specialist. Given a document, your task is to extract the text value of the following entities:\n",
      "{\n",
      "\"earning_item\": [\n",
      "{\n",
      "\"earning_rate\": \"\",\n",
      "\"earning_hours\": \"\",\n",
      "\"earning_type\": \"\",\n",
      "\"earning_this_period\": \"\"\n",
      "}\n",
      "],\n",
      "\"direct_deposit_item\": [\n",
      "{\n",
      "\"direct_deposit\": \"\",\n",
      "\"employee_account_number\": \"\"\n",
      "}\n",
      "],\n",
      "\"current_deduction\": \"\",\n",
      "\"ytd_deduction\": \"\",\n",
      "\"employee_id\": \"\",\n",
      "\"employee_name\": \"\",\n",
      "\"employer_name\": \"\",\n",
      "\"employer_address\": \"\",\n",
      "\"federal_additional_tax\": \"\",\n",
      "\"federal_allowance\": \"\",\n",
      "\"federal_marital_status\": \"\",\n",
      "\"gross_earnings\": \"\",\n",
      "\"gross_earnings_ytd\": \"\",\n",
      "\"net_pay\": \"\",\n",
      "\"net_pay_ytd\": \"\",\n",
      "\"ssn\": \"\",\n",
      "\"pay_date\": \"\",\n",
      "\"pay_period_end\": \"\",\n",
      "\"pay_period_start\": \"\",\n",
      "\"state_additional_tax\": \"\",\n",
      "\"state_allowance\": \"\",\n",
      "\"state_marital_status\": \"\",\n",
      "\"tax_item\": [\n",
      "{\n",
      "\"tax_this_period\": \"\",\n",
      "\"tax_type\": \"\",\n",
      "\"tax_ytd\": \"\"\n",
      "}\n",
      "]\n",
      "}\n",
      "\n",
      "- The JSON schema must be followed during the extraction.\n",
      "- The values must only include text strings found in the document.\n",
      "- Generate null for missing entities.\n",
      "\n"
     ]
    }
   ],
   "source": [
    "response_text = process_document(\n",
    "    payslip_extraction_prompt,\n",
    "    \"gs://cloud-samples-data/generative-ai/pdf/earnings_statement.pdf\",\n",
    "    generation_config=generation_config,\n",
    "    print_prompt=True,\n",
    ")"
   ]
  },
  {
   "cell_type": "code",
   "execution_count": 13,
   "metadata": {
    "id": "230b3ae51289",
    "tags": []
   },
   "outputs": [
    {
     "name": "stdout",
     "output_type": "stream",
     "text": [
      "\n",
      "-------Parsed Entities--------\n",
      "{'earning_item': [{'earning_rate': '20', 'earning_hours': '80', 'earning_type': 'regular pay', 'earning_this_period': '1,600.00'}], 'direct_deposit_item': [], 'current_deduction': '160.00', 'ytd_deduction': '1,920.00', 'employee_id': '123456', 'employee_name': 'Janet Doe', 'employer_name': 'The Greatest Company LLC', 'employer_address': '176 Imaginary Ave\\nCambridge, ΜΑ 02138', 'federal_additional_tax': None, 'federal_allowance': None, 'federal_marital_status': None, 'gross_earnings': '1,600.00', 'gross_earnings_ytd': '19,200.00', 'net_pay': '1,060.80', 'net_pay_ytd': '12,729.60', 'ssn': 'XXX-XX-1234', 'pay_date': '12/15/17', 'pay_period_end': '12/12/17', 'pay_period_start': '11/10/17', 'state_additional_tax': None, 'state_allowance': None, 'state_marital_status': None, 'tax_item': [{'tax_this_period': '20.80', 'tax_type': 'FICA MED TAX', 'tax_ytd': '249.60'}, {'tax_this_period': '99.20', 'tax_type': 'FICA SS TAX', 'tax_ytd': '1190.40'}, {'tax_this_period': '179.20', 'tax_type': 'FED TAX', 'tax_ytd': '2150.40'}, {'tax_this_period': '80.00', 'tax_type': 'MA ST TAX', 'tax_ytd': '960.00'}]}\n"
     ]
    }
   ],
   "source": [
    "print(\"\\n-------Parsed Entities--------\")\n",
    "json_object = json.loads(response_text)\n",
    "print(json_object)"
   ]
  },
  {
   "cell_type": "markdown",
   "metadata": {
    "id": "Uhtahn_jTZKC"
   },
   "source": [
    "## Document Classification\n",
    "\n",
    "Document classification is the process for identifying the type of document. For example, invoice, W-2, receipt, etc.\n",
    "\n",
    "In this example, you will use a sample tax form (W-9) and get the specific type of document from a specified list."
   ]
  },
  {
   "cell_type": "code",
   "execution_count": 14,
   "metadata": {
    "id": "d797c2bfb490",
    "tags": []
   },
   "outputs": [],
   "source": [
    "classification_prompt = \"\"\"You are a document classification assistant. Given a document, your task is to find which category the document belongs to from the list of document categories provided below.\n",
    "\n",
    " 1040_2019\n",
    " 1040_2020\n",
    " 1099-r\n",
    " bank_statement\n",
    " credit_card_statement\n",
    " expense\n",
    " form_1120S_2019\n",
    " form_1120S_2020\n",
    " investment_retirement_statement\n",
    " invoice\n",
    " paystub\n",
    " property_insurance\n",
    " purchase_order\n",
    " utility_statement\n",
    " w2\n",
    " w9\n",
    " driver_license\n",
    "\n",
    "Which category does the above document belong to? Answer with one of the predefined document categories only.\n",
    "\"\"\""
   ]
  },
  {
   "cell_type": "code",
   "execution_count": 15,
   "metadata": {
    "id": "7dcab4a008a5",
    "tags": []
   },
   "outputs": [
    {
     "name": "stdout",
     "output_type": "stream",
     "text": [
      "-------Prompt--------\n",
      "PDF URL: https://storage.googleapis.com/cloud-samples-data/generative-ai/pdf/w9.pdf\n",
      "You are a document classification assistant. Given a document, your task is to find which category the document belongs to from the list of document categories provided below.\n",
      "\n",
      " 1040_2019\n",
      " 1040_2020\n",
      " 1099-r\n",
      " bank_statement\n",
      " credit_card_statement\n",
      " expense\n",
      " form_1120S_2019\n",
      " form_1120S_2020\n",
      " investment_retirement_statement\n",
      " invoice\n",
      " paystub\n",
      " property_insurance\n",
      " purchase_order\n",
      " utility_statement\n",
      " w2\n",
      " w9\n",
      " driver_license\n",
      "\n",
      "Which category does the above document belong to? Answer with one of the predefined document categories only.\n",
      "\n"
     ]
    }
   ],
   "source": [
    "response_text = process_document(\n",
    "    classification_prompt,\n",
    "    \"gs://cloud-samples-data/generative-ai/pdf/w9.pdf\",\n",
    "    print_prompt=True,\n",
    ")"
   ]
  },
  {
   "cell_type": "code",
   "execution_count": 16,
   "metadata": {
    "id": "200922ddac39",
    "tags": []
   },
   "outputs": [
    {
     "name": "stdout",
     "output_type": "stream",
     "text": [
      "\n",
      "-------Document Classification--------\n",
      "w9\n",
      "\n"
     ]
    }
   ],
   "source": [
    "print(\"\\n-------Document Classification--------\")\n",
    "print(response_text)"
   ]
  },
  {
   "cell_type": "markdown",
   "metadata": {
    "id": "d99b968e9faa"
   },
   "source": [
    "You can see that Gemini successfully categorized the document."
   ]
  },
  {
   "cell_type": "markdown",
   "metadata": {
    "id": "9c41c7273b66"
   },
   "source": [
    "### Chaining Classification and Extraction\n",
    "\n",
    "These techniques can also be chained together to extract any number of document types. For example, if you have multiple types of documents to process, you can send each document to Gemini with a classification prompt, then based on that output, you can write logic to decide which extraction prompt to use."
   ]
  },
  {
   "cell_type": "code",
   "execution_count": 17,
   "metadata": {
    "id": "69fd5883a812",
    "tags": []
   },
   "outputs": [],
   "source": [
    "generic_document_prompt = \"\"\"You are a document entity extraction specialist. Given a document, your task is to extract the text value of the following entities:\n",
    "\n",
    "{}\n",
    "\n",
    "- The JSON schema must be followed during the extraction.\n",
    "- The values must only include text found in the document\n",
    "- Do not normalize any entity value.\n",
    "- If an entity is not found in the document, set the entity value to null.\n",
    "\"\"\"\n",
    "\n",
    "w2_extraction_prompt = generic_document_prompt.format(\n",
    "    \"\"\"\n",
    "{\n",
    "    \"ControlNumber\": \"\",\n",
    "    \"EIN\": \"\",\n",
    "    \"EmployeeAddress_City\": \"\",\n",
    "    \"EmployeeAddress_State\": \"\",\n",
    "    \"EmployeeAddress_StreetAddressOrPostalBox\": \"\",\n",
    "    \"EmployeeAddress_Zip\": \"\",\n",
    "    \"EmployeeName_FirstName\": \"\",\n",
    "    \"EmployeeName_LastName\": \"\",\n",
    "    \"EmployerAddress_City\": \"\",\n",
    "    \"EmployerAddress_State\": \"\",\n",
    "    \"EmployerAddress_StreetAddressOrPostalBox\": \"\",\n",
    "    \"EmployerAddress_Zip\": \"\",\n",
    "    \"EmployerName\": \"\",\n",
    "    \"EmployerStateIdNumber_Line1\": \"\",\n",
    "    \"FederalIncomeTaxWithheld\": \"\",\n",
    "    \"FormYear\": \"\",\n",
    "    \"MedicareTaxWithheld\": \"\",\n",
    "    \"MedicareWagesAndTips\": \"\",\n",
    "    \"SocialSecurityTaxWithheld\": \"\",\n",
    "    \"SocialSecurityWages\": \"\",\n",
    "    \"StateIncomeTax_Line1\": \"\",\n",
    "    \"StateWagesTipsEtc_Line1\": \"\",\n",
    "    \"State_Line1\": \"\",\n",
    "    \"WagesTipsOtherCompensation\": \"\",\n",
    "    \"a_Code\": \"\",\n",
    "    \"a_Value\": \"\",\n",
    "}\n",
    "\"\"\"\n",
    ")\n",
    "\n",
    "drivers_license_prompt = generic_document_prompt.format(\n",
    "    \"\"\"\n",
    "{\n",
    "    \"Address\": \"\",\n",
    "    \"Date Of Birth\": \"\",\n",
    "    \"Document Id\": \"\",\n",
    "    \"Expiration Date\": \"\",\n",
    "    \"Family Name\": \"\",\n",
    "    \"Given Names\": \"\",\n",
    "    \"Issue Date\": \"\",\n",
    "}\n",
    "\"\"\"\n",
    ")\n",
    "\n",
    "# Map classification types to extraction prompts\n",
    "classification_to_prompt = {\n",
    "    \"invoice\": invoice_extraction_prompt,\n",
    "    \"w2\": w2_extraction_prompt,\n",
    "    \"driver_license\": drivers_license_prompt,\n",
    "}"
   ]
  },
  {
   "cell_type": "code",
   "execution_count": 18,
   "metadata": {
    "id": "2c806b4d757e",
    "tags": []
   },
   "outputs": [
    {
     "name": "stdout",
     "output_type": "stream",
     "text": [
      "\n",
      "File: gs://cloud-samples-data/documentai/SampleDocuments/US_DRIVER_LICENSE_PROCESSOR/dl3.pdf\n",
      "\n",
      "Document Classification: driver_license\n",
      "-------Prompt--------\n",
      "PDF URL: https://storage.googleapis.com/cloud-samples-data/documentai/SampleDocuments/US_DRIVER_LICENSE_PROCESSOR/dl3.pdf\n",
      "You are a document entity extraction specialist. Given a document, your task is to extract the text value of the following entities:\n",
      "\n",
      "\n",
      "{\n",
      "    \"Address\": \"\",\n",
      "    \"Date Of Birth\": \"\",\n",
      "    \"Document Id\": \"\",\n",
      "    \"Expiration Date\": \"\",\n",
      "    \"Family Name\": \"\",\n",
      "    \"Given Names\": \"\",\n",
      "    \"Issue Date\": \"\",\n",
      "}\n",
      "\n",
      "\n",
      "- The JSON schema must be followed during the extraction.\n",
      "- The values must only include text found in the document\n",
      "- Do not normalize any entity value.\n",
      "- If an entity is not found in the document, set the entity value to null.\n",
      "\n",
      "\n",
      "-------Extracted Entities--------\n",
      "{'Address': '123 MAIN STREET\\nHELENA, MT 59601', 'Date Of Birth': '08/04/1968', 'Document Id': '0812319684104', 'Expiration Date': '08/04/2023', 'Family Name': 'LYNN', 'Given Names': 'BRENDA', 'Issue Date': '02/15/2015'}\n",
      "\n",
      "File: gs://cloud-samples-data/documentai/SampleDocuments/INVOICE_PROCESSOR/google_invoice.pdf\n",
      "\n",
      "Document Classification: invoice\n",
      "-------Prompt--------\n",
      "PDF URL: https://storage.googleapis.com/cloud-samples-data/documentai/SampleDocuments/INVOICE_PROCESSOR/google_invoice.pdf\n",
      "You are a document entity extraction specialist. Given a document, your task is to extract the text value of the following entities:\n",
      "{\n",
      "\t\"amount_paid_since_last_invoice\": \"\",\n",
      "\t\"carrier\": \"\",\n",
      "\t\"currency\": \"\",\n",
      "\t\"currency_exchange_rate\": \"\",\n",
      "\t\"delivery_date\": \"\",\n",
      "\t\"due_date\": \"\",\n",
      "\t\"freight_amount\": \"\",\n",
      "\t\"invoice_date\": \"\",\n",
      "\t\"invoice_id\": \"\",\n",
      "\t\"line_items\": [\n",
      "\t\t{\n",
      "\t\t\t\"amount\": \"\",\n",
      "\t\t\t\"description\": \"\",\n",
      "\t\t\t\"product_code\": \"\",\n",
      "\t\t\t\"purchase_order\": \"\",\n",
      "\t\t\t\"quantity\": \"\",\n",
      "\t\t\t\"unit\": \"\",\n",
      "\t\t\t\"unit_price\": \"\"\n",
      "\t\t}\n",
      "\t],\n",
      "\t\"net_amount\": \"\",\n",
      "\t\"payment_terms\": \"\",\n",
      "\t\"purchase_order\": \"\",\n",
      "\t\"receiver_address\": \"\",\n",
      "\t\"receiver_email\": \"\",\n",
      "\t\"receiver_name\": \"\",\n",
      "\t\"receiver_phone\": \"\",\n",
      "\t\"receiver_tax_id\": \"\",\n",
      "\t\"receiver_website\": \"\",\n",
      "\t\"remit_to_address\": \"\",\n",
      "\t\"remit_to_name\": \"\",\n",
      "\t\"ship_from_address\": \"\",\n",
      "\t\"ship_from_name\": \"\",\n",
      "\t\"ship_to_address\": \"\",\n",
      "\t\"ship_to_name\": \"\",\n",
      "\t\"supplier_address\": \"\",\n",
      "\t\"supplier_email\": \"\",\n",
      "\t\"supplier_iban\": \"\",\n",
      "\t\"supplier_name\": \"\",\n",
      "\t\"supplier_payment_ref\": \"\",\n",
      "\t\"supplier_phone\": \"\",\n",
      "\t\"supplier_registration\": \"\",\n",
      "\t\"supplier_tax_id\": \"\",\n",
      "\t\"supplier_website\": \"\",\n",
      "\t\"total_amount\": \"\",\n",
      "\t\"total_tax_amount\": \"\",\n",
      "\t\"vat\": [\n",
      "\t\t{\n",
      "\t\t\t\"amount\": \"\",\n",
      "\t\t\t\"category_code\": \"\",\n",
      "\t\t\t\"tax_amount\": \"\",\n",
      "\t\t\t\"tax_rate\": \"\",\n",
      "\t\t\t\"total_amount\": \"\"\n",
      "\t\t}\n",
      "\t]\n",
      "}\n",
      "\n",
      "- The JSON schema must be followed during the extraction.\n",
      "- The values must only include text found in the document\n",
      "- Do not normalize any entity value.\n",
      "- If an entity is not found in the document, set the entity value to null.\n",
      "\n",
      "\n",
      "-------Extracted Entities--------\n",
      "{'amount_paid_since_last_invoice': None, 'carrier': None, 'currency': '$', 'currency_exchange_rate': None, 'delivery_date': None, 'due_date': 'Sep 30, 2019', 'freight_amount': '199.99', 'invoice_date': 'Sep 24, 2019', 'invoice_id': '23413561D', 'line_items': [{'amount': '119.88', 'description': '12 ft HDMI cable', 'product_code': None, 'purchase_order': None, 'quantity': '12', 'unit': None, 'unit_price': '9.99'}, {'amount': '4,799.88', 'description': '27\" Computer Monitor', 'product_code': None, 'purchase_order': None, 'quantity': '12', 'unit': None, 'unit_price': '399.99'}, {'amount': '719.88', 'description': 'Ergonomic Keyboard', 'product_code': None, 'purchase_order': None, 'quantity': '12', 'unit': None, 'unit_price': '59.99'}, {'amount': '239.88', 'description': 'Optical mouse', 'product_code': None, 'purchase_order': None, 'quantity': '12', 'unit': None, 'unit_price': '19.99'}, {'amount': '15,599.88', 'description': 'Laptop', 'product_code': None, 'purchase_order': None, 'quantity': '12', 'unit': None, 'unit_price': '1,299.99'}, {'amount': '899.99', 'description': 'Misc processing fees', 'product_code': None, 'purchase_order': None, 'quantity': '1', 'unit': None, 'unit_price': '899.99'}], 'net_amount': '22,379.39', 'payment_terms': None, 'purchase_order': None, 'receiver_address': '1600 Amphitheatre Pkway\\nMountain View, CA 94043', 'receiver_email': None, 'receiver_name': 'Jane Smith,', 'receiver_phone': None, 'receiver_tax_id': None, 'receiver_website': None, 'remit_to_address': None, 'remit_to_name': None, 'ship_from_address': None, 'ship_from_name': None, 'ship_to_address': None, 'ship_to_name': None, 'supplier_address': None, 'supplier_email': None, 'supplier_iban': None, 'supplier_name': 'Google', 'supplier_payment_ref': None, 'supplier_phone': None, 'supplier_registration': None, 'supplier_tax_id': None, 'supplier_website': None, 'total_amount': '19,647.68', 'total_tax_amount': '1,767.97', 'vat': [{'amount': None, 'category_code': None, 'tax_amount': '1,767.97', 'tax_rate': '10%', 'total_amount': None}]}\n",
      "\n",
      "File: gs://cloud-samples-data/documentai/SampleDocuments/FORM_W2_PROCESSOR/2020FormW-2.pdf\n",
      "\n",
      "Document Classification: w2\n",
      "-------Prompt--------\n",
      "PDF URL: https://storage.googleapis.com/cloud-samples-data/documentai/SampleDocuments/FORM_W2_PROCESSOR/2020FormW-2.pdf\n",
      "You are a document entity extraction specialist. Given a document, your task is to extract the text value of the following entities:\n",
      "\n",
      "\n",
      "{\n",
      "    \"ControlNumber\": \"\",\n",
      "    \"EIN\": \"\",\n",
      "    \"EmployeeAddress_City\": \"\",\n",
      "    \"EmployeeAddress_State\": \"\",\n",
      "    \"EmployeeAddress_StreetAddressOrPostalBox\": \"\",\n",
      "    \"EmployeeAddress_Zip\": \"\",\n",
      "    \"EmployeeName_FirstName\": \"\",\n",
      "    \"EmployeeName_LastName\": \"\",\n",
      "    \"EmployerAddress_City\": \"\",\n",
      "    \"EmployerAddress_State\": \"\",\n",
      "    \"EmployerAddress_StreetAddressOrPostalBox\": \"\",\n",
      "    \"EmployerAddress_Zip\": \"\",\n",
      "    \"EmployerName\": \"\",\n",
      "    \"EmployerStateIdNumber_Line1\": \"\",\n",
      "    \"FederalIncomeTaxWithheld\": \"\",\n",
      "    \"FormYear\": \"\",\n",
      "    \"MedicareTaxWithheld\": \"\",\n",
      "    \"MedicareWagesAndTips\": \"\",\n",
      "    \"SocialSecurityTaxWithheld\": \"\",\n",
      "    \"SocialSecurityWages\": \"\",\n",
      "    \"StateIncomeTax_Line1\": \"\",\n",
      "    \"StateWagesTipsEtc_Line1\": \"\",\n",
      "    \"State_Line1\": \"\",\n",
      "    \"WagesTipsOtherCompensation\": \"\",\n",
      "    \"a_Code\": \"\",\n",
      "    \"a_Value\": \"\",\n",
      "}\n",
      "\n",
      "\n",
      "- The JSON schema must be followed during the extraction.\n",
      "- The values must only include text found in the document\n",
      "- Do not normalize any entity value.\n",
      "- If an entity is not found in the document, set the entity value to null.\n",
      "\n",
      "\n",
      "-------Extracted Entities--------\n",
      "{'ControlNumber': 'GN1851', 'EIN': '63-0065650', 'EmployeeAddress_City': 'Waseca', 'EmployeeAddress_State': 'MN', 'EmployeeAddress_StreetAddressOrPostalBox': '200 2nd Street NE', 'EmployeeAddress_Zip': '56093', 'EmployeeName_FirstName': 'Anastasia', 'EmployeeName_LastName': 'Hodges', 'EmployerAddress_City': 'Wooster', 'EmployerAddress_State': 'OH', 'EmployerAddress_StreetAddressOrPostalBox': '151 N Market Street', 'EmployerAddress_Zip': '44691', 'EmployerName': 'NORTH 312', 'EmployerStateIdNumber_Line1': '00-0-0960', 'FederalIncomeTaxWithheld': '2,841.32', 'FormYear': '2020', 'MedicareTaxWithheld': '353.95', 'MedicareWagesAndTips': '24,410.00', 'SocialSecurityTaxWithheld': '1,513.42', 'SocialSecurityWages': '24,410.00', 'StateIncomeTax_Line1': '244.10', 'StateWagesTipsEtc_Line1': '24,410.00', 'State_Line1': 'MN', 'WagesTipsOtherCompensation': '23,677.70', 'a_Code': 'C', 'a_Value': '2,929.20'}\n"
     ]
    }
   ],
   "source": [
    "gcs_uris = [\n",
    "    \"gs://cloud-samples-data/documentai/SampleDocuments/US_DRIVER_LICENSE_PROCESSOR/dl3.pdf\",\n",
    "    \"gs://cloud-samples-data/documentai/SampleDocuments/INVOICE_PROCESSOR/google_invoice.pdf\",\n",
    "    \"gs://cloud-samples-data/documentai/SampleDocuments/FORM_W2_PROCESSOR/2020FormW-2.pdf\",\n",
    "]\n",
    "\n",
    "for gcs_uri in gcs_uris:\n",
    "    print(f\"\\nFile: {gcs_uri}\\n\")\n",
    "\n",
    "    # Send to Gemini with Classification Prompt\n",
    "    doc_classification = process_document(classification_prompt, gcs_uri).strip()\n",
    "\n",
    "    print(f\"Document Classification: {doc_classification}\")\n",
    "\n",
    "    # Get Extraction prompt based on Classification\n",
    "    extraction_prompt = classification_to_prompt.get(doc_classification)\n",
    "\n",
    "    if not extraction_prompt:\n",
    "        print(f\"Document does not belong to a specified class {doc_classification}\")\n",
    "        continue\n",
    "\n",
    "    # Send to Gemini with Extraction Prompt\n",
    "    extraction_response_text = process_document(\n",
    "        extraction_prompt,\n",
    "        gcs_uri,\n",
    "        generation_config=generation_config,\n",
    "        print_prompt=True,\n",
    "    ).strip()\n",
    "\n",
    "    print(\"\\n-------Extracted Entities--------\")\n",
    "    json_object = json.loads(extraction_response_text)\n",
    "    print(json_object)"
   ]
  },
  {
   "cell_type": "markdown",
   "metadata": {
    "id": "322abdb6d63d"
   },
   "source": [
    "## Document Question Answering\n",
    "\n",
    "Gemini can be used to answer questions about a document.\n",
    "\n",
    "This example answers a question about the Transformer model paper \"Attention is all you need\"."
   ]
  },
  {
   "cell_type": "code",
   "execution_count": 19,
   "metadata": {
    "id": "f47a8b63ce13",
    "tags": []
   },
   "outputs": [],
   "source": [
    "qa_prompt = \"\"\"What is attention in the context of transformer models? Give me the answer first, followed by an explanation.\"\"\""
   ]
  },
  {
   "cell_type": "code",
   "execution_count": 22,
   "metadata": {
    "id": "636f158c24fb",
    "tags": []
   },
   "outputs": [
    {
     "name": "stdout",
     "output_type": "stream",
     "text": [
      "Answer: Attention in the context of transformer models is a mechanism that allows the model to focus on specific parts of the input sequence when generating the output sequence. It is a key component of the transformer architecture, which has achieved state-of-the-art results in various natural language processing tasks, such as machine translation.\n",
      "\n",
      "Here's a more detailed explanation:\n",
      "\n",
      "* **Self-attention:** In transformer models, self-attention allows the model to attend to different parts of the same input sequence. This helps the model understand the relationships between words and phrases in a sentence, even if they are far apart.\n",
      "* **Multi-head attention:** The transformer architecture uses multiple attention heads, each of which attends to a different subset of the input sequence. This allows the model to capture a more comprehensive understanding of the input sequence and to generate more nuanced output.\n",
      "* **Scaled dot-product attention:** The transformer architecture uses scaled dot-product attention, which is a specific type of attention mechanism that calculates the attention weights by computing the dot product between the query and key vectors. The weights are then normalized using a softmax function. \n",
      "* **Query, Key, and Value:** In attention mechanisms, the query, key, and value vectors are used to calculate the attention weights. The query vector represents the current input, the key vector represents the relevant context, and the value vector represents the information that should be retrieved from the context.\n",
      "\n",
      "In summary, attention in transformer models is a powerful mechanism that allows the model to learn long-range dependencies in the input sequence and to generate more accurate and coherent output. It has been a key factor in the success of the transformer architecture in various natural language processing tasks.\n",
      "\n"
     ]
    }
   ],
   "source": [
    "# Send Q&A Prompt to Gemini\n",
    "response_text = process_document(\n",
    "    qa_prompt,\n",
    "    \"gs://cloud-samples-data/generative-ai/pdf/1706.03762v7.pdf\",\n",
    ")\n",
    "\n",
    "print(f\"Answer: {response_text}\")"
   ]
  },
  {
   "cell_type": "markdown",
   "metadata": {
    "id": "d5881bdeb3b0"
   },
   "source": [
    "## Document Summarization\n",
    "\n",
    "Gemini can also be used to summarize or paraphrase a document's contents. Your prompt can specify how detailed the summary should be or specific formatting, such as bullet points or paragraphs."
   ]
  },
  {
   "cell_type": "code",
   "execution_count": 23,
   "metadata": {
    "id": "85b23b916ffa",
    "tags": []
   },
   "outputs": [],
   "source": [
    "summarization_prompt = \"\"\"You are a very professional document summarization specialist. Given a document, your task is to provide a detailed summary of the content of the document.\n",
    "\n",
    "If it includes images, provide descriptions of the images.\n",
    "If it includes tables, extract all elements of the tables.\n",
    "If it includes graphs, explain the findings in the graphs.\n",
    "Do not include any numbers that are not mentioned in the document.\n",
    "\"\"\""
   ]
  },
  {
   "cell_type": "code",
   "execution_count": 24,
   "metadata": {
    "id": "01c2c8c947e0",
    "tags": []
   },
   "outputs": [
    {
     "name": "stdout",
     "output_type": "stream",
     "text": [
      "Summarization: The document is a speech by FDIC Chairman Jelena McWilliams on the Notice of Proposed Rulemaking on Revisions to the Community Reinvestment Act Regulations. \n",
      "\n",
      "The speech highlights the need for updating the Community Reinvestment Act (CRA) regulations to reflect changes in the banking industry and ensure that they continue to serve the needs of low- and moderate-income (LMI) communities. The proposed rulemaking aims to achieve this goal by:\n",
      "\n",
      "* Encouraging banks to make long-term commitments in LMI communities by providing greater credit for retail loans retained on-balance sheet.\n",
      "* Increasing the size of qualifying loans to small businesses and small farms to encourage economic development and job creation.\n",
      "* Providing CRA credit for retail and community development activities in Indian Country.\n",
      "* Expanding the activities that qualify for CRA credit to include capital investments and loan participations undertaken by a bank in cooperation with Community Development Financial Institutions (CDFIs).\n",
      "\n",
      "The proposal also clarifies the activities that qualify for CRA credit, establishes new performance standards to assess the distribution of qualifying loans and the quantified value of the bank's qualifying activities, and requires banks to add assessment areas where they have significant concentrations of retail domestic deposits.\n",
      "\n",
      "The proposal would leave intact existing provisions for banks to delineate assessment areas where they have their main office, branches, and deposit-taking facilities, and to include in those areas the surrounding geographies where banks originate or purchase a substantial portion of their loans.\n",
      "\n",
      "Finally, the proposal would ensure that small banks are not overly burdened by the need to overhaul their existing systems or collect and report extensive data to comply with the new framework. Accordingly, the proposal would allow small banks to select to be evaluated under the current rules or to opt in to the new performance standards.\n",
      "\n",
      "\n",
      "The speech concludes by emphasizing the need for robust public comment on the proposal. The FDIC Chair acknowledges the collaboration and coordination among the FDIC, OCC, and Federal Reserve Board in developing the proposal, and expresses appreciation for the engagement and recommendations of the Federal Reserve Board, even though they have not joined the proposal at this time. \n",
      "\n",
      "The document does not include any images, tables, or graphs. \n",
      "\n"
     ]
    }
   ],
   "source": [
    "# Send Summarization Prompt to Gemini\n",
    "response_text = process_document(\n",
    "    summarization_prompt,\n",
    "    \"gs://cloud-samples-data/generative-ai/pdf/fdic_board_meeting.pdf\",\n",
    ")\n",
    "\n",
    "print(f\"Summarization: {response_text}\")"
   ]
  },
  {
   "cell_type": "markdown",
   "metadata": {
    "id": "85015f00a36f"
   },
   "source": [
    "## Table parsing from documents\n",
    "\n",
    "Gemini can parse contents of a table and return it in a structured format, such as HTML or markdown."
   ]
  },
  {
   "cell_type": "code",
   "execution_count": 25,
   "metadata": {
    "id": "b780755d42e0",
    "tags": []
   },
   "outputs": [],
   "source": [
    "table_extraction_prompt = \"\"\"What is the html code of the table in this document?\"\"\""
   ]
  },
  {
   "cell_type": "code",
   "execution_count": 26,
   "metadata": {
    "id": "2ad318a19c6a",
    "tags": []
   },
   "outputs": [
    {
     "data": {
      "text/markdown": [
       "```html\n",
       "<table border=\"1\">\n",
       "  <thead>\n",
       "    <tr>\n",
       "      <th rowspan=\"2\">Grade</th>\n",
       "      <th colspan=\"10\">Annual Rates by Grade and Step</th>\n",
       "      <th rowspan=\"2\">WITHIN GRADE AMOUNTS</th>\n",
       "    </tr>\n",
       "    <tr>\n",
       "      <th>Step 1</th>\n",
       "      <th>Step 2</th>\n",
       "      <th>Step 3</th>\n",
       "      <th>Step 4</th>\n",
       "      <th>Step 5</th>\n",
       "      <th>Step 6</th>\n",
       "      <th>Step 7</th>\n",
       "      <th>Step 8</th>\n",
       "      <th>Step 9</th>\n",
       "      <th>Step 10</th>\n",
       "    </tr>\n",
       "  </thead>\n",
       "  <tbody>\n",
       "    <tr>\n",
       "      <td>1</td>\n",
       "      <td>$ 20,999</td>\n",
       "      <td>$ 21,704</td>\n",
       "      <td>$ 22,401</td>\n",
       "      <td>$ 23,097</td>\n",
       "      <td>$ 23,794</td>\n",
       "      <td>$ 24,202</td>\n",
       "      <td>$ 24,893</td>\n",
       "      <td>$ 25,589</td>\n",
       "      <td>$ 25,617</td>\n",
       "      <td>$ 26,273</td>\n",
       "      <td>VARIES</td>\n",
       "    </tr>\n",
       "    <tr>\n",
       "      <td>2</td>\n",
       "      <td>23,612</td>\n",
       "      <td>24,174</td>\n",
       "      <td>24,956</td>\n",
       "      <td>25,617</td>\n",
       "      <td>25,906</td>\n",
       "      <td>26,668</td>\n",
       "      <td>27,430</td>\n",
       "      <td>28,192</td>\n",
       "      <td>28,954</td>\n",
       "      <td>29,716</td>\n",
       "      <td>VARIES</td>\n",
       "    </tr>\n",
       "    <tr>\n",
       "      <td>3</td>\n",
       "      <td>25,764</td>\n",
       "      <td>26,623</td>\n",
       "      <td>27,482</td>\n",
       "      <td>28,341</td>\n",
       "      <td>29,200</td>\n",
       "      <td>30,059</td>\n",
       "      <td>30,918</td>\n",
       "      <td>31,777</td>\n",
       "      <td>32,636</td>\n",
       "      <td>33,495</td>\n",
       "      <td>859</td>\n",
       "    </tr>\n",
       "    <tr>\n",
       "      <td>4</td>\n",
       "      <td>28,921</td>\n",
       "      <td>29,885</td>\n",
       "      <td>30,849</td>\n",
       "      <td>31,813</td>\n",
       "      <td>32,777</td>\n",
       "      <td>33,741</td>\n",
       "      <td>34,705</td>\n",
       "      <td>35,669</td>\n",
       "      <td>36,633</td>\n",
       "      <td>37,597</td>\n",
       "      <td>964</td>\n",
       "    </tr>\n",
       "    <tr>\n",
       "      <td>5</td>\n",
       "      <td>32,357</td>\n",
       "      <td>33,436</td>\n",
       "      <td>34,515</td>\n",
       "      <td>35,594</td>\n",
       "      <td>36,673</td>\n",
       "      <td>37,752</td>\n",
       "      <td>38,831</td>\n",
       "      <td>39,910</td>\n",
       "      <td>40,989</td>\n",
       "      <td>42,068</td>\n",
       "      <td>1,079</td>\n",
       "    </tr>\n",
       "    <tr>\n",
       "      <td>6</td>\n",
       "      <td>36,070</td>\n",
       "      <td>37,272</td>\n",
       "      <td>38,474</td>\n",
       "      <td>39,676</td>\n",
       "      <td>40,878</td>\n",
       "      <td>42,080</td>\n",
       "      <td>43,282</td>\n",
       "      <td>44,484</td>\n",
       "      <td>45,686</td>\n",
       "      <td>46,888</td>\n",
       "      <td>1,202</td>\n",
       "    </tr>\n",
       "    <tr>\n",
       "      <td>7</td>\n",
       "      <td>40,082</td>\n",
       "      <td>41,418</td>\n",
       "      <td>42,754</td>\n",
       "      <td>44,090</td>\n",
       "      <td>45,426</td>\n",
       "      <td>46,762</td>\n",
       "      <td>48,098</td>\n",
       "      <td>49,434</td>\n",
       "      <td>50,770</td>\n",
       "      <td>52,106</td>\n",
       "      <td>1,336</td>\n",
       "    </tr>\n",
       "    <tr>\n",
       "      <td>8</td>\n",
       "      <td>44,389</td>\n",
       "      <td>45,869</td>\n",
       "      <td>47,349</td>\n",
       "      <td>48,829</td>\n",
       "      <td>50,309</td>\n",
       "      <td>51,789</td>\n",
       "      <td>53,269</td>\n",
       "      <td>54,749</td>\n",
       "      <td>56,229</td>\n",
       "      <td>57,709</td>\n",
       "      <td>1,480</td>\n",
       "    </tr>\n",
       "    <tr>\n",
       "      <td>9</td>\n",
       "      <td>49,028</td>\n",
       "      <td>50,662</td>\n",
       "      <td>52,296</td>\n",
       "      <td>53,930</td>\n",
       "      <td>55,564</td>\n",
       "      <td>57,198</td>\n",
       "      <td>58,832</td>\n",
       "      <td>60,466</td>\n",
       "      <td>62,100</td>\n",
       "      <td>63,734</td>\n",
       "      <td>1,634</td>\n",
       "    </tr>\n",
       "    <tr>\n",
       "      <td>10</td>\n",
       "      <td>53,990</td>\n",
       "      <td>55,790</td>\n",
       "      <td>57,590</td>\n",
       "      <td>59,390</td>\n",
       "      <td>61,190</td>\n",
       "      <td>62,990</td>\n",
       "      <td>64,790</td>\n",
       "      <td>66,590</td>\n",
       "      <td>68,390</td>\n",
       "      <td>70,190</td>\n",
       "      <td>1,800</td>\n",
       "    </tr>\n",
       "    <tr>\n",
       "      <td>11</td>\n",
       "      <td>59,319</td>\n",
       "      <td>61,296</td>\n",
       "      <td>63,273</td>\n",
       "      <td>65,250</td>\n",
       "      <td>67,227</td>\n",
       "      <td>69,204</td>\n",
       "      <td>71,181</td>\n",
       "      <td>73,158</td>\n",
       "      <td>75,135</td>\n",
       "      <td>77,112</td>\n",
       "      <td>1,977</td>\n",
       "    </tr>\n",
       "    <tr>\n",
       "      <td>12</td>\n",
       "      <td>71,099</td>\n",
       "      <td>73,469</td>\n",
       "      <td>75,839</td>\n",
       "      <td>78,209</td>\n",
       "      <td>80,579</td>\n",
       "      <td>82,949</td>\n",
       "      <td>85,319</td>\n",
       "      <td>87,689</td>\n",
       "      <td>90,059</td>\n",
       "      <td>92,429</td>\n",
       "      <td>2,370</td>\n",
       "    </tr>\n",
       "    <tr>\n",
       "      <td>13</td>\n",
       "      <td>84,546</td>\n",
       "      <td>87,364</td>\n",
       "      <td>90,182</td>\n",
       "      <td>93,000</td>\n",
       "      <td>95,818</td>\n",
       "      <td>98,636</td>\n",
       "      <td>101,454</td>\n",
       "      <td>104,272</td>\n",
       "      <td>107,090</td>\n",
       "      <td>109,908</td>\n",
       "      <td>2,818</td>\n",
       "    </tr>\n",
       "    <tr>\n",
       "      <td>14</td>\n",
       "      <td>99,908</td>\n",
       "      <td>103,238</td>\n",
       "      <td>106,568</td>\n",
       "      <td>109,898</td>\n",
       "      <td>113,228</td>\n",
       "      <td>116,558</td>\n",
       "      <td>119,888</td>\n",
       "      <td>123,218</td>\n",
       "      <td>126,548</td>\n",
       "      <td>129,878</td>\n",
       "      <td>3,330</td>\n",
       "    </tr>\n",
       "    <tr>\n",
       "      <td>15</td>\n",
       "      <td>117,518</td>\n",
       "      <td>121,435</td>\n",
       "      <td>125,352</td>\n",
       "      <td>129,269</td>\n",
       "      <td>133,186</td>\n",
       "      <td>137,103</td>\n",
       "      <td>141,020</td>\n",
       "      <td>144,937</td>\n",
       "      <td>148,854</td>\n",
       "      <td>152,771</td>\n",
       "      <td>3,917</td>\n",
       "    </tr>\n",
       "  </tbody>\n",
       "</table>\n",
       "```"
      ],
      "text/plain": [
       "<IPython.core.display.Markdown object>"
      ]
     },
     "metadata": {},
     "output_type": "display_data"
    }
   ],
   "source": [
    "# Send Table Extraction Prompt to Gemini\n",
    "response_text = process_document(\n",
    "    table_extraction_prompt,\n",
    "    \"gs://cloud-samples-data/generative-ai/pdf/salary_table.pdf\",\n",
    ")\n",
    "display(Markdown(response_text))"
   ]
  },
  {
   "cell_type": "markdown",
   "metadata": {
    "id": "1ebe7318abf6"
   },
   "source": [
    "## Document Translation\n",
    "\n",
    "Gemini can translate documents between languages. This example translates meeting notes from English into French and Spanish."
   ]
  },
  {
   "cell_type": "code",
   "execution_count": 27,
   "metadata": {
    "id": "c03f55376e76",
    "tags": []
   },
   "outputs": [],
   "source": [
    "translation_prompt = \"\"\"Translate the first paragraph into French and Spanish. Label each paragraph with the target language.\"\"\""
   ]
  },
  {
   "cell_type": "code",
   "execution_count": null,
   "metadata": {
    "id": "0e22d1c06508",
    "tags": []
   },
   "outputs": [],
   "source": [
    "# Send Translation Prompt to Gemini\n",
    "response_text = process_document(\n",
    "    translation_prompt,\n",
    "    \"gs://cloud-samples-data/generative-ai/pdf/fdic_board_meeting.pdf\",\n",
    ")\n",
    "\n",
    "print(response_text)"
   ]
  },
  {
   "cell_type": "markdown",
   "metadata": {
    "id": "0e8111f438db"
   },
   "source": [
    "## Document Comparison\n",
    "\n",
    "Gemini can compare and contrast the contents of multiple documents. This example finds the changes in the IRS Form 1040 between 2013 and 2023.\n",
    "\n",
    "Note: when working with multiple documents, the order can matter and should be specified in your prompt."
   ]
  },
  {
   "cell_type": "code",
   "execution_count": null,
   "metadata": {
    "id": "62bd15c5553f",
    "tags": []
   },
   "outputs": [],
   "source": [
    "comparison_prompt = \"\"\"The first document is from 2013, the second one from 2023. How did the standard deduction evolve?\"\"\""
   ]
  },
  {
   "cell_type": "code",
   "execution_count": null,
   "metadata": {
    "id": "e5f07456ed8d",
    "tags": []
   },
   "outputs": [],
   "source": [
    "# Send Comparison Prompt to Gemini\n",
    "file_part1 = Part.from_uri(\n",
    "    uri=\"gs://cloud-samples-data/generative-ai/pdf/form_1040_2013.pdf\",\n",
    "    mime_type=PDF_MIME_TYPE,\n",
    ")\n",
    "\n",
    "file_part2 = Part.from_uri(\n",
    "    uri=\"gs://cloud-samples-data/generative-ai/pdf/form_1040_2023.pdf\",\n",
    "    mime_type=PDF_MIME_TYPE,\n",
    ")\n",
    "\n",
    "# Load contents\n",
    "contents = [file_part1, file_part2, comparison_prompt]\n",
    "\n",
    "# Send to Gemini\n",
    "response = model.generate_content(contents)\n",
    "\n",
    "print(\"-------Prompt--------\")\n",
    "print_multimodal_prompt(contents)\n",
    "\n",
    "print(\"-------Output--------\")\n",
    "print(response.text)"
   ]
  },
  {
   "cell_type": "code",
   "execution_count": null,
   "metadata": {},
   "outputs": [],
   "source": []
  },
  {
   "cell_type": "code",
   "execution_count": null,
   "metadata": {},
   "outputs": [],
   "source": []
  }
 ],
 "metadata": {
  "colab": {
   "name": "document_processing.ipynb",
   "toc_visible": true
  },
  "environment": {
   "kernel": "conda-base-py",
   "name": "workbench-notebooks.m126",
   "type": "gcloud",
   "uri": "us-docker.pkg.dev/deeplearning-platform-release/gcr.io/workbench-notebooks:m126"
  },
  "kernelspec": {
   "display_name": "Python 3 (ipykernel) (Local) (Local)",
   "language": "python",
   "name": "conda-base-py"
  },
  "language_info": {
   "codemirror_mode": {
    "name": "ipython",
    "version": 3
   },
   "file_extension": ".py",
   "mimetype": "text/x-python",
   "name": "python",
   "nbconvert_exporter": "python",
   "pygments_lexer": "ipython3",
   "version": "3.10.15"
  }
 },
 "nbformat": 4,
 "nbformat_minor": 4
}
