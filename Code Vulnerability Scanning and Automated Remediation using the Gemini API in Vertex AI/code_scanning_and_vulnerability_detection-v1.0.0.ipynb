{
 "cells": [
  {
   "cell_type": "markdown",
   "metadata": {
    "id": "nUWIDIzvODfw"
   },
   "source": [
    "# Code Vulnerability Scanning & Automated Remediation using the Gemini API in Vertex AI (Gemini 1.5 Pro)\n"
   ]
  },
  {
   "cell_type": "markdown",
   "metadata": {
    "id": "xHjHLyn8m2WF"
   },
   "source": [
    "<table align=\"left\">\n",
    "  <td style=\"text-align: center\">\n",
    "    <a href=\"https://colab.research.google.com/github/GoogleCloudPlatform/generative-ai/blob/main/gemini/use-cases/code/code_scanning_and_vulnerability_detection.ipynb\">\n",
    "      <img src=\"https://cloud.google.com/ml-engine/images/colab-logo-32px.png\" alt=\"Google Colaboratory logo\"><br> Open in Colab\n",
    "    </a>\n",
    "  </td>\n",
    "  <td style=\"text-align: center\">\n",
    "    <a href=\"https://console.cloud.google.com/vertex-ai/colab/import/https:%2F%2Fraw.githubusercontent.com%2FGoogleCloudPlatform%2Fgenerative-ai%2Fmain%2Fgemini%2Fuse-cases%2Fcode%2Fcode_scanning_and_vulnerability_detection.ipynb\">\n",
    "      <img width=\"32px\" src=\"https://lh3.googleusercontent.com/JmcxdQi-qOpctIvWKgPtrzZdJJK-J3sWE1RsfjZNwshCFgE_9fULcNpuXYTilIR2hjwN\" alt=\"Google Cloud Colab Enterprise logo\"><br> Open in Colab Enterprise\n",
    "    </a>\n",
    "  </td>    \n",
    "  <td style=\"text-align: center\">\n",
    "    <a href=\"https://console.cloud.google.com/vertex-ai/workbench/deploy-notebook?download_url=https://raw.githubusercontent.com/GoogleCloudPlatform/generative-ai/main/gemini/use-cases/code/code_scanning_and_vulnerability_detection.ipynb\">\n",
    "      <img src=\"https://lh3.googleusercontent.com/UiNooY4LUgW_oTvpsNhPpQzsstV5W8F7rYgxgGBD85cWJoLmrOzhVs_ksK_vgx40SHs7jCqkTkCk=e14-rj-sc0xffffff-h130-w32\" alt=\"Vertex AI logo\"><br> Open in Workbench\n",
    "    </a>\n",
    "  </td>\n",
    "  <td style=\"text-align: center\">\n",
    "    <a href=\"https://github.com/GoogleCloudPlatform/generative-ai/blob/main/gemini/use-cases/code/code_scanning_and_vulnerability_detection.ipynb\">\n",
    "      <img src=\"https://cloud.google.com/ml-engine/images/github-logo-32px.png\" alt=\"GitHub logo\"><br> View on GitHub\n",
    "    </a>\n",
    "  </td>\n",
    "</table>\n"
   ]
  },
  {
   "cell_type": "markdown",
   "metadata": {
    "id": "zBrMoWSrXFI6"
   },
   "source": [
    "| | |\n",
    "|-|-|\n",
    "|Author(s) | [Souvik Mukherjee](https://github.com/talktosauvik)"
   ]
  },
  {
   "cell_type": "markdown",
   "metadata": {
    "id": "R2__rS9iZeVx"
   },
   "source": [
    "## Background\n",
    "\n",
    "In today's digital landscape, software security is paramount. With the increasing sophistication of cyber threats, it's more important than ever for developers to proactively identify and address vulnerabilities in their code. Vulnerabilities can lead to data breaches, financial losses, and reputational damage. By harnessing the power of Gemini 1.5 Pro, we can help transform code vulnerability detection and remediation, and build a software vulnerability scanning mechanism"
   ]
  },
  {
   "cell_type": "markdown",
   "metadata": {
    "id": "6j_ed1PcwS3f"
   },
   "source": [
    "## Overview\n",
    "\n",
    "Gemini 1.5 Pro, a member of Google's Gemini family, is a generative AI model purpose-built for diverse multimodal applications. It's proficiency in understanding and generating content across text, code, and images makes it a powerful asset for intricate codebase analysis. With its expansive 2M token context window, Gemini 1.5 Pro efficiently processes large code volumes in a single call, streamlining large-scale code scanning.Gemini 1.5 Pro's deep comprehension of programming languages and security best practices enables it to identify potential vulnerabilities and suggest helpful and contextual modifications. Learn more about [Gemini 1.5 Pro](https://deepmind.google/technologies/gemini/pro/).\n",
    "\n",
    "\n",
    "This experimental approach aims to efficiently scan large codebases, analyze multiple files in a single call, and delve deeper into complex code relationships and patternsThe model's deep analysis of code can help ensure comprehensive vulnerability detection, going beyond surface-level flaws. By using this approach, we can accommodate code written in several programming languages. Additionally, we can generate the findings and recommendations as JSON or CSV reports, which we would hypothetically use to make comparisons against established benchmarks and policy checks. With this tutorial, you learn how to use the Gemini API in Vertex AI, Google Cloud Storage API and the Vertex AI SDK to work with the Gemini 1.5 Pro model to build a step by step code vulnerability scanning approach using Gemini 1.5 Pro with the following steps:\n",
    "\n",
    "\n",
    "*   Read Python files from a GCS bucket and combining them into a single string\n",
    "*   Prompt engineering by crafting a clear and comprehensive prompt for Gemini 1.5 Pro, providing instructions for code analysis and output formatting\n",
    "\n",
    "*   Submit the consolidated code string to Gemini 1.5 Pro for analysis\n",
    "*   Extract vulnerability information, recommendations, and code snippets from the model response\n",
    "\n",
    "*   Generate CSV and JSON output reports for further analysis, benchmarking and integration with security tools\n"
   ]
  },
  {
   "cell_type": "markdown",
   "metadata": {
    "id": "TpJD9T2_PvPp"
   },
   "source": [
    "### Getting Started"
   ]
  },
  {
   "cell_type": "markdown",
   "metadata": {
    "id": "k9uwJYsyP7rv"
   },
   "source": [
    "### Install Vertex AI and Google Cloud Storage SDKs for Python\n"
   ]
  },
  {
   "cell_type": "code",
   "execution_count": 1,
   "metadata": {
    "id": "N75LKYKXbuHp5cpzkJiq89Sb",
    "tags": []
   },
   "outputs": [
    {
     "name": "stdout",
     "output_type": "stream",
     "text": [
      "\u001b[33m  WARNING: The script tb-gcp-uploader is installed in '/home/jupyter/.local/bin' which is not on PATH.\n",
      "  Consider adding this directory to PATH or, if you prefer to suppress this warning, use --no-warn-script-location.\u001b[0m\u001b[33m\n",
      "\u001b[0m\u001b[31mERROR: pip's dependency resolver does not currently take into account all the packages that are installed. This behaviour is the source of the following dependency conflicts.\n",
      "google-api-python-client 1.8.0 requires google-api-core<2dev,>=1.13.0, but you have google-api-core 2.24.0 which is incompatible.\u001b[0m\u001b[31m\n",
      "\u001b[0mNote: you may need to restart the kernel to use updated packages.\n"
     ]
    }
   ],
   "source": [
    "%pip install  -q --upgrade --user google-cloud-aiplatform google-cloud-storage"
   ]
  },
  {
   "cell_type": "markdown",
   "metadata": {
    "id": "Xb3No6mSQFoe"
   },
   "source": [
    "### Restart the Kernel\n",
    "\n",
    "To use the newly installed packages, you must restart the current runtime."
   ]
  },
  {
   "cell_type": "code",
   "execution_count": 2,
   "metadata": {
    "id": "2l4Q9oy8f2KR",
    "tags": []
   },
   "outputs": [
    {
     "data": {
      "text/plain": [
       "{'status': 'ok', 'restart': True}"
      ]
     },
     "execution_count": 2,
     "metadata": {},
     "output_type": "execute_result"
    }
   ],
   "source": [
    "# restart the current runtime to be able to access the downloaded packages\n",
    "import IPython\n",
    "\n",
    "app = IPython.Application.instance()\n",
    "app.kernel.do_shutdown(True)"
   ]
  },
  {
   "cell_type": "markdown",
   "metadata": {
    "id": "IIyao4PXQkAm"
   },
   "source": [
    "### Authenticate the notebook environment (Colab only)\n",
    "\n",
    "If you are running this notebook on Google Colab, run the following cell to authenticate your environment. This step is not required if you are using [Vertex AI Workbench](https://cloud.google.com/vertex-ai-workbench)."
   ]
  },
  {
   "cell_type": "code",
   "execution_count": 1,
   "metadata": {
    "id": "pX9rkTlff8l-",
    "tags": []
   },
   "outputs": [
    {
     "ename": "ModuleNotFoundError",
     "evalue": "No module named 'google.colab'",
     "output_type": "error",
     "traceback": [
      "\u001b[0;31m---------------------------------------------------------------------------\u001b[0m",
      "\u001b[0;31mModuleNotFoundError\u001b[0m                       Traceback (most recent call last)",
      "Cell \u001b[0;32mIn[1], line 1\u001b[0m\n\u001b[0;32m----> 1\u001b[0m \u001b[38;5;28;01mfrom\u001b[39;00m \u001b[38;5;21;01mgoogle\u001b[39;00m\u001b[38;5;21;01m.\u001b[39;00m\u001b[38;5;21;01mcolab\u001b[39;00m \u001b[38;5;28;01mimport\u001b[39;00m auth\n\u001b[1;32m      3\u001b[0m auth\u001b[38;5;241m.\u001b[39mauthenticate_user()\n",
      "\u001b[0;31mModuleNotFoundError\u001b[0m: No module named 'google.colab'"
     ]
    }
   ],
   "source": [
    "from google.colab import auth\n",
    "\n",
    "auth.authenticate_user()"
   ]
  },
  {
   "cell_type": "markdown",
   "metadata": {
    "id": "x4A6vhaKQqKT"
   },
   "source": [
    "### Set Google Cloud project information and initialize Vertex AI SDK\n",
    "\n",
    "\n",
    "To get started using Vertex AI, you must have an existing Google Cloud project and [enable the Vertex AI API](https://console.cloud.google.com/flows/enableapi?apiid=aiplatform.googleapis.com).\n",
    "\n",
    "Learn more about [setting up a project and a development environment](https://cloud.google.com/vertex-ai/docs/start/cloud-environment).\n"
   ]
  },
  {
   "cell_type": "code",
   "execution_count": 2,
   "metadata": {
    "id": "-c8ZjhqIgA7K",
    "tags": []
   },
   "outputs": [],
   "source": [
    "# initialize variables\n",
    "\n",
    "PROJECT_ID = \"qwiklabs-gcp-00-b69a52b30afa\"  # @param {type:\"string\"}\n",
    "REGION = \"us-west1\"  # @param {type:\"string\"}\n",
    "BUCKET_NAME = \"qwiklabs-gcp-00-b69a52b30afa\"  # @param {type:\"string\"}\n",
    "PREFIX = \"data/\"  # @param {type:\"string\"}"
   ]
  },
  {
   "cell_type": "code",
   "execution_count": null,
   "metadata": {},
   "outputs": [],
   "source": [
    "# Please like share & subscribe to Techcps\n",
    "# YouTube https://www.youtube.com/@techcps\n",
    "\n",
    "print(\"Please like share & subscribe to Techcps https://www.youtube.com/@techcps\")"
   ]
  },
  {
   "cell_type": "code",
   "execution_count": 3,
   "metadata": {
    "id": "TwEE78OKgTRB",
    "tags": []
   },
   "outputs": [],
   "source": [
    "# import and initialize Vertex AI\n",
    "import vertexai\n",
    "\n",
    "vertexai.init(project=PROJECT_ID, location=REGION)"
   ]
  },
  {
   "cell_type": "markdown",
   "metadata": {
    "id": "zrgeiLeZRB8m"
   },
   "source": [
    "## Process Python files in batch\n",
    "\n",
    "This block of code reads Python files from the GCS bucket, combines their content, and adds respective `filename` as separator for LLM to better identify each file.\n"
   ]
  },
  {
   "cell_type": "code",
   "execution_count": 4,
   "metadata": {
    "id": "lZNJhxiignA5",
    "tags": []
   },
   "outputs": [
    {
     "name": "stdout",
     "output_type": "stream",
     "text": [
      "\n"
     ]
    }
   ],
   "source": [
    "from google.cloud import storage\n",
    "\n",
    "\n",
    "def process_py_files(bucket_name, prefix):\n",
    "    \"\"\"\n",
    "    Reads .py files from a GCS bucket and combines them into a single string.\n",
    "    Returns:\n",
    "      A string containing the combined content of all .py files.\n",
    "    \"\"\"\n",
    "\n",
    "    storage_client = storage.Client()\n",
    "    bucket = storage_client.get_bucket(BUCKET_NAME)\n",
    "    blobs = bucket.list_blobs(prefix=PREFIX)\n",
    "\n",
    "    combined_text = \"\"\n",
    "    for blob in blobs:\n",
    "        if blob.name.endswith(\".py\"):\n",
    "            file_content = blob.download_as_string().decode(\"utf-8\")\n",
    "            combined_text += f\"### File: {blob.name} ###\\n{file_content}\\n\"\n",
    "\n",
    "    return combined_text\n",
    "\n",
    "\n",
    "combined_string = process_py_files(BUCKET_NAME, PREFIX)\n",
    "print(combined_string)"
   ]
  },
  {
   "cell_type": "markdown",
   "metadata": {
    "id": "ODdfYDIdRzzX"
   },
   "source": [
    "### Import Generative model library from Vertex AI"
   ]
  },
  {
   "cell_type": "code",
   "execution_count": 5,
   "metadata": {
    "id": "WCIOjVZYh28Q",
    "tags": []
   },
   "outputs": [],
   "source": [
    "from IPython.display import display\n",
    "from vertexai.generative_models import GenerationConfig, GenerativeModel"
   ]
  },
  {
   "cell_type": "markdown",
   "metadata": {
    "id": "zyh4WLTZR42A"
   },
   "source": [
    "### Initiate Gemini 1.5 Pro"
   ]
  },
  {
   "cell_type": "code",
   "execution_count": 6,
   "metadata": {
    "id": "sjA145qSh9O8",
    "tags": []
   },
   "outputs": [],
   "source": [
    "from vertexai.generative_models import HarmCategory, HarmBlockThreshold\n",
    "\n",
    "safety_config = {\n",
    "    HarmCategory.HARM_CATEGORY_DANGEROUS_CONTENT: HarmBlockThreshold.BLOCK_ONLY_HIGH,\n",
    "    HarmCategory.HARM_CATEGORY_HARASSMENT: HarmBlockThreshold.BLOCK_ONLY_HIGH,\n",
    "    HarmCategory.HARM_CATEGORY_HATE_SPEECH: HarmBlockThreshold.BLOCK_ONLY_HIGH,\n",
    "    HarmCategory.HARM_CATEGORY_SEXUALLY_EXPLICIT: HarmBlockThreshold.BLOCK_ONLY_HIGH,\n",
    "}\n",
    "\n",
    "model = GenerativeModel(\"gemini-1.5-pro\", safety_settings=safety_config)"
   ]
  },
  {
   "cell_type": "markdown",
   "metadata": {
    "id": "QHjEFzCBR_n9"
   },
   "source": [
    "### Setting up model configuration & Prompt template\n",
    "\n",
    "This piece of code sets up the model configurations & prompt template with 1 shot inference. For this specific notebook, the safety filters have not been imported.\n"
   ]
  },
  {
   "cell_type": "code",
   "execution_count": 7,
   "metadata": {
    "id": "rX2dng4piDHd",
    "tags": []
   },
   "outputs": [
    {
     "name": "stdout",
     "output_type": "stream",
     "text": [
      "```\n",
      "python\n",
      "import subprocess\n",
      "\n",
      "def transcode_video(video_path, output\n",
      "_path):\n",
      "    \"\"\"Transcodes a video to a different format.\n",
      "\n",
      "\n",
      "    Args:\n",
      "        video_path: Path to the input video file.\n",
      "        output_path: Path to the output video file.\n",
      "    \"\"\"\n",
      "\n",
      "\n",
      "    command = ['ffmpeg', '-i', video_path, '-c:v', 'libx264', '-c:a', '\n",
      "aac', output_path]\n",
      "    subprocess.run(command)\n",
      "```\n",
      "\n",
      "-------------------------------------------------\n",
      "**file_name:** The provided code snippet doesn't have a filename. Let's assume it's named `trans\n",
      "code.py`.\n",
      "\n",
      "**Vulnerability Name:** Command Injection\n",
      "\n",
      "**Vulnerability:** The `transcode_video` function is vulnerable to command injection. An attacker could manipulate the `video_path` or `output_path` arguments\n",
      " to inject arbitrary commands into the shell. \n",
      "\n",
      "For example, imagine a malicious user provides the following input as the `video_path`:\n",
      "\n",
      "```\n",
      "video_path: some_video.mp4 ; rm -rf /\n",
      "```\n",
      "\n",
      "The semicolon (;) acts as a command separator, causing the `ffmpeg`\n",
      " command to execute, followed by the dangerous `rm -rf /` command, which could delete all files on the system.\n",
      "\n",
      "**Recommendations:**\n",
      "\n",
      "* **Sanitize user input:** Never trust user input. Always validate and sanitize any input provided by the user, especially when it's used to construct shell commands.\n",
      "\n",
      "* **Use safer alternatives:** Instead of using `subprocess.run` directly, consider using libraries like `subprocess.check_call` or `subprocess.check_output` which provide better error handling and security.\n",
      "* **Parameterize commands:** Avoid building commands by concatenating strings. Instead, pass arguments to\n",
      " the command as a list.\n",
      "\n",
      "**Recommended code:**\n",
      "\n",
      "```python\n",
      "import subprocess\n",
      "\n",
      "def transcode_video(video_path, output_path):\n",
      "    \"\"\"Transcodes a video to a different format.\n",
      "\n",
      "    Args:\n",
      "        video_path: Path to the input video file.\n",
      "        output\n",
      "_path: Path to the output video file.\n",
      "    \"\"\"\n",
      "    try:\n",
      "        # Validate input paths (implementation not shown here, but crucial)\n",
      "        validate_input_path(video_path)\n",
      "        validate_input_path(output_path)\n",
      "\n",
      "        command = ['ffmpeg', '-\n",
      "i', video_path, '-c:v', 'libx264', '-c:a', 'aac', output_path]\n",
      "        subprocess.check_call(command)  # Use check_call for better error handling\n",
      "    except ValueError as e:\n",
      "        print(f\"Invalid\n",
      " input: {e}\")\n",
      "    except subprocess.CalledProcessError as e:\n",
      "        print(f\"Error during transcoding: {e}\")\n",
      "\n",
      "def validate_input_path(path):\n",
      "    # Implement your validation logic here. \n",
      "    # This could include checking for allowed characters, \n",
      "    \n",
      "# file extensions, or even using a whitelist approach.\n",
      "    # For simplicity, we're just checking if the path is a string.\n",
      "    if not isinstance(path, str):\n",
      "        raise ValueError(\"Invalid path provided.\")\n",
      "```\n",
      "\n"
     ]
    }
   ],
   "source": [
    "# define the prompt template to be passed to gemini.\n",
    "context = combined_string\n",
    "\n",
    "my_prompt = f\"\"\"You are an expert code assistant. Review the following code for vulnerabilities and provide recommendations:\n",
    "{context}\n",
    "\n",
    "Please format your response using markdown and Display with the following structure:\n",
    "\n",
    "file_name: Name of the code file\n",
    "Vulnerability Name: Name of the identified vulnerability\n",
    "Vulnerability: Description of the vulnerability and its potential impact.\n",
    "Recommendations: List of actionable steps to mitigate the vulnerability.\n",
    "Recommended code: Recommended code snippet to remove the suspected vulnerability\n",
    "\n",
    "I am also providing a sample response output that you should follow-\n",
    "-------------------------------------------------\n",
    "**file_name: bulk/example_1.py**\n",
    "\n",
    "**Vulnerability Name:** Information Exposure\n",
    "\n",
    "**Vulnerability:** The `server_bad` function returns the entire traceback when an exception occurs\n",
    ".This can leak sensitive information about the application's internals, such as file paths, variable names, and even the type of exception raised. Attackers could\n",
    " exploit this information to gain a deeper understanding of the system and potentially launch further attacks.\n",
    "\n",
    "**Recommendations:**\n",
    "\n",
    "*Catch specific exceptions instead of using a broad `Exception` clause.\n",
    "*Return a generic error message to the user without revealing internal details.\n",
    "*Log the full traceback for debugging purposes, but do not expose it to the user.\n",
    "\n",
    "**Recommended code:**\n",
    "\n",
    "```python\n",
    "sample code\n",
    "```\n",
    "\"\"\"  # try your own prompt\n",
    "\n",
    "\n",
    "generation_config = GenerationConfig(\n",
    "    temperature=0.5,\n",
    "    top_p=0.4,\n",
    "    top_k=24,\n",
    "    candidate_count=1,\n",
    "    max_output_tokens=8192,\n",
    ")\n",
    "responses = model.generate_content(\n",
    "    contents=my_prompt,\n",
    "    generation_config=generation_config,\n",
    "    stream=True,\n",
    ")\n",
    "\n",
    "for res in responses:\n",
    "    print(res.text)"
   ]
  },
  {
   "cell_type": "markdown",
   "metadata": {
    "id": "cnuNp-heSUMD"
   },
   "source": [
    "## Capture the model response into a single variable\n"
   ]
  },
  {
   "cell_type": "code",
   "execution_count": 8,
   "metadata": {
    "id": "M_gJqJWAhALS",
    "tags": []
   },
   "outputs": [],
   "source": [
    "response_text = r\"\"\"\n",
    " Security Analysis of Code Snippets\n",
    "\n",
    "### file_name: Bulk/example_1.py\n",
    "\n",
    "**Vulnerability Name:** Information Exposure Through Exception Handling\n",
    "\n",
    "**Vulnerability:** The `server_bad` function returns the entire traceback when an exception occurs. This can leak sensitive information about the application's internals, such\n",
    " as file paths, variable names, and even the type of exception raised. Attackers could exploit this information to gain a deeper understanding of the system and potentially launch\n",
    " further attacks.\n",
    "\n",
    "**Recommendations:**\n",
    "\n",
    "*Catch specific exceptions instead of using a broad `Exception` clause.\n",
    "*Return a generic error message to the user without revealing internal details.\n",
    "*Log the full traceback for debugging purposes, but do not expose it to the user.\n",
    "\n",
    "**Recommended code:**\n",
    "\n",
    "```python\n",
    "@app.route('/bad')\n",
    "def server_bad():\n",
    "    try:\n",
    "        result = do_computation()\n",
    "        return\n",
    " result\n",
    "    except SpecificException as e:\n",
    "        # Log the error for debugging\n",
    "        app.logger.exception(\"An error occurred during computation\")\n",
    "        return \"An error occurred. Please try again later.\"\n",
    "```\n",
    "\n",
    "### file_name: Bulk/example_10.py\n",
    "\n",
    "**Vulnerability Name:** Insecure Temporary File Creation\n",
    "\n",
    "**Vulnerability:** The `mktemp()` function creates temporary files with predictable names, which could allow attackers to guess the file names and access sensitive data. Additionally, the file permissions might be insecure, allowing unauthorized access.\n",
    "\n",
    "**Recommendations:**\n",
    "\n",
    "*Use the `tempfile .mkstemp()` function to create temporary files with more secure permissions and unpredictable names.\n",
    "*Ensure that the temporary files are deleted after they are no longer needed.\n",
    "\n",
    "**Recommended code:**\n",
    "\n",
    "```python\n",
    "import tempfile\n",
    "\n",
    "def write_results(results):\n",
    "    with tempfile.NamedTemporaryFile(mode=\"\n",
    "w+\", delete=False) as f:\n",
    "        filename = f.name\n",
    "        f.write(results)\n",
    "    print(\"Results written to\", filename)\n",
    "    # ... process the file ...\n",
    "    os.remove(filename)  # Delete the file when done\n",
    "```\n",
    "\n",
    "### file_name: Bulk/example_100.py\n",
    "\n",
    "**Vulnerability Name:** Weak Key Generation Algorithm\n",
    "\n",
    "**Vulnerability:** The `DSA.generate(1024)` function generates a DSA key with a length of 1024 bits, which is considered weak and vulnerable to modern cryptanalysis techniques.\n",
    "\n",
    "\n",
    "**Recommendations:**\n",
    "\n",
    "*Use a stronger key generation algorithm, such as RSA or ECC, with a key length of at least 2048 bits.\n",
    "*Consider using libraries that provide secure defaults for key generation.\n",
    "\n",
    "**Recommended code:**\n",
    "\n",
    "```python\n",
    "from Crypto.PublicKey import RSA\n",
    "\n",
    "\n",
    "def generate_private_key():\n",
    "    key = RSA.generate(2048)\n",
    "    return key.export_key('PEM')  # Export in a standard format\n",
    "```\n",
    "\n",
    "### file_name: Bulk/example_101.py\n",
    "\n",
    "**Vulnerability Name:** Insecure Encryption Mode and Static IV\n",
    "\n",
    "**Vulnerability:** The code uses AES in CBC mode with a static initialization vector (IV). Using a static IV weakens the encryption and makes it vulnerable to certain attacks, especially when encrypting multiple messages with the same key.\n",
    "\n",
    "**Recommendations:**\n",
    "\n",
    "*Use a random IV for each encryption operation.\n",
    "*Consider using more secure modes of operation, such as GCM or CTR, which provide authenticated encryption.\n",
    "\n",
    "**Recommended code:**\n",
    "\n",
    "```python\n",
    "from Crypto.Cipher import AES\n",
    "from Crypto.Random import get_random_bytes\n",
    "\n",
    "def getEncryptionKey(data, key):\n",
    "    iv\n",
    " = get_random_bytes(AES.block_size)\n",
    "    cipher = AES.new(key, AES.MODE_GCM, iv)\n",
    "    ciphertext, tag = cipher.encrypt_and_digest(data)\n",
    "    return iv, ciphertext, tag\n",
    "```\n",
    "\n",
    "### file_name: Bulk/example_102.py\n",
    "\n",
    "**Vulnerability Name:** Insecure FTP Usage and Hardcoded Credentials\n",
    "\n",
    "**Vulnerability:** The code uses FTP, which transmits data in plaintext, including usernames and passwords. Additionally, the credentials are hardcoded in the script, making them easily discoverable.\n",
    "\n",
    "**Recommendations:**\n",
    "\n",
    "\n",
    "*Use a secure file transfer protocol, such as SFTP or FTPS, which encrypts the communication.\n",
    "*Avoid hardcoding credentials and instead use environment variables or a secure credential storage mechanism.\n",
    "\n",
    "**Recommended code:**\n",
    "\n",
    "```python\n",
    "import pysftp  # Assuming you have the pysftp\n",
    " library installed\n",
    "\n",
    "def downloadFile(hostname, username, password, sensitive_file):\n",
    "    with pysftp.Connection(hostname, username=username, password=password) as sftp:\n",
    "        sftp.get(sensitive_file, preserve_mtime=True)\n",
    "```\n",
    "\n",
    "### file_name:Bulk/example_103.py\n",
    "\n",
    "**Vulnerability Name:**  Potential Issues with Password Hashing\n",
    "\n",
    "**Vulnerability:** While PBKDF2 is a good choice for password hashing, the code uses a static salt, which reduces its effectiveness against rainbow table attacks.\n",
    "\n",
    "**Recommendations:**\n",
    "\n",
    "*Use a unique salt for each password. This can be achieved by generating a random salt for each user and storing it securely alongside the hashed password.\n",
    "\n",
    "**Recommended code:**\n",
    "\n",
    "```python\n",
    "import os\n",
    "\n",
    "def getHash(password):\n",
    "    salt = os.urandom(16)  # Generate a random\n",
    " salt\n",
    "    hash = pbkdf2_hmac('sha256', password, salt, 100000)\n",
    "    return salt, hash  # Store the salt with the hash\n",
    "```\n",
    "\n",
    "### file_name: Bulk/example_104.py\n",
    "\n",
    "**Vulnerability Name:** Hardcoded and Weak Admin Password\n",
    "\n",
    "**Vulnerability:** The code uses a hardcoded and easily guessable password for the admin user. This makes the system extremely vulnerable to unauthorized access.\n",
    "\n",
    "**Recommendations:**\n",
    "\n",
    "*Never hardcode passwords, especially for privileged accounts.\n",
    "*Enforce strong password policies that require a minimum length, complexity, and regular password changes.\n",
    "*Consider using multi-factor authentication for additional security.\n",
    "\n",
    "**Recommended code:**\n",
    "\n",
    "```python\n",
    "# Implement a secure password storage and verification mechanism, such as bcrypt or Argon2\n",
    "# and avoid hardcoding passwords.\n",
    "```\n",
    "\n",
    "### file_name: Bulk/example_105.py\n",
    "\n",
    "**Vulnerability Name:** Open Redirect Vulnerability\n",
    "\n",
    "**Vulnerability:** The `flask_redirect` function redirects the user to any URL provided in the `next` parameter without validation. This can be exploited by attackers to redirect users to malicious websites.\n",
    "\n",
    "**Recommendations:**\n",
    "\n",
    "*Validate the `next` parameter to ensure it points to a trusted domain or a specific set of allowed URLs.\n",
    "\n",
    "**Recommended code:**\n",
    "\n",
    "```python\n",
    "from urllib.parse import urlparse\n",
    "\n",
    "@app.route('flask_redirect')\n",
    "def flask_redirect():\n",
    "    url = request\n",
    ".args.get(\"next\")\n",
    "    parsed_url = urlparse(url)\n",
    "    if parsed_url.netloc in allowed_domains:  # Replace with your allowed domains\n",
    "        return redirect(url)\n",
    "    else:\n",
    "        return \"Invalid redirect URL\"\n",
    "```\n",
    "\n",
    "### file_name: Bulk/example_106.py\n",
    "\n",
    "**Vulnerability Name:** Potential XXE (XML External Entity) Vulnerability\n",
    "\n",
    "**Vulnerability:** The code parses XML data from the request without disabling external entity processing. This could allow attackers to inject malicious entities that can lead to information disclosure, denial of service\n",
    ", or server-side request forgery (SSRF) attacks.\n",
    "\n",
    "**Recommendations:**\n",
    "\n",
    "*   Disable external entity processing when parsing XML data.\n",
    "*   Use a library that provides secure XML parsing options.\n",
    "\n",
    "**Recommended code:**\n",
    "\n",
    "```python\n",
    "from defusedxml import lxml\n",
    "\n",
    "@app.post(\"/\n",
    "upload\")\n",
    "def upload():\n",
    "    xml_src = request.get_data()\n",
    "    parser = lxml.XMLParser(resolve_entities=False)\n",
    "    doc = lxml.fromstring(xml_src, parser=parser)\n",
    "    return lxml.tostring(doc)\n",
    "\n",
    "```\n",
    "\n",
    "### file_name: Bulk/example_107.py\n",
    "\n",
    "**Vulnerability Name:** Potential XXE and Insecure Password Handling\n",
    "\n",
    "**Vulnerability:** Similar to example_106.py, this code is vulnerable to XXE attacks due to insecure XML parsing. Additionally, the `check\n",
    "Password` function is not implemented, and it's unclear how passwords are stored and verified.\n",
    "\n",
    "**Recommendations:**\n",
    "\n",
    "*Address the XXE vulnerability as described in example_106.py.\n",
    "*Implement a secure password storage and verification mechanism, such as bcrypt or Argon2.\n",
    "*Avoid storing passwords in plaintext or using weak hashing algorithms.\n",
    "\n",
    "**Recommended code:**\n",
    "\n",
    "```python\n",
    "# Implement secure XML parsing as shown in example_106.py\n",
    "# Implement a secure password storage and verification mechanism\n",
    "```\n",
    "\"\"\""
   ]
  },
  {
   "cell_type": "markdown",
   "metadata": {
    "id": "1tK5AtEdIeep"
   },
   "source": [
    "### Parse the response and export it into a csv for further analysis.\n",
    "\n",
    "To parse the response we have used regular expression pattern matching. This is easy to configure and maintain\n"
   ]
  },
  {
   "cell_type": "code",
   "execution_count": 9,
   "metadata": {
    "id": "yVethA0vhsiv",
    "tags": []
   },
   "outputs": [
    {
     "data": {
      "text/html": [
       "<div>\n",
       "<style scoped>\n",
       "    .dataframe tbody tr th:only-of-type {\n",
       "        vertical-align: middle;\n",
       "    }\n",
       "\n",
       "    .dataframe tbody tr th {\n",
       "        vertical-align: top;\n",
       "    }\n",
       "\n",
       "    .dataframe thead th {\n",
       "        text-align: right;\n",
       "    }\n",
       "</style>\n",
       "<table border=\"1\" class=\"dataframe\">\n",
       "  <thead>\n",
       "    <tr style=\"text-align: right;\">\n",
       "      <th></th>\n",
       "      <th>File Number</th>\n",
       "      <th>File Name</th>\n",
       "      <th>Vulnerability Name</th>\n",
       "      <th>Description</th>\n",
       "      <th>Recommendations</th>\n",
       "      <th>Recommended Code</th>\n",
       "    </tr>\n",
       "  </thead>\n",
       "  <tbody>\n",
       "    <tr>\n",
       "      <th>0</th>\n",
       "      <td>1</td>\n",
       "      <td>Bulk/example_1.py</td>\n",
       "      <td>Information Exposure Through Exception Handling</td>\n",
       "      <td>The `server_bad` function returns the entire t...</td>\n",
       "      <td>*Catch specific exceptions instead of using a ...</td>\n",
       "      <td>@app.route('/bad')\\ndef server_bad():\\n    try...</td>\n",
       "    </tr>\n",
       "    <tr>\n",
       "      <th>1</th>\n",
       "      <td>10</td>\n",
       "      <td>Bulk/example_10.py</td>\n",
       "      <td>Insecure Temporary File Creation</td>\n",
       "      <td>The `mktemp()` function creates temporary file...</td>\n",
       "      <td>*Use the `tempfile .mkstemp()` function to cre...</td>\n",
       "      <td>import tempfile\\n\\ndef write_results(results):...</td>\n",
       "    </tr>\n",
       "    <tr>\n",
       "      <th>2</th>\n",
       "      <td>100</td>\n",
       "      <td>Bulk/example_100.py</td>\n",
       "      <td>Weak Key Generation Algorithm</td>\n",
       "      <td>The `DSA.generate(1024)` function generates a ...</td>\n",
       "      <td>*Use a stronger key generation algorithm, such...</td>\n",
       "      <td>from Crypto.PublicKey import RSA\\n\\n\\ndef gene...</td>\n",
       "    </tr>\n",
       "    <tr>\n",
       "      <th>3</th>\n",
       "      <td>101</td>\n",
       "      <td>Bulk/example_101.py</td>\n",
       "      <td>Insecure Encryption Mode and Static IV</td>\n",
       "      <td>The code uses AES in CBC mode with a static in...</td>\n",
       "      <td>*Use a random IV for each encryption operation...</td>\n",
       "      <td>from Crypto.Cipher import AES\\nfrom Crypto.Ran...</td>\n",
       "    </tr>\n",
       "    <tr>\n",
       "      <th>4</th>\n",
       "      <td>102</td>\n",
       "      <td>Bulk/example_102.py</td>\n",
       "      <td>Insecure FTP Usage and Hardcoded Credentials</td>\n",
       "      <td>The code uses FTP, which transmits data in pla...</td>\n",
       "      <td>*Use a secure file transfer protocol, such as ...</td>\n",
       "      <td>import pysftp  # Assuming you have the pysftp\\...</td>\n",
       "    </tr>\n",
       "    <tr>\n",
       "      <th>5</th>\n",
       "      <td>103</td>\n",
       "      <td>Bulk/example_103.py</td>\n",
       "      <td>Potential Issues with Password Hashing</td>\n",
       "      <td>While PBKDF2 is a good choice for password has...</td>\n",
       "      <td>*Use a unique salt for each password. This can...</td>\n",
       "      <td>import os\\n\\ndef getHash(password):\\n    salt ...</td>\n",
       "    </tr>\n",
       "    <tr>\n",
       "      <th>6</th>\n",
       "      <td>104</td>\n",
       "      <td>Bulk/example_104.py</td>\n",
       "      <td>Hardcoded and Weak Admin Password</td>\n",
       "      <td>The code uses a hardcoded and easily guessable...</td>\n",
       "      <td>*Never hardcode passwords, especially for priv...</td>\n",
       "      <td># Implement a secure password storage and veri...</td>\n",
       "    </tr>\n",
       "    <tr>\n",
       "      <th>7</th>\n",
       "      <td>105</td>\n",
       "      <td>Bulk/example_105.py</td>\n",
       "      <td>Open Redirect Vulnerability</td>\n",
       "      <td>The `flask_redirect` function redirects the us...</td>\n",
       "      <td>*Validate the `next` parameter to ensure it po...</td>\n",
       "      <td>from urllib.parse import urlparse\\n\\n@app.rout...</td>\n",
       "    </tr>\n",
       "    <tr>\n",
       "      <th>8</th>\n",
       "      <td>106</td>\n",
       "      <td>Bulk/example_106.py</td>\n",
       "      <td>Potential XXE (XML External Entity) Vulnerability</td>\n",
       "      <td>The code parses XML data from the request with...</td>\n",
       "      <td>*   Disable external entity processing when pa...</td>\n",
       "      <td>from defusedxml import lxml\\n\\n@app.post(\"/\\nu...</td>\n",
       "    </tr>\n",
       "    <tr>\n",
       "      <th>9</th>\n",
       "      <td>107</td>\n",
       "      <td>Bulk/example_107.py</td>\n",
       "      <td>Potential XXE and Insecure Password Handling</td>\n",
       "      <td>Similar to example_106.py, this code is vulner...</td>\n",
       "      <td>*Address the XXE vulnerability as described in...</td>\n",
       "      <td># Implement secure XML parsing as shown in exa...</td>\n",
       "    </tr>\n",
       "  </tbody>\n",
       "</table>\n",
       "</div>"
      ],
      "text/plain": [
       "  File Number            File Name  \\\n",
       "0           1    Bulk/example_1.py   \n",
       "1          10   Bulk/example_10.py   \n",
       "2         100  Bulk/example_100.py   \n",
       "3         101  Bulk/example_101.py   \n",
       "4         102  Bulk/example_102.py   \n",
       "5         103  Bulk/example_103.py   \n",
       "6         104  Bulk/example_104.py   \n",
       "7         105  Bulk/example_105.py   \n",
       "8         106  Bulk/example_106.py   \n",
       "9         107  Bulk/example_107.py   \n",
       "\n",
       "                                  Vulnerability Name  \\\n",
       "0    Information Exposure Through Exception Handling   \n",
       "1                   Insecure Temporary File Creation   \n",
       "2                      Weak Key Generation Algorithm   \n",
       "3             Insecure Encryption Mode and Static IV   \n",
       "4       Insecure FTP Usage and Hardcoded Credentials   \n",
       "5             Potential Issues with Password Hashing   \n",
       "6                  Hardcoded and Weak Admin Password   \n",
       "7                        Open Redirect Vulnerability   \n",
       "8  Potential XXE (XML External Entity) Vulnerability   \n",
       "9       Potential XXE and Insecure Password Handling   \n",
       "\n",
       "                                         Description  \\\n",
       "0  The `server_bad` function returns the entire t...   \n",
       "1  The `mktemp()` function creates temporary file...   \n",
       "2  The `DSA.generate(1024)` function generates a ...   \n",
       "3  The code uses AES in CBC mode with a static in...   \n",
       "4  The code uses FTP, which transmits data in pla...   \n",
       "5  While PBKDF2 is a good choice for password has...   \n",
       "6  The code uses a hardcoded and easily guessable...   \n",
       "7  The `flask_redirect` function redirects the us...   \n",
       "8  The code parses XML data from the request with...   \n",
       "9  Similar to example_106.py, this code is vulner...   \n",
       "\n",
       "                                     Recommendations  \\\n",
       "0  *Catch specific exceptions instead of using a ...   \n",
       "1  *Use the `tempfile .mkstemp()` function to cre...   \n",
       "2  *Use a stronger key generation algorithm, such...   \n",
       "3  *Use a random IV for each encryption operation...   \n",
       "4  *Use a secure file transfer protocol, such as ...   \n",
       "5  *Use a unique salt for each password. This can...   \n",
       "6  *Never hardcode passwords, especially for priv...   \n",
       "7  *Validate the `next` parameter to ensure it po...   \n",
       "8  *   Disable external entity processing when pa...   \n",
       "9  *Address the XXE vulnerability as described in...   \n",
       "\n",
       "                                    Recommended Code  \n",
       "0  @app.route('/bad')\\ndef server_bad():\\n    try...  \n",
       "1  import tempfile\\n\\ndef write_results(results):...  \n",
       "2  from Crypto.PublicKey import RSA\\n\\n\\ndef gene...  \n",
       "3  from Crypto.Cipher import AES\\nfrom Crypto.Ran...  \n",
       "4  import pysftp  # Assuming you have the pysftp\\...  \n",
       "5  import os\\n\\ndef getHash(password):\\n    salt ...  \n",
       "6  # Implement a secure password storage and veri...  \n",
       "7  from urllib.parse import urlparse\\n\\n@app.rout...  \n",
       "8  from defusedxml import lxml\\n\\n@app.post(\"/\\nu...  \n",
       "9  # Implement secure XML parsing as shown in exa...  "
      ]
     },
     "metadata": {},
     "output_type": "display_data"
    },
    {
     "name": "stdout",
     "output_type": "stream",
     "text": [
      "CSV file 'vulnerability_report_BULK.csv' created successfully.\n"
     ]
    }
   ],
   "source": [
    "import re\n",
    "\n",
    "import pandas as pd\n",
    "\n",
    "\n",
    "def extract_vulnerability_data(text):\n",
    "    # Regular expressions for extracting data\n",
    "    file_pattern = r\"###\\s*file_name:\\s*(.*\\.py)\"  # Adjusted for \"file_name\"\n",
    "    vulnerability_name_pattern = r\"\\*\\*Vulnerability Name:\\*\\*\\s*(.*)\"\n",
    "    vulnerability_pattern = r\"\\*\\*Vulnerability:\\*\\*\\s*(.*?)(?=\\*\\*Recommendations)\"\n",
    "    recommendation_pattern = r\"\\*\\*Recommendations:\\*\\*\\s*((?:\\*.*\\n)+)\"\n",
    "    code_pattern = r\"```python(.*?)```\"  # Added pattern for recommended code\n",
    "\n",
    "    data = []\n",
    "\n",
    "    # Iterate through each vulnerability report\n",
    "    for match in re.finditer(r\"###.*?(?=###|$)\", text, re.DOTALL):\n",
    "        report = match.group(0)\n",
    "\n",
    "        file_name = re.search(file_pattern, report).group(1)\n",
    "        vulnerability_name = re.search(vulnerability_name_pattern, report).group(1)\n",
    "        vulnerability = (\n",
    "            re.search(vulnerability_pattern, report, re.DOTALL).group(1).strip()\n",
    "        )\n",
    "        recommendations = (\n",
    "            re.search(recommendation_pattern, report, re.DOTALL).group(1).strip()\n",
    "        )\n",
    "\n",
    "        # Extract recommended code, handling potential absence\n",
    "        code_match = re.search(code_pattern, report, re.DOTALL)\n",
    "        recommended_code = code_match.group(1).strip() if code_match else \"N/A\"\n",
    "\n",
    "        data.append(\n",
    "            {\n",
    "                \"File Number\": file_name.split(\"_\")[-1].split(\".\")[0],\n",
    "                \"File Name\": file_name,\n",
    "                \"Vulnerability Name\": vulnerability_name,\n",
    "                \"Description\": vulnerability,\n",
    "                \"Recommendations\": recommendations,\n",
    "                \"Recommended Code\": recommended_code,  # Include recommended code\n",
    "            }\n",
    "        )\n",
    "\n",
    "    return pd.DataFrame(data)\n",
    "\n",
    "\n",
    "# Extract data and create DataFrame\n",
    "df = extract_vulnerability_data(response_text)\n",
    "\n",
    "# Display DataFrame in Colab\n",
    "display(df)\n",
    "\n",
    "# Save DataFrame to CSV file\n",
    "df.to_csv(\"vulnerability_report_BULK.csv\", index=False)\n",
    "\n",
    "print(\"CSV file 'vulnerability_report_BULK.csv' created successfully.\")"
   ]
  },
  {
   "cell_type": "markdown",
   "metadata": {
    "id": "7-kVfA_VIVv8"
   },
   "source": [
    "## Parse the response and export it into JSON output.\n",
    "\n",
    "NOTE: The following process is just a way to capture the response text and parse it further with regular expression. With Gemini 1.5, we can force the model to respond in JSON structure as well."
   ]
  },
  {
   "cell_type": "code",
   "execution_count": 10,
   "metadata": {
    "id": "F3hgDQcbn5YO",
    "tags": []
   },
   "outputs": [
    {
     "name": "stdout",
     "output_type": "stream",
     "text": [
      "Vulnerability data extracted and saved to vulnerabilities.json\n"
     ]
    }
   ],
   "source": [
    "# Extract data and write to JSON file (assuming you have 'response_text' defined)\n",
    "data = extract_vulnerability_data(response_text)\n",
    "\n",
    "data.to_json(\"vulnerabilities.json\", indent=4)\n",
    "\n",
    "print(\"Vulnerability data extracted and saved to vulnerabilities.json\")"
   ]
  },
  {
   "cell_type": "code",
   "execution_count": 11,
   "metadata": {
    "id": "u-jhc3_Qpx9c",
    "tags": []
   },
   "outputs": [
    {
     "name": "stdout",
     "output_type": "stream",
     "text": [
      "{\n",
      "    \"File Number\": {\n",
      "        \"0\": \"1\",\n",
      "        \"1\": \"10\",\n",
      "        \"2\": \"100\",\n",
      "        \"3\": \"101\",\n",
      "        \"4\": \"102\",\n",
      "        \"5\": \"103\",\n",
      "        \"6\": \"104\",\n",
      "        \"7\": \"105\",\n",
      "        \"8\": \"106\",\n",
      "        \"9\": \"107\"\n",
      "    },\n",
      "    \"File Name\": {\n",
      "        \"0\": \"Bulk/example_1.py\",\n",
      "        \"1\": \"Bulk/example_10.py\",\n",
      "        \"2\": \"Bulk/example_100.py\",\n",
      "        \"3\": \"Bulk/example_101.py\",\n",
      "        \"4\": \"Bulk/example_102.py\",\n",
      "        \"5\": \"Bulk/example_103.py\",\n",
      "        \"6\": \"Bulk/example_104.py\",\n",
      "        \"7\": \"Bulk/example_105.py\",\n",
      "        \"8\": \"Bulk/example_106.py\",\n",
      "        \"9\": \"Bulk/example_107.py\"\n",
      "    },\n",
      "    \"Vulnerability Name\": {\n",
      "        \"0\": \"Information Exposure Through Exception Handling\",\n",
      "        \"1\": \"Insecure Temporary File Creation\",\n",
      "        \"2\": \"Weak Key Generation Algorithm\",\n",
      "        \"3\": \"Insecure Encryption Mode and Static IV\",\n",
      "        \"4\": \"Insecure FTP Usage and Hardcoded Credentials\",\n",
      "        \"5\": \"Potential Issues with Password Hashing\",\n",
      "        \"6\": \"Hardcoded and Weak Admin Password\",\n",
      "        \"7\": \"Open Redirect Vulnerability\",\n",
      "        \"8\": \"Potential XXE (XML External Entity) Vulnerability\",\n",
      "        \"9\": \"Potential XXE and Insecure Password Handling\"\n",
      "    },\n",
      "    \"Description\": {\n",
      "        \"0\": \"The `server_bad` function returns the entire traceback when an exception occurs. This can leak sensitive information about the application's internals, such\\n as file paths, variable names, and even the type of exception raised. Attackers could exploit this information to gain a deeper understanding of the system and potentially launch\\n further attacks.\",\n",
      "        \"1\": \"The `mktemp()` function creates temporary files with predictable names, which could allow attackers to guess the file names and access sensitive data. Additionally, the file permissions might be insecure, allowing unauthorized access.\",\n",
      "        \"2\": \"The `DSA.generate(1024)` function generates a DSA key with a length of 1024 bits, which is considered weak and vulnerable to modern cryptanalysis techniques.\",\n",
      "        \"3\": \"The code uses AES in CBC mode with a static initialization vector (IV). Using a static IV weakens the encryption and makes it vulnerable to certain attacks, especially when encrypting multiple messages with the same key.\",\n",
      "        \"4\": \"The code uses FTP, which transmits data in plaintext, including usernames and passwords. Additionally, the credentials are hardcoded in the script, making them easily discoverable.\",\n",
      "        \"5\": \"While PBKDF2 is a good choice for password hashing, the code uses a static salt, which reduces its effectiveness against rainbow table attacks.\",\n",
      "        \"6\": \"The code uses a hardcoded and easily guessable password for the admin user. This makes the system extremely vulnerable to unauthorized access.\",\n",
      "        \"7\": \"The `flask_redirect` function redirects the user to any URL provided in the `next` parameter without validation. This can be exploited by attackers to redirect users to malicious websites.\",\n",
      "        \"8\": \"The code parses XML data from the request without disabling external entity processing. This could allow attackers to inject malicious entities that can lead to information disclosure, denial of service\\n, or server-side request forgery (SSRF) attacks.\",\n",
      "        \"9\": \"Similar to example_106.py, this code is vulnerable to XXE attacks due to insecure XML parsing. Additionally, the `check\\nPassword` function is not implemented, and it's unclear how passwords are stored and verified.\"\n",
      "    },\n",
      "    \"Recommendations\": {\n",
      "        \"0\": \"*Catch specific exceptions instead of using a broad `Exception` clause.\\n*Return a generic error message to the user without revealing internal details.\\n*Log the full traceback for debugging purposes, but do not expose it to the user.\\n\\n**Recommended code:**\\n\\n```python\\n@app.route('/bad')\\ndef server_bad():\\n    try:\\n        result = do_computation()\\n        return\\n result\\n    except SpecificException as e:\\n        # Log the error for debugging\\n        app.logger.exception(\\\"An error occurred during computation\\\")\\n        return \\\"An error occurred. Please try again later.\\\"\\n```\",\n",
      "        \"1\": \"*Use the `tempfile .mkstemp()` function to create temporary files with more secure permissions and unpredictable names.\\n*Ensure that the temporary files are deleted after they are no longer needed.\\n\\n**Recommended code:**\\n\\n```python\\nimport tempfile\\n\\ndef write_results(results):\\n    with tempfile.NamedTemporaryFile(mode=\\\"\\nw+\\\", delete=False) as f:\\n        filename = f.name\\n        f.write(results)\\n    print(\\\"Results written to\\\", filename)\\n    # ... process the file ...\\n    os.remove(filename)  # Delete the file when done\\n```\",\n",
      "        \"2\": \"*Use a stronger key generation algorithm, such as RSA or ECC, with a key length of at least 2048 bits.\\n*Consider using libraries that provide secure defaults for key generation.\\n\\n**Recommended code:**\\n\\n```python\\nfrom Crypto.PublicKey import RSA\\n\\n\\ndef generate_private_key():\\n    key = RSA.generate(2048)\\n    return key.export_key('PEM')  # Export in a standard format\\n```\",\n",
      "        \"3\": \"*Use a random IV for each encryption operation.\\n*Consider using more secure modes of operation, such as GCM or CTR, which provide authenticated encryption.\\n\\n**Recommended code:**\\n\\n```python\\nfrom Crypto.Cipher import AES\\nfrom Crypto.Random import get_random_bytes\\n\\ndef getEncryptionKey(data, key):\\n    iv\\n = get_random_bytes(AES.block_size)\\n    cipher = AES.new(key, AES.MODE_GCM, iv)\\n    ciphertext, tag = cipher.encrypt_and_digest(data)\\n    return iv, ciphertext, tag\\n```\",\n",
      "        \"4\": \"*Use a secure file transfer protocol, such as SFTP or FTPS, which encrypts the communication.\\n*Avoid hardcoding credentials and instead use environment variables or a secure credential storage mechanism.\\n\\n**Recommended code:**\\n\\n```python\\nimport pysftp  # Assuming you have the pysftp\\n library installed\\n\\ndef downloadFile(hostname, username, password, sensitive_file):\\n    with pysftp.Connection(hostname, username=username, password=password) as sftp:\\n        sftp.get(sensitive_file, preserve_mtime=True)\\n```\",\n",
      "        \"5\": \"*Use a unique salt for each password. This can be achieved by generating a random salt for each user and storing it securely alongside the hashed password.\\n\\n**Recommended code:**\\n\\n```python\\nimport os\\n\\ndef getHash(password):\\n    salt = os.urandom(16)  # Generate a random\\n salt\\n    hash = pbkdf2_hmac('sha256', password, salt, 100000)\\n    return salt, hash  # Store the salt with the hash\\n```\",\n",
      "        \"6\": \"*Never hardcode passwords, especially for privileged accounts.\\n*Enforce strong password policies that require a minimum length, complexity, and regular password changes.\\n*Consider using multi-factor authentication for additional security.\\n\\n**Recommended code:**\\n\\n```python\\n# Implement a secure password storage and verification mechanism, such as bcrypt or Argon2\\n# and avoid hardcoding passwords.\\n```\",\n",
      "        \"7\": \"*Validate the `next` parameter to ensure it points to a trusted domain or a specific set of allowed URLs.\\n\\n**Recommended code:**\\n\\n```python\\nfrom urllib.parse import urlparse\\n\\n@app.route('flask_redirect')\\ndef flask_redirect():\\n    url = request\\n.args.get(\\\"next\\\")\\n    parsed_url = urlparse(url)\\n    if parsed_url.netloc in allowed_domains:  # Replace with your allowed domains\\n        return redirect(url)\\n    else:\\n        return \\\"Invalid redirect URL\\\"\\n```\",\n",
      "        \"8\": \"*   Disable external entity processing when parsing XML data.\\n*   Use a library that provides secure XML parsing options.\\n\\n**Recommended code:**\\n\\n```python\\nfrom defusedxml import lxml\\n\\n@app.post(\\\"/\\nupload\\\")\\ndef upload():\\n    xml_src = request.get_data()\\n    parser = lxml.XMLParser(resolve_entities=False)\\n    doc = lxml.fromstring(xml_src, parser=parser)\\n    return lxml.tostring(doc)\\n\\n```\",\n",
      "        \"9\": \"*Address the XXE vulnerability as described in example_106.py.\\n*Implement a secure password storage and verification mechanism, such as bcrypt or Argon2.\\n*Avoid storing passwords in plaintext or using weak hashing algorithms.\\n\\n**Recommended code:**\\n\\n```python\\n# Implement secure XML parsing as shown in example_106.py\\n# Implement a secure password storage and verification mechanism\"\n",
      "    },\n",
      "    \"Recommended Code\": {\n",
      "        \"0\": \"@app.route('/bad')\\ndef server_bad():\\n    try:\\n        result = do_computation()\\n        return\\n result\\n    except SpecificException as e:\\n        # Log the error for debugging\\n        app.logger.exception(\\\"An error occurred during computation\\\")\\n        return \\\"An error occurred. Please try again later.\\\"\",\n",
      "        \"1\": \"import tempfile\\n\\ndef write_results(results):\\n    with tempfile.NamedTemporaryFile(mode=\\\"\\nw+\\\", delete=False) as f:\\n        filename = f.name\\n        f.write(results)\\n    print(\\\"Results written to\\\", filename)\\n    # ... process the file ...\\n    os.remove(filename)  # Delete the file when done\",\n",
      "        \"2\": \"from Crypto.PublicKey import RSA\\n\\n\\ndef generate_private_key():\\n    key = RSA.generate(2048)\\n    return key.export_key('PEM')  # Export in a standard format\",\n",
      "        \"3\": \"from Crypto.Cipher import AES\\nfrom Crypto.Random import get_random_bytes\\n\\ndef getEncryptionKey(data, key):\\n    iv\\n = get_random_bytes(AES.block_size)\\n    cipher = AES.new(key, AES.MODE_GCM, iv)\\n    ciphertext, tag = cipher.encrypt_and_digest(data)\\n    return iv, ciphertext, tag\",\n",
      "        \"4\": \"import pysftp  # Assuming you have the pysftp\\n library installed\\n\\ndef downloadFile(hostname, username, password, sensitive_file):\\n    with pysftp.Connection(hostname, username=username, password=password) as sftp:\\n        sftp.get(sensitive_file, preserve_mtime=True)\",\n",
      "        \"5\": \"import os\\n\\ndef getHash(password):\\n    salt = os.urandom(16)  # Generate a random\\n salt\\n    hash = pbkdf2_hmac('sha256', password, salt, 100000)\\n    return salt, hash  # Store the salt with the hash\",\n",
      "        \"6\": \"# Implement a secure password storage and verification mechanism, such as bcrypt or Argon2\\n# and avoid hardcoding passwords.\",\n",
      "        \"7\": \"from urllib.parse import urlparse\\n\\n@app.route('flask_redirect')\\ndef flask_redirect():\\n    url = request\\n.args.get(\\\"next\\\")\\n    parsed_url = urlparse(url)\\n    if parsed_url.netloc in allowed_domains:  # Replace with your allowed domains\\n        return redirect(url)\\n    else:\\n        return \\\"Invalid redirect URL\\\"\",\n",
      "        \"8\": \"from defusedxml import lxml\\n\\n@app.post(\\\"/\\nupload\\\")\\ndef upload():\\n    xml_src = request.get_data()\\n    parser = lxml.XMLParser(resolve_entities=False)\\n    doc = lxml.fromstring(xml_src, parser=parser)\\n    return lxml.tostring(doc)\",\n",
      "        \"9\": \"# Implement secure XML parsing as shown in example_106.py\\n# Implement a secure password storage and verification mechanism\"\n",
      "    }\n",
      "}\n"
     ]
    }
   ],
   "source": [
    "import json\n",
    "\n",
    "with open(\"vulnerabilities.json\", \"r\") as f:\n",
    "    json_data = json.load(f)\n",
    "    \n",
    "print(json.dumps(json_data, indent=4))"
   ]
  },
  {
   "cell_type": "markdown",
   "metadata": {
    "id": "qbk8xpGJUASo"
   },
   "source": [
    "## Conclusions\n",
    "\n",
    "In this notebook we have successfully leveraged Gemini 1.5 Pro's code scanning and code generation capability to\n",
    "1. Analyze multiple python files for potential vulnerabilities\n",
    "2. Used Gemini 1.5 to provide recommendations (both in wordings and in the form of code)\n",
    "3. Export the details into csv and json for further analysis\n",
    "\n",
    "The scope of this experiment is limited to identifying issues and providing helpful and contextual modification. Automating remediations or fitting the findings into a review workflow would exist in a more mature tool, and hasn't been considered as part of the experiment. While Gemini 1.5 Pro demonstrates promising capabilities in code analysis, it's important to note that this approach is still experimental. We believe that it is important to explore the potential of this technology for vulnerability detection, and continue development and validation efforts before it can be considered a robust security tool"
   ]
  },
  {
   "cell_type": "code",
   "execution_count": null,
   "metadata": {},
   "outputs": [],
   "source": []
  },
  {
   "cell_type": "code",
   "execution_count": null,
   "metadata": {},
   "outputs": [],
   "source": []
  }
 ],
 "metadata": {
  "colab": {
   "name": "code_scanning_and_vulnerability_detection.ipynb",
   "toc_visible": true
  },
  "environment": {
   "kernel": "conda-base-py",
   "name": "workbench-notebooks.m126",
   "type": "gcloud",
   "uri": "us-docker.pkg.dev/deeplearning-platform-release/gcr.io/workbench-notebooks:m126"
  },
  "kernelspec": {
   "display_name": "Python 3 (ipykernel) (Local) (Local)",
   "language": "python",
   "name": "conda-base-py"
  },
  "language_info": {
   "codemirror_mode": {
    "name": "ipython",
    "version": 3
   },
   "file_extension": ".py",
   "mimetype": "text/x-python",
   "name": "python",
   "nbconvert_exporter": "python",
   "pygments_lexer": "ipython3",
   "version": "3.10.15"
  }
 },
 "nbformat": 4,
 "nbformat_minor": 4
}
