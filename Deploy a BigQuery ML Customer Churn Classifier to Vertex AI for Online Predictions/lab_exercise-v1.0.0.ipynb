{
 "cells": [
  {
   "cell_type": "markdown",
   "id": "39d24a6a",
   "metadata": {},
   "source": [
    "# Deploy a BigQuery ML user churn propensity model to Vertex AI for online predictions"
   ]
  },
  {
   "cell_type": "markdown",
   "id": "c97e1100",
   "metadata": {},
   "source": [
    "## Learning objectives"
   ]
  },
  {
   "cell_type": "markdown",
   "id": "a426ddad",
   "metadata": {},
   "source": [
    "* Explore and preprocess a [Google Analytics 4](https://support.google.com/analytics/answer/7029846) data sample in [BigQuery](https://cloud.google.com/bigquery) for machine learning.  \n",
    "* Train a [BigQuery ML (BQML)](https://cloud.google.com/bigquery-ml) [XGBoost](https://xgboost.readthedocs.io/en/latest/) classifier to predict user churn on a mobile gaming application.\n",
    "* Tune a BQML XGBoost classifier using [BQML hyperparameter tuning features](https://cloud.google.com/bigquery-ml/docs/reference/standard-sql/bigqueryml-syntax-create-boosted-tree).\n",
    "* Evaluate the performance of a BQML XGBoost classifier.\n",
    "* Explain your XGBoost model with [BQML Explainable AI](https://cloud.google.com/bigquery-ml/docs/reference/standard-sql/bigqueryml-syntax-xai-overview) global feature attributions.\n",
    "* Generate batch predictions with your BQML XGBoost model.\n",
    "* Export a BQML XGBoost model to a [Google Cloud Storage](https://cloud.google.com/storage).\n",
    "* Upload and deploy a BQML XGBoost model to a [Vertex AI Prediction](https://cloud.google.com/vertex-ai/docs/predictions/getting-predictions) Endpoint for online predictions."
   ]
  },
  {
   "cell_type": "markdown",
   "id": "32a258db",
   "metadata": {},
   "source": [
    "## Introduction"
   ]
  },
  {
   "cell_type": "markdown",
   "id": "5d8d5372",
   "metadata": {},
   "source": [
    "In this lab, you will train, evaluate, explain, and generate batch and online predictions with a BigQuery ML (BQML) XGBoost model. You will use a Google Analytics 4 dataset from a real mobile application, Flood it! ([Android app](https://play.google.com/store/apps/details?id=com.labpixies.flood), [iOS app](https://itunes.apple.com/us/app/flood-it!/id476943146?mt=8)), to determine the likelihood of users returning to the application. You will generate batch predictions with your BigQuery ML model as well as export and deploy it to **Vertex AI** for online predictions.\n",
    "\n",
    "[BigQuery ML](https://cloud.google.com/bigquery-ml/docs/introduction) lets you train and do batch inference with machine learning models in BigQuery using standard SQL queries faster by eliminating the need to move data with fewer lines of code. [Vertex AI](https://cloud.google.com/vertex-ai) is Google Cloud's complimentary next generation, unified platform for machine learning development. By developing and deploying BQML machine learning solutions on Vertex AI, you can leverage a scalable online prediction service and MLOps tools for model retraining and monitoring to significantly enhance your development productivity, the ability to scale your workflow and decision making with your data, and accelerate time to value.\n",
    "\n",
    "![BQML Vertex AI](./images/vertex-bqml-lab-architecture-diagram.png \"Vertex BQML Lab Architecture Diagram\")\n",
    "\n",
    "Note: this lab is inspired by and extends [Churn prediction for game developers using Google Analytics 4 (GA4) and BigQuery ML](https://cloud.google.com/blog/topics/developers-practitioners/churn-prediction-game-developers-using-google-analytics-4-ga4-and-bigquery-ml). See that blog post and accompanying tutorial for additional depth on this use case and BigQuery ML. In this lab, you will go one step further and focus on how Vertex AI extends BQML's capabilities through online prediction so you can incorporate both customer churn predictions into decision making UIs such as [Looker dashboards](https://looker.com/google-cloud) but also online predictions directly into customer applications to power targeted interventions such as targeted incentives."
   ]
  },
  {
   "cell_type": "markdown",
   "id": "bce45947",
   "metadata": {},
   "source": [
    "### Use case: user churn propensity modeling in the mobile gaming industry"
   ]
  },
  {
   "cell_type": "markdown",
   "id": "14102f4b",
   "metadata": {},
   "source": [
    "According to a [2019 study](https://gameanalytics.com/reports/mobile-gaming-industry-analysis-h1-2019) on 100K mobile games by the Mobile Gaming Industry Analysis, most mobile games only see a 25% retention rate for users after the first 24 hours, known and any game \"below 30% retention generally needs improvement\". For mobile game developers, improving user retention is critical to revenue stability and increasing profitability. In fact, [Bain & Company research](https://hbr.org/2014/10/the-value-of-keeping-the-right-customers) found that 5% growth in retention rate can result in a 25-95% increase in profits. With lower costs to retain existing customers, the business objective for game developers is clear: reduce churn and improve customer loyalty to drive long-term profitability.\n",
    "\n",
    "Your task in this lab: use machine learning to predict user churn propensity after day 1, a crucial user onboarding window, and serve these online predictions to inform interventions such as targeted in-game rewards and notifications."
   ]
  },
  {
   "cell_type": "markdown",
   "id": "4963f56a",
   "metadata": {},
   "source": [
    "## Setup"
   ]
  },
  {
   "cell_type": "code",
   "execution_count": 1,
   "id": "35ce5269-6546-4e54-809b-8fa6e29471dc",
   "metadata": {
    "tags": []
   },
   "outputs": [
    {
     "name": "stdout",
     "output_type": "stream",
     "text": [
      "Requirement already satisfied: google-cloud-aiplatform in /opt/conda/lib/python3.10/site-packages (1.86.0)\n",
      "Requirement already satisfied: google-api-core!=2.0.*,!=2.1.*,!=2.2.*,!=2.3.*,!=2.4.*,!=2.5.*,!=2.6.*,!=2.7.*,<3.0.0,>=1.34.1 in /opt/conda/lib/python3.10/site-packages (from google-api-core[grpc]!=2.0.*,!=2.1.*,!=2.2.*,!=2.3.*,!=2.4.*,!=2.5.*,!=2.6.*,!=2.7.*,<3.0.0,>=1.34.1->google-cloud-aiplatform) (2.24.2)\n",
      "Requirement already satisfied: google-auth<3.0.0,>=2.14.1 in /opt/conda/lib/python3.10/site-packages (from google-cloud-aiplatform) (2.38.0)\n",
      "Requirement already satisfied: proto-plus<2.0.0,>=1.22.3 in /opt/conda/lib/python3.10/site-packages (from google-cloud-aiplatform) (1.26.1)\n",
      "Requirement already satisfied: protobuf!=4.21.0,!=4.21.1,!=4.21.2,!=4.21.3,!=4.21.4,!=4.21.5,<6.0.0,>=3.20.2 in /opt/conda/lib/python3.10/site-packages (from google-cloud-aiplatform) (3.20.3)\n",
      "Requirement already satisfied: packaging>=14.3 in /opt/conda/lib/python3.10/site-packages (from google-cloud-aiplatform) (24.2)\n",
      "Requirement already satisfied: google-cloud-storage<3.0.0,>=1.32.0 in /opt/conda/lib/python3.10/site-packages (from google-cloud-aiplatform) (2.19.0)\n",
      "Requirement already satisfied: google-cloud-bigquery!=3.20.0,<4.0.0,>=1.15.0 in /opt/conda/lib/python3.10/site-packages (from google-cloud-aiplatform) (3.31.0)\n",
      "Requirement already satisfied: google-cloud-resource-manager<3.0.0,>=1.3.3 in /opt/conda/lib/python3.10/site-packages (from google-cloud-aiplatform) (1.14.2)\n",
      "Requirement already satisfied: shapely<3.0.0 in /opt/conda/lib/python3.10/site-packages (from google-cloud-aiplatform) (2.0.7)\n",
      "Requirement already satisfied: pydantic<3 in /opt/conda/lib/python3.10/site-packages (from google-cloud-aiplatform) (2.11.0)\n",
      "Requirement already satisfied: typing-extensions in /opt/conda/lib/python3.10/site-packages (from google-cloud-aiplatform) (4.13.0)\n",
      "Requirement already satisfied: docstring-parser<1 in /opt/conda/lib/python3.10/site-packages (from google-cloud-aiplatform) (0.16)\n",
      "Requirement already satisfied: googleapis-common-protos<2.0.0,>=1.56.2 in /opt/conda/lib/python3.10/site-packages (from google-api-core!=2.0.*,!=2.1.*,!=2.2.*,!=2.3.*,!=2.4.*,!=2.5.*,!=2.6.*,!=2.7.*,<3.0.0,>=1.34.1->google-api-core[grpc]!=2.0.*,!=2.1.*,!=2.2.*,!=2.3.*,!=2.4.*,!=2.5.*,!=2.6.*,!=2.7.*,<3.0.0,>=1.34.1->google-cloud-aiplatform) (1.69.2)\n",
      "Requirement already satisfied: requests<3.0.0,>=2.18.0 in /opt/conda/lib/python3.10/site-packages (from google-api-core!=2.0.*,!=2.1.*,!=2.2.*,!=2.3.*,!=2.4.*,!=2.5.*,!=2.6.*,!=2.7.*,<3.0.0,>=1.34.1->google-api-core[grpc]!=2.0.*,!=2.1.*,!=2.2.*,!=2.3.*,!=2.4.*,!=2.5.*,!=2.6.*,!=2.7.*,<3.0.0,>=1.34.1->google-cloud-aiplatform) (2.32.3)\n",
      "Requirement already satisfied: grpcio<2.0dev,>=1.33.2 in /opt/conda/lib/python3.10/site-packages (from google-api-core[grpc]!=2.0.*,!=2.1.*,!=2.2.*,!=2.3.*,!=2.4.*,!=2.5.*,!=2.6.*,!=2.7.*,<3.0.0,>=1.34.1->google-cloud-aiplatform) (1.71.0)\n",
      "Requirement already satisfied: grpcio-status<2.0.dev0,>=1.33.2 in /opt/conda/lib/python3.10/site-packages (from google-api-core[grpc]!=2.0.*,!=2.1.*,!=2.2.*,!=2.3.*,!=2.4.*,!=2.5.*,!=2.6.*,!=2.7.*,<3.0.0,>=1.34.1->google-cloud-aiplatform) (1.49.0rc1)\n",
      "Requirement already satisfied: cachetools<6.0,>=2.0.0 in /opt/conda/lib/python3.10/site-packages (from google-auth<3.0.0,>=2.14.1->google-cloud-aiplatform) (5.5.2)\n",
      "Requirement already satisfied: pyasn1-modules>=0.2.1 in /opt/conda/lib/python3.10/site-packages (from google-auth<3.0.0,>=2.14.1->google-cloud-aiplatform) (0.4.2)\n",
      "Requirement already satisfied: rsa<5,>=3.1.4 in /opt/conda/lib/python3.10/site-packages (from google-auth<3.0.0,>=2.14.1->google-cloud-aiplatform) (4.9)\n",
      "Requirement already satisfied: google-cloud-core<3.0.0,>=2.4.1 in /opt/conda/lib/python3.10/site-packages (from google-cloud-bigquery!=3.20.0,<4.0.0,>=1.15.0->google-cloud-aiplatform) (2.4.3)\n",
      "Requirement already satisfied: google-resumable-media<3.0.0,>=2.0.0 in /opt/conda/lib/python3.10/site-packages (from google-cloud-bigquery!=3.20.0,<4.0.0,>=1.15.0->google-cloud-aiplatform) (2.7.2)\n",
      "Requirement already satisfied: python-dateutil<3.0.0,>=2.8.2 in /opt/conda/lib/python3.10/site-packages (from google-cloud-bigquery!=3.20.0,<4.0.0,>=1.15.0->google-cloud-aiplatform) (2.9.0.post0)\n",
      "Requirement already satisfied: grpc-google-iam-v1<1.0.0,>=0.14.0 in /opt/conda/lib/python3.10/site-packages (from google-cloud-resource-manager<3.0.0,>=1.3.3->google-cloud-aiplatform) (0.14.2)\n",
      "Requirement already satisfied: google-crc32c<2.0dev,>=1.0 in /opt/conda/lib/python3.10/site-packages (from google-cloud-storage<3.0.0,>=1.32.0->google-cloud-aiplatform) (1.7.1)\n",
      "Requirement already satisfied: annotated-types>=0.6.0 in /opt/conda/lib/python3.10/site-packages (from pydantic<3->google-cloud-aiplatform) (0.7.0)\n",
      "Requirement already satisfied: pydantic-core==2.33.0 in /opt/conda/lib/python3.10/site-packages (from pydantic<3->google-cloud-aiplatform) (2.33.0)\n",
      "Requirement already satisfied: typing-inspection>=0.4.0 in /opt/conda/lib/python3.10/site-packages (from pydantic<3->google-cloud-aiplatform) (0.4.0)\n",
      "Requirement already satisfied: numpy<3,>=1.14 in /opt/conda/lib/python3.10/site-packages (from shapely<3.0.0->google-cloud-aiplatform) (2.1.3)\n",
      "Requirement already satisfied: pyasn1<0.7.0,>=0.6.1 in /opt/conda/lib/python3.10/site-packages (from pyasn1-modules>=0.2.1->google-auth<3.0.0,>=2.14.1->google-cloud-aiplatform) (0.6.1)\n",
      "Requirement already satisfied: six>=1.5 in /opt/conda/lib/python3.10/site-packages (from python-dateutil<3.0.0,>=2.8.2->google-cloud-bigquery!=3.20.0,<4.0.0,>=1.15.0->google-cloud-aiplatform) (1.17.0)\n",
      "Requirement already satisfied: charset_normalizer<4,>=2 in /opt/conda/lib/python3.10/site-packages (from requests<3.0.0,>=2.18.0->google-api-core!=2.0.*,!=2.1.*,!=2.2.*,!=2.3.*,!=2.4.*,!=2.5.*,!=2.6.*,!=2.7.*,<3.0.0,>=1.34.1->google-api-core[grpc]!=2.0.*,!=2.1.*,!=2.2.*,!=2.3.*,!=2.4.*,!=2.5.*,!=2.6.*,!=2.7.*,<3.0.0,>=1.34.1->google-cloud-aiplatform) (3.4.1)\n",
      "Requirement already satisfied: idna<4,>=2.5 in /opt/conda/lib/python3.10/site-packages (from requests<3.0.0,>=2.18.0->google-api-core!=2.0.*,!=2.1.*,!=2.2.*,!=2.3.*,!=2.4.*,!=2.5.*,!=2.6.*,!=2.7.*,<3.0.0,>=1.34.1->google-api-core[grpc]!=2.0.*,!=2.1.*,!=2.2.*,!=2.3.*,!=2.4.*,!=2.5.*,!=2.6.*,!=2.7.*,<3.0.0,>=1.34.1->google-cloud-aiplatform) (3.10)\n",
      "Requirement already satisfied: urllib3<3,>=1.21.1 in /opt/conda/lib/python3.10/site-packages (from requests<3.0.0,>=2.18.0->google-api-core!=2.0.*,!=2.1.*,!=2.2.*,!=2.3.*,!=2.4.*,!=2.5.*,!=2.6.*,!=2.7.*,<3.0.0,>=1.34.1->google-api-core[grpc]!=2.0.*,!=2.1.*,!=2.2.*,!=2.3.*,!=2.4.*,!=2.5.*,!=2.6.*,!=2.7.*,<3.0.0,>=1.34.1->google-cloud-aiplatform) (1.26.20)\n",
      "Requirement already satisfied: certifi>=2017.4.17 in /opt/conda/lib/python3.10/site-packages (from requests<3.0.0,>=2.18.0->google-api-core!=2.0.*,!=2.1.*,!=2.2.*,!=2.3.*,!=2.4.*,!=2.5.*,!=2.6.*,!=2.7.*,<3.0.0,>=1.34.1->google-api-core[grpc]!=2.0.*,!=2.1.*,!=2.2.*,!=2.3.*,!=2.4.*,!=2.5.*,!=2.6.*,!=2.7.*,<3.0.0,>=1.34.1->google-cloud-aiplatform) (2025.1.31)\n",
      "Collecting pyarrow==11.0.0\n",
      "  Downloading pyarrow-11.0.0-cp310-cp310-manylinux_2_17_x86_64.manylinux2014_x86_64.whl.metadata (3.0 kB)\n",
      "Requirement already satisfied: numpy>=1.16.6 in /opt/conda/lib/python3.10/site-packages (from pyarrow==11.0.0) (2.1.3)\n",
      "Downloading pyarrow-11.0.0-cp310-cp310-manylinux_2_17_x86_64.manylinux2014_x86_64.whl (34.9 MB)\n",
      "\u001b[2K   \u001b[90m━━━━━━━━━━━━━━━━━━━━━━━━━━━━━━━━━━━━━━━━\u001b[0m \u001b[32m34.9/34.9 MB\u001b[0m \u001b[31m120.5 MB/s\u001b[0m eta \u001b[36m0:00:00\u001b[0m00:01\u001b[0m\n",
      "\u001b[?25hInstalling collected packages: pyarrow\n",
      "\u001b[33m  WARNING: The script plasma_store is installed in '/home/jupyter/.local/bin' which is not on PATH.\n",
      "  Consider adding this directory to PATH or, if you prefer to suppress this warning, use --no-warn-script-location.\u001b[0m\u001b[33m\n",
      "\u001b[0m\u001b[31mERROR: pip's dependency resolver does not currently take into account all the packages that are installed. This behaviour is the source of the following dependency conflicts.\n",
      "bigframes 1.42.0 requires pyarrow>=15.0.2, but you have pyarrow 11.0.0 which is incompatible.\u001b[0m\u001b[31m\n",
      "\u001b[0mSuccessfully installed pyarrow-11.0.0\n",
      "Requirement already satisfied: google-cloud-bigquery in /opt/conda/lib/python3.10/site-packages (3.31.0)\n",
      "Requirement already satisfied: google-api-core<3.0.0,>=2.11.1 in /opt/conda/lib/python3.10/site-packages (from google-api-core[grpc]<3.0.0,>=2.11.1->google-cloud-bigquery) (2.24.2)\n",
      "Requirement already satisfied: google-auth<3.0.0,>=2.14.1 in /opt/conda/lib/python3.10/site-packages (from google-cloud-bigquery) (2.38.0)\n",
      "Requirement already satisfied: google-cloud-core<3.0.0,>=2.4.1 in /opt/conda/lib/python3.10/site-packages (from google-cloud-bigquery) (2.4.3)\n",
      "Requirement already satisfied: google-resumable-media<3.0.0,>=2.0.0 in /opt/conda/lib/python3.10/site-packages (from google-cloud-bigquery) (2.7.2)\n",
      "Requirement already satisfied: packaging>=24.2.0 in /opt/conda/lib/python3.10/site-packages (from google-cloud-bigquery) (24.2)\n",
      "Requirement already satisfied: python-dateutil<3.0.0,>=2.8.2 in /opt/conda/lib/python3.10/site-packages (from google-cloud-bigquery) (2.9.0.post0)\n",
      "Requirement already satisfied: requests<3.0.0,>=2.21.0 in /opt/conda/lib/python3.10/site-packages (from google-cloud-bigquery) (2.32.3)\n",
      "Requirement already satisfied: googleapis-common-protos<2.0.0,>=1.56.2 in /opt/conda/lib/python3.10/site-packages (from google-api-core<3.0.0,>=2.11.1->google-api-core[grpc]<3.0.0,>=2.11.1->google-cloud-bigquery) (1.69.2)\n",
      "Requirement already satisfied: protobuf!=3.20.0,!=3.20.1,!=4.21.0,!=4.21.1,!=4.21.2,!=4.21.3,!=4.21.4,!=4.21.5,<7.0.0,>=3.19.5 in /opt/conda/lib/python3.10/site-packages (from google-api-core<3.0.0,>=2.11.1->google-api-core[grpc]<3.0.0,>=2.11.1->google-cloud-bigquery) (3.20.3)\n",
      "Requirement already satisfied: proto-plus<2.0.0,>=1.22.3 in /opt/conda/lib/python3.10/site-packages (from google-api-core<3.0.0,>=2.11.1->google-api-core[grpc]<3.0.0,>=2.11.1->google-cloud-bigquery) (1.26.1)\n",
      "Requirement already satisfied: grpcio<2.0dev,>=1.33.2 in /opt/conda/lib/python3.10/site-packages (from google-api-core[grpc]<3.0.0,>=2.11.1->google-cloud-bigquery) (1.71.0)\n",
      "Requirement already satisfied: grpcio-status<2.0.dev0,>=1.33.2 in /opt/conda/lib/python3.10/site-packages (from google-api-core[grpc]<3.0.0,>=2.11.1->google-cloud-bigquery) (1.49.0rc1)\n",
      "Requirement already satisfied: cachetools<6.0,>=2.0.0 in /opt/conda/lib/python3.10/site-packages (from google-auth<3.0.0,>=2.14.1->google-cloud-bigquery) (5.5.2)\n",
      "Requirement already satisfied: pyasn1-modules>=0.2.1 in /opt/conda/lib/python3.10/site-packages (from google-auth<3.0.0,>=2.14.1->google-cloud-bigquery) (0.4.2)\n",
      "Requirement already satisfied: rsa<5,>=3.1.4 in /opt/conda/lib/python3.10/site-packages (from google-auth<3.0.0,>=2.14.1->google-cloud-bigquery) (4.9)\n",
      "Requirement already satisfied: google-crc32c<2.0dev,>=1.0 in /opt/conda/lib/python3.10/site-packages (from google-resumable-media<3.0.0,>=2.0.0->google-cloud-bigquery) (1.7.1)\n",
      "Requirement already satisfied: six>=1.5 in /opt/conda/lib/python3.10/site-packages (from python-dateutil<3.0.0,>=2.8.2->google-cloud-bigquery) (1.17.0)\n",
      "Requirement already satisfied: charset_normalizer<4,>=2 in /opt/conda/lib/python3.10/site-packages (from requests<3.0.0,>=2.21.0->google-cloud-bigquery) (3.4.1)\n",
      "Requirement already satisfied: idna<4,>=2.5 in /opt/conda/lib/python3.10/site-packages (from requests<3.0.0,>=2.21.0->google-cloud-bigquery) (3.10)\n",
      "Requirement already satisfied: urllib3<3,>=1.21.1 in /opt/conda/lib/python3.10/site-packages (from requests<3.0.0,>=2.21.0->google-cloud-bigquery) (1.26.20)\n",
      "Requirement already satisfied: certifi>=2017.4.17 in /opt/conda/lib/python3.10/site-packages (from requests<3.0.0,>=2.21.0->google-cloud-bigquery) (2025.1.31)\n",
      "Requirement already satisfied: pyasn1<0.7.0,>=0.6.1 in /opt/conda/lib/python3.10/site-packages (from pyasn1-modules>=0.2.1->google-auth<3.0.0,>=2.14.1->google-cloud-bigquery) (0.6.1)\n",
      "Requirement already satisfied: google-cloud-bigquery-storage in /opt/conda/lib/python3.10/site-packages (2.30.0)\n",
      "Collecting google-cloud-bigquery-storage\n",
      "  Downloading google_cloud_bigquery_storage-2.31.0-py3-none-any.whl.metadata (9.8 kB)\n",
      "Requirement already satisfied: google-api-core!=2.0.*,!=2.1.*,!=2.10.*,!=2.2.*,!=2.3.*,!=2.4.*,!=2.5.*,!=2.6.*,!=2.7.*,!=2.8.*,!=2.9.*,<3.0.0,>=1.34.0 in /opt/conda/lib/python3.10/site-packages (from google-api-core[grpc]!=2.0.*,!=2.1.*,!=2.10.*,!=2.2.*,!=2.3.*,!=2.4.*,!=2.5.*,!=2.6.*,!=2.7.*,!=2.8.*,!=2.9.*,<3.0.0,>=1.34.0->google-cloud-bigquery-storage) (2.24.2)\n",
      "Requirement already satisfied: google-auth<3.0.0,>=2.14.1 in /opt/conda/lib/python3.10/site-packages (from google-cloud-bigquery-storage) (2.38.0)\n",
      "Requirement already satisfied: proto-plus<2.0.0,>=1.22.0 in /opt/conda/lib/python3.10/site-packages (from google-cloud-bigquery-storage) (1.26.1)\n",
      "Requirement already satisfied: protobuf!=3.20.0,!=3.20.1,!=4.21.0,!=4.21.1,!=4.21.2,!=4.21.3,!=4.21.4,!=4.21.5,<7.0.0,>=3.20.2 in /opt/conda/lib/python3.10/site-packages (from google-cloud-bigquery-storage) (3.20.3)\n",
      "Requirement already satisfied: googleapis-common-protos<2.0.0,>=1.56.2 in /opt/conda/lib/python3.10/site-packages (from google-api-core!=2.0.*,!=2.1.*,!=2.10.*,!=2.2.*,!=2.3.*,!=2.4.*,!=2.5.*,!=2.6.*,!=2.7.*,!=2.8.*,!=2.9.*,<3.0.0,>=1.34.0->google-api-core[grpc]!=2.0.*,!=2.1.*,!=2.10.*,!=2.2.*,!=2.3.*,!=2.4.*,!=2.5.*,!=2.6.*,!=2.7.*,!=2.8.*,!=2.9.*,<3.0.0,>=1.34.0->google-cloud-bigquery-storage) (1.69.2)\n",
      "Requirement already satisfied: requests<3.0.0,>=2.18.0 in /opt/conda/lib/python3.10/site-packages (from google-api-core!=2.0.*,!=2.1.*,!=2.10.*,!=2.2.*,!=2.3.*,!=2.4.*,!=2.5.*,!=2.6.*,!=2.7.*,!=2.8.*,!=2.9.*,<3.0.0,>=1.34.0->google-api-core[grpc]!=2.0.*,!=2.1.*,!=2.10.*,!=2.2.*,!=2.3.*,!=2.4.*,!=2.5.*,!=2.6.*,!=2.7.*,!=2.8.*,!=2.9.*,<3.0.0,>=1.34.0->google-cloud-bigquery-storage) (2.32.3)\n",
      "Requirement already satisfied: grpcio<2.0dev,>=1.33.2 in /opt/conda/lib/python3.10/site-packages (from google-api-core[grpc]!=2.0.*,!=2.1.*,!=2.10.*,!=2.2.*,!=2.3.*,!=2.4.*,!=2.5.*,!=2.6.*,!=2.7.*,!=2.8.*,!=2.9.*,<3.0.0,>=1.34.0->google-cloud-bigquery-storage) (1.71.0)\n",
      "Requirement already satisfied: grpcio-status<2.0.dev0,>=1.33.2 in /opt/conda/lib/python3.10/site-packages (from google-api-core[grpc]!=2.0.*,!=2.1.*,!=2.10.*,!=2.2.*,!=2.3.*,!=2.4.*,!=2.5.*,!=2.6.*,!=2.7.*,!=2.8.*,!=2.9.*,<3.0.0,>=1.34.0->google-cloud-bigquery-storage) (1.49.0rc1)\n",
      "Requirement already satisfied: cachetools<6.0,>=2.0.0 in /opt/conda/lib/python3.10/site-packages (from google-auth<3.0.0,>=2.14.1->google-cloud-bigquery-storage) (5.5.2)\n",
      "Requirement already satisfied: pyasn1-modules>=0.2.1 in /opt/conda/lib/python3.10/site-packages (from google-auth<3.0.0,>=2.14.1->google-cloud-bigquery-storage) (0.4.2)\n",
      "Requirement already satisfied: rsa<5,>=3.1.4 in /opt/conda/lib/python3.10/site-packages (from google-auth<3.0.0,>=2.14.1->google-cloud-bigquery-storage) (4.9)\n",
      "Requirement already satisfied: pyasn1<0.7.0,>=0.6.1 in /opt/conda/lib/python3.10/site-packages (from pyasn1-modules>=0.2.1->google-auth<3.0.0,>=2.14.1->google-cloud-bigquery-storage) (0.6.1)\n",
      "Requirement already satisfied: charset_normalizer<4,>=2 in /opt/conda/lib/python3.10/site-packages (from requests<3.0.0,>=2.18.0->google-api-core!=2.0.*,!=2.1.*,!=2.10.*,!=2.2.*,!=2.3.*,!=2.4.*,!=2.5.*,!=2.6.*,!=2.7.*,!=2.8.*,!=2.9.*,<3.0.0,>=1.34.0->google-api-core[grpc]!=2.0.*,!=2.1.*,!=2.10.*,!=2.2.*,!=2.3.*,!=2.4.*,!=2.5.*,!=2.6.*,!=2.7.*,!=2.8.*,!=2.9.*,<3.0.0,>=1.34.0->google-cloud-bigquery-storage) (3.4.1)\n",
      "Requirement already satisfied: idna<4,>=2.5 in /opt/conda/lib/python3.10/site-packages (from requests<3.0.0,>=2.18.0->google-api-core!=2.0.*,!=2.1.*,!=2.10.*,!=2.2.*,!=2.3.*,!=2.4.*,!=2.5.*,!=2.6.*,!=2.7.*,!=2.8.*,!=2.9.*,<3.0.0,>=1.34.0->google-api-core[grpc]!=2.0.*,!=2.1.*,!=2.10.*,!=2.2.*,!=2.3.*,!=2.4.*,!=2.5.*,!=2.6.*,!=2.7.*,!=2.8.*,!=2.9.*,<3.0.0,>=1.34.0->google-cloud-bigquery-storage) (3.10)\n",
      "Requirement already satisfied: urllib3<3,>=1.21.1 in /opt/conda/lib/python3.10/site-packages (from requests<3.0.0,>=2.18.0->google-api-core!=2.0.*,!=2.1.*,!=2.10.*,!=2.2.*,!=2.3.*,!=2.4.*,!=2.5.*,!=2.6.*,!=2.7.*,!=2.8.*,!=2.9.*,<3.0.0,>=1.34.0->google-api-core[grpc]!=2.0.*,!=2.1.*,!=2.10.*,!=2.2.*,!=2.3.*,!=2.4.*,!=2.5.*,!=2.6.*,!=2.7.*,!=2.8.*,!=2.9.*,<3.0.0,>=1.34.0->google-cloud-bigquery-storage) (1.26.20)\n",
      "Requirement already satisfied: certifi>=2017.4.17 in /opt/conda/lib/python3.10/site-packages (from requests<3.0.0,>=2.18.0->google-api-core!=2.0.*,!=2.1.*,!=2.10.*,!=2.2.*,!=2.3.*,!=2.4.*,!=2.5.*,!=2.6.*,!=2.7.*,!=2.8.*,!=2.9.*,<3.0.0,>=1.34.0->google-api-core[grpc]!=2.0.*,!=2.1.*,!=2.10.*,!=2.2.*,!=2.3.*,!=2.4.*,!=2.5.*,!=2.6.*,!=2.7.*,!=2.8.*,!=2.9.*,<3.0.0,>=1.34.0->google-cloud-bigquery-storage) (2025.1.31)\n",
      "Downloading google_cloud_bigquery_storage-2.31.0-py3-none-any.whl (256 kB)\n",
      "Installing collected packages: google-cloud-bigquery-storage\n",
      "Successfully installed google-cloud-bigquery-storage-2.31.0\n",
      "Requirement already satisfied: google-cloud-storage in /opt/conda/lib/python3.10/site-packages (2.19.0)\n",
      "Collecting google-cloud-storage\n",
      "  Downloading google_cloud_storage-3.1.0-py2.py3-none-any.whl.metadata (12 kB)\n",
      "Requirement already satisfied: google-auth<3.0dev,>=2.26.1 in /opt/conda/lib/python3.10/site-packages (from google-cloud-storage) (2.38.0)\n",
      "Requirement already satisfied: google-api-core<3.0.0dev,>=2.15.0 in /opt/conda/lib/python3.10/site-packages (from google-cloud-storage) (2.24.2)\n",
      "Requirement already satisfied: google-cloud-core<3.0dev,>=2.4.2 in /opt/conda/lib/python3.10/site-packages (from google-cloud-storage) (2.4.3)\n",
      "Requirement already satisfied: google-resumable-media>=2.7.2 in /opt/conda/lib/python3.10/site-packages (from google-cloud-storage) (2.7.2)\n",
      "Requirement already satisfied: requests<3.0.0dev,>=2.18.0 in /opt/conda/lib/python3.10/site-packages (from google-cloud-storage) (2.32.3)\n",
      "Requirement already satisfied: google-crc32c<2.0dev,>=1.0 in /opt/conda/lib/python3.10/site-packages (from google-cloud-storage) (1.7.1)\n",
      "Requirement already satisfied: googleapis-common-protos<2.0.0,>=1.56.2 in /opt/conda/lib/python3.10/site-packages (from google-api-core<3.0.0dev,>=2.15.0->google-cloud-storage) (1.69.2)\n",
      "Requirement already satisfied: protobuf!=3.20.0,!=3.20.1,!=4.21.0,!=4.21.1,!=4.21.2,!=4.21.3,!=4.21.4,!=4.21.5,<7.0.0,>=3.19.5 in /opt/conda/lib/python3.10/site-packages (from google-api-core<3.0.0dev,>=2.15.0->google-cloud-storage) (3.20.3)\n",
      "Requirement already satisfied: proto-plus<2.0.0,>=1.22.3 in /opt/conda/lib/python3.10/site-packages (from google-api-core<3.0.0dev,>=2.15.0->google-cloud-storage) (1.26.1)\n",
      "Requirement already satisfied: cachetools<6.0,>=2.0.0 in /opt/conda/lib/python3.10/site-packages (from google-auth<3.0dev,>=2.26.1->google-cloud-storage) (5.5.2)\n",
      "Requirement already satisfied: pyasn1-modules>=0.2.1 in /opt/conda/lib/python3.10/site-packages (from google-auth<3.0dev,>=2.26.1->google-cloud-storage) (0.4.2)\n",
      "Requirement already satisfied: rsa<5,>=3.1.4 in /opt/conda/lib/python3.10/site-packages (from google-auth<3.0dev,>=2.26.1->google-cloud-storage) (4.9)\n",
      "Requirement already satisfied: charset_normalizer<4,>=2 in /opt/conda/lib/python3.10/site-packages (from requests<3.0.0dev,>=2.18.0->google-cloud-storage) (3.4.1)\n",
      "Requirement already satisfied: idna<4,>=2.5 in /opt/conda/lib/python3.10/site-packages (from requests<3.0.0dev,>=2.18.0->google-cloud-storage) (3.10)\n",
      "Requirement already satisfied: urllib3<3,>=1.21.1 in /opt/conda/lib/python3.10/site-packages (from requests<3.0.0dev,>=2.18.0->google-cloud-storage) (1.26.20)\n",
      "Requirement already satisfied: certifi>=2017.4.17 in /opt/conda/lib/python3.10/site-packages (from requests<3.0.0dev,>=2.18.0->google-cloud-storage) (2025.1.31)\n",
      "Requirement already satisfied: pyasn1<0.7.0,>=0.6.1 in /opt/conda/lib/python3.10/site-packages (from pyasn1-modules>=0.2.1->google-auth<3.0dev,>=2.26.1->google-cloud-storage) (0.6.1)\n",
      "Downloading google_cloud_storage-3.1.0-py2.py3-none-any.whl (174 kB)\n",
      "Installing collected packages: google-cloud-storage\n",
      "\u001b[31mERROR: pip's dependency resolver does not currently take into account all the packages that are installed. This behaviour is the source of the following dependency conflicts.\n",
      "bigframes 1.42.0 requires pyarrow>=15.0.2, but you have pyarrow 11.0.0 which is incompatible.\n",
      "google-cloud-aiplatform 1.86.0 requires google-cloud-storage<3.0.0,>=1.32.0, but you have google-cloud-storage 3.1.0 which is incompatible.\n",
      "kfp 2.5.0 requires google-cloud-storage<3,>=2.2.1, but you have google-cloud-storage 3.1.0 which is incompatible.\u001b[0m\u001b[31m\n",
      "\u001b[0mSuccessfully installed google-cloud-storage-3.1.0\n",
      "Requirement already satisfied: db-dtypes in /opt/conda/lib/python3.10/site-packages (1.4.2)\n",
      "Requirement already satisfied: packaging>=17.0 in /opt/conda/lib/python3.10/site-packages (from db-dtypes) (24.2)\n",
      "Requirement already satisfied: pandas>=0.24.2 in /opt/conda/lib/python3.10/site-packages (from db-dtypes) (2.2.3)\n",
      "Requirement already satisfied: pyarrow>=3.0.0 in ./.local/lib/python3.10/site-packages (from db-dtypes) (11.0.0)\n",
      "Requirement already satisfied: numpy>=1.16.6 in /opt/conda/lib/python3.10/site-packages (from db-dtypes) (2.1.3)\n",
      "Requirement already satisfied: python-dateutil>=2.8.2 in /opt/conda/lib/python3.10/site-packages (from pandas>=0.24.2->db-dtypes) (2.9.0.post0)\n",
      "Requirement already satisfied: pytz>=2020.1 in /opt/conda/lib/python3.10/site-packages (from pandas>=0.24.2->db-dtypes) (2025.2)\n",
      "Requirement already satisfied: tzdata>=2022.7 in /opt/conda/lib/python3.10/site-packages (from pandas>=0.24.2->db-dtypes) (2025.2)\n",
      "Requirement already satisfied: six>=1.5 in /opt/conda/lib/python3.10/site-packages (from python-dateutil>=2.8.2->pandas>=0.24.2->db-dtypes) (1.17.0)\n"
     ]
    }
   ],
   "source": [
    "!pip3 install google-cloud-aiplatform --user\n",
    "!pip3 install pyarrow==11.0.0 --user\n",
    "!pip3 install --upgrade google-cloud-bigquery --user\n",
    "!pip3 install --upgrade google-cloud-bigquery-storage --user\n",
    "!pip3 install --upgrade google-cloud-storage --user\n",
    "!pip install db-dtypes"
   ]
  },
  {
   "cell_type": "markdown",
   "id": "32ae1c8a",
   "metadata": {},
   "source": [
    "**Restart the kernel and ignore the compatibility errors.**"
   ]
  },
  {
   "cell_type": "markdown",
   "id": "0cbbab34",
   "metadata": {},
   "source": [
    "### Define constants"
   ]
  },
  {
   "cell_type": "code",
   "execution_count": 2,
   "id": "edbc96b2",
   "metadata": {
    "tags": []
   },
   "outputs": [
    {
     "data": {
      "text/plain": [
       "'qwiklabs-gcp-00-338e5cf6cdd5'"
      ]
     },
     "execution_count": 2,
     "metadata": {},
     "output_type": "execute_result"
    }
   ],
   "source": [
    "# Retrieve and set PROJECT_ID and REGION environment variables.\n",
    "PROJECT_ID = !(gcloud config get-value core/project)\n",
    "PROJECT_ID = PROJECT_ID[0]\n",
    "PROJECT_ID"
   ]
  },
  {
   "cell_type": "markdown",
   "id": "1b1bea8f",
   "metadata": {},
   "source": [
    "**Note:** Replace the <code>REGION</code> with the associated region mentioned in the qwiklabs resource panel."
   ]
  },
  {
   "cell_type": "code",
   "execution_count": 3,
   "id": "935a4807",
   "metadata": {
    "tags": []
   },
   "outputs": [
    {
     "data": {
      "text/plain": [
       "'us-central1'"
      ]
     },
     "execution_count": 3,
     "metadata": {},
     "output_type": "execute_result"
    }
   ],
   "source": [
    "BQ_LOCATION = 'US'\n",
    "REGION = !gcloud compute project-info describe --format=\"value(commonInstanceMetadata.items[google-compute-default-region])\"\n",
    "REGION = REGION[0]\n",
    "REGION"
   ]
  },
  {
   "cell_type": "code",
   "execution_count": 4,
   "id": "b8363e36-776a-4dc1-b8b6-9f45deddd991",
   "metadata": {
    "tags": []
   },
   "outputs": [
    {
     "name": "stdout",
     "output_type": "stream",
     "text": [
      "Please like, share, and subscribe to Techcps!\n",
      "YouTube link: https://www.youtube.com/@techcps\n"
     ]
    }
   ],
   "source": [
    "# Please like, share, and subscribe to Techcps!\n",
    "# YouTube link: https://www.youtube.com/@techcps\n",
    "\n",
    "print(\"Please like, share, and subscribe to Techcps!\")\n",
    "print(\"YouTube link: https://www.youtube.com/@techcps\")"
   ]
  },
  {
   "cell_type": "markdown",
   "id": "1b1bea9f",
   "metadata": {},
   "source": [
    "### Import libraries"
   ]
  },
  {
   "cell_type": "code",
   "execution_count": 5,
   "id": "4afdade5",
   "metadata": {
    "tags": []
   },
   "outputs": [],
   "source": [
    "from google.cloud import bigquery\n",
    "from google.cloud import aiplatform as vertexai\n",
    "import numpy as np\n",
    "import pandas as pd"
   ]
  },
  {
   "cell_type": "markdown",
   "id": "76acc5de",
   "metadata": {},
   "source": [
    "### Create a GCS bucket for artifact storage"
   ]
  },
  {
   "cell_type": "markdown",
   "id": "abc13d5c",
   "metadata": {},
   "source": [
    "Create a globally unique Google Cloud Storage bucket for artifact storage. You will use this bucket to export your BQML model later in the lab and upload it to Vertex AI."
   ]
  },
  {
   "cell_type": "code",
   "execution_count": 6,
   "id": "d7682097",
   "metadata": {
    "tags": []
   },
   "outputs": [],
   "source": [
    "GCS_BUCKET = f\"{PROJECT_ID}-bqmlga4\""
   ]
  },
  {
   "cell_type": "code",
   "execution_count": 7,
   "id": "c003d940",
   "metadata": {
    "tags": []
   },
   "outputs": [
    {
     "name": "stdout",
     "output_type": "stream",
     "text": [
      "Creating gs://qwiklabs-gcp-00-338e5cf6cdd5-bqmlga4/...\n"
     ]
    }
   ],
   "source": [
    "!gsutil mb -l $REGION gs://$GCS_BUCKET"
   ]
  },
  {
   "cell_type": "markdown",
   "id": "cd34ed14",
   "metadata": {},
   "source": [
    "### Create a BigQuery dataset"
   ]
  },
  {
   "cell_type": "markdown",
   "id": "a93d1373",
   "metadata": {},
   "source": [
    "Next, create a BigQuery dataset from this notebook using the Python-based [`bq` command line utility](https://cloud.google.com/bigquery/docs/bq-command-line-tool). \n",
    "\n",
    "This dataset will group your feature views, model, and predictions table together. You can view it in the [BigQuery](https://pantheon.corp.google.com/bigquery) console."
   ]
  },
  {
   "cell_type": "code",
   "execution_count": 8,
   "id": "fd775fe7",
   "metadata": {
    "tags": []
   },
   "outputs": [],
   "source": [
    "BQ_DATASET = f\"{PROJECT_ID}:bqmlga4\""
   ]
  },
  {
   "cell_type": "code",
   "execution_count": 9,
   "id": "53014527",
   "metadata": {
    "tags": []
   },
   "outputs": [
    {
     "name": "stdout",
     "output_type": "stream",
     "text": [
      "Dataset 'qwiklabs-gcp-00-338e5cf6cdd5:bqmlga4' successfully created.\n"
     ]
    }
   ],
   "source": [
    "!bq mk --location={BQ_LOCATION} --dataset {BQ_DATASET}"
   ]
  },
  {
   "cell_type": "markdown",
   "id": "86c8624c",
   "metadata": {},
   "source": [
    "### Initialize the Vertex Python SDK client"
   ]
  },
  {
   "cell_type": "markdown",
   "id": "af877157",
   "metadata": {},
   "source": [
    "Import the Vertex SDK for Python into your Python environment and initialize it."
   ]
  },
  {
   "cell_type": "code",
   "execution_count": 10,
   "id": "5d992f3c",
   "metadata": {
    "tags": []
   },
   "outputs": [],
   "source": [
    "vertexai.init(project=PROJECT_ID, location=REGION, staging_bucket=f\"gs://{GCS_BUCKET}\")"
   ]
  },
  {
   "cell_type": "markdown",
   "id": "45dc2862",
   "metadata": {},
   "source": [
    "## Exploratory Data Analysis (EDA) in BigQuery"
   ]
  },
  {
   "cell_type": "markdown",
   "id": "0cacbd08",
   "metadata": {},
   "source": [
    "This lab uses a [public BigQuery dataset]() that contains raw event data from a real mobile gaming app called **Flood it!** ([Android app](https://play.google.com/store/apps/details?id=com.labpixies.flood), [iOS app](https://itunes.apple.com/us/app/flood-it!/id476943146?mt=8)).\n",
    "\n",
    "The data schema originates from Google Analytics for Firebase but is the same schema as [Google Analytics 4](https://support.google.com/analytics/answer/9358801).\n",
    "\n",
    "Take a look at a sample of the raw event dataset using the query below:"
   ]
  },
  {
   "cell_type": "code",
   "execution_count": 11,
   "id": "049d2d38",
   "metadata": {
    "tags": []
   },
   "outputs": [
    {
     "data": {
      "application/vnd.jupyter.widget-view+json": {
       "model_id": "30cb22cea3f44be7b51d4608f83cc68b",
       "version_major": 2,
       "version_minor": 0
      },
      "text/plain": [
       "Query is running:   0%|          |"
      ]
     },
     "metadata": {},
     "output_type": "display_data"
    },
    {
     "data": {
      "application/vnd.jupyter.widget-view+json": {
       "model_id": "28f073d051234100994634b49b9f2009",
       "version_major": 2,
       "version_minor": 0
      },
      "text/plain": [
       "Downloading:   0%|          |"
      ]
     },
     "metadata": {},
     "output_type": "display_data"
    },
    {
     "data": {
      "text/html": [
       "<div>\n",
       "<style scoped>\n",
       "    .dataframe tbody tr th:only-of-type {\n",
       "        vertical-align: middle;\n",
       "    }\n",
       "\n",
       "    .dataframe tbody tr th {\n",
       "        vertical-align: top;\n",
       "    }\n",
       "\n",
       "    .dataframe thead th {\n",
       "        text-align: right;\n",
       "    }\n",
       "</style>\n",
       "<table border=\"1\" class=\"dataframe\">\n",
       "  <thead>\n",
       "    <tr style=\"text-align: right;\">\n",
       "      <th></th>\n",
       "      <th>event_date</th>\n",
       "      <th>event_timestamp</th>\n",
       "      <th>event_name</th>\n",
       "      <th>event_params</th>\n",
       "      <th>event_previous_timestamp</th>\n",
       "      <th>event_value_in_usd</th>\n",
       "      <th>event_bundle_sequence_id</th>\n",
       "      <th>event_server_timestamp_offset</th>\n",
       "      <th>user_id</th>\n",
       "      <th>user_pseudo_id</th>\n",
       "      <th>user_properties</th>\n",
       "      <th>user_first_touch_timestamp</th>\n",
       "      <th>user_ltv</th>\n",
       "      <th>device</th>\n",
       "      <th>geo</th>\n",
       "      <th>app_info</th>\n",
       "      <th>traffic_source</th>\n",
       "      <th>stream_id</th>\n",
       "      <th>platform</th>\n",
       "      <th>event_dimensions</th>\n",
       "    </tr>\n",
       "  </thead>\n",
       "  <tbody>\n",
       "    <tr>\n",
       "      <th>0</th>\n",
       "      <td>20180730</td>\n",
       "      <td>1532937052139000</td>\n",
       "      <td>session_start</td>\n",
       "      <td>[{'key': 'firebase_conversion', 'value': {'str...</td>\n",
       "      <td>1507906381913000</td>\n",
       "      <td>NaN</td>\n",
       "      <td>81</td>\n",
       "      <td>-2597788</td>\n",
       "      <td>None</td>\n",
       "      <td>416A038777CD9E8FC54D83A9E927FC3B</td>\n",
       "      <td>[{'key': 'initial_extra_steps', 'value': {'str...</td>\n",
       "      <td>1477932391919000</td>\n",
       "      <td>None</td>\n",
       "      <td>{'category': 'mobile', 'mobile_brand_name': 'n...</td>\n",
       "      <td>{'continent': 'Europe', 'country': 'Germany', ...</td>\n",
       "      <td>{'id': 'com.labpixies.flood', 'version': '2.62...</td>\n",
       "      <td>{'name': '(direct)', 'medium': '(none)', 'sour...</td>\n",
       "      <td>1051193346</td>\n",
       "      <td>ANDROID</td>\n",
       "      <td>None</td>\n",
       "    </tr>\n",
       "    <tr>\n",
       "      <th>1</th>\n",
       "      <td>20180730</td>\n",
       "      <td>1532937050726000</td>\n",
       "      <td>user_engagement</td>\n",
       "      <td>[{'key': 'firebase_screen_class', 'value': {'s...</td>\n",
       "      <td>1532936963130000</td>\n",
       "      <td>NaN</td>\n",
       "      <td>82</td>\n",
       "      <td>-2699067</td>\n",
       "      <td>None</td>\n",
       "      <td>416A038777CD9E8FC54D83A9E927FC3B</td>\n",
       "      <td>[{'key': 'initial_extra_steps', 'value': {'str...</td>\n",
       "      <td>1477932391919000</td>\n",
       "      <td>None</td>\n",
       "      <td>{'category': 'mobile', 'mobile_brand_name': 'n...</td>\n",
       "      <td>{'continent': 'Europe', 'country': 'Germany', ...</td>\n",
       "      <td>{'id': 'com.labpixies.flood', 'version': '2.62...</td>\n",
       "      <td>{'name': '(direct)', 'medium': '(none)', 'sour...</td>\n",
       "      <td>1051193346</td>\n",
       "      <td>ANDROID</td>\n",
       "      <td>None</td>\n",
       "    </tr>\n",
       "    <tr>\n",
       "      <th>2</th>\n",
       "      <td>20180730</td>\n",
       "      <td>1532937471503002</td>\n",
       "      <td>user_engagement</td>\n",
       "      <td>[{'key': 'firebase_screen_class', 'value': {'s...</td>\n",
       "      <td>1532936992726002</td>\n",
       "      <td>NaN</td>\n",
       "      <td>82</td>\n",
       "      <td>-2699067</td>\n",
       "      <td>None</td>\n",
       "      <td>416A038777CD9E8FC54D83A9E927FC3B</td>\n",
       "      <td>[{'key': 'initial_extra_steps', 'value': {'str...</td>\n",
       "      <td>1477932391919000</td>\n",
       "      <td>None</td>\n",
       "      <td>{'category': 'mobile', 'mobile_brand_name': 'n...</td>\n",
       "      <td>{'continent': 'Europe', 'country': 'Germany', ...</td>\n",
       "      <td>{'id': 'com.labpixies.flood', 'version': '2.62...</td>\n",
       "      <td>{'name': '(direct)', 'medium': '(none)', 'sour...</td>\n",
       "      <td>1051193346</td>\n",
       "      <td>ANDROID</td>\n",
       "      <td>None</td>\n",
       "    </tr>\n",
       "    <tr>\n",
       "      <th>3</th>\n",
       "      <td>20180730</td>\n",
       "      <td>1532966753863026</td>\n",
       "      <td>post_score</td>\n",
       "      <td>[{'key': 'time', 'value': {'string_value': Non...</td>\n",
       "      <td>1532361737221026</td>\n",
       "      <td>NaN</td>\n",
       "      <td>94</td>\n",
       "      <td>1321297</td>\n",
       "      <td>None</td>\n",
       "      <td>E6850F5E0DAB3E339C6A36BDEECCA26F</td>\n",
       "      <td>[{'key': 'initial_extra_steps', 'value': {'str...</td>\n",
       "      <td>1528480400416000</td>\n",
       "      <td>None</td>\n",
       "      <td>{'category': 'mobile', 'mobile_brand_name': 'n...</td>\n",
       "      <td>{'continent': 'Americas', 'country': 'United S...</td>\n",
       "      <td>{'id': 'com.labpixies.flood', 'version': '2.62...</td>\n",
       "      <td>{'name': None, 'medium': 'organic', 'source': ...</td>\n",
       "      <td>1051193346</td>\n",
       "      <td>ANDROID</td>\n",
       "      <td>None</td>\n",
       "    </tr>\n",
       "    <tr>\n",
       "      <th>4</th>\n",
       "      <td>20180730</td>\n",
       "      <td>1532966765948039</td>\n",
       "      <td>post_score</td>\n",
       "      <td>[{'key': 'time', 'value': {'string_value': Non...</td>\n",
       "      <td>1532966681863039</td>\n",
       "      <td>NaN</td>\n",
       "      <td>94</td>\n",
       "      <td>1321297</td>\n",
       "      <td>None</td>\n",
       "      <td>E6850F5E0DAB3E339C6A36BDEECCA26F</td>\n",
       "      <td>[{'key': 'initial_extra_steps', 'value': {'str...</td>\n",
       "      <td>1528480400416000</td>\n",
       "      <td>None</td>\n",
       "      <td>{'category': 'mobile', 'mobile_brand_name': 'n...</td>\n",
       "      <td>{'continent': 'Americas', 'country': 'United S...</td>\n",
       "      <td>{'id': 'com.labpixies.flood', 'version': '2.62...</td>\n",
       "      <td>{'name': None, 'medium': 'organic', 'source': ...</td>\n",
       "      <td>1051193346</td>\n",
       "      <td>ANDROID</td>\n",
       "      <td>None</td>\n",
       "    </tr>\n",
       "    <tr>\n",
       "      <th>...</th>\n",
       "      <td>...</td>\n",
       "      <td>...</td>\n",
       "      <td>...</td>\n",
       "      <td>...</td>\n",
       "      <td>...</td>\n",
       "      <td>...</td>\n",
       "      <td>...</td>\n",
       "      <td>...</td>\n",
       "      <td>...</td>\n",
       "      <td>...</td>\n",
       "      <td>...</td>\n",
       "      <td>...</td>\n",
       "      <td>...</td>\n",
       "      <td>...</td>\n",
       "      <td>...</td>\n",
       "      <td>...</td>\n",
       "      <td>...</td>\n",
       "      <td>...</td>\n",
       "      <td>...</td>\n",
       "      <td>...</td>\n",
       "    </tr>\n",
       "    <tr>\n",
       "      <th>49995</th>\n",
       "      <td>20180730</td>\n",
       "      <td>1532947443207003</td>\n",
       "      <td>level_start</td>\n",
       "      <td>[{'key': 'level_name', 'value': {'string_value...</td>\n",
       "      <td>1532819264035003</td>\n",
       "      <td>NaN</td>\n",
       "      <td>41</td>\n",
       "      <td>-940420</td>\n",
       "      <td>None</td>\n",
       "      <td>70EB1D4B62D7BBC62941EBC5015D1E57</td>\n",
       "      <td>[{'key': 'first_open_time', 'value': {'string_...</td>\n",
       "      <td>1510388001995000</td>\n",
       "      <td>None</td>\n",
       "      <td>{'category': 'mobile', 'mobile_brand_name': 'n...</td>\n",
       "      <td>{'continent': 'Europe', 'country': 'United Kin...</td>\n",
       "      <td>{'id': 'com.labpixies.flood', 'version': '2.62...</td>\n",
       "      <td>{'name': '(direct)', 'medium': '(none)', 'sour...</td>\n",
       "      <td>1051193346</td>\n",
       "      <td>ANDROID</td>\n",
       "      <td>None</td>\n",
       "    </tr>\n",
       "    <tr>\n",
       "      <th>49996</th>\n",
       "      <td>20180730</td>\n",
       "      <td>1532947427302000</td>\n",
       "      <td>session_start</td>\n",
       "      <td>[{'key': 'firebase_conversion', 'value': {'str...</td>\n",
       "      <td>1532819188857000</td>\n",
       "      <td>NaN</td>\n",
       "      <td>41</td>\n",
       "      <td>-940420</td>\n",
       "      <td>None</td>\n",
       "      <td>70EB1D4B62D7BBC62941EBC5015D1E57</td>\n",
       "      <td>[{'key': 'first_open_time', 'value': {'string_...</td>\n",
       "      <td>1510388001995000</td>\n",
       "      <td>None</td>\n",
       "      <td>{'category': 'mobile', 'mobile_brand_name': 'n...</td>\n",
       "      <td>{'continent': 'Europe', 'country': 'United Kin...</td>\n",
       "      <td>{'id': 'com.labpixies.flood', 'version': '2.62...</td>\n",
       "      <td>{'name': '(direct)', 'medium': '(none)', 'sour...</td>\n",
       "      <td>1051193346</td>\n",
       "      <td>ANDROID</td>\n",
       "      <td>None</td>\n",
       "    </tr>\n",
       "    <tr>\n",
       "      <th>49997</th>\n",
       "      <td>20180730</td>\n",
       "      <td>1532947477206000</td>\n",
       "      <td>screen_view</td>\n",
       "      <td>[{'key': 'firebase_screen_class', 'value': {'s...</td>\n",
       "      <td>1532819264044000</td>\n",
       "      <td>NaN</td>\n",
       "      <td>41</td>\n",
       "      <td>-940420</td>\n",
       "      <td>None</td>\n",
       "      <td>70EB1D4B62D7BBC62941EBC5015D1E57</td>\n",
       "      <td>[{'key': 'first_open_time', 'value': {'string_...</td>\n",
       "      <td>1510388001995000</td>\n",
       "      <td>None</td>\n",
       "      <td>{'category': 'mobile', 'mobile_brand_name': 'n...</td>\n",
       "      <td>{'continent': 'Europe', 'country': 'United Kin...</td>\n",
       "      <td>{'id': 'com.labpixies.flood', 'version': '2.62...</td>\n",
       "      <td>{'name': '(direct)', 'medium': '(none)', 'sour...</td>\n",
       "      <td>1051193346</td>\n",
       "      <td>ANDROID</td>\n",
       "      <td>None</td>\n",
       "    </tr>\n",
       "    <tr>\n",
       "      <th>49998</th>\n",
       "      <td>20180730</td>\n",
       "      <td>1532947416437000</td>\n",
       "      <td>user_engagement</td>\n",
       "      <td>[{'key': 'firebase_screen_class', 'value': {'s...</td>\n",
       "      <td>1532819272874000</td>\n",
       "      <td>NaN</td>\n",
       "      <td>42</td>\n",
       "      <td>-612144</td>\n",
       "      <td>None</td>\n",
       "      <td>70EB1D4B62D7BBC62941EBC5015D1E57</td>\n",
       "      <td>[{'key': 'first_open_time', 'value': {'string_...</td>\n",
       "      <td>1510388001995000</td>\n",
       "      <td>None</td>\n",
       "      <td>{'category': 'mobile', 'mobile_brand_name': 'n...</td>\n",
       "      <td>{'continent': 'Europe', 'country': 'United Kin...</td>\n",
       "      <td>{'id': 'com.labpixies.flood', 'version': '2.62...</td>\n",
       "      <td>{'name': '(direct)', 'medium': '(none)', 'sour...</td>\n",
       "      <td>1051193346</td>\n",
       "      <td>ANDROID</td>\n",
       "      <td>None</td>\n",
       "    </tr>\n",
       "    <tr>\n",
       "      <th>49999</th>\n",
       "      <td>20180730</td>\n",
       "      <td>1532947442376003</td>\n",
       "      <td>user_engagement</td>\n",
       "      <td>[{'key': 'firebase_screen_class', 'value': {'s...</td>\n",
       "      <td>1532947416437003</td>\n",
       "      <td>NaN</td>\n",
       "      <td>42</td>\n",
       "      <td>-612144</td>\n",
       "      <td>None</td>\n",
       "      <td>70EB1D4B62D7BBC62941EBC5015D1E57</td>\n",
       "      <td>[{'key': 'first_open_time', 'value': {'string_...</td>\n",
       "      <td>1510388001995000</td>\n",
       "      <td>None</td>\n",
       "      <td>{'category': 'mobile', 'mobile_brand_name': 'n...</td>\n",
       "      <td>{'continent': 'Europe', 'country': 'United Kin...</td>\n",
       "      <td>{'id': 'com.labpixies.flood', 'version': '2.62...</td>\n",
       "      <td>{'name': '(direct)', 'medium': '(none)', 'sour...</td>\n",
       "      <td>1051193346</td>\n",
       "      <td>ANDROID</td>\n",
       "      <td>None</td>\n",
       "    </tr>\n",
       "  </tbody>\n",
       "</table>\n",
       "<p>50000 rows × 20 columns</p>\n",
       "</div>"
      ],
      "text/plain": [
       "      event_date   event_timestamp       event_name  \\\n",
       "0       20180730  1532937052139000    session_start   \n",
       "1       20180730  1532937050726000  user_engagement   \n",
       "2       20180730  1532937471503002  user_engagement   \n",
       "3       20180730  1532966753863026       post_score   \n",
       "4       20180730  1532966765948039       post_score   \n",
       "...          ...               ...              ...   \n",
       "49995   20180730  1532947443207003      level_start   \n",
       "49996   20180730  1532947427302000    session_start   \n",
       "49997   20180730  1532947477206000      screen_view   \n",
       "49998   20180730  1532947416437000  user_engagement   \n",
       "49999   20180730  1532947442376003  user_engagement   \n",
       "\n",
       "                                            event_params  \\\n",
       "0      [{'key': 'firebase_conversion', 'value': {'str...   \n",
       "1      [{'key': 'firebase_screen_class', 'value': {'s...   \n",
       "2      [{'key': 'firebase_screen_class', 'value': {'s...   \n",
       "3      [{'key': 'time', 'value': {'string_value': Non...   \n",
       "4      [{'key': 'time', 'value': {'string_value': Non...   \n",
       "...                                                  ...   \n",
       "49995  [{'key': 'level_name', 'value': {'string_value...   \n",
       "49996  [{'key': 'firebase_conversion', 'value': {'str...   \n",
       "49997  [{'key': 'firebase_screen_class', 'value': {'s...   \n",
       "49998  [{'key': 'firebase_screen_class', 'value': {'s...   \n",
       "49999  [{'key': 'firebase_screen_class', 'value': {'s...   \n",
       "\n",
       "       event_previous_timestamp  event_value_in_usd  event_bundle_sequence_id  \\\n",
       "0              1507906381913000                 NaN                        81   \n",
       "1              1532936963130000                 NaN                        82   \n",
       "2              1532936992726002                 NaN                        82   \n",
       "3              1532361737221026                 NaN                        94   \n",
       "4              1532966681863039                 NaN                        94   \n",
       "...                         ...                 ...                       ...   \n",
       "49995          1532819264035003                 NaN                        41   \n",
       "49996          1532819188857000                 NaN                        41   \n",
       "49997          1532819264044000                 NaN                        41   \n",
       "49998          1532819272874000                 NaN                        42   \n",
       "49999          1532947416437003                 NaN                        42   \n",
       "\n",
       "       event_server_timestamp_offset user_id  \\\n",
       "0                           -2597788    None   \n",
       "1                           -2699067    None   \n",
       "2                           -2699067    None   \n",
       "3                            1321297    None   \n",
       "4                            1321297    None   \n",
       "...                              ...     ...   \n",
       "49995                        -940420    None   \n",
       "49996                        -940420    None   \n",
       "49997                        -940420    None   \n",
       "49998                        -612144    None   \n",
       "49999                        -612144    None   \n",
       "\n",
       "                         user_pseudo_id  \\\n",
       "0      416A038777CD9E8FC54D83A9E927FC3B   \n",
       "1      416A038777CD9E8FC54D83A9E927FC3B   \n",
       "2      416A038777CD9E8FC54D83A9E927FC3B   \n",
       "3      E6850F5E0DAB3E339C6A36BDEECCA26F   \n",
       "4      E6850F5E0DAB3E339C6A36BDEECCA26F   \n",
       "...                                 ...   \n",
       "49995  70EB1D4B62D7BBC62941EBC5015D1E57   \n",
       "49996  70EB1D4B62D7BBC62941EBC5015D1E57   \n",
       "49997  70EB1D4B62D7BBC62941EBC5015D1E57   \n",
       "49998  70EB1D4B62D7BBC62941EBC5015D1E57   \n",
       "49999  70EB1D4B62D7BBC62941EBC5015D1E57   \n",
       "\n",
       "                                         user_properties  \\\n",
       "0      [{'key': 'initial_extra_steps', 'value': {'str...   \n",
       "1      [{'key': 'initial_extra_steps', 'value': {'str...   \n",
       "2      [{'key': 'initial_extra_steps', 'value': {'str...   \n",
       "3      [{'key': 'initial_extra_steps', 'value': {'str...   \n",
       "4      [{'key': 'initial_extra_steps', 'value': {'str...   \n",
       "...                                                  ...   \n",
       "49995  [{'key': 'first_open_time', 'value': {'string_...   \n",
       "49996  [{'key': 'first_open_time', 'value': {'string_...   \n",
       "49997  [{'key': 'first_open_time', 'value': {'string_...   \n",
       "49998  [{'key': 'first_open_time', 'value': {'string_...   \n",
       "49999  [{'key': 'first_open_time', 'value': {'string_...   \n",
       "\n",
       "       user_first_touch_timestamp user_ltv  \\\n",
       "0                1477932391919000     None   \n",
       "1                1477932391919000     None   \n",
       "2                1477932391919000     None   \n",
       "3                1528480400416000     None   \n",
       "4                1528480400416000     None   \n",
       "...                           ...      ...   \n",
       "49995            1510388001995000     None   \n",
       "49996            1510388001995000     None   \n",
       "49997            1510388001995000     None   \n",
       "49998            1510388001995000     None   \n",
       "49999            1510388001995000     None   \n",
       "\n",
       "                                                  device  \\\n",
       "0      {'category': 'mobile', 'mobile_brand_name': 'n...   \n",
       "1      {'category': 'mobile', 'mobile_brand_name': 'n...   \n",
       "2      {'category': 'mobile', 'mobile_brand_name': 'n...   \n",
       "3      {'category': 'mobile', 'mobile_brand_name': 'n...   \n",
       "4      {'category': 'mobile', 'mobile_brand_name': 'n...   \n",
       "...                                                  ...   \n",
       "49995  {'category': 'mobile', 'mobile_brand_name': 'n...   \n",
       "49996  {'category': 'mobile', 'mobile_brand_name': 'n...   \n",
       "49997  {'category': 'mobile', 'mobile_brand_name': 'n...   \n",
       "49998  {'category': 'mobile', 'mobile_brand_name': 'n...   \n",
       "49999  {'category': 'mobile', 'mobile_brand_name': 'n...   \n",
       "\n",
       "                                                     geo  \\\n",
       "0      {'continent': 'Europe', 'country': 'Germany', ...   \n",
       "1      {'continent': 'Europe', 'country': 'Germany', ...   \n",
       "2      {'continent': 'Europe', 'country': 'Germany', ...   \n",
       "3      {'continent': 'Americas', 'country': 'United S...   \n",
       "4      {'continent': 'Americas', 'country': 'United S...   \n",
       "...                                                  ...   \n",
       "49995  {'continent': 'Europe', 'country': 'United Kin...   \n",
       "49996  {'continent': 'Europe', 'country': 'United Kin...   \n",
       "49997  {'continent': 'Europe', 'country': 'United Kin...   \n",
       "49998  {'continent': 'Europe', 'country': 'United Kin...   \n",
       "49999  {'continent': 'Europe', 'country': 'United Kin...   \n",
       "\n",
       "                                                app_info  \\\n",
       "0      {'id': 'com.labpixies.flood', 'version': '2.62...   \n",
       "1      {'id': 'com.labpixies.flood', 'version': '2.62...   \n",
       "2      {'id': 'com.labpixies.flood', 'version': '2.62...   \n",
       "3      {'id': 'com.labpixies.flood', 'version': '2.62...   \n",
       "4      {'id': 'com.labpixies.flood', 'version': '2.62...   \n",
       "...                                                  ...   \n",
       "49995  {'id': 'com.labpixies.flood', 'version': '2.62...   \n",
       "49996  {'id': 'com.labpixies.flood', 'version': '2.62...   \n",
       "49997  {'id': 'com.labpixies.flood', 'version': '2.62...   \n",
       "49998  {'id': 'com.labpixies.flood', 'version': '2.62...   \n",
       "49999  {'id': 'com.labpixies.flood', 'version': '2.62...   \n",
       "\n",
       "                                          traffic_source   stream_id platform  \\\n",
       "0      {'name': '(direct)', 'medium': '(none)', 'sour...  1051193346  ANDROID   \n",
       "1      {'name': '(direct)', 'medium': '(none)', 'sour...  1051193346  ANDROID   \n",
       "2      {'name': '(direct)', 'medium': '(none)', 'sour...  1051193346  ANDROID   \n",
       "3      {'name': None, 'medium': 'organic', 'source': ...  1051193346  ANDROID   \n",
       "4      {'name': None, 'medium': 'organic', 'source': ...  1051193346  ANDROID   \n",
       "...                                                  ...         ...      ...   \n",
       "49995  {'name': '(direct)', 'medium': '(none)', 'sour...  1051193346  ANDROID   \n",
       "49996  {'name': '(direct)', 'medium': '(none)', 'sour...  1051193346  ANDROID   \n",
       "49997  {'name': '(direct)', 'medium': '(none)', 'sour...  1051193346  ANDROID   \n",
       "49998  {'name': '(direct)', 'medium': '(none)', 'sour...  1051193346  ANDROID   \n",
       "49999  {'name': '(direct)', 'medium': '(none)', 'sour...  1051193346  ANDROID   \n",
       "\n",
       "      event_dimensions  \n",
       "0                 None  \n",
       "1                 None  \n",
       "2                 None  \n",
       "3                 None  \n",
       "4                 None  \n",
       "...                ...  \n",
       "49995             None  \n",
       "49996             None  \n",
       "49997             None  \n",
       "49998             None  \n",
       "49999             None  \n",
       "\n",
       "[50000 rows x 20 columns]"
      ]
     },
     "execution_count": 11,
     "metadata": {},
     "output_type": "execute_result"
    }
   ],
   "source": [
    "%%bigquery --project $PROJECT_ID\n",
    "\n",
    "SELECT \n",
    "    *\n",
    "FROM\n",
    "  `firebase-public-project.analytics_153293282.events_*`\n",
    "    \n",
    "TABLESAMPLE SYSTEM (1 PERCENT)"
   ]
  },
  {
   "cell_type": "markdown",
   "id": "593f7921",
   "metadata": {},
   "source": [
    "Note: in the cell above, Jupyterlab runs cells starting with `%%bigquery` as SQL queries. "
   ]
  },
  {
   "cell_type": "markdown",
   "id": "301298d2",
   "metadata": {},
   "source": [
    "Google Analytics 4 uses an event based measurement model and each row in this dataset is an event. View the [complete schema](https://support.google.com/analytics/answer/7029846) and details about each column. As you can see above, certain columns are nested records and contain detailed information such as:\n",
    "\n",
    "* app_info\n",
    "* device\n",
    "* ecommerce\n",
    "* event_params\n",
    "* geo\n",
    "* traffic_source\n",
    "* user_properties\n",
    "* items*\n",
    "* web_info*"
   ]
  },
  {
   "cell_type": "markdown",
   "id": "47bbd90b",
   "metadata": {},
   "source": [
    "This dataset contains 5.7M events from 15K+ users."
   ]
  },
  {
   "cell_type": "code",
   "execution_count": 12,
   "id": "80c0833a",
   "metadata": {
    "tags": []
   },
   "outputs": [
    {
     "data": {
      "application/vnd.jupyter.widget-view+json": {
       "model_id": "67136b30e52b49d8a3a1de2483a28b38",
       "version_major": 2,
       "version_minor": 0
      },
      "text/plain": [
       "Query is running:   0%|          |"
      ]
     },
     "metadata": {},
     "output_type": "display_data"
    },
    {
     "data": {
      "application/vnd.jupyter.widget-view+json": {
       "model_id": "bf7a2257bf864c298d875a727b12d012",
       "version_major": 2,
       "version_minor": 0
      },
      "text/plain": [
       "Downloading:   0%|          |"
      ]
     },
     "metadata": {},
     "output_type": "display_data"
    },
    {
     "data": {
      "text/html": [
       "<div>\n",
       "<style scoped>\n",
       "    .dataframe tbody tr th:only-of-type {\n",
       "        vertical-align: middle;\n",
       "    }\n",
       "\n",
       "    .dataframe tbody tr th {\n",
       "        vertical-align: top;\n",
       "    }\n",
       "\n",
       "    .dataframe thead th {\n",
       "        text-align: right;\n",
       "    }\n",
       "</style>\n",
       "<table border=\"1\" class=\"dataframe\">\n",
       "  <thead>\n",
       "    <tr style=\"text-align: right;\">\n",
       "      <th></th>\n",
       "      <th>count_distinct_users</th>\n",
       "      <th>count_events</th>\n",
       "    </tr>\n",
       "  </thead>\n",
       "  <tbody>\n",
       "    <tr>\n",
       "      <th>0</th>\n",
       "      <td>15175</td>\n",
       "      <td>5700000</td>\n",
       "    </tr>\n",
       "  </tbody>\n",
       "</table>\n",
       "</div>"
      ],
      "text/plain": [
       "   count_distinct_users  count_events\n",
       "0                 15175       5700000"
      ]
     },
     "execution_count": 12,
     "metadata": {},
     "output_type": "execute_result"
    }
   ],
   "source": [
    "%%bigquery --project $PROJECT_ID\n",
    "\n",
    "SELECT \n",
    "    COUNT(DISTINCT user_pseudo_id) as count_distinct_users,\n",
    "    COUNT(event_timestamp) as count_events\n",
    "FROM\n",
    "  `firebase-public-project.analytics_153293282.events_*`"
   ]
  },
  {
   "cell_type": "markdown",
   "id": "764fbeaa",
   "metadata": {},
   "source": [
    "## Dataset preparation in BigQuery"
   ]
  },
  {
   "cell_type": "markdown",
   "id": "751359e5",
   "metadata": {},
   "source": [
    "Now that you have a better sense for the dataset you will be working with, you will walk through transforming raw event data into a dataset suitable for machine learning using SQL commands in BigQuery. Specifically, you will:\n",
    "\n",
    "* Aggregate events so that each row represents a separate unique user ID.\n",
    "* Define the **user churn label** feature to train your model to prediction (e.g. 1 = churned, 0 = returned).\n",
    "* Create **user demographic** features.\n",
    "* Create **user behavioral** features from aggregated application events."
   ]
  },
  {
   "cell_type": "markdown",
   "id": "0880f4fa",
   "metadata": {},
   "source": [
    "### Defining churn for each user"
   ]
  },
  {
   "cell_type": "markdown",
   "id": "e71540a9",
   "metadata": {},
   "source": [
    "There are many ways to define user churn, but for the purposes of this lab, you will predict 1-day churn as users who do not come back and use the app again after 24 hr of the user's first engagement. This is meant to capture churn after a user's \"first impression\" of the application or onboarding experience.\n",
    "\n",
    "In other words, after 24 hr of a user's first engagement with the app:\n",
    "\n",
    "* if the user shows no event data thereafter, the user is considered **churned**.\n",
    "* if the user does have at least one event datapoint thereafter, then the user is considered **returned**.\n",
    "\n",
    "You may also want to remove users who were unlikely to have ever returned anyway after spending just a few minutes with the app, which is sometimes referred to as \"bouncing\". For example, you will build your model on only on users who spent at least 10 minutes with the app (users who didn't bounce).\n",
    "\n",
    "The query below defines a churned user with the following definition:\n",
    "\n",
    "**Churned = \"any user who spent at least 10 minutes on the app, but after 24 hour from when they first engaged with the app, never used the app again\"**\n",
    "\n",
    "You will use the raw event data, from their first touch (app installation) to their last touch, to identify churned and bounced users in the `user_churn` view query below:"
   ]
  },
  {
   "cell_type": "code",
   "execution_count": 13,
   "id": "1ab5c7d3",
   "metadata": {
    "tags": []
   },
   "outputs": [
    {
     "data": {
      "application/vnd.jupyter.widget-view+json": {
       "model_id": "cde83d4fe16449c3ae92c9e646813709",
       "version_major": 2,
       "version_minor": 0
      },
      "text/plain": [
       "Query is running:   0%|          |"
      ]
     },
     "metadata": {},
     "output_type": "display_data"
    },
    {
     "data": {
      "application/vnd.jupyter.widget-view+json": {
       "model_id": "49a6642ad29a41aebec3d9bb18f17af8",
       "version_major": 2,
       "version_minor": 0
      },
      "text/plain": [
       "Downloading:   0%|          |"
      ]
     },
     "metadata": {},
     "output_type": "display_data"
    },
    {
     "data": {
      "text/html": [
       "<div>\n",
       "<style scoped>\n",
       "    .dataframe tbody tr th:only-of-type {\n",
       "        vertical-align: middle;\n",
       "    }\n",
       "\n",
       "    .dataframe tbody tr th {\n",
       "        vertical-align: top;\n",
       "    }\n",
       "\n",
       "    .dataframe thead th {\n",
       "        text-align: right;\n",
       "    }\n",
       "</style>\n",
       "<table border=\"1\" class=\"dataframe\">\n",
       "  <thead>\n",
       "    <tr style=\"text-align: right;\">\n",
       "      <th></th>\n",
       "      <th>user_pseudo_id</th>\n",
       "      <th>user_first_engagement</th>\n",
       "      <th>user_last_engagement</th>\n",
       "      <th>month</th>\n",
       "      <th>julianday</th>\n",
       "      <th>dayofweek</th>\n",
       "      <th>ts_24hr_after_first_engagement</th>\n",
       "      <th>churned</th>\n",
       "      <th>bounced</th>\n",
       "    </tr>\n",
       "  </thead>\n",
       "  <tbody>\n",
       "    <tr>\n",
       "      <th>0</th>\n",
       "      <td>4F74CB6F9A34D85B17BC4C8BC060755D</td>\n",
       "      <td>1529663654196003</td>\n",
       "      <td>1536750159457029</td>\n",
       "      <td>6</td>\n",
       "      <td>173</td>\n",
       "      <td>6</td>\n",
       "      <td>1529750054196003</td>\n",
       "      <td>0</td>\n",
       "      <td>0</td>\n",
       "    </tr>\n",
       "    <tr>\n",
       "      <th>1</th>\n",
       "      <td>0E05F56141200FF41FCC0C7FA297FF08</td>\n",
       "      <td>1529946535399003</td>\n",
       "      <td>1538581225542105</td>\n",
       "      <td>6</td>\n",
       "      <td>176</td>\n",
       "      <td>2</td>\n",
       "      <td>1530032935399003</td>\n",
       "      <td>0</td>\n",
       "      <td>0</td>\n",
       "    </tr>\n",
       "    <tr>\n",
       "      <th>2</th>\n",
       "      <td>F4FA177913ACA8661529D01C94863AC6</td>\n",
       "      <td>1531102407522003</td>\n",
       "      <td>1537412103261061</td>\n",
       "      <td>7</td>\n",
       "      <td>190</td>\n",
       "      <td>2</td>\n",
       "      <td>1531188807522003</td>\n",
       "      <td>0</td>\n",
       "      <td>0</td>\n",
       "    </tr>\n",
       "    <tr>\n",
       "      <th>3</th>\n",
       "      <td>6C02BA08A0538FE6C2E8D7F6549C0E4F</td>\n",
       "      <td>1530912102017001</td>\n",
       "      <td>1535409399639113</td>\n",
       "      <td>7</td>\n",
       "      <td>187</td>\n",
       "      <td>6</td>\n",
       "      <td>1530998502017001</td>\n",
       "      <td>0</td>\n",
       "      <td>0</td>\n",
       "    </tr>\n",
       "    <tr>\n",
       "      <th>4</th>\n",
       "      <td>757F371D73A59AA7B6FB5CF1E6483B33</td>\n",
       "      <td>1529091624304001</td>\n",
       "      <td>1538608857847046</td>\n",
       "      <td>6</td>\n",
       "      <td>166</td>\n",
       "      <td>6</td>\n",
       "      <td>1529178024304001</td>\n",
       "      <td>0</td>\n",
       "      <td>0</td>\n",
       "    </tr>\n",
       "    <tr>\n",
       "      <th>...</th>\n",
       "      <td>...</td>\n",
       "      <td>...</td>\n",
       "      <td>...</td>\n",
       "      <td>...</td>\n",
       "      <td>...</td>\n",
       "      <td>...</td>\n",
       "      <td>...</td>\n",
       "      <td>...</td>\n",
       "      <td>...</td>\n",
       "    </tr>\n",
       "    <tr>\n",
       "      <th>95</th>\n",
       "      <td>F52929CB390A678997ABCD045795EFBE</td>\n",
       "      <td>1532173735249003</td>\n",
       "      <td>1532173962895005</td>\n",
       "      <td>7</td>\n",
       "      <td>202</td>\n",
       "      <td>7</td>\n",
       "      <td>1532260135249003</td>\n",
       "      <td>1</td>\n",
       "      <td>1</td>\n",
       "    </tr>\n",
       "    <tr>\n",
       "      <th>96</th>\n",
       "      <td>E1581D72F6A42C0AA0AD9489223E7DEA</td>\n",
       "      <td>1529670068271002</td>\n",
       "      <td>1538175479898000</td>\n",
       "      <td>6</td>\n",
       "      <td>173</td>\n",
       "      <td>6</td>\n",
       "      <td>1529756468271002</td>\n",
       "      <td>0</td>\n",
       "      <td>0</td>\n",
       "    </tr>\n",
       "    <tr>\n",
       "      <th>97</th>\n",
       "      <td>0B08423CCD5F1503B5A8B306FFED999C</td>\n",
       "      <td>1528812366877010</td>\n",
       "      <td>1538531749620131</td>\n",
       "      <td>6</td>\n",
       "      <td>163</td>\n",
       "      <td>3</td>\n",
       "      <td>1528898766877010</td>\n",
       "      <td>0</td>\n",
       "      <td>0</td>\n",
       "    </tr>\n",
       "    <tr>\n",
       "      <th>98</th>\n",
       "      <td>D56D7CF970E38DD1E5F3D515D9E2D75E</td>\n",
       "      <td>1532208477181003</td>\n",
       "      <td>1538393225757066</td>\n",
       "      <td>7</td>\n",
       "      <td>202</td>\n",
       "      <td>7</td>\n",
       "      <td>1532294877181003</td>\n",
       "      <td>0</td>\n",
       "      <td>0</td>\n",
       "    </tr>\n",
       "    <tr>\n",
       "      <th>99</th>\n",
       "      <td>6683CAFB77FB7B60C78CD233EB2B62F7</td>\n",
       "      <td>1528940592037010</td>\n",
       "      <td>1538495343416009</td>\n",
       "      <td>6</td>\n",
       "      <td>165</td>\n",
       "      <td>5</td>\n",
       "      <td>1529026992037010</td>\n",
       "      <td>0</td>\n",
       "      <td>0</td>\n",
       "    </tr>\n",
       "  </tbody>\n",
       "</table>\n",
       "<p>100 rows × 9 columns</p>\n",
       "</div>"
      ],
      "text/plain": [
       "                      user_pseudo_id  user_first_engagement  \\\n",
       "0   4F74CB6F9A34D85B17BC4C8BC060755D       1529663654196003   \n",
       "1   0E05F56141200FF41FCC0C7FA297FF08       1529946535399003   \n",
       "2   F4FA177913ACA8661529D01C94863AC6       1531102407522003   \n",
       "3   6C02BA08A0538FE6C2E8D7F6549C0E4F       1530912102017001   \n",
       "4   757F371D73A59AA7B6FB5CF1E6483B33       1529091624304001   \n",
       "..                               ...                    ...   \n",
       "95  F52929CB390A678997ABCD045795EFBE       1532173735249003   \n",
       "96  E1581D72F6A42C0AA0AD9489223E7DEA       1529670068271002   \n",
       "97  0B08423CCD5F1503B5A8B306FFED999C       1528812366877010   \n",
       "98  D56D7CF970E38DD1E5F3D515D9E2D75E       1532208477181003   \n",
       "99  6683CAFB77FB7B60C78CD233EB2B62F7       1528940592037010   \n",
       "\n",
       "    user_last_engagement  month  julianday  dayofweek  \\\n",
       "0       1536750159457029      6        173          6   \n",
       "1       1538581225542105      6        176          2   \n",
       "2       1537412103261061      7        190          2   \n",
       "3       1535409399639113      7        187          6   \n",
       "4       1538608857847046      6        166          6   \n",
       "..                   ...    ...        ...        ...   \n",
       "95      1532173962895005      7        202          7   \n",
       "96      1538175479898000      6        173          6   \n",
       "97      1538531749620131      6        163          3   \n",
       "98      1538393225757066      7        202          7   \n",
       "99      1538495343416009      6        165          5   \n",
       "\n",
       "    ts_24hr_after_first_engagement  churned  bounced  \n",
       "0                 1529750054196003        0        0  \n",
       "1                 1530032935399003        0        0  \n",
       "2                 1531188807522003        0        0  \n",
       "3                 1530998502017001        0        0  \n",
       "4                 1529178024304001        0        0  \n",
       "..                             ...      ...      ...  \n",
       "95                1532260135249003        1        1  \n",
       "96                1529756468271002        0        0  \n",
       "97                1528898766877010        0        0  \n",
       "98                1532294877181003        0        0  \n",
       "99                1529026992037010        0        0  \n",
       "\n",
       "[100 rows x 9 columns]"
      ]
     },
     "execution_count": 13,
     "metadata": {},
     "output_type": "execute_result"
    }
   ],
   "source": [
    "%%bigquery --project $PROJECT_ID\n",
    "\n",
    "CREATE OR REPLACE VIEW bqmlga4.user_churn AS (\n",
    "  WITH firstlasttouch AS (\n",
    "    SELECT\n",
    "      user_pseudo_id,\n",
    "      MIN(event_timestamp) AS user_first_engagement,\n",
    "      MAX(event_timestamp) AS user_last_engagement\n",
    "    FROM\n",
    "      `firebase-public-project.analytics_153293282.events_*`\n",
    "    WHERE event_name=\"user_engagement\"\n",
    "    GROUP BY\n",
    "      user_pseudo_id\n",
    "\n",
    "  )\n",
    "  \n",
    "SELECT\n",
    "    user_pseudo_id,\n",
    "    user_first_engagement,\n",
    "    user_last_engagement,\n",
    "    EXTRACT(MONTH from TIMESTAMP_MICROS(user_first_engagement)) as month,\n",
    "    EXTRACT(DAYOFYEAR from TIMESTAMP_MICROS(user_first_engagement)) as julianday,\n",
    "    EXTRACT(DAYOFWEEK from TIMESTAMP_MICROS(user_first_engagement)) as dayofweek,\n",
    "\n",
    "    #add 24 hr to user's first touch\n",
    "    (user_first_engagement + 86400000000) AS ts_24hr_after_first_engagement,\n",
    "    \n",
    "    #churned = 1 if last_touch within 24 hr of app installation, else 0\n",
    "    IF (user_last_engagement < (user_first_engagement + 86400000000),\n",
    "    1,\n",
    "    0 ) AS churned,\n",
    "    \n",
    "    #bounced = 1 if last_touch within 10 min, else 0\n",
    "    IF (user_last_engagement <= (user_first_engagement + 600000000),\n",
    "    1,\n",
    "    0 ) AS bounced,\n",
    "  FROM\n",
    "    firstlasttouch\n",
    "  GROUP BY\n",
    "    user_pseudo_id,\n",
    "    user_first_engagement,\n",
    "    user_last_engagement\n",
    "    );\n",
    "\n",
    "SELECT \n",
    "  * \n",
    "FROM \n",
    "  bqmlga4.user_churn \n",
    "LIMIT 100;"
   ]
  },
  {
   "cell_type": "markdown",
   "id": "b731ce4c",
   "metadata": {},
   "source": [
    "Review how many of the 15k users bounced and returned below:"
   ]
  },
  {
   "cell_type": "code",
   "execution_count": 14,
   "id": "51cdaa9e",
   "metadata": {
    "tags": []
   },
   "outputs": [
    {
     "data": {
      "application/vnd.jupyter.widget-view+json": {
       "model_id": "ae07c8259ce24a70b2e000aa78d00bee",
       "version_major": 2,
       "version_minor": 0
      },
      "text/plain": [
       "Query is running:   0%|          |"
      ]
     },
     "metadata": {},
     "output_type": "display_data"
    },
    {
     "data": {
      "application/vnd.jupyter.widget-view+json": {
       "model_id": "3a879109356248afab0020d0b3546519",
       "version_major": 2,
       "version_minor": 0
      },
      "text/plain": [
       "Downloading:   0%|          |"
      ]
     },
     "metadata": {},
     "output_type": "display_data"
    },
    {
     "data": {
      "text/html": [
       "<div>\n",
       "<style scoped>\n",
       "    .dataframe tbody tr th:only-of-type {\n",
       "        vertical-align: middle;\n",
       "    }\n",
       "\n",
       "    .dataframe tbody tr th {\n",
       "        vertical-align: top;\n",
       "    }\n",
       "\n",
       "    .dataframe thead th {\n",
       "        text-align: right;\n",
       "    }\n",
       "</style>\n",
       "<table border=\"1\" class=\"dataframe\">\n",
       "  <thead>\n",
       "    <tr style=\"text-align: right;\">\n",
       "      <th></th>\n",
       "      <th>bounced</th>\n",
       "      <th>churned</th>\n",
       "      <th>count_users</th>\n",
       "    </tr>\n",
       "  </thead>\n",
       "  <tbody>\n",
       "    <tr>\n",
       "      <th>0</th>\n",
       "      <td>0</td>\n",
       "      <td>0</td>\n",
       "      <td>6148</td>\n",
       "    </tr>\n",
       "    <tr>\n",
       "      <th>1</th>\n",
       "      <td>0</td>\n",
       "      <td>1</td>\n",
       "      <td>1883</td>\n",
       "    </tr>\n",
       "    <tr>\n",
       "      <th>2</th>\n",
       "      <td>1</td>\n",
       "      <td>1</td>\n",
       "      <td>5557</td>\n",
       "    </tr>\n",
       "  </tbody>\n",
       "</table>\n",
       "</div>"
      ],
      "text/plain": [
       "   bounced  churned  count_users\n",
       "0        0        0         6148\n",
       "1        0        1         1883\n",
       "2        1        1         5557"
      ]
     },
     "execution_count": 14,
     "metadata": {},
     "output_type": "execute_result"
    }
   ],
   "source": [
    "%%bigquery --project $PROJECT_ID\n",
    "\n",
    "SELECT\n",
    "    bounced,\n",
    "    churned, \n",
    "    COUNT(churned) as count_users\n",
    "FROM\n",
    "    bqmlga4.user_churn\n",
    "GROUP BY \n",
    "  bounced,\n",
    "  churned\n",
    "ORDER BY \n",
    "  bounced"
   ]
  },
  {
   "cell_type": "markdown",
   "id": "ab1fc447",
   "metadata": {},
   "source": [
    "For the training data, you will only end up using data where bounced = 0. Based on the 15k users, you can see that 5,557 ( about 41%) users bounced within the first ten minutes of their first engagement with the app. Of the remaining 8,031 users, 1,883 users ( about 23%) churned after 24 hours which you can validate with the query below:"
   ]
  },
  {
   "cell_type": "code",
   "execution_count": 15,
   "id": "b9ae920e",
   "metadata": {
    "tags": []
   },
   "outputs": [
    {
     "data": {
      "application/vnd.jupyter.widget-view+json": {
       "model_id": "a7489ae9c99e4b4abe1754af8ff72db9",
       "version_major": 2,
       "version_minor": 0
      },
      "text/plain": [
       "Query is running:   0%|          |"
      ]
     },
     "metadata": {},
     "output_type": "display_data"
    },
    {
     "data": {
      "application/vnd.jupyter.widget-view+json": {
       "model_id": "953adc3439f342ef88ee985cbf15f49a",
       "version_major": 2,
       "version_minor": 0
      },
      "text/plain": [
       "Downloading:   0%|          |"
      ]
     },
     "metadata": {},
     "output_type": "display_data"
    },
    {
     "data": {
      "text/html": [
       "<div>\n",
       "<style scoped>\n",
       "    .dataframe tbody tr th:only-of-type {\n",
       "        vertical-align: middle;\n",
       "    }\n",
       "\n",
       "    .dataframe tbody tr th {\n",
       "        vertical-align: top;\n",
       "    }\n",
       "\n",
       "    .dataframe thead th {\n",
       "        text-align: right;\n",
       "    }\n",
       "</style>\n",
       "<table border=\"1\" class=\"dataframe\">\n",
       "  <thead>\n",
       "    <tr style=\"text-align: right;\">\n",
       "      <th></th>\n",
       "      <th>churn_rate</th>\n",
       "    </tr>\n",
       "  </thead>\n",
       "  <tbody>\n",
       "    <tr>\n",
       "      <th>0</th>\n",
       "      <td>0.234466</td>\n",
       "    </tr>\n",
       "  </tbody>\n",
       "</table>\n",
       "</div>"
      ],
      "text/plain": [
       "   churn_rate\n",
       "0    0.234466"
      ]
     },
     "execution_count": 15,
     "metadata": {},
     "output_type": "execute_result"
    }
   ],
   "source": [
    "%%bigquery --project $PROJECT_ID\n",
    "\n",
    "SELECT\n",
    "    COUNTIF(churned=1)/COUNT(churned) as churn_rate\n",
    "FROM\n",
    "    bqmlga4.user_churn\n",
    "WHERE bounced = 0"
   ]
  },
  {
   "cell_type": "markdown",
   "id": "aef78f94",
   "metadata": {},
   "source": [
    "### Extract user demographic features"
   ]
  },
  {
   "cell_type": "markdown",
   "id": "dfea3b94",
   "metadata": {},
   "source": [
    "There is various user demographic information included in this dataset, including `app_info`, `device`, `ecommerce`, `event_params`, and `geo`. Demographic features can help the model predict whether users on certain devices or countries are more likely to churn.\n",
    "\n",
    "Note that a user's demographics may occasionally change (e.g. moving countries). For simplicity, you will use the demographic information that Google Analytics 4 provides when the user first engaged with the app as indicated by MIN(event_timestamp) in the query below. This enables every unique user to be represented by a single row."
   ]
  },
  {
   "cell_type": "code",
   "execution_count": 16,
   "id": "bd36306f",
   "metadata": {
    "tags": []
   },
   "outputs": [
    {
     "data": {
      "application/vnd.jupyter.widget-view+json": {
       "model_id": "5380c2d613254a0ab09c7226c9a8d967",
       "version_major": 2,
       "version_minor": 0
      },
      "text/plain": [
       "Query is running:   0%|          |"
      ]
     },
     "metadata": {},
     "output_type": "display_data"
    },
    {
     "data": {
      "application/vnd.jupyter.widget-view+json": {
       "model_id": "5acf5c6d05d34aaeb50297ccac76e70d",
       "version_major": 2,
       "version_minor": 0
      },
      "text/plain": [
       "Downloading:   0%|          |"
      ]
     },
     "metadata": {},
     "output_type": "display_data"
    },
    {
     "data": {
      "text/html": [
       "<div>\n",
       "<style scoped>\n",
       "    .dataframe tbody tr th:only-of-type {\n",
       "        vertical-align: middle;\n",
       "    }\n",
       "\n",
       "    .dataframe tbody tr th {\n",
       "        vertical-align: top;\n",
       "    }\n",
       "\n",
       "    .dataframe thead th {\n",
       "        text-align: right;\n",
       "    }\n",
       "</style>\n",
       "<table border=\"1\" class=\"dataframe\">\n",
       "  <thead>\n",
       "    <tr style=\"text-align: right;\">\n",
       "      <th></th>\n",
       "      <th>user_pseudo_id</th>\n",
       "      <th>country</th>\n",
       "      <th>operating_system</th>\n",
       "      <th>language</th>\n",
       "    </tr>\n",
       "  </thead>\n",
       "  <tbody>\n",
       "    <tr>\n",
       "      <th>0</th>\n",
       "      <td>0144954795B93A124C5D1E0BF7B55CAF</td>\n",
       "      <td>United States</td>\n",
       "      <td>IOS</td>\n",
       "      <td>en-us</td>\n",
       "    </tr>\n",
       "    <tr>\n",
       "      <th>1</th>\n",
       "      <td>0175F289F0878C46DCA6B0AF3C5677F1</td>\n",
       "      <td>United States</td>\n",
       "      <td>IOS</td>\n",
       "      <td>en-us</td>\n",
       "    </tr>\n",
       "    <tr>\n",
       "      <th>2</th>\n",
       "      <td>05AFD9CC6BE47271BCD774268D50ACCC</td>\n",
       "      <td>United States</td>\n",
       "      <td>IOS</td>\n",
       "      <td>en-us</td>\n",
       "    </tr>\n",
       "    <tr>\n",
       "      <th>3</th>\n",
       "      <td>060ADA8C8F2558D7C9AC00CA15B84DB3</td>\n",
       "      <td>United States</td>\n",
       "      <td>IOS</td>\n",
       "      <td>en-us</td>\n",
       "    </tr>\n",
       "    <tr>\n",
       "      <th>4</th>\n",
       "      <td>07BF2220AEC9352DF006C0AF64733E0F</td>\n",
       "      <td>United States</td>\n",
       "      <td>IOS</td>\n",
       "      <td>en-us</td>\n",
       "    </tr>\n",
       "    <tr>\n",
       "      <th>5</th>\n",
       "      <td>0E05204A44E4CA8857B83A2FED471037</td>\n",
       "      <td>United States</td>\n",
       "      <td>ANDROID</td>\n",
       "      <td>en-us</td>\n",
       "    </tr>\n",
       "    <tr>\n",
       "      <th>6</th>\n",
       "      <td>0E66030347F325DEF689D46EF5765856</td>\n",
       "      <td>United Kingdom</td>\n",
       "      <td>IOS</td>\n",
       "      <td>en-gb</td>\n",
       "    </tr>\n",
       "    <tr>\n",
       "      <th>7</th>\n",
       "      <td>13282343584D1E29C354588A314C81B7</td>\n",
       "      <td>United States</td>\n",
       "      <td>IOS</td>\n",
       "      <td>en-us</td>\n",
       "    </tr>\n",
       "    <tr>\n",
       "      <th>8</th>\n",
       "      <td>14B3164775DC217E7AC2C1BD7D250D96</td>\n",
       "      <td>United States</td>\n",
       "      <td>ANDROID</td>\n",
       "      <td>en-us</td>\n",
       "    </tr>\n",
       "    <tr>\n",
       "      <th>9</th>\n",
       "      <td>153EB882FE1C43202528F580B9B5A250</td>\n",
       "      <td>United States</td>\n",
       "      <td>IOS</td>\n",
       "      <td>en-us</td>\n",
       "    </tr>\n",
       "  </tbody>\n",
       "</table>\n",
       "</div>"
      ],
      "text/plain": [
       "                     user_pseudo_id         country operating_system language\n",
       "0  0144954795B93A124C5D1E0BF7B55CAF   United States              IOS    en-us\n",
       "1  0175F289F0878C46DCA6B0AF3C5677F1   United States              IOS    en-us\n",
       "2  05AFD9CC6BE47271BCD774268D50ACCC   United States              IOS    en-us\n",
       "3  060ADA8C8F2558D7C9AC00CA15B84DB3   United States              IOS    en-us\n",
       "4  07BF2220AEC9352DF006C0AF64733E0F   United States              IOS    en-us\n",
       "5  0E05204A44E4CA8857B83A2FED471037   United States          ANDROID    en-us\n",
       "6  0E66030347F325DEF689D46EF5765856  United Kingdom              IOS    en-gb\n",
       "7  13282343584D1E29C354588A314C81B7   United States              IOS    en-us\n",
       "8  14B3164775DC217E7AC2C1BD7D250D96   United States          ANDROID    en-us\n",
       "9  153EB882FE1C43202528F580B9B5A250   United States              IOS    en-us"
      ]
     },
     "execution_count": 16,
     "metadata": {},
     "output_type": "execute_result"
    }
   ],
   "source": [
    "%%bigquery --project $PROJECT_ID\n",
    "\n",
    "CREATE OR REPLACE VIEW bqmlga4.user_demographics AS (\n",
    "\n",
    "  WITH first_values AS (\n",
    "      SELECT\n",
    "          user_pseudo_id,\n",
    "          geo.country as country,\n",
    "          device.operating_system as operating_system,\n",
    "          device.language as language,\n",
    "          ROW_NUMBER() OVER (PARTITION BY user_pseudo_id ORDER BY event_timestamp DESC) AS row_num\n",
    "      FROM `firebase-public-project.analytics_153293282.events_*`\n",
    "      WHERE event_name=\"user_engagement\"\n",
    "      )\n",
    "  SELECT * EXCEPT (row_num)\n",
    "  FROM first_values\n",
    "  WHERE row_num = 1\n",
    "  );\n",
    "\n",
    "SELECT\n",
    "  *\n",
    "FROM\n",
    "  bqmlga4.user_demographics\n",
    "LIMIT 10"
   ]
  },
  {
   "cell_type": "markdown",
   "id": "11abe88b",
   "metadata": {},
   "source": [
    "### Aggregate user behavioral features"
   ]
  },
  {
   "cell_type": "markdown",
   "id": "71dfe78b",
   "metadata": {},
   "source": [
    "Behavioral data in the raw event data spans across multiple events -- and thus rows -- per user. The goal of this section is to aggregate and extract behavioral data for each user, resulting in one row of behavioral data per unique user.\n",
    "\n"
   ]
  },
  {
   "cell_type": "markdown",
   "id": "b9be082c",
   "metadata": {},
   "source": [
    "As a first step, you can explore all the unique events that exist in this dataset, based on event_name:"
   ]
  },
  {
   "cell_type": "code",
   "execution_count": 17,
   "id": "debac29c",
   "metadata": {
    "tags": []
   },
   "outputs": [
    {
     "data": {
      "application/vnd.jupyter.widget-view+json": {
       "model_id": "90dd18d112704058b50b18883914d99f",
       "version_major": 2,
       "version_minor": 0
      },
      "text/plain": [
       "Query is running:   0%|          |"
      ]
     },
     "metadata": {},
     "output_type": "display_data"
    },
    {
     "data": {
      "application/vnd.jupyter.widget-view+json": {
       "model_id": "729f05368d09412d81cab8df7ed3313c",
       "version_major": 2,
       "version_minor": 0
      },
      "text/plain": [
       "Downloading:   0%|          |"
      ]
     },
     "metadata": {},
     "output_type": "display_data"
    },
    {
     "data": {
      "text/html": [
       "<div>\n",
       "<style scoped>\n",
       "    .dataframe tbody tr th:only-of-type {\n",
       "        vertical-align: middle;\n",
       "    }\n",
       "\n",
       "    .dataframe tbody tr th {\n",
       "        vertical-align: top;\n",
       "    }\n",
       "\n",
       "    .dataframe thead th {\n",
       "        text-align: right;\n",
       "    }\n",
       "</style>\n",
       "<table border=\"1\" class=\"dataframe\">\n",
       "  <thead>\n",
       "    <tr style=\"text-align: right;\">\n",
       "      <th></th>\n",
       "      <th>event_name</th>\n",
       "      <th>event_count</th>\n",
       "    </tr>\n",
       "  </thead>\n",
       "  <tbody>\n",
       "    <tr>\n",
       "      <th>0</th>\n",
       "      <td>screen_view</td>\n",
       "      <td>2247623</td>\n",
       "    </tr>\n",
       "    <tr>\n",
       "      <th>1</th>\n",
       "      <td>user_engagement</td>\n",
       "      <td>1358958</td>\n",
       "    </tr>\n",
       "    <tr>\n",
       "      <th>2</th>\n",
       "      <td>level_start_quickplay</td>\n",
       "      <td>523430</td>\n",
       "    </tr>\n",
       "    <tr>\n",
       "      <th>3</th>\n",
       "      <td>level_end_quickplay</td>\n",
       "      <td>349729</td>\n",
       "    </tr>\n",
       "    <tr>\n",
       "      <th>4</th>\n",
       "      <td>post_score</td>\n",
       "      <td>242051</td>\n",
       "    </tr>\n",
       "    <tr>\n",
       "      <th>5</th>\n",
       "      <td>level_complete_quickplay</td>\n",
       "      <td>191088</td>\n",
       "    </tr>\n",
       "    <tr>\n",
       "      <th>6</th>\n",
       "      <td>level_fail_quickplay</td>\n",
       "      <td>137035</td>\n",
       "    </tr>\n",
       "    <tr>\n",
       "      <th>7</th>\n",
       "      <td>level_reset_quickplay</td>\n",
       "      <td>122278</td>\n",
       "    </tr>\n",
       "    <tr>\n",
       "      <th>8</th>\n",
       "      <td>select_content</td>\n",
       "      <td>105139</td>\n",
       "    </tr>\n",
       "    <tr>\n",
       "      <th>9</th>\n",
       "      <td>level_start</td>\n",
       "      <td>74417</td>\n",
       "    </tr>\n",
       "    <tr>\n",
       "      <th>10</th>\n",
       "      <td>session_start</td>\n",
       "      <td>74353</td>\n",
       "    </tr>\n",
       "    <tr>\n",
       "      <th>11</th>\n",
       "      <td>level_end</td>\n",
       "      <td>54582</td>\n",
       "    </tr>\n",
       "    <tr>\n",
       "      <th>12</th>\n",
       "      <td>level_retry</td>\n",
       "      <td>43345</td>\n",
       "    </tr>\n",
       "    <tr>\n",
       "      <th>13</th>\n",
       "      <td>level_up</td>\n",
       "      <td>35666</td>\n",
       "    </tr>\n",
       "    <tr>\n",
       "      <th>14</th>\n",
       "      <td>level_complete</td>\n",
       "      <td>33986</td>\n",
       "    </tr>\n",
       "    <tr>\n",
       "      <th>15</th>\n",
       "      <td>level_retry_quickplay</td>\n",
       "      <td>29939</td>\n",
       "    </tr>\n",
       "    <tr>\n",
       "      <th>16</th>\n",
       "      <td>level_fail</td>\n",
       "      <td>17353</td>\n",
       "    </tr>\n",
       "    <tr>\n",
       "      <th>17</th>\n",
       "      <td>spend_virtual_currency</td>\n",
       "      <td>9363</td>\n",
       "    </tr>\n",
       "    <tr>\n",
       "      <th>18</th>\n",
       "      <td>use_extra_steps</td>\n",
       "      <td>8945</td>\n",
       "    </tr>\n",
       "    <tr>\n",
       "      <th>19</th>\n",
       "      <td>level_reset</td>\n",
       "      <td>8535</td>\n",
       "    </tr>\n",
       "    <tr>\n",
       "      <th>20</th>\n",
       "      <td>firebase_campaign</td>\n",
       "      <td>5411</td>\n",
       "    </tr>\n",
       "    <tr>\n",
       "      <th>21</th>\n",
       "      <td>app_exception</td>\n",
       "      <td>5156</td>\n",
       "    </tr>\n",
       "    <tr>\n",
       "      <th>22</th>\n",
       "      <td>first_open</td>\n",
       "      <td>4322</td>\n",
       "    </tr>\n",
       "    <tr>\n",
       "      <th>23</th>\n",
       "      <td>os_update</td>\n",
       "      <td>3290</td>\n",
       "    </tr>\n",
       "    <tr>\n",
       "      <th>24</th>\n",
       "      <td>no_more_extra_steps</td>\n",
       "      <td>2792</td>\n",
       "    </tr>\n",
       "    <tr>\n",
       "      <th>25</th>\n",
       "      <td>app_remove</td>\n",
       "      <td>2639</td>\n",
       "    </tr>\n",
       "    <tr>\n",
       "      <th>26</th>\n",
       "      <td>app_update</td>\n",
       "      <td>2473</td>\n",
       "    </tr>\n",
       "    <tr>\n",
       "      <th>27</th>\n",
       "      <td>ad_reward</td>\n",
       "      <td>1912</td>\n",
       "    </tr>\n",
       "    <tr>\n",
       "      <th>28</th>\n",
       "      <td>completed_5_levels</td>\n",
       "      <td>1867</td>\n",
       "    </tr>\n",
       "    <tr>\n",
       "      <th>29</th>\n",
       "      <td>error</td>\n",
       "      <td>1714</td>\n",
       "    </tr>\n",
       "    <tr>\n",
       "      <th>30</th>\n",
       "      <td>challenge_a_friend</td>\n",
       "      <td>524</td>\n",
       "    </tr>\n",
       "    <tr>\n",
       "      <th>31</th>\n",
       "      <td>in_app_purchase</td>\n",
       "      <td>27</td>\n",
       "    </tr>\n",
       "    <tr>\n",
       "      <th>32</th>\n",
       "      <td>dynamic_link_app_open</td>\n",
       "      <td>19</td>\n",
       "    </tr>\n",
       "    <tr>\n",
       "      <th>33</th>\n",
       "      <td>app_clear_data</td>\n",
       "      <td>17</td>\n",
       "    </tr>\n",
       "    <tr>\n",
       "      <th>34</th>\n",
       "      <td>dynamic_link_first_open</td>\n",
       "      <td>16</td>\n",
       "    </tr>\n",
       "    <tr>\n",
       "      <th>35</th>\n",
       "      <td>challenge_accepted</td>\n",
       "      <td>5</td>\n",
       "    </tr>\n",
       "    <tr>\n",
       "      <th>36</th>\n",
       "      <td>notification_foreground</td>\n",
       "      <td>1</td>\n",
       "    </tr>\n",
       "  </tbody>\n",
       "</table>\n",
       "</div>"
      ],
      "text/plain": [
       "                  event_name  event_count\n",
       "0                screen_view      2247623\n",
       "1            user_engagement      1358958\n",
       "2      level_start_quickplay       523430\n",
       "3        level_end_quickplay       349729\n",
       "4                 post_score       242051\n",
       "5   level_complete_quickplay       191088\n",
       "6       level_fail_quickplay       137035\n",
       "7      level_reset_quickplay       122278\n",
       "8             select_content       105139\n",
       "9                level_start        74417\n",
       "10             session_start        74353\n",
       "11                 level_end        54582\n",
       "12               level_retry        43345\n",
       "13                  level_up        35666\n",
       "14            level_complete        33986\n",
       "15     level_retry_quickplay        29939\n",
       "16                level_fail        17353\n",
       "17    spend_virtual_currency         9363\n",
       "18           use_extra_steps         8945\n",
       "19               level_reset         8535\n",
       "20         firebase_campaign         5411\n",
       "21             app_exception         5156\n",
       "22                first_open         4322\n",
       "23                 os_update         3290\n",
       "24       no_more_extra_steps         2792\n",
       "25                app_remove         2639\n",
       "26                app_update         2473\n",
       "27                 ad_reward         1912\n",
       "28        completed_5_levels         1867\n",
       "29                     error         1714\n",
       "30        challenge_a_friend          524\n",
       "31           in_app_purchase           27\n",
       "32     dynamic_link_app_open           19\n",
       "33            app_clear_data           17\n",
       "34   dynamic_link_first_open           16\n",
       "35        challenge_accepted            5\n",
       "36   notification_foreground            1"
      ]
     },
     "execution_count": 17,
     "metadata": {},
     "output_type": "execute_result"
    }
   ],
   "source": [
    "%%bigquery --project $PROJECT_ID\n",
    "\n",
    "SELECT\n",
    "  event_name,\n",
    "  COUNT(event_name) as event_count\n",
    "FROM\n",
    "    `firebase-public-project.analytics_153293282.events_*`\n",
    "GROUP BY \n",
    "  event_name\n",
    "ORDER BY\n",
    "   event_count DESC"
   ]
  },
  {
   "cell_type": "markdown",
   "id": "6596f7be",
   "metadata": {},
   "source": [
    "For this lab, to predict whether a user will churn or return, you can start by counting the number of times a user engages in the following event types:\n",
    "\n",
    "* user_engagement\n",
    "* level_start_quickplay\n",
    "* level_end_quickplay\n",
    "* level_complete_quickplay\n",
    "* level_reset_quickplay\n",
    "* post_score\n",
    "* spend_virtual_currency\n",
    "* ad_reward\n",
    "* challenge_a_friend\n",
    "* completed_5_levels\n",
    "* use_extra_steps"
   ]
  },
  {
   "cell_type": "markdown",
   "id": "60502c0a",
   "metadata": {},
   "source": [
    "In the SQL query below, you will aggregate the behavioral data by calculating the total number of times when each of the above event_names occurred in the data set per user."
   ]
  },
  {
   "cell_type": "code",
   "execution_count": 18,
   "id": "b016e18d",
   "metadata": {
    "tags": []
   },
   "outputs": [
    {
     "data": {
      "application/vnd.jupyter.widget-view+json": {
       "model_id": "2806d61e587b46e8a07d949136cf3b9f",
       "version_major": 2,
       "version_minor": 0
      },
      "text/plain": [
       "Query is running:   0%|          |"
      ]
     },
     "metadata": {},
     "output_type": "display_data"
    },
    {
     "data": {
      "application/vnd.jupyter.widget-view+json": {
       "model_id": "0e339b2f7bc64acf950c9c06a4d55b9d",
       "version_major": 2,
       "version_minor": 0
      },
      "text/plain": [
       "Downloading:   0%|          |"
      ]
     },
     "metadata": {},
     "output_type": "display_data"
    },
    {
     "data": {
      "text/html": [
       "<div>\n",
       "<style scoped>\n",
       "    .dataframe tbody tr th:only-of-type {\n",
       "        vertical-align: middle;\n",
       "    }\n",
       "\n",
       "    .dataframe tbody tr th {\n",
       "        vertical-align: top;\n",
       "    }\n",
       "\n",
       "    .dataframe thead th {\n",
       "        text-align: right;\n",
       "    }\n",
       "</style>\n",
       "<table border=\"1\" class=\"dataframe\">\n",
       "  <thead>\n",
       "    <tr style=\"text-align: right;\">\n",
       "      <th></th>\n",
       "      <th>user_pseudo_id</th>\n",
       "      <th>cnt_user_engagement</th>\n",
       "      <th>cnt_level_start_quickplay</th>\n",
       "      <th>cnt_level_end_quickplay</th>\n",
       "      <th>cnt_level_complete_quickplay</th>\n",
       "      <th>cnt_level_reset_quickplay</th>\n",
       "      <th>cnt_post_score</th>\n",
       "      <th>cnt_spend_virtual_currency</th>\n",
       "      <th>cnt_ad_reward</th>\n",
       "      <th>cnt_challenge_a_friend</th>\n",
       "      <th>cnt_completed_5_levels</th>\n",
       "      <th>cnt_use_extra_steps</th>\n",
       "    </tr>\n",
       "  </thead>\n",
       "  <tbody>\n",
       "    <tr>\n",
       "      <th>0</th>\n",
       "      <td>05B5E4EA8ABA0B2A4020DE6309DC183A</td>\n",
       "      <td>148</td>\n",
       "      <td>47</td>\n",
       "      <td>47</td>\n",
       "      <td>18</td>\n",
       "      <td>0</td>\n",
       "      <td>18</td>\n",
       "      <td>0</td>\n",
       "      <td>0</td>\n",
       "      <td>0</td>\n",
       "      <td>0</td>\n",
       "      <td>0</td>\n",
       "    </tr>\n",
       "    <tr>\n",
       "      <th>1</th>\n",
       "      <td>37D5BFCBAB879776946C3A2A71476D2F</td>\n",
       "      <td>5</td>\n",
       "      <td>0</td>\n",
       "      <td>0</td>\n",
       "      <td>0</td>\n",
       "      <td>0</td>\n",
       "      <td>0</td>\n",
       "      <td>0</td>\n",
       "      <td>0</td>\n",
       "      <td>0</td>\n",
       "      <td>0</td>\n",
       "      <td>0</td>\n",
       "    </tr>\n",
       "    <tr>\n",
       "      <th>2</th>\n",
       "      <td>949DC369B1AB32FCB10B9D6E4B367DE7</td>\n",
       "      <td>7</td>\n",
       "      <td>3</td>\n",
       "      <td>1</td>\n",
       "      <td>1</td>\n",
       "      <td>1</td>\n",
       "      <td>1</td>\n",
       "      <td>0</td>\n",
       "      <td>0</td>\n",
       "      <td>0</td>\n",
       "      <td>0</td>\n",
       "      <td>0</td>\n",
       "    </tr>\n",
       "    <tr>\n",
       "      <th>3</th>\n",
       "      <td>554C06D293D23E88DDA076775A0E909E</td>\n",
       "      <td>97</td>\n",
       "      <td>1</td>\n",
       "      <td>0</td>\n",
       "      <td>0</td>\n",
       "      <td>0</td>\n",
       "      <td>31</td>\n",
       "      <td>0</td>\n",
       "      <td>0</td>\n",
       "      <td>0</td>\n",
       "      <td>1</td>\n",
       "      <td>0</td>\n",
       "    </tr>\n",
       "    <tr>\n",
       "      <th>4</th>\n",
       "      <td>3CE2F3402E3F6885D2641FB0DEFF9375</td>\n",
       "      <td>4</td>\n",
       "      <td>2</td>\n",
       "      <td>1</td>\n",
       "      <td>1</td>\n",
       "      <td>0</td>\n",
       "      <td>1</td>\n",
       "      <td>0</td>\n",
       "      <td>0</td>\n",
       "      <td>0</td>\n",
       "      <td>0</td>\n",
       "      <td>0</td>\n",
       "    </tr>\n",
       "    <tr>\n",
       "      <th>5</th>\n",
       "      <td>252AE9223FE299572809120788870EA2</td>\n",
       "      <td>2</td>\n",
       "      <td>1</td>\n",
       "      <td>0</td>\n",
       "      <td>0</td>\n",
       "      <td>0</td>\n",
       "      <td>0</td>\n",
       "      <td>0</td>\n",
       "      <td>0</td>\n",
       "      <td>0</td>\n",
       "      <td>0</td>\n",
       "      <td>0</td>\n",
       "    </tr>\n",
       "    <tr>\n",
       "      <th>6</th>\n",
       "      <td>2F0D26A505057458FF91EBC11395333B</td>\n",
       "      <td>6</td>\n",
       "      <td>2</td>\n",
       "      <td>2</td>\n",
       "      <td>1</td>\n",
       "      <td>0</td>\n",
       "      <td>1</td>\n",
       "      <td>0</td>\n",
       "      <td>0</td>\n",
       "      <td>0</td>\n",
       "      <td>0</td>\n",
       "      <td>0</td>\n",
       "    </tr>\n",
       "    <tr>\n",
       "      <th>7</th>\n",
       "      <td>126A99C543C81E78041837F33D37CE43</td>\n",
       "      <td>33</td>\n",
       "      <td>10</td>\n",
       "      <td>10</td>\n",
       "      <td>1</td>\n",
       "      <td>0</td>\n",
       "      <td>1</td>\n",
       "      <td>0</td>\n",
       "      <td>0</td>\n",
       "      <td>0</td>\n",
       "      <td>0</td>\n",
       "      <td>0</td>\n",
       "    </tr>\n",
       "    <tr>\n",
       "      <th>8</th>\n",
       "      <td>21E45F33EAF90362ED7C5EED8FF23614</td>\n",
       "      <td>24</td>\n",
       "      <td>9</td>\n",
       "      <td>8</td>\n",
       "      <td>3</td>\n",
       "      <td>0</td>\n",
       "      <td>3</td>\n",
       "      <td>0</td>\n",
       "      <td>0</td>\n",
       "      <td>0</td>\n",
       "      <td>0</td>\n",
       "      <td>0</td>\n",
       "    </tr>\n",
       "    <tr>\n",
       "      <th>9</th>\n",
       "      <td>68CC76AC24391E4E93E95B33E0C50824</td>\n",
       "      <td>5</td>\n",
       "      <td>2</td>\n",
       "      <td>1</td>\n",
       "      <td>1</td>\n",
       "      <td>0</td>\n",
       "      <td>1</td>\n",
       "      <td>0</td>\n",
       "      <td>0</td>\n",
       "      <td>0</td>\n",
       "      <td>0</td>\n",
       "      <td>0</td>\n",
       "    </tr>\n",
       "  </tbody>\n",
       "</table>\n",
       "</div>"
      ],
      "text/plain": [
       "                     user_pseudo_id  cnt_user_engagement  \\\n",
       "0  05B5E4EA8ABA0B2A4020DE6309DC183A                  148   \n",
       "1  37D5BFCBAB879776946C3A2A71476D2F                    5   \n",
       "2  949DC369B1AB32FCB10B9D6E4B367DE7                    7   \n",
       "3  554C06D293D23E88DDA076775A0E909E                   97   \n",
       "4  3CE2F3402E3F6885D2641FB0DEFF9375                    4   \n",
       "5  252AE9223FE299572809120788870EA2                    2   \n",
       "6  2F0D26A505057458FF91EBC11395333B                    6   \n",
       "7  126A99C543C81E78041837F33D37CE43                   33   \n",
       "8  21E45F33EAF90362ED7C5EED8FF23614                   24   \n",
       "9  68CC76AC24391E4E93E95B33E0C50824                    5   \n",
       "\n",
       "   cnt_level_start_quickplay  cnt_level_end_quickplay  \\\n",
       "0                         47                       47   \n",
       "1                          0                        0   \n",
       "2                          3                        1   \n",
       "3                          1                        0   \n",
       "4                          2                        1   \n",
       "5                          1                        0   \n",
       "6                          2                        2   \n",
       "7                         10                       10   \n",
       "8                          9                        8   \n",
       "9                          2                        1   \n",
       "\n",
       "   cnt_level_complete_quickplay  cnt_level_reset_quickplay  cnt_post_score  \\\n",
       "0                            18                          0              18   \n",
       "1                             0                          0               0   \n",
       "2                             1                          1               1   \n",
       "3                             0                          0              31   \n",
       "4                             1                          0               1   \n",
       "5                             0                          0               0   \n",
       "6                             1                          0               1   \n",
       "7                             1                          0               1   \n",
       "8                             3                          0               3   \n",
       "9                             1                          0               1   \n",
       "\n",
       "   cnt_spend_virtual_currency  cnt_ad_reward  cnt_challenge_a_friend  \\\n",
       "0                           0              0                       0   \n",
       "1                           0              0                       0   \n",
       "2                           0              0                       0   \n",
       "3                           0              0                       0   \n",
       "4                           0              0                       0   \n",
       "5                           0              0                       0   \n",
       "6                           0              0                       0   \n",
       "7                           0              0                       0   \n",
       "8                           0              0                       0   \n",
       "9                           0              0                       0   \n",
       "\n",
       "   cnt_completed_5_levels  cnt_use_extra_steps  \n",
       "0                       0                    0  \n",
       "1                       0                    0  \n",
       "2                       0                    0  \n",
       "3                       1                    0  \n",
       "4                       0                    0  \n",
       "5                       0                    0  \n",
       "6                       0                    0  \n",
       "7                       0                    0  \n",
       "8                       0                    0  \n",
       "9                       0                    0  "
      ]
     },
     "execution_count": 18,
     "metadata": {},
     "output_type": "execute_result"
    }
   ],
   "source": [
    "%%bigquery --project $PROJECT_ID\n",
    "\n",
    "CREATE OR REPLACE VIEW bqmlga4.user_behavior AS (\n",
    "WITH\n",
    "  events_first24hr AS (\n",
    "    # Select user data only from first 24 hr of using the app.\n",
    "    SELECT\n",
    "      e.*\n",
    "    FROM\n",
    "      `firebase-public-project.analytics_153293282.events_*` e\n",
    "    JOIN\n",
    "      bqmlga4.user_churn c\n",
    "    ON\n",
    "      e.user_pseudo_id = c.user_pseudo_id\n",
    "    WHERE\n",
    "      e.event_timestamp <= c.ts_24hr_after_first_engagement\n",
    "    )\n",
    "SELECT\n",
    "  user_pseudo_id,\n",
    "  SUM(IF(event_name = 'user_engagement', 1, 0)) AS cnt_user_engagement,\n",
    "  SUM(IF(event_name = 'level_start_quickplay', 1, 0)) AS cnt_level_start_quickplay,\n",
    "  SUM(IF(event_name = 'level_end_quickplay', 1, 0)) AS cnt_level_end_quickplay,\n",
    "  SUM(IF(event_name = 'level_complete_quickplay', 1, 0)) AS cnt_level_complete_quickplay,\n",
    "  SUM(IF(event_name = 'level_reset_quickplay', 1, 0)) AS cnt_level_reset_quickplay,\n",
    "  SUM(IF(event_name = 'post_score', 1, 0)) AS cnt_post_score,\n",
    "  SUM(IF(event_name = 'spend_virtual_currency', 1, 0)) AS cnt_spend_virtual_currency,\n",
    "  SUM(IF(event_name = 'ad_reward', 1, 0)) AS cnt_ad_reward,\n",
    "  SUM(IF(event_name = 'challenge_a_friend', 1, 0)) AS cnt_challenge_a_friend,\n",
    "  SUM(IF(event_name = 'completed_5_levels', 1, 0)) AS cnt_completed_5_levels,\n",
    "  SUM(IF(event_name = 'use_extra_steps', 1, 0)) AS cnt_use_extra_steps,\n",
    "FROM\n",
    "  events_first24hr\n",
    "GROUP BY\n",
    "  user_pseudo_id\n",
    "  );\n",
    "\n",
    "SELECT\n",
    "  *\n",
    "FROM\n",
    "  bqmlga4.user_behavior\n",
    "LIMIT 10"
   ]
  },
  {
   "cell_type": "markdown",
   "id": "77089f30",
   "metadata": {},
   "source": [
    "### Prepare your train/eval/test datasets for machine learning"
   ]
  },
  {
   "cell_type": "markdown",
   "id": "8a868015",
   "metadata": {},
   "source": [
    "In this section, you can now combine these three intermediary views (`user_churn`, `user_demographics`, and `user_behavior`) into the final training data view called `ml_features`. Here you can also specify bounced = 0, in order to limit the training data only to users who did not \"bounce\" within the first 10 minutes of using the app.\n",
    "\n",
    "Note in the query below that a manual `data_split` column is created in your BigQuery ML table using [BigQuery's hashing functions](https://towardsdatascience.com/ml-design-pattern-5-repeatable-sampling-c0ccb2889f39) for repeatable sampling. It specifies a 80% train | 10% eval | 20% test split to evaluate your model's performance and generalization."
   ]
  },
  {
   "cell_type": "code",
   "execution_count": 19,
   "id": "448138e6",
   "metadata": {
    "tags": []
   },
   "outputs": [
    {
     "data": {
      "application/vnd.jupyter.widget-view+json": {
       "model_id": "81652dcfe0a94c29af9e5357f69b059c",
       "version_major": 2,
       "version_minor": 0
      },
      "text/plain": [
       "Query is running:   0%|          |"
      ]
     },
     "metadata": {},
     "output_type": "display_data"
    },
    {
     "data": {
      "application/vnd.jupyter.widget-view+json": {
       "model_id": "8374cb88762a4363b4dfa20080a41c16",
       "version_major": 2,
       "version_minor": 0
      },
      "text/plain": [
       "Downloading:   0%|          |"
      ]
     },
     "metadata": {},
     "output_type": "display_data"
    },
    {
     "data": {
      "text/html": [
       "<div>\n",
       "<style scoped>\n",
       "    .dataframe tbody tr th:only-of-type {\n",
       "        vertical-align: middle;\n",
       "    }\n",
       "\n",
       "    .dataframe tbody tr th {\n",
       "        vertical-align: top;\n",
       "    }\n",
       "\n",
       "    .dataframe thead th {\n",
       "        text-align: right;\n",
       "    }\n",
       "</style>\n",
       "<table border=\"1\" class=\"dataframe\">\n",
       "  <thead>\n",
       "    <tr style=\"text-align: right;\">\n",
       "      <th></th>\n",
       "      <th>user_pseudo_id</th>\n",
       "      <th>country</th>\n",
       "      <th>operating_system</th>\n",
       "      <th>language</th>\n",
       "      <th>cnt_user_engagement</th>\n",
       "      <th>cnt_level_start_quickplay</th>\n",
       "      <th>cnt_level_end_quickplay</th>\n",
       "      <th>cnt_level_complete_quickplay</th>\n",
       "      <th>cnt_level_reset_quickplay</th>\n",
       "      <th>cnt_post_score</th>\n",
       "      <th>...</th>\n",
       "      <th>cnt_ad_reward</th>\n",
       "      <th>cnt_challenge_a_friend</th>\n",
       "      <th>cnt_completed_5_levels</th>\n",
       "      <th>cnt_use_extra_steps</th>\n",
       "      <th>user_first_engagement</th>\n",
       "      <th>month</th>\n",
       "      <th>julianday</th>\n",
       "      <th>dayofweek</th>\n",
       "      <th>churned</th>\n",
       "      <th>data_split</th>\n",
       "    </tr>\n",
       "  </thead>\n",
       "  <tbody>\n",
       "    <tr>\n",
       "      <th>0</th>\n",
       "      <td>CF2898B41B7243671C36D5168D9D89B0</td>\n",
       "      <td>United States</td>\n",
       "      <td>ANDROID</td>\n",
       "      <td>enXus</td>\n",
       "      <td>9</td>\n",
       "      <td>2</td>\n",
       "      <td>2</td>\n",
       "      <td>2</td>\n",
       "      <td>0</td>\n",
       "      <td>2</td>\n",
       "      <td>...</td>\n",
       "      <td>0</td>\n",
       "      <td>0</td>\n",
       "      <td>0</td>\n",
       "      <td>0</td>\n",
       "      <td>1529624025404004</td>\n",
       "      <td>6</td>\n",
       "      <td>172</td>\n",
       "      <td>5</td>\n",
       "      <td>0</td>\n",
       "      <td>EVAL</td>\n",
       "    </tr>\n",
       "    <tr>\n",
       "      <th>1</th>\n",
       "      <td>88A41BFED275BB69125BE1F5524F3B42</td>\n",
       "      <td>United States</td>\n",
       "      <td>ANDROID</td>\n",
       "      <td>enXus</td>\n",
       "      <td>5</td>\n",
       "      <td>2</td>\n",
       "      <td>1</td>\n",
       "      <td>0</td>\n",
       "      <td>0</td>\n",
       "      <td>1</td>\n",
       "      <td>...</td>\n",
       "      <td>0</td>\n",
       "      <td>0</td>\n",
       "      <td>0</td>\n",
       "      <td>0</td>\n",
       "      <td>1529325237353004</td>\n",
       "      <td>6</td>\n",
       "      <td>169</td>\n",
       "      <td>2</td>\n",
       "      <td>0</td>\n",
       "      <td>TRAIN</td>\n",
       "    </tr>\n",
       "    <tr>\n",
       "      <th>2</th>\n",
       "      <td>84D185835F0DE9C48712855B8713996E</td>\n",
       "      <td>United States</td>\n",
       "      <td>ANDROID</td>\n",
       "      <td>enXus</td>\n",
       "      <td>11</td>\n",
       "      <td>2</td>\n",
       "      <td>1</td>\n",
       "      <td>0</td>\n",
       "      <td>0</td>\n",
       "      <td>0</td>\n",
       "      <td>...</td>\n",
       "      <td>0</td>\n",
       "      <td>2</td>\n",
       "      <td>0</td>\n",
       "      <td>0</td>\n",
       "      <td>1529579468237008</td>\n",
       "      <td>6</td>\n",
       "      <td>172</td>\n",
       "      <td>5</td>\n",
       "      <td>0</td>\n",
       "      <td>TRAIN</td>\n",
       "    </tr>\n",
       "    <tr>\n",
       "      <th>3</th>\n",
       "      <td>883A780608D3C4E5AE704139D5672F88</td>\n",
       "      <td>Australia</td>\n",
       "      <td>ANDROID</td>\n",
       "      <td>enXau</td>\n",
       "      <td>3</td>\n",
       "      <td>0</td>\n",
       "      <td>0</td>\n",
       "      <td>0</td>\n",
       "      <td>0</td>\n",
       "      <td>0</td>\n",
       "      <td>...</td>\n",
       "      <td>0</td>\n",
       "      <td>0</td>\n",
       "      <td>0</td>\n",
       "      <td>0</td>\n",
       "      <td>1529311269191013</td>\n",
       "      <td>6</td>\n",
       "      <td>169</td>\n",
       "      <td>2</td>\n",
       "      <td>0</td>\n",
       "      <td>EVAL</td>\n",
       "    </tr>\n",
       "    <tr>\n",
       "      <th>4</th>\n",
       "      <td>117AD1627465CC9E03AB5D8825D42E07</td>\n",
       "      <td>Germany</td>\n",
       "      <td>ANDROID</td>\n",
       "      <td>deXde</td>\n",
       "      <td>11</td>\n",
       "      <td>5</td>\n",
       "      <td>5</td>\n",
       "      <td>5</td>\n",
       "      <td>0</td>\n",
       "      <td>5</td>\n",
       "      <td>...</td>\n",
       "      <td>0</td>\n",
       "      <td>0</td>\n",
       "      <td>0</td>\n",
       "      <td>0</td>\n",
       "      <td>1529228962548004</td>\n",
       "      <td>6</td>\n",
       "      <td>168</td>\n",
       "      <td>1</td>\n",
       "      <td>0</td>\n",
       "      <td>TRAIN</td>\n",
       "    </tr>\n",
       "    <tr>\n",
       "      <th>5</th>\n",
       "      <td>3F6BC08D796DEE0902E221D5ADC88FC5</td>\n",
       "      <td>United States</td>\n",
       "      <td>ANDROID</td>\n",
       "      <td>enXus</td>\n",
       "      <td>39</td>\n",
       "      <td>18</td>\n",
       "      <td>16</td>\n",
       "      <td>14</td>\n",
       "      <td>2</td>\n",
       "      <td>14</td>\n",
       "      <td>...</td>\n",
       "      <td>0</td>\n",
       "      <td>0</td>\n",
       "      <td>0</td>\n",
       "      <td>0</td>\n",
       "      <td>1529645265072001</td>\n",
       "      <td>6</td>\n",
       "      <td>173</td>\n",
       "      <td>6</td>\n",
       "      <td>0</td>\n",
       "      <td>TRAIN</td>\n",
       "    </tr>\n",
       "    <tr>\n",
       "      <th>6</th>\n",
       "      <td>4789C778386485B99F4077B97DFE34E3</td>\n",
       "      <td>United States</td>\n",
       "      <td>ANDROID</td>\n",
       "      <td>enXus</td>\n",
       "      <td>192</td>\n",
       "      <td>281</td>\n",
       "      <td>46</td>\n",
       "      <td>33</td>\n",
       "      <td>234</td>\n",
       "      <td>33</td>\n",
       "      <td>...</td>\n",
       "      <td>0</td>\n",
       "      <td>0</td>\n",
       "      <td>0</td>\n",
       "      <td>0</td>\n",
       "      <td>1528931183521002</td>\n",
       "      <td>6</td>\n",
       "      <td>164</td>\n",
       "      <td>4</td>\n",
       "      <td>0</td>\n",
       "      <td>TRAIN</td>\n",
       "    </tr>\n",
       "    <tr>\n",
       "      <th>7</th>\n",
       "      <td>E512079B53179DF9A608CF4ADE47DE9D</td>\n",
       "      <td>Australia</td>\n",
       "      <td>ANDROID</td>\n",
       "      <td>enXau</td>\n",
       "      <td>5</td>\n",
       "      <td>2</td>\n",
       "      <td>1</td>\n",
       "      <td>0</td>\n",
       "      <td>0</td>\n",
       "      <td>1</td>\n",
       "      <td>...</td>\n",
       "      <td>0</td>\n",
       "      <td>0</td>\n",
       "      <td>0</td>\n",
       "      <td>0</td>\n",
       "      <td>1529351778192007</td>\n",
       "      <td>6</td>\n",
       "      <td>169</td>\n",
       "      <td>2</td>\n",
       "      <td>0</td>\n",
       "      <td>TEST</td>\n",
       "    </tr>\n",
       "    <tr>\n",
       "      <th>8</th>\n",
       "      <td>B5F3D00E28A57C9522F2DEE3CB903DD1</td>\n",
       "      <td>United States</td>\n",
       "      <td>ANDROID</td>\n",
       "      <td>enXus</td>\n",
       "      <td>7</td>\n",
       "      <td>2</td>\n",
       "      <td>1</td>\n",
       "      <td>1</td>\n",
       "      <td>0</td>\n",
       "      <td>1</td>\n",
       "      <td>...</td>\n",
       "      <td>0</td>\n",
       "      <td>0</td>\n",
       "      <td>0</td>\n",
       "      <td>0</td>\n",
       "      <td>1529617677586007</td>\n",
       "      <td>6</td>\n",
       "      <td>172</td>\n",
       "      <td>5</td>\n",
       "      <td>0</td>\n",
       "      <td>EVAL</td>\n",
       "    </tr>\n",
       "    <tr>\n",
       "      <th>9</th>\n",
       "      <td>F0FC99F563E1247AD70240E5AA132ABF</td>\n",
       "      <td>United States</td>\n",
       "      <td>ANDROID</td>\n",
       "      <td>enXus</td>\n",
       "      <td>9</td>\n",
       "      <td>2</td>\n",
       "      <td>2</td>\n",
       "      <td>0</td>\n",
       "      <td>0</td>\n",
       "      <td>0</td>\n",
       "      <td>...</td>\n",
       "      <td>0</td>\n",
       "      <td>0</td>\n",
       "      <td>0</td>\n",
       "      <td>0</td>\n",
       "      <td>1529528965059004</td>\n",
       "      <td>6</td>\n",
       "      <td>171</td>\n",
       "      <td>4</td>\n",
       "      <td>0</td>\n",
       "      <td>TRAIN</td>\n",
       "    </tr>\n",
       "  </tbody>\n",
       "</table>\n",
       "<p>10 rows × 21 columns</p>\n",
       "</div>"
      ],
      "text/plain": [
       "                     user_pseudo_id        country operating_system language  \\\n",
       "0  CF2898B41B7243671C36D5168D9D89B0  United States          ANDROID    enXus   \n",
       "1  88A41BFED275BB69125BE1F5524F3B42  United States          ANDROID    enXus   \n",
       "2  84D185835F0DE9C48712855B8713996E  United States          ANDROID    enXus   \n",
       "3  883A780608D3C4E5AE704139D5672F88      Australia          ANDROID    enXau   \n",
       "4  117AD1627465CC9E03AB5D8825D42E07        Germany          ANDROID    deXde   \n",
       "5  3F6BC08D796DEE0902E221D5ADC88FC5  United States          ANDROID    enXus   \n",
       "6  4789C778386485B99F4077B97DFE34E3  United States          ANDROID    enXus   \n",
       "7  E512079B53179DF9A608CF4ADE47DE9D      Australia          ANDROID    enXau   \n",
       "8  B5F3D00E28A57C9522F2DEE3CB903DD1  United States          ANDROID    enXus   \n",
       "9  F0FC99F563E1247AD70240E5AA132ABF  United States          ANDROID    enXus   \n",
       "\n",
       "   cnt_user_engagement  cnt_level_start_quickplay  cnt_level_end_quickplay  \\\n",
       "0                    9                          2                        2   \n",
       "1                    5                          2                        1   \n",
       "2                   11                          2                        1   \n",
       "3                    3                          0                        0   \n",
       "4                   11                          5                        5   \n",
       "5                   39                         18                       16   \n",
       "6                  192                        281                       46   \n",
       "7                    5                          2                        1   \n",
       "8                    7                          2                        1   \n",
       "9                    9                          2                        2   \n",
       "\n",
       "   cnt_level_complete_quickplay  cnt_level_reset_quickplay  cnt_post_score  \\\n",
       "0                             2                          0               2   \n",
       "1                             0                          0               1   \n",
       "2                             0                          0               0   \n",
       "3                             0                          0               0   \n",
       "4                             5                          0               5   \n",
       "5                            14                          2              14   \n",
       "6                            33                        234              33   \n",
       "7                             0                          0               1   \n",
       "8                             1                          0               1   \n",
       "9                             0                          0               0   \n",
       "\n",
       "   ...  cnt_ad_reward  cnt_challenge_a_friend  cnt_completed_5_levels  \\\n",
       "0  ...              0                       0                       0   \n",
       "1  ...              0                       0                       0   \n",
       "2  ...              0                       2                       0   \n",
       "3  ...              0                       0                       0   \n",
       "4  ...              0                       0                       0   \n",
       "5  ...              0                       0                       0   \n",
       "6  ...              0                       0                       0   \n",
       "7  ...              0                       0                       0   \n",
       "8  ...              0                       0                       0   \n",
       "9  ...              0                       0                       0   \n",
       "\n",
       "   cnt_use_extra_steps  user_first_engagement  month  julianday  dayofweek  \\\n",
       "0                    0       1529624025404004      6        172          5   \n",
       "1                    0       1529325237353004      6        169          2   \n",
       "2                    0       1529579468237008      6        172          5   \n",
       "3                    0       1529311269191013      6        169          2   \n",
       "4                    0       1529228962548004      6        168          1   \n",
       "5                    0       1529645265072001      6        173          6   \n",
       "6                    0       1528931183521002      6        164          4   \n",
       "7                    0       1529351778192007      6        169          2   \n",
       "8                    0       1529617677586007      6        172          5   \n",
       "9                    0       1529528965059004      6        171          4   \n",
       "\n",
       "   churned  data_split  \n",
       "0        0        EVAL  \n",
       "1        0       TRAIN  \n",
       "2        0       TRAIN  \n",
       "3        0        EVAL  \n",
       "4        0       TRAIN  \n",
       "5        0       TRAIN  \n",
       "6        0       TRAIN  \n",
       "7        0        TEST  \n",
       "8        0        EVAL  \n",
       "9        0       TRAIN  \n",
       "\n",
       "[10 rows x 21 columns]"
      ]
     },
     "execution_count": 19,
     "metadata": {},
     "output_type": "execute_result"
    }
   ],
   "source": [
    "%%bigquery --project $PROJECT_ID\n",
    "\n",
    "CREATE OR REPLACE VIEW bqmlga4.ml_features AS (\n",
    "    \n",
    "  SELECT\n",
    "    dem.user_pseudo_id,\n",
    "    IFNULL(dem.country, \"Unknown\") AS country,\n",
    "    IFNULL(dem.operating_system, \"Unknown\") AS operating_system,\n",
    "    IFNULL(REPLACE(dem.language, \"-\", \"X\"), \"Unknown\") AS language,\n",
    "    IFNULL(beh.cnt_user_engagement, 0) AS cnt_user_engagement,\n",
    "    IFNULL(beh.cnt_level_start_quickplay, 0) AS cnt_level_start_quickplay,\n",
    "    IFNULL(beh.cnt_level_end_quickplay, 0) AS cnt_level_end_quickplay,\n",
    "    IFNULL(beh.cnt_level_complete_quickplay, 0) AS cnt_level_complete_quickplay,\n",
    "    IFNULL(beh.cnt_level_reset_quickplay, 0) AS cnt_level_reset_quickplay,\n",
    "    IFNULL(beh.cnt_post_score, 0) AS cnt_post_score,\n",
    "    IFNULL(beh.cnt_spend_virtual_currency, 0) AS cnt_spend_virtual_currency,\n",
    "    IFNULL(beh.cnt_ad_reward, 0) AS cnt_ad_reward,\n",
    "    IFNULL(beh.cnt_challenge_a_friend, 0) AS cnt_challenge_a_friend,\n",
    "    IFNULL(beh.cnt_completed_5_levels, 0) AS cnt_completed_5_levels,\n",
    "    IFNULL(beh.cnt_use_extra_steps, 0) AS cnt_use_extra_steps,\n",
    "    chu.user_first_engagement,\n",
    "    chu.month,\n",
    "    chu.julianday,\n",
    "    chu.dayofweek,\n",
    "    chu.churned,\n",
    "    # https://towardsdatascience.com/ml-design-pattern-5-repeatable-sampling-c0ccb2889f39\n",
    "    # BQML Hyperparameter tuning requires STRING 3 partition data_split column.\n",
    "    # 80% 'TRAIN' | 10%'EVAL' | 10% 'TEST'    \n",
    "    CASE\n",
    "      WHEN ABS(MOD(FARM_FINGERPRINT(dem.user_pseudo_id), 10)) <= 7\n",
    "        THEN 'TRAIN'\n",
    "      WHEN ABS(MOD(FARM_FINGERPRINT(dem.user_pseudo_id), 10)) = 8\n",
    "        THEN 'EVAL'\n",
    "      WHEN ABS(MOD(FARM_FINGERPRINT(dem.user_pseudo_id), 10)) = 9\n",
    "        THEN 'TEST'    \n",
    "          ELSE '' END AS data_split\n",
    "  FROM\n",
    "    bqmlga4.user_churn chu\n",
    "  LEFT OUTER JOIN\n",
    "    bqmlga4.user_demographics dem\n",
    "  ON \n",
    "    chu.user_pseudo_id = dem.user_pseudo_id\n",
    "  LEFT OUTER JOIN \n",
    "    bqmlga4.user_behavior beh\n",
    "  ON\n",
    "    chu.user_pseudo_id = beh.user_pseudo_id\n",
    "  WHERE chu.bounced = 0\n",
    "  );\n",
    "\n",
    "SELECT\n",
    "  *\n",
    "FROM\n",
    "  bqmlga4.ml_features\n",
    "LIMIT 10"
   ]
  },
  {
   "cell_type": "markdown",
   "id": "ccc4f5f9",
   "metadata": {},
   "source": [
    "### Validate feature splits"
   ]
  },
  {
   "cell_type": "markdown",
   "id": "0af097e0",
   "metadata": {},
   "source": [
    "Run the query below to validate the number of examples in each data partition for the 80% train |10% eval |10% test split."
   ]
  },
  {
   "cell_type": "code",
   "execution_count": 20,
   "id": "cb419c16",
   "metadata": {
    "tags": []
   },
   "outputs": [
    {
     "data": {
      "application/vnd.jupyter.widget-view+json": {
       "model_id": "8e98a01414c64725862d1d0017a1f09f",
       "version_major": 2,
       "version_minor": 0
      },
      "text/plain": [
       "Query is running:   0%|          |"
      ]
     },
     "metadata": {},
     "output_type": "display_data"
    },
    {
     "data": {
      "application/vnd.jupyter.widget-view+json": {
       "model_id": "ae8db4cf9cf842139485762a079a940f",
       "version_major": 2,
       "version_minor": 0
      },
      "text/plain": [
       "Downloading:   0%|          |"
      ]
     },
     "metadata": {},
     "output_type": "display_data"
    },
    {
     "data": {
      "text/html": [
       "<div>\n",
       "<style scoped>\n",
       "    .dataframe tbody tr th:only-of-type {\n",
       "        vertical-align: middle;\n",
       "    }\n",
       "\n",
       "    .dataframe tbody tr th {\n",
       "        vertical-align: top;\n",
       "    }\n",
       "\n",
       "    .dataframe thead th {\n",
       "        text-align: right;\n",
       "    }\n",
       "</style>\n",
       "<table border=\"1\" class=\"dataframe\">\n",
       "  <thead>\n",
       "    <tr style=\"text-align: right;\">\n",
       "      <th></th>\n",
       "      <th>data_split</th>\n",
       "      <th>n_examples</th>\n",
       "    </tr>\n",
       "  </thead>\n",
       "  <tbody>\n",
       "    <tr>\n",
       "      <th>0</th>\n",
       "      <td>TEST</td>\n",
       "      <td>799</td>\n",
       "    </tr>\n",
       "    <tr>\n",
       "      <th>1</th>\n",
       "      <td>TRAIN</td>\n",
       "      <td>6386</td>\n",
       "    </tr>\n",
       "    <tr>\n",
       "      <th>2</th>\n",
       "      <td>EVAL</td>\n",
       "      <td>846</td>\n",
       "    </tr>\n",
       "  </tbody>\n",
       "</table>\n",
       "</div>"
      ],
      "text/plain": [
       "  data_split  n_examples\n",
       "0       TEST         799\n",
       "1      TRAIN        6386\n",
       "2       EVAL         846"
      ]
     },
     "execution_count": 20,
     "metadata": {},
     "output_type": "execute_result"
    }
   ],
   "source": [
    "%%bigquery --project $PROJECT_ID\n",
    "\n",
    "SELECT\n",
    "  data_split,\n",
    "  COUNT(*) AS n_examples\n",
    "FROM bqmlga4.ml_features\n",
    "GROUP BY data_split"
   ]
  },
  {
   "cell_type": "markdown",
   "id": "c2767dae",
   "metadata": {},
   "source": [
    "## Train and tune a BQML XGBoost propensity model to predict customer churn"
   ]
  },
  {
   "cell_type": "markdown",
   "id": "a3a861a0",
   "metadata": {},
   "source": [
    "The following code trains and tunes the hyperparameters for a XGBoost model. TO provide a minimal demonstration of BQML hyperparameter tuning in this lab, this model will take about 18 min to train and tune with its restricted search space and low number of trials. In practice, you would generally want at [least 10 trials per hyperparameter](https://cloud.google.com/bigquery-ml/docs/reference/standard-sql/bigqueryml-hyperparameter-tuning#how_many_trials_do_i_need_to_tune_a_model) to achieve improved results.\n",
    "\n",
    "For more information on the default hyperparameters used, you can read the documentation:\n",
    "[CREATE MODEL statement for Boosted Tree models using XGBoost](https://cloud.google.com/bigquery-ml/docs/reference/standard-sql/bigqueryml-syntax-create-boosted-tree)"
   ]
  },
  {
   "cell_type": "markdown",
   "id": "da974b2b",
   "metadata": {},
   "source": [
    "|Model   | BQML model_type | Advantages | Disadvantages| \n",
    "|:-------|:----------:|:----------:|-------------:|\n",
    "|XGBoost |     BOOSTED_TREE_CLASSIFIER [(documentation)](https://cloud.google.com/bigquery-ml/docs/reference/standard-sql/bigqueryml-syntax-create-boosted-tree)       |   High model performance with feature importances and explainability | Slower to train than BQML LOGISTIC_REG |"
   ]
  },
  {
   "cell_type": "markdown",
   "id": "577c9658",
   "metadata": {},
   "source": [
    "Note: When you run the CREATE MODEL statement, BigQuery ML can automatically split your data into training and test so you can immediately evaluate your model's performance after training. This is a great option for fast model prototyping. In this lab, however, you split your data manually above using hashing for reproducible data splits that can be used comparing model evaluations across different runs."
   ]
  },
  {
   "cell_type": "code",
   "execution_count": 21,
   "id": "96f84f45",
   "metadata": {
    "tags": []
   },
   "outputs": [],
   "source": [
    "MODEL_NAME=\"churn_xgb\""
   ]
  },
  {
   "cell_type": "code",
   "execution_count": 22,
   "id": "3d4bbf26",
   "metadata": {
    "tags": []
   },
   "outputs": [
    {
     "name": "stdout",
     "output_type": "stream",
     "text": [
      "Executing query with job ID: 0297dd4e-28d9-40e1-baae-d30b68d16a05\n",
      "Query executing: 950.17s"
     ]
    },
    {
     "name": "stderr",
     "output_type": "stream",
     "text": [
      "\n",
      "ERROR:\n",
      " 400 GET https://bigquery.googleapis.com/bigquery/v2/projects/qwiklabs-gcp-00-338e5cf6cdd5/jobs/0297dd4e-28d9-40e1-baae-d30b68d16a05?projection=full&location=US&prettyPrint=false: API deadline too short\n",
      "\n",
      "Location: US\n",
      "Job ID: 0297dd4e-28d9-40e1-baae-d30b68d16a05\n",
      "\n"
     ]
    }
   ],
   "source": [
    "%%bigquery --project $PROJECT_ID\n",
    "\n",
    "CREATE OR REPLACE MODEL bqmlga4.churn_xgb\n",
    "\n",
    "OPTIONS(\n",
    "  MODEL_TYPE=\"BOOSTED_TREE_CLASSIFIER\",\n",
    "  # Declare label column.\n",
    "  INPUT_LABEL_COLS=[\"churned\"],\n",
    "  # Specify custom data splitting using the `data_split` column.\n",
    "  DATA_SPLIT_METHOD=\"CUSTOM\",\n",
    "  DATA_SPLIT_COL=\"data_split\",\n",
    "  # Enable Vertex Explainable AI aggregated feature attributions.\n",
    "  ENABLE_GLOBAL_EXPLAIN=True,\n",
    "  # Hyperparameter tuning arguments.\n",
    "  num_trials=8,\n",
    "  max_parallel_trials=4,\n",
    "  HPARAM_TUNING_OBJECTIVES=[\"roc_auc\"],\n",
    "  EARLY_STOP=True,\n",
    "  # Hyperpameter search space.\n",
    "  LEARN_RATE=HPARAM_RANGE(0.01, 0.1),\n",
    "  MAX_TREE_DEPTH=HPARAM_CANDIDATES([5,6])\n",
    ") AS\n",
    "\n",
    "SELECT\n",
    "  * EXCEPT(user_pseudo_id)\n",
    "FROM\n",
    "  bqmlga4.ml_features"
   ]
  },
  {
   "cell_type": "code",
   "execution_count": 23,
   "id": "f2beffd0",
   "metadata": {
    "tags": []
   },
   "outputs": [
    {
     "data": {
      "application/vnd.jupyter.widget-view+json": {
       "model_id": "5733370755c54870908835cc07f4b811",
       "version_major": 2,
       "version_minor": 0
      },
      "text/plain": [
       "Query is running:   0%|          |"
      ]
     },
     "metadata": {},
     "output_type": "display_data"
    },
    {
     "data": {
      "application/vnd.jupyter.widget-view+json": {
       "model_id": "9013bb25bc384d7b930b571769bcbf70",
       "version_major": 2,
       "version_minor": 0
      },
      "text/plain": [
       "Downloading:   0%|          |"
      ]
     },
     "metadata": {},
     "output_type": "display_data"
    },
    {
     "data": {
      "text/html": [
       "<div>\n",
       "<style scoped>\n",
       "    .dataframe tbody tr th:only-of-type {\n",
       "        vertical-align: middle;\n",
       "    }\n",
       "\n",
       "    .dataframe tbody tr th {\n",
       "        vertical-align: top;\n",
       "    }\n",
       "\n",
       "    .dataframe thead th {\n",
       "        text-align: right;\n",
       "    }\n",
       "</style>\n",
       "<table border=\"1\" class=\"dataframe\">\n",
       "  <thead>\n",
       "    <tr style=\"text-align: right;\">\n",
       "      <th></th>\n",
       "      <th>trial_id</th>\n",
       "      <th>hyperparameters</th>\n",
       "      <th>hparam_tuning_evaluation_metrics</th>\n",
       "      <th>training_loss</th>\n",
       "      <th>eval_loss</th>\n",
       "      <th>status</th>\n",
       "      <th>error_message</th>\n",
       "      <th>is_optimal</th>\n",
       "    </tr>\n",
       "  </thead>\n",
       "  <tbody>\n",
       "    <tr>\n",
       "      <th>0</th>\n",
       "      <td>2</td>\n",
       "      <td>{'learn_rate': 0.08032447215209777, 'max_tree_...</td>\n",
       "      <td>{'roc_auc': 0.7712447552447552}</td>\n",
       "      <td>0.463155</td>\n",
       "      <td>0.477520</td>\n",
       "      <td>SUCCEEDED</td>\n",
       "      <td>None</td>\n",
       "      <td>True</td>\n",
       "    </tr>\n",
       "    <tr>\n",
       "      <th>1</th>\n",
       "      <td>4</td>\n",
       "      <td>{'learn_rate': 0.03359399808656016, 'max_tree_...</td>\n",
       "      <td>{'roc_auc': 0.7649390609390609}</td>\n",
       "      <td>0.539103</td>\n",
       "      <td>0.550178</td>\n",
       "      <td>SUCCEEDED</td>\n",
       "      <td>None</td>\n",
       "      <td>False</td>\n",
       "    </tr>\n",
       "  </tbody>\n",
       "</table>\n",
       "</div>"
      ],
      "text/plain": [
       "   trial_id                                    hyperparameters  \\\n",
       "0         2  {'learn_rate': 0.08032447215209777, 'max_tree_...   \n",
       "1         4  {'learn_rate': 0.03359399808656016, 'max_tree_...   \n",
       "\n",
       "  hparam_tuning_evaluation_metrics  training_loss  eval_loss     status  \\\n",
       "0  {'roc_auc': 0.7712447552447552}       0.463155   0.477520  SUCCEEDED   \n",
       "1  {'roc_auc': 0.7649390609390609}       0.539103   0.550178  SUCCEEDED   \n",
       "\n",
       "  error_message  is_optimal  \n",
       "0          None        True  \n",
       "1          None       False  "
      ]
     },
     "execution_count": 23,
     "metadata": {},
     "output_type": "execute_result"
    }
   ],
   "source": [
    "%%bigquery --project $PROJECT_ID\n",
    "\n",
    "SELECT *\n",
    "FROM\n",
    "  ML.TRIAL_INFO(MODEL `bqmlga4.churn_xgb`);"
   ]
  },
  {
   "cell_type": "markdown",
   "id": "fbb9dc3a",
   "metadata": {},
   "source": [
    "## Evaluate BQML XGBoost model performance"
   ]
  },
  {
   "cell_type": "markdown",
   "id": "19c50568",
   "metadata": {},
   "source": [
    "Once training is finished, you can run [ML.EVALUATE](https://cloud.google.com/bigquery-ml/docs/reference/standard-sql/bigqueryml-syntax-evaluate) to return model evaluation metrics. By default, all model trials will be returned so the below query just returns the model performance for optimal first trial."
   ]
  },
  {
   "cell_type": "code",
   "execution_count": 24,
   "id": "1bb9896b",
   "metadata": {
    "tags": []
   },
   "outputs": [
    {
     "data": {
      "application/vnd.jupyter.widget-view+json": {
       "model_id": "e5b68f2ac8ac48d39550c1635dbaba3c",
       "version_major": 2,
       "version_minor": 0
      },
      "text/plain": [
       "Query is running:   0%|          |"
      ]
     },
     "metadata": {},
     "output_type": "display_data"
    },
    {
     "data": {
      "application/vnd.jupyter.widget-view+json": {
       "model_id": "bb616b9daa5a4d7d804562c35a78acf6",
       "version_major": 2,
       "version_minor": 0
      },
      "text/plain": [
       "Downloading: |          |"
      ]
     },
     "metadata": {},
     "output_type": "display_data"
    },
    {
     "data": {
      "text/html": [
       "<div>\n",
       "<style scoped>\n",
       "    .dataframe tbody tr th:only-of-type {\n",
       "        vertical-align: middle;\n",
       "    }\n",
       "\n",
       "    .dataframe tbody tr th {\n",
       "        vertical-align: top;\n",
       "    }\n",
       "\n",
       "    .dataframe thead th {\n",
       "        text-align: right;\n",
       "    }\n",
       "</style>\n",
       "<table border=\"1\" class=\"dataframe\">\n",
       "  <thead>\n",
       "    <tr style=\"text-align: right;\">\n",
       "      <th></th>\n",
       "      <th>trial_id</th>\n",
       "      <th>precision</th>\n",
       "      <th>recall</th>\n",
       "      <th>accuracy</th>\n",
       "      <th>f1_score</th>\n",
       "      <th>log_loss</th>\n",
       "      <th>roc_auc</th>\n",
       "    </tr>\n",
       "  </thead>\n",
       "  <tbody>\n",
       "  </tbody>\n",
       "</table>\n",
       "</div>"
      ],
      "text/plain": [
       "Empty DataFrame\n",
       "Columns: [trial_id, precision, recall, accuracy, f1_score, log_loss, roc_auc]\n",
       "Index: []"
      ]
     },
     "execution_count": 24,
     "metadata": {},
     "output_type": "execute_result"
    }
   ],
   "source": [
    "%%bigquery --project $PROJECT_ID\n",
    "\n",
    "SELECT\n",
    "  *\n",
    "FROM\n",
    "  ML.EVALUATE(MODEL bqmlga4.churn_xgb)\n",
    "WHERE trial_id=1;"
   ]
  },
  {
   "cell_type": "markdown",
   "id": "9e0537c9",
   "metadata": {},
   "source": [
    "ML.EVALUATE generates the [precision, recall](https://developers.google.com/machine-learning/crash-course/classification/precision-and-recall), [accuracy](https://developers.google.com/machine-learning/crash-course/classification/accuracy), [log_loss](https://en.wikipedia.org/wiki/Loss_functions_for_classification#Logistic_loss), [f1_score](https://en.wikipedia.org/wiki/F-score) and [roc_auc](https://developers.google.com/machine-learning/crash-course/classification/roc-and-auc) using the default classification threshold of 0.5, which can be modified by using the optional `THRESHOLD` parameter."
   ]
  },
  {
   "cell_type": "markdown",
   "id": "22da8688",
   "metadata": {},
   "source": [
    "Next, use the [ML.CONFUSION_MATRIX](https://cloud.google.com/bigquery-ml/docs/reference/standard-sql/bigqueryml-syntax-confusion) function to return a confusion matrix for the input classification model and input data.\n",
    "\n",
    "For more information on confusion matrices, you can read through a detailed explanation [here](https://developers.google.com/machine-learning/crash-course/classification/true-false-positive-negative)."
   ]
  },
  {
   "cell_type": "code",
   "execution_count": 25,
   "id": "f15b2e45",
   "metadata": {
    "tags": []
   },
   "outputs": [
    {
     "data": {
      "application/vnd.jupyter.widget-view+json": {
       "model_id": "db22961ac17846af88a3d43273cff1ab",
       "version_major": 2,
       "version_minor": 0
      },
      "text/plain": [
       "Query is running:   0%|          |"
      ]
     },
     "metadata": {},
     "output_type": "display_data"
    },
    {
     "data": {
      "application/vnd.jupyter.widget-view+json": {
       "model_id": "0ccbb66b7fc84ac89a42e77b33927798",
       "version_major": 2,
       "version_minor": 0
      },
      "text/plain": [
       "Downloading: |          |"
      ]
     },
     "metadata": {},
     "output_type": "display_data"
    },
    {
     "data": {
      "text/html": [
       "<div>\n",
       "<style scoped>\n",
       "    .dataframe tbody tr th:only-of-type {\n",
       "        vertical-align: middle;\n",
       "    }\n",
       "\n",
       "    .dataframe tbody tr th {\n",
       "        vertical-align: top;\n",
       "    }\n",
       "\n",
       "    .dataframe thead th {\n",
       "        text-align: right;\n",
       "    }\n",
       "</style>\n",
       "<table border=\"1\" class=\"dataframe\">\n",
       "  <thead>\n",
       "    <tr style=\"text-align: right;\">\n",
       "      <th></th>\n",
       "      <th>expected_label</th>\n",
       "      <th>predicted_0</th>\n",
       "      <th>predicted_1</th>\n",
       "    </tr>\n",
       "  </thead>\n",
       "  <tbody>\n",
       "  </tbody>\n",
       "</table>\n",
       "</div>"
      ],
      "text/plain": [
       "Empty DataFrame\n",
       "Columns: [expected_label, predicted_0, predicted_1]\n",
       "Index: []"
      ]
     },
     "execution_count": 25,
     "metadata": {},
     "output_type": "execute_result"
    }
   ],
   "source": [
    "%%bigquery --project $PROJECT_ID\n",
    "\n",
    "SELECT\n",
    "  expected_label,\n",
    "  _0 AS predicted_0,\n",
    "  _1 AS predicted_1\n",
    "FROM\n",
    "  ML.CONFUSION_MATRIX(MODEL bqmlga4.churn_xgb)\n",
    "WHERE trial_id=1;"
   ]
  },
  {
   "cell_type": "markdown",
   "id": "64cdbf52",
   "metadata": {},
   "source": [
    "You can also plot the AUC-ROC curve by using [ML.ROC_CURVE](https://cloud.google.com/bigquery-ml/docs/reference/standard-sql/bigqueryml-syntax-roc) to return the metrics for different threshold values for the model."
   ]
  },
  {
   "cell_type": "code",
   "execution_count": 26,
   "id": "f1f9e493",
   "metadata": {
    "tags": []
   },
   "outputs": [
    {
     "data": {
      "application/vnd.jupyter.widget-view+json": {
       "model_id": "598831bd78ef4bed8c02077d441f3b96",
       "version_major": 2,
       "version_minor": 0
      },
      "text/plain": [
       "Query is running:   0%|          |"
      ]
     },
     "metadata": {},
     "output_type": "display_data"
    },
    {
     "data": {
      "application/vnd.jupyter.widget-view+json": {
       "model_id": "280edb78448646a08101de40ff9e5f7f",
       "version_major": 2,
       "version_minor": 0
      },
      "text/plain": [
       "Downloading:   0%|          |"
      ]
     },
     "metadata": {},
     "output_type": "display_data"
    }
   ],
   "source": [
    "%%bigquery df_roc --project $PROJECT_ID\n",
    "\n",
    "SELECT * FROM ML.ROC_CURVE(MODEL bqmlga4.churn_xgb)"
   ]
  },
  {
   "cell_type": "code",
   "execution_count": 27,
   "id": "da715945",
   "metadata": {
    "tags": []
   },
   "outputs": [
    {
     "data": {
      "text/plain": [
       "<Axes: title={'center': 'AUC-ROC curve'}, xlabel='false_positive_rate'>"
      ]
     },
     "execution_count": 27,
     "metadata": {},
     "output_type": "execute_result"
    },
    {
     "data": {
      "image/png": "[encoded data removed]",
      "text/plain": [
       "<Figure size 640x480 with 1 Axes>"
      ]
     },
     "metadata": {},
     "output_type": "display_data"
    }
   ],
   "source": [
    "df_roc.plot(x=\"false_positive_rate\", y=\"recall\", title=\"AUC-ROC curve\")"
   ]
  },
  {
   "cell_type": "markdown",
   "id": "4e51a9bc",
   "metadata": {},
   "source": [
    "## Inspect global feature attributions"
   ]
  },
  {
   "cell_type": "markdown",
   "id": "c1e4a89b",
   "metadata": {},
   "source": [
    "To provide further context to your model performance, you can use the [ML.GLOBAL_EXPLAIN](https://cloud.google.com/bigquery-ml/docs/reference/standard-sql/bigqueryml-syntax-global-explain#get_global_feature_importance_for_each_class_of_a_boosted_tree_classifier_model) function which leverages Vertex Explainable AI as a back-end. [Vertex Explainable AI](https://cloud.google.com/vertex-ai/docs/explainable-ai) helps you understand your model's outputs for classification and regression tasks. Specifically, Vertex AI tells you how much each feature in the data contributed to your model's predicted result. You can then use this information to verify that the model is behaving as expected, identify and mitigate biases in your models, and get ideas for ways to improve your model and your training data."
   ]
  },
  {
   "cell_type": "code",
   "execution_count": 28,
   "id": "b505dae3",
   "metadata": {
    "tags": []
   },
   "outputs": [
    {
     "data": {
      "application/vnd.jupyter.widget-view+json": {
       "model_id": "d87191058ce24c30bbb8ee23af7f0064",
       "version_major": 2,
       "version_minor": 0
      },
      "text/plain": [
       "Query is running:   0%|          |"
      ]
     },
     "metadata": {},
     "output_type": "display_data"
    },
    {
     "data": {
      "application/vnd.jupyter.widget-view+json": {
       "model_id": "89221ae3c3c34678bc5f2882ae14c4ec",
       "version_major": 2,
       "version_minor": 0
      },
      "text/plain": [
       "Downloading:   0%|          |"
      ]
     },
     "metadata": {},
     "output_type": "display_data"
    },
    {
     "data": {
      "text/html": [
       "<div>\n",
       "<style scoped>\n",
       "    .dataframe tbody tr th:only-of-type {\n",
       "        vertical-align: middle;\n",
       "    }\n",
       "\n",
       "    .dataframe tbody tr th {\n",
       "        vertical-align: top;\n",
       "    }\n",
       "\n",
       "    .dataframe thead th {\n",
       "        text-align: right;\n",
       "    }\n",
       "</style>\n",
       "<table border=\"1\" class=\"dataframe\">\n",
       "  <thead>\n",
       "    <tr style=\"text-align: right;\">\n",
       "      <th></th>\n",
       "      <th>trial_id</th>\n",
       "      <th>feature</th>\n",
       "      <th>attribution</th>\n",
       "    </tr>\n",
       "  </thead>\n",
       "  <tbody>\n",
       "    <tr>\n",
       "      <th>0</th>\n",
       "      <td>2</td>\n",
       "      <td>cnt_user_engagement</td>\n",
       "      <td>0.169185</td>\n",
       "    </tr>\n",
       "    <tr>\n",
       "      <th>1</th>\n",
       "      <td>2</td>\n",
       "      <td>user_first_engagement</td>\n",
       "      <td>0.090603</td>\n",
       "    </tr>\n",
       "    <tr>\n",
       "      <th>2</th>\n",
       "      <td>2</td>\n",
       "      <td>julianday</td>\n",
       "      <td>0.048728</td>\n",
       "    </tr>\n",
       "    <tr>\n",
       "      <th>3</th>\n",
       "      <td>2</td>\n",
       "      <td>operating_system</td>\n",
       "      <td>0.047808</td>\n",
       "    </tr>\n",
       "    <tr>\n",
       "      <th>4</th>\n",
       "      <td>2</td>\n",
       "      <td>cnt_level_start_quickplay</td>\n",
       "      <td>0.007528</td>\n",
       "    </tr>\n",
       "    <tr>\n",
       "      <th>5</th>\n",
       "      <td>2</td>\n",
       "      <td>cnt_post_score</td>\n",
       "      <td>0.005649</td>\n",
       "    </tr>\n",
       "    <tr>\n",
       "      <th>6</th>\n",
       "      <td>2</td>\n",
       "      <td>cnt_level_complete_quickplay</td>\n",
       "      <td>0.003795</td>\n",
       "    </tr>\n",
       "    <tr>\n",
       "      <th>7</th>\n",
       "      <td>2</td>\n",
       "      <td>cnt_level_end_quickplay</td>\n",
       "      <td>0.002686</td>\n",
       "    </tr>\n",
       "    <tr>\n",
       "      <th>8</th>\n",
       "      <td>2</td>\n",
       "      <td>cnt_spend_virtual_currency</td>\n",
       "      <td>0.002680</td>\n",
       "    </tr>\n",
       "    <tr>\n",
       "      <th>9</th>\n",
       "      <td>2</td>\n",
       "      <td>month</td>\n",
       "      <td>0.002622</td>\n",
       "    </tr>\n",
       "    <tr>\n",
       "      <th>10</th>\n",
       "      <td>2</td>\n",
       "      <td>language</td>\n",
       "      <td>0.002613</td>\n",
       "    </tr>\n",
       "    <tr>\n",
       "      <th>11</th>\n",
       "      <td>2</td>\n",
       "      <td>cnt_level_reset_quickplay</td>\n",
       "      <td>0.002449</td>\n",
       "    </tr>\n",
       "    <tr>\n",
       "      <th>12</th>\n",
       "      <td>2</td>\n",
       "      <td>cnt_use_extra_steps</td>\n",
       "      <td>0.002045</td>\n",
       "    </tr>\n",
       "    <tr>\n",
       "      <th>13</th>\n",
       "      <td>2</td>\n",
       "      <td>country</td>\n",
       "      <td>0.001777</td>\n",
       "    </tr>\n",
       "    <tr>\n",
       "      <th>14</th>\n",
       "      <td>2</td>\n",
       "      <td>cnt_completed_5_levels</td>\n",
       "      <td>0.001132</td>\n",
       "    </tr>\n",
       "    <tr>\n",
       "      <th>15</th>\n",
       "      <td>2</td>\n",
       "      <td>dayofweek</td>\n",
       "      <td>0.000877</td>\n",
       "    </tr>\n",
       "    <tr>\n",
       "      <th>16</th>\n",
       "      <td>2</td>\n",
       "      <td>cnt_challenge_a_friend</td>\n",
       "      <td>0.000156</td>\n",
       "    </tr>\n",
       "    <tr>\n",
       "      <th>17</th>\n",
       "      <td>2</td>\n",
       "      <td>cnt_ad_reward</td>\n",
       "      <td>0.000000</td>\n",
       "    </tr>\n",
       "  </tbody>\n",
       "</table>\n",
       "</div>"
      ],
      "text/plain": [
       "    trial_id                       feature  attribution\n",
       "0          2           cnt_user_engagement     0.169185\n",
       "1          2         user_first_engagement     0.090603\n",
       "2          2                     julianday     0.048728\n",
       "3          2              operating_system     0.047808\n",
       "4          2     cnt_level_start_quickplay     0.007528\n",
       "5          2                cnt_post_score     0.005649\n",
       "6          2  cnt_level_complete_quickplay     0.003795\n",
       "7          2       cnt_level_end_quickplay     0.002686\n",
       "8          2    cnt_spend_virtual_currency     0.002680\n",
       "9          2                         month     0.002622\n",
       "10         2                      language     0.002613\n",
       "11         2     cnt_level_reset_quickplay     0.002449\n",
       "12         2           cnt_use_extra_steps     0.002045\n",
       "13         2                       country     0.001777\n",
       "14         2        cnt_completed_5_levels     0.001132\n",
       "15         2                     dayofweek     0.000877\n",
       "16         2        cnt_challenge_a_friend     0.000156\n",
       "17         2                 cnt_ad_reward     0.000000"
      ]
     },
     "execution_count": 28,
     "metadata": {},
     "output_type": "execute_result"
    }
   ],
   "source": [
    "%%bigquery --project $PROJECT_ID\n",
    "\n",
    "SELECT\n",
    "  *\n",
    "FROM\n",
    "  ML.GLOBAL_EXPLAIN(MODEL bqmlga4.churn_xgb)\n",
    "ORDER BY\n",
    "  attribution DESC;"
   ]
  },
  {
   "cell_type": "markdown",
   "id": "b471e6ee",
   "metadata": {},
   "source": [
    "## Generate batch predictions"
   ]
  },
  {
   "cell_type": "markdown",
   "id": "ea8623c1",
   "metadata": {},
   "source": [
    "You can generate batch predictions for your BQML XGBoost model using [ML.PREDICT](https://cloud.google.com/bigquery-ml/docs/reference/standard-sql/bigqueryml-syntax-predict)."
   ]
  },
  {
   "cell_type": "code",
   "execution_count": 29,
   "id": "b117c407",
   "metadata": {
    "tags": []
   },
   "outputs": [
    {
     "data": {
      "application/vnd.jupyter.widget-view+json": {
       "model_id": "de3ade958cd042f3bbba4b056bfe19be",
       "version_major": 2,
       "version_minor": 0
      },
      "text/plain": [
       "Query is running:   0%|          |"
      ]
     },
     "metadata": {},
     "output_type": "display_data"
    },
    {
     "data": {
      "application/vnd.jupyter.widget-view+json": {
       "model_id": "fb6dfb88e6e8493d828667d2db159c5c",
       "version_major": 2,
       "version_minor": 0
      },
      "text/plain": [
       "Downloading:   0%|          |"
      ]
     },
     "metadata": {},
     "output_type": "display_data"
    },
    {
     "data": {
      "text/html": [
       "<div>\n",
       "<style scoped>\n",
       "    .dataframe tbody tr th:only-of-type {\n",
       "        vertical-align: middle;\n",
       "    }\n",
       "\n",
       "    .dataframe tbody tr th {\n",
       "        vertical-align: top;\n",
       "    }\n",
       "\n",
       "    .dataframe thead th {\n",
       "        text-align: right;\n",
       "    }\n",
       "</style>\n",
       "<table border=\"1\" class=\"dataframe\">\n",
       "  <thead>\n",
       "    <tr style=\"text-align: right;\">\n",
       "      <th></th>\n",
       "      <th>trial_id</th>\n",
       "      <th>predicted_churned</th>\n",
       "      <th>predicted_churned_probs</th>\n",
       "      <th>user_pseudo_id</th>\n",
       "      <th>country</th>\n",
       "      <th>operating_system</th>\n",
       "      <th>language</th>\n",
       "      <th>cnt_user_engagement</th>\n",
       "      <th>cnt_level_start_quickplay</th>\n",
       "      <th>cnt_level_end_quickplay</th>\n",
       "      <th>...</th>\n",
       "      <th>cnt_ad_reward</th>\n",
       "      <th>cnt_challenge_a_friend</th>\n",
       "      <th>cnt_completed_5_levels</th>\n",
       "      <th>cnt_use_extra_steps</th>\n",
       "      <th>user_first_engagement</th>\n",
       "      <th>month</th>\n",
       "      <th>julianday</th>\n",
       "      <th>dayofweek</th>\n",
       "      <th>churned</th>\n",
       "      <th>data_split</th>\n",
       "    </tr>\n",
       "  </thead>\n",
       "  <tbody>\n",
       "    <tr>\n",
       "      <th>0</th>\n",
       "      <td>2</td>\n",
       "      <td>0</td>\n",
       "      <td>[{'label': 1, 'prob': 0.16086073219776154}, {'...</td>\n",
       "      <td>EEA5AAE43BD264DED635FBDB2CC9EBB6</td>\n",
       "      <td>United States</td>\n",
       "      <td>IOS</td>\n",
       "      <td>enXus</td>\n",
       "      <td>16</td>\n",
       "      <td>4</td>\n",
       "      <td>5</td>\n",
       "      <td>...</td>\n",
       "      <td>0</td>\n",
       "      <td>0</td>\n",
       "      <td>0</td>\n",
       "      <td>0</td>\n",
       "      <td>1529370704831000</td>\n",
       "      <td>6</td>\n",
       "      <td>170</td>\n",
       "      <td>3</td>\n",
       "      <td>0</td>\n",
       "      <td>TEST</td>\n",
       "    </tr>\n",
       "    <tr>\n",
       "      <th>1</th>\n",
       "      <td>2</td>\n",
       "      <td>0</td>\n",
       "      <td>[{'label': 1, 'prob': 0.2672205865383148}, {'l...</td>\n",
       "      <td>5BB701762E3D47A7D00680C9C76FC5B8</td>\n",
       "      <td>United States</td>\n",
       "      <td>IOS</td>\n",
       "      <td>enXus</td>\n",
       "      <td>10</td>\n",
       "      <td>23</td>\n",
       "      <td>22</td>\n",
       "      <td>...</td>\n",
       "      <td>0</td>\n",
       "      <td>0</td>\n",
       "      <td>0</td>\n",
       "      <td>0</td>\n",
       "      <td>1534473681971000</td>\n",
       "      <td>8</td>\n",
       "      <td>229</td>\n",
       "      <td>6</td>\n",
       "      <td>0</td>\n",
       "      <td>TEST</td>\n",
       "    </tr>\n",
       "    <tr>\n",
       "      <th>2</th>\n",
       "      <td>2</td>\n",
       "      <td>0</td>\n",
       "      <td>[{'label': 1, 'prob': 0.1511560082435608}, {'l...</td>\n",
       "      <td>BBD445CA32DF129E21FF7BB97DC3630A</td>\n",
       "      <td>United States</td>\n",
       "      <td>ANDROID</td>\n",
       "      <td>enXus</td>\n",
       "      <td>1</td>\n",
       "      <td>0</td>\n",
       "      <td>0</td>\n",
       "      <td>...</td>\n",
       "      <td>0</td>\n",
       "      <td>0</td>\n",
       "      <td>0</td>\n",
       "      <td>0</td>\n",
       "      <td>1529986743364001</td>\n",
       "      <td>6</td>\n",
       "      <td>177</td>\n",
       "      <td>3</td>\n",
       "      <td>0</td>\n",
       "      <td>TEST</td>\n",
       "    </tr>\n",
       "    <tr>\n",
       "      <th>3</th>\n",
       "      <td>2</td>\n",
       "      <td>0</td>\n",
       "      <td>[{'label': 1, 'prob': 0.22269409894943237}, {'...</td>\n",
       "      <td>690CE4729AC49CA52E5669DF0B426535</td>\n",
       "      <td>Japan</td>\n",
       "      <td>IOS</td>\n",
       "      <td>jaXjp</td>\n",
       "      <td>5</td>\n",
       "      <td>13</td>\n",
       "      <td>1</td>\n",
       "      <td>...</td>\n",
       "      <td>0</td>\n",
       "      <td>0</td>\n",
       "      <td>0</td>\n",
       "      <td>0</td>\n",
       "      <td>1536382894074005</td>\n",
       "      <td>9</td>\n",
       "      <td>251</td>\n",
       "      <td>7</td>\n",
       "      <td>0</td>\n",
       "      <td>TEST</td>\n",
       "    </tr>\n",
       "    <tr>\n",
       "      <th>4</th>\n",
       "      <td>2</td>\n",
       "      <td>0</td>\n",
       "      <td>[{'label': 1, 'prob': 0.26012149453163147}, {'...</td>\n",
       "      <td>C2F62D6F8815057409C5F511E3ED8A89</td>\n",
       "      <td>India</td>\n",
       "      <td>ANDROID</td>\n",
       "      <td>enXus</td>\n",
       "      <td>10</td>\n",
       "      <td>0</td>\n",
       "      <td>0</td>\n",
       "      <td>...</td>\n",
       "      <td>0</td>\n",
       "      <td>0</td>\n",
       "      <td>0</td>\n",
       "      <td>0</td>\n",
       "      <td>1534931465138001</td>\n",
       "      <td>8</td>\n",
       "      <td>234</td>\n",
       "      <td>4</td>\n",
       "      <td>1</td>\n",
       "      <td>TEST</td>\n",
       "    </tr>\n",
       "    <tr>\n",
       "      <th>...</th>\n",
       "      <td>...</td>\n",
       "      <td>...</td>\n",
       "      <td>...</td>\n",
       "      <td>...</td>\n",
       "      <td>...</td>\n",
       "      <td>...</td>\n",
       "      <td>...</td>\n",
       "      <td>...</td>\n",
       "      <td>...</td>\n",
       "      <td>...</td>\n",
       "      <td>...</td>\n",
       "      <td>...</td>\n",
       "      <td>...</td>\n",
       "      <td>...</td>\n",
       "      <td>...</td>\n",
       "      <td>...</td>\n",
       "      <td>...</td>\n",
       "      <td>...</td>\n",
       "      <td>...</td>\n",
       "      <td>...</td>\n",
       "      <td>...</td>\n",
       "    </tr>\n",
       "    <tr>\n",
       "      <th>794</th>\n",
       "      <td>2</td>\n",
       "      <td>0</td>\n",
       "      <td>[{'label': 1, 'prob': 0.24949222803115845}, {'...</td>\n",
       "      <td>9700CF9FFC360E8446E01D474521C00C</td>\n",
       "      <td>United States</td>\n",
       "      <td>Unknown</td>\n",
       "      <td>enXus</td>\n",
       "      <td>2</td>\n",
       "      <td>1</td>\n",
       "      <td>0</td>\n",
       "      <td>...</td>\n",
       "      <td>0</td>\n",
       "      <td>0</td>\n",
       "      <td>0</td>\n",
       "      <td>0</td>\n",
       "      <td>1528901522779003</td>\n",
       "      <td>6</td>\n",
       "      <td>164</td>\n",
       "      <td>4</td>\n",
       "      <td>0</td>\n",
       "      <td>TEST</td>\n",
       "    </tr>\n",
       "    <tr>\n",
       "      <th>795</th>\n",
       "      <td>2</td>\n",
       "      <td>1</td>\n",
       "      <td>[{'label': 1, 'prob': 0.5071742534637451}, {'l...</td>\n",
       "      <td>1D30F386B1A926E135EE2628B550B7E7</td>\n",
       "      <td>United States</td>\n",
       "      <td>Unknown</td>\n",
       "      <td>enXus</td>\n",
       "      <td>21</td>\n",
       "      <td>11</td>\n",
       "      <td>6</td>\n",
       "      <td>...</td>\n",
       "      <td>0</td>\n",
       "      <td>0</td>\n",
       "      <td>0</td>\n",
       "      <td>0</td>\n",
       "      <td>1528916733888009</td>\n",
       "      <td>6</td>\n",
       "      <td>164</td>\n",
       "      <td>4</td>\n",
       "      <td>1</td>\n",
       "      <td>TEST</td>\n",
       "    </tr>\n",
       "    <tr>\n",
       "      <th>796</th>\n",
       "      <td>2</td>\n",
       "      <td>0</td>\n",
       "      <td>[{'label': 1, 'prob': 0.4128543436527252}, {'l...</td>\n",
       "      <td>5B5E143556AF47EED54099306EF47CBE</td>\n",
       "      <td>United States</td>\n",
       "      <td>IOS</td>\n",
       "      <td>enXus</td>\n",
       "      <td>36</td>\n",
       "      <td>4</td>\n",
       "      <td>4</td>\n",
       "      <td>...</td>\n",
       "      <td>0</td>\n",
       "      <td>0</td>\n",
       "      <td>1</td>\n",
       "      <td>0</td>\n",
       "      <td>1532326622028001</td>\n",
       "      <td>7</td>\n",
       "      <td>204</td>\n",
       "      <td>2</td>\n",
       "      <td>1</td>\n",
       "      <td>TEST</td>\n",
       "    </tr>\n",
       "    <tr>\n",
       "      <th>797</th>\n",
       "      <td>2</td>\n",
       "      <td>0</td>\n",
       "      <td>[{'label': 1, 'prob': 0.39087292551994324}, {'...</td>\n",
       "      <td>61C77E4D83006CF88B5BB443E4A7DDA2</td>\n",
       "      <td>Germany</td>\n",
       "      <td>IOS</td>\n",
       "      <td>deXde</td>\n",
       "      <td>27</td>\n",
       "      <td>3</td>\n",
       "      <td>3</td>\n",
       "      <td>...</td>\n",
       "      <td>0</td>\n",
       "      <td>0</td>\n",
       "      <td>1</td>\n",
       "      <td>0</td>\n",
       "      <td>1530813741795003</td>\n",
       "      <td>7</td>\n",
       "      <td>186</td>\n",
       "      <td>5</td>\n",
       "      <td>0</td>\n",
       "      <td>TEST</td>\n",
       "    </tr>\n",
       "    <tr>\n",
       "      <th>798</th>\n",
       "      <td>2</td>\n",
       "      <td>0</td>\n",
       "      <td>[{'label': 1, 'prob': 0.16534137725830078}, {'...</td>\n",
       "      <td>3125BB9EDC3883B1974A93686D0513CE</td>\n",
       "      <td>Sweden</td>\n",
       "      <td>IOS</td>\n",
       "      <td>svXse</td>\n",
       "      <td>4</td>\n",
       "      <td>1</td>\n",
       "      <td>1</td>\n",
       "      <td>...</td>\n",
       "      <td>0</td>\n",
       "      <td>0</td>\n",
       "      <td>0</td>\n",
       "      <td>0</td>\n",
       "      <td>1529960260743010</td>\n",
       "      <td>6</td>\n",
       "      <td>176</td>\n",
       "      <td>2</td>\n",
       "      <td>0</td>\n",
       "      <td>TEST</td>\n",
       "    </tr>\n",
       "  </tbody>\n",
       "</table>\n",
       "<p>799 rows × 24 columns</p>\n",
       "</div>"
      ],
      "text/plain": [
       "     trial_id  predicted_churned  \\\n",
       "0           2                  0   \n",
       "1           2                  0   \n",
       "2           2                  0   \n",
       "3           2                  0   \n",
       "4           2                  0   \n",
       "..        ...                ...   \n",
       "794         2                  0   \n",
       "795         2                  1   \n",
       "796         2                  0   \n",
       "797         2                  0   \n",
       "798         2                  0   \n",
       "\n",
       "                               predicted_churned_probs  \\\n",
       "0    [{'label': 1, 'prob': 0.16086073219776154}, {'...   \n",
       "1    [{'label': 1, 'prob': 0.2672205865383148}, {'l...   \n",
       "2    [{'label': 1, 'prob': 0.1511560082435608}, {'l...   \n",
       "3    [{'label': 1, 'prob': 0.22269409894943237}, {'...   \n",
       "4    [{'label': 1, 'prob': 0.26012149453163147}, {'...   \n",
       "..                                                 ...   \n",
       "794  [{'label': 1, 'prob': 0.24949222803115845}, {'...   \n",
       "795  [{'label': 1, 'prob': 0.5071742534637451}, {'l...   \n",
       "796  [{'label': 1, 'prob': 0.4128543436527252}, {'l...   \n",
       "797  [{'label': 1, 'prob': 0.39087292551994324}, {'...   \n",
       "798  [{'label': 1, 'prob': 0.16534137725830078}, {'...   \n",
       "\n",
       "                       user_pseudo_id        country operating_system  \\\n",
       "0    EEA5AAE43BD264DED635FBDB2CC9EBB6  United States              IOS   \n",
       "1    5BB701762E3D47A7D00680C9C76FC5B8  United States              IOS   \n",
       "2    BBD445CA32DF129E21FF7BB97DC3630A  United States          ANDROID   \n",
       "3    690CE4729AC49CA52E5669DF0B426535          Japan              IOS   \n",
       "4    C2F62D6F8815057409C5F511E3ED8A89          India          ANDROID   \n",
       "..                                ...            ...              ...   \n",
       "794  9700CF9FFC360E8446E01D474521C00C  United States          Unknown   \n",
       "795  1D30F386B1A926E135EE2628B550B7E7  United States          Unknown   \n",
       "796  5B5E143556AF47EED54099306EF47CBE  United States              IOS   \n",
       "797  61C77E4D83006CF88B5BB443E4A7DDA2        Germany              IOS   \n",
       "798  3125BB9EDC3883B1974A93686D0513CE         Sweden              IOS   \n",
       "\n",
       "    language  cnt_user_engagement  cnt_level_start_quickplay  \\\n",
       "0      enXus                   16                          4   \n",
       "1      enXus                   10                         23   \n",
       "2      enXus                    1                          0   \n",
       "3      jaXjp                    5                         13   \n",
       "4      enXus                   10                          0   \n",
       "..       ...                  ...                        ...   \n",
       "794    enXus                    2                          1   \n",
       "795    enXus                   21                         11   \n",
       "796    enXus                   36                          4   \n",
       "797    deXde                   27                          3   \n",
       "798    svXse                    4                          1   \n",
       "\n",
       "     cnt_level_end_quickplay  ...  cnt_ad_reward  cnt_challenge_a_friend  \\\n",
       "0                          5  ...              0                       0   \n",
       "1                         22  ...              0                       0   \n",
       "2                          0  ...              0                       0   \n",
       "3                          1  ...              0                       0   \n",
       "4                          0  ...              0                       0   \n",
       "..                       ...  ...            ...                     ...   \n",
       "794                        0  ...              0                       0   \n",
       "795                        6  ...              0                       0   \n",
       "796                        4  ...              0                       0   \n",
       "797                        3  ...              0                       0   \n",
       "798                        1  ...              0                       0   \n",
       "\n",
       "     cnt_completed_5_levels  cnt_use_extra_steps  user_first_engagement  \\\n",
       "0                         0                    0       1529370704831000   \n",
       "1                         0                    0       1534473681971000   \n",
       "2                         0                    0       1529986743364001   \n",
       "3                         0                    0       1536382894074005   \n",
       "4                         0                    0       1534931465138001   \n",
       "..                      ...                  ...                    ...   \n",
       "794                       0                    0       1528901522779003   \n",
       "795                       0                    0       1528916733888009   \n",
       "796                       1                    0       1532326622028001   \n",
       "797                       1                    0       1530813741795003   \n",
       "798                       0                    0       1529960260743010   \n",
       "\n",
       "     month  julianday  dayofweek  churned  data_split  \n",
       "0        6        170          3        0        TEST  \n",
       "1        8        229          6        0        TEST  \n",
       "2        6        177          3        0        TEST  \n",
       "3        9        251          7        0        TEST  \n",
       "4        8        234          4        1        TEST  \n",
       "..     ...        ...        ...      ...         ...  \n",
       "794      6        164          4        0        TEST  \n",
       "795      6        164          4        1        TEST  \n",
       "796      7        204          2        1        TEST  \n",
       "797      7        186          5        0        TEST  \n",
       "798      6        176          2        0        TEST  \n",
       "\n",
       "[799 rows x 24 columns]"
      ]
     },
     "execution_count": 29,
     "metadata": {},
     "output_type": "execute_result"
    }
   ],
   "source": [
    "%%bigquery --project $PROJECT_ID\n",
    "\n",
    "SELECT\n",
    "  *\n",
    "FROM\n",
    "  ML.PREDICT(MODEL bqmlga4.churn_xgb,\n",
    "  (SELECT * FROM bqmlga4.ml_features WHERE data_split = \"TEST\"))"
   ]
  },
  {
   "cell_type": "markdown",
   "id": "32dac74c",
   "metadata": {},
   "source": [
    "The following query returns the probability that the user will return after 24 hrs. The higher the probability and closer it is to 1, the more likely the user is predicted to churn, and the closer it is to 0, the more likely the user is predicted to return."
   ]
  },
  {
   "cell_type": "code",
   "execution_count": 30,
   "id": "f7411bff",
   "metadata": {
    "tags": []
   },
   "outputs": [
    {
     "data": {
      "application/vnd.jupyter.widget-view+json": {
       "model_id": "6de8f1fe9d8b4764b0f3786433286cbb",
       "version_major": 2,
       "version_minor": 0
      },
      "text/plain": [
       "Query is running:   0%|          |"
      ]
     },
     "metadata": {},
     "output_type": "display_data"
    },
    {
     "data": {
      "text/html": [
       "<div>\n",
       "<style scoped>\n",
       "    .dataframe tbody tr th:only-of-type {\n",
       "        vertical-align: middle;\n",
       "    }\n",
       "\n",
       "    .dataframe tbody tr th {\n",
       "        vertical-align: top;\n",
       "    }\n",
       "\n",
       "    .dataframe thead th {\n",
       "        text-align: right;\n",
       "    }\n",
       "</style>\n",
       "<table border=\"1\" class=\"dataframe\">\n",
       "  <thead>\n",
       "    <tr style=\"text-align: right;\">\n",
       "      <th></th>\n",
       "    </tr>\n",
       "  </thead>\n",
       "  <tbody>\n",
       "  </tbody>\n",
       "</table>\n",
       "</div>"
      ],
      "text/plain": [
       "Empty DataFrame\n",
       "Columns: []\n",
       "Index: []"
      ]
     },
     "execution_count": 30,
     "metadata": {},
     "output_type": "execute_result"
    }
   ],
   "source": [
    "%%bigquery --project $PROJECT_ID\n",
    "\n",
    "CREATE OR REPLACE TABLE bqmlga4.churn_predictions AS (\n",
    "SELECT\n",
    "  user_pseudo_id,\n",
    "  churned,\n",
    "  predicted_churned,\n",
    "  predicted_churned_probs[OFFSET(0)].prob as probability_churned\n",
    "FROM\n",
    "  ML.PREDICT(MODEL bqmlga4.churn_xgb,\n",
    "  (SELECT * FROM bqmlga4.ml_features))\n",
    ");"
   ]
  },
  {
   "cell_type": "markdown",
   "id": "1c037410",
   "metadata": {},
   "source": [
    "## Export a BQML model to Vertex AI for online predictions"
   ]
  },
  {
   "cell_type": "markdown",
   "id": "a36d9005",
   "metadata": {},
   "source": [
    "See the official BigQuery ML Guide: [Exporting a BigQuery ML model for online prediction](https://cloud.google.com/bigquery-ml/docs/export-model-tutorial) for additional details."
   ]
  },
  {
   "cell_type": "markdown",
   "id": "6593da8c",
   "metadata": {},
   "source": [
    "### Export BQML model to GCS"
   ]
  },
  {
   "cell_type": "markdown",
   "id": "4dfedfdd",
   "metadata": {},
   "source": [
    "You will use the `bq extract` command in the `bq` command-line tool to export your BQML XGBoost model assets to Google Cloud Storage for persistence. See the [documentation](https://cloud.google.com/bigquery-ml/docs/exporting-models) for additional model export options."
   ]
  },
  {
   "cell_type": "code",
   "execution_count": 31,
   "id": "94f50a47",
   "metadata": {
    "tags": []
   },
   "outputs": [],
   "source": [
    "BQ_MODEL = f\"{BQ_DATASET}.{MODEL_NAME}\"\n",
    "BQ_MODEL_EXPORT_DIR = f\"gs://{GCS_BUCKET}/{MODEL_NAME}\""
   ]
  },
  {
   "cell_type": "code",
   "execution_count": 32,
   "id": "ee61430a",
   "metadata": {
    "tags": []
   },
   "outputs": [
    {
     "name": "stdout",
     "output_type": "stream",
     "text": [
      "Waiting on bqjob_r19f14b27c493fb4_000001966b1d690b_1 ... (2s) Current status: DONE   \n"
     ]
    }
   ],
   "source": [
    "!bq --location=$BQ_LOCATION extract \\\n",
    "--destination_format ML_XGBOOST_BOOSTER \\\n",
    "--model $BQ_MODEL \\\n",
    "$BQ_MODEL_EXPORT_DIR"
   ]
  },
  {
   "cell_type": "markdown",
   "id": "4f336458",
   "metadata": {},
   "source": [
    "Navigate to [Google Cloud Storage](https://pantheon.corp.google.com/storage) in Google Cloud Console to `\"gs://{GCS_BUCKET}/{MODEL_NAME}\"`. Validate that you see your exported model assets in the below format:\n",
    "\n",
    "```\n",
    "|--/{GCS_BUCKET}/{MODEL_NAME}/\n",
    "   |--/assets/                       # Contains preprocessing code.  \n",
    "      |--0_categorical_label.txt     # Contains country vocabulary.\n",
    "      |--1_categorical_label.txt     # Contains operating_system vocabulary.\n",
    "      |--2_categorical_label.txt     # Contains language vocabulary.\n",
    "      |--model_metadata.json         # contains model feature and label mappings.\n",
    "   |--main.py                        # Can be called for local training runs.\n",
    "   |--model.bst                      # XGBoost saved model format.\n",
    "   |--xgboost_predictor-0.1.tar.gz   # Compress XGBoost model with prediction function. \n",
    "```"
   ]
  },
  {
   "cell_type": "markdown",
   "id": "71122b86",
   "metadata": {},
   "source": [
    "### Upload BQML model to Vertex AI from GCS"
   ]
  },
  {
   "cell_type": "markdown",
   "id": "dc20e5e7",
   "metadata": {},
   "source": [
    "Vertex AI contains optimized pre-built training and prediction containers for popular ML frameworks such as TensorFlow, Pytorch, as well as XGBoost. You will upload your XGBoost from GCS to Vertex AI and provide the [latest pre-built Vertex XGBoost prediction container](https://cloud.google.com/vertex-ai/docs/predictions/pre-built-containers) to execute your model code to generate predictions in the cells below."
   ]
  },
  {
   "cell_type": "code",
   "execution_count": 33,
   "id": "c86cd67e",
   "metadata": {
    "tags": []
   },
   "outputs": [],
   "source": [
    "IMAGE_URI='us-docker.pkg.dev/vertex-ai/prediction/xgboost-cpu.1-4:latest'"
   ]
  },
  {
   "cell_type": "code",
   "execution_count": 34,
   "id": "e3278567",
   "metadata": {
    "tags": []
   },
   "outputs": [
    {
     "name": "stdout",
     "output_type": "stream",
     "text": [
      "Creating Model\n",
      "Create Model backing LRO: projects/776686698605/locations/us-central1/models/3398455201525399552/operations/6082787049738338304\n",
      "Model created. Resource name: projects/776686698605/locations/us-central1/models/3398455201525399552@1\n",
      "To use this Model in another session:\n",
      "model = aiplatform.Model('projects/776686698605/locations/us-central1/models/3398455201525399552@1')\n"
     ]
    }
   ],
   "source": [
    "model = vertexai.Model.upload(\n",
    "    display_name=MODEL_NAME,\n",
    "    artifact_uri=BQ_MODEL_EXPORT_DIR,\n",
    "    serving_container_image_uri=IMAGE_URI,\n",
    ")"
   ]
  },
  {
   "cell_type": "markdown",
   "id": "0874197c",
   "metadata": {},
   "source": [
    "### Deploy a Vertex `Endpoint` for online predictions"
   ]
  },
  {
   "cell_type": "markdown",
   "id": "1410ebc6",
   "metadata": {},
   "source": [
    "Before you use your model to make predictions, you need to deploy it to an `Endpoint` object. When you deploy a model to an `Endpoint`, you associate physical (machine) resources with that model to enable it to serve online predictions. Online predictions have low latency requirements; providing resources to the model in advance reduces latency. You can do this by calling the deploy function on the `Model` resource. This will do two things:\n",
    "\n",
    "1. Create an `Endpoint` resource for deploying the `Model` resource to.\n",
    "2. Deploy the `Model` resource to the `Endpoint` resource.\n",
    "\n",
    "The `deploy()` function takes the following parameters:\n",
    "\n",
    "* `deployed_model_display_name`: A human readable name for the deployed model.\n",
    "* `traffic_split`: Percent of traffic at the endpoint that goes to this model, which is specified as a dictionary of one or more key/value pairs. If only one model, then specify as { \"0\": 100 }, where \"0\" refers to this model being uploaded and 100 means 100% of the traffic.\n",
    "* `machine_type`: The type of machine to use for training.\n",
    "* `accelerator_type`: The hardware accelerator type.\n",
    "* `accelerator_count`: The number of accelerators to attach to a worker replica.\n",
    "* `starting_replica_count`: The number of compute instances to initially provision.\n",
    "* `max_replica_count`: The maximum number of compute instances to scale to. In this lab, only one instance is provisioned.\n",
    "* `explanation_parameters`: Metadata to configure the Explainable AI learning method.\n",
    "* `explanation_metadata`: Metadata that describes your TensorFlow model for Explainable AI such as features, input and output tensors.\n",
    "\n",
    "Note: this can take about 3-5 minutes to provision prediction resources for your model."
   ]
  },
  {
   "cell_type": "code",
   "execution_count": 35,
   "id": "df5368fb",
   "metadata": {
    "tags": []
   },
   "outputs": [
    {
     "name": "stdout",
     "output_type": "stream",
     "text": [
      "Creating Endpoint\n",
      "Create Endpoint backing LRO: projects/776686698605/locations/us-central1/endpoints/8739891485354229760/operations/8720770531470606336\n",
      "Endpoint created. Resource name: projects/776686698605/locations/us-central1/endpoints/8739891485354229760\n",
      "To use this Endpoint in another session:\n",
      "endpoint = aiplatform.Endpoint('projects/776686698605/locations/us-central1/endpoints/8739891485354229760')\n",
      "Deploying model to Endpoint : projects/776686698605/locations/us-central1/endpoints/8739891485354229760\n",
      "Deploy Endpoint model backing LRO: projects/776686698605/locations/us-central1/endpoints/8739891485354229760/operations/380104021580447744\n",
      "Endpoint model deployed. Resource name: projects/776686698605/locations/us-central1/endpoints/8739891485354229760\n"
     ]
    }
   ],
   "source": [
    "endpoint = model.deploy(\n",
    "    traffic_split={\"0\": 100},\n",
    "    machine_type=\"e2-standard-2\",\n",
    ")"
   ]
  },
  {
   "cell_type": "markdown",
   "id": "cc8448a1",
   "metadata": {},
   "source": [
    "### Query model for online predictions"
   ]
  },
  {
   "cell_type": "markdown",
   "id": "0b67ca13",
   "metadata": {},
   "source": [
    "XGBoost only takes numerical feature inputs. When you trained your BQML model above with CREATE MODEL statement, it automatically handled encoding of categorical features such as user `country`, `operating system`, and `language` into numeric representations. In order for our exported model to generate online predictions, you will use the categorical feature vocabulary files exported under the `assets/` folder of your model directory and the Scikit-Learn preprocessing code below to map your test instances to numeric values."
   ]
  },
  {
   "cell_type": "code",
   "execution_count": 36,
   "id": "6b647538",
   "metadata": {
    "tags": []
   },
   "outputs": [],
   "source": [
    "CATEGORICAL_FEATURES = ['country',\n",
    "                        'operating_system',\n",
    "                        'language']"
   ]
  },
  {
   "cell_type": "code",
   "execution_count": 37,
   "id": "18bb0e82",
   "metadata": {
    "tags": []
   },
   "outputs": [],
   "source": [
    "from sklearn.preprocessing import OrdinalEncoder"
   ]
  },
  {
   "cell_type": "code",
   "execution_count": 38,
   "id": "350c5727",
   "metadata": {
    "tags": []
   },
   "outputs": [],
   "source": [
    "def _build_cat_feature_encoders(cat_feature_list, gcs_bucket, model_name, na_value='Unknown'):\n",
    "    \"\"\"Build categorical feature encoders for mapping text to integers for XGBoost inference. \n",
    "    Args:\n",
    "      cat_feature_list (list): List of string feature names.\n",
    "      gcs_bucket (str): A string path to your Google Cloud Storage bucket.\n",
    "      model_name (str): A string model directory in GCS where your BQML model was exported to.\n",
    "      na_value (str): default is 'Unknown'. String value to replace any vocab NaN values prior to encoding.\n",
    "    Returns:\n",
    "      feature_encoders (dict): A dictionary containing OrdinalEncoder objects for integerizing \n",
    "        categorical features that has the format [feature] = feature encoder.\n",
    "    \"\"\"\n",
    "    \n",
    "    feature_encoders = {}\n",
    "    \n",
    "    for idx, feature in enumerate(cat_feature_list):\n",
    "        feature_encoder = OrdinalEncoder(handle_unknown=\"use_encoded_value\", unknown_value=-1)\n",
    "        feature_vocab_file = f\"gs://{gcs_bucket}/{model_name}/assets/{idx}_categorical_label.txt\"\n",
    "        feature_vocab_df = pd.read_csv(feature_vocab_file, delimiter = \"\\t\", header=None).fillna(na_value)\n",
    "        feature_encoder.fit(feature_vocab_df.values)\n",
    "        feature_encoders[feature] = feature_encoder\n",
    "    \n",
    "    return feature_encoders"
   ]
  },
  {
   "cell_type": "code",
   "execution_count": 39,
   "id": "809875a4",
   "metadata": {
    "tags": []
   },
   "outputs": [],
   "source": [
    "def preprocess_xgboost(instances, cat_feature_list, feature_encoders):\n",
    "    \"\"\"Transform instances to numerical values for inference.\n",
    "    Args:\n",
    "      instances (list[dict]): A list of feature dictionaries with the format feature: value. \n",
    "      cat_feature_list (list): A list of string feature names.\n",
    "      feature_encoders (dict): A dictionary with the format feature: feature_encoder.\n",
    "    Returns:\n",
    "      transformed_instances (list[list]): A list of lists containing numerical feature values needed\n",
    "        for Vertex XGBoost inference.\n",
    "    \"\"\"\n",
    "    transformed_instances = []\n",
    "    \n",
    "    for instance in instances:\n",
    "        for feature in cat_feature_list:\n",
    "            feature_int = feature_encoders[feature].transform([[instance[feature]]]).item()\n",
    "            instance[feature] = feature_int\n",
    "            instance_list = list(instance.values())\n",
    "        transformed_instances.append(instance_list)\n",
    "\n",
    "    return transformed_instances"
   ]
  },
  {
   "cell_type": "code",
   "execution_count": 40,
   "id": "eae41101",
   "metadata": {
    "tags": []
   },
   "outputs": [],
   "source": [
    "# Build a dictionary of ordinal categorical feature encoders.\n",
    "feature_encoders = _build_cat_feature_encoders(CATEGORICAL_FEATURES, GCS_BUCKET, MODEL_NAME)"
   ]
  },
  {
   "cell_type": "code",
   "execution_count": 41,
   "id": "201f0aa9",
   "metadata": {
    "tags": []
   },
   "outputs": [
    {
     "data": {
      "application/vnd.jupyter.widget-view+json": {
       "model_id": "a651c54e406f432694fd64694c3b0f5e",
       "version_major": 2,
       "version_minor": 0
      },
      "text/plain": [
       "Query is running:   0%|          |"
      ]
     },
     "metadata": {},
     "output_type": "display_data"
    },
    {
     "data": {
      "application/vnd.jupyter.widget-view+json": {
       "model_id": "e3304713bc0f49429d7af459753b6f83",
       "version_major": 2,
       "version_minor": 0
      },
      "text/plain": [
       "Downloading:   0%|          |"
      ]
     },
     "metadata": {},
     "output_type": "display_data"
    }
   ],
   "source": [
    "%%bigquery test_df --project $PROJECT_ID \n",
    "\n",
    "SELECT* EXCEPT (user_pseudo_id, churned, data_split)\n",
    "FROM bqmlga4.ml_features\n",
    "WHERE data_split=\"TEST\"\n",
    "LIMIT 3;"
   ]
  },
  {
   "cell_type": "code",
   "execution_count": 42,
   "id": "d397bc03",
   "metadata": {
    "tags": []
   },
   "outputs": [],
   "source": [
    "# Convert dataframe records to feature dictionaries for preprocessing by feature name.\n",
    "test_instances = test_df.astype(str).to_dict(orient='records')"
   ]
  },
  {
   "cell_type": "code",
   "execution_count": 43,
   "id": "e19ade61",
   "metadata": {
    "tags": []
   },
   "outputs": [],
   "source": [
    "# Apply preprocessing to transform categorical features and return numerical instances for prediction.\n",
    "transformed_test_instances = preprocess_xgboost(test_instances, CATEGORICAL_FEATURES, feature_encoders)"
   ]
  },
  {
   "cell_type": "code",
   "execution_count": 44,
   "id": "873c0db2",
   "metadata": {
    "tags": []
   },
   "outputs": [],
   "source": [
    "# Generate predictions from model deployed to Vertex AI Endpoint.\n",
    "predictions = endpoint.predict(instances=transformed_test_instances)"
   ]
  },
  {
   "cell_type": "code",
   "execution_count": 45,
   "id": "a3a08430",
   "metadata": {
    "tags": []
   },
   "outputs": [
    {
     "name": "stdout",
     "output_type": "stream",
     "text": [
      "Prediction: Customer 0 - Not Churn [0.1403629183769226, 0.8596371412277222]\n",
      "{\"country\":\"France\",\"operating_system\":\"IOS\",\"language\":\"frXfr\",\"cnt_user_engagement\":\"27\",\"cnt_level_start_quickplay\":\"10\",\"cnt_level_end_quickplay\":\"9\",\"cnt_level_complete_quickplay\":\"7\",\"cnt_level_reset_quickplay\":\"0\",\"cnt_post_score\":\"7\",\"cnt_spend_virtual_currency\":\"0\",\"cnt_ad_reward\":\"0\",\"cnt_challenge_a_friend\":\"0\",\"cnt_completed_5_levels\":\"0\",\"cnt_use_extra_steps\":\"0\",\"user_first_engagement\":\"1528808895440000\",\"month\":\"6\",\"julianday\":\"163\",\"dayofweek\":\"3\"}\n",
      "\n",
      "Prediction: Customer 1 - Not Churn [0.1445967257022858, 0.8554032444953918]\n",
      "{\"country\":\"India\",\"operating_system\":\"ANDROID\",\"language\":\"enXgb\",\"cnt_user_engagement\":\"6\",\"cnt_level_start_quickplay\":\"2\",\"cnt_level_end_quickplay\":\"0\",\"cnt_level_complete_quickplay\":\"0\",\"cnt_level_reset_quickplay\":\"0\",\"cnt_post_score\":\"0\",\"cnt_spend_virtual_currency\":\"0\",\"cnt_ad_reward\":\"0\",\"cnt_challenge_a_friend\":\"0\",\"cnt_completed_5_levels\":\"0\",\"cnt_use_extra_steps\":\"0\",\"user_first_engagement\":\"1528787091581014\",\"month\":\"6\",\"julianday\":\"163\",\"dayofweek\":\"3\"}\n",
      "\n",
      "Prediction: Customer 2 - Not Churn [0.2437268942594528, 0.7562730312347412]\n",
      "{\"country\":\"United States\",\"operating_system\":\"IOS\",\"language\":\"enXus\",\"cnt_user_engagement\":\"12\",\"cnt_level_start_quickplay\":\"4\",\"cnt_level_end_quickplay\":\"3\",\"cnt_level_complete_quickplay\":\"2\",\"cnt_level_reset_quickplay\":\"0\",\"cnt_post_score\":\"2\",\"cnt_spend_virtual_currency\":\"0\",\"cnt_ad_reward\":\"0\",\"cnt_challenge_a_friend\":\"0\",\"cnt_completed_5_levels\":\"0\",\"cnt_use_extra_steps\":\"0\",\"user_first_engagement\":\"1529520781166009\",\"month\":\"6\",\"julianday\":\"171\",\"dayofweek\":\"4\"}\n",
      "\n"
     ]
    }
   ],
   "source": [
    "for idx, prediction in enumerate(predictions.predictions):\n",
    "    # Class labels [1,0] retrieved from model_metadata.json in GCS model dir.\n",
    "    # BQML binary classification default is 0.5 with above \"Churn\" and below \"Not Churn\".\n",
    "    is_churned = \"Churn\" if prediction[0] >= 0.5 else \"Not Churn\"\n",
    "    print(f\"Prediction: Customer {idx} - {is_churned} {prediction}\")\n",
    "    print(test_df.iloc[idx].astype(str).to_json() + \"\\n\")"
   ]
  },
  {
   "cell_type": "markdown",
   "id": "d7a4e13f",
   "metadata": {},
   "source": [
    "## Next steps"
   ]
  },
  {
   "cell_type": "markdown",
   "id": "0f0d1f2c",
   "metadata": {},
   "source": [
    "Congratulations! In this lab, you trained, tuned, explained, and deployed a BigQuery ML user churn model to generate high business impact batch and online churn predictions to target customers likely to churn with interventions such as in-game rewards and reminder notifications.\n",
    "\n",
    "In this lab, you used `user_psuedo_id` as a user identifier. As next steps, you can extend this code further by having your application return a `user_id` to Google Analytics so you can join your model's predictions with additional first-party data such as purchase history and marketing engagement data. This enables you to integrate batch predictions into Looker dashboards to help product teams prioritize user experience improvements and marketing teams create targeted user interventions such as reminder emails to improve retention. \n",
    "\n",
    "Through having your model in Vertex AI Prediction, you also have a scalable prediction service to call from your application to directly integrate online predictions in order to to tailor personalized user game experiences and allow for targeted habit-building notifications.\n",
    "\n",
    "As you collect more data from your users, you may want to regularly evaluate your model on fresh data and re-train the model if you notice that the model quality is decaying. [Vertex Pipelines](https://cloud.google.com/vertex-ai/docs/pipelines/introduction) can help you to automate, monitor, and govern your ML solutions by orchestrating your BQML workflow in a serverless manner, and storing your workflow's artifacts using [Vertex ML Metadata](https://cloud.google.com/vertex-ai/docs/ml-metadata/introduction). For another alternative for continuous BQML models, checkout the blog post [Continuous model evaluation with BigQuery ML, Stored Procedures, and Cloud Scheduler](https://cloud.google.com/blog/topics/developers-practitioners/continuous-model-evaluation-bigquery-ml-stored-procedures-and-cloud-scheduler).\n",
    "\n"
   ]
  },
  {
   "cell_type": "markdown",
   "id": "a04b58a0",
   "metadata": {},
   "source": [
    "## License"
   ]
  },
  {
   "cell_type": "code",
   "execution_count": 46,
   "id": "1593ed77",
   "metadata": {
    "tags": []
   },
   "outputs": [],
   "source": [
    "# Copyright 2021 Google LLC\n",
    "#\n",
    "# Licensed under the Apache License, Version 2.0 (the \"License\");\n",
    "# you may not use this file except in compliance with the License.\n",
    "# You may obtain a copy of the License at\n",
    "#\n",
    "#     https://www.apache.org/licenses/LICENSE-2.0\n",
    "#\n",
    "# Unless required by applicable law or agreed to in writing, software\n",
    "# distributed under the License is distributed on an \"AS IS\" BASIS,\n",
    "# WITHOUT WARRANTIES OR CONDITIONS OF ANY KIND, either express or implied.\n",
    "# See the License for the specific language governing permissions and\n",
    "# limitations under the License."
   ]
  },
  {
   "cell_type": "code",
   "execution_count": null,
   "id": "eee02509-4551-44b5-8959-cdd5a532d47f",
   "metadata": {},
   "outputs": [],
   "source": []
  },
  {
   "cell_type": "code",
   "execution_count": null,
   "id": "8e1a4996-ce09-431f-9b78-45b6e28eb5d9",
   "metadata": {},
   "outputs": [],
   "source": []
  }
 ],
 "metadata": {
  "environment": {
   "kernel": "conda-base-py",
   "name": "workbench-notebooks.m129",
   "type": "gcloud",
   "uri": "us-docker.pkg.dev/deeplearning-platform-release/gcr.io/workbench-notebooks:m129"
  },
  "kernelspec": {
   "display_name": "Python 3 (ipykernel) (Local) (Local)",
   "language": "python",
   "name": "conda-base-py"
  },
  "language_info": {
   "codemirror_mode": {
    "name": "ipython",
    "version": 3
   },
   "file_extension": ".py",
   "mimetype": "text/x-python",
   "name": "python",
   "nbconvert_exporter": "python",
   "pygments_lexer": "ipython3",
   "version": "3.10.16"
  }
 },
 "nbformat": 4,
 "nbformat_minor": 5
}
