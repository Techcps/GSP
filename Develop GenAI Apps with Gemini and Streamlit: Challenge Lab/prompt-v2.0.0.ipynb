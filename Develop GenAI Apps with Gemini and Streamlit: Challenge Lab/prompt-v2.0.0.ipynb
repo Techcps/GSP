{
 "cells": [
  {
   "cell_type": "markdown",
   "id": "b0aebd0e",
   "metadata": {},
   "source": [
    "## Get started"
   ]
  },
  {
   "cell_type": "markdown",
   "id": "8d8c3eb5",
   "metadata": {},
   "source": [
    "### Install Gen AI SDK for Python"
   ]
  },
  {
   "cell_type": "code",
   "execution_count": 4,
   "id": "886b0e3d-40f1-46ca-893e-6b552e0da789",
   "metadata": {
    "tags": []
   },
   "outputs": [
    {
     "name": "stdout",
     "output_type": "stream",
     "text": [
      "Note: you may need to restart the kernel to use updated packages.\n"
     ]
    }
   ],
   "source": [
    "%pip install --upgrade --quiet google-genai"
   ]
  },
  {
   "cell_type": "markdown",
   "id": "bcbcd1c5",
   "metadata": {},
   "source": [
    "### Restart runtime\n",
    "\n",
    "To use the newly installed packages in this Jupyter runtime, you must restart the runtime. You can do this by running the cell below, which restarts the current kernel.\n",
    "\n",
    "The restart might take a minute or longer. After it's restarted, continue to the next step."
   ]
  },
  {
   "cell_type": "code",
   "execution_count": 5,
   "id": "0236992b-fd52-4c14-8aa3-879325b8a9d4",
   "metadata": {
    "tags": []
   },
   "outputs": [
    {
     "data": {
      "text/plain": [
       "{'status': 'ok', 'restart': True}"
      ]
     },
     "execution_count": 5,
     "metadata": {},
     "output_type": "execute_result"
    }
   ],
   "source": [
    "import IPython\n",
    "\n",
    "app = IPython.Application.instance()\n",
    "app.kernel.do_shutdown(True)"
   ]
  },
  {
   "cell_type": "markdown",
   "id": "9b1f2f60",
   "metadata": {},
   "source": [
    "### Set Google Cloud project information and create Gen AI API client\n",
    "\n",
    "To get started using Vertex AI, you must have an existing Google Cloud project and [enable the Vertex AI API](https://console.cloud.google.com/flows/enableapi?apiid=aiplatform.googleapis.com).\n",
    "\n",
    "Learn more about [setting up a project and a development environment](https://cloud.google.com/vertex-ai/docs/start/cloud-environment)."
   ]
  },
  {
   "cell_type": "code",
   "execution_count": 1,
   "id": "a44251ab-73ee-4361-8385-ac17ca0764ab",
   "metadata": {
    "tags": []
   },
   "outputs": [],
   "source": [
    "# Task 1.3\n",
    "# Modify these variables to include your project ID and region.\n",
    "PROJECT_ID = \"qwiklabs-gcp-02-43602b439ec2\"  # @param {type:\"string\"}\n",
    "LOCATION = \"us-east4\"  # @param {type:\"string\"}\n",
    "\n",
    "# Create the API client\n",
    "from google import genai\n",
    "client = genai.Client(vertexai=True, project=PROJECT_ID, location=LOCATION)"
   ]
  },
  {
   "cell_type": "code",
   "execution_count": 2,
   "id": "245a90b1-8a84-4260-aed8-34c42cc44a56",
   "metadata": {
    "tags": []
   },
   "outputs": [],
   "source": [
    "import os\n",
    "\n",
    "os.environ[\"PROJECT_ID\"] = PROJECT_ID\n",
    "os.environ[\"LOCATION\"] = LOCATION\n",
    "os.environ[\"API_ENDPOINT\"] = f\"{LOCATION}-aiplatform.googleapis.com\""
   ]
  },
  {
   "cell_type": "code",
   "execution_count": 3,
   "id": "6c9f62cf-2014-477d-b858-b3236ca0e0ff",
   "metadata": {
    "tags": []
   },
   "outputs": [
    {
     "name": "stderr",
     "output_type": "stream",
     "text": [
      "  % Total    % Received % Xferd  Average Speed   Time    Time     Time  Current\n",
      "                                 Dload  Upload   Total   Spent    Left  Speed\n"
     ]
    },
    {
     "name": "stdout",
     "output_type": "stream",
     "text": [
      "[{\n",
      "  \"candidates\": [\n",
      "    {\n",
      "      \"content\": {\n",
      "        \"role\": \"model\",\n",
      "        \"parts\": [\n",
      "          {\n",
      "            \"text\": \"The\"\n",
      "          }\n",
      "        ]\n",
      "      }\n",
      "    }\n",
      "  ],\n",
      "  \"usageMetadata\": {\n",
      "    \"trafficType\": \"ON_DEMAND\"\n",
      "  },\n",
      "  \"modelVersion\": \"gemini-2.0-flash-001\",\n",
      "  \"createTime\": \"2025-08-18T03:28:15.769608Z\",\n",
      "  \"responseId\": \"z52iaMj8Lv-GyrEP2O-pyQE\"\n",
      "}\n",
      ",\n",
      "{\n",
      "  \"candidates\": [\n",
      "    {\n",
      "      \"content\": {\n",
      "        \"role\": \"model\",\n",
      "        \"parts\": [\n",
      "          {\n",
      "            \"text\": \" sky is blue\"\n",
      "          }\n",
      "        ]\n",
      "      }\n",
      "    }\n",
      "  ],\n",
      "  \"usageMetadata\": {\n",
      "    \"trafficType\": \"ON_DEMAND\"\n",
      "  },\n",
      "  \"modelVersion\": \"gemini-2.0-flash-001\",\n",
      "  \"createTime\": \"2025-08-18T03:28:15.769608Z\",\n",
      "  \"responseId\": \"z52iaMj8Lv-GyrEP2O-pyQE\"\n",
      "}\n",
      ",\n",
      "{\n",
      "  \"candidates\": [\n",
      "    {\n",
      "      \"content\": {\n",
      "        \"role\": \"model\",\n",
      "        \"parts\": [\n",
      "          {\n",
      "            \"text\": \" due to a phenomenon called **Rayleigh scattering**. Here's a breakdown:\"\n",
      "          }\n",
      "        ]\n",
      "      }\n",
      "    }\n",
      "  ],\n",
      "  \"usageMetadata\": {\n",
      "    \"trafficType\": \"ON_DEMAND\"\n",
      "  },\n",
      "  \"modelVersion\": \"gemini-2.0-flash-001\",\n",
      "  \"createTime\": \"2025-08-18T03:28:15.769608Z\",\n",
      "  \"responseId\": \"z52iaMj8Lv-GyrEP2O-pyQE\"\n",
      "}\n",
      ",\n",
      "{\n",
      "  \"candidates\": [\n",
      "    {\n",
      "      \"content\": {\n",
      "        \"role\": \"model\",\n",
      "        \"parts\": [\n",
      "          {\n",
      "            \"text\": \"\\n\\n*   **Sunlight and Colors:** Sunlight is actually made up of all the\"\n",
      "          }\n",
      "        ]\n",
      "      }\n",
      "    }\n",
      "  ],\n",
      "  \"usageMetadata\": {\n",
      "    \"trafficType\": \"ON_DEMAND\"\n",
      "  },\n",
      "  \"modelVersion\": \"gemini-2.0-flash-001\",\n",
      "  \"createTime\": \"2025-08-18T03:28:15.769608Z\",\n",
      "  \"responseId\": \"z52iaMj8Lv-GyrEP2O-pyQE\"\n",
      "}\n",
      ",\n",
      "{\n",
      "  \"candidates\": [\n",
      "    {\n",
      "      \"content\": {\n",
      "        \"role\": \"model\",\n",
      "        \"parts\": [\n",
      "          {\n",
      "            \"text\": \" colors of the rainbow.\\n\\n*   **Entering the Atmosphere:** When sunlight enters the Earth's atmosphere, it collides with tiny air molecules (mostly nitrogen and oxygen\"\n",
      "          }\n",
      "        ]\n",
      "      }\n",
      "    }\n",
      "  ],\n",
      "  \"usageMetadata\": {\n",
      "    \"trafficType\": \"ON_DEMAND\"\n",
      "  },\n",
      "  \"modelVersion\": \"gemini-2.0-flash-001\",\n",
      "  \"createTime\": \"2025-08-18T03:28:15.769608Z\",\n",
      "  \"responseId\": \"z52iaMj8Lv-GyrEP2O-pyQE\"\n",
      "}\n",
      ",\n",
      "{\n",
      "  \"candidates\": [\n",
      "    {\n",
      "      \"content\": {\n",
      "        \"role\": \"model\",\n",
      "        \"parts\": [\n",
      "          {\n",
      "            \"text\": \").\\n\\n*   **Scattering:** These collisions cause the light to scatter in different directions.\\n\\n*   **Rayleigh Scattering and Wavelength:** Rayleigh scattering\"\n",
      "          }\n",
      "        ]\n",
      "      }\n",
      "    }\n",
      "  ],\n",
      "  \"usageMetadata\": {\n",
      "    \"trafficType\": \"ON_DEMAND\"\n",
      "  },\n",
      "  \"modelVersion\": \"gemini-2.0-flash-001\",\n",
      "  \"createTime\": \"2025-08-18T03:28:15.769608Z\",\n",
      "  \"responseId\": \"z52iaMj8Lv-GyrEP2O-pyQE\"\n",
      "}\n",
      ",\n",
      "{\n",
      "  \"candidates\": [\n",
      "    {\n",
      "      \"content\": {\n",
      "        \"role\": \"model\",\n",
      "        \"parts\": [\n",
      "          {\n",
      "            \"text\": \" is much more effective at scattering shorter wavelengths of light. Blue and violet light have shorter wavelengths compared to other colors like red, orange, and yellow.\\n\\n*   **Why Blue, Not Violet?:** While violet light is scattered even *\"\n",
      "          }\n",
      "        ]\n",
      "      }\n",
      "    }\n",
      "  ],\n",
      "  \"usageMetadata\": {\n",
      "    \"trafficType\": \"ON_DEMAND\"\n",
      "  },\n",
      "  \"modelVersion\": \"gemini-2.0-flash-001\",\n",
      "  \"createTime\": \"2025-08-18T03:28:15.769608Z\",\n",
      "  \"responseId\": \"z52iaMj8Lv-GyrEP2O-pyQE\"\n",
      "}\n",
      ",\n",
      "{\n",
      "  \"candidates\": [\n",
      "    {\n",
      "      \"content\": {\n",
      "        \"role\": \"model\",\n",
      "        \"parts\": [\n",
      "          {\n",
      "            \"text\": \"more* than blue light, there are a couple of reasons we see a blue sky:\\n    *   The sun emits less violet light than blue light.\\n    *   Our eyes are more sensitive to blue light than violet light.\\n\\n*   \"\n",
      "          }\n",
      "        ]\n",
      "      }\n",
      "    }\n",
      "  ],\n",
      "  \"usageMetadata\": {\n",
      "    \"trafficType\": \"ON_DEMAND\"\n",
      "  },\n",
      "  \"modelVersion\": \"gemini-2.0-flash-001\",\n",
      "  \"createTime\": \"2025-08-18T03:28:15.769608Z\",\n",
      "  \"responseId\": \"z52iaMj8Lv-GyrEP2O-pyQE\"\n",
      "}\n",
      ",\n",
      "{\n",
      "  \"candidates\": [\n",
      "    {\n",
      "      \"content\": {\n",
      "        \"role\": \"model\",\n",
      "        \"parts\": [\n",
      "          {\n"
     ]
    },
    {
     "name": "stderr",
     "output_type": "stream",
     "text": [
      "100  6161    0  6059  100   102   2256     37  0:00:02  0:00:02 --:--:--  2293\n"
     ]
    },
    {
     "name": "stdout",
     "output_type": "stream",
     "text": [
      "            \"text\": \"**The Result:** Because blue light is scattered more effectively, it's dispersed all over the sky. This is why when we look up, we see blue coming from all directions.\\n\\n**In simpler terms:**\\n\\nImagine throwing a ball (sunlight) at a bunch of small obstacles (air molecules). The smaller the ball\"\n",
      "          }\n",
      "        ]\n",
      "      }\n",
      "    }\n",
      "  ],\n",
      "  \"usageMetadata\": {\n",
      "    \"trafficType\": \"ON_DEMAND\"\n",
      "  },\n",
      "  \"modelVersion\": \"gemini-2.0-flash-001\",\n",
      "  \"createTime\": \"2025-08-18T03:28:15.769608Z\",\n",
      "  \"responseId\": \"z52iaMj8Lv-GyrEP2O-pyQE\"\n",
      "}\n",
      ",\n",
      "{\n",
      "  \"candidates\": [\n",
      "    {\n",
      "      \"content\": {\n",
      "        \"role\": \"model\",\n",
      "        \"parts\": [\n",
      "          {\n",
      "            \"text\": \", the easier it is to bounce it around in different directions. Blue light is like a smaller ball, so it gets scattered everywhere, making the sky appear blue.\\n\\n**Why are sunsets red/orange?**\\n\\nWhen the sun is low on the horizon (at sunrise or sunset), sunlight has to travel through much more of the\"\n",
      "          }\n",
      "        ]\n",
      "      }\n",
      "    }\n",
      "  ],\n",
      "  \"usageMetadata\": {\n",
      "    \"trafficType\": \"ON_DEMAND\"\n",
      "  },\n",
      "  \"modelVersion\": \"gemini-2.0-flash-001\",\n",
      "  \"createTime\": \"2025-08-18T03:28:15.769608Z\",\n",
      "  \"responseId\": \"z52iaMj8Lv-GyrEP2O-pyQE\"\n",
      "}\n",
      ",\n",
      "{\n",
      "  \"candidates\": [\n",
      "    {\n",
      "      \"content\": {\n",
      "        \"role\": \"model\",\n",
      "        \"parts\": [\n",
      "          {\n",
      "            \"text\": \" atmosphere to reach our eyes. During this longer journey, most of the blue light is scattered away. The red and orange light, with their longer wavelengths, are able to pass through more easily, which is why we see those colors at sunset and sunrise.\"\n",
      "          }\n",
      "        ]\n",
      "      },\n",
      "      \"finishReason\": \"STOP\"\n",
      "    }\n",
      "  ],\n",
      "  \"usageMetadata\": {\n",
      "    \"promptTokenCount\": 6,\n",
      "    \"candidatesTokenCount\": 384,\n",
      "    \"totalTokenCount\": 390,\n",
      "    \"trafficType\": \"ON_DEMAND\",\n",
      "    \"promptTokensDetails\": [\n",
      "      {\n",
      "        \"modality\": \"TEXT\",\n",
      "        \"tokenCount\": 6\n",
      "      }\n",
      "    ],\n",
      "    \"candidatesTokensDetails\": [\n",
      "      {\n",
      "        \"modality\": \"TEXT\",\n",
      "        \"tokenCount\": 384\n",
      "      }\n",
      "    ]\n",
      "  },\n",
      "  \"modelVersion\": \"gemini-2.0-flash-001\",\n",
      "  \"createTime\": \"2025-08-18T03:28:15.769608Z\",\n",
      "  \"responseId\": \"z52iaMj8Lv-GyrEP2O-pyQE\"\n",
      "}\n",
      "]"
     ]
    }
   ],
   "source": [
    "%%bash\n",
    "\n",
    "# Task 1.4\n",
    "# Use cURL to test a prompt with the API, by modifying prompt with the prompt from the lab guide.\n",
    "\n",
    "MODEL_ID=\"gemini-2.0-flash-001\"\n",
    "\n",
    "curl -X POST \\\n",
    "  -H \"Authorization: Bearer $(gcloud auth print-access-token)\" \\\n",
    "  -H \"Content-Type: application/json\" \\\n",
    "  https://${API_ENDPOINT}/v1/projects/${PROJECT_ID}/locations/${LOCATION}/publishers/google/models/${MODEL_ID}:streamGenerateContent \\\n",
    "  -d '{\n",
    "    \"contents\": {\n",
    "      \"role\": \"USER\", \n",
    "      \"parts\": { \"text\": \"Why is the sky blue?\" }\n",
    "    }\n",
    "  }'"
   ]
  },
  {
   "cell_type": "code",
   "execution_count": null,
   "id": "95a59e4b-65c7-40cc-b783-ab47eab5a997",
   "metadata": {},
   "outputs": [],
   "source": []
  },
  {
   "cell_type": "code",
   "execution_count": null,
   "id": "0cd9080b-6e55-4fbb-b82b-177e0987b2de",
   "metadata": {},
   "outputs": [],
   "source": []
  }
 ],
 "metadata": {
  "environment": {
   "kernel": "conda-base-py",
   "name": "workbench-notebooks.m131",
   "type": "gcloud",
   "uri": "us-docker.pkg.dev/deeplearning-platform-release/gcr.io/workbench-notebooks:m131"
  },
  "kernelspec": {
   "display_name": "Python 3 (ipykernel) (Local)",
   "language": "python",
   "name": "conda-base-py"
  },
  "language_info": {
   "codemirror_mode": {
    "name": "ipython",
    "version": 3
   },
   "file_extension": ".py",
   "mimetype": "text/x-python",
   "name": "python",
   "nbconvert_exporter": "python",
   "pygments_lexer": "ipython3",
   "version": "3.10.18"
  }
 },
 "nbformat": 4,
 "nbformat_minor": 5
}
