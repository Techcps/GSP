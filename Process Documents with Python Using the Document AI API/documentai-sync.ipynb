{
 "cells": [
  {
   "cell_type": "markdown",
   "id": "ed8b96e5",
   "metadata": {},
   "source": [
    "# Document AI Synchronous API\n",
    "This notebook shows you how use Python to make synchronous calls to the Document AI API"
   ]
  },
  {
   "cell_type": "markdown",
   "id": "38374146",
   "metadata": {},
   "source": [
    "You must replace the `processor_id` variable value in the the second cell with the appropriate value for the Processor ID of the Document AI processor that you want to use. The processor may not support all of the Document AI output properties. Entity data is only returned by processors that use specialized parsers for example. "
   ]
  },
  {
   "cell_type": "code",
   "execution_count": 1,
   "id": "75122694",
   "metadata": {
    "tags": []
   },
   "outputs": [],
   "source": [
    "from google.cloud import documentai_v1beta3 as documentai\n",
    "from google.cloud import storage\n",
    "from prettytable import PrettyTable\n",
    "\n",
    "project_id=%system gcloud config get-value core/project\n",
    "project_id=project_id[0]\n",
    "location = 'us'           # Replace with 'eu' if processor does not use 'us' location\n",
    "file_path = 'form.pdf'    # Replace this with the name of the pdf file to process if necessary\n"
   ]
  },
  {
   "cell_type": "code",
   "execution_count": 3,
   "id": "08c43f2b",
   "metadata": {
    "tags": []
   },
   "outputs": [],
   "source": [
    "# Set your Processor ID\n",
    "processor_id = 'e4d43d681050128a' # TODO: Replace with a valid Processor ID "
   ]
  },
  {
   "cell_type": "code",
   "execution_count": 4,
   "id": "fa16478a",
   "metadata": {
    "tags": []
   },
   "outputs": [],
   "source": [
    "# Process Document Function\n",
    "def process_document(\n",
    "        project_id=project_id, location=location, \n",
    "        processor_id=processor_id,  file_path=file_path\n",
    "):\n",
    "    # Instantiates a client\n",
    "    client = documentai.DocumentProcessorServiceClient()\n",
    "    # The full resource name of the processor, e.g.:\n",
    "    # projects/project-id/locations/location/processor/processor-id\n",
    "    # You must create new processors in the Cloud Console first\n",
    "    name = f\"projects/{project_id}/locations/{location}/processors/{processor_id}\"\n",
    "    with open(file_path, \"rb\") as image:\n",
    "        image_content = image.read()\n",
    "    # Read the file into memory\n",
    "    document = {\"content\": image_content, \"mime_type\": \"application/pdf\"}\n",
    "    # Configure the process request\n",
    "    request = {\"name\": name, \"document\": document}\n",
    "    # Use the Document AI client to process the sample form\n",
    "    result = client.process_document(request=request)\n",
    "    return result.document"
   ]
  },
  {
   "cell_type": "code",
   "execution_count": null,
   "id": "579e74c4",
   "metadata": {},
   "outputs": [],
   "source": [
    "# Please like share and subscribe to Techcps\n",
    "# https://www.youtube.com/@techcps\n",
    "\n",
    "print(\"please like share and subscribe to techcps https://www.youtube.com/@techcps\")"
   ]
  },
  {
   "cell_type": "code",
   "execution_count": 5,
   "id": "cd38f119",
   "metadata": {
    "tags": []
   },
   "outputs": [
    {
     "name": "stdout",
     "output_type": "stream",
     "text": [
      "Document processing complete.\n",
      "Text: FakeDoc M.D.\n",
      "HEALTH INTAKE FORM\n",
      "Please fill out the questionnaire carefully. The information you provide will be used to complete\n",
      "your health profile and will be kept confidential.\n",
      "Date:\n",
      "9/14/19\n",
      "Name:\n",
      "Sally Walker\n",
      "DOB: 09/04/1986\n",
      "Address: 24 Barney Lane\n",
      "City: Towaco\n",
      "State: NJ Zip: 07082\n",
      "Email: Sally, walker@cmail.com\n",
      "_Phone #: (906) 917-3486\n",
      "Gender: F\n",
      "Marital Status:\n",
      "Single Occupation: Software Engineer\n",
      "Referred By: None\n",
      "Emergency Contact: Eva Walker Emergency Contact Phone: (906)334-8926\n",
      "Describe your medical concerns (symptoms, diagnoses, etc):\n",
      "Ranny nose, mucas in thwat, weakness,\n",
      "aches, chills, tired\n",
      "Are you currently taking any medication? (If yes, please describe):\n",
      "Vyvanse (25mg) daily for attention.\n",
      "\n"
     ]
    }
   ],
   "source": [
    "# Process Document \n",
    "document=process_document()\n",
    "# print all detected text. \n",
    "# All document processors will display the text content\n",
    "print(\"Document processing complete.\")\n",
    "print(\"Text: {}\".format(document.text))"
   ]
  },
  {
   "cell_type": "code",
   "execution_count": 6,
   "id": "dc017990",
   "metadata": {
    "tags": []
   },
   "outputs": [],
   "source": [
    "# Get Text Function\n",
    "# Define a function to retrieve an object dictionary for a named element\n",
    "def get_text(doc_element: dict, document: dict):\n",
    "    \"\"\"\n",
    "    Document AI identifies form fields by their offsets\n",
    "    in document text. This function converts offsets\n",
    "    to text snippets.\n",
    "    \"\"\"\n",
    "    response = \"\"\n",
    "    # If a text segment spans several lines, it will\n",
    "    # be stored in different text segments.\n",
    "    for segment in doc_element.text_anchor.text_segments:\n",
    "        start_index = (\n",
    "            int(segment.start_index)\n",
    "            if segment in doc_element.text_anchor.text_segments\n",
    "            else 0\n",
    "        )\n",
    "        end_index = int(segment.end_index)\n",
    "        response += document.text[start_index:end_index]\n",
    "    return response"
   ]
  },
  {
   "cell_type": "code",
   "execution_count": 7,
   "id": "a1b7eda0",
   "metadata": {
    "tags": []
   },
   "outputs": [
    {
     "name": "stdout",
     "output_type": "stream",
     "text": [
      "Form data detected:\n",
      "\n",
      "Page Number:1\n",
      "Are you currently taking any medication? (If yes, please describe):\n",
      "Vyvanse (25mg) daily for attention.\n",
      "  (Confidence Scores: (Name) 0.9433, (Value) 0.9433)\n",
      "\n",
      "_Phone #: walker@cmail.com\n",
      "(906  (Confidence Scores: (Name) 0.9323, (Value) 0.9323)\n",
      "\n",
      "Zip: 07082\n",
      "  (Confidence Scores: (Name) 0.9142, (Value) 0.9142)\n",
      "\n",
      "City: Towaco\n",
      "  (Confidence Scores: (Name) 0.9005, (Value) 0.9005)\n",
      "\n",
      "State: NJ   (Confidence Scores: (Name) 0.8939, (Value) 0.8939)\n",
      "\n",
      "DOB: 09/04/1986\n",
      "  (Confidence Scores: (Name) 0.8852, (Value) 0.8852)\n",
      "\n",
      "Gender: F\n",
      "  (Confidence Scores: (Name) 0.8824, (Value) 0.8824)\n",
      "\n",
      "Name:\n",
      "Sally Walker\n",
      "  (Confidence Scores: (Name) 0.8728, (Value) 0.8728)\n",
      "\n",
      "Marital Status:\n",
      "Single   (Confidence Scores: (Name) 0.8524, (Value) 0.8524)\n",
      "\n",
      "Describe your medical concerns (symptoms, diagnoses, etc):\n",
      "Ranny nose, mucas in thwat, weakness,\n",
      "aches, chills, tired\n",
      "  (Confidence Scores: (Name) 0.8439, (Value) 0.8439)\n",
      "\n",
      "Date:\n",
      "9/14/19\n",
      "  (Confidence Scores: (Name) 0.83, (Value) 0.83)\n",
      "\n",
      "Address: 24 Barney Lane\n",
      "  (Confidence Scores: (Name) 0.8239, (Value) 0.8239)\n",
      "\n",
      "Occupation: Software Engineer\n",
      "  (Confidence Scores: (Name) 0.815, (Value) 0.815)\n",
      "\n",
      "Emergency Contact: Eva Walker   (Confidence Scores: (Name) 0.8134, (Value) 0.8134)\n",
      "\n",
      "Email: Sally, walker@cmail.com\n",
      "  (Confidence Scores: (Name) 0.7974, (Value) 0.7974)\n",
      "\n",
      "Referred By: None\n",
      "  (Confidence Scores: (Name) 0.7694, (Value) 0.7694)\n",
      "\n",
      "Emergency Contact Phone: (906)334-8926\n",
      "  (Confidence Scores: (Name) 0.7612, (Value) 0.7612)\n",
      "\n"
     ]
    }
   ],
   "source": [
    "# Display Form Data \n",
    "# Form data is only detected by some processors such as those that use the General Form parser.\n",
    "document_pages = document.pages\n",
    "print(\"Form data detected:\\n\")\n",
    "# For each page fetch each form field and display fieldname, value and confidence scores\n",
    "for page in document_pages:\n",
    "    print(\"Page Number:{}\".format(page.page_number))\n",
    "    for form_field in page.form_fields:\n",
    "        fieldName=get_text(form_field.field_name,document)\n",
    "        nameConfidence = round(form_field.field_name.confidence,4)\n",
    "        fieldValue = get_text(form_field.field_value,document)\n",
    "        valueConfidence = round(form_field.field_value.confidence,4)\n",
    "        print(fieldName+fieldValue +\"  (Confidence Scores: (Name) \"+str(nameConfidence)+\", (Value) \"+str(valueConfidence)+\")\\n\")\n"
   ]
  },
  {
   "cell_type": "code",
   "execution_count": 8,
   "id": "ab584fbe",
   "metadata": {
    "tags": []
   },
   "outputs": [
    {
     "name": "stdout",
     "output_type": "stream",
     "text": [
      "+------------------+-------+------------+\n",
      "|       Type       | Value | Confidence |\n",
      "+------------------+-------+------------+\n",
      "| generic_entities |       |    0.0     |\n",
      "+------------------+-------+------------+\n"
     ]
    }
   ],
   "source": [
    "# Display Entity Data\n",
    "# Entity data is only detected by specialized parsers, such as the Procurement Expense parser.\n",
    "# For each entity print the key/value pair and their corresponding confidence scores.\n",
    "if 'entities' in dir(document):\n",
    "    entities=document.entities\n",
    "    table = PrettyTable(['Type', 'Value', 'Confidence'])\n",
    "    entities_found = 0\n",
    "    for entity in entities:\n",
    "       entity_type = entity.type_\n",
    "       value = entity.mention_text\n",
    "       confidence = round(entity.confidence,4)\n",
    "       table.add_row([entity_type, value, confidence])\n",
    "    print(table)       \n",
    "else:\n",
    "    print(\"Document does not contain entity data.\")"
   ]
  },
  {
   "cell_type": "code",
   "execution_count": null,
   "id": "6fef0cff",
   "metadata": {},
   "outputs": [],
   "source": []
  },
  {
   "cell_type": "code",
   "execution_count": null,
   "id": "54713b0d-db24-4b6b-80a7-1cd48d03c1f2",
   "metadata": {},
   "outputs": [],
   "source": []
  }
 ],
 "metadata": {
  "environment": {
   "kernel": "python3",
   "name": "common-cpu.m123",
   "type": "gcloud",
   "uri": "us-docker.pkg.dev/deeplearning-platform-release/gcr.io/base-cpu:m123"
  },
  "kernelspec": {
   "display_name": "Python 3 (Local)",
   "language": "python",
   "name": "python3"
  },
  "language_info": {
   "codemirror_mode": {
    "name": "ipython",
    "version": 3
   },
   "file_extension": ".py",
   "mimetype": "text/x-python",
   "name": "python",
   "nbconvert_exporter": "python",
   "pygments_lexer": "ipython3",
   "version": "3.10.4"
  }
 },
 "nbformat": 4,
 "nbformat_minor": 5
}
