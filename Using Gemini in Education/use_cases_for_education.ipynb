{
 "cells": [
  {
   "cell_type": "code",
   "execution_count": 1,
   "metadata": {
    "id": "ijGzTHJJUCPY",
    "tags": []
   },
   "outputs": [],
   "source": [
    "# Copyright 2023 Google LLC\n",
    "#\n",
    "# Licensed under the Apache License, Version 2.0 (the \"License\");\n",
    "# you may not use this file except in compliance with the License.\n",
    "# You may obtain a copy of the License at\n",
    "#\n",
    "#     https://www.apache.org/licenses/LICENSE-2.0\n",
    "#\n",
    "# Unless required by applicable law or agreed to in writing, software\n",
    "# distributed under the License is distributed on an \"AS IS\" BASIS,\n",
    "# WITHOUT WARRANTIES OR CONDITIONS OF ANY KIND, either express or implied.\n",
    "# See the License for the specific language governing permissions and\n",
    "# limitations under the License."
   ]
  },
  {
   "cell_type": "markdown",
   "metadata": {
    "id": "VEqbX8OhE8y9"
   },
   "source": [
    "# Using Gemini in Education\n",
    "\n",
    "<table align=\"left\">\n",
    "  <td style=\"text-align: center\">\n",
    "    <a href=\"https://colab.research.google.com/github/GoogleCloudPlatform/generative-ai/blob/main/gemini/use-cases/education/use_cases_for_education.ipynb\">\n",
    "      <img src=\"https://cloud.google.com/ml-engine/images/colab-logo-32px.png\" alt=\"Google Colaboratory logo\"><br> Run in Colab\n",
    "    </a>\n",
    "  </td>\n",
    "  <td style=\"text-align: center\">\n",
    "    <a href=\"https://console.cloud.google.com/vertex-ai/colab/import/https:%2F%2Fraw.githubusercontent.com%2FGoogleCloudPlatform%2Fgenerative-ai%2Fmain%2Fgemini%2Fuse-cases%2Feducation%2Fuse_cases_for_education.ipynb\">\n",
    "      <img width=\"32px\" src=\"https://lh3.googleusercontent.com/JmcxdQi-qOpctIvWKgPtrzZdJJK-J3sWE1RsfjZNwshCFgE_9fULcNpuXYTilIR2hjwN\" alt=\"Google Cloud Colab Enterprise logo\"><br> Run in Colab Enterprise\n",
    "    </a>\n",
    "  </td>\n",
    "  <td style=\"text-align: center\">\n",
    "    <a href=\"https://console.cloud.google.com/vertex-ai/workbench/deploy-notebook?download_url=https://raw.githubusercontent.com/GoogleCloudPlatform/generative-ai/main/gemini/use-cases/education/use_cases_for_education.ipynb\">\n",
    "      <img src=\"https://lh3.googleusercontent.com/UiNooY4LUgW_oTvpsNhPpQzsstV5W8F7rYgxgGBD85cWJoLmrOzhVs_ksK_vgx40SHs7jCqkTkCk=e14-rj-sc0xffffff-h130-w32\" alt=\"Vertex AI logo\"><br> Open in Vertex AI Workbench\n",
    "    </a>\n",
    "  </td>\n",
    "  <td style=\"text-align: center\">\n",
    "    <a href=\"https://github.com/GoogleCloudPlatform/generative-ai/blob/main/gemini/use-cases/education/use_cases_for_education.ipynb\">\n",
    "      <img src=\"https://cloud.google.com/ml-engine/images/github-logo-32px.png\" alt=\"GitHub logo\"><br> View on GitHub\n",
    "    </a>\n",
    "  </td>\n",
    "</table>\n"
   ]
  },
  {
   "cell_type": "markdown",
   "metadata": {},
   "source": [
    "| | |\n",
    "|-|-|\n",
    "|Author(s) | [Laurent Picard](https://github.com/PicardParis) |"
   ]
  },
  {
   "cell_type": "markdown",
   "metadata": {
    "id": "VK1Q5ZYdVL4Y"
   },
   "source": [
    "## Overview\n",
    "\n",
    "In this notebook, you will explore a variety of use cases enabled by Gemini models in the context of education.\n",
    "\n",
    "### Gemini\n",
    "\n",
    "Gemini is a family of generative AI models developed by Google DeepMind that is designed for multimodal use cases. The Gemini API gives you access to the Gemini 1.0 Pro Vision and Gemini 1.0 Pro models.\n",
    "\n",
    "### Vertex AI Gemini API\n",
    "\n",
    "The Vertex AI Gemini API provides a unified interface for interacting with Gemini models. There are currently two models available in the Gemini API:\n",
    "\n",
    "- **Gemini 1.0 Pro model** (`gemini-1.0-pro`): Designed to handle natural language tasks, multiturn text and code chat, and code generation.\n",
    "- **Gemini 1.0 Pro Vision model** (`gemini-1.0-pro-vision`): Supports multimodal prompts. You can include text, images, and video in your prompt requests and get text or code responses.\n",
    "\n",
    "For more information, see the [Generative AI on Vertex AI](https://cloud.google.com/vertex-ai/docs/generative-ai/learn/overview) documentation.\n"
   ]
  },
  {
   "cell_type": "markdown",
   "metadata": {
    "id": "uVL_vGs4q3pg"
   },
   "source": [
    "### Objectives\n",
    "\n",
    "The main objective of this notebook is to demonstrate a variety of educational use cases that can benefit from the Gemini models.\n",
    "\n",
    "The steps performed include:\n",
    "\n",
    "- Installing the Python SDK\n",
    "- Using the Vertex AI Gemini API\n",
    "  - Using a text model (`gemini-1.0-pro`)\n",
    "    - Reasoning at different levels\n",
    "    - Reasoning on text\n",
    "    - Reasoning on numbers\n",
    "  - Using a multimodal model (`gemini-1.0-pro-vision`)\n",
    "    - Reasoning on a single image\n",
    "    - Reasoning on multiple images\n",
    "    - Reasoning on a video\n"
   ]
  },
  {
   "cell_type": "markdown",
   "metadata": {
    "id": "bRdtKLfTsQ27"
   },
   "source": [
    "### Costs\n",
    "\n",
    "This tutorial uses billable components of Google Cloud:\n",
    "\n",
    "- Vertex AI\n",
    "\n",
    "Learn about [Vertex AI pricing](https://cloud.google.com/vertex-ai/pricing) and use the [Pricing Calculator](https://cloud.google.com/products/calculator/) to generate a cost estimate based on your projected usage.\n"
   ]
  },
  {
   "cell_type": "markdown",
   "metadata": {
    "id": "QDU0XJ1xRDlL"
   },
   "source": [
    "## Getting Started\n"
   ]
  },
  {
   "cell_type": "markdown",
   "metadata": {
    "id": "SBGrQE22sVrt"
   },
   "source": [
    "### Install Vertex AI SDK\n"
   ]
  },
  {
   "cell_type": "code",
   "execution_count": 2,
   "metadata": {
    "id": "-hqq5vomsW_P",
    "tags": []
   },
   "outputs": [
    {
     "name": "stdout",
     "output_type": "stream",
     "text": [
      "Requirement already satisfied: google-cloud-aiplatform in /home/jupyter/.local/lib/python3.10/site-packages (1.59.0)\n",
      "Requirement already satisfied: google-api-core!=2.0.*,!=2.1.*,!=2.2.*,!=2.3.*,!=2.4.*,!=2.5.*,!=2.6.*,!=2.7.*,<3.0.0dev,>=1.34.1 in /home/jupyter/.local/lib/python3.10/site-packages (from google-api-core[grpc]!=2.0.*,!=2.1.*,!=2.2.*,!=2.3.*,!=2.4.*,!=2.5.*,!=2.6.*,!=2.7.*,<3.0.0dev,>=1.34.1->google-cloud-aiplatform) (2.19.1)\n",
      "Requirement already satisfied: google-auth<3.0.0dev,>=2.14.1 in /opt/conda/lib/python3.10/site-packages (from google-cloud-aiplatform) (2.31.0)\n",
      "Requirement already satisfied: proto-plus<2.0.0dev,>=1.22.3 in /opt/conda/lib/python3.10/site-packages (from google-cloud-aiplatform) (1.24.0)\n",
      "Requirement already satisfied: protobuf!=3.20.0,!=3.20.1,!=4.21.0,!=4.21.1,!=4.21.2,!=4.21.3,!=4.21.4,!=4.21.5,<5.0.0dev,>=3.19.5 in /home/jupyter/.local/lib/python3.10/site-packages (from google-cloud-aiplatform) (4.25.3)\n",
      "Requirement already satisfied: packaging>=14.3 in /opt/conda/lib/python3.10/site-packages (from google-cloud-aiplatform) (24.1)\n",
      "Requirement already satisfied: google-cloud-storage<3.0.0dev,>=1.32.0 in /opt/conda/lib/python3.10/site-packages (from google-cloud-aiplatform) (2.14.0)\n",
      "Requirement already satisfied: google-cloud-bigquery!=3.20.0,<4.0.0dev,>=1.15.0 in /opt/conda/lib/python3.10/site-packages (from google-cloud-aiplatform) (3.25.0)\n",
      "Requirement already satisfied: google-cloud-resource-manager<3.0.0dev,>=1.3.3 in /opt/conda/lib/python3.10/site-packages (from google-cloud-aiplatform) (1.12.4)\n",
      "Requirement already satisfied: shapely<3.0.0dev in /opt/conda/lib/python3.10/site-packages (from google-cloud-aiplatform) (2.0.4)\n",
      "Requirement already satisfied: pydantic<3 in /opt/conda/lib/python3.10/site-packages (from google-cloud-aiplatform) (1.10.17)\n",
      "Requirement already satisfied: docstring-parser<1 in /opt/conda/lib/python3.10/site-packages (from google-cloud-aiplatform) (0.16)\n",
      "Requirement already satisfied: googleapis-common-protos<2.0.dev0,>=1.56.2 in /opt/conda/lib/python3.10/site-packages (from google-api-core!=2.0.*,!=2.1.*,!=2.2.*,!=2.3.*,!=2.4.*,!=2.5.*,!=2.6.*,!=2.7.*,<3.0.0dev,>=1.34.1->google-api-core[grpc]!=2.0.*,!=2.1.*,!=2.2.*,!=2.3.*,!=2.4.*,!=2.5.*,!=2.6.*,!=2.7.*,<3.0.0dev,>=1.34.1->google-cloud-aiplatform) (1.63.2)\n",
      "Requirement already satisfied: requests<3.0.0.dev0,>=2.18.0 in /opt/conda/lib/python3.10/site-packages (from google-api-core!=2.0.*,!=2.1.*,!=2.2.*,!=2.3.*,!=2.4.*,!=2.5.*,!=2.6.*,!=2.7.*,<3.0.0dev,>=1.34.1->google-api-core[grpc]!=2.0.*,!=2.1.*,!=2.2.*,!=2.3.*,!=2.4.*,!=2.5.*,!=2.6.*,!=2.7.*,<3.0.0dev,>=1.34.1->google-cloud-aiplatform) (2.32.3)\n",
      "Requirement already satisfied: grpcio<2.0dev,>=1.33.2 in /opt/conda/lib/python3.10/site-packages (from google-api-core[grpc]!=2.0.*,!=2.1.*,!=2.2.*,!=2.3.*,!=2.4.*,!=2.5.*,!=2.6.*,!=2.7.*,<3.0.0dev,>=1.34.1->google-cloud-aiplatform) (1.48.0)\n",
      "Requirement already satisfied: grpcio-status<2.0.dev0,>=1.33.2 in /opt/conda/lib/python3.10/site-packages (from google-api-core[grpc]!=2.0.*,!=2.1.*,!=2.2.*,!=2.3.*,!=2.4.*,!=2.5.*,!=2.6.*,!=2.7.*,<3.0.0dev,>=1.34.1->google-cloud-aiplatform) (1.48.0)\n",
      "Requirement already satisfied: cachetools<6.0,>=2.0.0 in /opt/conda/lib/python3.10/site-packages (from google-auth<3.0.0dev,>=2.14.1->google-cloud-aiplatform) (4.2.4)\n",
      "Requirement already satisfied: pyasn1-modules>=0.2.1 in /opt/conda/lib/python3.10/site-packages (from google-auth<3.0.0dev,>=2.14.1->google-cloud-aiplatform) (0.4.0)\n",
      "Requirement already satisfied: rsa<5,>=3.1.4 in /opt/conda/lib/python3.10/site-packages (from google-auth<3.0.0dev,>=2.14.1->google-cloud-aiplatform) (4.9)\n",
      "Requirement already satisfied: google-cloud-core<3.0.0dev,>=1.6.0 in /opt/conda/lib/python3.10/site-packages (from google-cloud-bigquery!=3.20.0,<4.0.0dev,>=1.15.0->google-cloud-aiplatform) (2.4.1)\n",
      "Requirement already satisfied: google-resumable-media<3.0dev,>=0.6.0 in /opt/conda/lib/python3.10/site-packages (from google-cloud-bigquery!=3.20.0,<4.0.0dev,>=1.15.0->google-cloud-aiplatform) (2.7.1)\n",
      "Requirement already satisfied: python-dateutil<3.0dev,>=2.7.2 in /opt/conda/lib/python3.10/site-packages (from google-cloud-bigquery!=3.20.0,<4.0.0dev,>=1.15.0->google-cloud-aiplatform) (2.9.0)\n",
      "Requirement already satisfied: grpc-google-iam-v1<1.0.0dev,>=0.12.4 in /opt/conda/lib/python3.10/site-packages (from google-cloud-resource-manager<3.0.0dev,>=1.3.3->google-cloud-aiplatform) (0.12.7)\n",
      "Requirement already satisfied: google-crc32c<2.0dev,>=1.0 in /opt/conda/lib/python3.10/site-packages (from google-cloud-storage<3.0.0dev,>=1.32.0->google-cloud-aiplatform) (1.5.0)\n",
      "Requirement already satisfied: typing-extensions>=4.2.0 in /opt/conda/lib/python3.10/site-packages (from pydantic<3->google-cloud-aiplatform) (4.12.2)\n",
      "Requirement already satisfied: numpy<3,>=1.14 in /opt/conda/lib/python3.10/site-packages (from shapely<3.0.0dev->google-cloud-aiplatform) (1.24.4)\n",
      "Requirement already satisfied: six>=1.5.2 in /opt/conda/lib/python3.10/site-packages (from grpcio<2.0dev,>=1.33.2->google-api-core[grpc]!=2.0.*,!=2.1.*,!=2.2.*,!=2.3.*,!=2.4.*,!=2.5.*,!=2.6.*,!=2.7.*,<3.0.0dev,>=1.34.1->google-cloud-aiplatform) (1.16.0)\n",
      "Requirement already satisfied: pyasn1<0.7.0,>=0.4.6 in /opt/conda/lib/python3.10/site-packages (from pyasn1-modules>=0.2.1->google-auth<3.0.0dev,>=2.14.1->google-cloud-aiplatform) (0.6.0)\n",
      "Requirement already satisfied: charset-normalizer<4,>=2 in /opt/conda/lib/python3.10/site-packages (from requests<3.0.0.dev0,>=2.18.0->google-api-core!=2.0.*,!=2.1.*,!=2.2.*,!=2.3.*,!=2.4.*,!=2.5.*,!=2.6.*,!=2.7.*,<3.0.0dev,>=1.34.1->google-api-core[grpc]!=2.0.*,!=2.1.*,!=2.2.*,!=2.3.*,!=2.4.*,!=2.5.*,!=2.6.*,!=2.7.*,<3.0.0dev,>=1.34.1->google-cloud-aiplatform) (3.3.2)\n",
      "Requirement already satisfied: idna<4,>=2.5 in /opt/conda/lib/python3.10/site-packages (from requests<3.0.0.dev0,>=2.18.0->google-api-core!=2.0.*,!=2.1.*,!=2.2.*,!=2.3.*,!=2.4.*,!=2.5.*,!=2.6.*,!=2.7.*,<3.0.0dev,>=1.34.1->google-api-core[grpc]!=2.0.*,!=2.1.*,!=2.2.*,!=2.3.*,!=2.4.*,!=2.5.*,!=2.6.*,!=2.7.*,<3.0.0dev,>=1.34.1->google-cloud-aiplatform) (3.7)\n",
      "Requirement already satisfied: urllib3<3,>=1.21.1 in /opt/conda/lib/python3.10/site-packages (from requests<3.0.0.dev0,>=2.18.0->google-api-core!=2.0.*,!=2.1.*,!=2.2.*,!=2.3.*,!=2.4.*,!=2.5.*,!=2.6.*,!=2.7.*,<3.0.0dev,>=1.34.1->google-api-core[grpc]!=2.0.*,!=2.1.*,!=2.2.*,!=2.3.*,!=2.4.*,!=2.5.*,!=2.6.*,!=2.7.*,<3.0.0dev,>=1.34.1->google-cloud-aiplatform) (1.26.19)\n",
      "Requirement already satisfied: certifi>=2017.4.17 in /opt/conda/lib/python3.10/site-packages (from requests<3.0.0.dev0,>=2.18.0->google-api-core!=2.0.*,!=2.1.*,!=2.2.*,!=2.3.*,!=2.4.*,!=2.5.*,!=2.6.*,!=2.7.*,<3.0.0dev,>=1.34.1->google-api-core[grpc]!=2.0.*,!=2.1.*,!=2.2.*,!=2.3.*,!=2.4.*,!=2.5.*,!=2.6.*,!=2.7.*,<3.0.0dev,>=1.34.1->google-cloud-aiplatform) (2024.7.4)\n"
     ]
    }
   ],
   "source": [
    "! pip3 install --upgrade --user google-cloud-aiplatform"
   ]
  },
  {
   "cell_type": "markdown",
   "metadata": {
    "id": "R5Xep4W9lq-Z"
   },
   "source": [
    "### Restart current runtime\n",
    "\n",
    "To use the newly installed packages in this Jupyter runtime, you must restart the runtime. You can do this by running the cell below, which will restart the current kernel."
   ]
  },
  {
   "cell_type": "code",
   "execution_count": 3,
   "metadata": {
    "colab": {
     "base_uri": "https://localhost:8080/"
    },
    "id": "XRvKdaPDTznN",
    "outputId": "154a71b5-f302-4f53-ed2f-b3e5fef9195b",
    "tags": []
   },
   "outputs": [
    {
     "data": {
      "text/plain": [
       "{'status': 'ok', 'restart': True}"
      ]
     },
     "execution_count": 3,
     "metadata": {},
     "output_type": "execute_result"
    }
   ],
   "source": [
    "# Restart kernel after installs so that your environment can access the new packages\n",
    "import IPython\n",
    "import time\n",
    "\n",
    "app = IPython.Application.instance()\n",
    "app.kernel.do_shutdown(True)"
   ]
  },
  {
   "cell_type": "markdown",
   "metadata": {
    "id": "SbmM4z7FOBpM"
   },
   "source": [
    "<div class=\"alert alert-block alert-warning\">\n",
    "<b>⚠️ The kernel is going to restart. Please wait until it is finished before continuing to the next step. ⚠️</b>\n",
    "</div>\n",
    "\n"
   ]
  },
  {
   "cell_type": "markdown",
   "metadata": {
    "id": "N5afkyDMSBW5"
   },
   "source": [
    "### Authenticate your notebook environment (Colab only)\n",
    "\n",
    "If you are running this notebook on Google Colab, run the following cell to authenticate your environment. This step is not required if you are using [Vertex AI Workbench](https://cloud.google.com/vertex-ai-workbench).\n"
   ]
  },
  {
   "cell_type": "code",
   "execution_count": 1,
   "metadata": {
    "id": "Ab4Y6eSIUknb",
    "tags": []
   },
   "outputs": [],
   "source": [
    "import sys\n",
    "\n",
    "# Additional authentication is required for Google Colab\n",
    "if \"google.colab\" in sys.modules:\n",
    "    # Authenticate user to Google Cloud\n",
    "    from google.colab import auth\n",
    "\n",
    "    auth.authenticate_user()"
   ]
  },
  {
   "cell_type": "markdown",
   "metadata": {
    "id": "kc4WxYmLSBW5"
   },
   "source": [
    "### Define Google Cloud project information and initialize Vertex AI\n",
    "\n",
    "Initialize the Vertex AI SDK for Python for your project:"
   ]
  },
  {
   "cell_type": "code",
   "execution_count": 2,
   "metadata": {
    "id": "YmY9HVVGSBW5",
    "tags": []
   },
   "outputs": [],
   "source": [
    "# Define project information\n",
    "PROJECT_ID = \"qwiklabs-gcp-03-89ee8aff8963\"  # @param {type:\"string\"}\n",
    "LOCATION = \"us-east4\"  # @param {type:\"string\"}\n",
    "\n",
    "# Initialize Vertex AI\n",
    "import vertexai\n",
    "\n",
    "vertexai.init(project=PROJECT_ID, location=LOCATION)"
   ]
  },
  {
   "cell_type": "markdown",
   "metadata": {
    "id": "kdINrwJZsj1d"
   },
   "source": [
    "### Import libraries\n"
   ]
  },
  {
   "cell_type": "code",
   "execution_count": 3,
   "metadata": {
    "executionInfo": {
     "elapsed": 324,
     "status": "ok",
     "timestamp": 1702337383496,
     "user": {
      "displayName": "Laurent Picard",
      "userId": "17424629147771078746"
     },
     "user_tz": -60
    },
    "id": "stNmWCsRsotM",
    "tags": []
   },
   "outputs": [],
   "source": [
    "from vertexai.generative_models import (\n",
    "    GenerationConfig,\n",
    "    GenerationResponse,\n",
    "    GenerativeModel,\n",
    "    Image,\n",
    "    Part,\n",
    ")"
   ]
  },
  {
   "cell_type": "markdown",
   "metadata": {
    "id": "0v63w6fWs9Dx"
   },
   "source": [
    "### Define helper functions\n",
    "\n",
    "Define some helper functions to load and display images.\n"
   ]
  },
  {
   "cell_type": "code",
   "execution_count": 4,
   "metadata": {
    "executionInfo": {
     "elapsed": 2,
     "status": "ok",
     "timestamp": 1702337383496,
     "user": {
      "displayName": "Laurent Picard",
      "userId": "17424629147771078746"
     },
     "user_tz": -60
    },
    "id": "OGvJLH4DmZfw",
    "tags": []
   },
   "outputs": [],
   "source": [
    "import http.client\n",
    "import io\n",
    "import typing\n",
    "import urllib.request\n",
    "\n",
    "import IPython.display\n",
    "from PIL import Image as PIL_Image\n",
    "from PIL import ImageOps as PIL_ImageOps\n",
    "\n",
    "Contents = str | list[str | Image | Part]\n",
    "\n",
    "\n",
    "def generate_content(\n",
    "    model: GenerativeModel,\n",
    "    contents: Contents,\n",
    "    temperature: float = 0.0,\n",
    "    top_p: float = 0.0,\n",
    "    top_k: int = 1,\n",
    ") -> list[GenerationResponse]:\n",
    "    \"\"\"Call the Vertex AI Gemini API.\n",
    "\n",
    "    Default parameters have low randomness in this notebook for consistency across calls.\n",
    "    \"\"\"\n",
    "    generation_config = GenerationConfig(\n",
    "        temperature=temperature,\n",
    "        top_p=top_p,\n",
    "        top_k=top_k,\n",
    "        candidate_count=1,\n",
    "        max_output_tokens=2048,\n",
    "    )\n",
    "\n",
    "    responses = model.generate_content(\n",
    "        contents,\n",
    "        generation_config=generation_config,\n",
    "        stream=True,\n",
    "    )\n",
    "\n",
    "    # In streaming mode, multiple GenerationResponse can be generated\n",
    "    # In unary (non-streaming) mode, a single GenerationResponse is returned\n",
    "    return [responses] if isinstance(responses, GenerationResponse) else list(responses)\n",
    "\n",
    "\n",
    "def print_contents(contents: Contents):\n",
    "    \"\"\"Print the full contents for ease of readability.\"\"\"\n",
    "    if not isinstance(contents, list):\n",
    "        contents = [contents]\n",
    "\n",
    "    print(\" Contents \".center(80, \"-\"))\n",
    "    for content in contents:\n",
    "        if display_content_as_image(content):\n",
    "            continue\n",
    "        if display_content_as_video(content):\n",
    "            continue\n",
    "        print(content)\n",
    "\n",
    "\n",
    "def display_content_as_image(content: str | Image | Part) -> bool:\n",
    "    if not isinstance(content, Image):\n",
    "        return False\n",
    "    display_image(content)\n",
    "    return True\n",
    "\n",
    "\n",
    "def display_content_as_video(content: str | Image | Part) -> bool:\n",
    "    if not isinstance(content, Part):\n",
    "        return False\n",
    "    part = typing.cast(Part, content)\n",
    "    file_path = part.file_data.file_uri.removeprefix(\"gs://\")\n",
    "    video_url = f\"https://storage.googleapis.com/{file_path}\"\n",
    "    IPython.display.display(IPython.display.Video(video_url, width=600))\n",
    "    return True\n",
    "\n",
    "\n",
    "def print_responses(responses: list[GenerationResponse], as_markdown: bool = True):\n",
    "    \"\"\"Print the full responses.\"\"\"\n",
    "    # Consolidate the text\n",
    "    text = \"\".join(\n",
    "        part.text\n",
    "        for response in responses\n",
    "        for part in response.candidates[0].content.parts\n",
    "    )\n",
    "    # Remove potential leading/trailing spaces\n",
    "    text = text.strip()\n",
    "\n",
    "    print(\" Start of responses \".center(80, \"-\"))\n",
    "    if as_markdown:\n",
    "        IPython.display.display(IPython.display.Markdown(text))\n",
    "    else:\n",
    "        print(text)\n",
    "    print(\" End of responses \".center(80, \"-\"))\n",
    "    print(\"\")\n",
    "\n",
    "\n",
    "def display_image(image: Image, max_width: int = 600, max_height: int = 350):\n",
    "    pil_image = typing.cast(PIL_Image.Image, image._pil_image)\n",
    "    if pil_image.mode != \"RGB\":\n",
    "        # Modes such as RGBA are not yet supported by all Jupyter environments\n",
    "        pil_image = pil_image.convert(\"RGB\")\n",
    "\n",
    "    image_width, image_height = pil_image.size\n",
    "    if max_width < image_width or max_height < image_height:\n",
    "        # Resize to display a smaller notebook image\n",
    "        pil_image = PIL_ImageOps.contain(pil_image, (max_width, max_height))\n",
    "\n",
    "    display_image_compressed(pil_image)\n",
    "\n",
    "\n",
    "def display_image_compressed(pil_image: PIL_Image.Image):\n",
    "    \"\"\"Display the image in a compressed format to reduce the notebook size.\"\"\"\n",
    "    image_io = io.BytesIO()\n",
    "    pil_image.save(image_io, \"jpeg\", quality=80, optimize=True)\n",
    "    image_bytes = image_io.getvalue()\n",
    "    ipython_image = IPython.display.Image(image_bytes)\n",
    "    IPython.display.display(ipython_image)\n",
    "\n",
    "\n",
    "def load_image_from_url(image_url: str) -> Image:\n",
    "    image_bytes = get_image_bytes_from_url(image_url)\n",
    "    return Image.from_bytes(image_bytes)\n",
    "\n",
    "\n",
    "def get_image_bytes_from_url(image_url: str) -> bytes:\n",
    "    with urllib.request.urlopen(image_url) as response:\n",
    "        response = typing.cast(http.client.HTTPResponse, response)\n",
    "        image_bytes = response.read()\n",
    "    return image_bytes"
   ]
  },
  {
   "cell_type": "markdown",
   "metadata": {
    "id": "s9R3nV5bE22Z"
   },
   "source": [
    "## Use the Gemini 1.0 Pro model\n",
    "\n",
    "The Gemini 1.0 Pro (`gemini-1.0-pro`) model is designed to handle natural language tasks, multiturn text and code chat, and code generation.\n"
   ]
  },
  {
   "cell_type": "markdown",
   "metadata": {
    "id": "5kjS6MvEKmHF"
   },
   "source": [
    "### Load the Gemini 1.0 Pro model\n"
   ]
  },
  {
   "cell_type": "code",
   "execution_count": 5,
   "metadata": {
    "executionInfo": {
     "elapsed": 2,
     "status": "ok",
     "timestamp": 1702337383834,
     "user": {
      "displayName": "Laurent Picard",
      "userId": "17424629147771078746"
     },
     "user_tz": -60
    },
    "id": "UnUmflwsE22a",
    "tags": []
   },
   "outputs": [],
   "source": [
    "model = GenerativeModel(\"gemini-1.0-pro\")"
   ]
  },
  {
   "cell_type": "markdown",
   "metadata": {
    "id": "9fm71OTvpyqD"
   },
   "source": [
    "### Reasoning at different levels\n"
   ]
  },
  {
   "cell_type": "markdown",
   "metadata": {
    "id": "zgf3t9odFlIj"
   },
   "source": [
    "You can ask for direct answers:\n"
   ]
  },
  {
   "cell_type": "code",
   "execution_count": 6,
   "metadata": {
    "colab": {
     "base_uri": "https://localhost:8080/",
     "height": 64
    },
    "executionInfo": {
     "elapsed": 965,
     "status": "ok",
     "timestamp": 1702337384797,
     "user": {
      "displayName": "Laurent Picard",
      "userId": "17424629147771078746"
     },
     "user_tz": -60
    },
    "id": "tBpDHLmMv2un",
    "outputId": "da0a9444-7d16-4522-ee30-76eec7ee8f2a",
    "tags": []
   },
   "outputs": [
    {
     "name": "stdout",
     "output_type": "stream",
     "text": [
      "----------------------------------- Contents -----------------------------------\n",
      "\n",
      "What happened to the dinosaurs? When?\n",
      "Explain simply in one sentence.\n",
      "\n",
      "------------------------------ Start of responses ------------------------------\n"
     ]
    },
    {
     "data": {
      "text/markdown": [
       "The dinosaurs went extinct about 66 million years ago, likely due to a large asteroid impact that caused major climate changes."
      ],
      "text/plain": [
       "<IPython.core.display.Markdown object>"
      ]
     },
     "metadata": {},
     "output_type": "display_data"
    },
    {
     "name": "stdout",
     "output_type": "stream",
     "text": [
      "------------------------------- End of responses -------------------------------\n",
      "\n"
     ]
    }
   ],
   "source": [
    "contents = \"\"\"\n",
    "What happened to the dinosaurs? When?\n",
    "Explain simply in one sentence.\n",
    "\"\"\"\n",
    "responses = generate_content(model, contents)\n",
    "print_contents(contents)\n",
    "print_responses(responses)"
   ]
  },
  {
   "cell_type": "markdown",
   "metadata": {
    "id": "Rfs1qLAoFrZu"
   },
   "source": [
    "… as well as for more nuanced answers:\n"
   ]
  },
  {
   "cell_type": "code",
   "execution_count": 7,
   "metadata": {
    "colab": {
     "base_uri": "https://localhost:8080/",
     "height": 586
    },
    "executionInfo": {
     "elapsed": 6374,
     "status": "ok",
     "timestamp": 1702337391168,
     "user": {
      "displayName": "Laurent Picard",
      "userId": "17424629147771078746"
     },
     "user_tz": -60
    },
    "id": "AcVfT9bowUKW",
    "outputId": "64df65b5-06c7-4c2b-9434-e9b32106f422",
    "tags": []
   },
   "outputs": [
    {
     "name": "stdout",
     "output_type": "stream",
     "text": [
      "----------------------------------- Contents -----------------------------------\n",
      "\n",
      "Are we 100% sure about what happened to the dinosaurs?\n",
      "If not, detail the current main hypotheses.\n",
      "\n",
      "------------------------------ Start of responses ------------------------------\n"
     ]
    },
    {
     "data": {
      "text/markdown": [
       "## The Great Dinosaur Mystery: What Really Happened?\n",
       "\n",
       "While the extinction of the dinosaurs is one of the most well-studied events in Earth's history, there are still some lingering mysteries surrounding it. While the Chicxulub asteroid impact is widely accepted as the main culprit, other factors may have played a role. Let's delve into the current main hypotheses:\n",
       "\n",
       "**1. The Chicxulub Impact:**\n",
       "\n",
       "This is the prevailing theory, supported by overwhelming evidence. Around 66 million years ago, a massive asteroid, estimated to be 10-15 kilometers wide, slammed into Earth near the Yucatán Peninsula. The impact triggered a chain reaction of catastrophic events:\n",
       "\n",
       "* **Global devastation:** The impact released immense energy, equivalent to billions of atomic bombs, causing widespread wildfires, earthquakes, and tsunamis.\n",
       "* **Dust and debris:** The impact ejected colossal amounts of dust and debris into the atmosphere, blocking sunlight and causing a global winter that lasted for years.\n",
       "* **Acid rain and climate change:** The dust and debris also triggered acid rain and disrupted global climate patterns, leading to extreme temperature fluctuations and widespread ecological collapse.\n",
       "\n",
       "The Chicxulub impact is believed to have directly killed many dinosaurs and other organisms. The prolonged darkness and harsh environmental conditions further decimated the survivors, leading to the extinction of over 75% of life on Earth, including the dinosaurs.\n",
       "\n",
       "**2. Volcanic Activity:**\n",
       "\n",
       "The Deccan Traps in India, a massive volcanic province, erupted over a period of millions of years around the same time as the Chicxulub impact. These eruptions released vast amounts of greenhouse gases, potentially contributing to global warming and further stressing the dinosaurs' already fragile ecosystem.\n",
       "\n",
       "**3. Combined Effects:**\n",
       "\n",
       "Some scientists believe that a combination of the Chicxulub impact and Deccan Traps eruptions may have been necessary to drive the dinosaurs to extinction. The impact could have weakened the dinosaurs, making them more vulnerable to the long-term effects of volcanic activity and climate change.\n",
       "\n",
       "**4. Other Contributing Factors:**\n",
       "\n",
       "Other factors, such as sea level changes, disease outbreaks, and changes in ocean circulation, may have also played a role in the dinosaurs' demise.\n",
       "\n",
       "**5. Ongoing Research:**\n",
       "\n",
       "The debate about the exact cause of the dinosaur extinction continues. New research and discoveries are constantly shedding light on this complex event. Scientists are exploring the potential role of various factors and refining their understanding of the impact's long-term consequences.\n",
       "\n",
       "**Conclusion:**\n",
       "\n",
       "While the Chicxulub impact is the most likely culprit behind the dinosaur extinction, the possibility of other contributing factors remains open. Ongoing research continues to unravel the mysteries surrounding this pivotal event in Earth's history."
      ],
      "text/plain": [
       "<IPython.core.display.Markdown object>"
      ]
     },
     "metadata": {},
     "output_type": "display_data"
    },
    {
     "name": "stdout",
     "output_type": "stream",
     "text": [
      "------------------------------- End of responses -------------------------------\n",
      "\n"
     ]
    }
   ],
   "source": [
    "contents = \"\"\"\n",
    "Are we 100% sure about what happened to the dinosaurs?\n",
    "If not, detail the current main hypotheses.\n",
    "\"\"\"\n",
    "responses = generate_content(model, contents)\n",
    "print_contents(contents)\n",
    "print_responses(responses)"
   ]
  },
  {
   "cell_type": "markdown",
   "metadata": {
    "id": "-KPNK1hNGCk4"
   },
   "source": [
    "You can ask for simple answers:\n"
   ]
  },
  {
   "cell_type": "code",
   "execution_count": 8,
   "metadata": {
    "colab": {
     "base_uri": "https://localhost:8080/",
     "height": 114
    },
    "executionInfo": {
     "elapsed": 1251,
     "status": "ok",
     "timestamp": 1702337392408,
     "user": {
      "displayName": "Laurent Picard",
      "userId": "17424629147771078746"
     },
     "user_tz": -60
    },
    "id": "SPoEA7UUqlvy",
    "outputId": "5e3695e0-a571-44b5-9b5d-51f747d6ec47",
    "tags": []
   },
   "outputs": [
    {
     "name": "stdout",
     "output_type": "stream",
     "text": [
      "----------------------------------- Contents -----------------------------------\n",
      "\n",
      "Explain why it's winter here in France and summer in Australia.\n",
      "I'm a kid. Answer in 3 simple key points.\n",
      "\n",
      "------------------------------ Start of responses ------------------------------\n"
     ]
    },
    {
     "data": {
      "text/markdown": [
       "## Why it's winter in France and summer in Australia:\n",
       "\n",
       "1. **Earth is tilted:** Our planet isn't perfectly upright, it's tilted at an angle. This means different parts of Earth receive more or less direct sunlight throughout the year.\n",
       "2. **Seasons:** As Earth orbits the sun, the tilted angle causes different hemispheres to experience different seasons. Right now, the Northern Hemisphere (where France is) is tilted away from the sun, receiving less direct sunlight, making it winter. Meanwhile, the Southern Hemisphere (where Australia is) is tilted towards the sun, receiving more direct sunlight, making it summer.\n",
       "3. **Sun's warmth:** Direct sunlight brings warmth. So, when a region gets more direct sunlight, it experiences warmer temperatures and summer. When a region gets less direct sunlight, it experiences colder temperatures and winter.\n",
       "\n",
       "Remember, it's all about Earth's tilt and how it affects the amount of sunlight each region receives!"
      ],
      "text/plain": [
       "<IPython.core.display.Markdown object>"
      ]
     },
     "metadata": {},
     "output_type": "display_data"
    },
    {
     "name": "stdout",
     "output_type": "stream",
     "text": [
      "------------------------------- End of responses -------------------------------\n",
      "\n"
     ]
    }
   ],
   "source": [
    "contents = \"\"\"\n",
    "Explain why it's winter here in France and summer in Australia.\n",
    "I'm a kid. Answer in 3 simple key points.\n",
    "\"\"\"\n",
    "responses = generate_content(model, contents)\n",
    "print_contents(contents)\n",
    "print_responses(responses)"
   ]
  },
  {
   "cell_type": "markdown",
   "metadata": {
    "id": "gMlbj1-pGKkA"
   },
   "source": [
    "… or for more detailed answers:\n"
   ]
  },
  {
   "cell_type": "code",
   "execution_count": 9,
   "metadata": {
    "colab": {
     "base_uri": "https://localhost:8080/",
     "height": 285
    },
    "executionInfo": {
     "elapsed": 3762,
     "status": "ok",
     "timestamp": 1702337396166,
     "user": {
      "displayName": "Laurent Picard",
      "userId": "17424629147771078746"
     },
     "user_tz": -60
    },
    "id": "LdiaJBtbpXjM",
    "outputId": "578bc987-533d-4153-f0ce-528f8567718d",
    "tags": []
   },
   "outputs": [
    {
     "name": "stdout",
     "output_type": "stream",
     "text": [
      "----------------------------------- Contents -----------------------------------\n",
      "\n",
      "Explain why we have tides.\n",
      "I'm an adult. Provide a detailed answer using bullet points.\n",
      "\n",
      "------------------------------ Start of responses ------------------------------\n"
     ]
    },
    {
     "data": {
      "text/markdown": [
       "## The Tides: A Dance of Gravity and Motion\n",
       "\n",
       "The rhythmic rise and fall of ocean waters, known as tides, are a captivating display of nature's forces. This phenomenon, experienced twice daily in most coastal regions, is primarily driven by the gravitational pull of the moon and, to a lesser extent, the sun. Let's delve deeper into the intricate interplay that governs this mesmerizing dance of the sea:\n",
       "\n",
       "**The Moon's Magnetic Grip:**\n",
       "\n",
       "* **Gravitational Tug:** The moon's gravitational pull exerts a stronger influence on the side of the Earth facing it, causing the water to bulge towards the moon. This creates a high tide on the side closest to the moon.\n",
       "* **Centrifugal Force:** Simultaneously, the Earth and the moon are in constant rotation around their common center of mass. This rotation creates an outward centrifugal force that counteracts the moon's pull, resulting in a high tide on the opposite side of the Earth as well.\n",
       "* **Resulting Bulges:** These two bulges of water, one facing the moon and the other on the opposite side, are the high tides. The areas between these bulges experience low tides, where the water level is at its lowest.\n",
       "\n",
       "**The Sun's Subtle Sway:**\n",
       "\n",
       "* **Gravitational Influence:** While the moon's gravitational pull is the primary driver of tides, the sun also plays a role. The sun's gravitational force, though weaker than the moon's, still contributes to the tidal bulges.\n",
       "* **Combined Effect:** When the sun and moon are aligned (during new and full moon phases), their combined gravitational pull creates stronger high tides known as spring tides. Conversely, when the sun and moon are at right angles to each other (during first and third quarter phases), their opposing pulls result in weaker high tides called neap tides.\n",
       "\n",
       "**Earth's Rotation and Local Factors:**\n",
       "\n",
       "* **Earth's Spin:** The Earth's rotation further influences the timing and height of tides. As the Earth rotates, the tidal bulges move across different locations, creating the twice-daily high and low tides observed in most coastal areas.\n",
       "* **Local Geography:** The shape of coastlines, ocean basins, and underwater features can significantly impact the height and timing of tides in specific regions. For instance, bays and estuaries often experience amplified tidal ranges due to their funnel-like shape.\n",
       "\n",
       "**A Dynamic Equilibrium:**\n",
       "\n",
       "The interplay of these forces – the moon's and sun's gravity, Earth's rotation, and local geography – creates a complex and dynamic system that governs the tides. This intricate dance of the sea not only shapes our coastlines but also influences marine life, coastal ecosystems, and even human activities like fishing and navigation."
      ],
      "text/plain": [
       "<IPython.core.display.Markdown object>"
      ]
     },
     "metadata": {},
     "output_type": "display_data"
    },
    {
     "name": "stdout",
     "output_type": "stream",
     "text": [
      "------------------------------- End of responses -------------------------------\n",
      "\n"
     ]
    }
   ],
   "source": [
    "contents = \"\"\"\n",
    "Explain why we have tides.\n",
    "I'm an adult. Provide a detailed answer using bullet points.\n",
    "\"\"\"\n",
    "responses = generate_content(model, contents)\n",
    "print_contents(contents)\n",
    "print_responses(responses)"
   ]
  },
  {
   "cell_type": "markdown",
   "metadata": {
    "id": "hV6ULv8KHkxO"
   },
   "source": [
    "You can ask closed questions:\n"
   ]
  },
  {
   "cell_type": "code",
   "execution_count": 10,
   "metadata": {
    "colab": {
     "base_uri": "https://localhost:8080/",
     "height": 446
    },
    "executionInfo": {
     "elapsed": 3798,
     "status": "ok",
     "timestamp": 1702337399959,
     "user": {
      "displayName": "Laurent Picard",
      "userId": "17424629147771078746"
     },
     "user_tz": -60
    },
    "id": "dGk1uEPN0XXq",
    "outputId": "489716c2-c28b-4b0a-ab0b-c6523d8ed676",
    "tags": []
   },
   "outputs": [
    {
     "name": "stdout",
     "output_type": "stream",
     "text": [
      "----------------------------------- Contents -----------------------------------\n",
      "\n",
      "When were the previous and penultimate leap years?\n",
      "List 3 international competitions that took place during the penultimate one.\n",
      "Detail dates, cities, and venues.\n",
      "\n",
      "------------------------------ Start of responses ------------------------------\n"
     ]
    },
    {
     "data": {
      "text/markdown": [
       "## Previous and Penultimate Leap Years\n",
       "\n",
       "The previous leap year was **2020**. \n",
       "\n",
       "The penultimate leap year was **2016**.\n",
       "\n",
       "## International Competitions in 2016\n",
       "\n",
       "Here are three international competitions that took place during the penultimate leap year, 2016:\n",
       "\n",
       "**1. Summer Olympics**\n",
       "\n",
       "* Dates: August 5th - 21st, 2016\n",
       "* City: Rio de Janeiro, Brazil\n",
       "* Venue: Various venues across the city, including the Maracanã Stadium and the Olympic Aquatics Stadium.\n",
       "\n",
       "**2. UEFA European Championship**\n",
       "\n",
       "* Dates: June 10th - July 10th, 2016\n",
       "* City: Various cities across France\n",
       "* Venue: Various stadiums across the country, including the Stade de France and the Parc des Princes.\n",
       "\n",
       "**3. Paralympic Games**\n",
       "\n",
       "* Dates: September 7th - 18th, 2016\n",
       "* City: Rio de Janeiro, Brazil\n",
       "* Venue: Various venues across the city, including the Maracanã Stadium and the Olympic Aquatics Stadium."
      ],
      "text/plain": [
       "<IPython.core.display.Markdown object>"
      ]
     },
     "metadata": {},
     "output_type": "display_data"
    },
    {
     "name": "stdout",
     "output_type": "stream",
     "text": [
      "------------------------------- End of responses -------------------------------\n",
      "\n"
     ]
    }
   ],
   "source": [
    "contents = \"\"\"\n",
    "When were the previous and penultimate leap years?\n",
    "List 3 international competitions that took place during the penultimate one.\n",
    "Detail dates, cities, and venues.\n",
    "\"\"\"\n",
    "responses = generate_content(model, contents)\n",
    "print_contents(contents)\n",
    "print_responses(responses)"
   ]
  },
  {
   "cell_type": "markdown",
   "metadata": {
    "id": "SzmiMEq_HsNF"
   },
   "source": [
    "… as well as questions that are more open:\n"
   ]
  },
  {
   "cell_type": "code",
   "execution_count": 11,
   "metadata": {
    "colab": {
     "base_uri": "https://localhost:8080/",
     "height": 521
    },
    "executionInfo": {
     "elapsed": 6829,
     "status": "ok",
     "timestamp": 1702337406783,
     "user": {
      "displayName": "Laurent Picard",
      "userId": "17424629147771078746"
     },
     "user_tz": -60
    },
    "id": "HqcYe_w5BvLT",
    "outputId": "176f5e86-d787-46cb-eb43-47ffbf74a79d",
    "tags": []
   },
   "outputs": [
    {
     "name": "stdout",
     "output_type": "stream",
     "text": [
      "----------------------------------- Contents -----------------------------------\n",
      "\n",
      "What came first, the chicken or the egg? Explain from 3 different perspectives.\n",
      "What do we call a \"chicken and egg\" problem? Give 1 example that can occur in education.\n",
      "\n",
      "------------------------------ Start of responses ------------------------------\n"
     ]
    },
    {
     "data": {
      "text/markdown": [
       "## The Chicken or the Egg: A Three-Part Perspective\n",
       "\n",
       "The age-old question of \"which came first, the chicken or the egg?\" has puzzled philosophers and scientists for centuries. Here's a look at this conundrum from three different perspectives:\n",
       "\n",
       "**1. Evolutionary Biology:** From an evolutionary standpoint, the egg predates the chicken. The ancestors of modern chickens were dinosaurs that laid eggs long before the evolution of the first true chicken. Over millions of years, these dinosaur eggs gradually evolved into the eggs we associate with chickens today. \n",
       "\n",
       "**2. Genetics:** From a genetic perspective, the chicken also came after the egg. The genetic code for a chicken is contained within the egg, and this code must have existed before the chicken itself could develop. Therefore, the egg, containing the genetic blueprint for the chicken, must have come first.\n",
       "\n",
       "**3. Philosophy:** Philosophically, the question becomes more complex. Some argue that the concept of \"first\" implies a linear progression, which may not be applicable in this case. The chicken and the egg could be seen as two parts of a continuous cycle, with each element being necessary for the existence of the other.\n",
       "\n",
       "## The \"Chicken and Egg\" Problem: A Catch-22 Situation\n",
       "\n",
       "A \"chicken and egg\" problem refers to a situation where two things are interdependent, creating a Catch-22 scenario. Progress is impossible because each element requires the other to exist first.\n",
       "\n",
       "## Example in Education: The Internship Dilemma\n",
       "\n",
       "A common example of a \"chicken and egg\" problem in education is the internship dilemma. Many internships require applicants to have prior work experience, but gaining work experience often requires completing an internship. This creates a Catch-22 situation for students, who need the internship to gain experience but cannot get the internship without experience.\n",
       "\n",
       "This problem can be addressed by offering entry-level internships specifically designed for students with little or no prior experience. Additionally, universities can partner with companies to create internship programs that provide students with the necessary skills and experience to qualify for more advanced internships in the future."
      ],
      "text/plain": [
       "<IPython.core.display.Markdown object>"
      ]
     },
     "metadata": {},
     "output_type": "display_data"
    },
    {
     "name": "stdout",
     "output_type": "stream",
     "text": [
      "------------------------------- End of responses -------------------------------\n",
      "\n"
     ]
    }
   ],
   "source": [
    "contents = \"\"\"\n",
    "What came first, the chicken or the egg? Explain from 3 different perspectives.\n",
    "What do we call a \"chicken and egg\" problem? Give 1 example that can occur in education.\n",
    "\"\"\"\n",
    "responses = generate_content(model, contents)\n",
    "print_contents(contents)\n",
    "print_responses(responses)"
   ]
  },
  {
   "cell_type": "markdown",
   "metadata": {
    "id": "BoqqOTjfL6HX"
   },
   "source": [
    "### Reasoning on text\n"
   ]
  },
  {
   "cell_type": "markdown",
   "metadata": {
    "id": "1dEt9vXqmGN5"
   },
   "source": [
    "You can summarize and translate text:\n"
   ]
  },
  {
   "cell_type": "code",
   "execution_count": 12,
   "metadata": {
    "colab": {
     "base_uri": "https://localhost:8080/",
     "height": 168
    },
    "executionInfo": {
     "elapsed": 1899,
     "status": "ok",
     "timestamp": 1702337408678,
     "user": {
      "displayName": "Laurent Picard",
      "userId": "17424629147771078746"
     },
     "user_tz": -60
    },
    "id": "jAbIQ5U3mGN5",
    "outputId": "d9183b50-3125-42b3-e6ba-dcd0c573767a",
    "tags": []
   },
   "outputs": [
    {
     "name": "stdout",
     "output_type": "stream",
     "text": [
      "----------------------------------- Contents -----------------------------------\n",
      "\n",
      "Summarize the following text in three sentences, in English, only using the text.\n",
      "\n",
      "TEXT:\n",
      "- Les hommes naissent et demeurent libres et égaux en droits. Les distinctions sociales ne peuvent être fondées que sur l'utilité commune.\n",
      "- Le but de toute association politique est la conservation des droits naturels et imprescriptibles de l'homme. Ces droits sont la liberté, la propriété, la sûreté et la résistance à l'oppression.\n",
      "- Le principe de toute souveraineté réside essentiellement dans la Nation. Nul corps, nul individu ne peut exercer d'autorité qui n'en émane expressément.\n",
      "- La liberté consiste à pouvoir faire tout ce qui ne nuit pas à autrui : ainsi, l'exercice des droits naturels de chaque homme n'a de bornes que celles qui assurent aux autres membres de la société la jouissance de ces mêmes droits. Ces bornes ne peuvent être déterminées que par la loi.\n",
      "La loi n'a le droit de défendre que les actions nuisibles à la société. Tout ce qui n'est pas défendu par la loi ne peut être empêché, et nul ne peut être contraint à faire ce qu'elle n'ordonne pas.\n",
      "- La loi est l'expression de la volonté générale. Tous les citoyens ont droit de concourir personnellement ou par leurs représentants à sa formation. Elle doit être la même pour tous, soit qu'elle protège, soit qu'elle punisse. Tous les citoyens, étant égaux à ses yeux, sont également admissibles à toutes dignités, places et emplois publics, selon leur capacité et sans autre distinction que celle de leurs vertus et de leurs talents.\n",
      "- Nul homme ne peut être accusé, arrêté ou détenu que dans les cas déterminés par la loi et selon les formes qu'elle a prescrites. Ceux qui sollicitent, expédient, exécutent ou font exécuter des ordres arbitraires doivent être punis ; mais tout citoyen appelé ou saisi en vertu de la loi doit obéir à l'instant ; il se rend coupable par la résistance.\n",
      "- La loi ne doit établir que des peines strictement et évidemment nécessaires, et nul ne peut être puni qu'en vertu d'une loi établie et promulguée antérieurement au délit, et légalement appliquée.\n",
      "Tout homme étant présumé innocent jusqu'à ce qu'il ait été déclaré coupable, s'il est jugé indispensable de l'arrêter, toute rigueur qui ne serait pas nécessaire pour s'assurer de sa personne doit être sévèrement réprimée par la loi.\n",
      "- Nul ne doit être inquiété pour ses opinions, même religieuses, pourvu que leur manifestation ne trouble pas l'ordre public établi par la loi.\n",
      "\n",
      "SUMMARY:\n",
      "-\n",
      "\n",
      "------------------------------ Start of responses ------------------------------\n"
     ]
    },
    {
     "data": {
      "text/markdown": [
       "## Summary of the Text in Three Sentences:\n",
       "\n",
       "1. The Declaration of the Rights of Man and of the Citizen asserts that all individuals are born free and equal, with inherent rights to liberty, property, security, and resistance to oppression.\n",
       "2. Sovereignty resides in the nation, and the law, which is the expression of the general will, protects these rights and ensures their equal enjoyment by all citizens.\n",
       "3. Justice demands that individuals be punished only for actions harmful to society, with due process and presumption of innocence, and that freedom of opinion be respected as long as it does not disrupt public order."
      ],
      "text/plain": [
       "<IPython.core.display.Markdown object>"
      ]
     },
     "metadata": {},
     "output_type": "display_data"
    },
    {
     "name": "stdout",
     "output_type": "stream",
     "text": [
      "------------------------------- End of responses -------------------------------\n",
      "\n"
     ]
    }
   ],
   "source": [
    "contents = \"\"\"\n",
    "Summarize the following text in three sentences, in English, only using the text.\n",
    "\n",
    "TEXT:\n",
    "- Les hommes naissent et demeurent libres et égaux en droits. Les distinctions sociales ne peuvent être fondées que sur l'utilité commune.\n",
    "- Le but de toute association politique est la conservation des droits naturels et imprescriptibles de l'homme. Ces droits sont la liberté, la propriété, la sûreté et la résistance à l'oppression.\n",
    "- Le principe de toute souveraineté réside essentiellement dans la Nation. Nul corps, nul individu ne peut exercer d'autorité qui n'en émane expressément.\n",
    "- La liberté consiste à pouvoir faire tout ce qui ne nuit pas à autrui : ainsi, l'exercice des droits naturels de chaque homme n'a de bornes que celles qui assurent aux autres membres de la société la jouissance de ces mêmes droits. Ces bornes ne peuvent être déterminées que par la loi.\n",
    "La loi n'a le droit de défendre que les actions nuisibles à la société. Tout ce qui n'est pas défendu par la loi ne peut être empêché, et nul ne peut être contraint à faire ce qu'elle n'ordonne pas.\n",
    "- La loi est l'expression de la volonté générale. Tous les citoyens ont droit de concourir personnellement ou par leurs représentants à sa formation. Elle doit être la même pour tous, soit qu'elle protège, soit qu'elle punisse. Tous les citoyens, étant égaux à ses yeux, sont également admissibles à toutes dignités, places et emplois publics, selon leur capacité et sans autre distinction que celle de leurs vertus et de leurs talents.\n",
    "- Nul homme ne peut être accusé, arrêté ou détenu que dans les cas déterminés par la loi et selon les formes qu'elle a prescrites. Ceux qui sollicitent, expédient, exécutent ou font exécuter des ordres arbitraires doivent être punis ; mais tout citoyen appelé ou saisi en vertu de la loi doit obéir à l'instant ; il se rend coupable par la résistance.\n",
    "- La loi ne doit établir que des peines strictement et évidemment nécessaires, et nul ne peut être puni qu'en vertu d'une loi établie et promulguée antérieurement au délit, et légalement appliquée.\n",
    "Tout homme étant présumé innocent jusqu'à ce qu'il ait été déclaré coupable, s'il est jugé indispensable de l'arrêter, toute rigueur qui ne serait pas nécessaire pour s'assurer de sa personne doit être sévèrement réprimée par la loi.\n",
    "- Nul ne doit être inquiété pour ses opinions, même religieuses, pourvu que leur manifestation ne trouble pas l'ordre public établi par la loi.\n",
    "\n",
    "SUMMARY:\n",
    "-\n",
    "\"\"\"\n",
    "responses = generate_content(model, contents)\n",
    "print_contents(contents)\n",
    "print_responses(responses)"
   ]
  },
  {
   "cell_type": "markdown",
   "metadata": {
    "id": "Ri8Yx5vtE22b"
   },
   "source": [
    "… as well as ask for ideas:\n"
   ]
  },
  {
   "cell_type": "code",
   "execution_count": 13,
   "metadata": {
    "colab": {
     "base_uri": "https://localhost:8080/",
     "height": 498
    },
    "executionInfo": {
     "elapsed": 4657,
     "status": "ok",
     "timestamp": 1702337413331,
     "user": {
      "displayName": "Laurent Picard",
      "userId": "17424629147771078746"
     },
     "user_tz": -60
    },
    "id": "k5pXqmNJmGN5",
    "outputId": "a8e71ad6-f437-4e18-c557-b62fa38b1c9a",
    "tags": []
   },
   "outputs": [
    {
     "name": "stdout",
     "output_type": "stream",
     "text": [
      "----------------------------------- Contents -----------------------------------\n",
      "\n",
      "Provide an outline in 5 key points for a \"chocolate in the world\" presentation.\n",
      "One part must be about its origin in Mexico (my teacher has family there).\n",
      "The last one will be a tasting with everybody in the classroom.\n",
      "\n",
      "------------------------------ Start of responses ------------------------------\n"
     ]
    },
    {
     "data": {
      "text/markdown": [
       "## Chocolate in the World: A Delicious Journey\n",
       "\n",
       "**1. The Alluring Allure of Chocolate:**\n",
       "\n",
       "* Begin with a captivating introduction about chocolate's global popularity and its irresistible allure. \n",
       "* Briefly discuss its historical significance as a prized commodity and cultural symbol.\n",
       "\n",
       "**2. A Mesoamerican Marvel: The Origins of Chocolate in Mexico:**\n",
       "\n",
       "* Dive into the fascinating history of chocolate in Mexico, highlighting its deep cultural roots.\n",
       "* Explain how the ancient Mayans and Aztecs cultivated cacao beans and prepared them into a bitter, frothy drink.\n",
       "* Share intriguing details about the cultural significance of chocolate in these civilizations, including its use in religious ceremonies and as a form of currency.\n",
       "* **Connect with your teacher's personal connection:** Briefly mention your teacher's family ties to Mexico and how they might have experienced the unique role of chocolate in Mexican culture.\n",
       "\n",
       "**3. From the Americas to the World: The Global Expansion of Chocolate:**\n",
       "\n",
       "* Trace the journey of chocolate from the Americas to Europe, explaining how Spanish conquistadors introduced it to the Old World.\n",
       "* Discuss how chocolate was initially met with skepticism but eventually embraced by European society, evolving into a sweet treat enjoyed by all.\n",
       "* Briefly explore the spread of chocolate cultivation to other parts of the world, including Africa and Asia.\n",
       "\n",
       "**4. The Science of Chocolate: From Bean to Bar:**\n",
       "\n",
       "* Provide a simplified explanation of the chocolate-making process, from harvesting the cacao pods to transforming them into the delectable treat we know and love.\n",
       "* Briefly discuss the different types of chocolate (dark, milk, white) and the impact of processing on their flavor profiles.\n",
       "* Consider incorporating visuals like pictures or videos to illustrate the different stages of chocolate production.\n",
       "\n",
       "**5. A Chocolatey Conclusion: Tasting and Reflection:**\n",
       "\n",
       "* Conclude the presentation with a fun and interactive chocolate tasting session for the entire class.\n",
       "* Provide a variety of different chocolate samples, allowing everyone to experience the diverse flavors and textures.\n",
       "* Encourage reflection and discussion on personal preferences, cultural associations with chocolate, and its potential impact on health and sustainability.\n",
       "\n",
       "**Bonus:**\n",
       "\n",
       "* Consider incorporating multimedia elements throughout the presentation, such as images, videos, and music, to enhance engagement and understanding.\n",
       "* Encourage audience participation by asking questions and inviting personal anecdotes about chocolate experiences.\n",
       "* Leave the audience with a lasting impression of chocolate's rich history, global significance, and delicious diversity."
      ],
      "text/plain": [
       "<IPython.core.display.Markdown object>"
      ]
     },
     "metadata": {},
     "output_type": "display_data"
    },
    {
     "name": "stdout",
     "output_type": "stream",
     "text": [
      "------------------------------- End of responses -------------------------------\n",
      "\n"
     ]
    }
   ],
   "source": [
    "contents = \"\"\"\n",
    "Provide an outline in 5 key points for a \"chocolate in the world\" presentation.\n",
    "One part must be about its origin in Mexico (my teacher has family there).\n",
    "The last one will be a tasting with everybody in the classroom.\n",
    "\"\"\"\n",
    "\n",
    "# For more creative/diverse answers, let's increase the level of randomness.\n",
    "# Successive requests will likely return different responses.\n",
    "temperature = 0.7\n",
    "top_p = 0.8\n",
    "top_k = 40\n",
    "\n",
    "responses = generate_content(model, contents, temperature, top_p, top_k)\n",
    "\n",
    "print_contents(contents)\n",
    "print_responses(responses)"
   ]
  },
  {
   "cell_type": "markdown",
   "metadata": {
    "id": "zf25rsTSkdXu"
   },
   "source": [
    "You can also ask for text corrections:\n",
    "\n",
    "Below, you can provide some examples of expected responses (i.e. few-shot prompting) so that the model can understand what kind of response you are expecting.\n"
   ]
  },
  {
   "cell_type": "code",
   "execution_count": 14,
   "metadata": {
    "colab": {
     "base_uri": "https://localhost:8080/",
     "height": 541
    },
    "executionInfo": {
     "elapsed": 5001,
     "status": "ok",
     "timestamp": 1702337418328,
     "user": {
      "displayName": "Laurent Picard",
      "userId": "17424629147771078746"
     },
     "user_tz": -60
    },
    "id": "jgKEDKVkL8Ub",
    "outputId": "b3c0b14f-e42d-40a1-bf71-bd764acedf4f",
    "tags": []
   },
   "outputs": [
    {
     "name": "stdout",
     "output_type": "stream",
     "text": [
      "----------------------------------- Contents -----------------------------------\n",
      "\n",
      "I'm a non-native English speaker.\n",
      "Check whether the following sentences are correct.\n",
      "When incorrect, provide a correction and an explanation.\n",
      "Use the same structure as in the given examples.\n",
      "\n",
      "EXAMPLES:\n",
      "- **Hi!**\n",
      "  - Status: ✔️\n",
      "- **Your my best freind!**\n",
      "  - Status: ❌\n",
      "  - Correction: **You're my best friend!**\n",
      "  - Explanation:\n",
      "    - \"**Your**\" is incorrect. It seems that you meant \"You're\", which is the short form of \"You are\".\n",
      "    - \"**freind**\" is misspelled. The correct spelling is \"**friend**\".\n",
      "\n",
      "SENTENCES:\n",
      "- They're twins, isn't it?\n",
      "- I assisted to the meeting.\n",
      "- You received important informations.\n",
      "- I digged a hole in the ice and saw lots of fishes.\n",
      "- That's all folks!\n",
      "\n",
      "------------------------------ Start of responses ------------------------------\n"
     ]
    },
    {
     "data": {
      "text/markdown": [
       "## Sentence Corrections:\n",
       "\n",
       "**1. They're twins, isn't it?**\n",
       "\n",
       "- **Status:** ❌\n",
       "- **Correction:** They're twins, **aren't they?**\n",
       "- **Explanation:** The question tag should be \"aren't they?\" to match the subject \"They're\".\n",
       "\n",
       "**2. I assisted to the meeting.**\n",
       "\n",
       "- **Status:** ❌\n",
       "- **Correction:** I **attended** the meeting.\n",
       "- **Explanation:** \"Assisted\" is not the correct verb for attending a meeting. \"Attended\" is the appropriate choice.\n",
       "\n",
       "**3. You received important informations.**\n",
       "\n",
       "- **Status:** ❌\n",
       "- **Correction:** You received **important information**.\n",
       "- **Explanation:** \"Informations\" is not a standard English word. The singular form \"information\" should be used.\n",
       "\n",
       "**4. I digged a hole in the ice and saw lots of fishes.**\n",
       "\n",
       "- **Status:** ❌\n",
       "- **Correction:** I **dug** a hole in the ice and saw **lots of fish**.\n",
       "- **Explanation:** \n",
       "    - \"Digged\" is the past tense of \"dig\", but the past participle is \"dug\".\n",
       "    - \"Fishes\" is the plural form of \"fish\", but it is uncountable in this context.\n",
       "\n",
       "**5. That's all folks!**\n",
       "\n",
       "- **Status:** ✔️\n",
       "- **Explanation:** This sentence is grammatically correct and idiomatic."
      ],
      "text/plain": [
       "<IPython.core.display.Markdown object>"
      ]
     },
     "metadata": {},
     "output_type": "display_data"
    },
    {
     "name": "stdout",
     "output_type": "stream",
     "text": [
      "------------------------------- End of responses -------------------------------\n",
      "\n"
     ]
    }
   ],
   "source": [
    "contents = \"\"\"\n",
    "I'm a non-native English speaker.\n",
    "Check whether the following sentences are correct.\n",
    "When incorrect, provide a correction and an explanation.\n",
    "Use the same structure as in the given examples.\n",
    "\n",
    "EXAMPLES:\n",
    "- **Hi!**\n",
    "  - Status: ✔️\n",
    "- **Your my best freind!**\n",
    "  - Status: ❌\n",
    "  - Correction: **You're my best friend!**\n",
    "  - Explanation:\n",
    "    - \"**Your**\" is incorrect. It seems that you meant \"You're\", which is the short form of \"You are\".\n",
    "    - \"**freind**\" is misspelled. The correct spelling is \"**friend**\".\n",
    "\n",
    "SENTENCES:\n",
    "- They're twins, isn't it?\n",
    "- I assisted to the meeting.\n",
    "- You received important informations.\n",
    "- I digged a hole in the ice and saw lots of fishes.\n",
    "- That's all folks!\n",
    "\"\"\"\n",
    "responses = generate_content(model, contents)\n",
    "print_contents(contents)\n",
    "print_responses(responses)"
   ]
  },
  {
   "cell_type": "markdown",
   "metadata": {
    "id": "ach9JtNikxVz"
   },
   "source": [
    "… as well as ask for elaborate tasks on text and languages:\n"
   ]
  },
  {
   "cell_type": "code",
   "execution_count": 15,
   "metadata": {
    "colab": {
     "base_uri": "https://localhost:8080/",
     "height": 267
    },
    "executionInfo": {
     "elapsed": 4016,
     "status": "ok",
     "timestamp": 1702337422329,
     "user": {
      "displayName": "Laurent Picard",
      "userId": "17424629147771078746"
     },
     "user_tz": -60
    },
    "id": "P0xdsfQDE22b",
    "outputId": "0b74d75b-fae7-4ac2-dc3c-a03f49802620",
    "tags": []
   },
   "outputs": [
    {
     "name": "stdout",
     "output_type": "stream",
     "text": [
      "----------------------------------- Contents -----------------------------------\n",
      "\n",
      "Translate the text into the following languages.\n",
      "\n",
      "TEXT:\n",
      "Hello folks! I hope you're all doing well. Let's get this workshop started!\n",
      "We'll stick to English because, actually, I can't speak all those languages.\n",
      "\n",
      "LANGUAGES:\n",
      "German, French, Greek, Bulgarian, Japanese\n",
      "\n",
      "------------------------------ Start of responses ------------------------------\n"
     ]
    },
    {
     "data": {
      "text/markdown": [
       "## Translations:\n",
       "\n",
       "**German:**\n",
       "\n",
       "Hallo zusammen! Ich hoffe, es geht euch allen gut. Lasst uns diesen Workshop beginnen!\n",
       "Wir bleiben beim Englischen, weil ich all diese Sprachen nicht sprechen kann.\n",
       "\n",
       "**French:**\n",
       "\n",
       "Bonjour à tous ! J'espère que vous allez tous bien. Commençons cet atelier !\n",
       "Nous allons nous en tenir à l'anglais car, en fait, je ne peux pas parler toutes ces langues.\n",
       "\n",
       "**Greek:**\n",
       "\n",
       "Γεια σας όλοι! Ελπίζω να είστε όλοι καλά. Ας ξεκινήσουμε αυτό το εργαστήριο!\n",
       "Θα μείνουμε στα Αγγλικά γιατί, στην πραγματικότητα, δεν μπορώ να μιλήσω όλες αυτές τις γλώσσες.\n",
       "\n",
       "**Bulgarian:**\n",
       "\n",
       "Здравейте на всички! Надявам се, че всички сте добре. Нека започнем този семинар!\n",
       "Ще се придържаме към английския, защото всъщност не мога да говоря всички тези езици.\n",
       "\n",
       "**Japanese:**\n",
       "\n",
       "皆さん、こんにちは！お元気でお過ごしでしょうか。このワークショップを始めましょう！\n",
       "実は、私はこれらの言語をすべて話すことができないので、英語で進めさせていただきます。"
      ],
      "text/plain": [
       "<IPython.core.display.Markdown object>"
      ]
     },
     "metadata": {},
     "output_type": "display_data"
    },
    {
     "name": "stdout",
     "output_type": "stream",
     "text": [
      "------------------------------- End of responses -------------------------------\n",
      "\n"
     ]
    }
   ],
   "source": [
    "contents = \"\"\"\n",
    "Translate the text into the following languages.\n",
    "\n",
    "TEXT:\n",
    "Hello folks! I hope you're all doing well. Let's get this workshop started!\n",
    "We'll stick to English because, actually, I can't speak all those languages.\n",
    "\n",
    "LANGUAGES:\n",
    "German, French, Greek, Bulgarian, Japanese\n",
    "\"\"\"\n",
    "responses = generate_content(model, contents)\n",
    "print_contents(contents)\n",
    "print_responses(responses)"
   ]
  },
  {
   "cell_type": "code",
   "execution_count": 16,
   "metadata": {
    "colab": {
     "base_uri": "https://localhost:8080/",
     "height": 383
    },
    "executionInfo": {
     "elapsed": 4647,
     "status": "ok",
     "timestamp": 1702337426964,
     "user": {
      "displayName": "Laurent Picard",
      "userId": "17424629147771078746"
     },
     "user_tz": -60
    },
    "id": "LSNoxDSeZWw-",
    "outputId": "f8bf5a60-60c7-4599-8022-ff2a42f0fc06",
    "tags": []
   },
   "outputs": [
    {
     "name": "stdout",
     "output_type": "stream",
     "text": [
      "----------------------------------- Contents -----------------------------------\n",
      "\n",
      "I'm a non-native English speaker and made mistakes in the following sentences.\n",
      "Guess my native language.\n",
      "Explain why these are typical mistakes.\n",
      "If there are several possibilities, here is a hint: I like cheese.\n",
      "\n",
      "SENTENCES:\n",
      "- They are twin sisters, isn't it?\n",
      "- I assisted to the meeting.\n",
      "- I saw lots of fishes.\n",
      "\n",
      "------------------------------ Start of responses ------------------------------\n"
     ]
    },
    {
     "data": {
      "text/markdown": [
       "## Analyzing your sentences:\n",
       "\n",
       "**1. They are twin sisters, isn't it?**\n",
       "\n",
       "* **Mistake:** The subject-verb agreement is incorrect. \"They\" is plural, but the verb \"is\" is singular.\n",
       "* **Typical mistake for:** Speakers of languages with different subject-verb agreement rules, such as Romance languages (Spanish, French, Italian) or Slavic languages (Russian, Polish, Czech). In these languages, the verb form often stays the same regardless of the subject's number.\n",
       "\n",
       "**2. I assisted to the meeting.**\n",
       "\n",
       "* **Mistake:** The verb \"assist\" is usually followed by the preposition \"at\" instead of \"to.\"\n",
       "* **Typical mistake for:** Speakers of languages where the equivalent verb requires a different preposition, such as German (\"teilnehmen an\"), French (\"assister à\"), or Spanish (\"asistir a\").\n",
       "\n",
       "**3. I saw lots of fishes.**\n",
       "\n",
       "* **Mistake:** The noun \"fish\" is uncountable and doesn't take a plural form. We say \"lots of fish,\" not \"fishes.\"\n",
       "* **Typical mistake for:** Speakers of languages that distinguish between countable and uncountable nouns differently, such as Japanese, Korean, or Hungarian. In these languages, many nouns that are uncountable in English have plural forms.\n",
       "\n",
       "## Guessing your native language:\n",
       "\n",
       "Based on the mistakes you made, it's likely that your native language is one of the following:\n",
       "\n",
       "* **Romance languages:** The subject-verb agreement error and the use of \"to\" with \"assist\" are common mistakes for speakers of Romance languages.\n",
       "* **Slavic languages:** The subject-verb agreement error and the use of \"to\" with \"assist\" can also be typical mistakes for speakers of Slavic languages.\n",
       "* **German:** The use of \"to\" with \"assist\" is a common mistake for German speakers.\n",
       "\n",
       "However, the use of \"fishes\" instead of \"fish\" could also point to other languages, such as Japanese or Korean. \n",
       "\n",
       "**With the additional hint that you like cheese, my guess is that your native language is French.** This is because cheese plays a significant role in French culture and cuisine, and the mistakes you made are commonly observed among French speakers learning English.\n",
       "\n",
       "Of course, this is just an educated guess based on the limited information available. If you'd like me to refine my guess, please provide more information about your language background or interests."
      ],
      "text/plain": [
       "<IPython.core.display.Markdown object>"
      ]
     },
     "metadata": {},
     "output_type": "display_data"
    },
    {
     "name": "stdout",
     "output_type": "stream",
     "text": [
      "------------------------------- End of responses -------------------------------\n",
      "\n"
     ]
    }
   ],
   "source": [
    "contents = \"\"\"\n",
    "I'm a non-native English speaker and made mistakes in the following sentences.\n",
    "Guess my native language.\n",
    "Explain why these are typical mistakes.\n",
    "If there are several possibilities, here is a hint: I like cheese.\n",
    "\n",
    "SENTENCES:\n",
    "- They are twin sisters, isn't it?\n",
    "- I assisted to the meeting.\n",
    "- I saw lots of fishes.\n",
    "\"\"\"\n",
    "responses = generate_content(model, contents)\n",
    "print_contents(contents)\n",
    "print_responses(responses)"
   ]
  },
  {
   "cell_type": "markdown",
   "metadata": {
    "id": "AIl7R_jBUsaC"
   },
   "source": [
    "### Reasoning on numbers\n"
   ]
  },
  {
   "cell_type": "markdown",
   "metadata": {
    "id": "hm61coMZJX-o"
   },
   "source": [
    "> Note: Like any LLM, Gemini generates plausible-sounding outputs, but may still hallucinate. Depending on inputs and parameters, outputs can be inaccurate, including math operations. As a best practice, you may want to consider prompting the LLM with step-by-step instructions to reduce hallucinations, or use a calculator library rather than an LLM.\n",
    "\n",
    "You can ask about real life problems:\n"
   ]
  },
  {
   "cell_type": "code",
   "execution_count": 17,
   "metadata": {
    "colab": {
     "base_uri": "https://localhost:8080/",
     "height": 498
    },
    "executionInfo": {
     "elapsed": 3792,
     "status": "ok",
     "timestamp": 1702337430752,
     "user": {
      "displayName": "Laurent Picard",
      "userId": "17424629147771078746"
     },
     "user_tz": -60
    },
    "id": "nmvIJfDUmGN6",
    "outputId": "44b38862-e1b1-4d5b-a8f1-af360ef66bc9",
    "tags": []
   },
   "outputs": [
    {
     "name": "stdout",
     "output_type": "stream",
     "text": [
      "----------------------------------- Contents -----------------------------------\n",
      "\n",
      "Patricia is a good runner and runs at an average 12 km/h.\n",
      "- On Monday, she ran for 1.5 hour. What distance did she run?\n",
      "- On Tuesday, she ran for 21 km. How long did she run?\n",
      "- On Wednesday, she ran for 150 minutes. What distance did she run?\n",
      "- Next, she plans to do a marathon (42 km). How long should it take?\n",
      "- To complete a marathon in 3 hours, how much faster does she need to run?\n",
      "\n",
      "Detail the answers step by step.\n",
      "\n",
      "------------------------------ Start of responses ------------------------------\n"
     ]
    },
    {
     "data": {
      "text/markdown": [
       "## Patricia's Running Performance:\n",
       "\n",
       "### Monday:\n",
       "\n",
       "* **Distance:** 1.5 hours * 12 km/h = 18 km\n",
       "* **Calculation:** We multiply the time (1.5 hours) by her average speed (12 km/h) to find the total distance covered.\n",
       "\n",
       "### Tuesday:\n",
       "\n",
       "* **Time:** 21 km / 12 km/h = 1.75 hours\n",
       "* **Calculation:** We divide the total distance (21 km) by her average speed (12 km/h) to find the time taken.\n",
       "\n",
       "### Wednesday:\n",
       "\n",
       "* **Distance:** 150 minutes * (1 hour / 60 minutes) * 12 km/h = 30 km\n",
       "* **Calculation:** We first convert minutes to hours (150 minutes / 60 minutes = 2.5 hours) and then multiply by her average speed to find the distance.\n",
       "\n",
       "### Marathon:\n",
       "\n",
       "* **Time:** 42 km / 12 km/h = 3.5 hours\n",
       "* **Calculation:** We divide the marathon distance (42 km) by her average speed to find the time it would take her at her current pace.\n",
       "\n",
       "### Marathon in 3 hours:\n",
       "\n",
       "* **Speed needed:** 42 km / 3 hours = 14 km/h\n",
       "* **Increase in speed:** 14 km/h - 12 km/h = 2 km/h\n",
       "* **Calculation:** We divide the marathon distance by the desired time (3 hours) to find the required speed. Then, we subtract her current average speed to find the increase needed.\n",
       "\n",
       "## Summary:\n",
       "\n",
       "* On Monday, Patricia ran 18 km.\n",
       "* On Tuesday, she ran for 1.75 hours.\n",
       "* On Wednesday, she ran 30 km.\n",
       "* To complete a marathon at her current pace, it would take her 3.5 hours.\n",
       "* To complete a marathon in 3 hours, she needs to increase her speed by 2 km/h."
      ],
      "text/plain": [
       "<IPython.core.display.Markdown object>"
      ]
     },
     "metadata": {},
     "output_type": "display_data"
    },
    {
     "name": "stdout",
     "output_type": "stream",
     "text": [
      "------------------------------- End of responses -------------------------------\n",
      "\n"
     ]
    }
   ],
   "source": [
    "contents = \"\"\"\n",
    "Patricia is a good runner and runs at an average 12 km/h.\n",
    "- On Monday, she ran for 1.5 hour. What distance did she run?\n",
    "- On Tuesday, she ran for 21 km. How long did she run?\n",
    "- On Wednesday, she ran for 150 minutes. What distance did she run?\n",
    "- Next, she plans to do a marathon (42 km). How long should it take?\n",
    "- To complete a marathon in 3 hours, how much faster does she need to run?\n",
    "\n",
    "Detail the answers step by step.\n",
    "\"\"\"\n",
    "responses = generate_content(model, contents)\n",
    "print_contents(contents)\n",
    "print_responses(responses)"
   ]
  },
  {
   "cell_type": "markdown",
   "metadata": {
    "id": "_nZwoSe0mGN6"
   },
   "source": [
    "… or about classical problems:\n"
   ]
  },
  {
   "cell_type": "code",
   "execution_count": 18,
   "metadata": {
    "colab": {
     "base_uri": "https://localhost:8080/",
     "height": 160
    },
    "executionInfo": {
     "elapsed": 1519,
     "status": "ok",
     "timestamp": 1702337432266,
     "user": {
      "displayName": "Laurent Picard",
      "userId": "17424629147771078746"
     },
     "user_tz": -60
    },
    "id": "R6dmn9_Q0Be0",
    "outputId": "c574f8a2-6ebd-4e0d-cf5c-af456f93a632",
    "tags": []
   },
   "outputs": [
    {
     "name": "stdout",
     "output_type": "stream",
     "text": [
      "----------------------------------- Contents -----------------------------------\n",
      "\n",
      "I just borrowed 1,000 EUR from a friend.\n",
      "We agreed on a 4.5% simple interest rate.\n",
      "I want to know how much I'll have to refund in 1, 2, or 3 years.\n",
      "Present the results in a recap table.\n",
      "\n",
      "------------------------------ Start of responses ------------------------------\n"
     ]
    },
    {
     "data": {
      "text/markdown": [
       "## Simple Interest Calculation\n",
       "\n",
       "**Principal amount:** 1,000 EUR\n",
       "**Interest rate:** 4.5% per year\n",
       "**Time:** 1, 2, and 3 years\n",
       "\n",
       "## Calculation\n",
       "\n",
       "Simple interest is calculated using the following formula:\n",
       "\n",
       "```\n",
       "Interest = Principal × Interest rate × Time\n",
       "```\n",
       "\n",
       "## Results\n",
       "\n",
       "| Year | Interest (EUR) | Total amount (EUR) |\n",
       "|---|---|---|\n",
       "| 1 | 45 | 1,045 |\n",
       "| 2 | 90 | 1,090 |\n",
       "| 3 | 135 | 1,135 |\n",
       "\n",
       "## Recap\n",
       "\n",
       "This table shows the interest and total amount you will have to refund after 1, 2, and 3 years. \n",
       "\n",
       "**Note:** This calculation assumes that the interest is not compounded."
      ],
      "text/plain": [
       "<IPython.core.display.Markdown object>"
      ]
     },
     "metadata": {},
     "output_type": "display_data"
    },
    {
     "name": "stdout",
     "output_type": "stream",
     "text": [
      "------------------------------- End of responses -------------------------------\n",
      "\n"
     ]
    }
   ],
   "source": [
    "contents = \"\"\"\n",
    "I just borrowed 1,000 EUR from a friend.\n",
    "We agreed on a 4.5% simple interest rate.\n",
    "I want to know how much I'll have to refund in 1, 2, or 3 years.\n",
    "Present the results in a recap table.\n",
    "\"\"\"\n",
    "responses = generate_content(model, contents)\n",
    "print_contents(contents)\n",
    "print_responses(responses)"
   ]
  },
  {
   "cell_type": "markdown",
   "metadata": {
    "id": "XBv4oOPpU50E"
   },
   "source": [
    "## Using the Gemini 1.0 Pro Vision model\n",
    "\n",
    "Gemini 1.0 Pro Vision (`gemini-1.0-pro-vision`) is a multimodal model that supports multimodal prompts. You can include text, image(s), and video in your prompt requests and get text or code responses.\n"
   ]
  },
  {
   "cell_type": "code",
   "execution_count": 19,
   "metadata": {
    "executionInfo": {
     "elapsed": 5,
     "status": "ok",
     "timestamp": 1702337432266,
     "user": {
      "displayName": "Laurent Picard",
      "userId": "17424629147771078746"
     },
     "user_tz": -60
    },
    "id": "ACD_LaIAE22c",
    "tags": []
   },
   "outputs": [],
   "source": [
    "multimodal_model = GenerativeModel(\"gemini-1.0-pro-vision\")"
   ]
  },
  {
   "cell_type": "markdown",
   "metadata": {
    "id": "dvdNYQKJE22c"
   },
   "source": [
    "### Reasoning on a single image\n"
   ]
  },
  {
   "cell_type": "markdown",
   "metadata": {
    "id": "UFW-KLIjmGN7"
   },
   "source": [
    "You can ask for an image description:\n"
   ]
  },
  {
   "cell_type": "code",
   "execution_count": 20,
   "metadata": {
    "colab": {
     "base_uri": "https://localhost:8080/",
     "height": 466
    },
    "executionInfo": {
     "elapsed": 6317,
     "status": "ok",
     "timestamp": 1702337438579,
     "user": {
      "displayName": "Laurent Picard",
      "userId": "17424629147771078746"
     },
     "user_tz": -60
    },
    "id": "aFvAEetIcSA7",
    "outputId": "d4efe8d5-ed41-44e0-eb81-9c26d284738d",
    "tags": []
   },
   "outputs": [
    {
     "name": "stdout",
     "output_type": "stream",
     "text": [
      "----------------------------------- Contents -----------------------------------\n",
      "Describe this image:\n"
     ]
    },
    {
     "data": {
      "image/jpeg": "[encoded data removed]",
      "text/plain": [
       "<IPython.core.display.Image object>"
      ]
     },
     "metadata": {},
     "output_type": "display_data"
    },
    {
     "name": "stdout",
     "output_type": "stream",
     "text": [
      "------------------------------ Start of responses ------------------------------\n"
     ]
    },
    {
     "data": {
      "text/markdown": [
       "The image shows a wooden abacus with ten rows, each with ten beads. The beads are arranged in a rainbow pattern, with the top row being brown, the second row being red, the third row being orange, the fourth row being yellow, the fifth row being green, the sixth row being light blue, the seventh row being dark blue, the eighth row being purple, the ninth row being pink, and the tenth row being black."
      ],
      "text/plain": [
       "<IPython.core.display.Markdown object>"
      ]
     },
     "metadata": {},
     "output_type": "display_data"
    },
    {
     "name": "stdout",
     "output_type": "stream",
     "text": [
      "------------------------------- End of responses -------------------------------\n",
      "\n"
     ]
    }
   ],
   "source": [
    "prompt = \"Describe this image:\"\n",
    "# Image by Crissy Jarvis on Unsplash: https://unsplash.com/photos/cHhbULJbPwM\n",
    "image_abacus = load_image_from_url(\n",
    "    \"https://unsplash.com/photos/cHhbULJbPwM/download?w=600\"\n",
    ")\n",
    "\n",
    "contents = [prompt, image_abacus]\n",
    "responses = generate_content(multimodal_model, contents)\n",
    "\n",
    "print_contents(contents)\n",
    "print_responses(responses)"
   ]
  },
  {
   "cell_type": "markdown",
   "metadata": {
    "id": "jjqqXuauE22c"
   },
   "source": [
    "… or ask specific questions:\n"
   ]
  },
  {
   "cell_type": "code",
   "execution_count": 21,
   "metadata": {
    "colab": {
     "base_uri": "https://localhost:8080/",
     "height": 994
    },
    "executionInfo": {
     "elapsed": 8531,
     "status": "ok",
     "timestamp": 1702337447098,
     "user": {
      "displayName": "Laurent Picard",
      "userId": "17424629147771078746"
     },
     "user_tz": -60
    },
    "id": "H0SOqKjyi1tH",
    "outputId": "6dfb3763-facf-4ffb-c3e0-5e2599efecb6",
    "tags": []
   },
   "outputs": [
    {
     "name": "stdout",
     "output_type": "stream",
     "text": [
      "----------------------------------- Contents -----------------------------------\n",
      "\n",
      "Answer the following questions about this image.\n",
      "Return the results as a JSON list containing \"question\" and \"answer\" pairs.\n",
      "\n",
      "QUESTIONS:\n",
      "- What does the image show?\n",
      "- How does it work?\n",
      "- When was it invented?\n",
      "- What's the name of this object in French, Italian, Spanish, Dutch, and German?\n",
      "- What are the most prominent colors in the image?\n",
      "\n"
     ]
    },
    {
     "data": {
      "image/jpeg": "[encoded data removed]",
      "text/plain": [
       "<IPython.core.display.Image object>"
      ]
     },
     "metadata": {},
     "output_type": "display_data"
    },
    {
     "name": "stdout",
     "output_type": "stream",
     "text": [
      "------------------------------ Start of responses ------------------------------\n"
     ]
    },
    {
     "data": {
      "text/markdown": [
       "```json\n",
       "[\n",
       "  {\n",
       "    \"question\": \"What does the image show?\",\n",
       "    \"answer\": \"The image shows an abacus.\"\n",
       "  },\n",
       "  {\n",
       "    \"question\": \"How does it work?\",\n",
       "    \"answer\": \"An abacus is a calculating tool that has been used since ancient times. It is made up of a frame with rows of beads strung on wires. Each bead represents a certain value, and by moving the beads up and down, calculations can be performed.\"\n",
       "  },\n",
       "  {\n",
       "    \"question\": \"When was it invented?\",\n",
       "    \"answer\": \"The abacus was invented in ancient Mesopotamia around 2700-2300 BC.\"\n",
       "  },\n",
       "  {\n",
       "    \"question\": \"What's the name of this object in French, Italian, Spanish, Dutch, and German?\",\n",
       "    \"answer\": \"The French word for abacus is boulier, the Italian word is abaco, the Spanish word is \\u00e1baco, the Dutch word is rekenrek, and the German word is Rechenbrett.\"\n",
       "  },\n",
       "  {\n",
       "    \"question\": \"What are the most prominent colors in the image?\",\n",
       "    \"answer\": \"The most prominent colors in the image are red, green, yellow, and blue.\"\n",
       "  }\n",
       "]\n",
       "```"
      ],
      "text/plain": [
       "<IPython.core.display.Markdown object>"
      ]
     },
     "metadata": {},
     "output_type": "display_data"
    },
    {
     "name": "stdout",
     "output_type": "stream",
     "text": [
      "------------------------------- End of responses -------------------------------\n",
      "\n"
     ]
    }
   ],
   "source": [
    "prompt = \"\"\"\n",
    "Answer the following questions about this image.\n",
    "Return the results as a JSON list containing \"question\" and \"answer\" pairs.\n",
    "\n",
    "QUESTIONS:\n",
    "- What does the image show?\n",
    "- How does it work?\n",
    "- When was it invented?\n",
    "- What's the name of this object in French, Italian, Spanish, Dutch, and German?\n",
    "- What are the most prominent colors in the image?\n",
    "\"\"\"\n",
    "\n",
    "contents = [prompt, image_abacus]\n",
    "responses = generate_content(multimodal_model, contents)\n",
    "\n",
    "print_contents(contents)\n",
    "print_responses(responses)"
   ]
  },
  {
   "cell_type": "markdown",
   "metadata": {
    "id": "I9SIjHnbmGN8"
   },
   "source": [
    "Your specific questions can have follow-up questions:\n"
   ]
  },
  {
   "cell_type": "code",
   "execution_count": 22,
   "metadata": {
    "colab": {
     "base_uri": "https://localhost:8080/",
     "height": 622
    },
    "executionInfo": {
     "elapsed": 6669,
     "status": "ok",
     "timestamp": 1702337453762,
     "user": {
      "displayName": "Laurent Picard",
      "userId": "17424629147771078746"
     },
     "user_tz": -60
    },
    "id": "bGIsUZFAmGN8",
    "outputId": "69645032-83ea-4748-ff61-10577bc7dc87",
    "tags": []
   },
   "outputs": [
    {
     "name": "stdout",
     "output_type": "stream",
     "text": [
      "----------------------------------- Contents -----------------------------------\n"
     ]
    },
    {
     "data": {
      "image/jpeg": "[encoded data removed]",
      "text/plain": [
       "<IPython.core.display.Image object>"
      ]
     },
     "metadata": {},
     "output_type": "display_data"
    },
    {
     "name": "stdout",
     "output_type": "stream",
     "text": [
      "\n",
      "- What expression can be read in this image? How is it presented?\n",
      "- What is the opposite expression?\n",
      "- What is a recommendation, starting with this expression, a teacher could give his students for an exam?\n",
      "- With the opposite expression?\n",
      "\n",
      "------------------------------ Start of responses ------------------------------\n"
     ]
    },
    {
     "data": {
      "text/markdown": [
       "- The expression that can be read in this image is \"In the beginning\". It is presented using wooden tiles with letters on them.\n",
       "- The opposite expression is \"In the end\".\n",
       "- A recommendation that a teacher could give his students for an exam, starting with the expression \"In the beginning\", is to start studying early and to prepare well.\n",
       "- With the opposite expression, the teacher could recommend the students to check their answers at the end of the exam."
      ],
      "text/plain": [
       "<IPython.core.display.Markdown object>"
      ]
     },
     "metadata": {},
     "output_type": "display_data"
    },
    {
     "name": "stdout",
     "output_type": "stream",
     "text": [
      "------------------------------- End of responses -------------------------------\n",
      "\n"
     ]
    }
   ],
   "source": [
    "# Image by Brett Jordan on Unsplash: https://unsplash.com/photos/E1por_SGvJE\n",
    "image_tiles = load_image_from_url(\n",
    "    \"https://unsplash.com/photos/E1por_SGvJE/download?w=600\"\n",
    ")\n",
    "prompt = \"\"\"\n",
    "- What expression can be read in this image? How is it presented?\n",
    "- What is the opposite expression?\n",
    "- What is a recommendation, starting with this expression, a teacher could give his students for an exam?\n",
    "- With the opposite expression?\n",
    "\"\"\"\n",
    "\n",
    "contents = [image_tiles, prompt]\n",
    "responses = generate_content(multimodal_model, contents)\n",
    "\n",
    "print_contents(contents)\n",
    "print_responses(responses)"
   ]
  },
  {
   "cell_type": "markdown",
   "metadata": {
    "id": "trT6xm249rqo"
   },
   "source": [
    "Information can have multiple forms. It can be objects, printed text, handwritten text, and more:\n"
   ]
  },
  {
   "cell_type": "code",
   "execution_count": 23,
   "metadata": {
    "colab": {
     "base_uri": "https://localhost:8080/",
     "height": 1000
    },
    "executionInfo": {
     "elapsed": 7922,
     "status": "ok",
     "timestamp": 1702337461673,
     "user": {
      "displayName": "Laurent Picard",
      "userId": "17424629147771078746"
     },
     "user_tz": -60
    },
    "id": "VKsArAoJmGN8",
    "outputId": "2209af8b-8d05-4ba4-d55f-49c16e7d9092",
    "tags": []
   },
   "outputs": [
    {
     "name": "stdout",
     "output_type": "stream",
     "text": [
      "----------------------------------- Contents -----------------------------------\n",
      "\n",
      "Follow the instructions.\n",
      "Write math expressions in LaTex.\n",
      "Use a table with a row for each instruction and its result.\n",
      "\n",
      "INSTRUCTIONS:\n",
      "- Extract the formula.\n",
      "- What is the symbol right before Pi? What does it mean?\n",
      "- Is this a famous formula? Does it have a name?\n",
      "- Why is it special?\n",
      "- Extract the caption.\n",
      "- What's the object in the bottom?\n",
      "- What was it used for?\n",
      "- What colors are the caption and the formula?\n",
      "\n"
     ]
    },
    {
     "data": {
      "image/jpeg": "[encoded data removed]",
      "text/plain": [
       "<IPython.core.display.Image object>"
      ]
     },
     "metadata": {},
     "output_type": "display_data"
    },
    {
     "name": "stdout",
     "output_type": "stream",
     "text": [
      "------------------------------ Start of responses ------------------------------\n"
     ]
    },
    {
     "data": {
      "text/markdown": [
       "| INSTRUCTION | RESULT |\n",
       "|:---:|:---:|\n",
       "| Extract the formula. | $$e^{i\\pi}+1=0$$ |\n",
       "| What is the symbol right before Pi? What does it mean? | i is the imaginary unit, which is a mathematical concept that is used to represent numbers that are not real. |\n",
       "| Is this a famous formula? Does it have a name? | Yes, it is known as Euler's identity. |\n",
       "| Why is it special? | It is considered to be one of the most beautiful equations in mathematics because of its simplicity and elegance, and because it relates five fundamental mathematical constants: e, i, π, 1, and 0. |\n",
       "| Extract the caption. | The most beautiful equation |\n",
       "| What's the object in the bottom? | A green pen. |\n",
       "| What was it used for? | The pen was used to write the equation on the paper. |\n",
       "| What colors are the caption and the formula? | The caption is written in black ink and the formula is written in green ink. |"
      ],
      "text/plain": [
       "<IPython.core.display.Markdown object>"
      ]
     },
     "metadata": {},
     "output_type": "display_data"
    },
    {
     "name": "stdout",
     "output_type": "stream",
     "text": [
      "------------------------------- End of responses -------------------------------\n",
      "\n"
     ]
    }
   ],
   "source": [
    "prompt = \"\"\"\n",
    "Follow the instructions.\n",
    "Write math expressions in LaTex.\n",
    "Use a table with a row for each instruction and its result.\n",
    "\n",
    "INSTRUCTIONS:\n",
    "- Extract the formula.\n",
    "- What is the symbol right before Pi? What does it mean?\n",
    "- Is this a famous formula? Does it have a name?\n",
    "- Why is it special?\n",
    "- Extract the caption.\n",
    "- What's the object in the bottom?\n",
    "- What was it used for?\n",
    "- What colors are the caption and the formula?\n",
    "\"\"\"\n",
    "image_euler = load_image_from_url(\n",
    "    \"https://storage.googleapis.com/cloud-samples-data/generative-ai/image/math_beauty.jpg\"\n",
    ")\n",
    "\n",
    "contents = [prompt, image_euler]\n",
    "responses = generate_content(multimodal_model, contents)\n",
    "\n",
    "print_contents(contents)\n",
    "print_responses(responses)"
   ]
  },
  {
   "cell_type": "markdown",
   "metadata": {
    "id": "XHHKFGbMU-Re"
   },
   "source": [
    "You can also ask for interpretations and suggestions:\n"
   ]
  },
  {
   "cell_type": "code",
   "execution_count": 25,
   "metadata": {
    "colab": {
     "base_uri": "https://localhost:8080/",
     "height": 934
    },
    "executionInfo": {
     "elapsed": 9201,
     "status": "ok",
     "timestamp": 1702337470869,
     "user": {
      "displayName": "Laurent Picard",
      "userId": "17424629147771078746"
     },
     "user_tz": -60
    },
    "id": "cJ0TsH-7unIE",
    "outputId": "c7a22ff9-9bd5-4598-a52f-0a526646fdbc",
    "tags": []
   },
   "outputs": [
    {
     "name": "stdout",
     "output_type": "stream",
     "text": [
      "please like share and subscribe to techcps https://www.youtube.com/@techcps\n"
     ]
    }
   ],
   "source": [
    "# Please like share and subscribe to techcps\n",
    "# Channel link is here: https://www.youtube.com/@techcps\n",
    "\n",
    "print(\"please like share and subscribe to techcps https://www.youtube.com/@techcps\")"
   ]
  },
  {
   "cell_type": "code",
   "execution_count": null,
   "metadata": {
    "colab": {
     "base_uri": "https://localhost:8080/",
     "height": 934
    },
    "executionInfo": {
     "elapsed": 9201,
     "status": "ok",
     "timestamp": 1702337470869,
     "user": {
      "displayName": "Laurent Picard",
      "userId": "17424629147771078746"
     },
     "user_tz": -60
    },
    "id": "cJ0TsH-7unIE",
    "outputId": "c7a22ff9-9bd5-4598-a52f-0a526646fdbc",
    "tags": []
   },
   "outputs": [],
   "source": [
    "prompt = \"\"\"\n",
    "Answer the following questions about the image.\n",
    "Present the results in a table with a row for each question and its answer.\n",
    "\n",
    "QUESTIONS:\n",
    "- What is visible?\n",
    "- What are the reasons it's funny?\n",
    "- What could be a fun caption?\n",
    "- What could happen next?\n",
    "- How would you alter the image? Would it still be funny and why?\n",
    "- How would you make it funnier?\n",
    "\"\"\"\n",
    "# Image by Elimende Inagella on Unsplash: https://unsplash.com/photos/4ApmfdVo32Q\n",
    "image_classroom = load_image_from_url(\n",
    "    \"https://unsplash.com/photos/4ApmfdVo32Q/download?w=600\"\n",
    ")\n",
    "\n",
    "contents = [prompt, image_classroom]\n",
    "responses = generate_content(multimodal_model, contents)\n",
    "\n",
    "print_contents(contents)\n",
    "print_responses(responses)"
   ]
  },
  {
   "cell_type": "markdown",
   "metadata": {
    "id": "qU5Tm-FQE22c"
   },
   "source": [
    "### Reasoning on multiple images\n"
   ]
  },
  {
   "cell_type": "markdown",
   "metadata": {
    "id": "Vbf1HALvE22d"
   },
   "source": [
    "You can also use multiple images:\n"
   ]
  },
  {
   "cell_type": "code",
   "execution_count": null,
   "metadata": {
    "colab": {
     "base_uri": "https://localhost:8080/",
     "height": 1000
    },
    "executionInfo": {
     "elapsed": 7944,
     "status": "ok",
     "timestamp": 1702337478799,
     "user": {
      "displayName": "Laurent Picard",
      "userId": "17424629147771078746"
     },
     "user_tz": -60
    },
    "id": "sLUesezCE22d",
    "outputId": "e85991c8-b5a1-4c0f-f5c3-8b46bd64d765",
    "tags": []
   },
   "outputs": [],
   "source": [
    "prompt = f\"\"\"\n",
    "Answer the following questions for each image.\n",
    "Present the results in a table with a row for each image and a column for each question.\n",
    "\n",
    "QUESTIONS:\n",
    "- What can we see in the image?\n",
    "- Where does it take place?\n",
    "\"\"\"\n",
    "caption_b1 = \"Image 1:\"\n",
    "caption_b2 = \"Image 2:\"\n",
    "caption_b3 = \"Image 3:\"\n",
    "# Photo by Deleece Cook on Unsplash: https://unsplash.com/photos/zzjLGF_6dx4\n",
    "image_b1 = load_image_from_url(\"https://unsplash.com/photos/zzjLGF_6dx4/download?w=600\")\n",
    "# Photo by Natasha Kapur on Unsplash: https://unsplash.com/photos/ndAHi2Wxcok\n",
    "image_b2 = load_image_from_url(\"https://unsplash.com/photos/ndAHi2Wxcok/download?w=600\")\n",
    "# Photo by Roman Mager on Unsplash: https://unsplash.com/photos/5mZ_M06Fc9g\n",
    "image_b3 = load_image_from_url(\"https://unsplash.com/photos/5mZ_M06Fc9g/download?w=600\")\n",
    "\n",
    "contents = [prompt, caption_b1, image_b1, caption_b2, image_b2, caption_b3, image_b3]\n",
    "responses = generate_content(multimodal_model, contents)\n",
    "\n",
    "print_contents(contents)\n",
    "print_responses(responses)"
   ]
  },
  {
   "cell_type": "markdown",
   "metadata": {
    "id": "CrMHz6A3E22d"
   },
   "source": [
    "… or make comparisons between images:\n"
   ]
  },
  {
   "cell_type": "code",
   "execution_count": null,
   "metadata": {
    "colab": {
     "base_uri": "https://localhost:8080/",
     "height": 1000
    },
    "executionInfo": {
     "elapsed": 8002,
     "status": "ok",
     "timestamp": 1702337486791,
     "user": {
      "displayName": "Laurent Picard",
      "userId": "17424629147771078746"
     },
     "user_tz": -60
    },
    "id": "u7w31hUtE22d",
    "outputId": "f14cd388-e7c3-4d82-d006-b8b94961fe10",
    "tags": []
   },
   "outputs": [],
   "source": [
    "prompt = \"\"\"\n",
    "Answer the following questions about the images, with a short answer and a detailed reason for the answer.\n",
    "Present the results in a table with a row for each question, answer, and reason.\n",
    "\n",
    "QUESTIONS:\n",
    "- What do the images have in common?\n",
    "- Which one would be of interest to a mathematician?\n",
    "- Which one indicates it's the end of vacation?\n",
    "- Which one suggests we may get a coffee there?\n",
    "\"\"\"\n",
    "\n",
    "contents = [prompt, caption_b1, image_b1, caption_b2, image_b2, caption_b3, image_b3]\n",
    "responses = generate_content(multimodal_model, contents)\n",
    "\n",
    "print_contents(contents)\n",
    "print_responses(responses)"
   ]
  },
  {
   "cell_type": "markdown",
   "metadata": {
    "id": "uqFSjI4_mGN9"
   },
   "source": [
    "You can use Gemini's level of language and visual understanding to work with concepts or even get suggestions on new images:\n"
   ]
  },
  {
   "cell_type": "code",
   "execution_count": null,
   "metadata": {
    "colab": {
     "base_uri": "https://localhost:8080/",
     "height": 1000
    },
    "executionInfo": {
     "elapsed": 6093,
     "status": "ok",
     "timestamp": 1702337492875,
     "user": {
      "displayName": "Laurent Picard",
      "userId": "17424629147771078746"
     },
     "user_tz": -60
    },
    "id": "QjbP2y26mGN9",
    "outputId": "7a072645-e7ff-4049-93a7-f27bb6e27c7c",
    "tags": []
   },
   "outputs": [],
   "source": [
    "prompt = \"\"\"\n",
    "Answer the following questions about the images, with a short answer and a detailed reason for the answer.\n",
    "Present the results in a table with a row for each question, answer, and reason.\n",
    "\n",
    "QUESTIONS:\n",
    "- What does the first image represent?\n",
    "- What does the second image represent?\n",
    "- What could be a next logical image?\n",
    "\"\"\"\n",
    "caption_w1 = \"Image 1:\"\n",
    "caption_w2 = \"Image 2:\"\n",
    "# Photo by Diego Ballon Vargas on Unsplash: https://unsplash.com/photos/TA5bUTySOrg\n",
    "image_w1 = load_image_from_url(\"https://unsplash.com/photos/TA5bUTySOrg/download?w=600\")\n",
    "# Photo by Reza Shayestehpour on Unsplash: https://unsplash.com/photos/Nw_D8v79PM4\n",
    "image_w2 = load_image_from_url(\"https://unsplash.com/photos/Nw_D8v79PM4/download?w=600\")\n",
    "\n",
    "contents = [prompt, caption_w1, image_w1, caption_w2, image_w2]\n",
    "responses = generate_content(multimodal_model, contents)\n",
    "\n",
    "print_contents(contents)\n",
    "print_responses(responses)"
   ]
  },
  {
   "cell_type": "markdown",
   "metadata": {
    "id": "dJdBiddamGN9"
   },
   "source": [
    "This is really up to your imagination:\n"
   ]
  },
  {
   "cell_type": "code",
   "execution_count": null,
   "metadata": {
    "colab": {
     "base_uri": "https://localhost:8080/",
     "height": 1000
    },
    "executionInfo": {
     "elapsed": 9644,
     "status": "ok",
     "timestamp": 1702337502502,
     "user": {
      "displayName": "Laurent Picard",
      "userId": "17424629147771078746"
     },
     "user_tz": -60
    },
    "id": "iFhubVwFmGN9",
    "outputId": "4f2f0ada-b96b-41c2-d2ba-9f0d1e3042c9",
    "tags": []
   },
   "outputs": [],
   "source": [
    "prompt = \"\"\"\n",
    "Answer the following questions, with a short answer and a detailed reason for the answer.\n",
    "Present the results in a table with a row for each question, answer, and reason.\n",
    "\n",
    "QUESTIONS:\n",
    "- What theme do these images illustrate?\n",
    "- What could be another image to replace the first one?\n",
    "- What other image could replace the second one?\n",
    "- What would be an alternative to the third image?\n",
    "- And for the last one?\n",
    "\"\"\"\n",
    "caption_s1 = \"Image 1:\"\n",
    "caption_s2 = \"Image 2:\"\n",
    "caption_s3 = \"Image 3:\"\n",
    "caption_s4 = \"Image 4:\"\n",
    "# Photo by Tomoko Uji on Unsplash: https://unsplash.com/photos/eriuKJwcdjI\n",
    "image_s1 = load_image_from_url(\"https://unsplash.com/photos/eriuKJwcdjI/download?w=600\")\n",
    "# Photo by Todd Trapani on Unsplash: https://unsplash.com/photos/QldMpmrmWuc\n",
    "image_s2 = load_image_from_url(\"https://unsplash.com/photos/QldMpmrmWuc/download?w=600\")\n",
    "# Photo by Olivia Hutcherson on Unsplash: https://unsplash.com/photos/rN3m7aTH3io\n",
    "image_s3 = load_image_from_url(\"https://unsplash.com/photos/rN3m7aTH3io/download?w=600\")\n",
    "# Photo by Eberhard Grossgasteiger on Unsplash: https://unsplash.com/photos/FhdN5QVrBfY\n",
    "image_s4 = load_image_from_url(\"https://unsplash.com/photos/FhdN5QVrBfY/download?w=600\")\n",
    "\n",
    "contents = [\n",
    "    prompt,\n",
    "    caption_s1,\n",
    "    image_s1,\n",
    "    caption_s2,\n",
    "    image_s2,\n",
    "    caption_s3,\n",
    "    image_s3,\n",
    "    caption_s4,\n",
    "    image_s4,\n",
    "]\n",
    "responses = generate_content(multimodal_model, contents)\n",
    "\n",
    "print_contents(contents)\n",
    "print_responses(responses)"
   ]
  },
  {
   "cell_type": "markdown",
   "metadata": {
    "id": "JkjzQsgKGS7o"
   },
   "source": [
    "### Reasoning on a video\n"
   ]
  },
  {
   "cell_type": "markdown",
   "metadata": {
    "id": "_irp8pd4GS7o"
   },
   "source": [
    "And you also can extract information from a video:\n"
   ]
  },
  {
   "cell_type": "code",
   "execution_count": null,
   "metadata": {
    "colab": {
     "base_uri": "https://localhost:8080/",
     "height": 790
    },
    "executionInfo": {
     "elapsed": 24732,
     "status": "ok",
     "timestamp": 1702337527230,
     "user": {
      "displayName": "Laurent Picard",
      "userId": "17424629147771078746"
     },
     "user_tz": -60
    },
    "id": "o9dOaKJoUknq",
    "outputId": "a870895c-ca0a-4003-e641-2f3485678e30",
    "tags": []
   },
   "outputs": [],
   "source": [
    "prompt = \"\"\"\n",
    "Answer the following questions using the video only.\n",
    "Present the results in a table with a row for each question and its answer.\n",
    "\n",
    "QUESTIONS:\n",
    "- What is the main animal visible throughout the video?\n",
    "- Which electronic devices are visible?\n",
    "- What animals are the cartoon characters doing a close-up selfie?\n",
    "- Which famous brands are visible?\n",
    "- What is the text visible at the end?\n",
    "\"\"\"\n",
    "video = Part.from_uri(\n",
    "    uri=\"gs://cloud-samples-data/video/animals.mp4\",\n",
    "    mime_type=\"video/mp4\",\n",
    ")\n",
    "\n",
    "contents = [prompt, video]\n",
    "responses = generate_content(multimodal_model, contents)\n",
    "\n",
    "print_contents(contents)\n",
    "print_responses(responses)"
   ]
  },
  {
   "cell_type": "markdown",
   "metadata": {
    "id": "jWT14Lw6Uknq"
   },
   "source": [
    "## Conclusion\n",
    "\n",
    "In this tutorial, you saw examples of how you can use Gemini for education and benefit from text and multimodal models to generate content from text, images, and videos.\n",
    "\n",
    "You may also want to explore other tutorials that focus on different domains or specificities of the Vertex AI Gemini API.\n"
   ]
  }
 ],
 "metadata": {
  "colab": {
   "provenance": [],
   "toc_visible": true
  },
  "environment": {
   "kernel": "python3",
   "name": "tf2-cpu.2-16.m123",
   "type": "gcloud",
   "uri": "us-docker.pkg.dev/deeplearning-platform-release/gcr.io/tf2-cpu.2-16:m123"
  },
  "kernelspec": {
   "display_name": "Python 3 (Local)",
   "language": "python",
   "name": "python3"
  },
  "language_info": {
   "codemirror_mode": {
    "name": "ipython",
    "version": 3
   },
   "file_extension": ".py",
   "mimetype": "text/x-python",
   "name": "python",
   "nbconvert_exporter": "python",
   "pygments_lexer": "ipython3",
   "version": "3.10.14"
  }
 },
 "nbformat": 4,
 "nbformat_minor": 4
}
