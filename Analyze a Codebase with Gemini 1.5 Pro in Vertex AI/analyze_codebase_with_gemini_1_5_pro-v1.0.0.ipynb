{
 "cells": [
  {
   "cell_type": "code",
   "execution_count": 1,
   "metadata": {
    "id": "bCIMTPB1WoTq",
    "tags": []
   },
   "outputs": [],
   "source": [
    "# Copyright 2024 Google LLC\n",
    "#\n",
    "# Licensed under the Apache License, Version 2.0 (the \"License\");\n",
    "# you may not use this file except in compliance with the License.\n",
    "# You may obtain a copy of the License at\n",
    "#\n",
    "#     https://www.apache.org/licenses/LICENSE-2.0\n",
    "#\n",
    "# Unless required by applicable law or agreed to in writing, software\n",
    "# distributed under the License is distributed on an \"AS IS\" BASIS,\n",
    "# WITHOUT WARRANTIES OR CONDITIONS OF ANY KIND, either express or implied.\n",
    "# See the License for the specific language governing permissions and\n",
    "# limitations under the License."
   ]
  },
  {
   "cell_type": "markdown",
   "metadata": {
    "id": "pPmcMNgZpo9V"
   },
   "source": [
    "# Analyze a codebase with Gemini 1.5 Pro in Vertex AI \n",
    "\n",
    "\n",
    "<table align=\"left\">\n",
    "  <td style=\"text-align: center\">\n",
    "    <a href=\"https://colab.research.google.com/github/GoogleCloudPlatform/generative-ai/blob/main/gemini/use-cases/code/analyze_codebase_with_gemini_1_5_pro.ipynb\">\n",
    "      <img src=\"https://cloud.google.com/ml-engine/images/colab-logo-32px.png\" alt=\"Google Colaboratory logo\"><br> Open in Colab\n",
    "    </a>\n",
    "  </td>\n",
    "  <td style=\"text-align: center\">\n",
    "    <a href=\"https://console.cloud.google.com/vertex-ai/colab/import/https:%2F%2Fraw.githubusercontent.com%2FGoogleCloudPlatform%2Fgenerative-ai%2Fmain%2Fgemini%2Fuse-cases%2Fcode%2Fanalyze_codebase_with_gemini_1_5_pro.ipynb\">\n",
    "      <img width=\"32px\" src=\"https://lh3.googleusercontent.com/JmcxdQi-qOpctIvWKgPtrzZdJJK-J3sWE1RsfjZNwshCFgE_9fULcNpuXYTilIR2hjwN\" alt=\"Google Cloud Colab Enterprise logo\"><br> Open in Colab Enterprise\n",
    "    </a>\n",
    "  </td>    \n",
    "  <td style=\"text-align: center\">\n",
    "    <a href=\"https://console.cloud.google.com/vertex-ai/workbench/deploy-notebook?download_url=https://raw.githubusercontent.com/GoogleCloudPlatform/generative-ai/main/gemini/use-cases/code/analyze_codebase_with_gemini_1_5_pro.ipynb\">\n",
    "      <img src=\"https://lh3.googleusercontent.com/UiNooY4LUgW_oTvpsNhPpQzsstV5W8F7rYgxgGBD85cWJoLmrOzhVs_ksK_vgx40SHs7jCqkTkCk=e14-rj-sc0xffffff-h130-w32\" alt=\"Vertex AI logo\"><br> Open in Workbench\n",
    "    </a>\n",
    "  </td>\n",
    "  <td style=\"text-align: center\">\n",
    "    <a href=\"https://github.com/GoogleCloudPlatform/generative-ai/blob/main/gemini/use-cases/code/analyze_codebase_with_gemini_1_5_pro.ipynb\">\n",
    "      <img src=\"https://cloud.google.com/ml-engine/images/github-logo-32px.png\" alt=\"GitHub logo\"><br> View on GitHub\n",
    "    </a>\n",
    "  </td>\n",
    "</table>\n"
   ]
  },
  {
   "cell_type": "markdown",
   "metadata": {
    "id": "1EExYZvij2ve"
   },
   "source": [
    "| | |\n",
    "|-|-|\n",
    "|Author(s) | [Eric Dong](https://github.com/gericdong), [Aakash Gouda](https://github.com/aksstar)|"
   ]
  },
  {
   "cell_type": "markdown",
   "metadata": {
    "id": "7yVV6txOmNMn"
   },
   "source": [
    "## Overview\n",
    "\n",
    "Gemini 1.5 Pro introduces a breakthrough long context window of up to 1 million tokens that can help seamlessly analyze, classify and summarize large amounts of content within a given prompt. With its long-context reasoning, Gemini 1.5 Pro can analyze an entire codebase for deeper insights.\n",
    "\n",
    "In this tutorial, you learn how to analyze an entire codebase with Gemini 1.5 Pro and prompt the model to:\n",
    "\n",
    "- **Analyze**: Summarize codebases effortlessly.\n",
    "- **Guide**: Generate clear developer getting-started documentation.\n",
    "- **Debug**: Uncover critical bugs and provide fixes.\n",
    "- **Enhance**: Implement new features and improve reliability and security.\n"
   ]
  },
  {
   "cell_type": "markdown",
   "metadata": {
    "id": "hdMGtr18rFdL"
   },
   "source": [
    "## Getting Started"
   ]
  },
  {
   "cell_type": "markdown",
   "metadata": {
    "id": "No17Cw5hgx12"
   },
   "source": [
    "### Install Vertex AI SDK for Python\n"
   ]
  },
  {
   "cell_type": "code",
   "execution_count": 2,
   "metadata": {
    "id": "tFy3H3aPgx12",
    "tags": []
   },
   "outputs": [
    {
     "name": "stdout",
     "output_type": "stream",
     "text": [
      "\u001b[33m  WARNING: The script isympy is installed in '/home/jupyter/.local/bin' which is not on PATH.\n",
      "  Consider adding this directory to PATH or, if you prefer to suppress this warning, use --no-warn-script-location.\u001b[0m\u001b[33m\n",
      "\u001b[0m\u001b[33m  WARNING: The script humanfriendly is installed in '/home/jupyter/.local/bin' which is not on PATH.\n",
      "  Consider adding this directory to PATH or, if you prefer to suppress this warning, use --no-warn-script-location.\u001b[0m\u001b[33m\n",
      "\u001b[0m\u001b[33m  WARNING: The script coloredlogs is installed in '/home/jupyter/.local/bin' which is not on PATH.\n",
      "  Consider adding this directory to PATH or, if you prefer to suppress this warning, use --no-warn-script-location.\u001b[0m\u001b[33m\n",
      "\u001b[0m\u001b[33m  WARNING: The script onnxruntime_test is installed in '/home/jupyter/.local/bin' which is not on PATH.\n",
      "  Consider adding this directory to PATH or, if you prefer to suppress this warning, use --no-warn-script-location.\u001b[0m\u001b[33m\n",
      "\u001b[0m\u001b[33m  WARNING: The script magika is installed in '/home/jupyter/.local/bin' which is not on PATH.\n",
      "  Consider adding this directory to PATH or, if you prefer to suppress this warning, use --no-warn-script-location.\u001b[0m\u001b[33m\n",
      "\u001b[0m\u001b[33m  WARNING: The script tb-gcp-uploader is installed in '/home/jupyter/.local/bin' which is not on PATH.\n",
      "  Consider adding this directory to PATH or, if you prefer to suppress this warning, use --no-warn-script-location.\u001b[0m\u001b[33m\n",
      "\u001b[0mNote: you may need to restart the kernel to use updated packages.\n"
     ]
    }
   ],
   "source": [
    "%pip install --upgrade --user --quiet google-cloud-aiplatform \\\n",
    "                                        gitpython \\\n",
    "                                        magika"
   ]
  },
  {
   "cell_type": "markdown",
   "metadata": {
    "id": "R5Xep4W9lq-Z"
   },
   "source": [
    "### Restart runtime (Colab only)\n",
    "\n",
    "To use the newly installed packages in this Jupyter runtime, you must restart the runtime. You can do this by running the cell below, which restarts the current kernel.\n",
    "\n",
    "The restart might take a minute or longer. After it's restarted, continue to the next step."
   ]
  },
  {
   "cell_type": "code",
   "execution_count": 3,
   "metadata": {
    "id": "XRvKdaPDTznN",
    "tags": []
   },
   "outputs": [
    {
     "data": {
      "text/plain": [
       "{'status': 'ok', 'restart': True}"
      ]
     },
     "execution_count": 3,
     "metadata": {},
     "output_type": "execute_result"
    }
   ],
   "source": [
    "import sys\n",
    "import IPython\n",
    "\n",
    "app = IPython.Application.instance()\n",
    "app.kernel.do_shutdown(True)"
   ]
  },
  {
   "cell_type": "markdown",
   "metadata": {
    "id": "SbmM4z7FOBpM"
   },
   "source": [
    "<div class=\"alert alert-block alert-warning\">\n",
    "<b>⚠️ The kernel is going to restart. Please wait until it is finished before continuing to the next step. ⚠️</b>\n",
    "</div>\n"
   ]
  },
  {
   "cell_type": "markdown",
   "metadata": {
    "id": "dmWOrTJ3gx13"
   },
   "source": [
    "### Authenticate your notebook environment (Colab only)\n",
    "\n",
    "If you are running this notebook on Google Colab, run the following cell to authenticate your environment.\n"
   ]
  },
  {
   "cell_type": "code",
   "execution_count": 1,
   "metadata": {
    "id": "NyKGtVQjgx13",
    "tags": []
   },
   "outputs": [],
   "source": [
    "import sys\n",
    "\n",
    "if \"google.colab\" in sys.modules:\n",
    "    from google.colab import auth\n",
    "\n",
    "    auth.authenticate_user()"
   ]
  },
  {
   "cell_type": "markdown",
   "metadata": {
    "id": "DF4l8DTdWgPY"
   },
   "source": [
    "### Set Google Cloud project information and initialize Vertex AI SDK\n",
    "\n",
    "To get started using Vertex AI, you must have an existing Google Cloud project and [enable the Vertex AI API](https://console.cloud.google.com/flows/enableapi?apiid=aiplatform.googleapis.com).\n",
    "\n",
    "Learn more about [setting up a project and a development environment](https://cloud.google.com/vertex-ai/docs/start/cloud-environment)."
   ]
  },
  {
   "cell_type": "code",
   "execution_count": 2,
   "metadata": {
    "id": "Nqwi-5ufWp_B",
    "tags": []
   },
   "outputs": [],
   "source": [
    "PROJECT_ID = \"qwiklabs-gcp-01-92978dcc88b4\"  # @param {type:\"string\"}\n",
    "LOCATION = \"us-west1\"  # @param {type:\"string\"}\n",
    "\n",
    "import vertexai\n",
    "\n",
    "vertexai.init(project=PROJECT_ID, location=LOCATION)"
   ]
  },
  {
   "cell_type": "code",
   "execution_count": null,
   "metadata": {},
   "outputs": [],
   "source": [
    "# Please like share & subscribe to Techcps\n",
    "# YouTube https://www.youtube.com/@techcps\n",
    "\n",
    "print(\"Please like share & subscribe to Techcps https://www.youtube.com/@techcps\")"
   ]
  },
  {
   "cell_type": "markdown",
   "metadata": {
    "id": "vbozY-XKee95"
   },
   "source": [
    "### Import libraries"
   ]
  },
  {
   "cell_type": "code",
   "execution_count": 3,
   "metadata": {
    "id": "NSCFmvOWBas9",
    "tags": []
   },
   "outputs": [],
   "source": [
    "from IPython.core.interactiveshell import InteractiveShell\n",
    "import IPython.display\n",
    "\n",
    "InteractiveShell.ast_node_interactivity = \"all\"\n",
    "\n",
    "from vertexai.generative_models import (\n",
    "    FunctionDeclaration,\n",
    "    GenerationConfig,\n",
    "    GenerativeModel,\n",
    "    Tool,\n",
    ")"
   ]
  },
  {
   "cell_type": "code",
   "execution_count": 4,
   "metadata": {
    "tags": []
   },
   "outputs": [],
   "source": [
    "# Define a helper function to call gemini and avoid rate limiting\n",
    "import time\n",
    "\n",
    "def call_gemini(prompt):\n",
    "    wait_time = 1\n",
    "    while True:\n",
    "        try:\n",
    "            response = model.generate_content(prompt, stream=True)\n",
    "            return response\n",
    "            break  # Exit the loop if successful\n",
    "        except Exception as e:  # Replace with the actual exception type\n",
    "            time.sleep(wait_time)\n",
    "            wait_time *= 2  # Double the wait time"
   ]
  },
  {
   "cell_type": "markdown",
   "metadata": {
    "id": "WNoOTMp2fe33"
   },
   "source": [
    "## Cloning a codebase\n",
    "\n",
    "You will use repo [Online Boutique](https://github.com/GoogleCloudPlatform/microservices-demo) as an example in this notebook. Online Boutique is a cloud-first microservices demo application. The application is a web-based e-commerce app where users can browse items, add them to the cart, and purchase them. This application consists of 11 microservices across multiple languages."
   ]
  },
  {
   "cell_type": "code",
   "execution_count": 5,
   "metadata": {
    "id": "GlDOs49qgStM",
    "tags": []
   },
   "outputs": [],
   "source": [
    "# The GitHub repository URL\n",
    "repo_url = \"https://github.com/GoogleCloudPlatform/microservices-demo\"  # @param {type:\"string\"}\n",
    "\n",
    "# The location to clone the repo\n",
    "repo_dir = \"./repo\""
   ]
  },
  {
   "cell_type": "markdown",
   "metadata": {
    "id": "PAm1ly9pfIEX"
   },
   "source": [
    "#### Define helper functions for processing GitHub repository"
   ]
  },
  {
   "cell_type": "code",
   "execution_count": 6,
   "metadata": {
    "id": "stNia6UaHau2",
    "tags": []
   },
   "outputs": [],
   "source": [
    "import os\n",
    "from pathlib import Path\n",
    "import shutil\n",
    "\n",
    "import git\n",
    "import magika\n",
    "import requests\n",
    "\n",
    "m = magika.Magika()\n",
    "\n",
    "\n",
    "def clone_repo(repo_url, repo_dir):\n",
    "    \"\"\"Clone a GitHub repository.\"\"\"\n",
    "\n",
    "    if os.path.exists(repo_dir):\n",
    "        shutil.rmtree(repo_dir)\n",
    "    os.makedirs(repo_dir)\n",
    "    git.Repo.clone_from(repo_url, repo_dir)\n",
    "\n",
    "\n",
    "def extract_code(repo_dir):\n",
    "    \"\"\"Create an index, extract content of code/text files.\"\"\"\n",
    "\n",
    "    code_index = []\n",
    "    code_text = \"\"\n",
    "    for root, _, files in os.walk(repo_dir):\n",
    "        for file in files:\n",
    "            file_path = os.path.join(root, file)\n",
    "            relative_path = os.path.relpath(file_path, repo_dir)\n",
    "            code_index.append(relative_path)\n",
    "\n",
    "            file_type = m.identify_path(Path(file_path))\n",
    "            if file_type.output.group in (\"text\", \"code\"):\n",
    "                try:\n",
    "                    with open(file_path) as f:\n",
    "                        code_text += f\"----- File: {relative_path} -----\\n\"\n",
    "                        code_text += f.read()\n",
    "                        code_text += \"\\n-------------------------\\n\"\n",
    "                except Exception:\n",
    "                    pass\n",
    "\n",
    "    return code_index, code_text\n",
    "\n",
    "\n",
    "def get_github_issue(owner: str, repo: str, issue_number: str) -> str:\n",
    "    headers = {\n",
    "        \"Accept\": \"application/vnd.github+json\",\n",
    "        \"X-GitHub-Api-Version\": \"2022-11-28\",\n",
    "    }  # Set headers for GitHub API\n",
    "\n",
    "    # Construct API URL\n",
    "    url = f\"https://api.github.com/repos/{owner}/{repo}/issues/{issue_number}\"\n",
    "\n",
    "    try:\n",
    "        response_git = requests.get(url, headers=headers)\n",
    "        response_git.raise_for_status()  # Check for HTTP errors\n",
    "    except requests.exceptions.RequestException as error:\n",
    "        print(f\"Error fetching issue: {error}\")  # Handle potential errors\n",
    "\n",
    "    issue_data = response_git.json()\n",
    "    if issue_data:\n",
    "        return issue_data[\"body\"]\n",
    "    return \"\""
   ]
  },
  {
   "cell_type": "markdown",
   "metadata": {
    "id": "m1UyVuQLuTKE"
   },
   "source": [
    "#### Create an index and extract content of a codebase\n",
    "\n",
    "Clone the repo and create an index and extract content of code/text files."
   ]
  },
  {
   "cell_type": "code",
   "execution_count": 7,
   "metadata": {
    "id": "rqaYzmNQuTKQ",
    "tags": []
   },
   "outputs": [],
   "source": [
    "clone_repo(repo_url, repo_dir)\n",
    "\n",
    "code_index, code_text = extract_code(repo_dir)"
   ]
  },
  {
   "cell_type": "markdown",
   "metadata": {
    "id": "JiVQB5SKekS0"
   },
   "source": [
    "## Analyzing the codebase with Gemini 1.5 Pro\n",
    "\n",
    "With its long-context reasoning, Gemini 1.5 Pro can process the codebase and answer questions about the codebase."
   ]
  },
  {
   "cell_type": "markdown",
   "metadata": {
    "id": "BY1nfXrqRxVX"
   },
   "source": [
    "#### Load the Gemini 1.5 Pro model\n",
    "\n",
    "Learn more about the [Gemini API models on Vertex AI](https://cloud.google.com/vertex-ai/generative-ai/docs/learn/models#gemini-models).\n"
   ]
  },
  {
   "cell_type": "code",
   "execution_count": 8,
   "metadata": {
    "id": "vB9gY3WruzK9",
    "tags": []
   },
   "outputs": [],
   "source": [
    "from vertexai.generative_models import HarmCategory, HarmBlockThreshold\n",
    "\n",
    "MODEL_ID = \"gemini-1.5-pro\"  # @param {type:\"string\"}\n",
    "\n",
    "safety_config = {\n",
    "    HarmCategory.HARM_CATEGORY_DANGEROUS_CONTENT: HarmBlockThreshold.BLOCK_NONE,\n",
    "    HarmCategory.HARM_CATEGORY_HARASSMENT: HarmBlockThreshold.BLOCK_ONLY_HIGH,\n",
    "    HarmCategory.HARM_CATEGORY_HATE_SPEECH: HarmBlockThreshold.BLOCK_ONLY_HIGH,\n",
    "    HarmCategory.HARM_CATEGORY_SEXUALLY_EXPLICIT: HarmBlockThreshold.BLOCK_ONLY_HIGH,\n",
    "}\n",
    "\n",
    "model = GenerativeModel(\n",
    "    MODEL_ID,\n",
    "    system_instruction=[\n",
    "        \"You are a coding expert.\",\n",
    "        \"Your mission is to answer all code related questions with given context and instructions.\",\n",
    "    ],\n",
    "    safety_settings=safety_config\n",
    ")"
   ]
  },
  {
   "cell_type": "markdown",
   "metadata": {
    "id": "yedKsUEEvNyb"
   },
   "source": [
    "#### Define a helper function to generate a prompt to a code related question"
   ]
  },
  {
   "cell_type": "code",
   "execution_count": 9,
   "metadata": {
    "id": "1DGzMhjCvCpj",
    "tags": []
   },
   "outputs": [],
   "source": [
    "def get_code_prompt(question):\n",
    "    \"\"\"Generates a prompt to a code related question.\"\"\"\n",
    "\n",
    "    prompt = f\"\"\"\n",
    "    Questions: {question}\n",
    "\n",
    "    Context:\n",
    "    - The entire codebase is provided below.\n",
    "    - Here is an index of all of the files in the codebase:\n",
    "      \\n\\n{code_index}\\n\\n.\n",
    "    - Then each of the files is concatenated together. You will find all of the code you need:\n",
    "      \\n\\n{code_text}\\n\\n\n",
    "\n",
    "    Answer:\n",
    "  \"\"\"\n",
    "\n",
    "    return prompt"
   ]
  },
  {
   "cell_type": "markdown",
   "metadata": {
    "id": "g3OtaszvJt9L"
   },
   "source": [
    "### 1. Summarizing the codebase\n",
    "\n",
    "\n",
    "Generate a summary of the codebase."
   ]
  },
  {
   "cell_type": "code",
   "execution_count": 10,
   "metadata": {
    "id": "uMexx1Qtf1ML",
    "tags": []
   },
   "outputs": [
    {
     "name": "stdout",
     "output_type": "stream",
     "text": [
      "\n",
      "Answer:\n",
      "```\n",
      "\n",
      "Usage metadata:\n",
      "{}\n",
      "\n",
      "Finish reason:\n",
      "0\n",
      "\n",
      "Safety settings:\n",
      "[]\n",
      "\n",
      "Answer:\n",
      "\n",
      "This codebase is a demo microservices application called \"Online Boutique\" developed\n",
      "\n",
      "Usage metadata:\n",
      "None\n",
      "\n",
      "Finish reason:\n",
      "0\n",
      "\n",
      "Safety settings:\n",
      "[category: HARM_CATEGORY_HATE_SPEECH\n",
      "probability: NEGLIGIBLE\n",
      "probability_score: 0.048828125\n",
      "severity: HARM_SEVERITY_NEGLIGIBLE\n",
      "severity_score: 0.11572265625\n",
      ", category: HARM_CATEGORY_DANGEROUS_CONTENT\n",
      "probability: NEGLIGIBLE\n",
      "probability_score: 0.12158203125\n",
      "severity: HARM_SEVERITY_NEGLIGIBLE\n",
      "severity_score: 0.08740234375\n",
      ", category: HARM_CATEGORY_HARASSMENT\n",
      "probability: NEGLIGIBLE\n",
      "probability_score: 0.11279296875\n",
      "severity: HARM_SEVERITY_NEGLIGIBLE\n",
      "severity_score: 0.06640625\n",
      ", category: HARM_CATEGORY_SEXUALLY_EXPLICIT\n",
      "probability: NEGLIGIBLE\n",
      "probability_score: 0.099609375\n",
      "severity: HARM_SEVERITY_LOW\n",
      "severity_score: 0.203125\n",
      "]\n",
      "\n",
      "Answer:\n",
      " by Google. It simulates an e-commerce website where users can browse products,\n",
      "\n",
      "Usage metadata:\n",
      "None\n",
      "\n",
      "Finish reason:\n",
      "0\n",
      "\n",
      "Safety settings:\n",
      "[category: HARM_CATEGORY_HATE_SPEECH\n",
      "probability: NEGLIGIBLE\n",
      "probability_score: 0.08154296875\n",
      "severity: HARM_SEVERITY_NEGLIGIBLE\n",
      "severity_score: 0.12890625\n",
      ", category: HARM_CATEGORY_DANGEROUS_CONTENT\n",
      "probability: NEGLIGIBLE\n",
      "probability_score: 0.06103515625\n",
      "severity: HARM_SEVERITY_NEGLIGIBLE\n",
      "severity_score: 0.0240478515625\n",
      ", category: HARM_CATEGORY_HARASSMENT\n",
      "probability: NEGLIGIBLE\n",
      "probability_score: 0.09130859375\n",
      "severity: HARM_SEVERITY_NEGLIGIBLE\n",
      "severity_score: 0.064453125\n",
      ", category: HARM_CATEGORY_SEXUALLY_EXPLICIT\n",
      "probability: NEGLIGIBLE\n",
      "probability_score: 0.13671875\n",
      "severity: HARM_SEVERITY_LOW\n",
      "severity_score: 0.2001953125\n",
      "]\n",
      "\n",
      "Answer:\n",
      " add them to their cart, and purchase them. The application is built with a microservices architecture, with 11 separate services written in various languages such as\n",
      "\n",
      "Usage metadata:\n",
      "None\n",
      "\n",
      "Finish reason:\n",
      "0\n",
      "\n",
      "Safety settings:\n",
      "[category: HARM_CATEGORY_HATE_SPEECH\n",
      "probability: NEGLIGIBLE\n",
      "probability_score: 0.0654296875\n",
      "severity: HARM_SEVERITY_LOW\n",
      "severity_score: 0.2451171875\n",
      ", category: HARM_CATEGORY_DANGEROUS_CONTENT\n",
      "probability: NEGLIGIBLE\n",
      "probability_score: 0.03955078125\n",
      "severity: HARM_SEVERITY_NEGLIGIBLE\n",
      "severity_score: 0.04345703125\n",
      ", category: HARM_CATEGORY_HARASSMENT\n",
      "probability: NEGLIGIBLE\n",
      "probability_score: 0.11279296875\n",
      "severity: HARM_SEVERITY_NEGLIGIBLE\n",
      "severity_score: 0.0517578125\n",
      ", category: HARM_CATEGORY_SEXUALLY_EXPLICIT\n",
      "probability: NEGLIGIBLE\n",
      "probability_score: 0.046630859375\n",
      "severity: HARM_SEVERITY_LOW\n",
      "severity_score: 0.2236328125\n",
      "]\n",
      "\n",
      "Answer:\n",
      " Go, C#, Python, Node.js, and Java. These services communicate with each other over gRPC using protocol buffers defined in the `./protos`\n",
      "\n",
      "Usage metadata:\n",
      "None\n",
      "\n",
      "Finish reason:\n",
      "0\n",
      "\n",
      "Safety settings:\n",
      "[category: HARM_CATEGORY_HATE_SPEECH\n",
      "probability: NEGLIGIBLE\n",
      "probability_score: 0.1533203125\n",
      "severity: HARM_SEVERITY_NEGLIGIBLE\n",
      "severity_score: 0.1787109375\n",
      ", category: HARM_CATEGORY_DANGEROUS_CONTENT\n",
      "probability: NEGLIGIBLE\n",
      "probability_score: 0.1298828125\n",
      "severity: HARM_SEVERITY_NEGLIGIBLE\n",
      "severity_score: 0.099609375\n",
      ", category: HARM_CATEGORY_HARASSMENT\n",
      "probability: NEGLIGIBLE\n",
      "probability_score: 0.1767578125\n",
      "severity: HARM_SEVERITY_NEGLIGIBLE\n",
      "severity_score: 0.0654296875\n",
      ", category: HARM_CATEGORY_SEXUALLY_EXPLICIT\n",
      "probability: NEGLIGIBLE\n",
      "probability_score: 0.058349609375\n",
      "severity: HARM_SEVERITY_NEGLIGIBLE\n",
      "severity_score: 0.15625\n",
      "]\n",
      "\n",
      "Answer:\n",
      " directory.\n",
      "\n",
      "The application includes a frontend service written in Go that serves the website. Other services handle tasks such as product catalog management, currency conversion, cart management, recommendations, payment processing, shipping, and email notifications. It also includes a\n",
      "\n",
      "Usage metadata:\n",
      "None\n",
      "\n",
      "Finish reason:\n",
      "0\n",
      "\n",
      "Safety settings:\n",
      "[category: HARM_CATEGORY_HATE_SPEECH\n",
      "probability: NEGLIGIBLE\n",
      "probability_score: 0.10986328125\n",
      "severity: HARM_SEVERITY_LOW\n",
      "severity_score: 0.203125\n",
      ", category: HARM_CATEGORY_DANGEROUS_CONTENT\n",
      "probability: NEGLIGIBLE\n",
      "probability_score: 0.1796875\n",
      "severity: HARM_SEVERITY_NEGLIGIBLE\n",
      "severity_score: 0.1845703125\n",
      ", category: HARM_CATEGORY_HARASSMENT\n",
      "probability: NEGLIGIBLE\n",
      "probability_score: 0.130859375\n",
      "severity: HARM_SEVERITY_NEGLIGIBLE\n",
      "severity_score: 0.054931640625\n",
      ", category: HARM_CATEGORY_SEXUALLY_EXPLICIT\n",
      "probability: NEGLIGIBLE\n",
      "probability_score: 0.0267333984375\n",
      "severity: HARM_SEVERITY_LOW\n",
      "severity_score: 0.2255859375\n",
      "]\n",
      "\n",
      "Answer:\n",
      " load generator to simulate user traffic. The codebase provides different deployment options, including Kubernetes manifests, Kustomize configurations, Terraform scripts, and a Helm chart.\n",
      "\n",
      "Here are three key things you can learn from this codebase:\n",
      "\n",
      "\n",
      "\n",
      "Usage metadata:\n",
      "None\n",
      "\n",
      "Finish reason:\n",
      "0\n",
      "\n",
      "Safety settings:\n",
      "[category: HARM_CATEGORY_HATE_SPEECH\n",
      "probability: NEGLIGIBLE\n",
      "probability_score: 0.1201171875\n",
      "severity: HARM_SEVERITY_LOW\n",
      "severity_score: 0.326171875\n",
      ", category: HARM_CATEGORY_DANGEROUS_CONTENT\n",
      "probability: NEGLIGIBLE\n",
      "probability_score: 0.314453125\n",
      "severity: HARM_SEVERITY_LOW\n",
      "severity_score: 0.27734375\n",
      ", category: HARM_CATEGORY_HARASSMENT\n",
      "probability: NEGLIGIBLE\n",
      "probability_score: 0.203125\n",
      "severity: HARM_SEVERITY_NEGLIGIBLE\n",
      "severity_score: 0.1298828125\n",
      ", category: HARM_CATEGORY_SEXUALLY_EXPLICIT\n",
      "probability: NEGLIGIBLE\n",
      "probability_score: 0.06103515625\n",
      "severity: HARM_SEVERITY_LOW\n",
      "severity_score: 0.3828125\n",
      "]\n",
      "\n",
      "Answer:\n",
      "1. **Microservices Architecture**: This codebase provides a practical example of designing and implementing a microservices architecture. You can learn how to break down a complex application into smaller, independent services, each with its own responsibility. You can also observe the communication patterns between services using gRPC and protocol buffers.\n",
      "\n",
      "2.\n",
      "\n",
      "Usage metadata:\n",
      "None\n",
      "\n",
      "Finish reason:\n",
      "0\n",
      "\n",
      "Safety settings:\n",
      "[category: HARM_CATEGORY_HATE_SPEECH\n",
      "probability: NEGLIGIBLE\n",
      "probability_score: 0.1591796875\n",
      "severity: HARM_SEVERITY_LOW\n",
      "severity_score: 0.23046875\n",
      ", category: HARM_CATEGORY_DANGEROUS_CONTENT\n",
      "probability: NEGLIGIBLE\n",
      "probability_score: 0.294921875\n",
      "severity: HARM_SEVERITY_LOW\n",
      "severity_score: 0.2158203125\n",
      ", category: HARM_CATEGORY_HARASSMENT\n",
      "probability: NEGLIGIBLE\n",
      "probability_score: 0.294921875\n",
      "severity: HARM_SEVERITY_NEGLIGIBLE\n",
      "severity_score: 0.1083984375\n",
      ", category: HARM_CATEGORY_SEXUALLY_EXPLICIT\n",
      "probability: NEGLIGIBLE\n",
      "probability_score: 0.10693359375\n",
      "severity: HARM_SEVERITY_LOW\n",
      "severity_score: 0.291015625\n",
      "]\n",
      "\n",
      "Answer:\n",
      " **gRPC and Protocol Buffers**: The application uses gRPC for inter-service communication. You can learn how to define service contracts using protocol buffers and generate client and server code in different languages. You can also explore how gRPC handles request/response communication and error handling.\n",
      "\n",
      "3. **Deployment and Orchestration\n",
      "\n",
      "Usage metadata:\n",
      "None\n",
      "\n",
      "Finish reason:\n",
      "0\n",
      "\n",
      "Safety settings:\n",
      "[category: HARM_CATEGORY_HATE_SPEECH\n",
      "probability: NEGLIGIBLE\n",
      "probability_score: 0.10986328125\n",
      "severity: HARM_SEVERITY_LOW\n",
      "severity_score: 0.236328125\n",
      ", category: HARM_CATEGORY_DANGEROUS_CONTENT\n",
      "probability: NEGLIGIBLE\n",
      "probability_score: 0.3203125\n",
      "severity: HARM_SEVERITY_LOW\n",
      "severity_score: 0.28125\n",
      ", category: HARM_CATEGORY_HARASSMENT\n",
      "probability: NEGLIGIBLE\n",
      "probability_score: 0.23828125\n",
      "severity: HARM_SEVERITY_NEGLIGIBLE\n",
      "severity_score: 0.08056640625\n",
      ", category: HARM_CATEGORY_SEXUALLY_EXPLICIT\n",
      "probability: NEGLIGIBLE\n",
      "probability_score: 0.0771484375\n",
      "severity: HARM_SEVERITY_LOW\n",
      "severity_score: 0.353515625\n",
      "]\n",
      "\n",
      "Answer:\n",
      "**: The codebase offers various deployment options, including Kubernetes, Kustomize, Terraform, and Helm. You can learn how to deploy and manage a microservices application on a Kubernetes cluster using these tools. You can explore how to configure service discovery, load balancing, and other deployment aspects.\n",
      "```\n",
      "\n",
      "Usage metadata:\n",
      "{'prompt_token_count': 735103, 'candidates_token_count': 382, 'total_token_count': 735485}\n",
      "\n",
      "Finish reason:\n",
      "1\n",
      "\n",
      "Safety settings:\n",
      "[category: HARM_CATEGORY_HATE_SPEECH\n",
      "probability: NEGLIGIBLE\n",
      "probability_score: 0.099609375\n",
      "severity: HARM_SEVERITY_LOW\n",
      "severity_score: 0.232421875\n",
      ", category: HARM_CATEGORY_DANGEROUS_CONTENT\n",
      "probability: NEGLIGIBLE\n",
      "probability_score: 0.294921875\n",
      "severity: HARM_SEVERITY_LOW\n",
      "severity_score: 0.2197265625\n",
      ", category: HARM_CATEGORY_HARASSMENT\n",
      "probability: NEGLIGIBLE\n",
      "probability_score: 0.23046875\n",
      "severity: HARM_SEVERITY_NEGLIGIBLE\n",
      "severity_score: 0.09423828125\n",
      ", category: HARM_CATEGORY_SEXUALLY_EXPLICIT\n",
      "probability: NEGLIGIBLE\n",
      "probability_score: 0.07080078125\n",
      "severity: HARM_SEVERITY_LOW\n",
      "severity_score: 0.33984375\n",
      "]\n"
     ]
    }
   ],
   "source": [
    "question = \"\"\"\n",
    "  Give me a summary of this codebase, and tell me the top 3 things that I can learn from it.\n",
    "\"\"\"\n",
    "\n",
    "prompt = get_code_prompt(question)\n",
    "contents = [prompt]\n",
    "\n",
    "# Generate text using non-streaming method\n",
    "responses = call_gemini(contents)\n",
    "\n",
    "for response in responses:\n",
    "  # Print generated text and usage metadata\n",
    "  print(f\"\\nAnswer:\\n{response.text}\")\n",
    "  print(f'\\nUsage metadata:\\n{response.to_dict().get(\"usage_metadata\")}')\n",
    "  print(f\"\\nFinish reason:\\n{response.candidates[0].finish_reason}\")\n",
    "  print(f\"\\nSafety settings:\\n{response.candidates[0].safety_ratings}\")"
   ]
  },
  {
   "cell_type": "markdown",
   "metadata": {
    "id": "aCshJHPCYoxI"
   },
   "source": [
    "### 2. Creating a developer getting started guide\n",
    "\n",
    "Generate a getting started guide for developers. This sample uses the streaming option to generate the content."
   ]
  },
  {
   "cell_type": "code",
   "execution_count": 11,
   "metadata": {
    "id": "e6Kns7vCYm1P",
    "tags": []
   },
   "outputs": [
    {
     "data": {
      "text/markdown": [
       "```"
      ],
      "text/plain": [
       "<IPython.core.display.Markdown object>"
      ]
     },
     "execution_count": 11,
     "metadata": {},
     "output_type": "execute_result"
    },
    {
     "data": {
      "text/markdown": [
       "\n",
       "## Onboarding Guide for New Developers to the Online Boutique Codebase\n",
       "\n",
       "Welcome"
      ],
      "text/plain": [
       "<IPython.core.display.Markdown object>"
      ]
     },
     "execution_count": 11,
     "metadata": {},
     "output_type": "execute_result"
    },
    {
     "data": {
      "text/markdown": [
       " to the Online Boutique microservices demo application! This guide will help you get started"
      ],
      "text/plain": [
       "<IPython.core.display.Markdown object>"
      ]
     },
     "execution_count": 11,
     "metadata": {},
     "output_type": "execute_result"
    },
    {
     "data": {
      "text/markdown": [
       " with the codebase.\n",
       "\n",
       "**1. Understand the Architecture**\n",
       "\n",
       "Online Boutique is a cloud-native microservices demo application, demonstrating how to modernize enterprise applications"
      ],
      "text/plain": [
       "<IPython.core.display.Markdown object>"
      ]
     },
     "execution_count": 11,
     "metadata": {},
     "output_type": "execute_result"
    },
    {
     "data": {
      "text/markdown": [
       " using Google Cloud and other cloud-agnostic tools. It consists of 11 microservices written in various languages, communicating over gRPC.\n",
       "\n",
       "- **"
      ],
      "text/plain": [
       "<IPython.core.display.Markdown object>"
      ]
     },
     "execution_count": 11,
     "metadata": {},
     "output_type": "execute_result"
    },
    {
     "data": {
      "text/markdown": [
       "Architecture Diagram:** Refer to the architecture diagram in the root `README.md` file to visualize the relationships between services.\n",
       "- **Protocol Buffers:** Find the Protocol Buffer descriptions in the `./protos` directory. These define the service"
      ],
      "text/plain": [
       "<IPython.core.display.Markdown object>"
      ]
     },
     "execution_count": 11,
     "metadata": {},
     "output_type": "execute_result"
    },
    {
     "data": {
      "text/markdown": [
       " interfaces and data structures.\n",
       "\n",
       "**2. Explore the Codebase**\n",
       "\n",
       "The code for each microservice is located in the `./src` directory, organized by service name. Each service has its own README with instructions for local development and"
      ],
      "text/plain": [
       "<IPython.core.display.Markdown object>"
      ]
     },
     "execution_count": 11,
     "metadata": {},
     "output_type": "execute_result"
    },
    {
     "data": {
      "text/markdown": [
       " testing.\n",
       "\n",
       "- **Key Services:**\n",
       "    - `frontend`: (Go) The web frontend, providing the user interface.\n",
       "    - `cartservice`: (C#) Manages shopping carts, typically backed by Redis.\n",
       "    - `productcatalogservice`: (Go) Provides product information, reading from a"
      ],
      "text/plain": [
       "<IPython.core.display.Markdown object>"
      ]
     },
     "execution_count": 11,
     "metadata": {},
     "output_type": "execute_result"
    },
    {
     "data": {
      "text/markdown": [
       " JSON file or AlloyDB.\n",
       "    - `recommendationservice`: (Python) Offers product recommendations based on cart contents.\n",
       "    - `checkoutservice`: (Go) Orchestrates the checkout process, including payments, shipping, and notifications.\n",
       "\n",
       "**3. Deployment Options**\n",
       "\n",
       "Online Boutique offers flexibility in deployment."
      ],
      "text/plain": [
       "<IPython.core.display.Markdown object>"
      ]
     },
     "execution_count": 11,
     "metadata": {},
     "output_type": "execute_result"
    },
    {
     "data": {
      "text/markdown": [
       " You can deploy using:\n",
       "\n",
       "- **Kubernetes:** The `./release/kubernetes-manifests.yaml` file contains manifests for deployment to Kubernetes.\n",
       "- **Kustomize:** The `./kustomize` directory provides Kustomize configurations for deploying various customizations, including Istio integration, alternative databases, and"
      ],
      "text/plain": [
       "<IPython.core.display.Markdown object>"
      ]
     },
     "execution_count": 11,
     "metadata": {},
     "output_type": "execute_result"
    },
    {
     "data": {
      "text/markdown": [
       " branding changes.\n",
       "- **Terraform:** The `./terraform` directory has Terraform scripts for provisioning a GKE cluster and deploying the application.\n",
       "\n",
       "**4. Local Development**\n",
       "\n",
       "You can develop and test individual services locally using Docker. The `./skaffold.yaml` file helps to streamline local development with"
      ],
      "text/plain": [
       "<IPython.core.display.Markdown object>"
      ]
     },
     "execution_count": 11,
     "metadata": {},
     "output_type": "execute_result"
    },
    {
     "data": {
      "text/markdown": [
       " Skaffold, a tool for building and deploying applications.\n",
       "\n",
       "- **Development Guide:** Refer to `./docs/development-guide.md` for detailed instructions on setting up your local environment.\n",
       "\n",
       "**5. Testing**\n",
       "\n",
       "Unit tests are provided for each microservice. You can run these tests locally before submitting any"
      ],
      "text/plain": [
       "<IPython.core.display.Markdown object>"
      ]
     },
     "execution_count": 11,
     "metadata": {},
     "output_type": "execute_result"
    },
    {
     "data": {
      "text/markdown": [
       " changes.\n",
       "\n",
       "- **Test Scenarios:**  Explore the `./kustomize/tests` directory for examples of different Kustomize configurations used for testing.\n",
       "\n",
       "**6. Contribute**\n",
       "\n",
       "- **Contribution Guide:** Before contributing, read the `./.github/CONTRIBUTING.md` file for guidelines and the"
      ],
      "text/plain": [
       "<IPython.core.display.Markdown object>"
      ]
     },
     "execution_count": 11,
     "metadata": {},
     "output_type": "execute_result"
    },
    {
     "data": {
      "text/markdown": [
       " contribution process.\n",
       "- **Pull Requests:** Submit your changes as pull requests to the main branch.\n",
       "\n",
       "**7. Resources**\n",
       "\n",
       "- **README:** The root `README.md` file is your starting point for understanding Online Boutique.\n",
       "- **Documentation:**  The `./docs` directory contains additional documentation,"
      ],
      "text/plain": [
       "<IPython.core.display.Markdown object>"
      ]
     },
     "execution_count": 11,
     "metadata": {},
     "output_type": "execute_result"
    },
    {
     "data": {
      "text/markdown": [
       " including development guides, deployment options, and release instructions.\n",
       "- **GitHub Issues:** Use GitHub issues for bug reports, feature requests, or questions.\n",
       "\n",
       "We encourage you to dive into the code, experiment with different deployment options, and contribute to making Online Boutique even better!\n",
       "```"
      ],
      "text/plain": [
       "<IPython.core.display.Markdown object>"
      ]
     },
     "execution_count": 11,
     "metadata": {},
     "output_type": "execute_result"
    }
   ],
   "source": [
    "question = \"\"\"\n",
    "  Provide a getting started guide to onboard new developers to the codebase.\n",
    "\"\"\"\n",
    "\n",
    "prompt = get_code_prompt(question)\n",
    "contents = [prompt]\n",
    "\n",
    "responses = call_gemini(contents)\n",
    "for response in responses:\n",
    "    IPython.display.Markdown(response.text)"
   ]
  },
  {
   "cell_type": "markdown",
   "metadata": {
    "id": "hXurINu-jelb"
   },
   "source": [
    "### 3. Finding bugs\n",
    "\n",
    "Find the top 3 most severe issues in the codebase."
   ]
  },
  {
   "cell_type": "code",
   "execution_count": 12,
   "metadata": {
    "id": "fy3AWPRgNhu_",
    "tags": []
   },
   "outputs": [
    {
     "data": {
      "text/markdown": [
       "```"
      ],
      "text/plain": [
       "<IPython.core.display.Markdown object>"
      ]
     },
     "execution_count": 12,
     "metadata": {},
     "output_type": "execute_result"
    },
    {
     "data": {
      "text/markdown": [
       "python\n",
       "    Questions: \n",
       "  Find the top 3 most severe issues"
      ],
      "text/plain": [
       "<IPython.core.display.Markdown object>"
      ]
     },
     "execution_count": 12,
     "metadata": {},
     "output_type": "execute_result"
    },
    {
     "data": {
      "text/markdown": [
       " in the codebase.\n",
       "\n",
       "\n",
       "    Context:\n",
       "    - The entire codebase"
      ],
      "text/plain": [
       "<IPython.core.display.Markdown object>"
      ]
     },
     "execution_count": 12,
     "metadata": {},
     "output_type": "execute_result"
    },
    {
     "data": {
      "text/markdown": [
       " is provided below.\n",
       "    - Here is an index of all of the files in the codebase:\n",
       "      \n",
       "\n",
       "['README.md', '.gitattributes"
      ],
      "text/plain": [
       "<IPython.core.display.Markdown object>"
      ]
     },
     "execution_count": 12,
     "metadata": {},
     "output_type": "execute_result"
    },
    {
     "data": {
      "text/markdown": [
       "', '.gitignore', 'skaffold.yaml', 'cloudbuild.yaml', '.editorconfig', 'LICENSE', 'docs/product-requirements.md"
      ],
      "text/plain": [
       "<IPython.core.display.Markdown object>"
      ]
     },
     "execution_count": 12,
     "metadata": {},
     "output_type": "execute_result"
    },
    {
     "data": {
      "text/markdown": [
       "', 'docs/purpose.md', 'docs/deploystack.md', 'docs/development-guide.md', 'docs/cloudshell-tutorial.md', 'docs/img/memorystore.png', 'docs/"
      ],
      "text/plain": [
       "<IPython.core.display.Markdown object>"
      ]
     },
     "execution_count": 12,
     "metadata": {},
     "output_type": "execute_result"
    },
    {
     "data": {
      "text/markdown": [
       "img/online-boutique-frontend-2.png', 'docs/img/online-boutique-frontend-1.png', 'docs/img/architecture-diagram.png', 'docs/releasing/make-helm-chart"
      ],
      "text/plain": [
       "<IPython.core.display.Markdown object>"
      ]
     },
     "execution_count": 12,
     "metadata": {},
     "output_type": "execute_result"
    },
    {
     "data": {
      "text/markdown": [
       ".sh', 'docs/releasing/README.md', 'docs/releasing/make-release.sh', 'docs/releasing/license_header.txt', 'docs/releasing/make-docker-images.sh', 'docs/releasing/make-release-artifacts.sh', '.deploystack/"
      ],
      "text/plain": [
       "<IPython.core.display.Markdown object>"
      ]
     },
     "execution_count": 12,
     "metadata": {},
     "output_type": "execute_result"
    },
    {
     "data": {
      "text/markdown": [
       "test', '.deploystack/test.yaml', '.deploystack/deploystack.yaml', '.deploystack/messages/description.txt', '.deploystack/messages/success.txt', '.deploystack/scripts/preinit.sh', 'helm-chart/README.md', 'helm-chart/"
      ],
      "text/plain": [
       "<IPython.core.display.Markdown object>"
      ]
     },
     "execution_count": 12,
     "metadata": {},
     "output_type": "execute_result"
    },
    {
     "data": {
      "text/markdown": [
       "Chart.yaml', 'helm-chart/values.yaml', 'helm-chart/templates/common.yaml', 'helm-chart/templates/cartservice.yaml', 'helm-chart/templates/productcatalogservice.yaml', 'helm-chart/templates/recommendationservice.yaml', 'helm-"
      ],
      "text/plain": [
       "<IPython.core.display.Markdown object>"
      ]
     },
     "execution_count": 12,
     "metadata": {},
     "output_type": "execute_result"
    },
    {
     "data": {
      "text/markdown": [
       "chart/templates/emailservice.yaml', 'helm-chart/templates/frontend.yaml', 'helm-chart/templates/shippingservice.yaml', 'helm-chart/templates/currencyservice.yaml', 'helm-chart/templates/adservice.yaml', 'helm-chart/"
      ],
      "text/plain": [
       "<IPython.core.display.Markdown object>"
      ]
     },
     "execution_count": 12,
     "metadata": {},
     "output_type": "execute_result"
    },
    {
     "data": {
      "text/markdown": [
       "templates/NOTES.txt', 'helm-chart/templates/opentelemetry-collector.yaml', 'helm-chart/templates/loadgenerator.yaml', 'helm-chart/templates/paymentservice.yaml', 'helm-chart/templates/checkoutservice.yaml', 'terraform/README."
      ],
      "text/plain": [
       "<IPython.core.display.Markdown object>"
      ]
     },
     "execution_count": 12,
     "metadata": {},
     "output_type": "execute_result"
    },
    {
     "data": {
      "text/markdown": [
       "md', 'terraform/providers.tf', 'terraform/variables.tf', 'terraform/memorystore.tf', 'terraform/terraform.tfvars', 'terraform/output.tf', 'terraform/main.tf', '.git/packed-refs', '.git/index', '.git/HEAD', '."
      ],
      "text/plain": [
       "<IPython.core.display.Markdown object>"
      ]
     },
     "execution_count": 12,
     "metadata": {},
     "output_type": "execute_result"
    },
    {
     "data": {
      "text/markdown": [
       "git/description', '.git/config', '.git/info/exclude', '.git/hooks/pre-merge-commit.sample', '.git/hooks/push-to-checkout.sample', '.git/hooks/pre-receive.sample', '.git/hooks/prepare-commit-msg."
      ],
      "text/plain": [
       "<IPython.core.display.Markdown object>"
      ]
     },
     "execution_count": 12,
     "metadata": {},
     "output_type": "execute_result"
    },
    {
     "data": {
      "text/markdown": [
       "sample', '.git/hooks/applypatch-msg.sample', '.git/hooks/post-update.sample', '.git/hooks/pre-push.sample', '.git/hooks/commit-msg.sample', '.git/hooks/pre-applypatch.sample', '.git/hooks/"
      ],
      "text/plain": [
       "<IPython.core.display.Markdown object>"
      ]
     },
     "execution_count": 12,
     "metadata": {},
     "output_type": "execute_result"
    },
    {
     "data": {
      "text/markdown": [
       "pre-rebase.sample', '.git/hooks/fsmonitor-watchman.sample', '.git/hooks/update.sample', '.git/hooks/pre-commit.sample', '.git/refs/remotes/origin/HEAD', '.git/refs/heads/main', '.git/"
      ],
      "text/plain": [
       "<IPython.core.display.Markdown object>"
      ]
     },
     "execution_count": 12,
     "metadata": {},
     "output_type": "execute_result"
    },
    {
     "data": {
      "text/markdown": [
       "objects/pack/pack-de35fbfd30b83ba9a60aae334c888243b055d8ec.idx', '.git/objects/pack/pack-de35fbfd30b83ba9"
      ],
      "text/plain": [
       "<IPython.core.display.Markdown object>"
      ]
     },
     "execution_count": 12,
     "metadata": {},
     "output_type": "execute_result"
    },
    {
     "data": {
      "text/markdown": [
       "a60aae334c888243b055d8ec.pack', '.git/logs/HEAD', '.git/logs/refs/remotes/origin/HEAD', '.git/logs/refs/heads/main', 'istio-manifests/"
      ],
      "text/plain": [
       "<IPython.core.display.Markdown object>"
      ]
     },
     "execution_count": 12,
     "metadata": {},
     "output_type": "execute_result"
    },
    {
     "data": {
      "text/markdown": [
       "frontend-gateway.yaml', 'istio-manifests/frontend.yaml', 'istio-manifests/allow-egress-googleapis.yaml', 'protos/demo.proto', 'protos/grpc/health/v1/health.proto', 'kubernetes-manifests/README.md',"
      ],
      "text/plain": [
       "<IPython.core.display.Markdown object>"
      ]
     },
     "execution_count": 12,
     "metadata": {},
     "output_type": "execute_result"
    },
    {
     "data": {
      "text/markdown": [
       " 'kubernetes-manifests/cartservice.yaml', 'kubernetes-manifests/productcatalogservice.yaml', 'kubernetes-manifests/kustomization.yaml', 'kubernetes-manifests/recommendationservice.yaml', 'kubernetes-manifests/emailservice.yaml', 'kubernetes-manifests/frontend"
      ],
      "text/plain": [
       "<IPython.core.display.Markdown object>"
      ]
     },
     "execution_count": 12,
     "metadata": {},
     "output_type": "execute_result"
    },
    {
     "data": {
      "text/markdown": [
       ".yaml', 'kubernetes-manifests/shippingservice.yaml', 'kubernetes-manifests/currencyservice.yaml', 'kubernetes-manifests/adservice.yaml', 'kubernetes-manifests/loadgenerator.yaml', 'kubernetes-manifests/paymentservice.yaml', 'kubernetes-"
      ],
      "text/plain": [
       "<IPython.core.display.Markdown object>"
      ]
     },
     "execution_count": 12,
     "metadata": {},
     "output_type": "execute_result"
    },
    {
     "data": {
      "text/markdown": [
       "manifests/checkoutservice.yaml', 'kustomize/README.md', 'kustomize/kustomization.yaml', 'kustomize/components/cymbal-branding/README.md', 'kustomize/components/cymbal-branding/kustomization.yaml', '"
      ],
      "text/plain": [
       "<IPython.core.display.Markdown object>"
      ]
     },
     "execution_count": 12,
     "metadata": {},
     "output_type": "execute_result"
    },
    {
     "data": {
      "text/markdown": [
       "kustomize/components/container-images-tag/README.md', 'kustomize/components/container-images-tag/kustomization.yaml', 'kustomize/components/container-images-registry/README.md', 'kustomize/components/container-images-registry"
      ],
      "text/plain": [
       "<IPython.core.display.Markdown object>"
      ]
     },
     "execution_count": 12,
     "metadata": {},
     "output_type": "execute_result"
    },
    {
     "data": {
      "text/markdown": [
       "/kustomization.yaml', 'kustomize/components/spanner/README.md', 'kustomize/components/spanner/kustomization.yaml', 'kustomize/components/single-shared-session/README.md', 'kustomize/components/single-shared"
      ],
      "text/plain": [
       "<IPython.core.display.Markdown object>"
      ]
     },
     "execution_count": 12,
     "metadata": {},
     "output_type": "execute_result"
    },
    {
     "data": {
      "text/markdown": [
       "-session/kustomization.yaml', 'kustomize/components/container-images-tag-suffix/README.md', 'kustomize/components/container-images-tag-suffix/kustomization.yaml', 'kustomize/components/network-policies/README.md',"
      ],
      "text/plain": [
       "<IPython.core.display.Markdown object>"
      ]
     },
     "execution_count": 12,
     "metadata": {},
     "output_type": "execute_result"
    },
    {
     "data": {
      "text/markdown": [
       " 'kustomize/components/network-policies/network-policy-shippingservice.yaml', 'kustomize/components/network-policies/network-policy-adservice.yaml', 'kustomize/components/network-policies/network-policy-currencyservice.yaml', '"
      ],
      "text/plain": [
       "<IPython.core.display.Markdown object>"
      ]
     },
     "execution_count": 12,
     "metadata": {},
     "output_type": "execute_result"
    },
    {
     "data": {
      "text/markdown": [
       "kustomize/components/network-policies/kustomization.yaml', 'kustomize/components/network-policies/network-policy-productcatalogservice.yaml', 'kustomize/components/network-policies/network-policy-cartservice.yaml', 'kustomize/components/"
      ],
      "text/plain": [
       "<IPython.core.display.Markdown object>"
      ]
     },
     "execution_count": 12,
     "metadata": {},
     "output_type": "execute_result"
    },
    {
     "data": {
      "text/markdown": [
       "network-policies/network-policy-paymentservice.yaml', 'kustomize/components/network-policies/network-policy-loadgenerator.yaml', 'kustomize/components/network-policies/network-policy-redis.yaml', 'kustomize/components/network-policies/network"
      ],
      "text/plain": [
       "<IPython.core.display.Markdown object>"
      ]
     },
     "execution_count": 12,
     "metadata": {},
     "output_type": "execute_result"
    },
    {
     "data": {
      "text/markdown": [
       "-policy-deny-all.yaml', 'kustomize/components/network-policies/network-policy-recommendationservice.yaml', 'kustomize/components/network-policies/network-policy-frontend.yaml', 'kustomize/components/network-policies/network-policy-check"
      ],
      "text/plain": [
       "<IPython.core.display.Markdown object>"
      ]
     },
     "execution_count": 12,
     "metadata": {},
     "output_type": "execute_result"
    },
    {
     "data": {
      "text/markdown": [
       "outservice.yaml', 'kustomize/components/network-policies/network-policy-emailservice.yaml', 'kustomize/components/google-cloud-operations/README.md', 'kustomize/components/google-cloud-operations/collector-model.png', 'kustom"
      ],
      "text/plain": [
       "<IPython.core.display.Markdown object>"
      ]
     },
     "execution_count": 12,
     "metadata": {},
     "output_type": "execute_result"
    },
    {
     "data": {
      "text/markdown": [
       "ize/components/google-cloud-operations/kustomization.yaml', 'kustomize/components/google-cloud-operations/otel-collector.yaml', 'kustomize/components/memorystore/README.md', 'kustomize/components/memorystore/kustomization.yaml"
      ],
      "text/plain": [
       "<IPython.core.display.Markdown object>"
      ]
     },
     "execution_count": 12,
     "metadata": {},
     "output_type": "execute_result"
    },
    {
     "data": {
      "text/markdown": [
       "', 'kustomize/components/without-loadgenerator/README.md', 'kustomize/components/without-loadgenerator/kustomization.yaml', 'kustomize/components/without-loadgenerator/delete-loadgenerator.patch.yaml', 'kustomize/components/non"
      ],
      "text/plain": [
       "<IPython.core.display.Markdown object>"
      ]
     },
     "execution_count": 12,
     "metadata": {},
     "output_type": "execute_result"
    },
    {
     "data": {
      "text/markdown": [
       "-public-frontend/README.md', 'kustomize/components/non-public-frontend/kustomization.yaml', 'kustomize/components/alloydb/README.md', 'kustomize/components/alloydb/kustomization.yaml', 'kustomize/components"
      ],
      "text/plain": [
       "<IPython.core.display.Markdown object>"
      ]
     },
     "execution_count": 12,
     "metadata": {},
     "output_type": "execute_result"
    },
    {
     "data": {
      "text/markdown": [
       "/custom-base-url/README.md', 'kustomize/components/custom-base-url/kustomization.yaml', 'kustomize/components/service-mesh-istio/README.md', 'kustomize/components/service-mesh-istio/kustom"
      ],
      "text/plain": [
       "<IPython.core.display.Markdown object>"
      ]
     },
     "execution_count": 12,
     "metadata": {},
     "output_type": "execute_result"
    },
    {
     "data": {
      "text/markdown": [
       "ization.yaml', 'kustomize/components/service-mesh-istio/frontend-gateway.yaml', 'kustomize/components/service-mesh-istio/frontend.yaml', 'kustomize/components/service-mesh-istio/allow-egress-googleapis.yaml"
      ],
      "text/plain": [
       "<IPython.core.display.Markdown object>"
      ]
     },
     "execution_count": 12,
     "metadata": {},
     "output_type": "execute_result"
    },
    {
     "data": {
      "text/markdown": [
       "', 'kustomize/components/shopping-assistant/README.md', 'kustomize/components/shopping-assistant/kustomization.yaml', 'kustomize/components/shopping-assistant/shoppingassistantservice.yaml', 'kustomize/components/shopping-assistant/scripts/"
      ],
      "text/plain": [
       "<IPython.core.display.Markdown object>"
      ]
     },
     "execution_count": 12,
     "metadata": {},
     "output_type": "execute_result"
    },
    {
     "data": {
      "text/markdown": [
       "2_create_populate_alloydb_tables.sh', 'kustomize/components/shopping-assistant/scripts/1_deploy_alloydb_infra.sh', 'kustomize/components/shopping-assistant/scripts/generate_sql_from_products.py', 'kustomize"
      ],
      "text/plain": [
       "<IPython.core.display.Markdown object>"
      ]
     },
     "execution_count": 12,
     "metadata": {},
     "output_type": "execute_result"
    },
    {
     "data": {
      "text/markdown": [
       "/tests/README.md', 'kustomize/tests/memorystore-with-all-components/kustomization.yaml', 'kustomize/tests/service-mesh-istio-with-all-components/kustomization.yaml', 'kustomize/tests/spanner"
      ],
      "text/plain": [
       "<IPython.core.display.Markdown object>"
      ]
     },
     "execution_count": 12,
     "metadata": {},
     "output_type": "execute_result"
    },
    {
     "data": {
      "text/markdown": [
       "-with-all-components/kustomization.yaml', 'kustomize/base/cartservice.yaml', 'kustomize/base/productcatalogservice.yaml', 'kustomize/base/kustomization.yaml', 'kustomize/base/recommendationservice.yaml', '"
      ],
      "text/plain": [
       "<IPython.core.display.Markdown object>"
      ]
     },
     "execution_count": 12,
     "metadata": {},
     "output_type": "execute_result"
    },
    {
     "data": {
      "text/markdown": [
       "kustomize/base/emailservice.yaml', 'kustomize/base/frontend.yaml', 'kustomize/base/shippingservice.yaml', 'kustomize/base/currencyservice.yaml', 'kustomize/base/adservice.yaml', 'kustom"
      ],
      "text/plain": [
       "<IPython.core.display.Markdown object>"
      ]
     },
     "execution_count": 12,
     "metadata": {},
     "output_type": "execute_result"
    },
    {
     "data": {
      "text/markdown": [
       "ize/base/loadgenerator.yaml', 'kustomize/base/paymentservice.yaml', 'kustomize/base/checkoutservice.yaml', '.github/snippet-bot.yml', '.github/pull_request_template.md', '.github/CODEOWNERS', '.github/"
      ],
      "text/plain": [
       "<IPython.core.display.Markdown object>"
      ]
     },
     "execution_count": 12,
     "metadata": {},
     "output_type": "execute_result"
    },
    {
     "data": {
      "text/markdown": [
       "renovate.json5', '.github/header-checker-lint.yml', '.github/CODE_OF_CONDUCT.md', '.github/SECURITY.md', '.github/auto-approve.yml', '.github/CONTRIBUTING.md', '.github/release-cluster/README.md',"
      ],
      "text/plain": [
       "<IPython.core.display.Markdown object>"
      ]
     },
     "execution_count": 12,
     "metadata": {},
     "output_type": "execute_result"
    },
    {
     "data": {
      "text/markdown": [
       " '.github/release-cluster/frontend-config.yaml', '.github/release-cluster/frontend-service.yaml', '.github/release-cluster/backend-config.yaml', '.github/release-cluster/frontend-ingress.yaml', '.github/release-cluster/managed-cert.yaml"
      ],
      "text/plain": [
       "<IPython.core.display.Markdown object>"
      ]
     },
     "execution_count": 12,
     "metadata": {},
     "output_type": "execute_result"
    },
    {
     "data": {
      "text/markdown": [
       "', '.github/workflows/README.md', '.github/workflows/kubevious-manifests-ci.yaml', '.github/workflows/ci-main.yaml', '.github/workflows/kustomize-build-ci.yaml', '.github/workflows/terraform-validate"
      ],
      "text/plain": [
       "<IPython.core.display.Markdown object>"
      ]
     },
     "execution_count": 12,
     "metadata": {},
     "output_type": "execute_result"
    },
    {
     "data": {
      "text/markdown": [
       "-ci.yaml', '.github/workflows/ci-pr.yaml', '.github/workflows/helm-chart-ci.yaml', '.github/workflows/cleanup.yaml', '.github/workflows/install-dependencies.sh', '.github/terraform/README.md', '.github"
      ],
      "text/plain": [
       "<IPython.core.display.Markdown object>"
      ]
     },
     "execution_count": 12,
     "metadata": {},
     "output_type": "execute_result"
    },
    {
     "data": {
      "text/markdown": [
       "/terraform/versions.tf', '.github/terraform/variables.tf', '.github/terraform/main.tf', '.github/ISSUE_TEMPLATE/feature-request.md', '.github/ISSUE_TEMPLATE/bug-report.md', '.github/ISSUE_TEMPLATE/other.md', 'release"
      ],
      "text/plain": [
       "<IPython.core.display.Markdown object>"
      ]
     },
     "execution_count": 12,
     "metadata": {},
     "output_type": "execute_result"
    },
    {
     "data": {
      "text/markdown": [
       "/kubernetes-manifests.yaml', 'release/istio-manifests.yaml', 'src/shoppingassistantservice/Dockerfile', 'src/shoppingassistantservice/shoppingassistantservice.py', 'src/shoppingassistantservice/requirements.txt', 'src/shoppingassistantservice"
      ],
      "text/plain": [
       "<IPython.core.display.Markdown object>"
      ]
     },
     "execution_count": 12,
     "metadata": {},
     "output_type": "execute_result"
    },
    {
     "data": {
      "text/markdown": [
       "/requirements.in', 'src/emailservice/demo_pb2_grpc.py', 'src/emailservice/demo_pb2.py', 'src/emailservice/email_server.py', 'src/emailservice/logger.py', 'src/emailservice/Dockerfile',"
      ],
      "text/plain": [
       "<IPython.core.display.Markdown object>"
      ]
     },
     "execution_count": 12,
     "metadata": {},
     "output_type": "execute_result"
    },
    {
     "data": {
      "text/markdown": [
       " 'src/emailservice/requirements.txt', 'src/emailservice/email_client.py', 'src/emailservice/genproto.sh', 'src/emailservice/requirements.in', 'src/emailservice/templates/confirmation.html', 'src/frontend/README.md',"
      ],
      "text/plain": [
       "<IPython.core.display.Markdown object>"
      ]
     },
     "execution_count": 12,
     "metadata": {},
     "output_type": "execute_result"
    },
    {
     "data": {
      "text/markdown": [
       " 'src/frontend/deployment_details.go', 'src/frontend/main.go', 'src/frontend/go.sum', 'src/frontend/middleware.go', 'src/frontend/Dockerfile', 'src/frontend/.dockerignore', 'src/frontend/packaging_info.go"
      ],
      "text/plain": [
       "<IPython.core.display.Markdown object>"
      ]
     },
     "execution_count": 12,
     "metadata": {},
     "output_type": "execute_result"
    },
    {
     "data": {
      "text/markdown": [
       "', 'src/frontend/handlers.go', 'src/frontend/rpc.go', 'src/frontend/genproto.sh', 'src/frontend/go.mod', 'src/frontend/.gitkeep', 'src/frontend/validator/validator.go', 'src/frontend/validator/"
      ],
      "text/plain": [
       "<IPython.core.display.Markdown object>"
      ]
     },
     "execution_count": 12,
     "metadata": {},
     "output_type": "execute_result"
    },
    {
     "data": {
      "text/markdown": [
       "validator_test.go', 'src/frontend/templates/recommendations.html', 'src/frontend/templates/product.html', 'src/frontend/templates/order.html', 'src/frontend/templates/home.html', 'src/frontend/templates/ad.html', 'src/"
      ],
      "text/plain": [
       "<IPython.core.display.Markdown object>"
      ]
     },
     "execution_count": 12,
     "metadata": {},
     "output_type": "execute_result"
    },
    {
     "data": {
      "text/markdown": [
       "frontend/templates/assistant.html', 'src/frontend/templates/footer.html', 'src/frontend/templates/cart.html', 'src/frontend/templates/header.html', 'src/frontend/templates/error.html', 'src/frontend/static/favicon.ico', '"
      ],
      "text/plain": [
       "<IPython.core.display.Markdown object>"
      ]
     },
     "execution_count": 12,
     "metadata": {},
     "output_type": "execute_result"
    },
    {
     "data": {
      "text/markdown": [
       "src/frontend/static/favicon-cymbal.ico', 'src/frontend/static/styles/cart.css', 'src/frontend/static/styles/order.css', 'src/frontend/static/styles/styles.css', 'src/frontend/static/styles/bot.css"
      ],
      "text/plain": [
       "<IPython.core.display.Markdown object>"
      ]
     },
     "execution_count": 12,
     "metadata": {},
     "output_type": "execute_result"
    },
    {
     "data": {
      "text/markdown": [
       "', 'src/frontend/static/img/products/watch.jpg', 'src/frontend/static/img/products/salt-and-pepper-shakers.jpg', 'src/frontend/static/img/products/mug.jpg', 'src/frontend/static/img/products/"
      ],
      "text/plain": [
       "<IPython.core.display.Markdown object>"
      ]
     },
     "execution_count": 12,
     "metadata": {},
     "output_type": "execute_result"
    },
    {
     "data": {
      "text/markdown": [
       "loafers.jpg', 'src/frontend/static/img/products/hairdryer.jpg', 'src/frontend/static/img/products/tank-top.jpg', 'src/frontend/static/img/products/candle-holder.jpg', 'src/frontend/static/"
      ],
      "text/plain": [
       "<IPython.core.display.Markdown object>"
      ]
     },
     "execution_count": 12,
     "metadata": {},
     "output_type": "execute_result"
    },
    {
     "data": {
      "text/markdown": [
       "img/products/sunglasses.jpg', 'src/frontend/static/img/products/bamboo-glass-jar.jpg', 'src/frontend/static/images/HeroBannerImage.png', 'src/frontend/static/images/credits.txt', 'src/frontend/static/images"
      ],
      "text/plain": [
       "<IPython.core.display.Markdown object>"
      ]
     },
     "execution_count": 12,
     "metadata": {},
     "output_type": "execute_result"
    },
    {
     "data": {
      "text/markdown": [
       "/Advert2BannerImage.png', 'src/frontend/static/images/AdvertBannerImage.png', 'src/frontend/static/images/HeroBannerImage2.png', 'src/frontend/static/images/folded-clothes-on-white-chair.jpg', 'src/frontend"
      ],
      "text/plain": [
       "<IPython.core.display.Markdown object>"
      ]
     },
     "execution_count": 12,
     "metadata": {},
     "output_type": "execute_result"
    },
    {
     "data": {
      "text/markdown": [
       "/static/images/folded-clothes-on-white-chair-wide.jpg', 'src/frontend/static/images/VRHeadsets.png', 'src/frontend/static/icons/Hipster_YoutubeIcon.svg', 'src/frontend/static/icons/Hipster_Profile"
      ],
      "text/plain": [
       "<IPython.core.display.Markdown object>"
      ]
     },
     "execution_count": 12,
     "metadata": {},
     "output_type": "execute_result"
    },
    {
     "data": {
      "text/markdown": [
       "Icon.svg', 'src/frontend/static/icons/Hipster_WandIcon.svg', 'src/frontend/static/icons/Hipster_UpDownControl.svg', 'src/frontend/static/icons/Hipster_SearchIcon.svg', 'src/frontend/static/icons/"
      ],
      "text/plain": [
       "<IPython.core.display.Markdown object>"
      ]
     },
     "execution_count": 12,
     "metadata": {},
     "output_type": "execute_result"
    },
    {
     "data": {
      "text/markdown": [
       "Hipster_CheckOutIcon.svg', 'src/frontend/static/icons/Hipster_Advert2.svg', 'src/frontend/static/icons/Hipster_DownArrow.svg', 'src/frontend/static/icons/Cymbal_NavLogo.svg', 'src/frontend"
      ],
      "text/plain": [
       "<IPython.core.display.Markdown object>"
      ]
     },
     "execution_count": 12,
     "metadata": {},
     "output_type": "execute_result"
    },
    {
     "data": {
      "text/markdown": [
       "/static/icons/Hipster_GooglePlayIcon.svg', 'src/frontend/static/icons/Hipster_CurrencyIcon.svg', 'src/frontend/static/icons/Hipster_KitchenwareOffer.svg', 'src/frontend/static/icons/Hipster_HeroLogoMar"
      ],
      "text/plain": [
       "<IPython.core.display.Markdown object>"
      ]
     },
     "execution_count": 12,
     "metadata": {},
     "output_type": "execute_result"
    },
    {
     "data": {
      "text/markdown": [
       "oon.svg', 'src/frontend/static/icons/Hipster_NavLogo.svg', 'src/frontend/static/icons/Hipster_CartIcon.svg', 'src/frontend/static/icons/Hipster_PinterestIcon.svg', 'src/frontend/static/icons/"
      ],
      "text/plain": [
       "<IPython.core.display.Markdown object>"
      ]
     },
     "execution_count": 12,
     "metadata": {},
     "output_type": "execute_result"
    },
    {
     "data": {
      "text/markdown": [
       "Hipster_HeroLogo.svg', 'src/frontend/static/icons/Hipster_HelpIcon.svg', 'src/frontend/static/icons/Hipster_InstagramIcon.svg', 'src/frontend/static/icons/Hipster_FacebookIcon.svg', 'src/frontend/"
      ],
      "text/plain": [
       "<IPython.core.display.Markdown object>"
      ]
     },
     "execution_count": 12,
     "metadata": {},
     "output_type": "execute_result"
    },
    {
     "data": {
      "text/markdown": [
       "static/icons/Hipster_TwitterIcon.svg', 'src/frontend/money/money.go', 'src/frontend/money/money_test.go', 'src/frontend/genproto/demo_grpc.pb.go', 'src/frontend/genproto/demo.pb."
      ],
      "text/plain": [
       "<IPython.core.display.Markdown object>"
      ]
     },
     "execution_count": 12,
     "metadata": {},
     "output_type": "execute_result"
    },
    {
     "data": {
      "text/markdown": [
       "go', 'src/adservice/gradlew', 'src/adservice/README.md', 'src/adservice/gradlew.bat', 'src/adservice/Dockerfile', 'src/adservice/settings.gradle', 'src/adservice/build.gradle', 'src/"
      ],
      "text/plain": [
       "<IPython.core.display.Markdown object>"
      ]
     },
     "execution_count": 12,
     "metadata": {},
     "output_type": "execute_result"
    },
    {
     "data": {
      "text/markdown": [
       "adservice/genproto.sh', 'src/adservice/gradle/wrapper/gradle-wrapper.properties', 'src/adservice/gradle/wrapper/gradle-wrapper.jar', 'src/adservice/src/main/proto/demo.proto', 'src/adservice/src/"
      ],
      "text/plain": [
       "<IPython.core.display.Markdown object>"
      ]
     },
     "execution_count": 12,
     "metadata": {},
     "output_type": "execute_result"
    },
    {
     "data": {
      "text/markdown": [
       "main/java/hipstershop/AdService.java', 'src/adservice/src/main/java/hipstershop/AdServiceClient.java', 'src/adservice/src/main/resources/log4j2.xml', 'src/paymentservice/Dockerfile', 'src"
      ],
      "text/plain": [
       "<IPython.core.display.Markdown object>"
      ]
     },
     "execution_count": 12,
     "metadata": {},
     "output_type": "execute_result"
    },
    {
     "data": {
      "text/markdown": [
       "/paymentservice/index.js', 'src/paymentservice/logger.js', 'src/paymentservice/server.js', 'src/paymentservice/.dockerignore', 'src/paymentservice/package-lock.json', 'src/paymentservice/charge.js', 'src/paymentservice"
      ],
      "text/plain": [
       "<IPython.core.display.Markdown object>"
      ]
     },
     "execution_count": 12,
     "metadata": {},
     "output_type": "execute_result"
    },
    {
     "data": {
      "text/markdown": [
       "/genproto.sh', 'src/paymentservice/package.json', 'src/paymentservice/proto/demo.proto', 'src/paymentservice/proto/grpc/health/v1/health.proto', 'src/checkoutservice/README.md', 'src/checkoutservice"
      ],
      "text/plain": [
       "<IPython.core.display.Markdown object>"
      ]
     },
     "execution_count": 12,
     "metadata": {},
     "output_type": "execute_result"
    },
    {
     "data": {
      "text/markdown": [
       "/main.go', 'src/checkoutservice/go.sum', 'src/checkoutservice/Dockerfile', 'src/checkoutservice/.dockerignore', 'src/checkoutservice/genproto.sh', 'src/checkoutservice/go.mod', 'src/checkouts"
      ],
      "text/plain": [
       "<IPython.core.display.Markdown object>"
      ]
     },
     "execution_count": 12,
     "metadata": {},
     "output_type": "execute_result"
    },
    {
     "data": {
      "text/markdown": [
       "ervice/money/money.go', 'src/checkoutservice/money/money_test.go', 'src/checkoutservice/genproto/demo_grpc.pb.go', 'src/checkoutservice/genproto/demo.pb.go', 'src/cartservice/carts"
      ],
      "text/plain": [
       "<IPython.core.display.Markdown object>"
      ]
     },
     "execution_count": 12,
     "metadata": {},
     "output_type": "execute_result"
    },
    {
     "data": {
      "text/markdown": [
       "ervice.sln', 'src/cartservice/tests/CartServiceTests.cs', 'src/cartservice/tests/cartservice.tests.csproj', 'src/cartservice/src/Dockerfile.debug', 'src/cartservice/src/Dockerfile', 'src/carts"
      ],
      "text/plain": [
       "<IPython.core.display.Markdown object>"
      ]
     },
     "execution_count": 12,
     "metadata": {},
     "output_type": "execute_result"
    },
    {
     "data": {
      "text/markdown": [
       "ervice/src/Startup.cs', 'src/cartservice/src/appsettings.json', 'src/cartservice/src/.dockerignore', 'src/cartservice/src/cartservice.csproj', 'src/cartservice/src/Program.cs', 'src/cartservice"
      ],
      "text/plain": [
       "<IPython.core.display.Markdown object>"
      ]
     },
     "execution_count": 12,
     "metadata": {},
     "output_type": "execute_result"
    },
    {
     "data": {
      "text/markdown": [
       "/src/cartstore/ICartStore.cs', 'src/cartservice/src/cartstore/RedisCartStore.cs', 'src/cartservice/src/cartstore/SpannerCartStore.cs', 'src/cartservice/src/cartstore/AlloyDBCartStore.cs"
      ],
      "text/plain": [
       "<IPython.core.display.Markdown object>"
      ]
     },
     "execution_count": 12,
     "metadata": {},
     "output_type": "execute_result"
    },
    {
     "data": {
      "text/markdown": [
       "', 'src/cartservice/src/protos/Cart.proto', 'src/cartservice/src/services/HealthCheckService.cs', 'src/cartservice/src/services/CartService.cs', 'src/loadgenerator/Dockerfile', 'src/loadgenerator/locustfile"
      ],
      "text/plain": [
       "<IPython.core.display.Markdown object>"
      ]
     },
     "execution_count": 12,
     "metadata": {},
     "output_type": "execute_result"
    },
    {
     "data": {
      "text/markdown": [
       ".py', 'src/loadgenerator/requirements.txt', 'src/loadgenerator/requirements.in', 'src/currencyservice/.gitignore', 'src/currencyservice/Dockerfile', 'src/currencyservice/client.js', 'src/currencyservice"
      ],
      "text/plain": [
       "<IPython.core.display.Markdown object>"
      ]
     },
     "execution_count": 12,
     "metadata": {},
     "output_type": "execute_result"
    },
    {
     "data": {
      "text/markdown": [
       "/server.js', 'src/currencyservice/.dockerignore', 'src/currencyservice/package-lock.json', 'src/currencyservice/genproto.sh', 'src/currencyservice/package.json', 'src/currencyservice/proto"
      ],
      "text/plain": [
       "<IPython.core.display.Markdown object>"
      ]
     },
     "execution_count": 12,
     "metadata": {},
     "output_type": "execute_result"
    },
    {
     "data": {
      "text/markdown": [
       "/demo.proto', 'src/currencyservice/proto/grpc/health/v1/health.proto', 'src/currencyservice/data/currency_conversion.json', 'src/productcatalogservice/README.md', 'src/productcatalogservice/server.go',"
      ],
      "text/plain": [
       "<IPython.core.display.Markdown object>"
      ]
     },
     "execution_count": 12,
     "metadata": {},
     "output_type": "execute_result"
    },
    {
     "data": {
      "text/markdown": [
       " 'src/productcatalogservice/go.sum', 'src/productcatalogservice/products.json', 'src/productcatalogservice/Dockerfile', 'src/productcatalogservice/catalog_loader.go', 'src/productcatalogservice/.dockerignore', 'src/productcatalogservice/product_"
      ],
      "text/plain": [
       "<IPython.core.display.Markdown object>"
      ]
     },
     "execution_count": 12,
     "metadata": {},
     "output_type": "execute_result"
    },
    {
     "data": {
      "text/markdown": [
       "catalog_test.go', 'src/productcatalogservice/product_catalog.go', 'src/productcatalogservice/genproto.sh', 'src/productcatalogservice/go.mod', 'src/productcatalogservice/genproto/demo_grpc.pb.go', 'src/product"
      ],
      "text/plain": [
       "<IPython.core.display.Markdown object>"
      ]
     },
     "execution_count": 12,
     "metadata": {},
     "output_type": "execute_result"
    },
    {
     "data": {
      "text/markdown": [
       "catalogservice/genproto/demo.pb.go', 'src/recommendationservice/demo_pb2_grpc.py', 'src/recommendationservice/client.py', 'src/recommendationservice/demo_pb2.py', 'src/recommendationservice/recommendation_server.py', 'src"
      ],
      "text/plain": [
       "<IPython.core.display.Markdown object>"
      ]
     },
     "execution_count": 12,
     "metadata": {},
     "output_type": "execute_result"
    },
    {
     "data": {
      "text/markdown": [
       "/recommendationservice/logger.py', 'src/recommendationservice/Dockerfile', 'src/recommendationservice/requirements.txt', 'src/recommendationservice/genproto.sh', 'src/recommendationservice/requirements.in', 'src/shippingservice/README.md', 'src/shippings"
      ],
      "text/plain": [
       "<IPython.core.display.Markdown object>"
      ]
     },
     "execution_count": 12,
     "metadata": {},
     "output_type": "execute_result"
    },
    {
     "data": {
      "text/markdown": [
       "ervice/main.go', 'src/shippingservice/go.sum', 'src/shippingservice/Dockerfile', 'src/shippingservice/.dockerignore', 'src/shippingservice/tracker.go', 'src/shippingservice/quote.go', 'src/shippings"
      ],
      "text/plain": [
       "<IPython.core.display.Markdown object>"
      ]
     },
     "execution_count": 12,
     "metadata": {},
     "output_type": "execute_result"
    },
    {
     "data": {
      "text/markdown": [
       "ervice/shippingservice_test.go', 'src/shippingservice/genproto.sh', 'src/shippingservice/go.mod', 'src/shippingservice/genproto/demo_grpc.pb.go', 'src/shippingservice/genproto/demo.pb"
      ],
      "text/plain": [
       "<IPython.core.display.Markdown object>"
      ]
     },
     "execution_count": 12,
     "metadata": {},
     "output_type": "execute_result"
    },
    {
     "data": {
      "text/markdown": [
       ".go']\n",
       "\n",
       ".\n",
       "    - Then each of the files is concatenated together. You will find all of the code you need:\n",
       "      \n",
       "\n",
       "----- File: README.md -----\n",
       "<!-- <p align=\"center\">\n",
       "<img src=\"/src/frontend/static/icons/Hipster_HeroLogo"
      ],
      "text/plain": [
       "<IPython.core.display.Markdown object>"
      ]
     },
     "execution_count": 12,
     "metadata": {},
     "output_type": "execute_result"
    },
    {
     "data": {
      "text/markdown": [
       "Maroon.svg\" width=\"300\" alt=\"Online Boutique\" />\n",
       "</p> -->\n",
       "![Continuous Integration](https://github.com/GoogleCloudPlatform/microservices-demo/workflows/Continuous%20Integration%20-%20Main/Release/badge.svg)"
      ],
      "text/plain": [
       "<IPython.core.display.Markdown object>"
      ]
     },
     "execution_count": 12,
     "metadata": {},
     "output_type": "execute_result"
    },
    {
     "data": {
      "text/markdown": [
       "\n",
       "\n",
       "**Online Boutique** is a cloud-first microservices demo application.  The application is a\n",
       "web-based e-commerce app where users can browse items, add them to the cart, and purchase them.\n",
       "\n",
       "Google uses this application to demonstrate how developers can modernize enterprise applications using Google Cloud products, including:"
      ],
      "text/plain": [
       "<IPython.core.display.Markdown object>"
      ]
     },
     "execution_count": 12,
     "metadata": {},
     "output_type": "execute_result"
    },
    {
     "data": {
      "text/markdown": [
       " [Google Kubernetes Engine (GKE)](https://cloud.google.com/kubernetes-engine), [Cloud Service Mesh (CSM)](https://cloud.google.com/service-mesh), [gRPC](https://grpc.io/), [Cloud Operations](https://cloud.google.com/products/"
      ],
      "text/plain": [
       "<IPython.core.display.Markdown object>"
      ]
     },
     "execution_count": 12,
     "metadata": {},
     "output_type": "execute_result"
    },
    {
     "data": {
      "text/markdown": [
       "operations), [Spanner](https://cloud.google.com/spanner), [Memorystore](https://cloud.google.com/memorystore), [AlloyDB](https://cloud.google.com/alloydb), and [Gemini](https://ai.google.dev/). This application works on any"
      ],
      "text/plain": [
       "<IPython.core.display.Markdown object>"
      ]
     },
     "execution_count": 12,
     "metadata": {},
     "output_type": "execute_result"
    },
    {
     "data": {
      "text/markdown": [
       " Kubernetes cluster.\n",
       "\n",
       "If you’re using this demo, please **★Star** this repository to show your interest!\n",
       "\n",
       "**Note to Googlers:** Please fill out the form at [go/microservices-demo](http://go/microservices-demo).\n",
       "\n",
       "## Architecture\n",
       "\n",
       "**Online Boutique** is composed"
      ],
      "text/plain": [
       "<IPython.core.display.Markdown object>"
      ]
     },
     "execution_count": 12,
     "metadata": {},
     "output_type": "execute_result"
    },
    {
     "data": {
      "text/markdown": [
       " of 11 microservices written in different\n",
       "languages that talk to each other over gRPC.\n",
       "\n",
       "[![Architecture of\n",
       "microservices](/docs/img/architecture-diagram.png)](/docs/img/architecture-diagram.png)\n",
       "\n",
       "Find **Protocol Buffers Descriptions** at the [`./protos"
      ],
      "text/plain": [
       "<IPython.core.display.Markdown object>"
      ]
     },
     "execution_count": 12,
     "metadata": {},
     "output_type": "execute_result"
    },
    {
     "data": {
      "text/markdown": [
       "` directory](/protos).\n",
       "\n",
       "| Service                                              | Language      | Description                                                                                                                       |\n",
       "| ---------------------------------------------------- | ------------- | --------------------------------------------------------------------------------------------------------------------------------- |\n",
       "| [frontend](/src/frontend)                           | Go            | Exposes an HTTP server to serve the"
      ],
      "text/plain": [
       "<IPython.core.display.Markdown object>"
      ]
     },
     "execution_count": 12,
     "metadata": {},
     "output_type": "execute_result"
    },
    {
     "data": {
      "text/markdown": [
       " website. Does not require signup/login and generates session IDs for all users automatically. |\n",
       "| [cartservice](/src/cartservice)                     | C#            | Stores the items in the user's shopping cart in Redis and retrieves it.                                                           |\n",
       "| [productcatalogservice](/src"
      ],
      "text/plain": [
       "<IPython.core.display.Markdown object>"
      ]
     },
     "execution_count": 12,
     "metadata": {},
     "output_type": "execute_result"
    },
    {
     "data": {
      "text/markdown": [
       "/productcatalogservice) | Go            | Provides the list of products from a JSON file and ability to search products and get individual products.                        |\n",
       "| [currencyservice](/src/currencyservice)             | Node.js       | Converts one money amount to another currency. Uses real values"
      ],
      "text/plain": [
       "<IPython.core.display.Markdown object>"
      ]
     },
     "execution_count": 12,
     "metadata": {},
     "output_type": "execute_result"
    },
    {
     "data": {
      "text/markdown": [
       " fetched from European Central Bank. It's the highest QPS service. |\n",
       "| [paymentservice](/src/paymentservice)               | Node.js       | Charges the given credit card info (mock) with the given amount and returns a transaction ID.                                     |\n",
       "| [shippingservice]("
      ],
      "text/plain": [
       "<IPython.core.display.Markdown object>"
      ]
     },
     "execution_count": 12,
     "metadata": {},
     "output_type": "execute_result"
    },
    {
     "data": {
      "text/markdown": [
       "/src/shippingservice)             | Go            | Gives shipping cost estimates based on the shopping cart. Ships items to the given address (mock)                                 |\n",
       "| [emailservice](/src/emailservice)                   | Python        | Sends users an order confirmation email (mock).                                                                                   |"
      ],
      "text/plain": [
       "<IPython.core.display.Markdown object>"
      ]
     },
     "execution_count": 12,
     "metadata": {},
     "output_type": "execute_result"
    },
    {
     "data": {
      "text/markdown": [
       "\n",
       "| [checkoutservice](/src/checkoutservice)             | Go            | Retrieves user cart, prepares order and orchestrates the payment, shipping and the email notification.                            |\n",
       "| [recommendationservice](/src/recommendationservice) | Python        | Recommends other products based on what'"
      ],
      "text/plain": [
       "<IPython.core.display.Markdown object>"
      ]
     },
     "execution_count": 12,
     "metadata": {},
     "output_type": "execute_result"
    },
    {
     "data": {
      "text/markdown": [
       "s given in the cart.                                                                      |\n",
       "| [adservice](/src/adservice)                         | Java          | Provides text ads based on given context words.                                                                                   |\n",
       "| [loadgenerator](/src/loadgenerator)                 | Python/Locust | Continuously sends requests imitating"
      ],
      "text/plain": [
       "<IPython.core.display.Markdown object>"
      ]
     },
     "execution_count": 12,
     "metadata": {},
     "output_type": "execute_result"
    },
    {
     "data": {
      "text/markdown": [
       " realistic user shopping flows to the frontend.                                              |\n",
       "\n",
       "## Screenshots\n",
       "\n",
       "| Home Page                                                                                                         | Checkout Screen                                                                                                    |\n",
       "| ----------------------------------------------------------------------------------------------------------------- | ------------------------------------------------------------------------------------------------------------------ |\n",
       "| [![Screenshot of store homepage](/docs/img"
      ],
      "text/plain": [
       "<IPython.core.display.Markdown object>"
      ]
     },
     "execution_count": 12,
     "metadata": {},
     "output_type": "execute_result"
    },
    {
     "data": {
      "text/markdown": [
       "/online-boutique-frontend-1.png)](/docs/img/online-boutique-frontend-1.png) | [![Screenshot of checkout screen](/docs/img/online-boutique-frontend-2.png)](/docs/img/online-boutique-frontend-2.png)"
      ],
      "text/plain": [
       "<IPython.core.display.Markdown object>"
      ]
     },
     "execution_count": 12,
     "metadata": {},
     "output_type": "execute_result"
    },
    {
     "data": {
      "text/markdown": [
       " |\n",
       "\n",
       "## Quickstart (GKE)\n",
       "\n",
       "1. Ensure you have the following requirements:\n",
       "   - [Google Cloud project](https://cloud.google.com/resource-manager/docs/creating-managing-projects#creating_a_project).\n",
       "   - Shell environment with `gcloud`, `"
      ],
      "text/plain": [
       "<IPython.core.display.Markdown object>"
      ]
     },
     "execution_count": 12,
     "metadata": {},
     "output_type": "execute_result"
    },
    {
     "data": {
      "text/markdown": [
       "git`, and `kubectl`.\n",
       "\n",
       "2. Clone the latest major version.\n",
       "\n",
       "   ```sh\n",
       "   git clone --depth 1 --branch v0 https://github.com/GoogleCloudPlatform/microservices-demo.git\n",
       "   cd microservices-demo/\n",
       "   ```\n",
       "\n",
       "   The `--depth"
      ],
      "text/plain": [
       "<IPython.core.display.Markdown object>"
      ]
     },
     "execution_count": 12,
     "metadata": {},
     "output_type": "execute_result"
    },
    {
     "data": {
      "text/markdown": [
       " 1` argument skips downloading git history.\n",
       "\n",
       "3. Set the Google Cloud project and region and ensure the Google Kubernetes Engine API is enabled.\n",
       "\n",
       "   ```sh\n",
       "   export PROJECT_ID=<PROJECT_ID>\n",
       "   export REGION=us-central1\n",
       "   gcloud services enable container.googleapis.com"
      ],
      "text/plain": [
       "<IPython.core.display.Markdown object>"
      ]
     },
     "execution_count": 12,
     "metadata": {},
     "output_type": "execute_result"
    },
    {
     "data": {
      "text/markdown": [
       " \\\n",
       "     --project=${PROJECT_ID}\n",
       "   ```\n",
       "\n",
       "   Substitute `<PROJECT_ID>` with the ID of your Google Cloud project.\n",
       "\n",
       "4. Create a GKE cluster and get the credentials for it.\n",
       "\n",
       "   ```sh\n",
       "   gcloud container clusters create-auto online-boutique \\\n",
       "     "
      ],
      "text/plain": [
       "<IPython.core.display.Markdown object>"
      ]
     },
     "execution_count": 12,
     "metadata": {},
     "output_type": "execute_result"
    },
    {
     "data": {
      "text/markdown": [
       "--project=${PROJECT_ID} --region=${REGION}\n",
       "   ```\n",
       "\n",
       "   Creating the cluster may take a few minutes.\n",
       "\n",
       "5. Deploy Online Boutique to the cluster.\n",
       "\n",
       "   ```sh\n",
       "   kubectl apply -f ./release/kubernetes-manifests.yaml\n",
       "   ```\n",
       "\n",
       "6. Wait for the"
      ],
      "text/plain": [
       "<IPython.core.display.Markdown object>"
      ]
     },
     "execution_count": 12,
     "metadata": {},
     "output_type": "execute_result"
    },
    {
     "data": {
      "text/markdown": [
       " pods to be ready.\n",
       "\n",
       "   ```sh\n",
       "   kubectl get pods\n",
       "   ```\n",
       "\n",
       "   After a few minutes, you should see the Pods in a `Running` state:\n",
       "\n",
       "   ```\n",
       "   NAME                                     READY   STATUS    RESTARTS   AGE\n",
       "   adservice-76bdd6966"
      ],
      "text/plain": [
       "<IPython.core.display.Markdown object>"
      ]
     },
     "execution_count": 12,
     "metadata": {},
     "output_type": "execute_result"
    },
    {
     "data": {
      "text/markdown": [
       "6-ckc5j               1/1     Running   0          2m58s\n",
       "   cartservice-66d497c6b7-dp5jr             1/1     Running   0          2m59s\n",
       "   checkoutservice-666c7"
      ],
      "text/plain": [
       "<IPython.core.display.Markdown object>"
      ]
     },
     "execution_count": 12,
     "metadata": {},
     "output_type": "execute_result"
    },
    {
     "data": {
      "text/markdown": [
       "84bd6-4jd22         1/1     Running   0          3m1s\n",
       "   currencyservice-5d5d496984-4jmd7         1/1     Running   0          2m59s\n",
       "   emailservice-6"
      ],
      "text/plain": [
       "<IPython.core.display.Markdown object>"
      ]
     },
     "execution_count": 12,
     "metadata": {},
     "output_type": "execute_result"
    },
    {
     "data": {
      "text/markdown": [
       "67457d9d6-75jcq            1/1     Running   0          3m2s\n",
       "   frontend-6b8d69b9fb-wjqdg                1/1     Running   0          3m1s\n",
       "   loadgenerator-66"
      ],
      "text/plain": [
       "<IPython.core.display.Markdown object>"
      ]
     },
     "execution_count": 12,
     "metadata": {},
     "output_type": "execute_result"
    },
    {
     "data": {
      "text/markdown": [
       "5b5cd444-gwqdq           1/1     Running   0          3m\n",
       "   paymentservice-68596d6dd6-bf6bv          1/1     Running   0          3m\n",
       "   productcatalogservice-557d474"
      ],
      "text/plain": [
       "<IPython.core.display.Markdown object>"
      ]
     },
     "execution_count": 12,
     "metadata": {},
     "output_type": "execute_result"
    },
    {
     "data": {
      "text/markdown": [
       "574-888kr   1/1     Running   0          3m\n",
       "   recommendationservice-69c56b74d4-7z8r5   1/1     Running   0          3m1s\n",
       "   redis-cart-5f595"
      ],
      "text/plain": [
       "<IPython.core.display.Markdown object>"
      ]
     },
     "execution_count": 12,
     "metadata": {},
     "output_type": "execute_result"
    },
    {
     "data": {
      "text/markdown": [
       "46cdd-5jnqf              1/1     Running   0          2m58s\n",
       "   shippingservice-6ccc89f8fd-v686r         1/1     Running   0          2m58s\n",
       "   ```\n",
       "\n",
       "7. Access the web"
      ],
      "text/plain": [
       "<IPython.core.display.Markdown object>"
      ]
     },
     "execution_count": 12,
     "metadata": {},
     "output_type": "execute_result"
    },
    {
     "data": {
      "text/markdown": [
       " frontend in a browser using the frontend's external IP.\n",
       "\n",
       "   ```sh\n",
       "   kubectl get service frontend-external | awk '{print $4}'\n",
       "   ```\n",
       "\n",
       "   Visit `http://EXTERNAL_IP` in a web browser to access your instance of Online Boutique.\n",
       "\n",
       "8. Congrats! You've"
      ],
      "text/plain": [
       "<IPython.core.display.Markdown object>"
      ]
     },
     "execution_count": 12,
     "metadata": {},
     "output_type": "execute_result"
    },
    {
     "data": {
      "text/markdown": [
       " deployed the default Online Boutique. To deploy a different variation of Online Boutique (e.g., with Google Cloud Operations tracing, Istio, etc.), see [Deploy Online Boutique variations with Kustomize](#deploy-online-boutique-variations-with-kustomize).\n",
       "\n",
       "9. Once you are done with it"
      ],
      "text/plain": [
       "<IPython.core.display.Markdown object>"
      ]
     },
     "execution_count": 12,
     "metadata": {},
     "output_type": "execute_result"
    },
    {
     "data": {
      "text/markdown": [
       ", delete the GKE cluster.\n",
       "\n",
       "   ```sh\n",
       "   gcloud container clusters delete online-boutique \\\n",
       "     --project=${PROJECT_ID} --region=${REGION}\n",
       "   ```\n",
       "\n",
       "   Deleting the cluster may take a few minutes.\n",
       "\n",
       "## Additional deployment options\n",
       "\n",
       "- **Terraform**: [See these"
      ],
      "text/plain": [
       "<IPython.core.display.Markdown object>"
      ]
     },
     "execution_count": 12,
     "metadata": {},
     "output_type": "execute_result"
    },
    {
     "data": {
      "text/markdown": [
       " instructions](/terraform) to learn how to deploy Online Boutique using [Terraform](https://www.terraform.io/intro).\n",
       "- **Istio / Cloud Service Mesh**: [See these instructions](/kustomize/components/service-mesh-istio/README.md) to deploy Online Boutique"
      ],
      "text/plain": [
       "<IPython.core.display.Markdown object>"
      ]
     },
     "execution_count": 12,
     "metadata": {},
     "output_type": "execute_result"
    },
    {
     "data": {
      "text/markdown": [
       " alongside an Istio-backed service mesh.\n",
       "- **Non-GKE clusters (Minikube, Kind, etc)**: See the [Development guide](/docs/development-guide.md) to learn how you can deploy Online Boutique on non-GKE clusters.\n",
       "- **AI assistant using Gemini"
      ],
      "text/plain": [
       "<IPython.core.display.Markdown object>"
      ]
     },
     "execution_count": 12,
     "metadata": {},
     "output_type": "execute_result"
    },
    {
     "data": {
      "text/markdown": [
       "**: [See these instructions](/kustomize/components/shopping-assistant/README.md) to deploy a Gemini-powered AI assistant that suggests products to purchase based on an image.\n",
       "- **And more**: The [`/kustomize` directory](/kustomize) contains instructions for customizing the"
      ],
      "text/plain": [
       "<IPython.core.display.Markdown object>"
      ]
     },
     "execution_count": 12,
     "metadata": {},
     "output_type": "execute_result"
    },
    {
     "data": {
      "text/markdown": [
       " deployment of Online Boutique with other variations.\n",
       "\n",
       "## Documentation\n",
       "\n",
       "- [Development](/docs/development-guide.md) to learn how to run and develop this app locally.\n",
       "\n",
       "## Demos featuring Online Boutique\n",
       "\n",
       "- [Platform Engineering in action: Deploy the Online Boutique sample apps with Score and Humanitec](https://"
      ],
      "text/plain": [
       "<IPython.core.display.Markdown object>"
      ]
     },
     "execution_count": 12,
     "metadata": {},
     "output_type": "execute_result"
    },
    {
     "data": {
      "text/markdown": [
       "medium.com/p/d99101001e69)\n",
       "- [The new Kubernetes Gateway API with Istio and Anthos Service Mesh (ASM)](https://medium.com/p/9d64c7009cd)\n",
       "- [Use Azure Redis Cache"
      ],
      "text/plain": [
       "<IPython.core.display.Markdown object>"
      ]
     },
     "execution_count": 12,
     "metadata": {},
     "output_type": "execute_result"
    },
    {
     "data": {
      "text/markdown": [
       " with the Online Boutique sample on AKS](https://medium.com/p/981bd98b53f8)\n",
       "- [Sail Sharp, 8 tips to optimize and secure your .NET containers for Kubernetes](https://medium.com/p/c68ba2538"
      ],
      "text/plain": [
       "<IPython.core.display.Markdown object>"
      ]
     },
     "execution_count": 12,
     "metadata": {},
     "output_type": "execute_result"
    },
    {
     "data": {
      "text/markdown": [
       "44a)\n",
       "- [Deploy multi-region application with Anthos and Google cloud Spanner](https://medium.com/google-cloud/a2ea3493ed0)\n",
       "- [Use Google Cloud Memorystore (Redis) with the Online Boutique sample on GKE](https://medium"
      ],
      "text/plain": [
       "<IPython.core.display.Markdown object>"
      ]
     },
     "execution_count": 12,
     "metadata": {},
     "output_type": "execute_result"
    },
    {
     "data": {
      "text/markdown": [
       ".com/p/82f7879a900d)\n",
       "- [Use Helm to simplify the deployment of Online Boutique, with a Service Mesh, GitOps, and more!](https://medium.com/p/246119e46d53)"
      ],
      "text/plain": [
       "<IPython.core.display.Markdown object>"
      ]
     },
     "execution_count": 12,
     "metadata": {},
     "output_type": "execute_result"
    },
    {
     "data": {
      "text/markdown": [
       "\n",
       "- [How to reduce microservices complexity with Apigee and Anthos Service Mesh](https://cloud.google.com/blog/products/application-modernization/api-management-and-service-mesh-go-together)\n",
       "- [gRPC health probes with Kubernetes 1.24+"
      ],
      "text/plain": [
       "<IPython.core.display.Markdown object>"
      ]
     },
     "execution_count": 12,
     "metadata": {},
     "output_type": "execute_result"
    },
    {
     "data": {
      "text/markdown": [
       "](https://medium.com/p/b5bd26253a4c)\n",
       "- [Use Google Cloud Spanner with the Online Boutique sample](https://medium.com/p/f7248e077339)\n",
       "- [Seamlessly encrypt traffic"
      ],
      "text/plain": [
       "<IPython.core.display.Markdown object>"
      ]
     },
     "execution_count": 12,
     "metadata": {},
     "output_type": "execute_result"
    },
    {
     "data": {
      "text/markdown": [
       " from any apps in your Mesh to Memorystore (redis)](https://medium.com/google-cloud/64b71969318d)\n",
       "- [Strengthen your app's security with Cloud Service Mesh and Anthos Config Management](https://cloud.google.com/service-"
      ],
      "text/plain": [
       "<IPython.core.display.Markdown object>"
      ]
     },
     "execution_count": 12,
     "metadata": {},
     "output_type": "execute_result"
    },
    {
     "data": {
      "text/markdown": [
       "mesh/docs/strengthen-app-security)\n",
       "- [From edge to mesh: Exposing service mesh applications through GKE Ingress](https://cloud.google.com/architecture/exposing-service-mesh-apps-through-gke-ingress)\n",
       "- [Take the first step toward S"
      ],
      "text/plain": [
       "<IPython.core.display.Markdown object>"
      ]
     },
     "execution_count": 12,
     "metadata": {},
     "output_type": "execute_result"
    },
    {
     "data": {
      "text/markdown": [
       "RE with Cloud Operations Sandbox](https://cloud.google.com/blog/products/operations/on-the-road-to-sre-with-cloud-operations-sandbox)\n",
       "- [Deploying the Online Boutique sample application on Cloud Service Mesh](https://cloud.google.com/service-mesh"
      ],
      "text/plain": [
       "<IPython.core.display.Markdown object>"
      ]
     },
     "execution_count": 12,
     "metadata": {},
     "output_type": "execute_result"
    },
    {
     "data": {
      "text/markdown": [
       "/docs/onlineboutique-install-kpt)\n",
       "- [Anthos Service Mesh Workshop: Lab Guide](https://codelabs.developers.google.com/codelabs/anthos-service-mesh-workshop)\n",
       "- [KubeCon EU 2019 - Reinventing Networking: A"
      ],
      "text/plain": [
       "<IPython.core.display.Markdown object>"
      ]
     },
     "execution_count": 12,
     "metadata": {},
     "output_type": "execute_result"
    },
    {
     "data": {
      "text/markdown": [
       " Deep Dive into Istio's Multicluster Gateways - Steve Dake, Independent](https://youtu.be/-t2BfT59zJA?t=982)\n",
       "- Google Cloud Next'18 SF\n",
       "  - [Day 1 Keynote](https://youtu.be/v"
      ],
      "text/plain": [
       "<IPython.core.display.Markdown object>"
      ]
     },
     "execution_count": 12,
     "metadata": {},
     "output_type": "execute_result"
    },
    {
     "data": {
      "text/markdown": [
       "J9OaAqfxo4?t=2416) showing GKE On-Prem\n",
       "  - [Day 3 Keynote](https://youtu.be/JQPOPV_VH5w?t=815) showing Stackdriver\n",
       "    APM (Tracing, Code Search,"
      ],
      "text/plain": [
       "<IPython.core.display.Markdown object>"
      ]
     },
     "execution_count": 12,
     "metadata": {},
     "output_type": "execute_result"
    }
   ],
   "source": [
    "question = \"\"\"\n",
    "  Find the top 3 most severe issues in the codebase.\n",
    "\"\"\"\n",
    "\n",
    "prompt = get_code_prompt(question)\n",
    "contents = [prompt]\n",
    "\n",
    "responses = call_gemini(contents)\n",
    "for response in responses:\n",
    "    IPython.display.Markdown(response.text)"
   ]
  },
  {
   "cell_type": "markdown",
   "metadata": {
    "id": "HCilrR6FjmfB"
   },
   "source": [
    "### 4. Fixing bug\n",
    "\n",
    "Find the most severe issue in the codebase that can be fixed and provide a code fix for it.\n"
   ]
  },
  {
   "cell_type": "code",
   "execution_count": 13,
   "metadata": {
    "id": "dwjDh0xGKE2r",
    "tags": []
   },
   "outputs": [
    {
     "data": {
      "text/markdown": [
       "```"
      ],
      "text/plain": [
       "<IPython.core.display.Markdown object>"
      ]
     },
     "execution_count": 13,
     "metadata": {},
     "output_type": "execute_result"
    },
    {
     "data": {
      "text/markdown": [
       "diff\n",
       "--- a/src/productcatalogservice/catalog_loader.go"
      ],
      "text/plain": [
       "<IPython.core.display.Markdown object>"
      ]
     },
     "execution_count": 13,
     "metadata": {},
     "output_type": "execute_result"
    },
    {
     "data": {
      "text/markdown": [
       "\n",
       "+++ b/src/productcatalogservice/product_catalog.go\n"
      ],
      "text/plain": [
       "<IPython.core.display.Markdown object>"
      ]
     },
     "execution_count": 13,
     "metadata": {},
     "output_type": "execute_result"
    },
    {
     "data": {
      "text/markdown": [
       "@@ -162,7 +162,7 @@\n",
       " }\n",
       " \n",
       " func (p *productCatalog) ListProducts(context.Context"
      ],
      "text/plain": [
       "<IPython.core.display.Markdown object>"
      ]
     },
     "execution_count": 13,
     "metadata": {},
     "output_type": "execute_result"
    },
    {
     "data": {
      "text/markdown": [
       ", *pb.Empty) (*pb.ListProductsResponse, error) {\n",
       "-\ttime.Sleep(extraLatency)\n",
       "+\tp.apply"
      ],
      "text/plain": [
       "<IPython.core.display.Markdown object>"
      ]
     },
     "execution_count": 13,
     "metadata": {},
     "output_type": "execute_result"
    },
    {
     "data": {
      "text/markdown": [
       "ExtraLatency()\n",
       " \n",
       " \treturn &pb.ListProductsResponse{Products: p.parseCatalog()}, nil\n",
       " }\n",
       "@@ -184,7 +184,7 @@\n",
       " }\n",
       " \n",
       " func ("
      ],
      "text/plain": [
       "<IPython.core.display.Markdown object>"
      ]
     },
     "execution_count": 13,
     "metadata": {},
     "output_type": "execute_result"
    },
    {
     "data": {
      "text/markdown": [
       "p *productCatalog) SearchProducts(ctx context.Context, req *pb.SearchProductsRequest) (*pb.SearchProductsResponse, error) {\n",
       "-\ttime.Sleep(extraLatency)\n",
       "+\tp.applyExtra"
      ],
      "text/plain": [
       "<IPython.core.display.Markdown object>"
      ]
     },
     "execution_count": 13,
     "metadata": {},
     "output_type": "execute_result"
    },
    {
     "data": {
      "text/markdown": [
       "Latency()\n",
       " \n",
       " \tvar ps []*pb.Product\n",
       " \tfor _, product := range p.parseCatalog() {\n",
       "@@ -205,6 +205,10 @@\n",
       " \t}\n",
       " \n",
       " \treturn p.catalog.Products\n",
       "+}\n",
       "+\n",
       "+"
      ],
      "text/plain": [
       "<IPython.core.display.Markdown object>"
      ]
     },
     "execution_count": 13,
     "metadata": {},
     "output_type": "execute_result"
    },
    {
     "data": {
      "text/markdown": [
       "func (p *productCatalog) applyExtraLatency() {\n",
       "+\ttime.Sleep(extraLatency)\n",
       " }\n",
       " \n",
       " -------------------------\n",
       "\n",
       "```"
      ],
      "text/plain": [
       "<IPython.core.display.Markdown object>"
      ]
     },
     "execution_count": 13,
     "metadata": {},
     "output_type": "execute_result"
    }
   ],
   "source": [
    "question = \"\"\"\n",
    "  Find the most severe bug in the codebase that you can provide a code fix for.\n",
    "\"\"\"\n",
    "\n",
    "prompt = get_code_prompt(question)\n",
    "contents = [prompt]\n",
    "\n",
    "responses = call_gemini(contents)\n",
    "for response in responses:\n",
    "    IPython.display.Markdown(response.text)"
   ]
  },
  {
   "cell_type": "markdown",
   "metadata": {
    "id": "8w2pCULT_xKE"
   },
   "source": [
    "### 5. Implementing a feature request using Function Calling\n",
    "\n",
    "Generate code to implement a feature request.\n",
    "\n",
    "Get feature request text from GitHub Issue"
   ]
  },
  {
   "cell_type": "code",
   "execution_count": 14,
   "metadata": {
    "id": "mMjOy0gJ1_xx",
    "tags": []
   },
   "outputs": [
    {
     "data": {
      "text/markdown": [
       "Feature Request:\n",
       "### Describe request or inquiry \r\n",
       "helm chart frontend-external support config service type nodeport, like this\r\n",
       "```\r\n",
       "helm install xxx --set frontend.service.type=NodePort\r\n",
       "```\r\n",
       "\r\n",
       "### What purpose/environment will this feature serve? \r\n",
       "\r\n",
       "This feature enables quick access to the front-end web interface of microservices without the need for additional configuration work.\r\n",
       "\r\n",
       "I hope to quickly access the web interface after deploying this microservice in the local environment, without the need for additional loadbalancer or ingress configuration, just nodeport is enouth.\r\n",
       "\r\n",
       "But now that the deployment is complete, I must manually edit the service and modify the nodeport. If Helm provides parameters to set the nodeport, I don't need to。\r\n"
      ],
      "text/plain": [
       "<IPython.core.display.Markdown object>"
      ]
     },
     "execution_count": 14,
     "metadata": {},
     "output_type": "execute_result"
    }
   ],
   "source": [
    "# Function declaration with detailed docstring\n",
    "extract_details_from_url_func = FunctionDeclaration(\n",
    "    name=\"extract_details_from_url\",\n",
    "    description=\"Extracts owner, repository name, and issue number details from a GitHub issue URL\",\n",
    "    parameters={\n",
    "        \"type\": \"object\",\n",
    "        \"properties\": {\n",
    "            \"owner\": {\n",
    "                \"type\": \"string\",\n",
    "                \"description\": \"The owner of the GitHub repository.\",\n",
    "            },\n",
    "            \"repo\": {\n",
    "                \"type\": \"string\",\n",
    "                \"description\": \"The name of the GitHub repository.\",\n",
    "            },\n",
    "            \"issue_number\": {\n",
    "                \"type\": \"string\",\n",
    "                \"description\": \"The issue number to fetch the body of.\",\n",
    "            },\n",
    "        },\n",
    "    },\n",
    ")\n",
    "\n",
    "# Tool definition\n",
    "extraction_tool = Tool(function_declarations=[extract_details_from_url_func])\n",
    "\n",
    "FEATURE_REQUEST_URL = (\n",
    "    \"https://github.com/GoogleCloudPlatform/microservices-demo/issues/2205\"\n",
    ")\n",
    "\n",
    "# Prompt content\n",
    "prompt_content = f\"What is the feature request of the following {FEATURE_REQUEST_URL}\"\n",
    "\n",
    "# Model generation with tool usage\n",
    "response = model.generate_content(\n",
    "    [prompt_content],\n",
    "    generation_config=GenerationConfig(temperature=0),\n",
    "    tools=[extraction_tool],\n",
    ")\n",
    "# Extract parameters from model response\n",
    "function_call = response.candidates[0].function_calls[0]\n",
    "\n",
    "# Fetch issue details from GitHub API if function call matches\n",
    "if function_call.name == \"extract_details_from_url\":\n",
    "    issue_body = get_github_issue(\n",
    "        function_call.args[\"owner\"],\n",
    "        function_call.args[\"repo\"],\n",
    "        function_call.args[\"issue_number\"],\n",
    "    )\n",
    "\n",
    "IPython.display.Markdown(f\"Feature Request:\\n{issue_body}\")"
   ]
  },
  {
   "cell_type": "markdown",
   "metadata": {
    "id": "19455545f4c9"
   },
   "source": [
    "Use the GitHub Issue text to implement the feature request"
   ]
  },
  {
   "cell_type": "code",
   "execution_count": 15,
   "metadata": {
    "id": "78e6df259be8",
    "tags": []
   },
   "outputs": [
    {
     "data": {
      "text/markdown": [
       "```"
      ],
      "text/plain": [
       "<IPython.core.display.Markdown object>"
      ]
     },
     "execution_count": 15,
     "metadata": {},
     "output_type": "execute_result"
    },
    {
     "data": {
      "text/markdown": [
       "diff\n",
       "--- a/helm-chart/templates/frontend.yaml\n",
       "+++"
      ],
      "text/plain": [
       "<IPython.core.display.Markdown object>"
      ]
     },
     "execution_count": 15,
     "metadata": {},
     "output_type": "execute_result"
    },
    {
     "data": {
      "text/markdown": [
       " b/helm-chart/templates/frontend.yaml\n",
       "@@ -72"
      ],
      "text/plain": [
       "<IPython.core.display.Markdown object>"
      ]
     },
     "execution_count": 15,
     "metadata": {},
     "output_type": "execute_result"
    },
    {
     "data": {
      "text/markdown": [
       "8,6 +728,8 @@\n",
       "     - \"*\"\n",
       "     gateway:\n",
       "       name: asm-ingressgateway\n",
       "+      # The default"
      ],
      "text/plain": [
       "<IPython.core.display.Markdown object>"
      ]
     },
     "execution_count": 15,
     "metadata": {},
     "output_type": "execute_result"
    },
    {
     "data": {
      "text/markdown": [
       " Anthos Service Mesh namespace.  Can be overriden.\n",
       "       namespace: asm-ingress\n",
       "       labelKey: asm\n",
       "       labelValue: ingress"
      ],
      "text/plain": [
       "<IPython.core.display.Markdown object>"
      ]
     },
     "execution_count": 15,
     "metadata": {},
     "output_type": "execute_result"
    },
    {
     "data": {
      "text/markdown": [
       "gateway\n",
       "@@ -749,6 +751,8 @@\n",
       "     app: {{ .Values.frontend.name }}\n",
       " spec:\n",
       "   type: ClusterIP\n",
       "+  # Anthos Service Mesh requires the frontend"
      ],
      "text/plain": [
       "<IPython.core.display.Markdown object>"
      ]
     },
     "execution_count": 15,
     "metadata": {},
     "output_type": "execute_result"
    },
    {
     "data": {
      "text/markdown": [
       " to be headless.\n",
       "+  clusterIP: None\n",
       "   selector:\n",
       "     app: {{ .Values.frontend.name }}\n",
       "   ports:\n",
       "@@ -762,6 +766,8 @@\n",
       "   "
      ],
      "text/plain": [
       "<IPython.core.display.Markdown object>"
      ]
     },
     "execution_count": 15,
     "metadata": {},
     "output_type": "execute_result"
    },
    {
     "data": {
      "text/markdown": [
       "name: {{ .Values.frontend.name }}-external\n",
       "   namespace: {{ .Release.Namespace }}\n",
       " spec:\n",
       "+  # When set to NodePort, you can access the frontend via the node's IP and port.\n",
       "+  type: {{ .Values.frontend.service.type }}\n"
      ],
      "text/plain": [
       "<IPython.core.display.Markdown object>"
      ]
     },
     "execution_count": 15,
     "metadata": {},
     "output_type": "execute_result"
    },
    {
     "data": {
      "text/markdown": [
       "   type: LoadBalancer\n",
       "   selector:\n",
       "     app: {{ .Values.frontend.name }}\n",
       "\n",
       "```"
      ],
      "text/plain": [
       "<IPython.core.display.Markdown object>"
      ]
     },
     "execution_count": 15,
     "metadata": {},
     "output_type": "execute_result"
    }
   ],
   "source": [
    "# Combine feature request with URL and get code prompt\n",
    "question = (\n",
    "    \"Implement the following feature request\" + FEATURE_REQUEST_URL + \"\\n\" + issue_body\n",
    ")\n",
    "\n",
    "prompt = get_code_prompt(question)\n",
    "\n",
    "# Generate code response\n",
    "response = call_gemini([prompt])\n",
    "\n",
    "for r in response:\n",
    "    IPython.display.Markdown(r.text)  # Display in Markdown format"
   ]
  },
  {
   "cell_type": "markdown",
   "metadata": {
    "id": "TOk_Qe35b_cJ"
   },
   "source": [
    "### 6. Creating a troubleshooting guide\n",
    "\n",
    "Create a troubleshooting guide to help resolve common issues."
   ]
  },
  {
   "cell_type": "code",
   "execution_count": 16,
   "metadata": {
    "id": "DKn85LS-v0iw",
    "tags": []
   },
   "outputs": [
    {
     "data": {
      "text/markdown": [
       "```"
      ],
      "text/plain": [
       "<IPython.core.display.Markdown object>"
      ]
     },
     "execution_count": 16,
     "metadata": {},
     "output_type": "execute_result"
    },
    {
     "data": {
      "text/markdown": [
       "\n",
       "## Online Boutique Troubleshooting Guide\n",
       "\n",
       "This guide helps you troubleshoot common issues encountered when"
      ],
      "text/plain": [
       "<IPython.core.display.Markdown object>"
      ]
     },
     "execution_count": 16,
     "metadata": {},
     "output_type": "execute_result"
    },
    {
     "data": {
      "text/markdown": [
       " running the Online Boutique microservices demo application.\n",
       "\n",
       "**General Troubleshooting Tips**\n",
       "\n"
      ],
      "text/plain": [
       "<IPython.core.display.Markdown object>"
      ]
     },
     "execution_count": 16,
     "metadata": {},
     "output_type": "execute_result"
    },
    {
     "data": {
      "text/markdown": [
       "* **Check the logs:** Each service has its logging mechanism. Consult the service's README for instructions on accessing its logs. Kubernetes deployments typically log to stdout"
      ],
      "text/plain": [
       "<IPython.core.display.Markdown object>"
      ]
     },
     "execution_count": 16,
     "metadata": {},
     "output_type": "execute_result"
    },
    {
     "data": {
      "text/markdown": [
       "/stderr, which can be viewed using `kubectl logs <pod-name>`.\n",
       "* **Monitor resource usage:** Monitor the CPU and memory consumption of your"
      ],
      "text/plain": [
       "<IPython.core.display.Markdown object>"
      ]
     },
     "execution_count": 16,
     "metadata": {},
     "output_type": "execute_result"
    },
    {
     "data": {
      "text/markdown": [
       " pods using `kubectl top pods`. If a service is consistently using high resources, it might indicate a performance bottleneck.\n",
       "* **Use debugging tools:** For local development, tools like `skaffold debug` allow you to attach a debugger to"
      ],
      "text/plain": [
       "<IPython.core.display.Markdown object>"
      ]
     },
     "execution_count": 16,
     "metadata": {},
     "output_type": "execute_result"
    },
    {
     "data": {
      "text/markdown": [
       " running services. For services running in Kubernetes, consider using tools like `kubectl debug` or remote debugging capabilities provided by your IDE.\n",
       "\n",
       "**Common Issues**\n",
       "\n",
       "1. **Services Not Starting or Crashing**\n",
       "\n",
       "* **Image Pull Errors"
      ],
      "text/plain": [
       "<IPython.core.display.Markdown object>"
      ]
     },
     "execution_count": 16,
     "metadata": {},
     "output_type": "execute_result"
    },
    {
     "data": {
      "text/markdown": [
       ":** Ensure the correct image names and tags are used in your deployment configurations. Verify that you have access to the image repository.\n",
       "* **Dependency Issues:** For compiled languages (Java, C#), ensure all dependencies are correctly installed and resolved.\n",
       "* **Configuration Errors:** Double-check environment variables, connection strings,"
      ],
      "text/plain": [
       "<IPython.core.display.Markdown object>"
      ]
     },
     "execution_count": 16,
     "metadata": {},
     "output_type": "execute_result"
    },
    {
     "data": {
      "text/markdown": [
       " and other configuration settings for accuracy.\n",
       "\n",
       "2. **Network Connectivity Problems**\n",
       "\n",
       "* **Service Discovery:** Verify that the services can discover each other. Check the DNS configuration within your cluster.\n",
       "* **Firewall Rules:** Ensure firewall rules are not blocking communication between services.\n",
       "* **NetworkPolicies (Kubernetes):** If"
      ],
      "text/plain": [
       "<IPython.core.display.Markdown object>"
      ]
     },
     "execution_count": 16,
     "metadata": {},
     "output_type": "execute_result"
    },
    {
     "data": {
      "text/markdown": [
       " using NetworkPolicies, review their configuration to allow necessary traffic between services.\n",
       "\n",
       "3. **Database Connection Errors**\n",
       "\n",
       "* **Connection String:** Verify the connection string used by the service is accurate and points to the correct database instance.\n",
       "* **Database Credentials:** Ensure the database credentials are correct and have the required permissions."
      ],
      "text/plain": [
       "<IPython.core.display.Markdown object>"
      ]
     },
     "execution_count": 16,
     "metadata": {},
     "output_type": "execute_result"
    },
    {
     "data": {
      "text/markdown": [
       "\n",
       "* **Database Availability:** Check that the database instance is running and accessible.\n",
       "\n",
       "4. **Frontend Issues**\n",
       "\n",
       "* **Frontend Service Unavailable:** Check the status of the frontend service and its associated pods.\n",
       "* **External Load Balancer:** If using an external load balancer, ensure it is correctly configured and directing"
      ],
      "text/plain": [
       "<IPython.core.display.Markdown object>"
      ]
     },
     "execution_count": 16,
     "metadata": {},
     "output_type": "execute_result"
    },
    {
     "data": {
      "text/markdown": [
       " traffic to the frontend service.\n",
       "* **Browser Cache:** Clear your browser cache if experiencing stale data or outdated frontend assets.\n",
       "\n",
       "5. **Performance Bottlenecks**\n",
       "\n",
       "* **Resource Constraints:** If a service is performing poorly, review its resource requests and limits in the deployment configuration. Increase resources if necessary.\n"
      ],
      "text/plain": [
       "<IPython.core.display.Markdown object>"
      ]
     },
     "execution_count": 16,
     "metadata": {},
     "output_type": "execute_result"
    },
    {
     "data": {
      "text/markdown": [
       "* **Database Queries:** Optimize database queries for faster execution.\n",
       "* **Caching:** Implement caching mechanisms to reduce the load on backend services.\n",
       "\n",
       "**Service-Specific Issues**\n",
       "\n",
       "* **cartservice (C#):**\n",
       "    * **Redis Connection:** Check the `REDIS_ADDR` environment variable for accuracy and"
      ],
      "text/plain": [
       "<IPython.core.display.Markdown object>"
      ]
     },
     "execution_count": 16,
     "metadata": {},
     "output_type": "execute_result"
    },
    {
     "data": {
      "text/markdown": [
       " ensure the Redis instance is running.\n",
       "    * **Spanner/AlloyDB Connection:** Verify the Spanner/AlloyDB connection string and database credentials.\n",
       "* **productcatalogservice (Go):**\n",
       "    * **Catalog Parsing:** The dynamic catalog reloading feature is intentionally buggy. If experiencing slowness, disable it"
      ],
      "text/plain": [
       "<IPython.core.display.Markdown object>"
      ]
     },
     "execution_count": 16,
     "metadata": {},
     "output_type": "execute_result"
    },
    {
     "data": {
      "text/markdown": [
       " by sending a `USR2` signal to the service pod.\n",
       "    * **Artificial Latency:** Check the `EXTRA_LATENCY` environment variable and remove or adjust it if necessary.\n",
       "* **recommendationservice (Python):**\n",
       "    * **Product Catalog Connection:** Ensure the `PRODUCT_CATALOG_SERVICE_"
      ],
      "text/plain": [
       "<IPython.core.display.Markdown object>"
      ]
     },
     "execution_count": 16,
     "metadata": {},
     "output_type": "execute_result"
    },
    {
     "data": {
      "text/markdown": [
       "ADDR` environment variable is set to the correct address of the productcatalogservice.\n",
       "* **paymentservice (Node.js):**\n",
       "    * **Credit Card Validation:** Review the credit card details being sent in the request. The service only accepts VISA and MasterCard and validates expiration dates.\n",
       "* **emailservice ("
      ],
      "text/plain": [
       "<IPython.core.display.Markdown object>"
      ]
     },
     "execution_count": 16,
     "metadata": {},
     "output_type": "execute_result"
    },
    {
     "data": {
      "text/markdown": [
       "Python):**\n",
       "    * **Email Sending:** The actual email sending functionality is not implemented. The service logs the email details, but no email is sent.\n",
       "* **shippingservice (Go):**\n",
       "    * **Quote Generation:** The service generates a fixed quote based on the number of items, not the"
      ],
      "text/plain": [
       "<IPython.core.display.Markdown object>"
      ]
     },
     "execution_count": 16,
     "metadata": {},
     "output_type": "execute_result"
    },
    {
     "data": {
      "text/markdown": [
       " actual products.\n",
       "* **loadgenerator (Python):**\n",
       "    * **Frontend Connection:** Ensure the `FRONTEND_ADDR` environment variable is set to the correct address of the frontend service.\n",
       "* **currencyservice (Node.js):**\n",
       "    * **Currency Data:** The service uses a"
      ],
      "text/plain": [
       "<IPython.core.display.Markdown object>"
      ]
     },
     "execution_count": 16,
     "metadata": {},
     "output_type": "execute_result"
    },
    {
     "data": {
      "text/markdown": [
       " predefined set of currency conversion rates. Ensure the `currency_conversion.json` file is correctly loaded.\n",
       "\n",
       "**Getting Help**\n",
       "\n",
       "If you encounter an issue not covered in this guide or need further assistance, please [create a GitHub issue](https://github.com/GoogleCloudPlatform/microservices-demo/"
      ],
      "text/plain": [
       "<IPython.core.display.Markdown object>"
      ]
     },
     "execution_count": 16,
     "metadata": {},
     "output_type": "execute_result"
    },
    {
     "data": {
      "text/markdown": [
       "issues/new/choose) providing details about the problem, your deployment environment, and any relevant logs or error messages.\n",
       "```\n",
       "\n",
       "This troubleshooting guide provides a starting point for addressing common problems. By following the tips and checking for service-specific issues, you can efficiently diagnose and resolve issues you encounter while running the Online"
      ],
      "text/plain": [
       "<IPython.core.display.Markdown object>"
      ]
     },
     "execution_count": 16,
     "metadata": {},
     "output_type": "execute_result"
    },
    {
     "data": {
      "text/markdown": [
       " Boutique application. \n"
      ],
      "text/plain": [
       "<IPython.core.display.Markdown object>"
      ]
     },
     "execution_count": 16,
     "metadata": {},
     "output_type": "execute_result"
    }
   ],
   "source": [
    "question = \"\"\"\n",
    "    Provide a troubleshooting guide to help resolve common issues.\n",
    "\"\"\"\n",
    "\n",
    "prompt = get_code_prompt(question)\n",
    "contents = [prompt]\n",
    "\n",
    "responses = call_gemini(contents)\n",
    "for response in responses:\n",
    "    IPython.display.Markdown(response.text)"
   ]
  },
  {
   "cell_type": "markdown",
   "metadata": {
    "id": "h23z0sTsj5pL"
   },
   "source": [
    "### 7. Making the app more reliable\n",
    "\n",
    "Recommend best practices to make the application more reliable.\n"
   ]
  },
  {
   "cell_type": "code",
   "execution_count": 17,
   "metadata": {
    "id": "yOBSulTPLUAo",
    "tags": []
   },
   "outputs": [
    {
     "data": {
      "text/markdown": [
       "```"
      ],
      "text/plain": [
       "<IPython.core.display.Markdown object>"
      ]
     },
     "execution_count": 17,
     "metadata": {},
     "output_type": "execute_result"
    },
    {
     "data": {
      "text/markdown": [
       "python\n",
       "import os\n",
       "import random\n",
       "import time\n",
       "import traceback\n",
       "from concurrent"
      ],
      "text/plain": [
       "<IPython.core.display.Markdown object>"
      ]
     },
     "execution_count": 17,
     "metadata": {},
     "output_type": "execute_result"
    },
    {
     "data": {
      "text/markdown": [
       " import futures\n",
       "\n",
       "import googlecloudprofiler\n",
       "from google.auth.exceptions import Default"
      ],
      "text/plain": [
       "<IPython.core.display.Markdown object>"
      ]
     },
     "execution_count": 17,
     "metadata": {},
     "output_type": "execute_result"
    },
    {
     "data": {
      "text/markdown": [
       "CredentialsError\n",
       "import grpc\n",
       "\n",
       "import demo_pb2\n",
       "import demo_pb2_grpc\n",
       "from grpc_health.v1 import health_pb2"
      ],
      "text/plain": [
       "<IPython.core.display.Markdown object>"
      ]
     },
     "execution_count": 17,
     "metadata": {},
     "output_type": "execute_result"
    },
    {
     "data": {
      "text/markdown": [
       "\n",
       "from grpc_health.v1 import health_pb2_grpc\n",
       "\n",
       "from opentelemetry import trace\n",
       "from opentelemetry.instrumentation"
      ],
      "text/plain": [
       "<IPython.core.display.Markdown object>"
      ]
     },
     "execution_count": 17,
     "metadata": {},
     "output_type": "execute_result"
    },
    {
     "data": {
      "text/markdown": [
       ".grpc import GrpcInstrumentorClient, GrpcInstrumentorServer\n",
       "from opentelemetry.sdk.trace import TracerProvider\n",
       "from opentelemetry.sdk.trace.export import BatchSpanProcessor\n",
       "from opentele"
      ],
      "text/plain": [
       "<IPython.core.display.Markdown object>"
      ]
     },
     "execution_count": 17,
     "metadata": {},
     "output_type": "execute_result"
    },
    {
     "data": {
      "text/markdown": [
       "metry.exporter.otlp.proto.grpc.trace_exporter import OTLPSpanExporter\n",
       "\n",
       "from logger import getJSONLogger\n",
       "logger = getJSONLogger('recommendationservice-server')\n",
       "\n",
       "# Initialize product catalog stub globally\n",
       "product"
      ],
      "text/plain": [
       "<IPython.core.display.Markdown object>"
      ]
     },
     "execution_count": 17,
     "metadata": {},
     "output_type": "execute_result"
    },
    {
     "data": {
      "text/markdown": [
       "_catalog_stub = None\n",
       "\n",
       "def initStackdriverProfiling():\n",
       "  project_id = None\n",
       "  try:\n",
       "    project_id = os.environ[\"GCP_PROJECT_ID\"]\n",
       "  except KeyError:\n",
       "    # Environment variable not set\n",
       "    pass\n",
       "\n",
       "  for retry in range("
      ],
      "text/plain": [
       "<IPython.core.display.Markdown object>"
      ]
     },
     "execution_count": 17,
     "metadata": {},
     "output_type": "execute_result"
    },
    {
     "data": {
      "text/markdown": [
       "1,4):\n",
       "    try:\n",
       "      if project_id:\n",
       "        googlecloudprofiler.start(service='recommendation_server', service_version='1.0.0', verbose=0, project_id=project_id)\n",
       "      else:\n",
       "        googlecloudprofiler.start(service"
      ],
      "text/plain": [
       "<IPython.core.display.Markdown object>"
      ]
     },
     "execution_count": 17,
     "metadata": {},
     "output_type": "execute_result"
    },
    {
     "data": {
      "text/markdown": [
       "='recommendation_server', service_version='1.0.0', verbose=0)\n",
       "      logger.info(\"Successfully started Stackdriver Profiler.\")\n",
       "      return\n",
       "    except (BaseException) as exc:\n",
       "      logger.info(\"Unable to start Stackdriver Profiler Python agent. \" + str"
      ],
      "text/plain": [
       "<IPython.core.display.Markdown object>"
      ]
     },
     "execution_count": 17,
     "metadata": {},
     "output_type": "execute_result"
    },
    {
     "data": {
      "text/markdown": [
       "(exc))\n",
       "      if (retry < 4):\n",
       "        logger.info(\"Sleeping %d seconds to retry Stackdriver Profiler agent initialization\"%(retry*10))\n",
       "        time.sleep (1)\n",
       "      else:\n",
       "        logger.warning(\"Could not initialize Stackdriver Profiler after retrying"
      ],
      "text/plain": [
       "<IPython.core.display.Markdown object>"
      ]
     },
     "execution_count": 17,
     "metadata": {},
     "output_type": "execute_result"
    },
    {
     "data": {
      "text/markdown": [
       ", giving up\")\n",
       "  return\n",
       "\n",
       "class RecommendationService(demo_pb2_grpc.RecommendationServiceServicer):\n",
       "    def ListRecommendations(self, request, context):\n",
       "        max_responses = 5\n",
       "        # Use the global product catalog stub\n",
       "        global product_catalog_stub\n",
       "        if"
      ],
      "text/plain": [
       "<IPython.core.display.Markdown object>"
      ]
     },
     "execution_count": 17,
     "metadata": {},
     "output_type": "execute_result"
    },
    {
     "data": {
      "text/markdown": [
       " product_catalog_stub is None:\n",
       "            context.set_code(grpc.StatusCode.UNAVAILABLE)\n",
       "            context.set_details('Product catalog service is not available.')\n",
       "            return demo_pb2.ListRecommendationsResponse()\n",
       "\n",
       "        # Retry fetching products in case of error\n",
       "        for retry"
      ],
      "text/plain": [
       "<IPython.core.display.Markdown object>"
      ]
     },
     "execution_count": 17,
     "metadata": {},
     "output_type": "execute_result"
    },
    {
     "data": {
      "text/markdown": [
       " in range(1, 4):\n",
       "            try:\n",
       "                cat_response = product_catalog_stub.ListProducts(demo_pb2.Empty())\n",
       "                product_ids = [x.id for x in cat_response.products]\n",
       "                break\n",
       "            except grpc.RpcError as"
      ],
      "text/plain": [
       "<IPython.core.display.Markdown object>"
      ]
     },
     "execution_count": 17,
     "metadata": {},
     "output_type": "execute_result"
    },
    {
     "data": {
      "text/markdown": [
       " e:\n",
       "                logger.warning(f\"Error fetching products from catalog. Retry {retry}: {e.details()}\")\n",
       "                time.sleep(retry * 2)  # Exponential backoff\n",
       "        else:\n",
       "            context.set_code(grpc.StatusCode.UNAVAILABLE)\n",
       "            context"
      ],
      "text/plain": [
       "<IPython.core.display.Markdown object>"
      ]
     },
     "execution_count": 17,
     "metadata": {},
     "output_type": "execute_result"
    },
    {
     "data": {
      "text/markdown": [
       ".set_details('Could not fetch products from product catalog service after retries.')\n",
       "            return demo_pb2.ListRecommendationsResponse()\n",
       "\n",
       "        filtered_products = list(set(product_ids)-set(request.product_ids))\n",
       "        num_products = len(filtered_products)\n",
       "        "
      ],
      "text/plain": [
       "<IPython.core.display.Markdown object>"
      ]
     },
     "execution_count": 17,
     "metadata": {},
     "output_type": "execute_result"
    },
    {
     "data": {
      "text/markdown": [
       "num_return = min(max_responses, num_products)\n",
       "        # sample list of indicies to return\n",
       "        indices = random.sample(range(num_products), num_return)\n",
       "        # fetch product ids from indices\n",
       "        prod_list = [filtered_products[i] for"
      ],
      "text/plain": [
       "<IPython.core.display.Markdown object>"
      ]
     },
     "execution_count": 17,
     "metadata": {},
     "output_type": "execute_result"
    },
    {
     "data": {
      "text/markdown": [
       " i in indices]\n",
       "        logger.info(\"[Recv ListRecommendations] product_ids={}\".format(prod_list))\n",
       "        # build and return response\n",
       "        response = demo_pb2.ListRecommendationsResponse()\n",
       "        response.product_ids.extend(prod_list)\n",
       "        return response\n",
       "\n"
      ],
      "text/plain": [
       "<IPython.core.display.Markdown object>"
      ]
     },
     "execution_count": 17,
     "metadata": {},
     "output_type": "execute_result"
    },
    {
     "data": {
      "text/markdown": [
       "    def Check(self, request, context):\n",
       "        return health_pb2.HealthCheckResponse(\n",
       "            status=health_pb2.HealthCheckResponse.SERVING)\n",
       "\n",
       "    def Watch(self, request, context):\n",
       "        return health_pb2.HealthCheckResponse(\n",
       "            status"
      ],
      "text/plain": [
       "<IPython.core.display.Markdown object>"
      ]
     },
     "execution_count": 17,
     "metadata": {},
     "output_type": "execute_result"
    },
    {
     "data": {
      "text/markdown": [
       "=health_pb2.HealthCheckResponse.UNIMPLEMENTED)\n",
       "\n",
       "\n",
       "if __name__ == \"__main__\":\n",
       "    logger.info(\"initializing recommendationservice\")\n",
       "\n",
       "    try:\n",
       "      if \"DISABLE_PROFILER\" in os.environ:\n",
       "        raise KeyError()\n",
       "      else:\n",
       "        "
      ],
      "text/plain": [
       "<IPython.core.display.Markdown object>"
      ]
     },
     "execution_count": 17,
     "metadata": {},
     "output_type": "execute_result"
    },
    {
     "data": {
      "text/markdown": [
       "logger.info(\"Profiler enabled.\")\n",
       "        initStackdriverProfiling()\n",
       "    except KeyError:\n",
       "        logger.info(\"Profiler disabled.\")\n",
       "\n",
       "    try:\n",
       "      grpc_client_instrumentor = GrpcInstrumentorClient()\n",
       "      grpc_client_instrumentor.instrument()\n",
       "      grpc_server"
      ],
      "text/plain": [
       "<IPython.core.display.Markdown object>"
      ]
     },
     "execution_count": 17,
     "metadata": {},
     "output_type": "execute_result"
    },
    {
     "data": {
      "text/markdown": [
       "_instrumentor = GrpcInstrumentorServer()\n",
       "      grpc_server_instrumentor.instrument()\n",
       "      if os.environ[\"ENABLE_TRACING\"] == \"1\":\n",
       "        trace.set_tracer_provider(TracerProvider())\n",
       "        otel_endpoint = os.getenv(\"COLLECTOR_SERVICE"
      ],
      "text/plain": [
       "<IPython.core.display.Markdown object>"
      ]
     },
     "execution_count": 17,
     "metadata": {},
     "output_type": "execute_result"
    },
    {
     "data": {
      "text/markdown": [
       "_ADDR\", \"localhost:4317\")\n",
       "        trace.get_tracer_provider().add_span_processor(\n",
       "          BatchSpanProcessor(\n",
       "              OTLPSpanExporter(\n",
       "              endpoint = otel_endpoint,\n",
       "              insecure = True\n",
       "            )\n",
       "          )\n",
       "        )\n"
      ],
      "text/plain": [
       "<IPython.core.display.Markdown object>"
      ]
     },
     "execution_count": 17,
     "metadata": {},
     "output_type": "execute_result"
    },
    {
     "data": {
      "text/markdown": [
       "    except (KeyError, DefaultCredentialsError):\n",
       "        logger.info(\"Tracing disabled.\")\n",
       "    except Exception as e:\n",
       "        logger.warn(f\"Exception on Cloud Trace setup: {traceback.format_exc()}, tracing disabled.\") \n",
       "\n",
       "    port = os.environ.get('PORT', \""
      ],
      "text/plain": [
       "<IPython.core.display.Markdown object>"
      ]
     },
     "execution_count": 17,
     "metadata": {},
     "output_type": "execute_result"
    },
    {
     "data": {
      "text/markdown": [
       "8080\")\n",
       "    catalog_addr = os.environ.get('PRODUCT_CATALOG_SERVICE_ADDR', '')\n",
       "    if catalog_addr == \"\":\n",
       "        raise Exception('PRODUCT_CATALOG_SERVICE_ADDR environment variable not set')\n",
       "    logger.info(\"product catalog address: \" + catalog"
      ],
      "text/plain": [
       "<IPython.core.display.Markdown object>"
      ]
     },
     "execution_count": 17,
     "metadata": {},
     "output_type": "execute_result"
    },
    {
     "data": {
      "text/markdown": [
       "_addr)\n",
       "\n",
       "    # Establish connection to the product catalog service with retries\n",
       "    for retry in range(1, 4):\n",
       "        try:\n",
       "            channel = grpc.insecure_channel(catalog_addr)\n",
       "            product_catalog_stub = demo_pb2_grpc.ProductCatalogService"
      ],
      "text/plain": [
       "<IPython.core.display.Markdown object>"
      ]
     },
     "execution_count": 17,
     "metadata": {},
     "output_type": "execute_result"
    },
    {
     "data": {
      "text/markdown": [
       "Stub(channel)\n",
       "            # Test connection\n",
       "            product_catalog_stub.ListProducts(demo_pb2.Empty())\n",
       "            logger.info(\"Successfully connected to product catalog service.\")\n",
       "            break\n",
       "        except grpc.RpcError as e:\n",
       "            logger.warning(f\"Failed to connect"
      ],
      "text/plain": [
       "<IPython.core.display.Markdown object>"
      ]
     },
     "execution_count": 17,
     "metadata": {},
     "output_type": "execute_result"
    },
    {
     "data": {
      "text/markdown": [
       " to product catalog service. Retry {retry}: {e.details()}\")\n",
       "            time.sleep(retry * 2)  # Exponential backoff\n",
       "    else:\n",
       "        logger.fatal(\"Could not connect to product catalog service after retries. Exiting.\")\n",
       "        exit(1)\n",
       "\n",
       "    # create"
      ],
      "text/plain": [
       "<IPython.core.display.Markdown object>"
      ]
     },
     "execution_count": 17,
     "metadata": {},
     "output_type": "execute_result"
    },
    {
     "data": {
      "text/markdown": [
       " gRPC server\n",
       "    server = grpc.server(futures.ThreadPoolExecutor(max_workers=10))\n",
       "\n",
       "    # add class to gRPC server\n",
       "    service = RecommendationService()\n",
       "    demo_pb2_grpc.add_RecommendationServiceServicer_to_server(service, server)\n"
      ],
      "text/plain": [
       "<IPython.core.display.Markdown object>"
      ]
     },
     "execution_count": 17,
     "metadata": {},
     "output_type": "execute_result"
    },
    {
     "data": {
      "text/markdown": [
       "    health_pb2_grpc.add_HealthServicer_to_server(service, server)\n",
       "\n",
       "    # start server\n",
       "    logger.info(\"listening on port: \" + port)\n",
       "    server.add_insecure_port('[::]:'+port)\n",
       "    server.start()\n",
       "\n"
      ],
      "text/plain": [
       "<IPython.core.display.Markdown object>"
      ]
     },
     "execution_count": 17,
     "metadata": {},
     "output_type": "execute_result"
    },
    {
     "data": {
      "text/markdown": [
       "    # keep alive\n",
       "    try:\n",
       "         while True:\n",
       "            time.sleep(10000)\n",
       "    except KeyboardInterrupt:\n",
       "            server.stop(0)\n",
       "```"
      ],
      "text/plain": [
       "<IPython.core.display.Markdown object>"
      ]
     },
     "execution_count": 17,
     "metadata": {},
     "output_type": "execute_result"
    }
   ],
   "source": [
    "question = \"\"\"\n",
    "  How can I make this application more reliable? Consider best practices from https://www.r9y.dev/\n",
    "\"\"\"\n",
    "\n",
    "prompt = get_code_prompt(question)\n",
    "contents = [prompt]\n",
    "\n",
    "responses = call_gemini(contents)\n",
    "for response in responses:\n",
    "    IPython.display.Markdown(response.text)"
   ]
  },
  {
   "cell_type": "markdown",
   "metadata": {
    "id": "uf1jNDpJj8u0"
   },
   "source": [
    "### 8. Making the app more secure\n",
    "\n",
    "Recommend best practices to make the application more secure."
   ]
  },
  {
   "cell_type": "code",
   "execution_count": 18,
   "metadata": {
    "id": "Hy_mCyFVLlXU",
    "tags": []
   },
   "outputs": [
    {
     "data": {
      "text/markdown": [
       "This"
      ],
      "text/plain": [
       "<IPython.core.display.Markdown object>"
      ]
     },
     "execution_count": 18,
     "metadata": {},
     "output_type": "execute_result"
    },
    {
     "data": {
      "text/markdown": [
       " application is the \"Online Boutique\" microservices demo. It is a learning tool"
      ],
      "text/plain": [
       "<IPython.core.display.Markdown object>"
      ]
     },
     "execution_count": 18,
     "metadata": {},
     "output_type": "execute_result"
    },
    {
     "data": {
      "text/markdown": [
       " and not designed for production environments. Security measures mentioned in the documentation are for demonstration"
      ],
      "text/plain": [
       "<IPython.core.display.Markdown object>"
      ]
     },
     "execution_count": 18,
     "metadata": {},
     "output_type": "execute_result"
    },
    {
     "data": {
      "text/markdown": [
       " purposes and should not be considered production-ready. \n",
       "\n",
       "Here's a breakdown of security considerations based on the provided code and context:\n",
       "\n",
       "**General Security"
      ],
      "text/plain": [
       "<IPython.core.display.Markdown object>"
      ]
     },
     "execution_count": 18,
     "metadata": {},
     "output_type": "execute_result"
    },
    {
     "data": {
      "text/markdown": [
       " Considerations:**\n",
       "\n",
       "* **Not Production-Ready:** This application is expressly not intended for production use. The documentation emphasizes its role as a demo and learning tool for"
      ],
      "text/plain": [
       "<IPython.core.display.Markdown object>"
      ]
     },
     "execution_count": 18,
     "metadata": {},
     "output_type": "execute_result"
    },
    {
     "data": {
      "text/markdown": [
       " microservices and Google Cloud technologies.\n",
       "* **Security Measures for Demo Purposes:** The code includes examples of security features (Network Policies, Istio service mesh, Workload Identity) but they are designed to showcase these technologies, not provide hardened"
      ],
      "text/plain": [
       "<IPython.core.display.Markdown object>"
      ]
     },
     "execution_count": 18,
     "metadata": {},
     "output_type": "execute_result"
    },
    {
     "data": {
      "text/markdown": [
       " security.\n",
       "* **No Authentication/Authorization in Default Deployment:** The default setup lacks user authentication and authorization, making it vulnerable to unauthorized access and actions.\n",
       "* **Mock Services:** Services like payments and email are mocked, meaning they don"
      ],
      "text/plain": [
       "<IPython.core.display.Markdown object>"
      ]
     },
     "execution_count": 18,
     "metadata": {},
     "output_type": "execute_result"
    },
    {
     "data": {
      "text/markdown": [
       "'t interact with real external systems. While this simplifies the demo, it does not represent a real-world security scenario.\n",
       "\n",
       "**Specific Security-Related Code Examples:**\n",
       "\n",
       "* **Network Policies:**  The `kustomize/components/network-policies` directory shows examples of NetworkPolicies to restrict traffic between pods"
      ],
      "text/plain": [
       "<IPython.core.display.Markdown object>"
      ]
     },
     "execution_count": 18,
     "metadata": {},
     "output_type": "execute_result"
    },
    {
     "data": {
      "text/markdown": [
       ". However, the README notes that egress is wide open for simplicity, allowing connections to external services (e.g., Kubernetes DNS, Istio control plane, Cloud Trace API).\n",
       "* **Istio Service Mesh:** The `kustomize/components/service-mesh-istio` directory provides configurations for using"
      ],
      "text/plain": [
       "<IPython.core.display.Markdown object>"
      ]
     },
     "execution_count": 18,
     "metadata": {},
     "output_type": "execute_result"
    },
    {
     "data": {
      "text/markdown": [
       " Istio to manage traffic, add observability, and enhance security. It mentions mTLS, JWT, and Authorization features but does not implement them in detail.\n",
       "* **Workload Identity:** This feature, highlighted for integration with Cloud Trace in `kustomize/components/google-cloud-operations`, allows Kubernetes Service"
      ],
      "text/plain": [
       "<IPython.core.display.Markdown object>"
      ]
     },
     "execution_count": 18,
     "metadata": {},
     "output_type": "execute_result"
    },
    {
     "data": {
      "text/markdown": [
       " Accounts to impersonate Google Service Accounts. Correct configuration is crucial to limit permissions and prevent privilege escalation.\n",
       "\n",
       "**Recommendations for Hypothetical Productionization:**\n",
       "\n",
       "If you were to hypothetically use this as a base for a production application, you would need to implement significant security hardening:\n",
       "\n",
       "* **Authentication and Authorization:** Implement a"
      ],
      "text/plain": [
       "<IPython.core.display.Markdown object>"
      ]
     },
     "execution_count": 18,
     "metadata": {},
     "output_type": "execute_result"
    },
    {
     "data": {
      "text/markdown": [
       " robust system for user authentication and fine-grained authorization to control access to resources and operations.\n",
       "* **Secure External Service Integrations:** Replace mock services with real integrations and implement secure communication channels (e.g., HTTPS, API keys, service accounts with least privilege).\n",
       "* **Input Validation:**  Strengthen input validation across"
      ],
      "text/plain": [
       "<IPython.core.display.Markdown object>"
      ]
     },
     "execution_count": 18,
     "metadata": {},
     "output_type": "execute_result"
    },
    {
     "data": {
      "text/markdown": [
       " all services to prevent injection attacks and data corruption.\n",
       "* **Secrets Management:** Store sensitive data (e.g., database credentials, API keys) securely using a secrets management system like Google Cloud Secret Manager.\n",
       "* **Regular Security Audits:** Conduct regular security audits and penetration testing to identify and mitigate vulnerabilities.\n",
       "\n",
       "**"
      ],
      "text/plain": [
       "<IPython.core.display.Markdown object>"
      ]
     },
     "execution_count": 18,
     "metadata": {},
     "output_type": "execute_result"
    },
    {
     "data": {
      "text/markdown": [
       "Conclusion:**\n",
       "\n",
       "The Online Boutique demo provides valuable insights into microservices architecture and related technologies. However, it's essential to understand its limitations as a non-production system.  Treat the security features as learning examples and **do not deploy this application in a production environment without thorough security hardening.** \n"
      ],
      "text/plain": [
       "<IPython.core.display.Markdown object>"
      ]
     },
     "execution_count": 18,
     "metadata": {},
     "output_type": "execute_result"
    }
   ],
   "source": [
    "question = \"\"\"\n",
    "  How can you secure the application?\n",
    "\"\"\"\n",
    "\n",
    "prompt = get_code_prompt(question)\n",
    "contents = [prompt]\n",
    "\n",
    "responses = call_gemini(contents)\n",
    "for response in responses:\n",
    "    IPython.display.Markdown(response.text)"
   ]
  },
  {
   "cell_type": "markdown",
   "metadata": {
    "id": "GFfwMOb6kYfw"
   },
   "source": [
    "### 9. Learning the codebase\n",
    "\n",
    "Create a quiz about the concepts used in the codebase."
   ]
  },
  {
   "cell_type": "code",
   "execution_count": 19,
   "metadata": {
    "id": "l7jQIUwsNRH4",
    "tags": []
   },
   "outputs": [
    {
     "data": {
      "text/markdown": [
       "```"
      ],
      "text/plain": [
       "<IPython.core.display.Markdown object>"
      ]
     },
     "execution_count": 19,
     "metadata": {},
     "output_type": "execute_result"
    },
    {
     "data": {
      "text/markdown": [
       "python\n",
       "import os\n",
       "import random\n",
       "\n",
       "class Question:\n",
       "    def __init"
      ],
      "text/plain": [
       "<IPython.core.display.Markdown object>"
      ]
     },
     "execution_count": 19,
     "metadata": {},
     "output_type": "execute_result"
    },
    {
     "data": {
      "text/markdown": [
       "__(self, question_text, answer_choices, correct_answer_index"
      ],
      "text/plain": [
       "<IPython.core.display.Markdown object>"
      ]
     },
     "execution_count": 19,
     "metadata": {},
     "output_type": "execute_result"
    },
    {
     "data": {
      "text/markdown": [
       "):\n",
       "        self.question_text = question_text\n",
       "        self.answer_choices = answer_choices\n",
       "        self.correct_answer_index"
      ],
      "text/plain": [
       "<IPython.core.display.Markdown object>"
      ]
     },
     "execution_count": 19,
     "metadata": {},
     "output_type": "execute_result"
    },
    {
     "data": {
      "text/markdown": [
       " = correct_answer_index\n",
       "\n",
       "    def check_answer(self, user_answer_index):\n",
       "        return user_answer_index == self."
      ],
      "text/plain": [
       "<IPython.core.display.Markdown object>"
      ]
     },
     "execution_count": 19,
     "metadata": {},
     "output_type": "execute_result"
    },
    {
     "data": {
      "text/markdown": [
       "correct_answer_index\n",
       "\n",
       "    def display_question(self):\n",
       "        print(self.question_text)\n",
       "        for i, choice in enumerate(self.answer_choices):\n",
       "            print(f\"{i+1"
      ],
      "text/plain": [
       "<IPython.core.display.Markdown object>"
      ]
     },
     "execution_count": 19,
     "metadata": {},
     "output_type": "execute_result"
    },
    {
     "data": {
      "text/markdown": [
       "}. {choice}\")\n",
       "\n",
       "questions = [\n",
       "    Question(\n",
       "        \"What database is used by default for the CartService?\",\n",
       "        [\"Redis\", \"Spanner\", \"MySQL\", \"PostGres\"],\n",
       "        0\n",
       "    "
      ],
      "text/plain": [
       "<IPython.core.display.Markdown object>"
      ]
     },
     "execution_count": 19,
     "metadata": {},
     "output_type": "execute_result"
    },
    {
     "data": {
      "text/markdown": [
       "),\n",
       "    Question(\n",
       "        \"Which protocol is used for communication between the microservices?\",\n",
       "        [\"HTTP\", \"gRPC\", \"REST\", \"GraphQL\"],\n",
       "        1\n",
       "    ),\n",
       "    Question(\n",
       "        \"What tool is used for building and deploying the application locally?\",\n",
       "        [\"Docker\","
      ],
      "text/plain": [
       "<IPython.core.display.Markdown object>"
      ]
     },
     "execution_count": 19,
     "metadata": {},
     "output_type": "execute_result"
    },
    {
     "data": {
      "text/markdown": [
       " \"Kubernetes\", \"Skaffold\", \"Jenkins\"],\n",
       "        2\n",
       "    ),\n",
       "    Question(\n",
       "        \"What language is the Frontend service written in?\",\n",
       "        [\"Java\", \"Go\", \"Node.js\", \"C#\"],\n",
       "        1\n",
       "    ),\n",
       "    Question(\n",
       "        \"What service"
      ],
      "text/plain": [
       "<IPython.core.display.Markdown object>"
      ]
     },
     "execution_count": 19,
     "metadata": {},
     "output_type": "execute_result"
    },
    {
     "data": {
      "text/markdown": [
       " is responsible for converting currencies?\",\n",
       "        [\"CartService\", \"RecommendationService\", \"ShippingService\", \"CurrencyService\"],\n",
       "        3\n",
       "    ),\n",
       "    Question(\n",
       "        \"If you wanted to add tracing to the application, which of these tools would help?\",\n",
       "        [\"Prometheus\", \"Jaeger\", \""
      ],
      "text/plain": [
       "<IPython.core.display.Markdown object>"
      ]
     },
     "execution_count": 19,
     "metadata": {},
     "output_type": "execute_result"
    },
    {
     "data": {
      "text/markdown": [
       "Cloud Operations Suite\", \"All of the above\"],\n",
       "        3\n",
       "    ),\n",
       "    Question(\n",
       "        \"What type of Kubernetes service exposes the Frontend to the internet?\",\n",
       "        [\"ClusterIP\", \"LoadBalancer\", \"NodePort\", \"Ingress\"],\n",
       "        1\n",
       "    ),\n",
       "    Question(\n",
       "        \""
      ],
      "text/plain": [
       "<IPython.core.display.Markdown object>"
      ]
     },
     "execution_count": 19,
     "metadata": {},
     "output_type": "execute_result"
    },
    {
     "data": {
      "text/markdown": [
       "What state must the pods be in for the application to be considered ready?\",\n",
       "        [\"Pending\", \"ContainerCreating\", \"Running\", \"Succeeded\"],\n",
       "        2\n",
       "    ),\n",
       "    Question(\n",
       "        \"What signal can be used to trigger dynamic catalog reloading in the ProductCatalog service?\",\n",
       "        [\"SIGTERM"
      ],
      "text/plain": [
       "<IPython.core.display.Markdown object>"
      ]
     },
     "execution_count": 19,
     "metadata": {},
     "output_type": "execute_result"
    },
    {
     "data": {
      "text/markdown": [
       "\", \"SIGINT\", \"SIGKILL\", \"SIGUSR1\"],\n",
       "        3\n",
       "    ),\n",
       "    Question(\n",
       "        \"Which deployment variation changes all branding to Google Cloud's fictitious company?\",\n",
       "        [\"Memorystore\", \"Google Cloud Operations\", \"Spanner\", \"Cymbal Shops Branding\"],\n",
       "        3"
      ],
      "text/plain": [
       "<IPython.core.display.Markdown object>"
      ]
     },
     "execution_count": 19,
     "metadata": {},
     "output_type": "execute_result"
    },
    {
     "data": {
      "text/markdown": [
       "\n",
       "    )\n",
       "]\n",
       "\n",
       "def run_quiz(questions):\n",
       "    score = 0\n",
       "    random.shuffle(questions)\n",
       "    \n",
       "    os.system('cls' if os.name == 'nt' else 'clear')\n",
       "\n",
       "    for question in questions:\n",
       "        question.display_question()"
      ],
      "text/plain": [
       "<IPython.core.display.Markdown object>"
      ]
     },
     "execution_count": 19,
     "metadata": {},
     "output_type": "execute_result"
    },
    {
     "data": {
      "text/markdown": [
       "\n",
       "        \n",
       "        while True:\n",
       "            try:\n",
       "                answer = int(input(\"Enter the number of your answer: \")) - 1\n",
       "                if 0 <= answer < len(question.answer_choices):\n",
       "                    break\n",
       "                else:\n",
       "                    print(\"Invalid input. Please enter a number"
      ],
      "text/plain": [
       "<IPython.core.display.Markdown object>"
      ]
     },
     "execution_count": 19,
     "metadata": {},
     "output_type": "execute_result"
    },
    {
     "data": {
      "text/markdown": [
       " from the list.\")\n",
       "            except ValueError:\n",
       "                print(\"Invalid input. Please enter a number.\")\n",
       "        \n",
       "        if question.check_answer(answer):\n",
       "            print(\"Correct!\")\n",
       "            score += 1\n",
       "        else:\n",
       "            print(f\"Incorrect. The correct answer is {question"
      ],
      "text/plain": [
       "<IPython.core.display.Markdown object>"
      ]
     },
     "execution_count": 19,
     "metadata": {},
     "output_type": "execute_result"
    },
    {
     "data": {
      "text/markdown": [
       ".answer_choices[question.correct_answer_index]}.\")\n",
       "        print()\n",
       "\n",
       "    print(f\"You got {score} out of {len(questions)} questions correct.\")\n",
       "\n",
       "if __name__ == \"__main__\":\n",
       "    run_quiz(questions)\n",
       "```"
      ],
      "text/plain": [
       "<IPython.core.display.Markdown object>"
      ]
     },
     "execution_count": 19,
     "metadata": {},
     "output_type": "execute_result"
    }
   ],
   "source": [
    "question = \"\"\"\n",
    "  Create a quiz about the concepts used in my codebase to help me solidify my understanding.\n",
    "\"\"\"\n",
    "\n",
    "prompt = get_code_prompt(question)\n",
    "contents = [prompt]\n",
    "\n",
    "responses = call_gemini(contents)\n",
    "for response in responses:\n",
    "    IPython.display.Markdown(response.text)"
   ]
  },
  {
   "cell_type": "markdown",
   "metadata": {
    "id": "Rjo1UrZwGLan"
   },
   "source": [
    "### 10. Creating a quickstart tutorial\n",
    "\n",
    "Create an end-to-end quickstart tutorial for a specific component.\n"
   ]
  },
  {
   "cell_type": "code",
   "execution_count": 20,
   "metadata": {
    "id": "FRwmRyDDFRMB",
    "tags": []
   },
   "outputs": [
    {
     "data": {
      "text/markdown": [
       "```"
      ],
      "text/plain": [
       "<IPython.core.display.Markdown object>"
      ]
     },
     "execution_count": 20,
     "metadata": {},
     "output_type": "execute_result"
    },
    {
     "data": {
      "text/markdown": [
       "alloydb\n",
       "## Quickstart: Integrate AlloyDB with the CartService in Online"
      ],
      "text/plain": [
       "<IPython.core.display.Markdown object>"
      ]
     },
     "execution_count": 20,
     "metadata": {},
     "output_type": "execute_result"
    },
    {
     "data": {
      "text/markdown": [
       " Boutique\n",
       "\n",
       "This tutorial demonstrates how to configure the CartService of the Online Boutique micros"
      ],
      "text/plain": [
       "<IPython.core.display.Markdown object>"
      ]
     },
     "execution_count": 20,
     "metadata": {},
     "output_type": "execute_result"
    },
    {
     "data": {
      "text/markdown": [
       "ervices demo application to use AlloyDB as its persistent data store. We'll guide you through provisioning an AlloyDB database, configuring the CartService to connect,"
      ],
      "text/plain": [
       "<IPython.core.display.Markdown object>"
      ]
     },
     "execution_count": 20,
     "metadata": {},
     "output_type": "execute_result"
    },
    {
     "data": {
      "text/markdown": [
       " and highlight AlloyDB's advantages in this scenario.\n",
       "\n",
       "**Prerequisites:**\n",
       "\n",
       "* A Google Cloud project with billing enabled.\n",
       "* Basic familiarity with Kubernetes and"
      ],
      "text/plain": [
       "<IPython.core.display.Markdown object>"
      ]
     },
     "execution_count": 20,
     "metadata": {},
     "output_type": "execute_result"
    },
    {
     "data": {
      "text/markdown": [
       " kubectl.\n",
       "* gcloud CLI installed and configured.\n",
       "\n",
       "**Steps:**\n",
       "\n",
       "1. **Provision AlloyDB:**\n",
       "\n",
       "   * **Enable AlloyDB API:**\n",
       "     ```bash\n",
       "     gcloud services enable alloydb.googleapis."
      ],
      "text/plain": [
       "<IPython.core.display.Markdown object>"
      ]
     },
     "execution_count": 20,
     "metadata": {},
     "output_type": "execute_result"
    },
    {
     "data": {
      "text/markdown": [
       "com\n",
       "     ```\n",
       "\n",
       "   * **Create a Network:**\n",
       "     ```bash\n",
       "     gcloud compute networks create alloydb-network \\\n",
       "         --subnet-mode=custom \\\n",
       "         --bgp-routing-mode=REGIONAL\n"
      ],
      "text/plain": [
       "<IPython.core.display.Markdown object>"
      ]
     },
     "execution_count": 20,
     "metadata": {},
     "output_type": "execute_result"
    },
    {
     "data": {
      "text/markdown": [
       "     ```\n",
       "\n",
       "   * **Create a Subnet:**\n",
       "     ```bash\n",
       "     gcloud compute networks subnets create alloydb-subnet \\\n",
       "         --network=alloydb-network \\\n",
       "         --region=us-central1 \\\n",
       "         --range=10.12.0.0/"
      ],
      "text/plain": [
       "<IPython.core.display.Markdown object>"
      ]
     },
     "execution_count": 20,
     "metadata": {},
     "output_type": "execute_result"
    },
    {
     "data": {
      "text/markdown": [
       "24\n",
       "     ```\n",
       "\n",
       "   * **Create an AlloyDB cluster:**\n",
       "     ```bash\n",
       "     gcloud alloydb clusters create online-boutique-cluster \\\n",
       "         --region=us-central1 \\\n",
       "         --network=alloydb-network\n",
       "     ```\n",
       "     **Note**: This process takes some"
      ],
      "text/plain": [
       "<IPython.core.display.Markdown object>"
      ]
     },
     "execution_count": 20,
     "metadata": {},
     "output_type": "execute_result"
    },
    {
     "data": {
      "text/markdown": [
       " time (approx. 20 minutes) for cluster creation.\n",
       "\n",
       "   * **Create an AlloyDB primary instance:**\n",
       "     ```bash\n",
       "     gcloud alloydb instances create online-boutique-instance \\\n",
       "         --cluster=online-boutique-cluster \\\n",
       "         --region=us-central1 \\\n"
      ],
      "text/plain": [
       "<IPython.core.display.Markdown object>"
      ]
     },
     "execution_count": 20,
     "metadata": {},
     "output_type": "execute_result"
    },
    {
     "data": {
      "text/markdown": [
       "         --instance-type=PRIMARY\n",
       "     ```\n",
       "\n",
       "   * **Create an AlloyDB read pool instance (optional, for scalability):**\n",
       "     ```bash\n",
       "     gcloud alloydb instances create online-boutique-read-pool \\\n",
       "         --cluster=online-boutique-cluster \\\n",
       "         --region="
      ],
      "text/plain": [
       "<IPython.core.display.Markdown object>"
      ]
     },
     "execution_count": 20,
     "metadata": {},
     "output_type": "execute_result"
    },
    {
     "data": {
      "text/markdown": [
       "us-central1 \\\n",
       "         --instance-type=READ_POOL\n",
       "     ```\n",
       "\n",
       "   * **Create a database for the CartService:**\n",
       "     ```bash\n",
       "     gcloud alloydb instances connect online-boutique-instance --region=us-central1 \\\n",
       "         --sql=\"CREATE DATABASE carts;\""
      ],
      "text/plain": [
       "<IPython.core.display.Markdown object>"
      ]
     },
     "execution_count": 20,
     "metadata": {},
     "output_type": "execute_result"
    },
    {
     "data": {
      "text/markdown": [
       "\n",
       "     ```\n",
       "\n",
       "2. **Configure CartService:**\n",
       "\n",
       "   * **Retrieve connection details:**\n",
       "      ```bash\n",
       "      export ALLOYDB_HOST=$(gcloud alloydb instances describe online-boutique-instance --region us-central1 --format 'value(ipAddress)')\n",
       "      export ALLOYDB_USER"
      ],
      "text/plain": [
       "<IPython.core.display.Markdown object>"
      ]
     },
     "execution_count": 20,
     "metadata": {},
     "output_type": "execute_result"
    },
    {
     "data": {
      "text/markdown": [
       "=postgres\n",
       "      ```\n",
       "      You'll need to set the `ALLOYDB_PASSWORD` environment variable separately, either directly or via a secret management solution.\n",
       "\n",
       "   * **Modify the CartService deployment:**\n",
       "     ```yaml\n",
       "     # In the 'cartservice' deployment YAML:\n",
       "     spec:"
      ],
      "text/plain": [
       "<IPython.core.display.Markdown object>"
      ]
     },
     "execution_count": 20,
     "metadata": {},
     "output_type": "execute_result"
    },
    {
     "data": {
      "text/markdown": [
       "\n",
       "       template:\n",
       "         spec:\n",
       "           containers:\n",
       "           - name: server\n",
       "             env:\n",
       "               - name: ALLOYDB_HOST \n",
       "                 value: $(ALLOYDB_HOST)\n",
       "               - name: ALLOYDB_USER\n",
       "                 value: $(ALLOYDB_USER"
      ],
      "text/plain": [
       "<IPython.core.display.Markdown object>"
      ]
     },
     "execution_count": 20,
     "metadata": {},
     "output_type": "execute_result"
    },
    {
     "data": {
      "text/markdown": [
       ")\n",
       "               - name: ALLOYDB_PASSWORD\n",
       "                 value: <your_alloydb_password> \n",
       "               - name: ALLOYDB_DATABASE\n",
       "                 value: carts\n",
       "     ```\n",
       "\n",
       "3. **Deploy and Test:**\n",
       "\n",
       "   * Deploy your updated `cartservice` deployment to your Kubernetes"
      ],
      "text/plain": [
       "<IPython.core.display.Markdown object>"
      ]
     },
     "execution_count": 20,
     "metadata": {},
     "output_type": "execute_result"
    },
    {
     "data": {
      "text/markdown": [
       " cluster.\n",
       "   * Access the Online Boutique frontend and add items to the cart.\n",
       "   * Verify the CartService is correctly storing and retrieving cart data from AlloyDB.\n",
       "\n",
       "**Key Capabilities of AlloyDB:**\n",
       "\n",
       "* **High Performance:** AlloyDB delivers superior performance compared to standard PostgreSQL, making it ideal for transaction"
      ],
      "text/plain": [
       "<IPython.core.display.Markdown object>"
      ]
     },
     "execution_count": 20,
     "metadata": {},
     "output_type": "execute_result"
    },
    {
     "data": {
      "text/markdown": [
       "-intensive applications like the CartService.\n",
       "* **Scalability:** AlloyDB's read pool instances provide horizontal scalability, allowing you to handle high volumes of read traffic from the frontend.\n",
       "* **Managed Service:** AlloyDB is a fully managed service, eliminating the need for database administration tasks. This allows you to"
      ],
      "text/plain": [
       "<IPython.core.display.Markdown object>"
      ]
     },
     "execution_count": 20,
     "metadata": {},
     "output_type": "execute_result"
    },
    {
     "data": {
      "text/markdown": [
       " focus on application development rather than database management.\n",
       "* **Integration with Google Cloud:** AlloyDB integrates seamlessly with other Google Cloud services, such as Secret Manager for secure password management.\n",
       "\n",
       "By following these steps, you've successfully integrated AlloyDB with the CartService of Online Boutique, leveraging its high performance and scalability to"
      ],
      "text/plain": [
       "<IPython.core.display.Markdown object>"
      ]
     },
     "execution_count": 20,
     "metadata": {},
     "output_type": "execute_result"
    },
    {
     "data": {
      "text/markdown": [
       " enhance the application's responsiveness and resilience. \n",
       "```"
      ],
      "text/plain": [
       "<IPython.core.display.Markdown object>"
      ]
     },
     "execution_count": 20,
     "metadata": {},
     "output_type": "execute_result"
    }
   ],
   "source": [
    "question = \"\"\"\n",
    "  Please write an end-to-end quickstart tutorial that introduces AlloyDB,\n",
    "  shows how to configure it with the CartService,\n",
    "  and highlights key capabilities of AlloyDB in context of the Online Boutique application.\n",
    "\"\"\"\n",
    "\n",
    "prompt = get_code_prompt(question)\n",
    "contents = [prompt]\n",
    "\n",
    "responses = call_gemini(contents)\n",
    "for response in responses:\n",
    "    IPython.display.Markdown(response.text)"
   ]
  },
  {
   "cell_type": "markdown",
   "metadata": {
    "id": "OAJ-kBCZnlH_"
   },
   "source": [
    "### 11. Creating a Git Changelog Generator\n",
    "\n",
    "Understanding changes made between Git commits and highlighting the most important aspects of the changes."
   ]
  },
  {
   "cell_type": "code",
   "execution_count": 21,
   "metadata": {
    "id": "jdeWO8crnlH_",
    "tags": []
   },
   "outputs": [
    {
     "data": {
      "text/markdown": [
       "The"
      ],
      "text/plain": [
       "<IPython.core.display.Markdown object>"
      ]
     },
     "execution_count": 21,
     "metadata": {},
     "output_type": "execute_result"
    },
    {
     "data": {
      "text/markdown": [
       " update introduces several changes, including:\n",
       "\n",
       "- **Configuration for end-of-"
      ],
      "text/plain": [
       "<IPython.core.display.Markdown object>"
      ]
     },
     "execution_count": 21,
     "metadata": {},
     "output_type": "execute_result"
    },
    {
     "data": {
      "text/markdown": [
       "line (EOL) handling:** A `.gitattributes` file is added to convert"
      ],
      "text/plain": [
       "<IPython.core.display.Markdown object>"
      ]
     },
     "execution_count": 21,
     "metadata": {},
     "output_type": "execute_result"
    },
    {
     "data": {
      "text/markdown": [
       " line endings to LF for all text files, ensuring consistent handling across operating systems.\n",
       "- **Enhanced `.gitignore` file:** The `.gitignore` file"
      ],
      "text/plain": [
       "<IPython.core.display.Markdown object>"
      ]
     },
     "execution_count": 21,
     "metadata": {},
     "output_type": "execute_result"
    },
    {
     "data": {
      "text/markdown": [
       " is expanded to exclude additional files and directories, such as `.kubernetes-manifests-*`, `.terraform.lock.hcl`, `.terraform/*`, `Docker"
      ],
      "text/plain": [
       "<IPython.core.display.Markdown object>"
      ]
     },
     "execution_count": 21,
     "metadata": {},
     "output_type": "execute_result"
    },
    {
     "data": {
      "text/markdown": [
       "file.pip`, and `release/wi-kubernetes-manifests.yaml`.\n",
       "- **Skaffold configuration for Google Cloud Build:** The `skaffold.yaml` file now includes a \"gcb\" profile, allowing building and"
      ],
      "text/plain": [
       "<IPython.core.display.Markdown object>"
      ]
     },
     "execution_count": 21,
     "metadata": {},
     "output_type": "execute_result"
    },
    {
     "data": {
      "text/markdown": [
       " pushing images using Google Cloud Build. This profile is optional and can be activated using the `-p gcb` flag.\n",
       "- **Cloud Build configuration updates:** The `cloudbuild.yaml` file is modified to use a specific version"
      ],
      "text/plain": [
       "<IPython.core.display.Markdown object>"
      ]
     },
     "execution_count": 21,
     "metadata": {},
     "output_type": "execute_result"
    },
    {
     "data": {
      "text/markdown": [
       " of `skaffold` (v2.13.2) for building and deploying the application. The timeout for the build step is increased to 3600 seconds and the machine type is set to `N1_HIGHCPU_8` for more processing power.\n",
       "- **.editorconfig for"
      ],
      "text/plain": [
       "<IPython.core.display.Markdown object>"
      ]
     },
     "execution_count": 21,
     "metadata": {},
     "output_type": "execute_result"
    },
    {
     "data": {
      "text/markdown": [
       " code style consistency:** An `.editorconfig` file is introduced to enforce consistent code style across different editors and IDEs, specifying indentation styles and sizes for various file types.\n",
       "- **License update:** The `LICENSE` file is updated with the full text of the Apache License, Version 2.0.\n",
       "-"
      ],
      "text/plain": [
       "<IPython.core.display.Markdown object>"
      ]
     },
     "execution_count": 21,
     "metadata": {},
     "output_type": "execute_result"
    },
    {
     "data": {
      "text/markdown": [
       " **Updated documentation:** Several documentation files are updated, including `product-requirements.md`, `purpose.md`, `deploystack.md`, `development-guide.md`, and `cloudshell-tutorial.md`. These updates aim to clarify the purpose, requirements, and usage of the Online Boutique application, along"
      ],
      "text/plain": [
       "<IPython.core.display.Markdown object>"
      ]
     },
     "execution_count": 21,
     "metadata": {},
     "output_type": "execute_result"
    },
    {
     "data": {
      "text/markdown": [
       " with providing instructions for various deployment options.\n",
       "- **Helm Chart creation and release:** Scripts (`make-helm-chart.sh`) and documentation (`docs/releasing/make-helm-chart.sh`, `docs/releasing/README.md`, `docs/releasing/make-release.sh`, `docs"
      ],
      "text/plain": [
       "<IPython.core.display.Markdown object>"
      ]
     },
     "execution_count": 21,
     "metadata": {},
     "output_type": "execute_result"
    },
    {
     "data": {
      "text/markdown": [
       "/releasing/license_header.txt`, `docs/releasing/make-docker-images.sh`, `docs/releasing/make-release-artifacts.sh`) related to building, pushing, and releasing Online Boutique's Helm chart are added. The Helm chart is intended to simplify deployment and management of the"
      ],
      "text/plain": [
       "<IPython.core.display.Markdown object>"
      ]
     },
     "execution_count": 21,
     "metadata": {},
     "output_type": "execute_result"
    },
    {
     "data": {
      "text/markdown": [
       " application.\n",
       "- **DeployStack support:** The `docs/deploystack.md` file is updated to include instructions and a button for deploying Online Boutique using DeployStack, a tool for easy deployment to Google Cloud.\n",
       "- **Updates for DeployStack tests:** Files related to DeployStack testing are added or modified,"
      ],
      "text/plain": [
       "<IPython.core.display.Markdown object>"
      ]
     },
     "execution_count": 21,
     "metadata": {},
     "output_type": "execute_result"
    },
    {
     "data": {
      "text/markdown": [
       " including `.deploystack/test`, `.deploystack/test.yaml`, `.deploystack/deploystack.yaml`, `.deploystack/messages/description.txt`, `.deploystack/messages/success.txt`, and `.deploystack/scripts/preinit.sh`. These changes aim to improve the testing process"
      ],
      "text/plain": [
       "<IPython.core.display.Markdown object>"
      ]
     },
     "execution_count": 21,
     "metadata": {},
     "output_type": "execute_result"
    },
    {
     "data": {
      "text/markdown": [
       " for DeployStack deployments.\n",
       "- **Enhancements to Helm chart:**  The `helm-chart/` directory sees updates to its `README.md`, `Chart.yaml`, and `values.yaml` files. These changes provide instructions for deploying Online Boutique using the Helm chart, detail configuration options, and specify"
      ],
      "text/plain": [
       "<IPython.core.display.Markdown object>"
      ]
     },
     "execution_count": 21,
     "metadata": {},
     "output_type": "execute_result"
    },
    {
     "data": {
      "text/markdown": [
       " version information.\n",
       "- **Addition of shopping assistant service:** Files related to a new `shoppingassistantservice`, including Dockerfile, `shoppingassistantservice.py`, `requirements.txt`, `requirements.in`, `kustomization.yaml`, and shell scripts for deployment and database management, are added."
      ],
      "text/plain": [
       "<IPython.core.display.Markdown object>"
      ]
     },
     "execution_count": 21,
     "metadata": {},
     "output_type": "execute_result"
    },
    {
     "data": {
      "text/markdown": [
       " This service likely extends the functionality of Online Boutique, potentially integrating AI features or enhancing the shopping experience.\n",
       "\n",
       "Overall, the changes reflect improvements in various areas of the project, including code style consistency, build and deployment processes, documentation, security, and support for new tools and services. The addition of a shopping assistant service suggests"
      ],
      "text/plain": [
       "<IPython.core.display.Markdown object>"
      ]
     },
     "execution_count": 21,
     "metadata": {},
     "output_type": "execute_result"
    },
    {
     "data": {
      "text/markdown": [
       " a significant functional enhancement to the Online Boutique application.\n"
      ],
      "text/plain": [
       "<IPython.core.display.Markdown object>"
      ]
     },
     "execution_count": 21,
     "metadata": {},
     "output_type": "execute_result"
    }
   ],
   "source": [
    "### Fetches commit IDs from a local Git repository on a specified branch.\n",
    "\n",
    "repo = git.Repo(repo_dir)\n",
    "branch_name = \"main\"\n",
    "commit_ids = [\n",
    "    commit.hexsha for commit in repo.iter_commits(branch_name)\n",
    "]  # A list of commit IDs (SHA-1 hashes) in reverse chronological order (newest first)\n",
    "\n",
    "if len(commit_ids) >= 2:\n",
    "    diff_text = repo.git.diff(commit_ids[0], commit_ids[1])\n",
    "\n",
    "    question = \"\"\"\n",
    "      Given the above git diff output, Summarize the important changes made.\n",
    "    \"\"\"\n",
    "\n",
    "    prompt = diff_text + question + code_text\n",
    "    contents = [prompt]\n",
    "\n",
    "    responses = call_gemini(contents)\n",
    "    for response in responses:\n",
    "        IPython.display.Markdown(response.text)"
   ]
  },
  {
   "cell_type": "markdown",
   "metadata": {
    "id": "7kUeIBfGyoX7"
   },
   "source": [
    "## Conclusion\n",
    "\n",
    "In this tutorial, you've learned how to use the Gemini 1.5 Pro to analyze a codebase and prompt the model to:\n",
    "\n",
    "- Summarize codebases effortlessly.\n",
    "- Generate clear developer getting-started documentation.\n",
    "- Uncover critical bugs and provide fixes.\n",
    "- Implement new features and improve reliability and security.\n",
    "- Understanding changes made between Git commits"
   ]
  },
  {
   "cell_type": "code",
   "execution_count": null,
   "metadata": {},
   "outputs": [],
   "source": []
  },
  {
   "cell_type": "code",
   "execution_count": null,
   "metadata": {},
   "outputs": [],
   "source": []
  }
 ],
 "metadata": {
  "colab": {
   "name": "analyze_codebase_with_gemini_1_5_pro.ipynb",
   "toc_visible": true
  },
  "environment": {
   "kernel": "conda-base-py",
   "name": "workbench-notebooks.m126",
   "type": "gcloud",
   "uri": "us-docker.pkg.dev/deeplearning-platform-release/gcr.io/workbench-notebooks:m126"
  },
  "kernelspec": {
   "display_name": "Python 3 (ipykernel) (Local) (Local)",
   "language": "python",
   "name": "conda-base-py"
  },
  "language_info": {
   "codemirror_mode": {
    "name": "ipython",
    "version": 3
   },
   "file_extension": ".py",
   "mimetype": "text/x-python",
   "name": "python",
   "nbconvert_exporter": "python",
   "pygments_lexer": "ipython3",
   "version": "3.10.15"
  }
 },
 "nbformat": 4,
 "nbformat_minor": 4
}
