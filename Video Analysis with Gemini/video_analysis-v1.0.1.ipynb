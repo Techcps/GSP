{
 "cells": [
  {
   "cell_type": "code",
   "execution_count": 1,
   "metadata": {
    "id": "ijGzTHJJUCPY",
    "tags": []
   },
   "outputs": [],
   "source": [
    "# Copyright 2024 Google LLC\n",
    "#\n",
    "# Licensed under the Apache License, Version 2.0 (the \"License\");\n",
    "# you may not use this file except in compliance with the License.\n",
    "# You may obtain a copy of the License at\n",
    "#\n",
    "#     https://www.apache.org/licenses/LICENSE-2.0\n",
    "#\n",
    "# Unless required by applicable law or agreed to in writing, software\n",
    "# distributed under the License is distributed on an \"AS IS\" BASIS,\n",
    "# WITHOUT WARRANTIES OR CONDITIONS OF ANY KIND, either express or implied.\n",
    "# See the License for the specific language governing permissions and\n",
    "# limitations under the License."
   ]
  },
  {
   "cell_type": "markdown",
   "metadata": {
    "id": "VEqbX8OhE8y9"
   },
   "source": [
    "# Video Analysis with Gemini\n",
    "\n",
    "<table align=\"left\">\n",
    "  <td style=\"text-align: center\">\n",
    "    <a href=\"https://colab.research.google.com/github/GoogleCloudPlatform/generative-ai/blob/main/gemini/use-cases/video-analysis/video_analysis.ipynb\">\n",
    "      <img src=\"https://cloud.google.com/ml-engine/images/colab-logo-32px.png\" alt=\"Google Colaboratory logo\"><br> Run in Colab\n",
    "    </a>\n",
    "  </td>\n",
    "  <td style=\"text-align: center\">\n",
    "    <a href=\"https://console.cloud.google.com/vertex-ai/colab/import/https:%2F%2Fraw.githubusercontent.com%2FGoogleCloudPlatform%2Fgenerative-ai%2Fmain%2Fgemini%2Fuse-cases%2Fvideo-analysis%2Fvideo_analysis.ipynb\">\n",
    "      <img width=\"32px\" src=\"https://lh3.googleusercontent.com/JmcxdQi-qOpctIvWKgPtrzZdJJK-J3sWE1RsfjZNwshCFgE_9fULcNpuXYTilIR2hjwN\" alt=\"Google Cloud Colab Enterprise logo\"><br> Run in Colab Enterprise\n",
    "    </a>\n",
    "  </td>       \n",
    "  <td style=\"text-align: center\">\n",
    "    <a href=\"https://github.com/GoogleCloudPlatform/generative-ai/blob/main/gemini/use-cases/video-analysis/video_analysis.ipynb\">\n",
    "      <img src=\"https://cloud.google.com/ml-engine/images/github-logo-32px.png\" alt=\"GitHub logo\"><br> View on GitHub\n",
    "    </a>\n",
    "  </td>\n",
    "  <td style=\"text-align: center\">\n",
    "    <a href=\"https://console.cloud.google.com/vertex-ai/workbench/deploy-notebook?download_url=https://raw.githubusercontent.com/GoogleCloudPlatform/generative-ai/main/gemini/use-cases/video-analysis/video_analysis.ipynb\">\n",
    "      <img src=\"https://lh3.googleusercontent.com/UiNooY4LUgW_oTvpsNhPpQzsstV5W8F7rYgxgGBD85cWJoLmrOzhVs_ksK_vgx40SHs7jCqkTkCk=e14-rj-sc0xffffff-h130-w32\" alt=\"Vertex AI logo\"><br> Open in Vertex AI Workbench\n",
    "    </a>\n",
    "  </td>\n",
    "</table>\n"
   ]
  },
  {
   "cell_type": "markdown",
   "metadata": {
    "id": "5ad877ea09dd"
   },
   "source": [
    "| | |\n",
    "|-|-|\n",
    "|Author(s) | [Holt Skinner](https://github.com/holtskinner) |"
   ]
  },
  {
   "cell_type": "markdown",
   "metadata": {
    "id": "r11Gu7qNgx1p"
   },
   "source": [
    "## Getting Started\n"
   ]
  },
  {
   "cell_type": "markdown",
   "metadata": {
    "id": "No17Cw5hgx12"
   },
   "source": [
    "### Install Vertex AI SDK for Python"
   ]
  },
  {
   "cell_type": "code",
   "execution_count": 2,
   "metadata": {
    "id": "tFy3H3aPgx12",
    "tags": []
   },
   "outputs": [
    {
     "name": "stdout",
     "output_type": "stream",
     "text": [
      "\u001b[33m  WARNING: The script tb-gcp-uploader is installed in '/home/jupyter/.local/bin' which is not on PATH.\n",
      "  Consider adding this directory to PATH or, if you prefer to suppress this warning, use --no-warn-script-location.\u001b[0m\u001b[33m\n",
      "\u001b[0mNote: you may need to restart the kernel to use updated packages.\n"
     ]
    }
   ],
   "source": [
    "%pip install --upgrade --user -q google-cloud-aiplatform"
   ]
  },
  {
   "cell_type": "markdown",
   "metadata": {
    "id": "R5Xep4W9lq-Z"
   },
   "source": [
    "### Restart current runtime\n",
    "\n",
    "To use the newly installed packages in this Jupyter runtime, you must restart the runtime. You can do this by running the cell below, which will restart the current kernel."
   ]
  },
  {
   "cell_type": "code",
   "execution_count": 3,
   "metadata": {
    "id": "XRvKdaPDTznN",
    "tags": []
   },
   "outputs": [
    {
     "data": {
      "text/plain": [
       "{'status': 'ok', 'restart': True}"
      ]
     },
     "execution_count": 3,
     "metadata": {},
     "output_type": "execute_result"
    }
   ],
   "source": [
    "# Restart kernel after installs so that your environment can access the new packages\n",
    "import IPython\n",
    "\n",
    "app = IPython.Application.instance()\n",
    "app.kernel.do_shutdown(True)"
   ]
  },
  {
   "cell_type": "markdown",
   "metadata": {
    "id": "SbmM4z7FOBpM"
   },
   "source": [
    "<div class=\"alert alert-block alert-warning\">\n",
    "<b>⚠️ The kernel is going to restart. Please wait until it is finished before continuing to the next step. ⚠️</b>\n",
    "</div>\n"
   ]
  },
  {
   "cell_type": "markdown",
   "metadata": {
    "id": "dmWOrTJ3gx13"
   },
   "source": [
    "### Authenticate your notebook environment (Colab only)\n",
    "\n",
    "If you are running this notebook on Google Colab, run the following cell to authenticate your environment. This step is not required if you are using [Vertex AI Workbench](https://cloud.google.com/vertex-ai-workbench).\n"
   ]
  },
  {
   "cell_type": "code",
   "execution_count": 1,
   "metadata": {
    "id": "NyKGtVQjgx13",
    "tags": []
   },
   "outputs": [],
   "source": [
    "import sys\n",
    "\n",
    "# Additional authentication is required for Google Colab\n",
    "if \"google.colab\" in sys.modules:\n",
    "    # Authenticate user to Google Cloud\n",
    "    from google.colab import auth\n",
    "\n",
    "    auth.authenticate_user()"
   ]
  },
  {
   "cell_type": "markdown",
   "metadata": {
    "id": "DF4l8DTdWgPY"
   },
   "source": [
    "### Set Google Cloud project information and initialize Vertex AI SDK\n",
    "\n",
    "To get started using Vertex AI, you must have an existing Google Cloud project and [enable the Vertex AI API](https://console.cloud.google.com/flows/enableapi?apiid=aiplatform.googleapis.com).\n",
    "\n",
    "Learn more about [setting up a project and a development environment](https://cloud.google.com/vertex-ai/docs/start/cloud-environment)."
   ]
  },
  {
   "cell_type": "code",
   "execution_count": 2,
   "metadata": {
    "id": "Nqwi-5ufWp_B",
    "tags": []
   },
   "outputs": [],
   "source": [
    "# Define project information\n",
    "PROJECT_ID = \"qwiklabs-gcp-02-66bfa367acb3\"  # @param {type:\"string\"}\n",
    "LOCATION = \"us-east4\"  # @param {type:\"string\"}\n",
    "\n",
    "# Initialize Vertex AI\n",
    "import vertexai\n",
    "\n",
    "vertexai.init(project=PROJECT_ID, location=LOCATION)"
   ]
  },
  {
   "cell_type": "code",
   "execution_count": 2,
   "metadata": {
    "id": "Nqwi-5ufWp_B",
    "tags": []
   },
   "outputs": [],
   "source": [
    "# Please like share & subscribe to Techcps\n",
    "# YouTube https://www.youtube.com/@techcps\n",
    "\n",
    "print(\"Please like share & subscribe to Techcps https://www.youtube.com/@techcps\")"
   ]
  },
  {
   "cell_type": "markdown",
   "metadata": {
    "id": "jXHfaVS66_01"
   },
   "source": [
    "### Import libraries\n"
   ]
  },
  {
   "cell_type": "code",
   "execution_count": 3,
   "metadata": {
    "id": "lslYAvw37JGQ",
    "tags": []
   },
   "outputs": [],
   "source": [
    "from IPython.display import Markdown, Video, display\n",
    "from vertexai.preview.generative_models import (\n",
    "    GenerationConfig,\n",
    "    GenerativeModel,\n",
    "    HarmBlockThreshold,\n",
    "    HarmCategory,\n",
    "    Part,\n",
    ")"
   ]
  },
  {
   "cell_type": "markdown",
   "metadata": {
    "id": "FTMywdzUORIA"
   },
   "source": [
    "### Load the Gemini 1.5 Pro model\n",
    "\n",
    "Gemini 1.5 Pro (`gemini-1.5-pro`) is a multimodal model that supports multimodal prompts. You can include text, image(s), PDFs, audio, and video in your prompt requests and get text or code responses."
   ]
  },
  {
   "cell_type": "code",
   "execution_count": 4,
   "metadata": {
    "id": "lRyTw2iPhEXG",
    "tags": []
   },
   "outputs": [],
   "source": [
    "model = GenerativeModel(\"gemini-1.5-pro\")\n",
    "\n",
    "generation_config = GenerationConfig(temperature=1, top_p=0.95, max_output_tokens=8192)\n",
    "\n",
    "safety_settings = {\n",
    "    HarmCategory.HARM_CATEGORY_HATE_SPEECH: HarmBlockThreshold.BLOCK_ONLY_HIGH,\n",
    "    HarmCategory.HARM_CATEGORY_DANGEROUS_CONTENT: HarmBlockThreshold.BLOCK_ONLY_HIGH,\n",
    "    HarmCategory.HARM_CATEGORY_SEXUALLY_EXPLICIT: HarmBlockThreshold.BLOCK_ONLY_HIGH,\n",
    "    HarmCategory.HARM_CATEGORY_HARASSMENT: HarmBlockThreshold.BLOCK_ONLY_HIGH,\n",
    "}"
   ]
  },
  {
   "cell_type": "markdown",
   "metadata": {
    "id": "acf455813c5f"
   },
   "source": [
    "### Helper functions"
   ]
  },
  {
   "cell_type": "code",
   "execution_count": 5,
   "metadata": {
    "id": "b82d26e475c7",
    "tags": []
   },
   "outputs": [],
   "source": [
    "def get_url_from_gcs(gcs_uri: str) -> str:\n",
    "    # converts GCS uri to url for display.\n",
    "    return gcs_uri.replace(\"gs://\", \"https://storage.googleapis.com/\").replace(\n",
    "        \" \", \"%20\"\n",
    "    )"
   ]
  },
  {
   "cell_type": "markdown",
   "metadata": {
    "id": "Wy75sLb-yjNn"
   },
   "source": [
    "## Sentiment Analysis from Video and Audio\n",
    "\n",
    "For this example, we will be analyzing a video of the first televised US presidential debate between John F. Kennedy and Richard Nixon. This debate is largely believed to have been critical in securing JFK's victory due to his calm and personable demeanor for the broadcast.\n",
    "\n",
    "The video is an hour long, which is roughly equivalent to 1 Million Tokens for Gemini 1.5 Pro."
   ]
  },
  {
   "cell_type": "code",
   "execution_count": 6,
   "metadata": {
    "id": "75ef371ea16f",
    "tags": []
   },
   "outputs": [],
   "source": [
    "video_analysis_prompt = \"\"\"You are an expert in politics and history. Provide a detailed analysis of the video including each speakers facial expressions and mood at key points.\"\"\""
   ]
  },
  {
   "cell_type": "code",
   "execution_count": 7,
   "metadata": {
    "id": "KzqjpEiryjNo",
    "tags": []
   },
   "outputs": [
    {
     "data": {
      "text/html": [
       "<video src=\"https://storage.googleapis.com/github-repo/video/KennedyNixon1960PresidentialDebate.mp4\" controls  >\n",
       "      Your browser does not support the <code>video</code> element.\n",
       "    </video>"
      ],
      "text/plain": [
       "<IPython.core.display.Video object>"
      ]
     },
     "metadata": {},
     "output_type": "display_data"
    }
   ],
   "source": [
    "# Load file directly from Google Cloud Storage\n",
    "video_uri = \"gs://github-repo/video/KennedyNixon1960PresidentialDebate.mp4\"\n",
    "\n",
    "# Load contents\n",
    "contents = [\n",
    "    Part.from_uri(\n",
    "        uri=video_uri,\n",
    "        mime_type=\"video/mp4\",\n",
    "    ),\n",
    "    video_analysis_prompt,\n",
    "]\n",
    "\n",
    "# Display the Video\n",
    "display(Video(get_url_from_gcs(video_uri)))"
   ]
  },
  {
   "cell_type": "markdown",
   "metadata": {
    "id": "fc7394e34bce"
   },
   "source": [
    "Note: due to the length of the video, this will take a few minutes to complete. If you receive a 500 error, please wait a few moments and run the cell again."
   ]
  },
  {
   "cell_type": "code",
   "execution_count": 8,
   "metadata": {
    "id": "9548449631b4",
    "tags": []
   },
   "outputs": [
    {
     "data": {
      "text/markdown": [
       "The video clip is of the first televised presidential debate between Richard Nixon and John F. Kennedy. The date of the debate is September 26, 1960. \n",
       "\n",
       "The first speaker is Howard K. Smith, an American broadcast journalist, who introduces the two candidates and sets out the rules of the debate. He speaks in a professional tone, as if giving a presentation. His face remains fairly neutral throughout his introduction.\n",
       "\n",
       "At 0:46, Smith introduces Senator Kennedy and we see him get out of his chair and walk to the podium. His body language suggests he's eager to speak as he briskly walks to the podium. \n",
       "\n",
       "Kennedy begins speaking at 0:50. Kennedy quotes Abraham Lincoln and then draws a comparison between the political climate of Lincoln's time to the present day, stating that in the 1960's, \"the question is whether the world will exist half-slave or half-free.\" He speaks slowly and steadily, and uses dramatic pauses for emphasis. He blinks frequently, but maintains a confident, almost defiant expression. \n",
       "\n",
       "At 1:20, Kennedy says, \"I think it will depend in great measure upon what we do here in the United States,\" and taps his fingers on the podium for emphasis. \n",
       "\n",
       "Between 1:40 and 2:10, Kennedy becomes more passionate as he discusses the shortcomings he sees in the current American system, and what he believes needs to improve. He speaks faster, blinks more frequently, and makes a chopping motion with his hand when discussing the fact that “Mr. Khrushchev is in New York.\" His face is tight, and his brow is furrowed. \n",
       "\n",
       "Between 2:15 and 2:25, Kennedy transitions to speaking about the strengths of America and its people, and his facial expressions reflect this shift. His expression softens, and he appears more optimistic. \n",
       "\n",
       "By 2:30, Kennedy returns to discussing the shortcomings of the current administration and American systems. His expression becomes tight again, and his brow furrows as he lists social issues that he finds unsatisfactory. \n",
       "\n",
       "At 3:21, Kennedy states, “I'm not satisfied when we have over $9 billion worth of food, some of it rotting, even though there is a hungry world.”  He pauses briefly, and his face falls, momentarily betraying sadness at the situation. \n",
       "\n",
       "As he continues, he says, “I'm not satisfied when the Soviet Union is turning out twice as many scientists and engineers as we are.” At this point, his expression is tight with concern. \n",
       "\n",
       "At 6:59, Kennedy begins to transition back to a hopeful tone. He smiles faintly, saying, “The reason Franklin Roosevelt was a good neighbor in Latin America was because he was a good neighbor in the United States.”\n",
       "\n",
       "At 7:10, Kennedy's smile widens, and he speaks passionately as he says, “I want us to recapture that image. I want people in Latin America, and Africa, and Asia to start to look to America, to see how we're doing things, to wonder what the President of the United States is doing.\" \n",
       "\n",
       "He concludes his remarks with a more neutral expression, again quoting Lincoln, “I think our generation of Americans has the same rendezvous. The question now is, can freedom be maintained under the most severe attack, attack, it has ever known? I think it can be.” \n",
       "\n",
       "At 8:00, the moderator introduces Nixon, who takes a drink of water and smiles confidently as he steps up to the podium.\n",
       "\n",
       "Between 8:10 and 8:30, Nixon begins his remarks in a serious, measured tone. His expression is neutral. \n",
       "\n",
       "When Nixon says, “We are in a deadly competition, a competition not only with the men in the Kremlin, but the men in Peking,” his expression remains neutral, but he raises his eyebrows slightly.\n",
       "\n",
       "At 8:47, Nixon begins to speak more passionately. He leans forward on the podium, his voice grows in volume, and he uses his hands to emphasize his points.\n",
       "\n",
       "At 9:49, Nixon smiles as he quotes a “famous campaigner.” \n",
       "\n",
       "At 9:56, Nixon says, “Is the United States standing still? Is it true that this administration as Senator Kennedy has charged has been an administration of retreat, of defeat, of stagnation?”  His face hardens and his eyebrows rise as he poses these questions. \n",
       "\n",
       "At 10:10, Nixon says, “It’s not a question of which government does the most, it’s a question of which administration does the right thing.” He raises his eyebrows and furrows his brow. \n",
       "\n",
       "Between 10:40 and 11:00, Nixon continues to speak quickly and with a sense of urgency, but his expression softens as he discusses his party's record on social issues. \n",
       "\n",
       "At 11:10, Nixon says, “Let’s put it in terms that all of us can understand. We often hear growth in national product discussed, and in that respect may I say that when we compare the growth in this administration with that of the previous administration, then there was a total growth of 11% over seven years. In this administration there’s been a total growth of 19% over seven years.” His eyebrows are slightly raised as he states these figures. \n",
       "\n",
       "At 11:57, Nixon says, “We’ve had a higher tax load from the treasury for the farmer in the last few years, with the lowest farm income in many years.”  His expression hardens, and his brow furrows slightly.\n",
       "\n",
       "As he moves on to discuss what he believes to be the correct strategy, his expression softens. \n",
       "\n",
       "At 12:26, Nixon says, “I believe that we have the secret for progress. We know the way to progress,” and taps on the podium for emphasis. \n",
       "\n",
       "By 12:49, he’s speaking faster again, and looks slightly agitated, as he says, “Now does this mean that his program is better than ours? Not at all.”  His face relaxes slightly when he pivots to discussing the goals the two parties have in common. \n",
       "\n",
       "Between 13:40 and 13:50, Nixon discusses poverty, unemployment, and the struggles of older Americans, his face shows compassion and concern. \n",
       "\n",
       "He concludes his remarks by stating, “We want higher teacher salaries. We need higher teacher salaries, but we also want our education to be free of federal control.”  His voice grows in volume when he says, \"We need higher teacher salaries,”  and looks stern as he says, “free of federal control.”\n",
       "\n",
       "At 16:15, after Nixon finishes speaking, Smith says, \"Thank you Mr. Nixon.\" He then tells viewers, \"That completes the opening statements and now the candidates will answer questions or comment upon one another's answers to questions put by correspondents of the networks, the correspondents.\" Throughout this, he’s speaking in a professional tone and his facial expressions are neutral.\n",
       "\n",
       "At 16:26, Smith introduces the four network correspondents. All four men introduce themselves in a calm, even tone, and their expressions are neutral. \n",
       "\n",
       "At 16:39, Fleming, of ABC News, poses the first question to Senator Kennedy, and we see him rise from his chair and walk to the podium. \n",
       "\n",
       "At 16:54, Kennedy says, “The Vice President and I came to the Congress together in 1946. We both served on the Labor Committee. I’ve been there now for 14 years, the same period of time as he has, so that our experience in ah, government is comparable.”  He’s leaning slightly forward, speaking rapidly, but his expression is relaxed as he recounts his experience in government. \n",
       "\n",
       "At 17:26, Kennedy turns his attention to the Republican Party, and his expression becomes more serious. He says, \"Mr. Nixon comes out of the Republican Party. He was nominated by it. And it is a fact that through most of these last 25 years the Republican leadership has opposed federal aid to education, medical care for the aged, development of the Tennessee Valley, development of our natural resources.\"  He emphasizes the word \"opposed\" with a firm nod, and his voice takes on a hard edge.  \n",
       "\n",
       "Kennedy pauses, then says in a calmer tone, “I think Mr. Nixon is an effective leader of his party. I hope he would grant me the same. The question before us is, which point of view and which party do we want to lead the United States?”  His expression softens as he speaks these last few sentences. \n",
       "\n",
       "At 17:56, after Kennedy finishes speaking, the moderator asks Nixon if he wants to comment on Kennedy's answer. Nixon appears annoyed and shakes his head, curtly stating, \"I have no comment.\" \n",
       "\n",
       "At 18:01,  the moderator, Novins, addresses Nixon, asking him about his eight years of experience and its value. Nixon answers the question with a sense of urgency, leaning forward and speaking with a firm, assertive tone. \n",
       "\n",
       "At 19:16, Nixon is asked by Novins to elaborate on which policies he helped shape during his time in the administration. Nixon smiles slightly as he answers, saying, “It would be rather difficult to cover them in eight in two and a half minutes. I would suggest that these proposals could be mentioned.”  He maintains a calm, confident expression as he lists some of his accomplishments.\n",
       "\n",
       "At 19:36, Nixon is asked a question about his previous position on federal funding for schools and teacher salaries. Nixon admits that he \"favored that\" because the \"local communities and your states are not going to meet the responsibility as much as they should.\"  He nods firmly, appears to be earnest, and looks directly into the camera. \n",
       "\n",
       "At 26:19, Vanocur quotes Eisenhower,  who stated that if given a week he \"might\" be able to think of a major idea Nixon has had that Eisenhower has adopted. He then says, “Now, that was a month ago sir, and the President hasn’t brought it up since. And I’m wondering sir if you can clarify which version is correct, the one put out by Republican campaign leaders or the one put up by President Eisenhower?”  Vanocur smiles slightly as he delivers the question, perhaps finding the situation amusing. \n",
       "\n",
       "Nixon says, “Well, I would just suggest Mr. Vanocur that if you know the President, that was probably a facetious remark.”  He chuckles, seemingly taking the President’s comment in good humor. \n",
       "\n",
       "The next question goes to Kennedy and asks him how serious he believes the \"communist subversive activities in the United States today\" are. Kennedy gives a solemn nod, blinking slowly as he answers, “Well, I think they’re serious. I think it’s a matter that we should continue to ah, give uh, great care and attention to.”\n",
       "\n",
       "Nixon is asked if he’d like to comment, to which he simply nods, saying, “I agree with Senator Kennedy’s appraisal generally in this respect.” He continues speaking in a serious, urgent tone, and appears to be very focused. \n",
       "\n",
       "At 42:46, the moderator asks Kennedy, “Now, how do you feel that you’ll be able to get them in January if you weren’t able to get them in August?” The moderator’s tone is neutral. \n",
       "\n",
       "Kennedy glances to the side as he begins to answer,  saying, “Well, let’s take the bill, we did pass in the Senate, ah, to provide a $1.25 minimum wage.”  His facial expression is neutral, almost bored, but he picks up speed and looks directly at the camera as he continues, “It failed because the House did not pass it, and the House failed by 11 votes. And I might say that two-thirds of the Republicans in the House voted against a $1.25 minimum wage.” \n",
       "\n",
       "He closes his remarks by saying, \"I don't want the federal government paying teachers' salaries directly, but if the money will go to the states, and the states can then determine whether the money would be spent for school construction or for teachers' salaries, in my opinion you protect the local authority over the school board and the school committees.” He makes a chopping motion with his hand as he emphasizes the words “local authority.”\n",
       "\n",
       "At 47:51, after Nixon answers the previous question, Vanocur asks Nixon, “Now sir, isn’t it true that the building of more schools is a local matter for financing, uh were you claiming that the Eisenhower administration was responsible for the building of these schools or is it the local school districts that provide for them?” Vanocur looks directly at Nixon and delivers his question in a neutral tone. \n",
       "\n",
       "Nixon appears slightly agitated as he answers. He speaks quickly and leans toward the microphone as he lists examples of ways that the Eisenhower administration has supported local initiatives. \n",
       "\n",
       "At 48:49, he says, “I would say this,  that we, of course, expect to pick up some seats in both in the House and the Senate.” He smiles as he delivers this line, and appears to be momentarily pleased by the thought. \n",
       "\n",
       "At 51:02, Smith announces that it is time for the candidates’ closing statements. He does so in a neutral tone, and his facial expressions remain neutral. \n",
       "\n",
       "At 51:22, Nixon begins his closing statement, saying, \"First of all, I think it is well to put in perspective where we really do stand with regard to the Soviet Union in this whole matter of growth.\" He stares directly at the camera as he speaks, and his expression is serious. \n",
       "\n",
       "At 52:15, Nixon begins to speak more quickly and intensely. He seems earnest and passionate as he makes his case, his eyebrows raising slightly as he criticizes the opposing party. \n",
       "\n",
       "The video ends with Nixon still speaking. \n"
      ],
      "text/plain": [
       "<IPython.core.display.Markdown object>"
      ]
     },
     "metadata": {},
     "output_type": "display_data"
    }
   ],
   "source": [
    "# Send to Gemini\n",
    "response = model.generate_content(contents, generation_config=generation_config)\n",
    "\n",
    "# Display results\n",
    "display(Markdown(response.text))"
   ]
  },
  {
   "cell_type": "code",
   "execution_count": null,
   "metadata": {},
   "outputs": [],
   "source": []
  }
 ],
 "metadata": {
  "colab": {
   "name": "video_analysis.ipynb",
   "toc_visible": true
  },
  "environment": {
   "kernel": "conda-base-py",
   "name": "workbench-notebooks.m126",
   "type": "gcloud",
   "uri": "us-docker.pkg.dev/deeplearning-platform-release/gcr.io/workbench-notebooks:m126"
  },
  "kernelspec": {
   "display_name": "Python 3 (ipykernel) (Local) (Local)",
   "language": "python",
   "name": "conda-base-py"
  },
  "language_info": {
   "codemirror_mode": {
    "name": "ipython",
    "version": 3
   },
   "file_extension": ".py",
   "mimetype": "text/x-python",
   "name": "python",
   "nbconvert_exporter": "python",
   "pygments_lexer": "ipython3",
   "version": "3.10.15"
  }
 },
 "nbformat": 4,
 "nbformat_minor": 4
}
