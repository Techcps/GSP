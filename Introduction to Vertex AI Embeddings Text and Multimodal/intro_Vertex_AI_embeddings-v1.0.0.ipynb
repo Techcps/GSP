{
 "cells": [
  {
   "cell_type": "code",
   "execution_count": 1,
   "metadata": {
    "id": "ijGzTHJJUCPY",
    "tags": []
   },
   "outputs": [],
   "source": [
    "# Copyright 2024 Google LLC\n",
    "#\n",
    "# Licensed under the Apache License, Version 2.0 (the \"License\");\n",
    "# you may not use this file except in compliance with the License.\n",
    "# You may obtain a copy of the License at\n",
    "#\n",
    "#     https://www.apache.org/licenses/LICENSE-2.0\n",
    "#\n",
    "# Unless required by applicable law or agreed to in writing, software\n",
    "# distributed under the License is distributed on an \"AS IS\" BASIS,\n",
    "# WITHOUT WARRANTIES OR CONDITIONS OF ANY KIND, either express or implied.\n",
    "# See the License for the specific language governing permissions and\n",
    "# limitations under the License."
   ]
  },
  {
   "cell_type": "markdown",
   "metadata": {
    "id": "NDsTUvKjwHBW"
   },
   "source": [
    "# Introduction to Vertex AI Embeddings - Text & Multimodal\n",
    "\n",
    "<table align=\"left\">\n",
    "  <td style=\"text-align: center\">\n",
    "    <a href=\"https://colab.research.google.com/github/GoogleCloudPlatform/generative-ai/blob/main/gemini/qa-ops/intro_Vertex_AI_embeddings.ipynb\">\n",
    "      <img width=\"32px\" src=\"https://www.gstatic.com/pantheon/images/bigquery/welcome_page/colab-logo.svg\" alt=\"Google Colaboratory logo\"><br> Run in Colab\n",
    "    </a>\n",
    "  </td>\n",
    "  <td style=\"text-align: center\">\n",
    "    <a href=\"https://console.cloud.google.com/vertex-ai/colab/import/https:%2F%2Fraw.githubusercontent.com%2FGoogleCloudPlatform%2Fgenerative-ai%2Fmain%2Fgemini%2Fqa-ops%2Fintro_Vertex_AI_embeddings.ipynb\">\n",
    "      <img width=\"32px\" src=\"https://lh3.googleusercontent.com/JmcxdQi-qOpctIvWKgPtrzZdJJK-J3sWE1RsfjZNwshCFgE_9fULcNpuXYTilIR2hjwN\" alt=\"Google Cloud Colab Enterprise logo\"><br> Run in Colab Enterprise\n",
    "    </a>\n",
    "  </td>\n",
    "  <td style=\"text-align: center\">\n",
    "    <a href=\"https://github.com/GoogleCloudPlatform/generative-ai/blob/main/gemini/qa-ops/intro_Vertex_AI_embeddings.ipynb\">\n",
    "      <img width=\"32px\" src=\"https://upload.wikimedia.org/wikipedia/commons/9/91/Octicons-mark-github.svg\" alt=\"GitHub logo\"><br> View on GitHub\n",
    "    </a>\n",
    "  </td>\n",
    "  <td style=\"text-align: center\">\n",
    "    <a href=\"https://console.cloud.google.com/vertex-ai/workbench/deploy-notebook?download_url=https://raw.githubusercontent.com/GoogleCloudPlatform/generative-ai/main/gemini/qa-ops/intro_Vertex_AI_embeddings.ipynb\">\n",
    "      <img src=\"https://www.gstatic.com/images/branding/gcpiconscolors/vertexai/v1/32px.svg\" alt=\"Vertex AI logo\"><br> Open in Vertex AI Workbench\n",
    "    </a>\n",
    "  </td>    \n",
    "</table>"
   ]
  },
  {
   "cell_type": "markdown",
   "metadata": {
    "id": "4uoRmYQsKBgl"
   },
   "source": [
    "| | |\n",
    "|-|-|\n",
    "|Author(s) | [Lavi Nigam](https://github.com/lavinigam-gcp) , [Kaz Sato]()  |"
   ]
  },
  {
   "cell_type": "markdown",
   "metadata": {
    "id": "VK1Q5ZYdVL4Y"
   },
   "source": [
    "## Overview\n",
    "\n",
    "In this notebook, you will explore Vertex AI Embeddings API for both Text and Multimodal (Images and Video). Before we jump right into it, let's understand what are embeddings?\n",
    "\n",
    "\n",
    "**Embeddings: Translating Content into the Language of Numbers**\n",
    "\n",
    "Imagine you're trying to describe a friend's personality to someone else. You could use words like \"kind,\" \"energetic,\" or \"thoughtful.\" But wouldn't it be cool if you could assign a set of numbers to each of these qualities to create a unique code for your friend?\n",
    "\n",
    "Embeddings do something similar for various types of content:\n",
    "\n",
    "* **For text:** Each word, sentence, or even an entire document gets transformed into a list of numbers (a vector). These numbers capture the meaning and relationships between words. For example, the word \"cat\" might be represented as [0.25, -0.18, 0.93...], while \"kitten\" could be [0.30, -0.16, 0.88...]. The close proximity of these vectors indicates a semantic connection.\n",
    "\n",
    "\n",
    "* **For images:** Instead of pixels, an image becomes a vector that represents the visual features in the image. A picture of a sunny beach might get translated into [0.85, 0.42, -0.05...], while a snowy mountain might be [-0.32, 0.78, 0.12...].\n",
    "\n",
    "\n",
    "* **For video:** Each frame or even the entire video sequence gets a numerical representation that encapsulates the visual content, movement, and potentially even audio information.\n",
    "\n",
    "\n",
    "Let's take another example: Imagine you have a giant box of mismatched items: books, photographs, movie DVDs, and more. Each item is unique and complex, but you want to organize them in a way that makes sense. Embeddings do this, but for data like text, images, and videos.\n",
    "\n",
    "\n",
    "Essentially, embeddings are like secret codes that represent your data in a simplified way. Think of them as numerical coordinates on a map. Similar items (like books on the same topic or photos of the same place) will be close to each other on this map, while very different items will be far apart.\n"
   ]
  },
  {
   "cell_type": "markdown",
   "metadata": {
    "id": "HjB8ZjusCQn6"
   },
   "source": [
    "**Why Do We Need Embeddings?**\n",
    "\n",
    "Computers are great at crunching numbers, but they struggle to understand raw text, images, or videos. Embeddings act like a translator, converting these complex things into a format computers can easily work with. This opens up a world of possibilities for tasks like:\n",
    "\n",
    "\n",
    "* **Finding Similarities:** By comparing the numbers in these vectors, you can easily determine how similar or different pieces of content are. Think of it as a way to measure the \"distance\" between meanings. This allows you to:\n",
    "\n",
    "    - Find documents with related topics\n",
    "    - Discover visually similar images\n",
    "    - Group videos with similar content\n",
    "\n",
    "* **Searching and Recommending:** Imagine you're looking for a specific image, but you don't have the right keywords to search for it. With embeddings, you can simply provide an example image, and the search engine can find other images that are similar in visual style or content.\n",
    "\n",
    "\n",
    "* **Machine Learning and AI:** Embeddings are the backbone of many modern AI applications. They are used to train models that can understand and generate text, classify images, translate languages, and even create art."
   ]
  },
  {
   "cell_type": "markdown",
   "metadata": {
    "id": "SCFSGAolERQI"
   },
   "source": [
    "Once trained with specific content like text, images, or any content, AI creates a space called \"embedding space\", which is essentially a map of the content's meaning.\n",
    "\n",
    "![](https://storage.googleapis.com/github-repo/img/embeddings/textemb-vs-notebook/3.png)\n",
    "\n",
    "AI can identify the location of each content on the map, that's what embedding is.\n",
    "\n",
    "![](https://storage.googleapis.com/github-repo/img/embeddings/textemb-vs-notebook/4.png)\n",
    "\n",
    "Let's take an example where a text discusses movies, music, and actors, with a distribution of 10%, 2%, and 30%, respectively. In this case, the AI can create an embedding with three values: 0.1, 0.02, and 0.3, in 3 dimensional space.\n",
    "\n",
    "![](https://storage.googleapis.com/github-repo/img/embeddings/textemb-vs-notebook/5.png)\n",
    "\n",
    "AI can put content with similar meanings closely together in the space."
   ]
  },
  {
   "cell_type": "markdown",
   "metadata": {
    "id": "JWVXvBnAEY8w"
   },
   "source": [
    "AI and Embeddings are now playing a crucial role in creating a new way of human-computer interaction.\n",
    "\n",
    "![](https://storage.googleapis.com/github-repo/img/embeddings/textemb-vs-notebook/6.png)\n",
    "\n",
    "AI organizes data into embeddings, which represent what the user is looking for, the meaning of contents, or many other things you have in your business. This creates a new level of user experience that is becoming the new standard.\n",
    "\n",
    "To learn more about embeddings, [Foundational courses: Embeddings on Google Machine Learning Crush Course](https://developers.google.com/machine-learning/crash-course/embeddings/video-lecture) and [Meet AI's multitool: Vector embeddings by Dale Markowitz](https://cloud.google.com/blog/topics/developers-practitioners/meet-ais-multitool-vector-embeddings) are great materials.\n",
    "\n"
   ]
  },
  {
   "cell_type": "markdown",
   "metadata": {
    "id": "RQT500QqVPIb"
   },
   "source": [
    "### Objectives\n",
    "\n",
    "In this notebook, you will explore:\n",
    "* Vertex AI Text Embeddings API.\n",
    "* Vertex AI Multimodal Embeddings API (Images & Video).\n",
    "* Building simple search with e-commerce data\n",
    "    - Find product based on text query.\n",
    "    - Find product based on image.\n",
    "    - Find Video based on video.\n"
   ]
  },
  {
   "cell_type": "markdown",
   "metadata": {
    "id": "KnpYxfesh2rI"
   },
   "source": [
    "### Costs\n",
    "\n",
    "This tutorial uses billable components of Google Cloud:\n",
    "\n",
    "- Vertex AI\n",
    "\n",
    "Learn about [Vertex AI pricing](https://cloud.google.com/vertex-ai/pricing) and use the [Pricing Calculator](https://cloud.google.com/products/calculator/) to generate a cost estimate based on your projected usage.\n"
   ]
  },
  {
   "cell_type": "markdown",
   "metadata": {
    "id": "DXJpXzKrh2rJ"
   },
   "source": [
    "## Getting Started\n"
   ]
  },
  {
   "cell_type": "markdown",
   "metadata": {
    "id": "N5afkyDMSBW5"
   },
   "source": [
    "### Install Vertex AI SDK for Python and other dependencies\n"
   ]
  },
  {
   "cell_type": "code",
   "execution_count": 2,
   "metadata": {
    "id": "kc4WxYmLSBW5",
    "tags": []
   },
   "outputs": [
    {
     "name": "stdout",
     "output_type": "stream",
     "text": [
      "Requirement already satisfied: google-cloud-aiplatform in /opt/conda/lib/python3.10/site-packages (1.70.0)\n",
      "Collecting google-cloud-aiplatform\n",
      "  Downloading google_cloud_aiplatform-1.71.1-py2.py3-none-any.whl.metadata (32 kB)\n",
      "Requirement already satisfied: google-api-core!=2.0.*,!=2.1.*,!=2.2.*,!=2.3.*,!=2.4.*,!=2.5.*,!=2.6.*,!=2.7.*,<3.0.0dev,>=1.34.1 in /opt/conda/lib/python3.10/site-packages (from google-api-core[grpc]!=2.0.*,!=2.1.*,!=2.2.*,!=2.3.*,!=2.4.*,!=2.5.*,!=2.6.*,!=2.7.*,<3.0.0dev,>=1.34.1->google-cloud-aiplatform) (1.34.1)\n",
      "Requirement already satisfied: google-auth<3.0.0dev,>=2.14.1 in /opt/conda/lib/python3.10/site-packages (from google-cloud-aiplatform) (2.35.0)\n",
      "Requirement already satisfied: proto-plus<2.0.0dev,>=1.22.3 in /opt/conda/lib/python3.10/site-packages (from google-cloud-aiplatform) (1.24.0)\n",
      "Requirement already satisfied: protobuf!=4.21.0,!=4.21.1,!=4.21.2,!=4.21.3,!=4.21.4,!=4.21.5,<6.0.0dev,>=3.20.2 in /opt/conda/lib/python3.10/site-packages (from google-cloud-aiplatform) (3.20.3)\n",
      "Requirement already satisfied: packaging>=14.3 in /opt/conda/lib/python3.10/site-packages (from google-cloud-aiplatform) (24.1)\n",
      "Requirement already satisfied: google-cloud-storage<3.0.0dev,>=1.32.0 in /opt/conda/lib/python3.10/site-packages (from google-cloud-aiplatform) (2.14.0)\n",
      "Requirement already satisfied: google-cloud-bigquery!=3.20.0,<4.0.0dev,>=1.15.0 in /opt/conda/lib/python3.10/site-packages (from google-cloud-aiplatform) (3.25.0)\n",
      "Requirement already satisfied: google-cloud-resource-manager<3.0.0dev,>=1.3.3 in /opt/conda/lib/python3.10/site-packages (from google-cloud-aiplatform) (1.12.5)\n",
      "Requirement already satisfied: shapely<3.0.0dev in /opt/conda/lib/python3.10/site-packages (from google-cloud-aiplatform) (2.0.6)\n",
      "Requirement already satisfied: pydantic<3 in /opt/conda/lib/python3.10/site-packages (from google-cloud-aiplatform) (2.9.2)\n",
      "Requirement already satisfied: docstring-parser<1 in /opt/conda/lib/python3.10/site-packages (from google-cloud-aiplatform) (0.16)\n",
      "Requirement already satisfied: googleapis-common-protos<2.0dev,>=1.56.2 in /opt/conda/lib/python3.10/site-packages (from google-api-core!=2.0.*,!=2.1.*,!=2.2.*,!=2.3.*,!=2.4.*,!=2.5.*,!=2.6.*,!=2.7.*,<3.0.0dev,>=1.34.1->google-api-core[grpc]!=2.0.*,!=2.1.*,!=2.2.*,!=2.3.*,!=2.4.*,!=2.5.*,!=2.6.*,!=2.7.*,<3.0.0dev,>=1.34.1->google-cloud-aiplatform) (1.65.0)\n",
      "Requirement already satisfied: requests<3.0.0dev,>=2.18.0 in /opt/conda/lib/python3.10/site-packages (from google-api-core!=2.0.*,!=2.1.*,!=2.2.*,!=2.3.*,!=2.4.*,!=2.5.*,!=2.6.*,!=2.7.*,<3.0.0dev,>=1.34.1->google-api-core[grpc]!=2.0.*,!=2.1.*,!=2.2.*,!=2.3.*,!=2.4.*,!=2.5.*,!=2.6.*,!=2.7.*,<3.0.0dev,>=1.34.1->google-cloud-aiplatform) (2.32.3)\n",
      "Requirement already satisfied: grpcio<2.0dev,>=1.33.2 in /opt/conda/lib/python3.10/site-packages (from google-api-core[grpc]!=2.0.*,!=2.1.*,!=2.2.*,!=2.3.*,!=2.4.*,!=2.5.*,!=2.6.*,!=2.7.*,<3.0.0dev,>=1.34.1->google-cloud-aiplatform) (1.66.2)\n",
      "Requirement already satisfied: grpcio-status<2.0dev,>=1.33.2 in /opt/conda/lib/python3.10/site-packages (from google-api-core[grpc]!=2.0.*,!=2.1.*,!=2.2.*,!=2.3.*,!=2.4.*,!=2.5.*,!=2.6.*,!=2.7.*,<3.0.0dev,>=1.34.1->google-cloud-aiplatform) (1.48.2)\n",
      "Requirement already satisfied: cachetools<6.0,>=2.0.0 in /opt/conda/lib/python3.10/site-packages (from google-auth<3.0.0dev,>=2.14.1->google-cloud-aiplatform) (5.5.0)\n",
      "Requirement already satisfied: pyasn1-modules>=0.2.1 in /opt/conda/lib/python3.10/site-packages (from google-auth<3.0.0dev,>=2.14.1->google-cloud-aiplatform) (0.4.1)\n",
      "Requirement already satisfied: rsa<5,>=3.1.4 in /opt/conda/lib/python3.10/site-packages (from google-auth<3.0.0dev,>=2.14.1->google-cloud-aiplatform) (4.9)\n",
      "Requirement already satisfied: google-cloud-core<3.0.0dev,>=1.6.0 in /opt/conda/lib/python3.10/site-packages (from google-cloud-bigquery!=3.20.0,<4.0.0dev,>=1.15.0->google-cloud-aiplatform) (2.4.1)\n",
      "Requirement already satisfied: google-resumable-media<3.0dev,>=0.6.0 in /opt/conda/lib/python3.10/site-packages (from google-cloud-bigquery!=3.20.0,<4.0.0dev,>=1.15.0->google-cloud-aiplatform) (2.7.2)\n",
      "Requirement already satisfied: python-dateutil<3.0dev,>=2.7.2 in /opt/conda/lib/python3.10/site-packages (from google-cloud-bigquery!=3.20.0,<4.0.0dev,>=1.15.0->google-cloud-aiplatform) (2.9.0.post0)\n",
      "Requirement already satisfied: grpc-google-iam-v1<1.0.0dev,>=0.12.4 in /opt/conda/lib/python3.10/site-packages (from google-cloud-resource-manager<3.0.0dev,>=1.3.3->google-cloud-aiplatform) (0.13.1)\n",
      "Requirement already satisfied: google-crc32c<2.0dev,>=1.0 in /opt/conda/lib/python3.10/site-packages (from google-cloud-storage<3.0.0dev,>=1.32.0->google-cloud-aiplatform) (1.6.0)\n",
      "Requirement already satisfied: annotated-types>=0.6.0 in /opt/conda/lib/python3.10/site-packages (from pydantic<3->google-cloud-aiplatform) (0.7.0)\n",
      "Requirement already satisfied: pydantic-core==2.23.4 in /opt/conda/lib/python3.10/site-packages (from pydantic<3->google-cloud-aiplatform) (2.23.4)\n",
      "Requirement already satisfied: typing-extensions>=4.6.1 in /opt/conda/lib/python3.10/site-packages (from pydantic<3->google-cloud-aiplatform) (4.12.2)\n",
      "Requirement already satisfied: numpy<3,>=1.14 in /opt/conda/lib/python3.10/site-packages (from shapely<3.0.0dev->google-cloud-aiplatform) (1.26.4)\n",
      "Requirement already satisfied: pyasn1<0.7.0,>=0.4.6 in /opt/conda/lib/python3.10/site-packages (from pyasn1-modules>=0.2.1->google-auth<3.0.0dev,>=2.14.1->google-cloud-aiplatform) (0.6.1)\n",
      "Requirement already satisfied: six>=1.5 in /opt/conda/lib/python3.10/site-packages (from python-dateutil<3.0dev,>=2.7.2->google-cloud-bigquery!=3.20.0,<4.0.0dev,>=1.15.0->google-cloud-aiplatform) (1.16.0)\n",
      "Requirement already satisfied: charset-normalizer<4,>=2 in /opt/conda/lib/python3.10/site-packages (from requests<3.0.0dev,>=2.18.0->google-api-core!=2.0.*,!=2.1.*,!=2.2.*,!=2.3.*,!=2.4.*,!=2.5.*,!=2.6.*,!=2.7.*,<3.0.0dev,>=1.34.1->google-api-core[grpc]!=2.0.*,!=2.1.*,!=2.2.*,!=2.3.*,!=2.4.*,!=2.5.*,!=2.6.*,!=2.7.*,<3.0.0dev,>=1.34.1->google-cloud-aiplatform) (3.3.2)\n",
      "Requirement already satisfied: idna<4,>=2.5 in /opt/conda/lib/python3.10/site-packages (from requests<3.0.0dev,>=2.18.0->google-api-core!=2.0.*,!=2.1.*,!=2.2.*,!=2.3.*,!=2.4.*,!=2.5.*,!=2.6.*,!=2.7.*,<3.0.0dev,>=1.34.1->google-api-core[grpc]!=2.0.*,!=2.1.*,!=2.2.*,!=2.3.*,!=2.4.*,!=2.5.*,!=2.6.*,!=2.7.*,<3.0.0dev,>=1.34.1->google-cloud-aiplatform) (3.10)\n",
      "Requirement already satisfied: urllib3<3,>=1.21.1 in /opt/conda/lib/python3.10/site-packages (from requests<3.0.0dev,>=2.18.0->google-api-core!=2.0.*,!=2.1.*,!=2.2.*,!=2.3.*,!=2.4.*,!=2.5.*,!=2.6.*,!=2.7.*,<3.0.0dev,>=1.34.1->google-api-core[grpc]!=2.0.*,!=2.1.*,!=2.2.*,!=2.3.*,!=2.4.*,!=2.5.*,!=2.6.*,!=2.7.*,<3.0.0dev,>=1.34.1->google-cloud-aiplatform) (1.26.20)\n",
      "Requirement already satisfied: certifi>=2017.4.17 in /opt/conda/lib/python3.10/site-packages (from requests<3.0.0dev,>=2.18.0->google-api-core!=2.0.*,!=2.1.*,!=2.2.*,!=2.3.*,!=2.4.*,!=2.5.*,!=2.6.*,!=2.7.*,<3.0.0dev,>=1.34.1->google-api-core[grpc]!=2.0.*,!=2.1.*,!=2.2.*,!=2.3.*,!=2.4.*,!=2.5.*,!=2.6.*,!=2.7.*,<3.0.0dev,>=1.34.1->google-cloud-aiplatform) (2024.8.30)\n",
      "Downloading google_cloud_aiplatform-1.71.1-py2.py3-none-any.whl (6.2 MB)\n",
      "\u001b[2K   \u001b[90m━━━━━━━━━━━━━━━━━━━━━━━━━━━━━━━━━━━━━━━━\u001b[0m \u001b[32m6.2/6.2 MB\u001b[0m \u001b[31m44.5 MB/s\u001b[0m eta \u001b[36m0:00:00\u001b[0m\n",
      "\u001b[?25hInstalling collected packages: google-cloud-aiplatform\n",
      "\u001b[33m  WARNING: The script tb-gcp-uploader is installed in '/home/jupyter/.local/bin' which is not on PATH.\n",
      "  Consider adding this directory to PATH or, if you prefer to suppress this warning, use --no-warn-script-location.\u001b[0m\u001b[33m\n",
      "\u001b[0mSuccessfully installed google-cloud-aiplatform-1.71.1\n"
     ]
    }
   ],
   "source": [
    "! pip3 install --upgrade --user google-cloud-aiplatform"
   ]
  },
  {
   "cell_type": "markdown",
   "metadata": {
    "id": "R5Xep4W9lq-Z"
   },
   "source": [
    "### Restart current runtime\n",
    "\n",
    "To use the newly installed packages in this Jupyter runtime, you must restart the runtime. You can do this by running the cell below, which will restart the current kernel."
   ]
  },
  {
   "cell_type": "code",
   "execution_count": 3,
   "metadata": {
    "id": "XRvKdaPDTznN",
    "tags": []
   },
   "outputs": [
    {
     "data": {
      "text/plain": [
       "{'status': 'ok', 'restart': True}"
      ]
     },
     "execution_count": 3,
     "metadata": {},
     "output_type": "execute_result"
    }
   ],
   "source": [
    "# Restart kernel after installs so that your environment can access the new packages\n",
    "import IPython\n",
    "import time\n",
    "\n",
    "app = IPython.Application.instance()\n",
    "app.kernel.do_shutdown(True)"
   ]
  },
  {
   "cell_type": "markdown",
   "metadata": {
    "id": "SbmM4z7FOBpM"
   },
   "source": [
    "<div class=\"alert alert-block alert-warning\">\n",
    "<b>⚠️ The kernel is going to restart. Please wait until it is finished before continuing to the next step. ⚠️</b>\n",
    "</div>\n",
    "\n"
   ]
  },
  {
   "cell_type": "markdown",
   "metadata": {
    "id": "FtsU9Bw9h2rL"
   },
   "source": [
    "### Authenticate your notebook environment (Colab only)\n",
    "\n",
    "If you are running this notebook on Google Colab, run the following cell to authenticate your environment. This step is not required if you are using [Vertex AI Workbench](https://cloud.google.com/vertex-ai-workbench).\n"
   ]
  },
  {
   "cell_type": "code",
   "execution_count": 1,
   "metadata": {
    "id": "GpYEyLsOh2rL",
    "tags": []
   },
   "outputs": [],
   "source": [
    "import sys\n",
    "\n",
    "# Additional authentication is required for Google Colab\n",
    "if \"google.colab\" in sys.modules:\n",
    "    # Authenticate user to Google Cloud\n",
    "    from google.colab import auth\n",
    "\n",
    "    auth.authenticate_user()"
   ]
  },
  {
   "cell_type": "markdown",
   "metadata": {
    "id": "O1vKZZoEh2rL"
   },
   "source": [
    "### Set Google Cloud project information and initialize Vertex AI SDK\n",
    "\n",
    "To get started using Vertex AI, you must have an existing Google Cloud project and [enable the Vertex AI API](https://console.cloud.google.com/flows/enableapi?apiid=aiplatform.googleapis.com).\n",
    "\n",
    "Learn more about [setting up a project and a development environment](https://cloud.google.com/vertex-ai/docs/start/cloud-environment)."
   ]
  },
  {
   "cell_type": "code",
   "execution_count": 2,
   "metadata": {
    "id": "gJqZ76rJh2rM",
    "tags": []
   },
   "outputs": [
    {
     "name": "stdout",
     "output_type": "stream",
     "text": [
      "Your project ID is: qwiklabs-gcp-01-bcc0331c4efe\n"
     ]
    }
   ],
   "source": [
    "# Define project information\n",
    "\n",
    "import sys\n",
    "\n",
    "PROJECT_ID = \"qwiklabs-gcp-01-bcc0331c4efe\"  # @param {type:\"string\"}\n",
    "LOCATION = \"us-west1\"  # @param {type:\"string\"}\n",
    "\n",
    "# if not running on Colab, try to get the PROJECT_ID automatically\n",
    "if \"google.colab\" not in sys.modules:\n",
    "    import subprocess\n",
    "\n",
    "    PROJECT_ID = subprocess.check_output(\n",
    "        [\"gcloud\", \"config\", \"get-value\", \"project\"], text=True\n",
    "    ).strip()\n",
    "\n",
    "print(f\"Your project ID is: {PROJECT_ID}\")"
   ]
  },
  {
   "cell_type": "code",
   "execution_count": 3,
   "metadata": {
    "tags": []
   },
   "outputs": [
    {
     "name": "stdout",
     "output_type": "stream",
     "text": [
      "Please like share & subscribe to Techcps https://www.youtube.com/@techcps\n"
     ]
    }
   ],
   "source": [
    "# Please like share & subscribe to Techcps\n",
    "# YouTube https://www.youtube.com/@techcps\n",
    "\n",
    "print(\"Please like share & subscribe to Techcps https://www.youtube.com/@techcps\")"
   ]
  },
  {
   "cell_type": "code",
   "execution_count": 4,
   "metadata": {
    "tags": []
   },
   "outputs": [],
   "source": [
    "import sys\n",
    "\n",
    "# Initialize Vertex AI\n",
    "import vertexai\n",
    "\n",
    "vertexai.init(project=PROJECT_ID, location=LOCATION)"
   ]
  },
  {
   "cell_type": "markdown",
   "metadata": {
    "id": "BuQwwRiniVFG"
   },
   "source": [
    "### Import libraries\n"
   ]
  },
  {
   "cell_type": "code",
   "execution_count": 5,
   "metadata": {
    "id": "rtMowvm-yQ97",
    "tags": []
   },
   "outputs": [],
   "source": [
    "from base64 import b64encode\n",
    "import os\n",
    "\n",
    "import numpy as np\n",
    "import pandas as pd\n",
    "import PIL\n",
    "import requests\n",
    "from PIL import Image as PILImage  # Explicit import for clarity\n",
    "from typing import Any, Dict, Iterable, List, Optional, Tuple, Union\n",
    "import vertexai\n",
    "from vertexai.language_models import TextEmbeddingInput, TextEmbeddingModel\n",
    "from vertexai.vision_models import (\n",
    "    Image as VMImage,\n",
    "    MultiModalEmbeddingModel,\n",
    "    MultiModalEmbeddingResponse,\n",
    "    Video as VMVideo,\n",
    "    VideoSegmentConfig,\n",
    ")\n",
    "\n",
    "pd.options.mode.chained_assignment = None  # default='warn'"
   ]
  },
  {
   "cell_type": "markdown",
   "metadata": {
    "id": "r-TX_R_xh2rM"
   },
   "source": [
    "### Load Vertex AI Text and Multimodal Embeddings\n"
   ]
  },
  {
   "cell_type": "code",
   "execution_count": 6,
   "metadata": {
    "id": "SvMwSRJJh2rM",
    "tags": []
   },
   "outputs": [],
   "source": [
    "mm_embedding_model = MultiModalEmbeddingModel.from_pretrained(\"multimodalembedding\")\n",
    "text_embedding_model = TextEmbeddingModel.from_pretrained(\"textembedding-gecko@003\")"
   ]
  },
  {
   "cell_type": "markdown",
   "metadata": {
    "id": "UN-Srse-tt7k"
   },
   "source": [
    "## Basics of Vertex AI embeddings API"
   ]
  },
  {
   "cell_type": "markdown",
   "metadata": {
    "id": "TQqqctKSyjfz"
   },
   "source": [
    "## Text Embedding"
   ]
  },
  {
   "cell_type": "markdown",
   "metadata": {
    "id": "DLfNXQLMyj43"
   },
   "source": [
    "Text embeddings are a dense, often low-dimensional, vector representation of a piece of content such that, if two pieces of content are semantically similar, their respective embeddings are located near each other in the embedding vector space. This representation can be used to solve common NLP tasks, such as:\n",
    "\n",
    "* **Semantic search**: Search text ranked by semantic similarity.\n",
    "* **Recommendation**: Return items with text attributes similar to the given text.\n",
    "* **Classification**: Return the class of items whose text attributes are similar to the given text.\n",
    "* **Clustering**: Cluster items whose text attributes are similar to the given text.\n",
    "* **Outlier Detection**: Return items where text attributes are least related to the given text.\n",
    "\n",
    "Please refer to the [text embedding model documentation](https://cloud.google.com/vertex-ai/docs/generative-ai/embeddings/get-text-embeddings) for more information."
   ]
  },
  {
   "cell_type": "code",
   "execution_count": 7,
   "metadata": {
    "id": "v28L_YJRzcEK",
    "tags": []
   },
   "outputs": [],
   "source": [
    "def embed_text(\n",
    "    texts: List[str] = [\"banana muffins? \", \"banana bread? banana muffins?\"],\n",
    "    model: str = text_embedding_model,\n",
    ") -> List[List[float]]:\n",
    "    \"\"\"Embeds texts with a pre-trained, foundational model.\"\"\"\n",
    "    # model = TextEmbeddingModel.from_pretrained(model_name)\n",
    "    inputs = [TextEmbeddingInput(text) for text in texts]\n",
    "    embeddings = model.get_embeddings(inputs)\n",
    "    return [embedding.values for embedding in embeddings]"
   ]
  },
  {
   "cell_type": "code",
   "execution_count": 8,
   "metadata": {
    "id": "beaMkDH9zlr2",
    "tags": []
   },
   "outputs": [
    {
     "name": "stdout",
     "output_type": "stream",
     "text": [
      "length of embedding:  768\n",
      "First five vectors are:  [0.00636137742549181, -0.03568779304623604, -0.008960321545600891, -0.018767524510622025, 0.0029407970141619444]\n"
     ]
    }
   ],
   "source": [
    "tex_embedding = embed_text(texts=[\"What is life?\"])\n",
    "print(\"length of embedding: \", len(tex_embedding[0]))\n",
    "print(\"First five vectors are: \", tex_embedding[0][:5])"
   ]
  },
  {
   "cell_type": "markdown",
   "metadata": {
    "id": "oXC0cEjDywIM"
   },
   "source": [
    "#### Embeddings and Pandas DataFrames"
   ]
  },
  {
   "cell_type": "markdown",
   "metadata": {
    "id": "oug-MkjFywzc"
   },
   "source": [
    "If your text is stored in a column of a DataFrame, you can create a new column with the embeddings with the example below."
   ]
  },
  {
   "cell_type": "code",
   "execution_count": 9,
   "metadata": {
    "id": "trpS0J6ByNd0",
    "tags": []
   },
   "outputs": [
    {
     "data": {
      "text/html": [
       "<div>\n",
       "<style scoped>\n",
       "    .dataframe tbody tr th:only-of-type {\n",
       "        vertical-align: middle;\n",
       "    }\n",
       "\n",
       "    .dataframe tbody tr th {\n",
       "        vertical-align: top;\n",
       "    }\n",
       "\n",
       "    .dataframe thead th {\n",
       "        text-align: right;\n",
       "    }\n",
       "</style>\n",
       "<table border=\"1\" class=\"dataframe\">\n",
       "  <thead>\n",
       "    <tr style=\"text-align: right;\">\n",
       "      <th></th>\n",
       "      <th>text</th>\n",
       "    </tr>\n",
       "  </thead>\n",
       "  <tbody>\n",
       "    <tr>\n",
       "      <th>0</th>\n",
       "      <td>i really enjoyed the movie last night</td>\n",
       "    </tr>\n",
       "    <tr>\n",
       "      <th>1</th>\n",
       "      <td>so many amazing cinematic scenes yesterday</td>\n",
       "    </tr>\n",
       "    <tr>\n",
       "      <th>2</th>\n",
       "      <td>had a great time writing my Python scripts a f...</td>\n",
       "    </tr>\n",
       "    <tr>\n",
       "      <th>3</th>\n",
       "      <td>huge sense of relief when my .py script finall...</td>\n",
       "    </tr>\n",
       "    <tr>\n",
       "      <th>4</th>\n",
       "      <td>O Romeo, Romeo, wherefore art thou Romeo?</td>\n",
       "    </tr>\n",
       "  </tbody>\n",
       "</table>\n",
       "</div>"
      ],
      "text/plain": [
       "                                                text\n",
       "0              i really enjoyed the movie last night\n",
       "1         so many amazing cinematic scenes yesterday\n",
       "2  had a great time writing my Python scripts a f...\n",
       "3  huge sense of relief when my .py script finall...\n",
       "4          O Romeo, Romeo, wherefore art thou Romeo?"
      ]
     },
     "execution_count": 9,
     "metadata": {},
     "output_type": "execute_result"
    }
   ],
   "source": [
    "import pandas as pd\n",
    "\n",
    "text = [\n",
    "    \"i really enjoyed the movie last night\",\n",
    "    \"so many amazing cinematic scenes yesterday\",\n",
    "    \"had a great time writing my Python scripts a few days ago\",\n",
    "    \"huge sense of relief when my .py script finally ran without error\",\n",
    "    \"O Romeo, Romeo, wherefore art thou Romeo?\",\n",
    "]\n",
    "\n",
    "df = pd.DataFrame(text, columns=[\"text\"])\n",
    "df"
   ]
  },
  {
   "cell_type": "markdown",
   "metadata": {
    "id": "luwdn0qA0QZN"
   },
   "source": [
    "Create a new column, `embeddings`, using the [apply](https://pandas.pydata.org/docs/reference/api/pandas.DataFrame.apply.html) function in pandas with the embeddings model."
   ]
  },
  {
   "cell_type": "code",
   "execution_count": 10,
   "metadata": {
    "id": "etrempeSyQ9V",
    "tags": []
   },
   "outputs": [
    {
     "data": {
      "text/html": [
       "<div>\n",
       "<style scoped>\n",
       "    .dataframe tbody tr th:only-of-type {\n",
       "        vertical-align: middle;\n",
       "    }\n",
       "\n",
       "    .dataframe tbody tr th {\n",
       "        vertical-align: top;\n",
       "    }\n",
       "\n",
       "    .dataframe thead th {\n",
       "        text-align: right;\n",
       "    }\n",
       "</style>\n",
       "<table border=\"1\" class=\"dataframe\">\n",
       "  <thead>\n",
       "    <tr style=\"text-align: right;\">\n",
       "      <th></th>\n",
       "      <th>text</th>\n",
       "      <th>embeddings</th>\n",
       "    </tr>\n",
       "  </thead>\n",
       "  <tbody>\n",
       "    <tr>\n",
       "      <th>0</th>\n",
       "      <td>i really enjoyed the movie last night</td>\n",
       "      <td>[-0.01591409742832184, 0.022704610601067543, -...</td>\n",
       "    </tr>\n",
       "    <tr>\n",
       "      <th>1</th>\n",
       "      <td>so many amazing cinematic scenes yesterday</td>\n",
       "      <td>[-0.012621072120964527, 0.0068139731884002686,...</td>\n",
       "    </tr>\n",
       "    <tr>\n",
       "      <th>2</th>\n",
       "      <td>had a great time writing my Python scripts a f...</td>\n",
       "      <td>[-0.018473712727427483, -0.0069047571159899235...</td>\n",
       "    </tr>\n",
       "    <tr>\n",
       "      <th>3</th>\n",
       "      <td>huge sense of relief when my .py script finall...</td>\n",
       "      <td>[0.003863031044602394, -0.03098081611096859, -...</td>\n",
       "    </tr>\n",
       "    <tr>\n",
       "      <th>4</th>\n",
       "      <td>O Romeo, Romeo, wherefore art thou Romeo?</td>\n",
       "      <td>[0.014724663458764553, -0.04504365846514702, -...</td>\n",
       "    </tr>\n",
       "  </tbody>\n",
       "</table>\n",
       "</div>"
      ],
      "text/plain": [
       "                                                text  \\\n",
       "0              i really enjoyed the movie last night   \n",
       "1         so many amazing cinematic scenes yesterday   \n",
       "2  had a great time writing my Python scripts a f...   \n",
       "3  huge sense of relief when my .py script finall...   \n",
       "4          O Romeo, Romeo, wherefore art thou Romeo?   \n",
       "\n",
       "                                          embeddings  \n",
       "0  [-0.01591409742832184, 0.022704610601067543, -...  \n",
       "1  [-0.012621072120964527, 0.0068139731884002686,...  \n",
       "2  [-0.018473712727427483, -0.0069047571159899235...  \n",
       "3  [0.003863031044602394, -0.03098081611096859, -...  \n",
       "4  [0.014724663458764553, -0.04504365846514702, -...  "
      ]
     },
     "execution_count": 10,
     "metadata": {},
     "output_type": "execute_result"
    }
   ],
   "source": [
    "df[\"embeddings\"] = df.apply(lambda x: embed_text([x.text])[0], axis=1)\n",
    "df"
   ]
  },
  {
   "cell_type": "markdown",
   "metadata": {
    "id": "3_rtywdA0cv6"
   },
   "source": [
    "#### Comparing similarity of text examples using cosine similarity"
   ]
  },
  {
   "cell_type": "markdown",
   "metadata": {
    "id": "PXMu9UYs0Z8S"
   },
   "source": [
    "By converting text into embeddings, you can compute similarity scores. There are many ways to compute similarity scores, and one common technique is using [cosine similarity](https://en.wikipedia.org/wiki/Cosine_similarity).\n",
    "\n",
    "In the example from above, two of the sentences in the `text` column relate to enjoying a _movie_, and the other two relates to enjoying _coding_. Cosine similarity scores should be higher (closer to 1.0) when doing pairwise comparisons between semantically-related sentences, and scores should be lower between semantically-different sentences.\n",
    "\n",
    "The DataFrame output below shows the resulting cosine similarity scores between the embeddings:"
   ]
  },
  {
   "cell_type": "code",
   "execution_count": 11,
   "metadata": {
    "id": "BXtUBuV9y4oX",
    "tags": []
   },
   "outputs": [
    {
     "data": {
      "text/html": [
       "<div>\n",
       "<style scoped>\n",
       "    .dataframe tbody tr th:only-of-type {\n",
       "        vertical-align: middle;\n",
       "    }\n",
       "\n",
       "    .dataframe tbody tr th {\n",
       "        vertical-align: top;\n",
       "    }\n",
       "\n",
       "    .dataframe thead th {\n",
       "        text-align: right;\n",
       "    }\n",
       "</style>\n",
       "<table border=\"1\" class=\"dataframe\">\n",
       "  <thead>\n",
       "    <tr style=\"text-align: right;\">\n",
       "      <th></th>\n",
       "      <th>i really enjoyed the movie last night</th>\n",
       "      <th>so many amazing cinematic scenes yesterday</th>\n",
       "      <th>had a great time writing my Python scripts a few days ago</th>\n",
       "      <th>huge sense of relief when my .py script finally ran without error</th>\n",
       "      <th>O Romeo, Romeo, wherefore art thou Romeo?</th>\n",
       "    </tr>\n",
       "  </thead>\n",
       "  <tbody>\n",
       "    <tr>\n",
       "      <th>i really enjoyed the movie last night</th>\n",
       "      <td>1.000000</td>\n",
       "      <td>0.729769</td>\n",
       "      <td>0.695760</td>\n",
       "      <td>0.562088</td>\n",
       "      <td>0.526357</td>\n",
       "    </tr>\n",
       "    <tr>\n",
       "      <th>so many amazing cinematic scenes yesterday</th>\n",
       "      <td>0.729769</td>\n",
       "      <td>1.000000</td>\n",
       "      <td>0.639297</td>\n",
       "      <td>0.573032</td>\n",
       "      <td>0.511450</td>\n",
       "    </tr>\n",
       "    <tr>\n",
       "      <th>had a great time writing my Python scripts a few days ago</th>\n",
       "      <td>0.695760</td>\n",
       "      <td>0.639297</td>\n",
       "      <td>1.000000</td>\n",
       "      <td>0.769378</td>\n",
       "      <td>0.454656</td>\n",
       "    </tr>\n",
       "    <tr>\n",
       "      <th>huge sense of relief when my .py script finally ran without error</th>\n",
       "      <td>0.562088</td>\n",
       "      <td>0.573032</td>\n",
       "      <td>0.769378</td>\n",
       "      <td>1.000000</td>\n",
       "      <td>0.446793</td>\n",
       "    </tr>\n",
       "    <tr>\n",
       "      <th>O Romeo, Romeo, wherefore art thou Romeo?</th>\n",
       "      <td>0.526357</td>\n",
       "      <td>0.511450</td>\n",
       "      <td>0.454656</td>\n",
       "      <td>0.446793</td>\n",
       "      <td>1.000000</td>\n",
       "    </tr>\n",
       "  </tbody>\n",
       "</table>\n",
       "</div>"
      ],
      "text/plain": [
       "                                                    i really enjoyed the movie last night  \\\n",
       "i really enjoyed the movie last night                                            1.000000   \n",
       "so many amazing cinematic scenes yesterday                                       0.729769   \n",
       "had a great time writing my Python scripts a fe...                               0.695760   \n",
       "huge sense of relief when my .py script finally...                               0.562088   \n",
       "O Romeo, Romeo, wherefore art thou Romeo?                                        0.526357   \n",
       "\n",
       "                                                    so many amazing cinematic scenes yesterday  \\\n",
       "i really enjoyed the movie last night                                                 0.729769   \n",
       "so many amazing cinematic scenes yesterday                                            1.000000   \n",
       "had a great time writing my Python scripts a fe...                                    0.639297   \n",
       "huge sense of relief when my .py script finally...                                    0.573032   \n",
       "O Romeo, Romeo, wherefore art thou Romeo?                                             0.511450   \n",
       "\n",
       "                                                    had a great time writing my Python scripts a few days ago  \\\n",
       "i really enjoyed the movie last night                                                        0.695760           \n",
       "so many amazing cinematic scenes yesterday                                                   0.639297           \n",
       "had a great time writing my Python scripts a fe...                                           1.000000           \n",
       "huge sense of relief when my .py script finally...                                           0.769378           \n",
       "O Romeo, Romeo, wherefore art thou Romeo?                                                    0.454656           \n",
       "\n",
       "                                                    huge sense of relief when my .py script finally ran without error  \\\n",
       "i really enjoyed the movie last night                                                        0.562088                   \n",
       "so many amazing cinematic scenes yesterday                                                   0.573032                   \n",
       "had a great time writing my Python scripts a fe...                                           0.769378                   \n",
       "huge sense of relief when my .py script finally...                                           1.000000                   \n",
       "O Romeo, Romeo, wherefore art thou Romeo?                                                    0.446793                   \n",
       "\n",
       "                                                    O Romeo, Romeo, wherefore art thou Romeo?  \n",
       "i really enjoyed the movie last night                                                0.526357  \n",
       "so many amazing cinematic scenes yesterday                                           0.511450  \n",
       "had a great time writing my Python scripts a fe...                                   0.454656  \n",
       "huge sense of relief when my .py script finally...                                   0.446793  \n",
       "O Romeo, Romeo, wherefore art thou Romeo?                                            1.000000  "
      ]
     },
     "execution_count": 11,
     "metadata": {},
     "output_type": "execute_result"
    }
   ],
   "source": [
    "from sklearn.metrics.pairwise import cosine_similarity\n",
    "\n",
    "cos_sim_array = cosine_similarity(list(df.embeddings.values))\n",
    "\n",
    "# display as DataFrame\n",
    "df = pd.DataFrame(cos_sim_array, index=text, columns=text)\n",
    "df"
   ]
  },
  {
   "cell_type": "markdown",
   "metadata": {
    "id": "BFE6uErz0gGe"
   },
   "source": [
    "To make this easier to understand, you can use a heatmap. Naturally, text is most similar when they are identical (score of 1.0). The next highest scores are when sentences are semantically similar. The lowest scores are when sentences are quite different in meaning."
   ]
  },
  {
   "cell_type": "code",
   "execution_count": 12,
   "metadata": {
    "id": "6E4cfugj0gmC",
    "tags": []
   },
   "outputs": [
    {
     "data": {
      "text/plain": [
       "[Text(0.5, 1, 'i really enjoyed the movie last night'),\n",
       " Text(1.5, 1, 'so many amazing cinematic scenes yesterday'),\n",
       " Text(2.5, 1, 'had a great time writing my Python scripts a few days ago'),\n",
       " Text(3.5, 1, 'huge sense of relief when my .py script finally ran without error'),\n",
       " Text(4.5, 1, 'O Romeo, Romeo, wherefore art thou Romeo?')]"
      ]
     },
     "execution_count": 12,
     "metadata": {},
     "output_type": "execute_result"
    },
    {
     "data": {
      "image/png": "[encoded data removed]",
      "text/plain": [
       "<Figure size 640x480 with 2 Axes>"
      ]
     },
     "metadata": {},
     "output_type": "display_data"
    }
   ],
   "source": [
    "import seaborn as sns\n",
    "\n",
    "ax = sns.heatmap(df, annot=True, cmap=\"crest\")\n",
    "ax.xaxis.tick_top()\n",
    "ax.set_xticklabels(text, rotation=90)"
   ]
  },
  {
   "cell_type": "markdown",
   "metadata": {
    "id": "qPnk16P213qW"
   },
   "source": [
    "## Multimodal Embedding API"
   ]
  },
  {
   "cell_type": "markdown",
   "metadata": {
    "id": "iF0NNyDv13fX"
   },
   "source": [
    "The [multimodal embeddings](https://cloud.google.com/vertex-ai/generative-ai/docs/embeddings/get-multimodal-embeddings) model generates [ 128, 256, 512, and 1408 (default) ] -dimension vectors based on the input you provide, which can include a combination of image, text, and video data. The embedding vectors can then be used for subsequent tasks like image classification or video content moderation.\n",
    "\n",
    "The image embedding vector and text embedding vector are in the same semantic space with the same dimensionality. Consequently, these vectors can be used interchangeably for use cases like searching image by text, or searching video by image.\n",
    "\n",
    "For text-only embedding use cases, we recommend using the Vertex AI text-embeddings API instead demonstrate above.\n",
    "\n",
    "**Use cases**\n",
    "\n",
    "**Image and text:**\n",
    "\n",
    "\n",
    "* Image classification: Takes an image as input and predicts one or more classes (labels).\n",
    "* Image search: Search relevant or similar images.\n",
    "* Recommendations: Generate product or ad recommendations based on images.\n",
    "\n",
    "\n",
    "\n",
    "**Image, text, and video:**\n",
    "\n",
    "* Recommendations: Generate product or advertisement recommendations based on videos (similarity search).\n",
    "* Video content search\n",
    "    * Using semantic search: Take a text as an input, and return a set of ranked frames matching the query.\n",
    "* Using similarity search:\n",
    "    * Take a video as an input, and return a set of videos matching the query.\n",
    "    * Take an image as an input, and return a set of videos matching the query.\n",
    "* Video classification: Takes a video as input and predicts one or more classes.\n"
   ]
  },
  {
   "cell_type": "code",
   "execution_count": 13,
   "metadata": {
    "id": "olQ6tojAQR5V",
    "tags": []
   },
   "outputs": [],
   "source": [
    "def get_image_video_text_embeddings(\n",
    "    image_path: Optional[str] = None,\n",
    "    video_path: Optional[str] = None,\n",
    "    contextual_text: Optional[str] = None,\n",
    "    dimension: Optional[int] = 1408,\n",
    "    video_segment_config: Optional[VideoSegmentConfig] = None,\n",
    "    debug: bool = False,\n",
    ") -> MultiModalEmbeddingResponse:\n",
    "    \"\"\"Generates multimodal embeddings from image, video, and text.\n",
    "\n",
    "    Args:\n",
    "        image_path: Path to image (local or Google Cloud Storage).\n",
    "        video_path: Path to video (local or Google Cloud Storage).\n",
    "        contextual_text: Text to generate embeddings for. Max: 32 tokens (~32 words).\n",
    "        dimension: Dimension of the returned embeddings (128, 256, 512, or 1408).\n",
    "        video_segment_config: Defines specific video segments for embedding generation.\n",
    "        debug: If True, print debugging information.\n",
    "\n",
    "    Returns:\n",
    "        MultiModalEmbeddingResponse: The generated embeddings.\n",
    "\n",
    "    Raises:\n",
    "        ValueError: If neither image_path, video_path, nor contextual_text is provided.\n",
    "    \"\"\"\n",
    "\n",
    "    # Input validation\n",
    "    if not any([image_path, video_path, contextual_text]):\n",
    "        raise ValueError(\n",
    "            \"At least one of image_path, video_path, or contextual_text must be provided.\"\n",
    "        )\n",
    "\n",
    "    image = VMImage.load_from_file(image_path) if image_path else None\n",
    "    video = VMVideo.load_from_file(video_path) if video_path else None\n",
    "\n",
    "    embeddings = mm_embedding_model.get_embeddings(\n",
    "        image=image,\n",
    "        video=video,\n",
    "        video_segment_config=video_segment_config,\n",
    "        contextual_text=contextual_text,\n",
    "        dimension=dimension,\n",
    "    )\n",
    "\n",
    "    # Prepare result dictionary for better organization\n",
    "    result = {}\n",
    "\n",
    "    if image_path:\n",
    "        if debug:\n",
    "            print(\n",
    "                f\"\\n\\nImage Embedding (first five):\\n{embeddings.image_embedding[:5]}\"\n",
    "            )\n",
    "            print(f\"Dimension of Image Embedding: {len(embeddings.image_embedding)}\")\n",
    "        result[\"image_embedding\"] = embeddings.image_embedding\n",
    "\n",
    "    if video_path:\n",
    "        if debug:\n",
    "            print(\"Video Embeddings:\")\n",
    "        video_embedding_list = [\n",
    "            {\n",
    "                \"start_offset_sec\": video_embedding.start_offset_sec,\n",
    "                \"end_offset_sec\": video_embedding.end_offset_sec,\n",
    "                \"embedding\": video_embedding.embedding,\n",
    "            }\n",
    "            for video_embedding in embeddings.video_embeddings\n",
    "        ]\n",
    "        result[\"video_embeddings\"] = video_embedding_list\n",
    "\n",
    "        if debug:\n",
    "            for embedding in video_embedding_list:\n",
    "                print(\n",
    "                    f\"\\nVideo Segment (in seconds): {embedding['start_offset_sec']} - {embedding['end_offset_sec']}\"\n",
    "                )\n",
    "                print(f\"Embedding (first five): {embedding['embedding'][:5]}\")\n",
    "                print(f\"Dimension of Video Embedding: {len(embedding['embedding'])}\")\n",
    "\n",
    "    if contextual_text:\n",
    "        if debug:\n",
    "            print(f\"\\n\\nText Embedding (first five):\\n{embeddings.text_embedding[:5]}\")\n",
    "            print(f\"Dimension of Text Embedding: {len(embeddings.text_embedding)}\")\n",
    "        result[\"text_embedding\"] = embeddings.text_embedding\n",
    "\n",
    "    return result"
   ]
  },
  {
   "cell_type": "code",
   "execution_count": 14,
   "metadata": {
    "id": "10kzx4YoVjMU",
    "tags": []
   },
   "outputs": [
    {
     "name": "stdout",
     "output_type": "stream",
     "text": [
      "\n",
      "\n",
      "Image Embedding (first five):\n",
      "[-0.00197871495, 0.0347953215, -0.0131241195, 0.0191164035, -0.00567555893]\n",
      "Dimension of Image Embedding: 1408\n"
     ]
    }
   ],
   "source": [
    "# Image embeddings with default 1408 dimension\n",
    "result = get_image_video_text_embeddings(\n",
    "    image_path=\"gs://github-repo/embeddings/getting_started_embeddings/gms_images/GGOEACBA104999.jpg\",\n",
    "    debug=True,\n",
    ")"
   ]
  },
  {
   "cell_type": "code",
   "execution_count": 15,
   "metadata": {
    "id": "eRYoTJqwwu9D",
    "tags": []
   },
   "outputs": [
    {
     "name": "stdout",
     "output_type": "stream",
     "text": [
      "\n",
      "\n",
      "Image Embedding (first five):\n",
      "[0.256180078, -0.0280692317, 0.0802590698, -0.0754824504, 0.00254453556]\n",
      "Dimension of Image Embedding: 256\n"
     ]
    }
   ],
   "source": [
    "# Image embeddings with 256 dimension each\n",
    "\n",
    "result = get_image_video_text_embeddings(\n",
    "    image_path=\"gs://github-repo/embeddings/getting_started_embeddings/gms_images/GGOEAFKA194799.jpg\",\n",
    "    dimension=256,  # Available values: 128, 256, 512, and 1408 (default)\n",
    "    debug=True,\n",
    ")  # printing first 10 vectors only"
   ]
  },
  {
   "cell_type": "code",
   "execution_count": 16,
   "metadata": {
    "id": "QeGOaYxGwtdp",
    "tags": []
   },
   "outputs": [
    {
     "name": "stdout",
     "output_type": "stream",
     "text": [
      "Video Embeddings:\n",
      "\n",
      "Video Segment (in seconds): 0.0 - 4.0\n",
      "Embedding (first five): [-0.0114302337, 0.0216639135, -0.00484409975, -0.0174829662, -0.00420917571]\n",
      "Dimension of Video Embedding: 1408\n"
     ]
    }
   ],
   "source": [
    "# Video embeddings with 1408 dimension # Video embedding only supports 1408\n",
    "\n",
    "result = get_image_video_text_embeddings(\n",
    "    video_path=\"gs://github-repo/embeddings/getting_started_embeddings/UCF-101-subset/BrushingTeeth/v_BrushingTeeth_g01_c02.mp4\",\n",
    "    debug=True,\n",
    ")"
   ]
  },
  {
   "cell_type": "code",
   "execution_count": 17,
   "metadata": {
    "id": "IOa8OrJpyYlK",
    "tags": []
   },
   "outputs": [
    {
     "name": "stdout",
     "output_type": "stream",
     "text": [
      "Video Embeddings:\n",
      "\n",
      "Video Segment (in seconds): 0.0 - 60.0\n",
      "Embedding (first five): [0.000333240401, 0.0290365573, -0.01296023, -0.00441954099, 0.0164420363]\n",
      "Dimension of Video Embedding: 1408\n",
      "\n",
      "Video Segment (in seconds): 60.0 - 120.0\n",
      "Embedding (first five): [-0.012447156, 0.0258569922, -0.00568116223, -0.00386924855, 0.00936787762]\n",
      "Dimension of Video Embedding: 1408\n"
     ]
    }
   ],
   "source": [
    "# Video embeddings with 1408 dimension and Video Segment. # Video embedding only supports 1408\n",
    "\n",
    "\n",
    "result = get_image_video_text_embeddings(\n",
    "    video_path=\"gs://github-repo/embeddings/getting_started_embeddings/Googles newest and most capable AI  Gemini.mp4\",\n",
    "    video_segment_config=VideoSegmentConfig(\n",
    "        start_offset_sec=0, end_offset_sec=120, interval_sec=60\n",
    "    ),\n",
    "    debug=True,\n",
    ")  # printing first 10 vectors only"
   ]
  },
  {
   "cell_type": "markdown",
   "metadata": {
    "id": "wnZmYUhkRf0u"
   },
   "source": [
    "## Use-case: Building simple search with embeddings"
   ]
  },
  {
   "cell_type": "markdown",
   "metadata": {
    "id": "2NP6ovQVTeFV"
   },
   "source": [
    "### Build embeddings for data from scratch"
   ]
  },
  {
   "cell_type": "markdown",
   "metadata": {
    "id": "hlOmaXeEXV9p"
   },
   "source": [
    "#### Video Embeddings"
   ]
  },
  {
   "cell_type": "code",
   "execution_count": 18,
   "metadata": {
    "id": "r17fSDV8Uy-p",
    "tags": []
   },
   "outputs": [
    {
     "data": {
      "text/html": [
       "<div>\n",
       "<style scoped>\n",
       "    .dataframe tbody tr th:only-of-type {\n",
       "        vertical-align: middle;\n",
       "    }\n",
       "\n",
       "    .dataframe tbody tr th {\n",
       "        vertical-align: top;\n",
       "    }\n",
       "\n",
       "    .dataframe thead th {\n",
       "        text-align: right;\n",
       "    }\n",
       "</style>\n",
       "<table border=\"1\" class=\"dataframe\">\n",
       "  <thead>\n",
       "    <tr style=\"text-align: right;\">\n",
       "      <th></th>\n",
       "      <th>gcs_path</th>\n",
       "      <th>category</th>\n",
       "      <th>file_name</th>\n",
       "    </tr>\n",
       "  </thead>\n",
       "  <tbody>\n",
       "    <tr>\n",
       "      <th>0</th>\n",
       "      <td>gs://github-repo/embeddings/getting_started_em...</td>\n",
       "      <td>TaiChi</td>\n",
       "      <td>v_TaiChi_g25_c04.mp4</td>\n",
       "    </tr>\n",
       "    <tr>\n",
       "      <th>1</th>\n",
       "      <td>gs://github-repo/embeddings/getting_started_em...</td>\n",
       "      <td>TaiChi</td>\n",
       "      <td>v_TaiChi_g25_c03.mp4</td>\n",
       "    </tr>\n",
       "    <tr>\n",
       "      <th>2</th>\n",
       "      <td>gs://github-repo/embeddings/getting_started_em...</td>\n",
       "      <td>TaiChi</td>\n",
       "      <td>v_TaiChi_g13_c03.mp4</td>\n",
       "    </tr>\n",
       "    <tr>\n",
       "      <th>3</th>\n",
       "      <td>gs://github-repo/embeddings/getting_started_em...</td>\n",
       "      <td>TaiChi</td>\n",
       "      <td>v_TaiChi_g21_c04.mp4</td>\n",
       "    </tr>\n",
       "    <tr>\n",
       "      <th>4</th>\n",
       "      <td>gs://github-repo/embeddings/getting_started_em...</td>\n",
       "      <td>TaiChi</td>\n",
       "      <td>v_TaiChi_g07_c02.mp4</td>\n",
       "    </tr>\n",
       "  </tbody>\n",
       "</table>\n",
       "</div>"
      ],
      "text/plain": [
       "                                            gcs_path category  \\\n",
       "0  gs://github-repo/embeddings/getting_started_em...   TaiChi   \n",
       "1  gs://github-repo/embeddings/getting_started_em...   TaiChi   \n",
       "2  gs://github-repo/embeddings/getting_started_em...   TaiChi   \n",
       "3  gs://github-repo/embeddings/getting_started_em...   TaiChi   \n",
       "4  gs://github-repo/embeddings/getting_started_em...   TaiChi   \n",
       "\n",
       "              file_name  \n",
       "0  v_TaiChi_g25_c04.mp4  \n",
       "1  v_TaiChi_g25_c03.mp4  \n",
       "2  v_TaiChi_g13_c03.mp4  \n",
       "3  v_TaiChi_g21_c04.mp4  \n",
       "4  v_TaiChi_g07_c02.mp4  "
      ]
     },
     "execution_count": 18,
     "metadata": {},
     "output_type": "execute_result"
    }
   ],
   "source": [
    "data_url = \"https://storage.googleapis.com/github-repo/embeddings/getting_started_embeddings/video_data_without_embeddings.csv\"\n",
    "video_data_without_embeddings = pd.read_csv(data_url)\n",
    "video_data_without_embeddings.head()"
   ]
  },
  {
   "cell_type": "code",
   "execution_count": 19,
   "metadata": {
    "id": "El2wJCTUQ5ux",
    "tags": []
   },
   "outputs": [],
   "source": [
    "# %%time ~3 min\n",
    "# video_data_without_embeddings = pd.read_csv(data_url)\n",
    "# # Create new dataframe to store embeddings\n",
    "# video_data_with_embeddings = video_data_without_embeddings.copy()\n",
    "\n",
    "# # Get Video Embeddings\n",
    "# video_data_with_embeddings[\"video_embeddings\"] = (\n",
    "#     video_data_without_embeddings[\"gcs_path\"]\n",
    "#     .apply(\n",
    "#         lambda x: get_image_video_text_embeddings(video_path=x)['video_embeddings'][0]['embedding']\n",
    "#     )\n",
    "# )\n",
    "\n",
    "# video_data_with_embeddings.head()"
   ]
  },
  {
   "cell_type": "markdown",
   "metadata": {
    "id": "xY3eurefXZ1E"
   },
   "source": [
    "#### Image and Text Embeddings"
   ]
  },
  {
   "cell_type": "code",
   "execution_count": 20,
   "metadata": {
    "id": "dzAteOhSSr8K",
    "tags": []
   },
   "outputs": [
    {
     "data": {
      "text/html": [
       "<div>\n",
       "<style scoped>\n",
       "    .dataframe tbody tr th:only-of-type {\n",
       "        vertical-align: middle;\n",
       "    }\n",
       "\n",
       "    .dataframe tbody tr th {\n",
       "        vertical-align: top;\n",
       "    }\n",
       "\n",
       "    .dataframe thead th {\n",
       "        text-align: right;\n",
       "    }\n",
       "</style>\n",
       "<table border=\"1\" class=\"dataframe\">\n",
       "  <thead>\n",
       "    <tr style=\"text-align: right;\">\n",
       "      <th></th>\n",
       "      <th>parent_sku</th>\n",
       "      <th>parent_description</th>\n",
       "      <th>retail_price</th>\n",
       "      <th>img_url</th>\n",
       "      <th>seo_url</th>\n",
       "      <th>title</th>\n",
       "      <th>shortdesc</th>\n",
       "      <th>longdesc</th>\n",
       "      <th>keywords</th>\n",
       "      <th>metadescription</th>\n",
       "      <th>file_path</th>\n",
       "      <th>gcs_path</th>\n",
       "    </tr>\n",
       "  </thead>\n",
       "  <tbody>\n",
       "    <tr>\n",
       "      <th>0</th>\n",
       "      <td>GGOEAXXX1947</td>\n",
       "      <td>Android Keyboard Sticker</td>\n",
       "      <td>2.0</td>\n",
       "      <td>https://shop.googlemerchandisestore.com/store/...</td>\n",
       "      <td>https://shop.googlemerchandisestore.com/Google...</td>\n",
       "      <td>Android Keyboard Sticker</td>\n",
       "      <td>Add some character to your keyboard!  This sma...</td>\n",
       "      <td>&lt;div&gt;&lt;p dir=\"ltr\"&gt;&lt;span&gt;Sticker measures ½  x ...</td>\n",
       "      <td>Android Keyboard Sticker</td>\n",
       "      <td>Shop Google Merchandise store for Android Keyb...</td>\n",
       "      <td>/content/data/gms_images/GGOEAFKA194799.jpg</td>\n",
       "      <td>gs://github-repo/embeddings/getting_started_em...</td>\n",
       "    </tr>\n",
       "    <tr>\n",
       "      <th>1</th>\n",
       "      <td>GGOEGXXX1238</td>\n",
       "      <td>Google Pen Neon Coral</td>\n",
       "      <td>2.0</td>\n",
       "      <td>https://shop.googlemerchandisestore.com/store/...</td>\n",
       "      <td>https://shop.googlemerchandisestore.com/Google...</td>\n",
       "      <td>Google Pen Neon Coral</td>\n",
       "      <td>Whether you are signing official documents or ...</td>\n",
       "      <td>&lt;div&gt;&lt;p&gt;Soft touch surface.&lt;/p&gt;&lt;p&gt;Fine point g...</td>\n",
       "      <td>Google Pen Neon Coral, Google, pen, orange, co...</td>\n",
       "      <td>Shop Google Merchandise Store for Google Pen N...</td>\n",
       "      <td>/content/data/gms_images/GGOEGOAN123899.jpg</td>\n",
       "      <td>gs://github-repo/embeddings/getting_started_em...</td>\n",
       "    </tr>\n",
       "    <tr>\n",
       "      <th>2</th>\n",
       "      <td>GGOEGXXX1983</td>\n",
       "      <td>Google Hologram Sunnyvale Campus Sticker</td>\n",
       "      <td>2.0</td>\n",
       "      <td>https://shop.googlemerchandisestore.com/store/...</td>\n",
       "      <td>https://shop.googlemerchandisestore.com/Google...</td>\n",
       "      <td>Google Hologram Sunnyvale Campus Sticker</td>\n",
       "      <td>Nostalgic and fun for everyone, our exclusive ...</td>\n",
       "      <td>&lt;div&gt;&lt;p dir=\"ltr\"&gt;&lt;span&gt;Sticker measures 3 H&lt;/...</td>\n",
       "      <td>Google Hologram Sunnyvale Campus Sticker</td>\n",
       "      <td>Shop Google Merchandise store for Google Holog...</td>\n",
       "      <td>/content/data/gms_images/GGOEGCKA198399.jpg</td>\n",
       "      <td>gs://github-repo/embeddings/getting_started_em...</td>\n",
       "    </tr>\n",
       "    <tr>\n",
       "      <th>3</th>\n",
       "      <td>GGOEGXXX1773</td>\n",
       "      <td>Google Maps Wheat Pen</td>\n",
       "      <td>2.0</td>\n",
       "      <td>https://shop.googlemerchandisestore.com/store/...</td>\n",
       "      <td>https://shop.googlemerchandisestore.com/Google...</td>\n",
       "      <td>Google Maps Wheat Pen</td>\n",
       "      <td>Drop your pen to paper and start planning your...</td>\n",
       "      <td>&lt;div&gt;&lt;p&gt;Black Ink &lt;/p&gt;&lt;p&gt;Retractable medium ba...</td>\n",
       "      <td>Google Maps Wheat Pen</td>\n",
       "      <td>Shop Google Merchandise Store for Google Maps ...</td>\n",
       "      <td>/content/data/gms_images/GGOEGOAB177399.jpg</td>\n",
       "      <td>gs://github-repo/embeddings/getting_started_em...</td>\n",
       "    </tr>\n",
       "    <tr>\n",
       "      <th>4</th>\n",
       "      <td>GGOECXXX1946</td>\n",
       "      <td>Google Cloud Keyboard Sticker</td>\n",
       "      <td>2.0</td>\n",
       "      <td>https://shop.googlemerchandisestore.com/store/...</td>\n",
       "      <td>https://shop.googlemerchandisestore.com/Google...</td>\n",
       "      <td>Google Cloud Keyboard Sticker</td>\n",
       "      <td>Add some character to your keyboard!  This sma...</td>\n",
       "      <td>&lt;div&gt;&lt;p dir=\"ltr\"&gt;&lt;span&gt;Sticker measures ½  x ...</td>\n",
       "      <td>Google Cloud Keyboard Sticker</td>\n",
       "      <td>Shop Google Merchandise store for Google Cloud...</td>\n",
       "      <td>/content/data/gms_images/GGOECFKA194699.jpg</td>\n",
       "      <td>gs://github-repo/embeddings/getting_started_em...</td>\n",
       "    </tr>\n",
       "  </tbody>\n",
       "</table>\n",
       "</div>"
      ],
      "text/plain": [
       "     parent_sku                        parent_description  retail_price  \\\n",
       "0  GGOEAXXX1947                  Android Keyboard Sticker           2.0   \n",
       "1  GGOEGXXX1238                     Google Pen Neon Coral           2.0   \n",
       "2  GGOEGXXX1983  Google Hologram Sunnyvale Campus Sticker           2.0   \n",
       "3  GGOEGXXX1773                     Google Maps Wheat Pen           2.0   \n",
       "4  GGOECXXX1946             Google Cloud Keyboard Sticker           2.0   \n",
       "\n",
       "                                             img_url  \\\n",
       "0  https://shop.googlemerchandisestore.com/store/...   \n",
       "1  https://shop.googlemerchandisestore.com/store/...   \n",
       "2  https://shop.googlemerchandisestore.com/store/...   \n",
       "3  https://shop.googlemerchandisestore.com/store/...   \n",
       "4  https://shop.googlemerchandisestore.com/store/...   \n",
       "\n",
       "                                             seo_url  \\\n",
       "0  https://shop.googlemerchandisestore.com/Google...   \n",
       "1  https://shop.googlemerchandisestore.com/Google...   \n",
       "2  https://shop.googlemerchandisestore.com/Google...   \n",
       "3  https://shop.googlemerchandisestore.com/Google...   \n",
       "4  https://shop.googlemerchandisestore.com/Google...   \n",
       "\n",
       "                                      title  \\\n",
       "0                  Android Keyboard Sticker   \n",
       "1                     Google Pen Neon Coral   \n",
       "2  Google Hologram Sunnyvale Campus Sticker   \n",
       "3                     Google Maps Wheat Pen   \n",
       "4             Google Cloud Keyboard Sticker   \n",
       "\n",
       "                                           shortdesc  \\\n",
       "0  Add some character to your keyboard!  This sma...   \n",
       "1  Whether you are signing official documents or ...   \n",
       "2  Nostalgic and fun for everyone, our exclusive ...   \n",
       "3  Drop your pen to paper and start planning your...   \n",
       "4  Add some character to your keyboard!  This sma...   \n",
       "\n",
       "                                            longdesc  \\\n",
       "0  <div><p dir=\"ltr\"><span>Sticker measures ½  x ...   \n",
       "1  <div><p>Soft touch surface.</p><p>Fine point g...   \n",
       "2  <div><p dir=\"ltr\"><span>Sticker measures 3 H</...   \n",
       "3  <div><p>Black Ink </p><p>Retractable medium ba...   \n",
       "4  <div><p dir=\"ltr\"><span>Sticker measures ½  x ...   \n",
       "\n",
       "                                            keywords  \\\n",
       "0                           Android Keyboard Sticker   \n",
       "1  Google Pen Neon Coral, Google, pen, orange, co...   \n",
       "2           Google Hologram Sunnyvale Campus Sticker   \n",
       "3                              Google Maps Wheat Pen   \n",
       "4                      Google Cloud Keyboard Sticker   \n",
       "\n",
       "                                     metadescription  \\\n",
       "0  Shop Google Merchandise store for Android Keyb...   \n",
       "1  Shop Google Merchandise Store for Google Pen N...   \n",
       "2  Shop Google Merchandise store for Google Holog...   \n",
       "3  Shop Google Merchandise Store for Google Maps ...   \n",
       "4  Shop Google Merchandise store for Google Cloud...   \n",
       "\n",
       "                                     file_path  \\\n",
       "0  /content/data/gms_images/GGOEAFKA194799.jpg   \n",
       "1  /content/data/gms_images/GGOEGOAN123899.jpg   \n",
       "2  /content/data/gms_images/GGOEGCKA198399.jpg   \n",
       "3  /content/data/gms_images/GGOEGOAB177399.jpg   \n",
       "4  /content/data/gms_images/GGOECFKA194699.jpg   \n",
       "\n",
       "                                            gcs_path  \n",
       "0  gs://github-repo/embeddings/getting_started_em...  \n",
       "1  gs://github-repo/embeddings/getting_started_em...  \n",
       "2  gs://github-repo/embeddings/getting_started_em...  \n",
       "3  gs://github-repo/embeddings/getting_started_em...  \n",
       "4  gs://github-repo/embeddings/getting_started_em...  "
      ]
     },
     "execution_count": 20,
     "metadata": {},
     "output_type": "execute_result"
    }
   ],
   "source": [
    "data_url = \"https://storage.googleapis.com/github-repo/embeddings/getting_started_embeddings/image_data_without_embeddings.csv\"\n",
    "image_data_without_embeddings = pd.read_csv(data_url)\n",
    "image_data_without_embeddings.head()"
   ]
  },
  {
   "cell_type": "code",
   "execution_count": 21,
   "metadata": {
    "id": "LExwGZuKSEbZ",
    "tags": []
   },
   "outputs": [],
   "source": [
    "# %%time ~5min\n",
    "\n",
    "# # Create new dataframe to store embeddings\n",
    "# image_data_with_embeddings = image_data_without_embeddings.copy()\n",
    "\n",
    "# # Combining all the text metadata in a single column.\n",
    "# image_data_with_embeddings[\"combined_text\"] = (\n",
    "#     image_data_with_embeddings[\"title\"].fillna(\"\")\n",
    "#     + \" \"\n",
    "#     + image_data_with_embeddings[\"keywords\"].fillna(\"\")\n",
    "#     + \" \"\n",
    "#     + image_data_with_embeddings[\"metadescription\"].fillna(\"\")\n",
    "# )\n",
    "\n",
    "# # Get Image and Text Embeddings\n",
    "\n",
    "# # Taking default 1408 dimension\n",
    "# image_data_with_embeddings[\"image_embeddings\"] = image_data_with_embeddings[\n",
    "#     \"gcs_path\"\n",
    "# ].apply(lambda x: get_image_video_text_embeddings(image_path=x)[\"image_embedding\"])\n",
    "# # Taking default 768 dimension\n",
    "# image_data_with_embeddings[\"text_embeddings\"] = image_data_with_embeddings[\n",
    "#     \"combined_text\"\n",
    "# ].apply(lambda x: embed_text([x])[0])\n",
    "\n",
    "# image_data_with_embeddings.head()"
   ]
  },
  {
   "cell_type": "markdown",
   "metadata": {
    "id": "H1TyK-ENVlHf"
   },
   "source": [
    "## Load pre-computed embeddings"
   ]
  },
  {
   "cell_type": "code",
   "execution_count": 22,
   "metadata": {
    "id": "nigd4xO7Vow5",
    "tags": []
   },
   "outputs": [],
   "source": [
    "# Comment this cell, if you are computing embeddings from scratch.\n",
    "\n",
    "image_data_with_embeddings = pd.read_csv(\n",
    "    \"https://storage.googleapis.com/github-repo/embeddings/getting_started_embeddings/image_data_with_embeddings.csv\"\n",
    ")  # dimensions; image = 1408, text = 768\n",
    "video_data_with_embeddings = pd.read_csv(\n",
    "    \"https://storage.googleapis.com/github-repo/embeddings/getting_started_embeddings/video_data_with_embeddings.csv\"\n",
    ")  # dimensions; video = 1408"
   ]
  },
  {
   "cell_type": "code",
   "execution_count": 23,
   "metadata": {
    "id": "KA3j0sPYV7TP",
    "tags": []
   },
   "outputs": [
    {
     "data": {
      "text/html": [
       "<div>\n",
       "<style scoped>\n",
       "    .dataframe tbody tr th:only-of-type {\n",
       "        vertical-align: middle;\n",
       "    }\n",
       "\n",
       "    .dataframe tbody tr th {\n",
       "        vertical-align: top;\n",
       "    }\n",
       "\n",
       "    .dataframe thead th {\n",
       "        text-align: right;\n",
       "    }\n",
       "</style>\n",
       "<table border=\"1\" class=\"dataframe\">\n",
       "  <thead>\n",
       "    <tr style=\"text-align: right;\">\n",
       "      <th></th>\n",
       "      <th>parent_sku</th>\n",
       "      <th>parent_description</th>\n",
       "      <th>retail_price</th>\n",
       "      <th>img_url</th>\n",
       "      <th>seo_url</th>\n",
       "      <th>title</th>\n",
       "      <th>shortdesc</th>\n",
       "      <th>longdesc</th>\n",
       "      <th>keywords</th>\n",
       "      <th>metadescription</th>\n",
       "      <th>file_path</th>\n",
       "      <th>gcs_path</th>\n",
       "      <th>combined_text</th>\n",
       "      <th>image_embeddings</th>\n",
       "      <th>text_embeddings</th>\n",
       "    </tr>\n",
       "  </thead>\n",
       "  <tbody>\n",
       "    <tr>\n",
       "      <th>0</th>\n",
       "      <td>GGOEAXXX1947</td>\n",
       "      <td>Android Keyboard Sticker</td>\n",
       "      <td>2.0</td>\n",
       "      <td>https://shop.googlemerchandisestore.com/store/...</td>\n",
       "      <td>https://shop.googlemerchandisestore.com/Google...</td>\n",
       "      <td>Android Keyboard Sticker</td>\n",
       "      <td>Add some character to your keyboard!  This sma...</td>\n",
       "      <td>&lt;div&gt;&lt;p dir=\"ltr\"&gt;&lt;span&gt;Sticker measures ½  x ...</td>\n",
       "      <td>Android Keyboard Sticker</td>\n",
       "      <td>Shop Google Merchandise store for Android Keyb...</td>\n",
       "      <td>/content/data/gms_images/GGOEAFKA194799.jpg</td>\n",
       "      <td>gs://github-repo/embeddings/getting_started_em...</td>\n",
       "      <td>Android Keyboard Sticker Android Keyboard Stic...</td>\n",
       "      <td>[-0.019712951, -0.00683932705, 0.0385046713, 0...</td>\n",
       "      <td>[-0.0003441123408265412, -0.020794985815882683...</td>\n",
       "    </tr>\n",
       "    <tr>\n",
       "      <th>1</th>\n",
       "      <td>GGOEGXXX1238</td>\n",
       "      <td>Google Pen Neon Coral</td>\n",
       "      <td>2.0</td>\n",
       "      <td>https://shop.googlemerchandisestore.com/store/...</td>\n",
       "      <td>https://shop.googlemerchandisestore.com/Google...</td>\n",
       "      <td>Google Pen Neon Coral</td>\n",
       "      <td>Whether you are signing official documents or ...</td>\n",
       "      <td>&lt;div&gt;&lt;p&gt;Soft touch surface.&lt;/p&gt;&lt;p&gt;Fine point g...</td>\n",
       "      <td>Google Pen Neon Coral, Google, pen, orange, co...</td>\n",
       "      <td>Shop Google Merchandise Store for Google Pen N...</td>\n",
       "      <td>/content/data/gms_images/GGOEGOAN123899.jpg</td>\n",
       "      <td>gs://github-repo/embeddings/getting_started_em...</td>\n",
       "      <td>Google Pen Neon Coral Google Pen Neon Coral, G...</td>\n",
       "      <td>[0.0312964357, 0.0266801305, -0.00428772392, 0...</td>\n",
       "      <td>[0.015119598247110844, -0.05192413181066513, -...</td>\n",
       "    </tr>\n",
       "    <tr>\n",
       "      <th>2</th>\n",
       "      <td>GGOEGXXX1983</td>\n",
       "      <td>Google Hologram Sunnyvale Campus Sticker</td>\n",
       "      <td>2.0</td>\n",
       "      <td>https://shop.googlemerchandisestore.com/store/...</td>\n",
       "      <td>https://shop.googlemerchandisestore.com/Google...</td>\n",
       "      <td>Google Hologram Sunnyvale Campus Sticker</td>\n",
       "      <td>Nostalgic and fun for everyone, our exclusive ...</td>\n",
       "      <td>&lt;div&gt;&lt;p dir=\"ltr\"&gt;&lt;span&gt;Sticker measures 3 H&lt;/...</td>\n",
       "      <td>Google Hologram Sunnyvale Campus Sticker</td>\n",
       "      <td>Shop Google Merchandise store for Google Holog...</td>\n",
       "      <td>/content/data/gms_images/GGOEGCKA198399.jpg</td>\n",
       "      <td>gs://github-repo/embeddings/getting_started_em...</td>\n",
       "      <td>Google Hologram Sunnyvale Campus Sticker Googl...</td>\n",
       "      <td>[-0.0115588326, 0.0233894847, 0.0509909727, 0....</td>\n",
       "      <td>[0.008340244181454182, -0.019928857684135437, ...</td>\n",
       "    </tr>\n",
       "    <tr>\n",
       "      <th>3</th>\n",
       "      <td>GGOEGXXX1773</td>\n",
       "      <td>Google Maps Wheat Pen</td>\n",
       "      <td>2.0</td>\n",
       "      <td>https://shop.googlemerchandisestore.com/store/...</td>\n",
       "      <td>https://shop.googlemerchandisestore.com/Google...</td>\n",
       "      <td>Google Maps Wheat Pen</td>\n",
       "      <td>Drop your pen to paper and start planning your...</td>\n",
       "      <td>&lt;div&gt;&lt;p&gt;Black Ink &lt;/p&gt;&lt;p&gt;Retractable medium ba...</td>\n",
       "      <td>Google Maps Wheat Pen</td>\n",
       "      <td>Shop Google Merchandise Store for Google Maps ...</td>\n",
       "      <td>/content/data/gms_images/GGOEGOAB177399.jpg</td>\n",
       "      <td>gs://github-repo/embeddings/getting_started_em...</td>\n",
       "      <td>Google Maps Wheat Pen Google Maps Wheat Pen Sh...</td>\n",
       "      <td>[0.0108120618, 0.0177407321, -0.0159502737, 0....</td>\n",
       "      <td>[0.0009172282880172133, -0.05302327498793602, ...</td>\n",
       "    </tr>\n",
       "    <tr>\n",
       "      <th>4</th>\n",
       "      <td>GGOECXXX1946</td>\n",
       "      <td>Google Cloud Keyboard Sticker</td>\n",
       "      <td>2.0</td>\n",
       "      <td>https://shop.googlemerchandisestore.com/store/...</td>\n",
       "      <td>https://shop.googlemerchandisestore.com/Google...</td>\n",
       "      <td>Google Cloud Keyboard Sticker</td>\n",
       "      <td>Add some character to your keyboard!  This sma...</td>\n",
       "      <td>&lt;div&gt;&lt;p dir=\"ltr\"&gt;&lt;span&gt;Sticker measures ½  x ...</td>\n",
       "      <td>Google Cloud Keyboard Sticker</td>\n",
       "      <td>Shop Google Merchandise store for Google Cloud...</td>\n",
       "      <td>/content/data/gms_images/GGOECFKA194699.jpg</td>\n",
       "      <td>gs://github-repo/embeddings/getting_started_em...</td>\n",
       "      <td>Google Cloud Keyboard Sticker Google Cloud Key...</td>\n",
       "      <td>[-0.0243009, 0.0230779219, 0.039797049, 0.0337...</td>\n",
       "      <td>[0.015464423224329948, -0.025598861277103424, ...</td>\n",
       "    </tr>\n",
       "  </tbody>\n",
       "</table>\n",
       "</div>"
      ],
      "text/plain": [
       "     parent_sku                        parent_description  retail_price  \\\n",
       "0  GGOEAXXX1947                  Android Keyboard Sticker           2.0   \n",
       "1  GGOEGXXX1238                     Google Pen Neon Coral           2.0   \n",
       "2  GGOEGXXX1983  Google Hologram Sunnyvale Campus Sticker           2.0   \n",
       "3  GGOEGXXX1773                     Google Maps Wheat Pen           2.0   \n",
       "4  GGOECXXX1946             Google Cloud Keyboard Sticker           2.0   \n",
       "\n",
       "                                             img_url  \\\n",
       "0  https://shop.googlemerchandisestore.com/store/...   \n",
       "1  https://shop.googlemerchandisestore.com/store/...   \n",
       "2  https://shop.googlemerchandisestore.com/store/...   \n",
       "3  https://shop.googlemerchandisestore.com/store/...   \n",
       "4  https://shop.googlemerchandisestore.com/store/...   \n",
       "\n",
       "                                             seo_url  \\\n",
       "0  https://shop.googlemerchandisestore.com/Google...   \n",
       "1  https://shop.googlemerchandisestore.com/Google...   \n",
       "2  https://shop.googlemerchandisestore.com/Google...   \n",
       "3  https://shop.googlemerchandisestore.com/Google...   \n",
       "4  https://shop.googlemerchandisestore.com/Google...   \n",
       "\n",
       "                                      title  \\\n",
       "0                  Android Keyboard Sticker   \n",
       "1                     Google Pen Neon Coral   \n",
       "2  Google Hologram Sunnyvale Campus Sticker   \n",
       "3                     Google Maps Wheat Pen   \n",
       "4             Google Cloud Keyboard Sticker   \n",
       "\n",
       "                                           shortdesc  \\\n",
       "0  Add some character to your keyboard!  This sma...   \n",
       "1  Whether you are signing official documents or ...   \n",
       "2  Nostalgic and fun for everyone, our exclusive ...   \n",
       "3  Drop your pen to paper and start planning your...   \n",
       "4  Add some character to your keyboard!  This sma...   \n",
       "\n",
       "                                            longdesc  \\\n",
       "0  <div><p dir=\"ltr\"><span>Sticker measures ½  x ...   \n",
       "1  <div><p>Soft touch surface.</p><p>Fine point g...   \n",
       "2  <div><p dir=\"ltr\"><span>Sticker measures 3 H</...   \n",
       "3  <div><p>Black Ink </p><p>Retractable medium ba...   \n",
       "4  <div><p dir=\"ltr\"><span>Sticker measures ½  x ...   \n",
       "\n",
       "                                            keywords  \\\n",
       "0                           Android Keyboard Sticker   \n",
       "1  Google Pen Neon Coral, Google, pen, orange, co...   \n",
       "2           Google Hologram Sunnyvale Campus Sticker   \n",
       "3                              Google Maps Wheat Pen   \n",
       "4                      Google Cloud Keyboard Sticker   \n",
       "\n",
       "                                     metadescription  \\\n",
       "0  Shop Google Merchandise store for Android Keyb...   \n",
       "1  Shop Google Merchandise Store for Google Pen N...   \n",
       "2  Shop Google Merchandise store for Google Holog...   \n",
       "3  Shop Google Merchandise Store for Google Maps ...   \n",
       "4  Shop Google Merchandise store for Google Cloud...   \n",
       "\n",
       "                                     file_path  \\\n",
       "0  /content/data/gms_images/GGOEAFKA194799.jpg   \n",
       "1  /content/data/gms_images/GGOEGOAN123899.jpg   \n",
       "2  /content/data/gms_images/GGOEGCKA198399.jpg   \n",
       "3  /content/data/gms_images/GGOEGOAB177399.jpg   \n",
       "4  /content/data/gms_images/GGOECFKA194699.jpg   \n",
       "\n",
       "                                            gcs_path  \\\n",
       "0  gs://github-repo/embeddings/getting_started_em...   \n",
       "1  gs://github-repo/embeddings/getting_started_em...   \n",
       "2  gs://github-repo/embeddings/getting_started_em...   \n",
       "3  gs://github-repo/embeddings/getting_started_em...   \n",
       "4  gs://github-repo/embeddings/getting_started_em...   \n",
       "\n",
       "                                       combined_text  \\\n",
       "0  Android Keyboard Sticker Android Keyboard Stic...   \n",
       "1  Google Pen Neon Coral Google Pen Neon Coral, G...   \n",
       "2  Google Hologram Sunnyvale Campus Sticker Googl...   \n",
       "3  Google Maps Wheat Pen Google Maps Wheat Pen Sh...   \n",
       "4  Google Cloud Keyboard Sticker Google Cloud Key...   \n",
       "\n",
       "                                    image_embeddings  \\\n",
       "0  [-0.019712951, -0.00683932705, 0.0385046713, 0...   \n",
       "1  [0.0312964357, 0.0266801305, -0.00428772392, 0...   \n",
       "2  [-0.0115588326, 0.0233894847, 0.0509909727, 0....   \n",
       "3  [0.0108120618, 0.0177407321, -0.0159502737, 0....   \n",
       "4  [-0.0243009, 0.0230779219, 0.039797049, 0.0337...   \n",
       "\n",
       "                                     text_embeddings  \n",
       "0  [-0.0003441123408265412, -0.020794985815882683...  \n",
       "1  [0.015119598247110844, -0.05192413181066513, -...  \n",
       "2  [0.008340244181454182, -0.019928857684135437, ...  \n",
       "3  [0.0009172282880172133, -0.05302327498793602, ...  \n",
       "4  [0.015464423224329948, -0.025598861277103424, ...  "
      ]
     },
     "execution_count": 23,
     "metadata": {},
     "output_type": "execute_result"
    }
   ],
   "source": [
    "image_data_with_embeddings.head()"
   ]
  },
  {
   "cell_type": "code",
   "execution_count": 24,
   "metadata": {
    "id": "T3aF8-A0V9mF",
    "tags": []
   },
   "outputs": [
    {
     "data": {
      "text/html": [
       "<div>\n",
       "<style scoped>\n",
       "    .dataframe tbody tr th:only-of-type {\n",
       "        vertical-align: middle;\n",
       "    }\n",
       "\n",
       "    .dataframe tbody tr th {\n",
       "        vertical-align: top;\n",
       "    }\n",
       "\n",
       "    .dataframe thead th {\n",
       "        text-align: right;\n",
       "    }\n",
       "</style>\n",
       "<table border=\"1\" class=\"dataframe\">\n",
       "  <thead>\n",
       "    <tr style=\"text-align: right;\">\n",
       "      <th></th>\n",
       "      <th>Unnamed: 0</th>\n",
       "      <th>gcs_path</th>\n",
       "      <th>category</th>\n",
       "      <th>file_name</th>\n",
       "      <th>video_embeddings</th>\n",
       "    </tr>\n",
       "  </thead>\n",
       "  <tbody>\n",
       "    <tr>\n",
       "      <th>0</th>\n",
       "      <td>0</td>\n",
       "      <td>gs://github-repo/embeddings/getting_started_em...</td>\n",
       "      <td>TaiChi</td>\n",
       "      <td>v_TaiChi_g25_c04.mp4</td>\n",
       "      <td>[0.0212469846, 0.021904517, 0.00673244661, 0.0...</td>\n",
       "    </tr>\n",
       "    <tr>\n",
       "      <th>1</th>\n",
       "      <td>1</td>\n",
       "      <td>gs://github-repo/embeddings/getting_started_em...</td>\n",
       "      <td>TaiChi</td>\n",
       "      <td>v_TaiChi_g25_c03.mp4</td>\n",
       "      <td>[0.0150156552, 0.0182044469, 0.00531015405, 0....</td>\n",
       "    </tr>\n",
       "    <tr>\n",
       "      <th>2</th>\n",
       "      <td>2</td>\n",
       "      <td>gs://github-repo/embeddings/getting_started_em...</td>\n",
       "      <td>TaiChi</td>\n",
       "      <td>v_TaiChi_g13_c03.mp4</td>\n",
       "      <td>[0.0176973231, 0.0306478031, 0.0060283, 0.0190...</td>\n",
       "    </tr>\n",
       "    <tr>\n",
       "      <th>3</th>\n",
       "      <td>3</td>\n",
       "      <td>gs://github-repo/embeddings/getting_started_em...</td>\n",
       "      <td>TaiChi</td>\n",
       "      <td>v_TaiChi_g21_c04.mp4</td>\n",
       "      <td>[0.00879747886, 0.00810849108, -0.00468777, 0....</td>\n",
       "    </tr>\n",
       "    <tr>\n",
       "      <th>4</th>\n",
       "      <td>4</td>\n",
       "      <td>gs://github-repo/embeddings/getting_started_em...</td>\n",
       "      <td>TaiChi</td>\n",
       "      <td>v_TaiChi_g07_c02.mp4</td>\n",
       "      <td>[0.0203397758, -0.000400501624, 0.00930729136,...</td>\n",
       "    </tr>\n",
       "  </tbody>\n",
       "</table>\n",
       "</div>"
      ],
      "text/plain": [
       "   Unnamed: 0                                           gcs_path category  \\\n",
       "0           0  gs://github-repo/embeddings/getting_started_em...   TaiChi   \n",
       "1           1  gs://github-repo/embeddings/getting_started_em...   TaiChi   \n",
       "2           2  gs://github-repo/embeddings/getting_started_em...   TaiChi   \n",
       "3           3  gs://github-repo/embeddings/getting_started_em...   TaiChi   \n",
       "4           4  gs://github-repo/embeddings/getting_started_em...   TaiChi   \n",
       "\n",
       "              file_name                                   video_embeddings  \n",
       "0  v_TaiChi_g25_c04.mp4  [0.0212469846, 0.021904517, 0.00673244661, 0.0...  \n",
       "1  v_TaiChi_g25_c03.mp4  [0.0150156552, 0.0182044469, 0.00531015405, 0....  \n",
       "2  v_TaiChi_g13_c03.mp4  [0.0176973231, 0.0306478031, 0.0060283, 0.0190...  \n",
       "3  v_TaiChi_g21_c04.mp4  [0.00879747886, 0.00810849108, -0.00468777, 0....  \n",
       "4  v_TaiChi_g07_c02.mp4  [0.0203397758, -0.000400501624, 0.00930729136,...  "
      ]
     },
     "execution_count": 24,
     "metadata": {},
     "output_type": "execute_result"
    }
   ],
   "source": [
    "video_data_with_embeddings.head()"
   ]
  },
  {
   "cell_type": "markdown",
   "metadata": {
    "id": "uzlJc6V9A_R5"
   },
   "source": [
    "## Use-case - Images & text"
   ]
  },
  {
   "cell_type": "markdown",
   "metadata": {
    "id": "73CFiID6WNo8"
   },
   "source": [
    "### Find product based on text search query"
   ]
  },
  {
   "cell_type": "code",
   "execution_count": 25,
   "metadata": {
    "id": "6mxZkwefyAzD",
    "tags": []
   },
   "outputs": [],
   "source": [
    "from IPython.display import Image as ImageByte, display\n",
    "\n",
    "\n",
    "def get_url_from_gcs(gcs_uri: str) -> str:\n",
    "    \"\"\"Converts a Google Cloud Storage (GCS) URI to a publicly accessible URL.\n",
    "\n",
    "    Args:\n",
    "        gcs_uri: The GCS URI in the format gs://bucket-name/object-name.\n",
    "\n",
    "    Returns:\n",
    "        The corresponding public URL for the object.\n",
    "    \"\"\"\n",
    "    return gcs_uri.replace(\"gs://\", \"https://storage.googleapis.com/\").replace(\n",
    "        \" \", \"%20\"\n",
    "    )\n",
    "\n",
    "\n",
    "def print_shortlisted_products(\n",
    "    shortlisted_products: Union[Dict, Any], display_flag: bool = False\n",
    ") -> None:\n",
    "    \"\"\"Prints information about shortlisted products, optionally displaying images.\n",
    "\n",
    "    Args:\n",
    "        shortlisted_products: A dictionary-like object containing product data with 'score' and 'gcs_path' keys.\n",
    "        display_flag: If True, displays images of the products using IPython.\n",
    "    \"\"\"\n",
    "    print(\"Similar product identified ---- \\n\")\n",
    "\n",
    "    for (\n",
    "        index,\n",
    "        product,\n",
    "    ) in shortlisted_products.iterrows():  # Iterate directly over rows for clarity\n",
    "        score = product[\"score\"]\n",
    "        gcs_path = product[\"gcs_path\"]\n",
    "        url = get_url_from_gcs(gcs_path)\n",
    "\n",
    "        print(f\"Product {index + 1}: Confidence Score: {score}\")\n",
    "        print(url)\n",
    "\n",
    "        if display_flag:\n",
    "            display(ImageByte(url=url))  # Simplified image display\n",
    "            print()  # Add an empty line for visual separation"
   ]
  },
  {
   "cell_type": "markdown",
   "metadata": {
    "id": "GvtbNS8MH6B5"
   },
   "source": [
    "**Cosine Similarity: A Measure of Orientation, Not Magnitude**\n",
    "\n",
    "Cosine similarity is a mathematical tool to gauge the similarity between two vectors (like points in space). Think of vectors as arrows:\n",
    "* **Direction:** Each vector points in a particular direction.\n",
    "* **Length:** Each vector has a certain length (magnitude).\n",
    "\n",
    "\n",
    "Cosine similarity focuses on the angle between two vectors, ignoring their lengths. If two vectors point in almost the same direction, they are considered highly similar (cosine similarity close to 1). If they're at a right angle, they're completely dissimilar (cosine similarity of 0). Opposite directions give a similarity of -1.\n",
    "\n",
    "Read more about [cosine similarity](https://en.wikipedia.org/wiki/Cosine_similarity)"
   ]
  },
  {
   "cell_type": "markdown",
   "metadata": {
    "id": "B9iueDzaIOyO"
   },
   "source": [
    "**Embeddings: Transforming Data into Vectors**\n",
    "\n",
    "In machine learning, an embedding is a way to represent complex data (like text, images, or videos) as vectors. This allows us to apply mathematical operations like cosine similarity. For example:\n",
    "\n",
    "* **Word Embeddings:** Words with similar meanings have vectors that point in similar directions.\n",
    "* **Image Embeddings:** Images with similar content (e.g., two pictures of cats) have vectors with a small angle between them.\n",
    "* **Video Embeddings:** Videos of the same event or with similar themes have similar vector representations.\n"
   ]
  },
  {
   "cell_type": "markdown",
   "metadata": {
    "id": "vEQ7SK4VIZe7"
   },
   "source": [
    "**Other Distance Metrics for Vectors**\n",
    "\n",
    "While cosine similarity is popular, it's not the only way to measure distance between vectors. Here are a few others:\n",
    "\n",
    "* **Euclidean Distance:** The straight-line distance between two points. Sensitive to differences in magnitude.\n",
    "* **Manhattan Distance:** The distance between two points if you can only move along a grid (like city blocks).\n",
    "* **Hamming Distance:** The number of positions at which two vectors differ (often used for binary data).\n",
    "\n",
    "**Choosing the Right Distance Metric**\n",
    "The best distance metric depends on your specific application. Cosine similarity is often preferred when you care more about the relationship between items (e.g., meaning of words, content of images) rather than their absolute magnitude.\n"
   ]
  },
  {
   "cell_type": "code",
   "execution_count": 26,
   "metadata": {
    "id": "SIiC_5JxWRMw",
    "tags": []
   },
   "outputs": [],
   "source": [
    "search_query = \"I am looking for something related to dinosaurs theme\""
   ]
  },
  {
   "cell_type": "code",
   "execution_count": 27,
   "metadata": {
    "id": "96XUS3lDYikY",
    "tags": []
   },
   "outputs": [
    {
     "name": "stdout",
     "output_type": "stream",
     "text": [
      "Similar product identified ---- \n",
      "\n",
      "Product 29: Confidence Score: 0.73\n",
      "https://storage.googleapis.com/github-repo/embeddings/getting_started_embeddings/gms_images/GGOEGCKA176099.jpg\n",
      "Product 16: Confidence Score: 0.7\n",
      "https://storage.googleapis.com/github-repo/embeddings/getting_started_embeddings/gms_images/GGOEGFKA194899.jpg\n",
      "Product 85: Confidence Score: 0.7\n",
      "https://storage.googleapis.com/github-repo/embeddings/getting_started_embeddings/gms_images/GGOEGCBA195199.jpg\n"
     ]
    }
   ],
   "source": [
    "# Steps to get similar products\n",
    "\n",
    "# Step 1 - Convert 'search_query' to embeddings\n",
    "search_query_embedding = embed_text([search_query])[0]\n",
    "\n",
    "# Step 2 - Find cosine similarity (or simply np.dot) of search_query_embedding and image_data_with_embeddings['text_embeddings']\n",
    "cosine_scores = image_data_with_embeddings[\"text_embeddings\"].apply(\n",
    "    lambda x: round(np.dot(eval(x), search_query_embedding), 2)\n",
    ")  # eval is used to convert string of list to list\n",
    "\n",
    "# Step 3 - Sort the cosine score and pick the top 3 results\n",
    "top_3_indices = cosine_scores.nlargest(3).index.tolist()\n",
    "top_n_cosine_values = cosine_scores.nlargest(3).values.tolist()\n",
    "\n",
    "# Step 4 - Filter image_data_with_embeddings with the shortlisted index and add score\n",
    "shortlisted_products = image_data_with_embeddings.iloc[top_3_indices]\n",
    "shortlisted_products.loc[:, \"score\"] = top_n_cosine_values\n",
    "\n",
    "# Step 5 - Display the shortlisted products\n",
    "print_shortlisted_products(\n",
    "    shortlisted_products\n",
    ")  # pass display_flag=True to display the images"
   ]
  },
  {
   "cell_type": "code",
   "execution_count": 28,
   "metadata": {
    "id": "jwf5m588zs33",
    "tags": []
   },
   "outputs": [],
   "source": [
    "def get_similar_products_from_text_query(\n",
    "    search_query: str,\n",
    "    top_n: int = 3,\n",
    "    threshold: float = 0.6,\n",
    "    embeddings_data: pd.DataFrame = image_data_with_embeddings,\n",
    ") -> Optional[pd.DataFrame]:\n",
    "    \"\"\"\n",
    "    Retrieves the most similar products to a given text query based on embeddings.\n",
    "\n",
    "    Args:\n",
    "        search_query: The text query to find similar products for.\n",
    "        top_n: The maximum number of similar products to return.\n",
    "        threshold: The minimum cosine similarity score for a product to be considered similar.\n",
    "        embeddings_data: A DataFrame containing text embeddings for products (assumes a column named 'text_embeddings').\n",
    "\n",
    "    Returns:\n",
    "        A DataFrame with the top_n similar products and their scores, or None if none meet the threshold.\n",
    "    \"\"\"\n",
    "\n",
    "    # Step 1: Embed the search query\n",
    "    search_query_embedding = embed_text([search_query])[\n",
    "        0\n",
    "    ]  # Assuming 'embed_text' is a function you have\n",
    "\n",
    "    # Step 2: Calculate cosine similarities (optimize by avoiding apply and eval)\n",
    "    cosine_scores = image_data_with_embeddings[\"text_embeddings\"].apply(\n",
    "        lambda x: round(np.dot(eval(x), search_query_embedding), 2)\n",
    "    )\n",
    "\n",
    "    # Step 3: Filter and sort scores\n",
    "    scores_above_threshold = cosine_scores[cosine_scores >= threshold]\n",
    "    top_n_indices = scores_above_threshold.nlargest(top_n).index.tolist()\n",
    "\n",
    "    # Step 4: Handle cases with insufficient scores\n",
    "    if len(top_n_indices) < top_n:\n",
    "        print(f\"Warning: Only {len(top_n_indices)} scores meet the threshold.\")\n",
    "\n",
    "    # Step 5: Get shortlisted products with scores (optimize by direct assignment)\n",
    "    if top_n_indices:\n",
    "        shortlisted_products = embeddings_data.iloc[top_n_indices].copy()\n",
    "        shortlisted_products[\"score\"] = scores_above_threshold.nlargest(\n",
    "            top_n\n",
    "        ).values.tolist()\n",
    "    else:\n",
    "        print(\"No scores meet the threshold. Consider lowering the threshold.\")\n",
    "        shortlisted_products = None\n",
    "\n",
    "    return shortlisted_products"
   ]
  },
  {
   "cell_type": "code",
   "execution_count": 29,
   "metadata": {
    "id": "B3Dui6Y1gM4G",
    "tags": []
   },
   "outputs": [
    {
     "name": "stdout",
     "output_type": "stream",
     "text": [
      "Similar product identified ---- \n",
      "\n",
      "Product 129: Confidence Score: 0.76\n",
      "https://storage.googleapis.com/github-repo/embeddings/getting_started_embeddings/gms_images/GGOEGAXA123510.jpg\n",
      "Product 133: Confidence Score: 0.76\n",
      "https://storage.googleapis.com/github-repo/embeddings/getting_started_embeddings/gms_images/GGOECAXA190210.jpg\n",
      "Product 136: Confidence Score: 0.75\n",
      "https://storage.googleapis.com/github-repo/embeddings/getting_started_embeddings/gms_images/GGOEGAXA170310.jpg\n"
     ]
    }
   ],
   "source": [
    "search_query = \"Do you have socks in checkered patterns?\"\n",
    "\n",
    "shortlisted_products = get_similar_products_from_text_query(\n",
    "    search_query, top_n=3, threshold=0.7\n",
    ")\n",
    "\n",
    "print_shortlisted_products(shortlisted_products)"
   ]
  },
  {
   "cell_type": "code",
   "execution_count": 30,
   "metadata": {
    "id": "WSdmrJ_gqUtQ",
    "tags": []
   },
   "outputs": [
    {
     "name": "stdout",
     "output_type": "stream",
     "text": [
      "Similar product identified ---- \n",
      "\n",
      "Product 330: Confidence Score: 0.81\n",
      "https://storage.googleapis.com/github-repo/embeddings/getting_started_embeddings/gms_images/GGOEYXXX1734.jpg\n",
      "Product 339: Confidence Score: 0.8\n",
      "https://storage.googleapis.com/github-repo/embeddings/getting_started_embeddings/gms_images/GGOEGXXX1737.jpg\n",
      "Product 264: Confidence Score: 0.79\n",
      "https://storage.googleapis.com/github-repo/embeddings/getting_started_embeddings/gms_images/GGOEGXXX1736.jpg\n"
     ]
    }
   ],
   "source": [
    "search_query = \"I am looking for sweatshirt with google logo and probably should be in embroidered pattern\"\n",
    "\n",
    "shortlisted_products = get_similar_products_from_text_query(\n",
    "    search_query, top_n=3, threshold=0.6\n",
    ")\n",
    "\n",
    "print_shortlisted_products(shortlisted_products)"
   ]
  },
  {
   "cell_type": "markdown",
   "metadata": {
    "id": "dq8ZpN6BlrJC"
   },
   "source": [
    "### Find Similar product based on images (selected product)"
   ]
  },
  {
   "cell_type": "code",
   "execution_count": 31,
   "metadata": {
    "id": "TuQ9lehmkuly",
    "tags": []
   },
   "outputs": [
    {
     "name": "stdout",
     "output_type": "stream",
     "text": [
      "Liked Product ---\n",
      "https://storage.googleapis.com/github-repo/embeddings/getting_started_embeddings/gms_images/GGOEGHPL206210.jpg\n"
     ]
    }
   ],
   "source": [
    "random_index = 130\n",
    "liked_product = image_data_with_embeddings[\"gcs_path\"][random_index]\n",
    "print(\"Liked Product ---\")\n",
    "\n",
    "\n",
    "print(get_url_from_gcs(liked_product))\n",
    "\n",
    "# to display the image\n",
    "# display(ImageByte(url=get_url_from_gcs(liked_product)))"
   ]
  },
  {
   "cell_type": "code",
   "execution_count": 32,
   "metadata": {
    "id": "qnWETYpRlxSO",
    "tags": []
   },
   "outputs": [
    {
     "name": "stdout",
     "output_type": "stream",
     "text": [
      "Similar product identified ---- \n",
      "\n",
      "Product 138: Confidence Score: 0.89\n",
      "https://storage.googleapis.com/github-repo/embeddings/getting_started_embeddings/gms_images/GGOEGHPB175510.jpg\n",
      "Product 141: Confidence Score: 0.86\n",
      "https://storage.googleapis.com/github-repo/embeddings/getting_started_embeddings/gms_images/GGOEGHPR175610.jpg\n"
     ]
    }
   ],
   "source": [
    "# Steps to get similar products\n",
    "\n",
    "# Step 1 - Convert 'liked_product' to embeddings\n",
    "liked_product_embedding = get_image_video_text_embeddings(image_path=liked_product)[\n",
    "    \"image_embedding\"\n",
    "]\n",
    "\n",
    "# Step 2 - Find cosine similarity (or simply np.dot) of liked_product_embedding and image_data_with_embeddings['image_embeddings']\n",
    "cosine_scores = image_data_with_embeddings[\"image_embeddings\"].apply(\n",
    "    lambda x: round(np.dot(eval(x), liked_product_embedding), 2)\n",
    ")  # eval is used to convert string of list to list\n",
    "\n",
    "\n",
    "# Step 3 - Sort the cosine score, filter with threshold (matching should be less than 1.0 and greater than high value) and pick the top 2 results\n",
    "threshold = 0.6\n",
    "scores_above_threshold = cosine_scores[\n",
    "    (cosine_scores >= threshold) & (cosine_scores < 1.00)\n",
    "]\n",
    "top_2_indices = scores_above_threshold.nlargest(2).index.tolist()\n",
    "top_2_cosine_values = scores_above_threshold.nlargest(2).values.tolist()\n",
    "\n",
    "# Step 4 - Filter image_data_with_embeddings with the shortlisted index\n",
    "shortlisted_products = image_data_with_embeddings.iloc[top_2_indices]\n",
    "shortlisted_products.loc[:, \"score\"] = top_2_cosine_values\n",
    "\n",
    "# Step 5 - Display the shortlisted product.\n",
    "print_shortlisted_products(shortlisted_products)"
   ]
  },
  {
   "cell_type": "code",
   "execution_count": 33,
   "metadata": {
    "id": "8gUufHrb0glL",
    "tags": []
   },
   "outputs": [],
   "source": [
    "def get_similar_products_from_image_query(\n",
    "    liked_product: Union[str, np.ndarray], top_n: int = 3, threshold: float = 0.6\n",
    ") -> Optional[pd.DataFrame]:\n",
    "    \"\"\"\n",
    "    Retrieves similar products based on an image query.\n",
    "\n",
    "    This function takes an image path or embedding of a \"liked\" product, compares it to\n",
    "    a dataset of product embeddings, and returns the top N most similar products\n",
    "    that exceed a specified similarity threshold.\n",
    "\n",
    "    Args:\n",
    "        liked_product: Path to the image file of the liked product or its embedding.\n",
    "        top_n: The maximum number of similar products to return.\n",
    "        threshold: The minimum cosine similarity score for a product to be considered similar.\n",
    "\n",
    "    Returns:\n",
    "        A pandas DataFrame containing the top N similar products and their scores,\n",
    "        or None if no products meet the threshold.\n",
    "    \"\"\"\n",
    "\n",
    "    # Step 1: Ensure the `liked_product` is an embedding\n",
    "    if isinstance(liked_product, str):\n",
    "        liked_product_embedding = get_image_video_text_embeddings(\n",
    "            image_path=liked_product\n",
    "        )[\"image_embedding\"]\n",
    "    else:\n",
    "        liked_product_embedding = liked_product\n",
    "\n",
    "    # Step 2: Calculate cosine similarities\n",
    "    # Convert embeddings to numpy arrays for efficient calculation if necessary\n",
    "    if isinstance(image_data_with_embeddings[\"image_embeddings\"].iloc[0], str):\n",
    "        image_data_with_embeddings[\"image_embeddings\"] = image_data_with_embeddings[\n",
    "            \"image_embeddings\"\n",
    "        ].apply(eval)\n",
    "    cosine_scores = image_data_with_embeddings[\"image_embeddings\"].apply(\n",
    "        lambda x: np.dot(x, liked_product_embedding)\n",
    "    )\n",
    "\n",
    "    # Step 3: Filter and select top scores\n",
    "    scores_above_threshold = cosine_scores[\n",
    "        (cosine_scores >= threshold) & (cosine_scores < 1.0)\n",
    "    ]\n",
    "    top_n_indices = scores_above_threshold.nlargest(top_n).index.tolist()\n",
    "    top_n_cosine_values = scores_above_threshold.nlargest(top_n).values.tolist()\n",
    "\n",
    "    # Step 4: Log insufficient scores (optional)\n",
    "    if len(top_n_indices) < top_n:\n",
    "        print(f\"Warning: Only {len(top_n_indices)} scores meet the threshold.\")\n",
    "\n",
    "    # Step 5: Return results if scores are available\n",
    "    if top_n_indices:\n",
    "        shortlisted_products = image_data_with_embeddings.iloc[top_n_indices].copy()\n",
    "        shortlisted_products[\"score\"] = top_n_cosine_values\n",
    "        return shortlisted_products\n",
    "\n",
    "    else:\n",
    "        print(\"No scores meet the threshold. Consider lowering the threshold.\")\n",
    "        return None"
   ]
  },
  {
   "cell_type": "code",
   "execution_count": 34,
   "metadata": {
    "id": "UEilR5BObZKb",
    "tags": []
   },
   "outputs": [
    {
     "name": "stdout",
     "output_type": "stream",
     "text": [
      "Liked Product ---\n",
      "https://storage.googleapis.com/github-repo/embeddings/getting_started_embeddings/gms_images/GGOEGOAQ101299.jpg\n"
     ]
    }
   ],
   "source": [
    "random_index = 9\n",
    "liked_product = image_data_with_embeddings[\"gcs_path\"][random_index]\n",
    "print(\"Liked Product ---\")\n",
    "print(get_url_from_gcs(liked_product))\n",
    "\n",
    "# to display the image\n",
    "# display(ImageByte(url=get_url_from_gcs(liked_product)))"
   ]
  },
  {
   "cell_type": "code",
   "execution_count": 35,
   "metadata": {
    "id": "AHQGSZh5pTaz",
    "tags": []
   },
   "outputs": [
    {
     "name": "stdout",
     "output_type": "stream",
     "text": [
      "Similar product identified ---- \n",
      "\n",
      "Product 10: Confidence Score: 0.9942850236563362\n",
      "https://storage.googleapis.com/github-repo/embeddings/getting_started_embeddings/gms_images/GGOEGOAQ101299.jpg\n",
      "Product 7: Confidence Score: 0.9078387966928114\n",
      "https://storage.googleapis.com/github-repo/embeddings/getting_started_embeddings/gms_images/GGOEGOAR124299.jpg\n",
      "Product 22: Confidence Score: 0.89797481048375\n",
      "https://storage.googleapis.com/github-repo/embeddings/getting_started_embeddings/gms_images/GGOEGOAH124099.jpg\n"
     ]
    }
   ],
   "source": [
    "# get recommendation for the liked product (image)\n",
    "shortlisted_products = get_similar_products_from_image_query(\n",
    "    liked_product, top_n=3, threshold=0.6\n",
    ")\n",
    "\n",
    "print_shortlisted_products(shortlisted_products)"
   ]
  },
  {
   "cell_type": "code",
   "execution_count": 36,
   "metadata": {
    "id": "wHX2qX9vcE-O",
    "tags": []
   },
   "outputs": [
    {
     "name": "stdout",
     "output_type": "stream",
     "text": [
      "Liked Product ---\n",
      "https://storage.googleapis.com/github-repo/embeddings/getting_started_embeddings/gms_images/GGOEGCBA169799.jpg\n"
     ]
    }
   ],
   "source": [
    "random_index = 120\n",
    "liked_product = image_data_with_embeddings[\"gcs_path\"][random_index]\n",
    "print(\"Liked Product ---\")\n",
    "\n",
    "print(get_url_from_gcs(liked_product))\n",
    "\n",
    "# to display the image\n",
    "# display(ImageByte(url=get_url_from_gcs(liked_product)))"
   ]
  },
  {
   "cell_type": "code",
   "execution_count": 37,
   "metadata": {
    "id": "KCVJ_vbkcIGW",
    "tags": []
   },
   "outputs": [
    {
     "name": "stdout",
     "output_type": "stream",
     "text": [
      "Similar product identified ---- \n",
      "\n",
      "Product 121: Confidence Score: 0.9927851875755458\n",
      "https://storage.googleapis.com/github-repo/embeddings/getting_started_embeddings/gms_images/GGOEGCBA169799.jpg\n",
      "Product 116: Confidence Score: 0.8296877515345265\n",
      "https://storage.googleapis.com/github-repo/embeddings/getting_started_embeddings/gms_images/GGOEGCBA169699.jpg\n",
      "Product 125: Confidence Score: 0.8092485512506429\n",
      "https://storage.googleapis.com/github-repo/embeddings/getting_started_embeddings/gms_images/GGOEGCBA169299.jpg\n"
     ]
    }
   ],
   "source": [
    "# get recommendation for the liked product (image)\n",
    "shortlisted_products = get_similar_products_from_image_query(\n",
    "    liked_product, top_n=3, threshold=0.6\n",
    ")\n",
    "\n",
    "print_shortlisted_products(shortlisted_products)"
   ]
  },
  {
   "cell_type": "markdown",
   "metadata": {
    "id": "btCIJCh2OnSP"
   },
   "source": [
    "### Find Similar videos"
   ]
  },
  {
   "cell_type": "code",
   "execution_count": 38,
   "metadata": {
    "id": "6EpPyLjh1Kx0",
    "tags": []
   },
   "outputs": [],
   "source": [
    "def display_video_gcs(\n",
    "    gcs_uri: Optional[str] = None, public_gcs_url: Optional[str] = None\n",
    ") -> None:\n",
    "    \"\"\"Displays a video hosted on Google Cloud Storage (GCS) in a Jupyter Notebook.\n",
    "\n",
    "    Args:\n",
    "        gcs_uri: The GCS URI of the video.\n",
    "        public_gcs_url: The public URL of the video, if available. If not provided and\n",
    "            `gcs_uri` is given, the function will attempt to generate the public URL.\n",
    "\n",
    "    Raises:\n",
    "        ValueError: If neither `gcs_uri` nor `public_gcs_url` is provided.\n",
    "    \"\"\"\n",
    "    if not gcs_uri and not public_gcs_url:\n",
    "        raise ValueError(\"Either gcs_uri or public_gcs_url must be provided.\")\n",
    "\n",
    "    if gcs_uri and not public_gcs_url:\n",
    "        public_gcs_url = get_url_from_gcs(\n",
    "            gcs_uri\n",
    "        )  # Assuming you have a helper function for this\n",
    "\n",
    "    html_code = f\"\"\"\n",
    "    <video width=\"640\" height=\"480\" controls>\n",
    "        <source src=\"{public_gcs_url}\" type=\"video/mp4\">\n",
    "        Your browser does not support the video tag.\n",
    "    </video>\n",
    "    \"\"\"\n",
    "    display(HTML(html_code))\n",
    "\n",
    "\n",
    "def print_shortlisted_video(\n",
    "    shortlisted_videos: List[Dict], display_flag: bool = False\n",
    ") -> None:\n",
    "    \"\"\"Prints information about shortlisted videos and optionally displays them.\n",
    "\n",
    "    Args:\n",
    "        shortlisted_videos: A list of dictionaries where each dictionary represents a video\n",
    "            with keys 'score' (float) and 'gcs_path' (str).\n",
    "        display_flag: If True, displays each video in the notebook.\n",
    "    \"\"\"\n",
    "    print(\"Similar videos identified ---- \\n\")\n",
    "\n",
    "    for i in range(len(shortlisted_videos)):\n",
    "        print(f\"Video {i+1}: Confidence Score: {shortlisted_products['score'].iloc[i]}\")\n",
    "\n",
    "        url = get_url_from_gcs(shortlisted_videos[\"gcs_path\"].values[i])\n",
    "        print(url)\n",
    "        if display_flag:\n",
    "            display_video_gcs(public_gcs_url=url)\n",
    "            # IPython.display.display(load_image_from_url(url))\n",
    "            print()  # Add an empty line for visual separation"
   ]
  },
  {
   "cell_type": "code",
   "execution_count": 39,
   "metadata": {
    "id": "eqG-qUNAeEvV",
    "tags": []
   },
   "outputs": [
    {
     "name": "stdout",
     "output_type": "stream",
     "text": [
      "https://storage.googleapis.com/github-repo/embeddings/getting_started_embeddings/UCF-101-subset/TaiChi/v_TaiChi_g25_c03.mp4\n"
     ]
    }
   ],
   "source": [
    "from IPython.display import HTML\n",
    "\n",
    "random_index = 10\n",
    "liked_video = video_data_with_embeddings[\"gcs_path\"][random_index]\n",
    "public_gcs_url = get_url_from_gcs(video_data_with_embeddings[\"gcs_path\"][1])\n",
    "\n",
    "print(public_gcs_url)"
   ]
  },
  {
   "cell_type": "code",
   "execution_count": 40,
   "metadata": {
    "id": "utdlMOESZ0MY",
    "tags": []
   },
   "outputs": [
    {
     "name": "stdout",
     "output_type": "stream",
     "text": [
      "Similar videos identified ---- \n",
      "\n",
      "Video 1: Confidence Score: 0.9927851875755458\n",
      "https://storage.googleapis.com/github-repo/embeddings/getting_started_embeddings/UCF-101-subset/PlayingViolin/v_PlayingViolin_g13_c01.mp4\n",
      "Video 2: Confidence Score: 0.8296877515345265\n",
      "https://storage.googleapis.com/github-repo/embeddings/getting_started_embeddings/UCF-101-subset/PlayingViolin/v_PlayingViolin_g06_c02.mp4\n"
     ]
    }
   ],
   "source": [
    "# Steps to get similar video\n",
    "\n",
    "# Step 1 - Convert 'liked_video' to embeddings\n",
    "liked_video_embedding = get_image_video_text_embeddings(video_path=liked_video)[\n",
    "    \"video_embeddings\"\n",
    "][0][\"embedding\"]\n",
    "\n",
    "\n",
    "# Step 2 - Find cosine similarity (or simply np.dot) of liked_video_embedding and video_data_with_embeddings['video_embeddings']\n",
    "cosine_scores = video_data_with_embeddings[\"video_embeddings\"].apply(\n",
    "    lambda x: round(np.dot(eval(x), liked_video_embedding), 2)\n",
    ")  # eval is used to convert string of list to list\n",
    "\n",
    "\n",
    "# Step 3 - Sort the cosine score, filter with threshold (matching should be less than 1.0 and greater than high value) and pick the top 2 results\n",
    "threshold = 0.6\n",
    "scores_above_threshold = cosine_scores[\n",
    "    (cosine_scores >= threshold) & (cosine_scores < 1.00)\n",
    "]\n",
    "top_2_indices = scores_above_threshold.nlargest(2).index.tolist()\n",
    "top_2_cosine_values = scores_above_threshold.nlargest(2).values.tolist()\n",
    "\n",
    "# Step 4 - Filter video_data_with_embeddings with the shortlisted index\n",
    "shortlisted_videos = video_data_with_embeddings.iloc[top_2_indices]\n",
    "shortlisted_videos.loc[:, \"score\"] = top_2_cosine_values\n",
    "\n",
    "# Step 5 - Display the shortlisted video.\n",
    "print_shortlisted_video(shortlisted_videos)  # display_flag=True"
   ]
  },
  {
   "cell_type": "code",
   "execution_count": 41,
   "metadata": {
    "id": "R5Dzahkj3ar-",
    "tags": []
   },
   "outputs": [],
   "source": [
    "def get_similar_videos_from_video_query(\n",
    "    liked_video: str, top_n: int = 3, threshold: float = 0.6\n",
    ") -> pd.DataFrame:\n",
    "    \"\"\"\n",
    "    Retrieves similar videos to a given 'liked_video' using embeddings and cosine similarity.\n",
    "\n",
    "    Args:\n",
    "        liked_video: The path to the video to find similar videos for.\n",
    "        top_n: The maximum number of similar videos to return.\n",
    "        threshold: The minimum cosine similarity score for a video to be considered similar.\n",
    "\n",
    "    Returns:\n",
    "        A pandas DataFrame containing the shortlisted videos with their similarity scores.\n",
    "    \"\"\"\n",
    "\n",
    "    # Step 1: Get the embeddings for the 'liked_video'\n",
    "    liked_video_embeddings = get_image_video_text_embeddings(video_path=liked_video)[\n",
    "        \"video_embeddings\"\n",
    "    ][0][\"embedding\"]\n",
    "\n",
    "    # Ensure video_data_with_embeddings is available (you might need to load or define it)\n",
    "    if \"video_data_with_embeddings\" not in globals():\n",
    "        raise ValueError(\"video_data_with_embeddings DataFrame is not defined.\")\n",
    "\n",
    "    # Step 2: Calculate cosine similarities with pre-loaded video embeddings\n",
    "    cosine_scores = video_data_with_embeddings[\"video_embeddings\"].apply(\n",
    "        lambda x: round(\n",
    "            np.dot(eval(x), liked_video_embeddings), 2\n",
    "        )  # Safely convert embeddings to arrays\n",
    "    )\n",
    "\n",
    "    # Step 3: Filter and sort based on threshold and top_n\n",
    "    scores_above_threshold = cosine_scores[\n",
    "        (cosine_scores >= threshold) & (cosine_scores < 1.00)\n",
    "    ]\n",
    "    top_indices = scores_above_threshold.nlargest(top_n).index.tolist()\n",
    "    top_cosine_values = scores_above_threshold.nlargest(top_n).values.tolist()\n",
    "\n",
    "    # Step 4: Get the shortlisted videos with scores\n",
    "    shortlisted_videos = video_data_with_embeddings.iloc[top_indices].copy()\n",
    "    shortlisted_videos[\"score\"] = top_cosine_values\n",
    "\n",
    "    return shortlisted_videos"
   ]
  },
  {
   "cell_type": "code",
   "execution_count": 42,
   "metadata": {
    "id": "eIzf9zOkmo75",
    "tags": []
   },
   "outputs": [
    {
     "name": "stdout",
     "output_type": "stream",
     "text": [
      "https://storage.googleapis.com/github-repo/embeddings/getting_started_embeddings/UCF-101-subset/TaiChi/v_TaiChi_g25_c03.mp4\n"
     ]
    }
   ],
   "source": [
    "random_index = 24\n",
    "liked_video = video_data_with_embeddings[\"gcs_path\"][random_index]\n",
    "public_gcs_url = get_url_from_gcs(video_data_with_embeddings[\"gcs_path\"][1])\n",
    "\n",
    "print(public_gcs_url)"
   ]
  },
  {
   "cell_type": "code",
   "execution_count": 43,
   "metadata": {
    "id": "ab9XUEBrmMxf",
    "tags": []
   },
   "outputs": [
    {
     "name": "stdout",
     "output_type": "stream",
     "text": [
      "Similar videos identified ---- \n",
      "\n",
      "Video 1: Confidence Score: 0.9927851875755458\n",
      "https://storage.googleapis.com/github-repo/embeddings/getting_started_embeddings/UCF-101-subset/Diving/v_Diving_g25_c03.mp4\n",
      "Video 2: Confidence Score: 0.8296877515345265\n",
      "https://storage.googleapis.com/github-repo/embeddings/getting_started_embeddings/UCF-101-subset/Diving/v_Diving_g13_c02.mp4\n",
      "Video 3: Confidence Score: 0.8092485512506429\n",
      "https://storage.googleapis.com/github-repo/embeddings/getting_started_embeddings/UCF-101-subset/Diving/v_Diving_g22_c06.mp4\n"
     ]
    }
   ],
   "source": [
    "shortlisted_videos = get_similar_videos_from_video_query(\n",
    "    liked_video, top_n=3, threshold=0.6\n",
    ")\n",
    "print_shortlisted_video(shortlisted_videos)"
   ]
  },
  {
   "cell_type": "code",
   "execution_count": null,
   "metadata": {},
   "outputs": [],
   "source": []
  }
 ],
 "metadata": {
  "colab": {
   "provenance": [],
   "toc_visible": true
  },
  "environment": {
   "kernel": "conda-base-py",
   "name": "workbench-notebooks.m125",
   "type": "gcloud",
   "uri": "us-docker.pkg.dev/deeplearning-platform-release/gcr.io/workbench-notebooks:m125"
  },
  "kernelspec": {
   "display_name": "Python 3 (ipykernel) (Local) (Local)",
   "language": "python",
   "name": "conda-base-py"
  },
  "language_info": {
   "codemirror_mode": {
    "name": "ipython",
    "version": 3
   },
   "file_extension": ".py",
   "mimetype": "text/x-python",
   "name": "python",
   "nbconvert_exporter": "python",
   "pygments_lexer": "ipython3",
   "version": "3.10.15"
  }
 },
 "nbformat": 4,
 "nbformat_minor": 4
}
