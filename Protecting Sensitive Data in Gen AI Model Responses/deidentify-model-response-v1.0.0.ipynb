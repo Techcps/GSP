{
 "cells": [
  {
   "cell_type": "code",
   "execution_count": 1,
   "id": "c786c559-55b7-4378-a109-f9895cffd086",
   "metadata": {
    "tags": []
   },
   "outputs": [],
   "source": [
    "# Copyright 2023 Google LLC\n",
    "#\n",
    "# Licensed under the Apache License, Version 2.0 (the \"License\");\n",
    "# you may not use this file except in compliance with the License.\n",
    "# You may obtain a copy of the License at\n",
    "#\n",
    "#     https://www.apache.org/licenses/LICENSE-2.0\n",
    "#\n",
    "# Unless required by applicable law or agreed to in writing, software\n",
    "# distributed under the License is distributed on an \"AS IS\" BASIS,\n",
    "# WITHOUT WARRANTIES OR CONDITIONS OF ANY KIND, either express or implied.\n",
    "# See the License for the specific language governing permissions and\n",
    "# limitations under the License."
   ]
  },
  {
   "cell_type": "markdown",
   "id": "79cf3796-4504-44e2-893b-457d4f6028ee",
   "metadata": {},
   "source": [
    "# Protecting Sensitive Data in Gen AI model responses"
   ]
  },
  {
   "cell_type": "markdown",
   "id": "dffe023b-380e-4b0d-8a24-bdf6fce600c0",
   "metadata": {},
   "source": [
    "## Overview\n",
    "\n",
    "[Sensitive Data Protection](https://cloud.google.com/security/products/sensitive-data-protection) is a fully managed service designed to discover, classify, and protect your sensitive data wherever it resides. It uses a variety of methods to identify sensitive data including regular expressions, dictionaries, and contextual elements. Once sensitive data is identified, Sensitive Data Protection (Cloud Data Loss Prevention) can take several actions to either classify, mask, encrypt, or even delete it.\n",
    "\n",
    "Sensitive Data Protection can be accessed via Google Cloud console and used to scan data within Cloud Storage, BigQuery and other Google Cloud services. The following notebook demonstrates using the [Python Client for Cloud Data Loss Prevention](https://cloud.google.com/python/docs/reference/dlp/latest) to incorporate Sensitive Data Protection capabilities directly with Generative AI enabled applications. \n",
    "\n",
    "With this Python client, you define custom functions that can identify and take corrective action on sensitive data within Large Language Models (LLM) responses in real time. Throughout this notebook, you generate example text with sensitive data and run the results through custom Python functions that redact the sensitive data from Gemini 2.0 Flash model responses, so you can see this functionality in action on example data. \n",
    "\n",
    "After learning how to work with the Python client, you can adapt these same Python functions for Gen AI applications in your organization to protect sensitive data across your workflows.  \n",
    "\n",
    "Notebook credit: [Jim Miller, Google](https://github.com/JimMiller-0)"
   ]
  },
  {
   "cell_type": "markdown",
   "id": "bc56a5ad-528e-48ba-a53e-d38ed1ae3a06",
   "metadata": {},
   "source": [
    "### Objectives\n",
    "\n",
    "In this lab, you learn how to use Sensitive Data Protection through the Python Client for Cloud Data Loss Prevention and explore how to identify and redact sensitive data within responses from the Gemini 2.0 Flash model.\n",
    "\n",
    "The steps performed include:\n",
    "\n",
    "- Installing the Python packages for Vertex AI and Cloud Data Loss Prevention (DLP) API\n",
    "- Generating examples with sensitive data using Gemini 2.0 Flash model\n",
    "- Defining and running Python functions to redact different types of sensitive data in Gemini 2.0 Flash model responses using the DLP API"
   ]
  },
  {
   "cell_type": "markdown",
   "id": "f65a181e-0d1f-4314-9a4e-f177ebb51326",
   "metadata": {},
   "source": [
    "### Costs\n",
    "\n",
    "This tutorial uses billable components of Google Cloud:\n",
    "\n",
    "- Vertex AI\n",
    "- Sensitive Data Protection (Cloud Data Loss Prevention)\n",
    "\n",
    "Learn about [Vertex AI pricing](https://cloud.google.com/vertex-ai/pricing) and [Sensitive Data Protection](https://cloud.google.com/dlp/pricing). Use the [Pricing Calculator](https://cloud.google.com/products/calculator/) to generate a cost estimate based on your projected usage.\n"
   ]
  },
  {
   "cell_type": "markdown",
   "id": "14eac4fa-8017-4f16-8a2b-2cd0a5d8f1ad",
   "metadata": {},
   "source": [
    "## Getting started with this notebook\n",
    "\n",
    "Below are few steps to get your environment ready including installing a few key Python packages and setting your environmental variables (project ID and region). \n",
    "\n",
    "Be sure to run each cell in consecutive order using the `Run` button (play arrow) at the top of this notebook. "
   ]
  },
  {
   "cell_type": "markdown",
   "id": "09dbab5b-e2f1-40de-a13a-8a6dec8713a7",
   "metadata": {},
   "source": [
    "### Install necessary packages "
   ]
  },
  {
   "cell_type": "code",
   "execution_count": 2,
   "id": "cf41e1a4-6eae-44dd-b4de-d628cade341e",
   "metadata": {
    "tags": []
   },
   "outputs": [
    {
     "name": "stdout",
     "output_type": "stream",
     "text": [
      "Requirement already satisfied: google-genai in /opt/conda/lib/python3.10/site-packages (1.19.0)\n",
      "Collecting google-genai\n",
      "  Downloading google_genai-1.22.0-py3-none-any.whl.metadata (37 kB)\n",
      "Requirement already satisfied: anyio<5.0.0,>=4.8.0 in /opt/conda/lib/python3.10/site-packages (from google-genai) (4.9.0)\n",
      "Requirement already satisfied: google-auth<3.0.0,>=2.14.1 in /opt/conda/lib/python3.10/site-packages (from google-genai) (2.40.3)\n",
      "Requirement already satisfied: httpx<1.0.0,>=0.28.1 in /opt/conda/lib/python3.10/site-packages (from google-genai) (0.28.1)\n",
      "Requirement already satisfied: pydantic<3.0.0,>=2.0.0 in /opt/conda/lib/python3.10/site-packages (from google-genai) (2.11.5)\n",
      "Requirement already satisfied: requests<3.0.0,>=2.28.1 in /opt/conda/lib/python3.10/site-packages (from google-genai) (2.32.4)\n",
      "Collecting tenacity<9.0.0,>=8.2.3 (from google-genai)\n",
      "  Downloading tenacity-8.5.0-py3-none-any.whl.metadata (1.2 kB)\n",
      "Requirement already satisfied: websockets<15.1.0,>=13.0.0 in /opt/conda/lib/python3.10/site-packages (from google-genai) (15.0.1)\n",
      "Requirement already satisfied: typing-extensions<5.0.0,>=4.11.0 in /opt/conda/lib/python3.10/site-packages (from google-genai) (4.14.0)\n",
      "Requirement already satisfied: exceptiongroup>=1.0.2 in /opt/conda/lib/python3.10/site-packages (from anyio<5.0.0,>=4.8.0->google-genai) (1.3.0)\n",
      "Requirement already satisfied: idna>=2.8 in /opt/conda/lib/python3.10/site-packages (from anyio<5.0.0,>=4.8.0->google-genai) (3.10)\n",
      "Requirement already satisfied: sniffio>=1.1 in /opt/conda/lib/python3.10/site-packages (from anyio<5.0.0,>=4.8.0->google-genai) (1.3.1)\n",
      "Requirement already satisfied: cachetools<6.0,>=2.0.0 in /opt/conda/lib/python3.10/site-packages (from google-auth<3.0.0,>=2.14.1->google-genai) (5.5.2)\n",
      "Requirement already satisfied: pyasn1-modules>=0.2.1 in /opt/conda/lib/python3.10/site-packages (from google-auth<3.0.0,>=2.14.1->google-genai) (0.4.2)\n",
      "Requirement already satisfied: rsa<5,>=3.1.4 in /opt/conda/lib/python3.10/site-packages (from google-auth<3.0.0,>=2.14.1->google-genai) (4.9.1)\n",
      "Requirement already satisfied: certifi in /opt/conda/lib/python3.10/site-packages (from httpx<1.0.0,>=0.28.1->google-genai) (2025.4.26)\n",
      "Requirement already satisfied: httpcore==1.* in /opt/conda/lib/python3.10/site-packages (from httpx<1.0.0,>=0.28.1->google-genai) (1.0.9)\n",
      "Requirement already satisfied: h11>=0.16 in /opt/conda/lib/python3.10/site-packages (from httpcore==1.*->httpx<1.0.0,>=0.28.1->google-genai) (0.16.0)\n",
      "Requirement already satisfied: annotated-types>=0.6.0 in /opt/conda/lib/python3.10/site-packages (from pydantic<3.0.0,>=2.0.0->google-genai) (0.7.0)\n",
      "Requirement already satisfied: pydantic-core==2.33.2 in /opt/conda/lib/python3.10/site-packages (from pydantic<3.0.0,>=2.0.0->google-genai) (2.33.2)\n",
      "Requirement already satisfied: typing-inspection>=0.4.0 in /opt/conda/lib/python3.10/site-packages (from pydantic<3.0.0,>=2.0.0->google-genai) (0.4.1)\n",
      "Requirement already satisfied: charset_normalizer<4,>=2 in /opt/conda/lib/python3.10/site-packages (from requests<3.0.0,>=2.28.1->google-genai) (3.4.2)\n",
      "Requirement already satisfied: urllib3<3,>=1.21.1 in /opt/conda/lib/python3.10/site-packages (from requests<3.0.0,>=2.28.1->google-genai) (1.26.20)\n",
      "Requirement already satisfied: pyasn1>=0.1.3 in /opt/conda/lib/python3.10/site-packages (from rsa<5,>=3.1.4->google-auth<3.0.0,>=2.14.1->google-genai) (0.6.1)\n",
      "Downloading google_genai-1.22.0-py3-none-any.whl (222 kB)\n",
      "Downloading tenacity-8.5.0-py3-none-any.whl (28 kB)\n",
      "Installing collected packages: tenacity, google-genai\n",
      "\u001b[2K  Attempting uninstall: tenacity\n",
      "\u001b[2K    Found existing installation: tenacity 9.1.2\n",
      "\u001b[2K    Uninstalling tenacity-9.1.2:\n",
      "\u001b[2K      Successfully uninstalled tenacity-9.1.2\n",
      "\u001b[2K  Attempting uninstall: google-genai\n",
      "\u001b[2K    Found existing installation: google-genai 1.19.0\n",
      "\u001b[2K    Uninstalling google-genai-1.19.0:\n",
      "\u001b[2K      Successfully uninstalled google-genai-1.19.0\n",
      "\u001b[2K   \u001b[90m━━━━━━━━━━━━━━━━━━━━━━━━━━━━━━━━━━━━━━━━\u001b[0m \u001b[32m2/2\u001b[0m [google-genai][0m [google-genai]\n",
      "\u001b[1A\u001b[2KSuccessfully installed google-genai-1.22.0 tenacity-8.5.0\n",
      "Requirement already satisfied: google-cloud-dlp in ./.local/lib/python3.10/site-packages (3.31.0)\n",
      "Requirement already satisfied: google-api-core!=2.0.*,!=2.1.*,!=2.10.*,!=2.2.*,!=2.3.*,!=2.4.*,!=2.5.*,!=2.6.*,!=2.7.*,!=2.8.*,!=2.9.*,<3.0.0,>=1.34.1 in /opt/conda/lib/python3.10/site-packages (from google-api-core[grpc]!=2.0.*,!=2.1.*,!=2.10.*,!=2.2.*,!=2.3.*,!=2.4.*,!=2.5.*,!=2.6.*,!=2.7.*,!=2.8.*,!=2.9.*,<3.0.0,>=1.34.1->google-cloud-dlp) (2.25.0)\n",
      "Requirement already satisfied: google-auth!=2.24.0,!=2.25.0,<3.0.0,>=2.14.1 in /opt/conda/lib/python3.10/site-packages (from google-cloud-dlp) (2.40.3)\n",
      "Requirement already satisfied: proto-plus<2.0.0,>=1.22.3 in /opt/conda/lib/python3.10/site-packages (from google-cloud-dlp) (1.26.1)\n",
      "Requirement already satisfied: protobuf!=4.21.0,!=4.21.1,!=4.21.2,!=4.21.3,!=4.21.4,!=4.21.5,<7.0.0,>=3.20.2 in /opt/conda/lib/python3.10/site-packages (from google-cloud-dlp) (3.20.3)\n",
      "Requirement already satisfied: googleapis-common-protos<2.0.0,>=1.56.2 in /opt/conda/lib/python3.10/site-packages (from google-api-core!=2.0.*,!=2.1.*,!=2.10.*,!=2.2.*,!=2.3.*,!=2.4.*,!=2.5.*,!=2.6.*,!=2.7.*,!=2.8.*,!=2.9.*,<3.0.0,>=1.34.1->google-api-core[grpc]!=2.0.*,!=2.1.*,!=2.10.*,!=2.2.*,!=2.3.*,!=2.4.*,!=2.5.*,!=2.6.*,!=2.7.*,!=2.8.*,!=2.9.*,<3.0.0,>=1.34.1->google-cloud-dlp) (1.70.0)\n",
      "Requirement already satisfied: requests<3.0.0,>=2.18.0 in /opt/conda/lib/python3.10/site-packages (from google-api-core!=2.0.*,!=2.1.*,!=2.10.*,!=2.2.*,!=2.3.*,!=2.4.*,!=2.5.*,!=2.6.*,!=2.7.*,!=2.8.*,!=2.9.*,<3.0.0,>=1.34.1->google-api-core[grpc]!=2.0.*,!=2.1.*,!=2.10.*,!=2.2.*,!=2.3.*,!=2.4.*,!=2.5.*,!=2.6.*,!=2.7.*,!=2.8.*,!=2.9.*,<3.0.0,>=1.34.1->google-cloud-dlp) (2.32.4)\n",
      "Requirement already satisfied: grpcio<2.0.0,>=1.33.2 in /opt/conda/lib/python3.10/site-packages (from google-api-core[grpc]!=2.0.*,!=2.1.*,!=2.10.*,!=2.2.*,!=2.3.*,!=2.4.*,!=2.5.*,!=2.6.*,!=2.7.*,!=2.8.*,!=2.9.*,<3.0.0,>=1.34.1->google-cloud-dlp) (1.73.0)\n",
      "Requirement already satisfied: grpcio-status<2.0.0,>=1.33.2 in /opt/conda/lib/python3.10/site-packages (from google-api-core[grpc]!=2.0.*,!=2.1.*,!=2.10.*,!=2.2.*,!=2.3.*,!=2.4.*,!=2.5.*,!=2.6.*,!=2.7.*,!=2.8.*,!=2.9.*,<3.0.0,>=1.34.1->google-cloud-dlp) (1.48.2)\n",
      "Requirement already satisfied: cachetools<6.0,>=2.0.0 in /opt/conda/lib/python3.10/site-packages (from google-auth!=2.24.0,!=2.25.0,<3.0.0,>=2.14.1->google-cloud-dlp) (5.5.2)\n",
      "Requirement already satisfied: pyasn1-modules>=0.2.1 in /opt/conda/lib/python3.10/site-packages (from google-auth!=2.24.0,!=2.25.0,<3.0.0,>=2.14.1->google-cloud-dlp) (0.4.2)\n",
      "Requirement already satisfied: rsa<5,>=3.1.4 in /opt/conda/lib/python3.10/site-packages (from google-auth!=2.24.0,!=2.25.0,<3.0.0,>=2.14.1->google-cloud-dlp) (4.9.1)\n",
      "Requirement already satisfied: charset_normalizer<4,>=2 in /opt/conda/lib/python3.10/site-packages (from requests<3.0.0,>=2.18.0->google-api-core!=2.0.*,!=2.1.*,!=2.10.*,!=2.2.*,!=2.3.*,!=2.4.*,!=2.5.*,!=2.6.*,!=2.7.*,!=2.8.*,!=2.9.*,<3.0.0,>=1.34.1->google-api-core[grpc]!=2.0.*,!=2.1.*,!=2.10.*,!=2.2.*,!=2.3.*,!=2.4.*,!=2.5.*,!=2.6.*,!=2.7.*,!=2.8.*,!=2.9.*,<3.0.0,>=1.34.1->google-cloud-dlp) (3.4.2)\n",
      "Requirement already satisfied: idna<4,>=2.5 in /opt/conda/lib/python3.10/site-packages (from requests<3.0.0,>=2.18.0->google-api-core!=2.0.*,!=2.1.*,!=2.10.*,!=2.2.*,!=2.3.*,!=2.4.*,!=2.5.*,!=2.6.*,!=2.7.*,!=2.8.*,!=2.9.*,<3.0.0,>=1.34.1->google-api-core[grpc]!=2.0.*,!=2.1.*,!=2.10.*,!=2.2.*,!=2.3.*,!=2.4.*,!=2.5.*,!=2.6.*,!=2.7.*,!=2.8.*,!=2.9.*,<3.0.0,>=1.34.1->google-cloud-dlp) (3.10)\n",
      "Requirement already satisfied: urllib3<3,>=1.21.1 in /opt/conda/lib/python3.10/site-packages (from requests<3.0.0,>=2.18.0->google-api-core!=2.0.*,!=2.1.*,!=2.10.*,!=2.2.*,!=2.3.*,!=2.4.*,!=2.5.*,!=2.6.*,!=2.7.*,!=2.8.*,!=2.9.*,<3.0.0,>=1.34.1->google-api-core[grpc]!=2.0.*,!=2.1.*,!=2.10.*,!=2.2.*,!=2.3.*,!=2.4.*,!=2.5.*,!=2.6.*,!=2.7.*,!=2.8.*,!=2.9.*,<3.0.0,>=1.34.1->google-cloud-dlp) (1.26.20)\n",
      "Requirement already satisfied: certifi>=2017.4.17 in /opt/conda/lib/python3.10/site-packages (from requests<3.0.0,>=2.18.0->google-api-core!=2.0.*,!=2.1.*,!=2.10.*,!=2.2.*,!=2.3.*,!=2.4.*,!=2.5.*,!=2.6.*,!=2.7.*,!=2.8.*,!=2.9.*,<3.0.0,>=1.34.1->google-api-core[grpc]!=2.0.*,!=2.1.*,!=2.10.*,!=2.2.*,!=2.3.*,!=2.4.*,!=2.5.*,!=2.6.*,!=2.7.*,!=2.8.*,!=2.9.*,<3.0.0,>=1.34.1->google-cloud-dlp) (2025.4.26)\n",
      "Requirement already satisfied: pyasn1>=0.1.3 in /opt/conda/lib/python3.10/site-packages (from rsa<5,>=3.1.4->google-auth!=2.24.0,!=2.25.0,<3.0.0,>=2.14.1->google-cloud-dlp) (0.6.1)\n"
     ]
    }
   ],
   "source": [
    "# Install Gen AI\n",
    "!pip install --upgrade google-genai\n",
    "\n",
    "# Install Cloud Data Loss Prevention\n",
    "!pip install google-cloud-dlp --upgrade --user"
   ]
  },
  {
   "cell_type": "markdown",
   "id": "74674658-3cf1-4cda-9048-d52a4a8dc171",
   "metadata": {},
   "source": [
    "### Restart current runtime\n",
    "\n",
    "To use the newly installed packages in this Jupyter runtime, you must restart the runtime. You can do this by running the cell below, which will restart the current kernel."
   ]
  },
  {
   "cell_type": "code",
   "execution_count": 3,
   "id": "f48dd97c-5ead-41e5-a006-0f8102171f03",
   "metadata": {
    "tags": []
   },
   "outputs": [
    {
     "data": {
      "text/plain": [
       "{'status': 'ok', 'restart': True}"
      ]
     },
     "execution_count": 3,
     "metadata": {},
     "output_type": "execute_result"
    }
   ],
   "source": [
    "# Restart kernel after installs so that your environment can access the new packages\n",
    "import IPython\n",
    "\n",
    "app = IPython.Application.instance()\n",
    "app.kernel.do_shutdown(True)"
   ]
  },
  {
   "cell_type": "markdown",
   "id": "57fd18cb-dd00-487a-a908-dc5327c7ada5",
   "metadata": {},
   "source": [
    "<div class=\"alert alert-block alert-warning\">\n",
    "<b><p>⚠️ The kernel is going to restart. Please wait until it is finished before continuing to the next step. ⚠️</p> When prompted, click OK to continue. </b>\n",
    "</div>"
   ]
  },
  {
   "cell_type": "markdown",
   "id": "64e74c8c-8267-43f8-bdc1-e94b32ef81cd",
   "metadata": {},
   "source": [
    "### Set your project ID and region"
   ]
  },
  {
   "cell_type": "code",
   "execution_count": 1,
   "id": "6cc70244-486b-4104-b9ca-74965fbcfff0",
   "metadata": {
    "tags": []
   },
   "outputs": [],
   "source": [
    "# Set project ID and region for location\n",
    "# You can find these details on the lab instruction page under Task 2\n",
    "PROJECT_ID = \"qwiklabs-gcp-01-2b0c5deedd62\"  # @param {type:\"string\"}\n",
    "LOCATION = \"us-west4\"  # @param {type:\"string\"}"
   ]
  },
  {
   "cell_type": "code",
   "execution_count": 2,
   "id": "e74e839d-b577-4b1e-a267-514731c18749",
   "metadata": {
    "tags": []
   },
   "outputs": [
    {
     "name": "stdout",
     "output_type": "stream",
     "text": [
      "Please like share & subscribe to Techcps https://www.youtube.com/@techcps\n"
     ]
    }
   ],
   "source": [
    "# Please like share & subscribe to Techcps\n",
    "# YouTube https://www.youtube.com/@techcps\n",
    "\n",
    "print(\"Please like share & subscribe to Techcps https://www.youtube.com/@techcps\")"
   ]
  },
  {
   "cell_type": "markdown",
   "id": "a7fb3bdb-0cf0-4816-a4dd-2262e39a0c72",
   "metadata": {
    "tags": []
   },
   "source": [
    "## Generate simple example text with personally identifiable information (full name) using Gemini 2.0 Flash model\n",
    "\n",
    "The Gemini 2.0 Flash (`gemini-2.0-flash-001`) model is designed to handle natural language tasks, multi-turn text and code chat, and code generation. \n",
    "\n",
    "In this section, you use the the model to generate examples of text with personally identifiable information (PII) and then define a custom Python function to redact this sensitive data from the model responses.   "
   ]
  },
  {
   "cell_type": "code",
   "execution_count": 3,
   "id": "771ffbb4-a600-468b-a143-59a7d88e5db3",
   "metadata": {
    "tags": []
   },
   "outputs": [],
   "source": [
    "# Create the API client\n",
    "from google import genai\n",
    "client = genai.Client(vertexai=True, project=PROJECT_ID, location=LOCATION)\n",
    "model = \"gemini-2.0-flash-001\""
   ]
  },
  {
   "cell_type": "code",
   "execution_count": 4,
   "id": "cc3f5246-8759-4f0c-9ab6-420a16174dad",
   "metadata": {
    "tags": []
   },
   "outputs": [
    {
     "data": {
      "text/plain": [
       "GenerateContentResponse(\n",
       "  automatic_function_calling_history=[],\n",
       "  candidates=[\n",
       "    Candidate(\n",
       "      avg_logprobs=-0.01961918310685591,\n",
       "      content=Content(\n",
       "        parts=[\n",
       "          Part(\n",
       "            text=\"\"\"The CEO of Google is Sundar Pichai.\n",
       "\"\"\"\n",
       "          ),\n",
       "        ],\n",
       "        role='model'\n",
       "      ),\n",
       "      finish_reason=<FinishReason.STOP: 'STOP'>\n",
       "    ),\n",
       "  ],\n",
       "  create_time=datetime.datetime(2025, 6, 26, 3, 14, 46, 130393, tzinfo=TzInfo(UTC)),\n",
       "  model_version='gemini-2.0-flash-001',\n",
       "  response_id='JrtcaNn6B9im4_UP6YuE2AI',\n",
       "  sdk_http_response=HttpResponse(\n",
       "    headers=<dict len=9>\n",
       "  ),\n",
       "  usage_metadata=GenerateContentResponseUsageMetadata(\n",
       "    candidates_token_count=11,\n",
       "    candidates_tokens_details=[\n",
       "      ModalityTokenCount(\n",
       "        modality=<MediaModality.TEXT: 'TEXT'>,\n",
       "        token_count=11\n",
       "      ),\n",
       "    ],\n",
       "    prompt_token_count=9,\n",
       "    prompt_tokens_details=[\n",
       "      ModalityTokenCount(\n",
       "        modality=<MediaModality.TEXT: 'TEXT'>,\n",
       "        token_count=9\n",
       "      ),\n",
       "    ],\n",
       "    total_token_count=20,\n",
       "    traffic_type=<TrafficType.ON_DEMAND: 'ON_DEMAND'>\n",
       "  )\n",
       ")"
      ]
     },
     "execution_count": 4,
     "metadata": {},
     "output_type": "execute_result"
    }
   ],
   "source": [
    "# Write a prompt that generates a simple example of personally identifiable information (full name)\n",
    "prompt = f\"\"\"Who is the CEO of Google?\n",
    "  \"\"\"\n",
    "\n",
    "# Run model with prompt\n",
    "response_name = client.models.generate_content(\n",
    "    model=model,\n",
    "    contents=prompt\n",
    ")\n",
    "\n",
    "# Print response without deidentification (full name is visible)\n",
    "response_name"
   ]
  },
  {
   "cell_type": "markdown",
   "id": "1fc318cd-79fd-42c8-91b9-0e8154abf027",
   "metadata": {
    "tags": []
   },
   "source": [
    "## Define and run a Python function to deidentify Gemini 2.0 Flash model responses using built-in global infotypes\n",
    "\n",
    "Sensitive Data Protection uses information types, or infoTypes, to define what it scans for. An infoType is a type of sensitive data, such as a name, telephone number, or identification number. \n",
    "\n",
    "In the cell below, you define a Python function that identifies and redacts that specific infoTypes that you provide as input, based on the list of built-in global infoTypes that are available in Sensitive Data Protection. Global infoTypes include general and globally applicable infoTypes such as names, date of birth, and credit card numbers. \n",
    "\n",
    "When you apply the function to model responses, you specify a few key built-in infoTypes to redact, such as `PERSON_NAME`, `DATE_OF_BIRTH`, and `CREDIT_CARD_NUMBER`. You can review the documentation to see the full list of [built-in infoTypes](https://cloud.google.com/sensitive-data-protection/docs/concepts-infotypes).\n",
    "\n",
    "Run the code block below without modifications."
   ]
  },
  {
   "cell_type": "code",
   "execution_count": 5,
   "id": "dc51c9f2-f41d-4146-bb27-fe4a56fdefd9",
   "metadata": {
    "tags": []
   },
   "outputs": [],
   "source": [
    "# Define function to inspect and deidentify output with Sensitive Data Protection\n",
    "import google.cloud.dlp  \n",
    "from typing import List \n",
    "\n",
    "def deidentify_with_replace_infotype(\n",
    "    project: str, item: str, info_types: List[str]\n",
    ") -> None:\n",
    "    \"\"\"Uses the Data Loss Prevention API to deidentify sensitive data in a\n",
    "    string by replacing it with the info type.\n",
    "    Args:\n",
    "        project: The Google Cloud project id to use as a parent resource.\n",
    "        item: The string to deidentify (will be treated as text).\n",
    "        info_types: A list of strings representing info types to look for.\n",
    "            A full list of info type categories can be fetched from the API.\n",
    "    Returns:\n",
    "        None; the response from the API is printed to the terminal.\n",
    "    \"\"\"\n",
    "\n",
    "    # Instantiate a client\n",
    "    dlp = google.cloud.dlp_v2.DlpServiceClient()\n",
    "\n",
    "    # Convert the project id into a full resource id.\n",
    "    parent = f\"projects/{PROJECT_ID}\"\n",
    "\n",
    "    # Construct inspect configuration dictionary\n",
    "    inspect_config = {\"info_types\": [{\"name\": info_type} for info_type in info_types]}\n",
    "\n",
    "    # Construct deidentify configuration dictionary\n",
    "    deidentify_config = {\n",
    "        \"info_type_transformations\": {\n",
    "            \"transformations\": [\n",
    "                {\"primitive_transformation\": {\"replace_with_info_type_config\": {}}}\n",
    "            ]\n",
    "        }\n",
    "    }\n",
    "\n",
    "    # Call the API\n",
    "    response = dlp.deidentify_content(\n",
    "        request={\n",
    "            \"parent\": parent,\n",
    "            \"deidentify_config\": deidentify_config,\n",
    "            \"inspect_config\": inspect_config,\n",
    "            \"item\": {\"value\": item},\n",
    "        }\n",
    "    )\n",
    "\n",
    "    # Print results\n",
    "    print(response.item.value)"
   ]
  },
  {
   "cell_type": "code",
   "execution_count": 6,
   "id": "1fd20794-998f-4109-a756-2a6f1c23a3c3",
   "metadata": {
    "tags": []
   },
   "outputs": [
    {
     "name": "stdout",
     "output_type": "stream",
     "text": [
      "The CEO of Google is [PERSON_NAME].\n",
      "\n"
     ]
    }
   ],
   "source": [
    "# Deidentify model response that includes a person's name (full name is redacted)\n",
    "deidentify_with_replace_infotype(PROJECT_ID, response_name.text, [\"PERSON_NAME\"])"
   ]
  },
  {
   "cell_type": "markdown",
   "id": "98b648ec-f633-42d9-ac7b-50b26d849255",
   "metadata": {},
   "source": [
    "## Generate and de-identify example text with more personally identifiable information (date of birth) using Gemini 2.0 Flash model\n",
    "\n",
    "In this example, you generate an example with more personally identifiable information in the form of a medical visit log, which can include other sensitive data such date of birth.\n",
    "\n",
    "When you run the de-identification function, you provide `PERSON_NAME` and `DATE_OF_BIRTH` as the infoTypes to redact. "
   ]
  },
  {
   "cell_type": "code",
   "execution_count": 7,
   "id": "9e6a21a2-2311-4b55-a6bb-5dfd1ad56d28",
   "metadata": {
    "tags": []
   },
   "outputs": [
    {
     "data": {
      "text/plain": [
       "GenerateContentResponse(\n",
       "  automatic_function_calling_history=[],\n",
       "  candidates=[\n",
       "    Candidate(\n",
       "      avg_logprobs=-0.21497322999259091,\n",
       "      content=Content(\n",
       "        parts=[\n",
       "          Part(\n",
       "            text=\"\"\"Okay, here's an example of a medical after-visit log with faux PII.  **Please remember this information is entirely fabricated and should not be used for any real-world purpose.**\n",
       "\n",
       "**Important Disclaimer:**  Creating and using realistic-looking but fake PII can still have ethical and legal implications if used inappropriately. This example is provided for illustrative purposes only.  Do not use this information to impersonate someone, create fake accounts, or engage in any fraudulent activities.\n",
       "\n",
       "**After-Visit Summary**\n",
       "\n",
       "**Patient Name:**  Eleanor Vance\n",
       "**Date of Birth:** 1978-03-15\n",
       "**Medical Record Number:**  EV780315-42\n",
       "**Date of Visit:** 2024-10-27\n",
       "**Provider:** Dr. Amelia Hernandez, MD\n",
       "**Clinic:**  Willow Creek Family Medicine\n",
       "**123 Main Street, Anytown, CA 91234**\n",
       "\n",
       "**Reason for Visit:**  Annual Physical Exam\n",
       "\n",
       "**Vitals:**\n",
       "\n",
       "*   **Blood Pressure:** 122/78 mmHg\n",
       "*   **Heart Rate:** 72 bpm\n",
       "*   **Respiration Rate:** 16 breaths/min\n",
       "*   **Temperature:** 98.6°F (37°C)\n",
       "*   **Height:** 5'6\"\n",
       "*   **Weight:** 145 lbs\n",
       "*   **BMI:** 23.4\n",
       "\n",
       "**Current Medications:**\n",
       "\n",
       "*   Vitamin D 2000 IU daily (OTC)\n",
       "*   Levothyroxine 75 mcg daily (for hypothyroidism)\n",
       "\n",
       "**Allergies:**\n",
       "\n",
       "*   Penicillin (Rash)\n",
       "\n",
       "**Immunizations:**\n",
       "\n",
       "*   Influenza (Administered today)\n",
       "*   Tetanus, Diphtheria, Pertussis (Tdap) - Up to date\n",
       "\n",
       "**Examination Findings:**\n",
       "\n",
       "*   **General:**  Well-nourished, well-appearing female.  Alert and oriented x3.\n",
       "*   **HEENT:**  Normocephalic, atraumatic.  EOMI.  Oral mucosa pink and moist.  Tympanic membranes clear bilaterally.\n",
       "*   **Cardiovascular:**  Regular rate and rhythm.  No murmurs, rubs, or gallops.\n",
       "*   **Respiratory:**  Clear to auscultation bilaterally.  No wheezes or crackles.\n",
       "*   **Abdomen:**  Soft, non-tender, non-distended.  Normal bowel sounds.\n",
       "*   **Neurological:**  Grossly intact.  Strength 5/5 in all extremities.\n",
       "\n",
       "**Assessment:**\n",
       "\n",
       "1.  Routine Annual Physical Exam - Patient is in good health overall.\n",
       "2.  Controlled Hypothyroidism - Continue current Levothyroxine dosage.\n",
       "\n",
       "**Plan:**\n",
       "\n",
       "1.  Continue Vitamin D 2000 IU daily.\n",
       "2.  Continue Levothyroxine 75 mcg daily.  Schedule TSH blood test in 6 months to monitor thyroid function.\n",
       "3.  Mammogram scheduled for next month (age-appropriate screening).\n",
       "4.  Colon cancer screening discussed.  Patient to consider options (colonoscopy vs. FIT test).  Information provided.\n",
       "5.  Follow up with any new or worsening symptoms.\n",
       "6.  Return for next annual physical in one year.\n",
       "\n",
       "**Lifestyle Recommendations:**\n",
       "\n",
       "*   Maintain a healthy diet rich in fruits, vegetables, and whole grains.\n",
       "*   Engage in regular physical activity (at least 30 minutes of moderate-intensity exercise most days of the week).\n",
       "*   Get adequate sleep (7-8 hours per night).\n",
       "*   Manage stress through relaxation techniques (e.g., yoga, meditation).\n",
       "\n",
       "**Prescriptions:**\n",
       "\n",
       "*   None new prescribed at this visit.\n",
       "\n",
       "**Next Appointment:**\n",
       "\n",
       "*   Recommended: Annual Physical - October 2025.\n",
       "* Schedule TSH blood test for May 2025.\n",
       "\n",
       "**Provider Signature:**  *A. Hernandez, MD* (Faux Signature)\n",
       "\n",
       "**Contact Information:**\n",
       "\n",
       "Willow Creek Family Medicine\n",
       "(555) 123-4567\n",
       "www.willowcreekmed.com\n",
       "**Important Notes:**\n",
       "\n",
       "*   **HIPAA Compliance:**  This is a simplified example and does not include all the elements required for full HIPAA compliance in a real-world medical record.\n",
       "*   **Specificity:** The details provided are deliberately general. A real after-visit summary would be much more specific to the individual patient and their medical history.\n",
       "*   **Laboratory Results:**  This example does not include laboratory results, which are a crucial part of many annual physical exams.\n",
       "\n",
       "Remember to always protect real patient information and adhere to privacy regulations. Use this example responsibly and ethically.\n",
       "\"\"\"\n",
       "          ),\n",
       "        ],\n",
       "        role='model'\n",
       "      ),\n",
       "      finish_reason=<FinishReason.STOP: 'STOP'>\n",
       "    ),\n",
       "  ],\n",
       "  create_time=datetime.datetime(2025, 6, 26, 3, 15, 9, 945090, tzinfo=TzInfo(UTC)),\n",
       "  model_version='gemini-2.0-flash-001',\n",
       "  response_id='PbtcaMLXOdim4_UP6YuE2AI',\n",
       "  sdk_http_response=HttpResponse(\n",
       "    headers=<dict len=9>\n",
       "  ),\n",
       "  usage_metadata=GenerateContentResponseUsageMetadata(\n",
       "    candidates_token_count=1007,\n",
       "    candidates_tokens_details=[\n",
       "      ModalityTokenCount(\n",
       "        modality=<MediaModality.TEXT: 'TEXT'>,\n",
       "        token_count=1007\n",
       "      ),\n",
       "    ],\n",
       "    prompt_token_count=21,\n",
       "    prompt_tokens_details=[\n",
       "      ModalityTokenCount(\n",
       "        modality=<MediaModality.TEXT: 'TEXT'>,\n",
       "        token_count=21\n",
       "      ),\n",
       "    ],\n",
       "    total_token_count=1028,\n",
       "    traffic_type=<TrafficType.ON_DEMAND: 'ON_DEMAND'>\n",
       "  )\n",
       ")"
      ]
     },
     "execution_count": 7,
     "metadata": {},
     "output_type": "execute_result"
    }
   ],
   "source": [
    "# Write a prompt that generates an example with more personally identifiable information (such as date of birth in a medical visit log)\n",
    "prompt = f\"\"\"Generate an example medical after-visit log with faux personally identifiable information including name and date of birth\n",
    "  \"\"\"\n",
    "\n",
    "# Run model with prompt\n",
    "response_visitlog = client.models.generate_content(\n",
    "    model=model,\n",
    "    contents=prompt\n",
    ")\n",
    "\n",
    "# Print response without deidentification (full names and date of birth are visible)\n",
    "response_visitlog"
   ]
  },
  {
   "cell_type": "code",
   "execution_count": 8,
   "id": "324f786e-1bbd-4302-ab55-42d33a6e57a0",
   "metadata": {
    "tags": []
   },
   "outputs": [
    {
     "name": "stdout",
     "output_type": "stream",
     "text": [
      "Okay, here's an example of a medical after-visit log with faux PII.  **Please remember this information is entirely fabricated and should not be used for any real-world purpose.**\n",
      "\n",
      "**Important Disclaimer:**  Creating and using realistic-looking but fake PII can still have ethical and legal implications if used inappropriately. This example is provided for illustrative purposes only.  Do not use this information to impersonate someone, create fake accounts, or engage in any fraudulent activities.\n",
      "\n",
      "**After-Visit Summary**\n",
      "\n",
      "**Patient Name:**  [PERSON_NAME]\n",
      "**Date of Birth:** [DATE_OF_BIRTH]\n",
      "**Medical Record Number:**  EV780315-42\n",
      "**Date of Visit:** 2024-10-27\n",
      "**Provider:** Dr. [PERSON_NAME], MD\n",
      "**Clinic:**  Willow Creek Family Medicine\n",
      "**123 Main Street, Anytown, CA 91234**\n",
      "\n",
      "**Reason for Visit:**  Annual Physical Exam\n",
      "\n",
      "**Vitals:**\n",
      "\n",
      "*   **Blood Pressure:** 122/78 mmHg\n",
      "*   **Heart Rate:** 72 bpm\n",
      "*   **Respiration Rate:** 16 breaths/min\n",
      "*   **Temperature:** 98.6°F (37°C)\n",
      "*   **Height:** 5'6\"\n",
      "*   **Weight:** 145 lbs\n",
      "*   **BMI:** 23.4\n",
      "\n",
      "**Current Medications:**\n",
      "\n",
      "*   Vitamin D 2000 IU daily (OTC)\n",
      "*   Levothyroxine 75 mcg daily (for hypothyroidism)\n",
      "\n",
      "**Allergies:**\n",
      "\n",
      "*   Penicillin (Rash)\n",
      "\n",
      "**Immunizations:**\n",
      "\n",
      "*   Influenza (Administered today)\n",
      "*   Tetanus, Diphtheria, Pertussis (Tdap) - Up to date\n",
      "\n",
      "**Examination Findings:**\n",
      "\n",
      "*   **General:**  Well-nourished, well-appearing female.  Alert and oriented x3.\n",
      "*   **HEENT:**  Normocephalic, atraumatic.  EOMI.  Oral mucosa pink and moist.  Tympanic membranes clear bilaterally.\n",
      "*   **Cardiovascular:**  Regular rate and rhythm.  No murmurs, rubs, or gallops.\n",
      "*   **Respiratory:**  Clear to auscultation bilaterally.  No wheezes or crackles.\n",
      "*   **Abdomen:**  Soft, non-tender, non-distended.  Normal bowel sounds.\n",
      "*   **Neurological:**  Grossly intact.  Strength 5/5 in all extremities.\n",
      "\n",
      "**Assessment:**\n",
      "\n",
      "1.  Routine Annual Physical Exam - Patient is in good health overall.\n",
      "2.  Controlled Hypothyroidism - Continue current Levothyroxine dosage.\n",
      "\n",
      "**Plan:**\n",
      "\n",
      "1.  Continue Vitamin D 2000 IU daily.\n",
      "2.  Continue Levothyroxine 75 mcg daily.  Schedule TSH blood test in 6 months to monitor thyroid function.\n",
      "3.  Mammogram scheduled for next month (age-appropriate screening).\n",
      "4.  Colon cancer screening discussed.  Patient to consider options (colonoscopy vs. FIT test).  Information provided.\n",
      "5.  Follow up with any new or worsening symptoms.\n",
      "6.  Return for next annual physical in one year.\n",
      "\n",
      "**Lifestyle Recommendations:**\n",
      "\n",
      "*   Maintain a healthy diet rich in fruits, vegetables, and whole grains.\n",
      "*   Engage in regular physical activity (at least 30 minutes of moderate-intensity exercise most days of the week).\n",
      "*   Get adequate sleep (7-8 hours per night).\n",
      "*   Manage stress through relaxation techniques (e.g., yoga, meditation).\n",
      "\n",
      "**Prescriptions:**\n",
      "\n",
      "*   None new prescribed at this visit.\n",
      "\n",
      "**Next Appointment:**\n",
      "\n",
      "*   Recommended: Annual Physical - October 2025.\n",
      "* Schedule TSH blood test for May 2025.\n",
      "\n",
      "**Provider Signature:**  *[PERSON_NAME], MD* (Faux Signature)\n",
      "\n",
      "**Contact Information:**\n",
      "\n",
      "Willow Creek Family Medicine\n",
      "(555) 123-4567\n",
      "www.willowcreekmed.com\n",
      "**Important Notes:**\n",
      "\n",
      "*   **HIPAA Compliance:**  This is a simplified example and does not include all the elements required for full HIPAA compliance in a real-world medical record.\n",
      "*   **Specificity:** The details provided are deliberately general. A real after-visit summary would be much more specific to the individual patient and their medical history.\n",
      "*   **Laboratory Results:**  This example does not include laboratory results, which are a crucial part of many annual physical exams.\n",
      "\n",
      "Remember to always protect real patient information and adhere to privacy regulations. Use this example responsibly and ethically.\n",
      "\n"
     ]
    }
   ],
   "source": [
    "# Deidentify model response that includes an example medical visit log (full names and date of birth are redacted)\n",
    "deidentify_with_replace_infotype(PROJECT_ID, response_visitlog.text, [\"PERSON_NAME\",\"DATE_OF_BIRTH\"])"
   ]
  },
  {
   "cell_type": "markdown",
   "id": "8f2e8c80-08f8-4580-b01d-6f05257c44ce",
   "metadata": {},
   "source": [
    "## Generate example text with credit card information using Gemini 2.0 Flash model\n",
    "\n",
    "In the previous examples, you generated example text with personally identifiable information such as full name and date of birth.\n",
    "\n",
    "In this example, you start with generating example text with credit card information with the prompt provided below. Then, you apply what you have learned in the previous examples to run the function to redact credit card information. "
   ]
  },
  {
   "cell_type": "code",
   "execution_count": 9,
   "id": "f0e340bb-357d-4531-8daa-a90b0e9dca98",
   "metadata": {
    "tags": []
   },
   "outputs": [
    {
     "data": {
      "text/plain": [
       "GenerateContentResponse(\n",
       "  automatic_function_calling_history=[],\n",
       "  candidates=[\n",
       "    Candidate(\n",
       "      avg_logprobs=-0.44492803835401346,\n",
       "      content=Content(\n",
       "        parts=[\n",
       "          Part(\n",
       "            text=\"\"\"No, 4111 1111 1111 1111 is not a valid credit card number. Here's why:\n",
       "\n",
       "*   **Length:** Credit card numbers typically have 13-19 digits. This number has 16 digits, so that part is okay.\n",
       "\n",
       "*   **Issuer Identification Number (IIN):** The first few digits of a credit card number identify the card issuer. A common Visa number starts with \"4\", as this number does.\n",
       "\n",
       "*   **Luhn Algorithm (Mod 10 Check):** Credit card numbers must pass the Luhn algorithm, a checksum formula used to validate identification numbers. The provided number does **not** pass the Luhn algorithm.\n",
       "\n",
       "In summary, while the length and starting digit are within the realm of possible card numbers, the Luhn algorithm check fails, which is crucial for a valid credit card number. It's likely a test number or a randomly generated sequence.\"\"\"\n",
       "          ),\n",
       "        ],\n",
       "        role='model'\n",
       "      ),\n",
       "      finish_reason=<FinishReason.STOP: 'STOP'>\n",
       "    ),\n",
       "  ],\n",
       "  create_time=datetime.datetime(2025, 6, 26, 3, 15, 29, 478921, tzinfo=TzInfo(UTC)),\n",
       "  model_version='gemini-2.0-flash-001',\n",
       "  response_id='UbtcaMmdHdim4_UP6YuE2AI',\n",
       "  sdk_http_response=HttpResponse(\n",
       "    headers=<dict len=9>\n",
       "  ),\n",
       "  usage_metadata=GenerateContentResponseUsageMetadata(\n",
       "    candidates_token_count=204,\n",
       "    candidates_tokens_details=[\n",
       "      ModalityTokenCount(\n",
       "        modality=<MediaModality.TEXT: 'TEXT'>,\n",
       "        token_count=204\n",
       "      ),\n",
       "    ],\n",
       "    prompt_token_count=31,\n",
       "    prompt_tokens_details=[\n",
       "      ModalityTokenCount(\n",
       "        modality=<MediaModality.TEXT: 'TEXT'>,\n",
       "        token_count=31\n",
       "      ),\n",
       "    ],\n",
       "    total_token_count=235,\n",
       "    traffic_type=<TrafficType.ON_DEMAND: 'ON_DEMAND'>\n",
       "  )\n",
       ")"
      ]
     },
     "execution_count": 9,
     "metadata": {},
     "output_type": "execute_result"
    }
   ],
   "source": [
    "# Write a prompt that generates an example with a credit card number\n",
    "prompt = f\"\"\"Is 4111 1111 1111 1111 an example of a credit card number?\n",
    "  \"\"\"\n",
    "\n",
    "# Run model with prompt\n",
    "response_creditcard = client.models.generate_content(\n",
    "    model=model,\n",
    "    contents=prompt\n",
    ")\n",
    "\n",
    "# Print response without deidentification (credit card number is visible)\n",
    "response_creditcard"
   ]
  },
  {
   "cell_type": "markdown",
   "id": "32a49c59-c4f5-46f0-89fa-4c0a30caea3f",
   "metadata": {},
   "source": [
    "## Test your skills using the built-in global infoType for credit card number\n",
    "\n",
    "Now it's your turn to call the function `deidentify_with_replace_infotype` with the appropriate inputs to redact credit card numbers from model responses.\n",
    "\n",
    "__Hint__: you can review the [global infoTypes](https://cloud.google.com/sensitive-data-protection/docs/infotypes-reference#global) in the documentation to identify the appropriate infoType for credit card numbers.\n",
    "\n",
    "For the full solution, return to the lab instructions and expand the __Hint__ button. "
   ]
  },
  {
   "cell_type": "code",
   "execution_count": 10,
   "id": "ebfb5890-2e41-4462-9a65-f204fe42c06b",
   "metadata": {
    "tags": []
   },
   "outputs": [
    {
     "name": "stdout",
     "output_type": "stream",
     "text": [
      "No, [CREDIT_CARD_NUMBER] is not a valid credit card number. Here's why:\n",
      "\n",
      "*   **Length:** Credit card numbers typically have 13-19 digits. This number has 16 digits, so that part is okay.\n",
      "\n",
      "*   **Issuer Identification Number (IIN):** The first few digits of a credit card number identify the card issuer. A common Visa number starts with \"4\", as this number does.\n",
      "\n",
      "*   **Luhn Algorithm (Mod 10 Check):** Credit card numbers must pass the Luhn algorithm, a checksum formula used to validate identification numbers. The provided number does **not** pass the Luhn algorithm.\n",
      "\n",
      "In summary, while the length and starting digit are within the realm of possible card numbers, the Luhn algorithm check fails, which is crucial for a valid credit card number. It's likely a test number or a randomly generated sequence.\n"
     ]
    }
   ],
   "source": [
    "# Deidentify model response that includes an example credit card number (credit card number is redacted)\n",
    "\n",
    "# ADD YOUR CODE BELOW\n",
    "deidentify_with_replace_infotype(PROJECT_ID, response_creditcard.text, [\"CREDIT_CARD_NUMBER\"])\n"
   ]
  },
  {
   "cell_type": "markdown",
   "id": "2e5239cb-d8e1-4c2f-852c-a0ce3556c2ec",
   "metadata": {},
   "source": [
    "## Redefine the Python function to block Gemini 2.0 Flash model responses based on specific infotypes for documents\n",
    "\n",
    "In addition to its ability to scan and classify information contained within documents, Sensitive Data Protection can classify documents into multiple enterprise-specific categories. When combined with sensitive data inspection, this classification can be useful for document risk assessment, policy enforcement, and similar use cases.\n",
    "\n",
    "In this section, you redefine the the original function to take advantage of this classification functionality and use it to block output for two specific [document infoTypes](https://cloud.google.com/sensitive-data-protection/docs/infotypes-reference#documents): source code and patents.\n",
    "\n",
    "In the code block below for the function, notice the new code lines after `# Add conditional return for document infoTypes for source code and patent`. \n",
    "\n",
    "Run the code block below without modifications."
   ]
  },
  {
   "cell_type": "code",
   "execution_count": 11,
   "id": "da6b40ac-c8e8-4dbf-8dac-3ecfacaedb91",
   "metadata": {
    "tags": []
   },
   "outputs": [],
   "source": [
    "# Redefine original function to inspect and deidentify output with Sensitive Data Protection\n",
    "import google.cloud.dlp  \n",
    "from typing import List \n",
    "\n",
    "def deidentify_with_replace_infotype(\n",
    "    project: str, item: str, info_types: List[str]\n",
    ") -> None:\n",
    "    \"\"\"Uses the Data Loss Prevention API to deidentify sensitive data in a\n",
    "    string by replacing it with the info type.\n",
    "    Args:\n",
    "        project: The Google Cloud project id to use as a parent resource.\n",
    "        item: The string to deidentify (will be treated as text).\n",
    "        info_types: A list of strings representing info types to look for.\n",
    "            A full list of info type categories can be fetched from the API.\n",
    "    Returns:\n",
    "        None; the response from the API is printed to the terminal.\n",
    "    \"\"\"\n",
    "\n",
    "    # Instantiate a client\n",
    "    dlp = google.cloud.dlp_v2.DlpServiceClient()\n",
    "\n",
    "    # Convert the project id into a full resource id.\n",
    "    parent = f\"projects/{PROJECT_ID}\"\n",
    "\n",
    "    # Construct inspect configuration dictionary\n",
    "    inspect_config = {\"info_types\": [{\"name\": info_type} for info_type in info_types]}\n",
    "\n",
    "    # Construct deidentify configuration dictionary\n",
    "    deidentify_config = {\n",
    "        \"info_type_transformations\": {\n",
    "            \"transformations\": [\n",
    "                {\"primitive_transformation\": {\"replace_with_info_type_config\": {}}}\n",
    "            ]\n",
    "        }\n",
    "    }\n",
    "\n",
    "    # Call the API for deidentify\n",
    "    response = dlp.deidentify_content(\n",
    "        request={\n",
    "            \"parent\": parent,\n",
    "            \"deidentify_config\": deidentify_config,\n",
    "            \"inspect_config\": inspect_config,\n",
    "            \"item\": {\"value\": item},\n",
    "        }\n",
    "    )\n",
    "\n",
    "    return_payload = response.item.value\n",
    "    \n",
    "    # Add conditional return to block responses containing document infoTypes for source code and patent\n",
    "    info_types = [\"DOCUMENT_TYPE/R&D/SOURCE_CODE\",\"DOCUMENT_TYPE/R&D/PATENT\"]\n",
    "    inspect_config = {\"info_types\": [{\"name\": info_type} for info_type in info_types]}\n",
    "\n",
    "    response = dlp.inspect_content(\n",
    "        request={\n",
    "            \"parent\": parent,\n",
    "            \"inspect_config\": inspect_config,\n",
    "            \"item\": {\"value\": item},\n",
    "        }\n",
    "    )\n",
    "\n",
    "    if response.result.findings:\n",
    "        for finding in response.result.findings:\n",
    "            if finding.info_type.name == \"DOCUMENT_TYPE/R&D/SOURCE_CODE\":\n",
    "                return_payload = '[Blocked due to category: Source Code]'\n",
    "            elif finding.info_type.name == \"DOCUMENT_TYPE/R&D/PATENT\":\n",
    "                return_payload = '[Blocked due to category: Patent Related]'\n",
    "                \n",
    "    # Print results\n",
    "    print(return_payload)"
   ]
  },
  {
   "cell_type": "markdown",
   "id": "1fcc9d0c-3fcb-48a5-9964-1947dadb10b9",
   "metadata": {},
   "source": [
    "## Generate an example with source code using Gemini 2.0 Flash model and block results\n",
    "\n",
    "In the previous examples, you generated example text with personally identifiable information.\n",
    "\n",
    "In this example, you generate examples with document infoTypes including source code and patent information. Then, you apply what you have learned in the previous examples to run the function to block responses based on these document infoTypes. Also, in this example, when generating the response, you keep the [temperature](https://cloud.google.com/vertex-ai/generative-ai/docs/learn/prompts/adjust-parameter-values#temperature) to `0`, so that the generated output is invariable. "
   ]
  },
  {
   "cell_type": "code",
   "execution_count": 12,
   "id": "5386700d-05ac-4c41-a554-a97e0758d333",
   "metadata": {
    "tags": []
   },
   "outputs": [
    {
     "data": {
      "text/plain": [
       "GenerateContentResponse(\n",
       "  automatic_function_calling_history=[],\n",
       "  candidates=[\n",
       "    Candidate(\n",
       "      avg_logprobs=-0.06178712632921007,\n",
       "      content=Content(\n",
       "        parts=[\n",
       "          Part(\n",
       "            text=\"\"\"```java\n",
       "public class HelloWorld {\n",
       "\n",
       "    public static void main(String[] args) {\n",
       "        // This is a comment.  It's ignored by the compiler.\n",
       "\n",
       "        // Print \"Hello, World!\" to the console.\n",
       "        System.out.println(\"Hello, World!\");\n",
       "\n",
       "        // Example of a variable declaration and assignment\n",
       "        String message = \"This is a message stored in a variable.\";\n",
       "        System.out.println(message);\n",
       "\n",
       "        // Example of an integer variable and arithmetic\n",
       "        int number1 = 10;\n",
       "        int number2 = 5;\n",
       "        int sum = number1 + number2;\n",
       "        System.out.println(\"The sum of \" + number1 + \" and \" + number2 + \" is: \" + sum);\n",
       "\n",
       "        // Example of a conditional statement (if-else)\n",
       "        if (sum > 12) {\n",
       "            System.out.println(\"The sum is greater than 12.\");\n",
       "        } else {\n",
       "            System.out.println(\"The sum is not greater than 12.\");\n",
       "        }\n",
       "\n",
       "        // Example of a loop (for loop)\n",
       "        System.out.println(\"Counting from 1 to 5:\");\n",
       "        for (int i = 1; i <= 5; i++) {\n",
       "            System.out.println(i);\n",
       "        }\n",
       "\n",
       "        // Example of a method call\n",
       "        printGreeting(\"Alice\");\n",
       "        printGreeting(\"Bob\");\n",
       "    }\n",
       "\n",
       "    // This is a method that takes a String argument and prints a greeting.\n",
       "    public static void printGreeting(String name) {\n",
       "        System.out.println(\"Hello, \" + name + \"!\");\n",
       "    }\n",
       "}\n",
       "```\n",
       "\n",
       "**Explanation:**\n",
       "\n",
       "* **`public class HelloWorld { ... }`**:  This defines a class named `HelloWorld`.  In Java, all code must reside within a class.  The `public` keyword means this class is accessible from anywhere.\n",
       "* **`public static void main(String[] args) { ... }`**: This is the `main` method.  It's the entry point of the program.  When you run the Java program, the code inside the `main` method is executed first.\n",
       "    * `public static`:  `public` means it's accessible from anywhere. `static` means you don't need to create an object of the `HelloWorld` class to call this method.\n",
       "    * `void`:  This means the method doesn't return any value.\n",
       "    * `String[] args`: This is an array of strings that can be used to pass arguments to the program from the command line.\n",
       "* **`// This is a comment`**:  Comments are used to explain the code.  The compiler ignores them.  `//` indicates a single-line comment.  `/* ... */` indicates a multi-line comment.\n",
       "* **`System.out.println(\"Hello, World!\");`**: This line prints the text \"Hello, World!\" to the console (the standard output).\n",
       "    * `System.out` is an object that represents the standard output stream.\n",
       "    * `println()` is a method of the `System.out` object that prints a line of text.\n",
       "* **`String message = \"This is a message stored in a variable.\";`**: This declares a variable named `message` of type `String` and assigns it the value \"This is a message stored in a variable.\".\n",
       "    * `String` is a data type that represents a sequence of characters (text).\n",
       "* **`int number1 = 10;`**: This declares a variable named `number1` of type `int` (integer) and assigns it the value 10.\n",
       "* **`int sum = number1 + number2;`**: This calculates the sum of `number1` and `number2` and stores the result in a variable named `sum`.\n",
       "* **`if (sum > 12) { ... } else { ... }`**: This is an `if-else` statement.  It checks if the condition `sum > 12` is true.  If it is, the code inside the `if` block is executed.  Otherwise, the code inside the `else` block is executed.\n",
       "* **`for (int i = 1; i <= 5; i++) { ... }`**: This is a `for` loop.  It executes the code inside the loop repeatedly.\n",
       "    * `int i = 1`:  Initializes a loop counter variable `i` to 1.\n",
       "    * `i <= 5`:  The loop continues as long as `i` is less than or equal to 5.\n",
       "    * `i++`:  Increments `i` by 1 after each iteration of the loop.\n",
       "* **`printGreeting(\"Alice\");`**: This calls the `printGreeting` method, passing the string \"Alice\" as an argument.\n",
       "* **`public static void printGreeting(String name) { ... }`**: This defines a method named `printGreeting` that takes a `String` argument named `name`.  The method prints a greeting to the console, including the name.\n",
       "\n",
       "**How to Compile and Run:**\n",
       "\n",
       "1. **Save the code:** Save the code in a file named `HelloWorld.java`.  Make sure the filename matches the class name (including capitalization).\n",
       "2. **Compile:** Open a command prompt or terminal and navigate to the directory where you saved the file.  Then, compile the code using the Java compiler:\n",
       "   ```bash\n",
       "   javac HelloWorld.java\n",
       "   ```\n",
       "   This will create a file named `HelloWorld.class` (the compiled bytecode).\n",
       "3. **Run:** Run the compiled code using the Java Virtual Machine (JVM):\n",
       "   ```bash\n",
       "   java HelloWorld\n",
       "   ```\n",
       "   This will execute the `main` method and print the output to the console.\n",
       "\n",
       "You should see the following output:\n",
       "\n",
       "```\n",
       "Hello, World!\n",
       "This is a message stored in a variable.\n",
       "The sum of 10 and 5 is: 15\n",
       "The sum is greater than 12.\n",
       "Counting from 1 to 5:\n",
       "1\n",
       "2\n",
       "3\n",
       "4\n",
       "5\n",
       "Hello, Alice!\n",
       "Hello, Bob!\n",
       "```\n",
       "\"\"\"\n",
       "          ),\n",
       "        ],\n",
       "        role='model'\n",
       "      ),\n",
       "      finish_reason=<FinishReason.STOP: 'STOP'>\n",
       "    ),\n",
       "  ],\n",
       "  create_time=datetime.datetime(2025, 6, 26, 3, 16, 20, 912227, tzinfo=TzInfo(UTC)),\n",
       "  model_version='gemini-2.0-flash-001',\n",
       "  response_id='hLtcaOPWN5y64_UP1rnN-Ak',\n",
       "  sdk_http_response=HttpResponse(\n",
       "    headers=<dict len=9>\n",
       "  ),\n",
       "  usage_metadata=GenerateContentResponseUsageMetadata(\n",
       "    candidates_token_count=1350,\n",
       "    candidates_tokens_details=[\n",
       "      ModalityTokenCount(\n",
       "        modality=<MediaModality.TEXT: 'TEXT'>,\n",
       "        token_count=1350\n",
       "      ),\n",
       "    ],\n",
       "    prompt_token_count=9,\n",
       "    prompt_tokens_details=[\n",
       "      ModalityTokenCount(\n",
       "        modality=<MediaModality.TEXT: 'TEXT'>,\n",
       "        token_count=9\n",
       "      ),\n",
       "    ],\n",
       "    total_token_count=1359,\n",
       "    traffic_type=<TrafficType.ON_DEMAND: 'ON_DEMAND'>\n",
       "  )\n",
       ")"
      ]
     },
     "execution_count": 12,
     "metadata": {},
     "output_type": "execute_result"
    }
   ],
   "source": [
    "# Create prompt that generates an example of Java code\n",
    "prompt = f\"\"\"Show me an example of Java code\n",
    "  \"\"\"\n",
    "\n",
    "# Run model with prompt\n",
    "response_sourcecode = client.models.generate_content(\n",
    "    model=model,\n",
    "    contents=prompt,\n",
    "    config={\n",
    "        \"temperature\": 0,\n",
    "    \t}\n",
    ")\n",
    "\n",
    "# Print response without blocking it (code is visible)\n",
    "response_sourcecode"
   ]
  },
  {
   "cell_type": "code",
   "execution_count": 13,
   "id": "b0f765ef-e0c8-46f8-9071-b450650e209b",
   "metadata": {
    "tags": []
   },
   "outputs": [
    {
     "name": "stdout",
     "output_type": "stream",
     "text": [
      "[Blocked due to category: Source Code]\n"
     ]
    }
   ],
   "source": [
    "# Block model response that include source code (response is not available)\n",
    "# Notice that the infoType that you request is a different infoType\n",
    "# Results are still blocked because the model response is identified contain code\n",
    "deidentify_with_replace_infotype(PROJECT_ID, response_sourcecode.text, [\"EMAIL_ADDRESS\"])"
   ]
  },
  {
   "cell_type": "markdown",
   "id": "1dd83f0e-2c64-45a9-98e8-7d974eabe953",
   "metadata": {},
   "source": [
    "## Test your skills using the built-in document infoType for patents\n",
    "\n",
    "Now it's your turn to call the function `deidentify_with_replace_infotype` with the appropriate inputs to block patent information in model responses.\n",
    "\n",
    "__Hint__: review the previous two cells for generating an example with source code and calling the function, and then modify both to block the model response because it contains patent information.\n",
    "\n",
    "For the full solution, return to the lab instructions and expand the __Hint__ button. "
   ]
  },
  {
   "cell_type": "code",
   "execution_count": 15,
   "id": "cb204161-0c3a-417c-b5f7-86b3b3e6b677",
   "metadata": {
    "tags": []
   },
   "outputs": [
    {
     "data": {
      "text/plain": [
       "GenerateContentResponse(\n",
       "  automatic_function_calling_history=[],\n",
       "  candidates=[\n",
       "    Candidate(\n",
       "      avg_logprobs=-0.22733503896978838,\n",
       "      content=Content(\n",
       "        parts=[\n",
       "          Part(\n",
       "            text=\"\"\"Okay, let's look at a real patent.  I'll provide you with a link to a patent on Google Patents, along with a brief explanation of what it covers.  I'll choose a relatively simple and understandable one.\n",
       "\n",
       "**Patent:** US 8,086,984 B2 - \"Method and apparatus for providing a user interface for a mobile device\"\n",
       "\n",
       "**Link:** [https://patents.google.com/patent/US8086984B2/en](https://patents.google.com/patent/US8086984B2/en)\n",
       "\n",
       "**What it Covers (Simplified):**\n",
       "\n",
       "This patent, granted to Apple Inc., generally describes a method and apparatus for providing a user interface on a mobile device (like a smartphone or tablet) that allows users to easily access and interact with applications and other functions.  Specifically, it focuses on:\n",
       "\n",
       "*   **A Dock:**  A persistent area (often at the bottom of the screen) that displays frequently used applications or functions.  This dock remains visible even when other applications are running.\n",
       "*   **Application Icons:**  Graphical representations of applications that can be selected to launch those applications.\n",
       "*   **User Interface Elements:**  The overall design and arrangement of elements on the screen to make it easy for users to navigate and use the device.\n",
       "*   **Gestures:** The patent also touches on using gestures to interact with the user interface.\n",
       "\n",
       "**Key Aspects to Understand When Reading a Patent:**\n",
       "\n",
       "*   **Abstract:** A brief summary of the invention.  Read this first to get a general idea.\n",
       "*   **Background:**  Describes the problem the invention is trying to solve and the existing technology (prior art) that it builds upon.\n",
       "*   **Summary:**  A more detailed overview of the invention.\n",
       "*   **Drawings:**  Visual representations of the invention.  These are often crucial for understanding how it works.\n",
       "*   **Detailed Description:**  The most comprehensive explanation of the invention, including how it's made and how it works.  This section often refers to the drawings.\n",
       "*   **Claims:**  The most important part of the patent.  These are the *legal* definitions of what the patent protects.  They define the scope of the invention.  If someone else makes, uses, or sells something that falls within the scope of the claims, they could be infringing the patent.\n",
       "\n",
       "**Why This Example is Useful:**\n",
       "\n",
       "*   **Relatively Understandable:**  The concept of a dock and application icons is familiar to most people who use smartphones or tablets.\n",
       "*   **Real-World Application:**  It's a patent that has had a significant impact on the design of mobile device user interfaces.\n",
       "*   **Illustrative of Patent Structure:**  It demonstrates the typical sections and language used in a patent document.\n",
       "\n",
       "**How to Read the Patent (Tips):**\n",
       "\n",
       "1.  **Start with the Abstract and Drawings:**  Get a general overview.\n",
       "2.  **Read the Background:**  Understand the problem the invention is addressing.\n",
       "3.  **Skim the Detailed Description:**  Focus on the parts that seem most relevant to the drawings.\n",
       "4.  **Carefully Read the Claims:**  This is the most important part for understanding the legal scope of the patent.  Pay attention to the specific wording.  Claims often use terms like \"comprising,\" \"including,\" and \"consisting of,\" which have specific legal meanings.\n",
       "\n",
       "**Important Note:**  I am not a patent attorney, and this information is for educational purposes only.  If you have specific legal questions about patents, you should consult with a qualified patent attorney.  Analyzing patents and determining infringement is a complex legal process.\n",
       "\"\"\"\n",
       "          ),\n",
       "        ],\n",
       "        role='model'\n",
       "      ),\n",
       "      finish_reason=<FinishReason.STOP: 'STOP'>\n",
       "    ),\n",
       "  ],\n",
       "  create_time=datetime.datetime(2025, 6, 26, 3, 19, 17, 787630, tzinfo=TzInfo(UTC)),\n",
       "  model_version='gemini-2.0-flash-001',\n",
       "  response_id='NbxcaK6JMMqO4_UP3JmQyAE',\n",
       "  sdk_http_response=HttpResponse(\n",
       "    headers=<dict len=9>\n",
       "  ),\n",
       "  usage_metadata=GenerateContentResponseUsageMetadata(\n",
       "    candidates_token_count=790,\n",
       "    candidates_tokens_details=[\n",
       "      ModalityTokenCount(\n",
       "        modality=<MediaModality.TEXT: 'TEXT'>,\n",
       "        token_count=790\n",
       "      ),\n",
       "    ],\n",
       "    prompt_token_count=6,\n",
       "    prompt_tokens_details=[\n",
       "      ModalityTokenCount(\n",
       "        modality=<MediaModality.TEXT: 'TEXT'>,\n",
       "        token_count=6\n",
       "      ),\n",
       "    ],\n",
       "    total_token_count=796,\n",
       "    traffic_type=<TrafficType.ON_DEMAND: 'ON_DEMAND'>\n",
       "  )\n",
       ")"
      ]
     },
     "execution_count": 15,
     "metadata": {},
     "output_type": "execute_result"
    }
   ],
   "source": [
    "# Create prompt that generates example patent\n",
    "\n",
    "prompt = f\"\"\"Show me an example patent\n",
    "\n",
    "\"\"\"\n",
    "\n",
    "# Run model with prompt\n",
    "\n",
    "# Name the output as response_patent\n",
    "\n",
    "response_patent = client.models.generate_content(model=model, contents=prompt, config={\"temperature\": 0,})\n",
    "\n",
    "# Print response without blocking it (patent information provided)\n",
    "\n",
    "response_patent"
   ]
  },
  {
   "cell_type": "code",
   "execution_count": 16,
   "id": "5dba6d7a-ad2b-495d-a05f-53ee63d07832",
   "metadata": {
    "tags": []
   },
   "outputs": [
    {
     "name": "stdout",
     "output_type": "stream",
     "text": [
      "[Blocked due to category: Patent Related]\n"
     ]
    }
   ],
   "source": [
    "# Block model response that includes patent information (patent information not provided)\n",
    "\n",
    "# ADD YOUR CODE BELOW\n",
    "deidentify_with_replace_infotype(PROJECT_ID, response_patent.text, [\"EMAIL_ADDRESS\"])"
   ]
  },
  {
   "cell_type": "code",
   "execution_count": null,
   "id": "2bd91488-c0f8-4adf-84b6-4ab1821e2252",
   "metadata": {},
   "outputs": [],
   "source": []
  }
 ],
 "metadata": {
  "environment": {
   "kernel": "conda-base-py",
   "name": "workbench-notebooks.m130",
   "type": "gcloud",
   "uri": "us-docker.pkg.dev/deeplearning-platform-release/gcr.io/workbench-notebooks:m130"
  },
  "kernelspec": {
   "display_name": "Python 3 (ipykernel) (Local)",
   "language": "python",
   "name": "conda-base-py"
  },
  "language_info": {
   "codemirror_mode": {
    "name": "ipython",
    "version": 3
   },
   "file_extension": ".py",
   "mimetype": "text/x-python",
   "name": "python",
   "nbconvert_exporter": "python",
   "pygments_lexer": "ipython3",
   "version": "3.10.18"
  }
 },
 "nbformat": 4,
 "nbformat_minor": 5
}
