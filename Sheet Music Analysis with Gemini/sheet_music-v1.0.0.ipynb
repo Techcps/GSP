{
 "cells": [
  {
   "cell_type": "code",
   "execution_count": 1,
   "metadata": {
    "id": "ijGzTHJJUCPY",
    "tags": []
   },
   "outputs": [],
   "source": [
    "# Copyright 2024 Google LLC\n",
    "#\n",
    "# Licensed under the Apache License, Version 2.0 (the \"License\");\n",
    "# you may not use this file except in compliance with the License.\n",
    "# You may obtain a copy of the License at\n",
    "#\n",
    "#     https://www.apache.org/licenses/LICENSE-2.0\n",
    "#\n",
    "# Unless required by applicable law or agreed to in writing, software\n",
    "# distributed under the License is distributed on an \"AS IS\" BASIS,\n",
    "# WITHOUT WARRANTIES OR CONDITIONS OF ANY KIND, either express or implied.\n",
    "# See the License for the specific language governing permissions and\n",
    "# limitations under the License."
   ]
  },
  {
   "cell_type": "markdown",
   "metadata": {
    "id": "VEqbX8OhE8y9"
   },
   "source": [
    "# Sheet Music Analysis with Gemini\n",
    "\n",
    "<table align=\"left\">\n",
    "  <td style=\"text-align: center\">\n",
    "    <a href=\"https://colab.research.google.com/github/GoogleCloudPlatform/generative-ai/blob/main/gemini/use-cases/document-processing/sheet_music.ipynb\">\n",
    "      <img src=\"https://cloud.google.com/ml-engine/images/colab-logo-32px.png\" alt=\"Google Colaboratory logo\"><br> Run in Colab\n",
    "    </a>\n",
    "  </td>\n",
    "  <td style=\"text-align: center\">\n",
    "    <a href=\"https://console.cloud.google.com/vertex-ai/colab/import/https:%2F%2Fraw.githubusercontent.com%2FGoogleCloudPlatform%2Fgenerative-ai%2Fmain%2Fgemini%2Fuse-cases%2Fdocument-processing%2Fsheet_music.ipynb\">\n",
    "      <img width=\"32px\" src=\"https://lh3.googleusercontent.com/JmcxdQi-qOpctIvWKgPtrzZdJJK-J3sWE1RsfjZNwshCFgE_9fULcNpuXYTilIR2hjwN\" alt=\"Google Cloud Colab Enterprise logo\"><br> Run in Colab Enterprise\n",
    "    </a>\n",
    "  </td>       \n",
    "  <td style=\"text-align: center\">\n",
    "    <a href=\"https://github.com/GoogleCloudPlatform/generative-ai/blob/main/gemini/use-cases/document-processing/sheet_music.ipynb\">\n",
    "      <img src=\"https://cloud.google.com/ml-engine/images/github-logo-32px.png\" alt=\"GitHub logo\"><br> View on GitHub\n",
    "    </a>\n",
    "  </td>\n",
    "  <td style=\"text-align: center\">\n",
    "    <a href=\"https://console.cloud.google.com/vertex-ai/workbench/deploy-notebook?download_url=https://raw.githubusercontent.com/GoogleCloudPlatform/generative-ai/main/gemini/use-cases/document-processing/sheet_music.ipynb\">\n",
    "      <img src=\"https://lh3.googleusercontent.com/UiNooY4LUgW_oTvpsNhPpQzsstV5W8F7rYgxgGBD85cWJoLmrOzhVs_ksK_vgx40SHs7jCqkTkCk=e14-rj-sc0xffffff-h130-w32\" alt=\"Vertex AI logo\"><br> Open in Vertex AI Workbench\n",
    "    </a>\n",
    "  </td>\n",
    "</table>\n"
   ]
  },
  {
   "cell_type": "markdown",
   "metadata": {
    "id": "5ad877ea09dd"
   },
   "source": [
    "| | |\n",
    "|-|-|\n",
    "|Author(s) | [Holt Skinner](https://github.com/holtskinner) |"
   ]
  },
  {
   "cell_type": "markdown",
   "metadata": {
    "id": "CkHPv2myT2cx"
   },
   "source": [
    "## Overview\n",
    "\n",
    "[Sheet Music](https://en.wikipedia.org/wiki/Sheet_music) is the primary form of music notation used by composers and performers across the world. These pages contain information about the lyrics, pitches, rhythms, composer, text author, composition date, among others.\n",
    "\n",
    "This notebook illustrates using Gemini to extract this metadata from sheet music PDFs.\n",
    "\n",
    "These prompts and documents were demonstrated in the [Google Cloud Next 2024 session \"What's next with Gemini: Driving business impact with multimodal use cases\"](https://www.youtube.com/watch?v=DqH1R9Pk5RI).\n"
   ]
  },
  {
   "cell_type": "markdown",
   "metadata": {
    "id": "r11Gu7qNgx1p"
   },
   "source": [
    "## Getting Started\n"
   ]
  },
  {
   "cell_type": "markdown",
   "metadata": {
    "id": "No17Cw5hgx12"
   },
   "source": [
    "### Install Vertex AI SDK for Python"
   ]
  },
  {
   "cell_type": "code",
   "execution_count": 2,
   "metadata": {
    "id": "tFy3H3aPgx12",
    "tags": []
   },
   "outputs": [
    {
     "name": "stdout",
     "output_type": "stream",
     "text": [
      "\u001b[33m  WARNING: The script tb-gcp-uploader is installed in '/home/jupyter/.local/bin' which is not on PATH.\n",
      "  Consider adding this directory to PATH or, if you prefer to suppress this warning, use --no-warn-script-location.\u001b[0m\u001b[33m\n",
      "\u001b[0mNote: you may need to restart the kernel to use updated packages.\n"
     ]
    }
   ],
   "source": [
    "%pip install --upgrade --user -q google-cloud-aiplatform PyPDF2"
   ]
  },
  {
   "cell_type": "markdown",
   "metadata": {
    "id": "R5Xep4W9lq-Z"
   },
   "source": [
    "### Restart current runtime\n",
    "\n",
    "To use the newly installed packages in this Jupyter runtime, you must restart the runtime. You can do this by running the cell below, which will restart the current kernel."
   ]
  },
  {
   "cell_type": "code",
   "execution_count": 3,
   "metadata": {
    "id": "XRvKdaPDTznN",
    "tags": []
   },
   "outputs": [
    {
     "data": {
      "text/plain": [
       "{'status': 'ok', 'restart': True}"
      ]
     },
     "execution_count": 3,
     "metadata": {},
     "output_type": "execute_result"
    }
   ],
   "source": [
    "# Restart kernel after installs so that your environment can access the new packages\n",
    "import IPython\n",
    "\n",
    "app = IPython.Application.instance()\n",
    "app.kernel.do_shutdown(True)"
   ]
  },
  {
   "cell_type": "markdown",
   "metadata": {
    "id": "SbmM4z7FOBpM"
   },
   "source": [
    "<div class=\"alert alert-block alert-warning\">\n",
    "<b>⚠️ The kernel is going to restart. Please wait until it is finished before continuing to the next step. ⚠️</b>\n",
    "</div>\n"
   ]
  },
  {
   "cell_type": "markdown",
   "metadata": {
    "id": "dmWOrTJ3gx13"
   },
   "source": [
    "### Authenticate your notebook environment (Colab only)\n",
    "\n",
    "If you are running this notebook on Google Colab, run the following cell to authenticate your environment. This step is not required if you are using [Vertex AI Workbench](https://cloud.google.com/vertex-ai-workbench).\n"
   ]
  },
  {
   "cell_type": "code",
   "execution_count": 1,
   "metadata": {
    "id": "NyKGtVQjgx13",
    "tags": []
   },
   "outputs": [],
   "source": [
    "import sys\n",
    "\n",
    "# Additional authentication is required for Google Colab\n",
    "if \"google.colab\" in sys.modules:\n",
    "    # Authenticate user to Google Cloud\n",
    "    from google.colab import auth\n",
    "\n",
    "    auth.authenticate_user()"
   ]
  },
  {
   "cell_type": "markdown",
   "metadata": {
    "id": "DF4l8DTdWgPY"
   },
   "source": [
    "### Set Google Cloud project information and initialize Vertex AI SDK\n",
    "\n",
    "To get started using Vertex AI, you must have an existing Google Cloud project and [enable the Vertex AI API](https://console.cloud.google.com/flows/enableapi?apiid=aiplatform.googleapis.com).\n",
    "\n",
    "Learn more about [setting up a project and a development environment](https://cloud.google.com/vertex-ai/docs/start/cloud-environment)."
   ]
  },
  {
   "cell_type": "code",
   "execution_count": 2,
   "metadata": {
    "id": "Nqwi-5ufWp_B",
    "tags": []
   },
   "outputs": [],
   "source": [
    "# Define project information\n",
    "PROJECT_ID = \"qwiklabs-gcp-04-93d7352957fa\"  # @param {type:\"string\"}\n",
    "LOCATION = \"europe-west1\"  # @param {type:\"string\"}\n",
    "\n",
    "# Initialize Vertex AI\n",
    "import vertexai\n",
    "\n",
    "vertexai.init(project=PROJECT_ID, location=LOCATION)"
   ]
  },
  {
   "cell_type": "code",
   "execution_count": 3,
   "metadata": {
    "id": "Nqwi-5ufWp_B",
    "tags": []
   },
   "outputs": [
    {
     "name": "stdout",
     "output_type": "stream",
     "text": [
      "Please like share & subscribe to Techcps https://www.youtube.com/@techcps\n"
     ]
    }
   ],
   "source": [
    "# Please like share & subscribe to Techcps\n",
    "# YouTube https://www.youtube.com/@techcps\n",
    "\n",
    "print(\"Please like share & subscribe to Techcps https://www.youtube.com/@techcps\")"
   ]
  },
  {
   "cell_type": "markdown",
   "metadata": {
    "id": "jXHfaVS66_01"
   },
   "source": [
    "### Import libraries\n"
   ]
  },
  {
   "cell_type": "code",
   "execution_count": 4,
   "metadata": {
    "id": "lslYAvw37JGQ",
    "tags": []
   },
   "outputs": [],
   "source": [
    "import json\n",
    "\n",
    "from IPython.display import Markdown, display\n",
    "import PyPDF2\n",
    "from vertexai.generative_models import (\n",
    "    GenerationConfig,\n",
    "    GenerativeModel,\n",
    "    HarmBlockThreshold,\n",
    "    HarmCategory,\n",
    "    Part,\n",
    ")"
   ]
  },
  {
   "cell_type": "markdown",
   "metadata": {
    "id": "FTMywdzUORIA"
   },
   "source": [
    "### Load the Gemini 1.5 Flash model\n",
    "\n",
    "Gemini 1.5 Flash (`gemini-1.5-flash`) is a multimodal model that supports multimodal prompts. You can include text, image(s), PDFs, audio, and video in your prompt requests and get text or code responses."
   ]
  },
  {
   "cell_type": "code",
   "execution_count": 5,
   "metadata": {
    "id": "lRyTw2iPhEXG",
    "tags": []
   },
   "outputs": [],
   "source": [
    "generation_config = GenerationConfig(temperature=1.0, max_output_tokens=8192)\n",
    "safety_settings = {\n",
    "    HarmCategory.HARM_CATEGORY_DANGEROUS_CONTENT: HarmBlockThreshold.BLOCK_ONLY_HIGH\n",
    "}\n",
    "model = GenerativeModel(\n",
    "    model_name=\"gemini-1.5-flash\",\n",
    "    system_instruction=\"You are an expert in musicology and music history.\",\n",
    "    generation_config=generation_config,\n",
    "    safety_settings=safety_settings,\n",
    ")"
   ]
  },
  {
   "cell_type": "markdown",
   "metadata": {
    "id": "Wy75sLb-yjNn"
   },
   "source": [
    "## Extract Structured Metadata from Sheet Music PDF\n",
    "\n",
    "For this example, we will be using the popular classical music book [24 Italian Songs and Arias of the 17th and 18th Centuries](https://imslp.org/wiki/24_Italian_Songs_and_Arias_of_the_17th_and_18th_Centuries_(Various)), and extracting metadata about each song in the book."
   ]
  },
  {
   "cell_type": "code",
   "execution_count": 6,
   "metadata": {
    "id": "0ed417af1e5c",
    "tags": []
   },
   "outputs": [
    {
     "data": {
      "text/markdown": [
       "## Twenty-Four Italian Songs and Arias\n",
       "\n",
       "**1.  Per la gloria d'adorarvi**\n",
       "- **Composer:** Giovanni Battista Bononcini (1672-1750)\n",
       "- **Tempo Marking:** Andante = 80\n",
       "- **Composition Year:** Not Present\n",
       "- **Description:** An aria from the opera \"Griselda\"\n",
       "\n",
       "**2. Amarilli, mia bella**\n",
       "- **Composer:** Giulio Caccini (1546-1618)\n",
       "- **Tempo Marking:** Moderato affettuoso = 66\n",
       "- **Composition Year:** Not Present\n",
       "- **Description:** A Madrigal\n",
       "\n",
       "**3. Alma del core**\n",
       "- **Composer:** Antonio Caldara (1670-1736)\n",
       "- **Tempo Marking:** Tempo di Minuetto\n",
       "- **Composition Year:** Not Present\n",
       "- **Description:** An aria.\n",
       "\n",
       "**4. Comme raggio di sol**\n",
       "- **Composer:** Antonio Caldara (1670-1736)\n",
       "- **Tempo Marking:** Sostenuto = 46\n",
       "- **Composition Year:** Not Present\n",
       "- **Description:** An aria.\n",
       "\n",
       "**5. Sebben, crudele**\n",
       "- **Composer:** Antonio Caldara (1670-1736)\n",
       "- **Tempo Marking:** Allegretto grazioso = 84\n",
       "- **Composition Year:** Not Present\n",
       "- **Description:** A canzonetta.\n",
       "\n",
       "**6. Vittoria, mio core!**\n",
       "- **Composer:** Giacomo Carissimi (1605-1674)\n",
       "- **Tempo Marking:** Allegro con brio = 168\n",
       "- **Composition Year:** Not Present\n",
       "- **Description:** A cantata.\n",
       "\n",
       "**7. Danza, danza, fanciulla gentile**\n",
       "- **Composer:** Francesco Durante (1684-1755)\n",
       "- **Tempo Marking:** Allegro con spirito = 138\n",
       "- **Composition Year:** Not Present\n",
       "- **Description:** An arietta.\n",
       "\n",
       "**8. Vergin, tutto amor**\n",
       "- **Composer:** Francesco Durante (1684-1755)\n",
       "- **Tempo Marking:** Largo religioso = 40\n",
       "- **Composition Year:** Not Present\n",
       "- **Description:** A prayer.\n",
       "\n",
       "**9. Caro mio ben**\n",
       "- **Composer:** Giuseppe Giordani (Giordanello) (1744-1798)\n",
       "- **Tempo Marking:** Larghetto = 60\n",
       "- **Composition Year:** Not Present\n",
       "- **Description:** An arietta.\n",
       "\n",
       "**10. Che fiero costume**\n",
       "- **Composer:** Giovanni Legrenzi (1626-1690)\n",
       "- **Tempo Marking:** Allegretto con moto = 56\n",
       "- **Composition Year:** Not Present\n",
       "- **Description:** An arietta.\n",
       "\n",
       "**11. Pur dicesti, o bocca bella**\n",
       "- **Composer:** Antonio Lotti (1667-1740)\n",
       "- **Tempo Marking:** Allegretto grazioso = 69\n",
       "- **Composition Year:** Not Present\n",
       "- **Description:** An arietta.\n",
       "\n",
       "**12. Lasciatemi morire!**\n",
       "- **Composer:** Claudio Monteverdi (1567-1643)\n",
       "- **Tempo Marking:** Lento = 58\n",
       "- **Composition Year:** Not Present\n",
       "- **Description:** An aria from the opera \"Ariana\".\n",
       "\n",
       "**13. Nel cor più non mi sento**\n",
       "- **Composer:** Giovanni Paisiello (1740-1816)\n",
       "- **Tempo Marking:** Andantino = 58\n",
       "- **Composition Year:** Not Present\n",
       "- **Description:** An arietta.\n",
       "\n",
       "**14. Se tu m'ami, se sospiri**\n",
       "- **Composer:** Giovanni Battista Pergolesi (1710-1736)\n",
       "- **Tempo Marking:** Andantino = 58\n",
       "- **Composition Year:** Not Present\n",
       "- **Description:** An arietta.\n",
       "\n",
       "**15. Nina**\n",
       "- **Composer:** Legrenzio Vincenzo Ciampi (1719-?)\n",
       "- **Tempo Marking:** Andantino\n",
       "- **Composition Year:** Not Present\n",
       "- **Description:** A canzonetta. \n",
       "\n",
       "**16. Già il sole dal Gange**\n",
       "- **Composer:** Alessandro Scarlatti (1659-1725)\n",
       "- **Tempo Marking:** Allegro giusto = 126\n",
       "- **Composition Year:** Not Present\n",
       "- **Description:** A canzonetta.\n",
       "\n",
       "**17. O cessate di piagarmi**\n",
       "- **Composer:** Alessandro Scarlatti (1659-1725)\n",
       "- **Tempo Marking:** Andante con moto = 80\n",
       "- **Composition Year:** Not Present\n",
       "- **Description:** An arietta.\n",
       "\n",
       "**18. Se Florindo è fedele**\n",
       "- **Composer:** Alessandro Scarlatti (1659-1725)\n",
       "- **Tempo Marking:** Allegretto grazioso, moderato assai = 132\n",
       "- **Composition Year:** Not Present\n",
       "- **Description:** An arietta.\n",
       "\n",
       "**19. O del mio dolce ardor**\n",
       "- **Composer:** Christoph Willibald von Gluck (1714-1787)\n",
       "- **Tempo Marking:** Moderato = 46\n",
       "- **Composition Year:** Not Present\n",
       "- **Description:** An aria.\n",
       "\n",
       "**20. Pietà, Signore!**\n",
       "- **Composer:** Alessandro Stradella (1645?-1682)\n",
       "- **Tempo Marking:** Andantino\n",
       "- **Composition Year:** Not Present\n",
       "- **Description:** An aria.\n",
       "\n",
       "**21. Tu lo sai**\n",
       "- **Composer:** Giuseppe Torelli (1650-1703)\n",
       "- **Tempo Marking:** Andantino\n",
       "- **Composition Year:** Not Present\n",
       "- **Description:** An aria. \n"
      ],
      "text/plain": [
       "<IPython.core.display.Markdown object>"
      ]
     },
     "metadata": {},
     "output_type": "display_data"
    }
   ],
   "source": [
    "sheet_music_pdf_uri = \"gs://github-repo/use-cases/sheet-music/24ItalianSongs.pdf\"\n",
    "\n",
    "sheet_music_extraction_prompt = \"\"\"The following document is a book of sheet music. Your task is to output structured metadata about every piece of music in the document. Correct any mistakes that are in the document and fill in missing information when not present in the document.\n",
    "\n",
    "Include the following details:\n",
    "\n",
    "Title\n",
    "Composer with lifetime\n",
    "Tempo Marking\n",
    "Composition Year\n",
    "A description of the piece\n",
    "\"\"\"\n",
    "\n",
    "# Load file directly from Google Cloud Storage\n",
    "file_part = Part.from_uri(\n",
    "    uri=sheet_music_pdf_uri,\n",
    "    mime_type=\"application/pdf\",\n",
    ")\n",
    "\n",
    "# Send to Gemini\n",
    "response = model.generate_content([sheet_music_extraction_prompt, file_part])\n",
    "\n",
    "# Display results\n",
    "display(Markdown(response.text))"
   ]
  },
  {
   "cell_type": "markdown",
   "metadata": {
    "id": "29b40b5e0cb0"
   },
   "source": [
    "You can see that Gemini extracted all of the relevant fields from the document."
   ]
  },
  {
   "cell_type": "markdown",
   "metadata": {
    "id": "db3765c7645d"
   },
   "source": [
    "### Song Identification with Audio\n",
    "\n",
    "Now, let's try something more challenging, identifying a song being performed based on the sheet music. We have an audio clip of Holt Skinner performing one of the songs in the book, and we will ask Gemini to identify it based on the sheet music PDF."
   ]
  },
  {
   "cell_type": "code",
   "execution_count": 7,
   "metadata": {
    "id": "61ea3f2f1c4a",
    "tags": []
   },
   "outputs": [
    {
     "data": {
      "text/markdown": [
       "The audio clip is from the song \"Sebben, crudele\". It is the only song from the sheet music PDF that contains a section with a repeated word \"sempre\". \n"
      ],
      "text/plain": [
       "<IPython.core.display.Markdown object>"
      ]
     },
     "metadata": {},
     "output_type": "display_data"
    }
   ],
   "source": [
    "song_identification_prompt = \"\"\"Based on the sheet music PDF, what song is in the audio clip? Explain how you made the decision.\"\"\"\n",
    "\n",
    "# Load PDF file\n",
    "pdf_part = Part.from_uri(\n",
    "    uri=sheet_music_pdf_uri,\n",
    "    mime_type=\"application/pdf\",\n",
    ")\n",
    "\n",
    "audio_part = Part.from_uri(\n",
    "    uri=\"gs://github-repo/use-cases/sheet-music/24ItalianClip.mp3\",\n",
    "    mime_type=\"audio/mpeg\",\n",
    ")\n",
    "\n",
    "# Send to Gemini\n",
    "response = model.generate_content([pdf_part, audio_part, song_identification_prompt])\n",
    "\n",
    "# Display results\n",
    "display(Markdown(response.text))"
   ]
  },
  {
   "cell_type": "markdown",
   "metadata": {
    "id": "9730e8a5628b"
   },
   "source": [
    "### Edit PDF Metadata\n",
    "\n",
    "Next, we'll use the output from Gemini to edit the metadata of a PDF containing one song, which can make it easier to organize this file in sheet music applications.\n",
    "\n",
    "We'll adjust the prompt slightly and set the [`response_mime_type`](https://cloud.google.com/vertex-ai/generative-ai/docs/model-reference/gemini#:~:text=in%20the%20list.-,responseMimeType,-(Preview)) to get the response in JSON format."
   ]
  },
  {
   "cell_type": "code",
   "execution_count": 8,
   "metadata": {
    "id": "97e2a06cc762",
    "tags": []
   },
   "outputs": [
    {
     "data": {
      "text/markdown": [
       "{\"/Title\": \"Sebben, crudele\", \"/Author\": \"Antonio Caldara\", \"/Subject\": \"Canzonetta, Vocal\"}"
      ],
      "text/plain": [
       "<IPython.core.display.Markdown object>"
      ]
     },
     "metadata": {},
     "output_type": "display_data"
    }
   ],
   "source": [
    "sheet_music_pdf_uri = \"gs://github-repo/use-cases/sheet-music/SebbenCrudele.pdf\"\n",
    "\n",
    "sheet_music_extraction_prompt = \"\"\"The following document is a piece of sheet music. Your task is to output structured metadata about the piece of music in the document. Correct any mistakes that are in the document and fill in missing information when not present in the document.\n",
    "\n",
    "Output the data in the following JSON format:\n",
    "\n",
    "{\n",
    "    \"/Title\": \"Title of the piece\",\n",
    "    \"/Author\": \"Composer(s) of the piece\",\n",
    "    \"/Subject\": \"Music Genre(s) in a comma separated list\",\n",
    "}\n",
    "\n",
    "\"\"\"\n",
    "\n",
    "# Load file directly from Google Cloud Storage\n",
    "file_part = Part.from_uri(\n",
    "    uri=sheet_music_pdf_uri,\n",
    "    mime_type=\"application/pdf\",\n",
    ")\n",
    "\n",
    "generation_config = GenerationConfig(\n",
    "    temperature=1, response_mime_type=\"application/json\"\n",
    ")\n",
    "\n",
    "# Send to Gemini\n",
    "response = model.generate_content(\n",
    "    [sheet_music_extraction_prompt, file_part], generation_config=generation_config\n",
    ")\n",
    "\n",
    "# Display results\n",
    "display(Markdown(response.text))\n",
    "\n",
    "new_metadata = json.loads(response.text)"
   ]
  },
  {
   "cell_type": "markdown",
   "metadata": {
    "id": "8e997cb6affc"
   },
   "source": [
    "Next, we'll download the PDF from the GCS Bucket and edit the metadata using the [`PyPDF2`](https://pypdf2.readthedocs.io/en/3.x/) library."
   ]
  },
  {
   "cell_type": "code",
   "execution_count": 9,
   "metadata": {
    "id": "879f827c537a",
    "tags": []
   },
   "outputs": [
    {
     "name": "stdout",
     "output_type": "stream",
     "text": [
      "Copying gs://github-repo/use-cases/sheet-music/SebbenCrudele.pdf to file://./SebbenCrudele.pdf\n",
      "  Completed files 1/1 | 586.7kiB/586.7kiB                                      \n",
      "\n",
      "Average throughput: 32.7MiB/s\n"
     ]
    }
   ],
   "source": [
    "! gcloud storage cp {sheet_music_pdf_uri} ."
   ]
  },
  {
   "cell_type": "code",
   "execution_count": 10,
   "metadata": {
    "id": "e81759999d78",
    "tags": []
   },
   "outputs": [],
   "source": [
    "def edit_pdf_metadata(file_path: str, new_metadata: dict) -> None:\n",
    "    \"\"\"Edits metadata of a PDF file.\n",
    "\n",
    "    Args:\n",
    "        file_path (str): Path to the PDF file.\n",
    "        new_metadata (dict): Dictionary containing the new metadata fields and values.\n",
    "            Example: {'/Author': 'John Doe', '/Title': 'My Report'}\n",
    "    \"\"\"\n",
    "\n",
    "    with open(file_path, \"rb\") as pdf_file:\n",
    "        pdf_reader = PyPDF2.PdfReader(pdf_file)\n",
    "        pdf_writer = PyPDF2.PdfWriter()\n",
    "\n",
    "        for page_num in range(len(pdf_reader.pages)):\n",
    "            page = pdf_reader.pages[page_num]\n",
    "            pdf_writer.add_page(page)\n",
    "\n",
    "        pdf_writer.add_metadata(new_metadata)\n",
    "\n",
    "        with open(file_path, \"wb\") as out_file:\n",
    "            pdf_writer.write(out_file)\n",
    "\n",
    "\n",
    "edit_pdf_metadata(\"SebbenCrudele.pdf\", new_metadata)"
   ]
  },
  {
   "cell_type": "code",
   "execution_count": null,
   "metadata": {},
   "outputs": [],
   "source": []
  }
 ],
 "metadata": {
  "colab": {
   "name": "sheet_music.ipynb",
   "toc_visible": true
  },
  "environment": {
   "kernel": "conda-base-py",
   "name": "workbench-notebooks.m126",
   "type": "gcloud",
   "uri": "us-docker.pkg.dev/deeplearning-platform-release/gcr.io/workbench-notebooks:m126"
  },
  "kernelspec": {
   "display_name": "Python 3 (ipykernel) (Local) (Local)",
   "language": "python",
   "name": "conda-base-py"
  },
  "language_info": {
   "codemirror_mode": {
    "name": "ipython",
    "version": 3
   },
   "file_extension": ".py",
   "mimetype": "text/x-python",
   "name": "python",
   "nbconvert_exporter": "python",
   "pygments_lexer": "ipython3",
   "version": "3.10.15"
  }
 },
 "nbformat": 4,
 "nbformat_minor": 4
}
